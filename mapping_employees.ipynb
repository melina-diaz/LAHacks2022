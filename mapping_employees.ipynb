{
 "cells": [
  {
   "cell_type": "code",
   "execution_count": 59,
   "id": "17fc34ef",
   "metadata": {},
   "outputs": [],
   "source": [
    "api_key=\"INSERT API KEY HERE\"\n",
    "#above is the api key, which we won't show for security purposes"
   ]
  },
  {
   "cell_type": "code",
   "execution_count": 1,
   "id": "b29e985e",
   "metadata": {},
   "outputs": [],
   "source": [
    "\n",
    "import requests, json, time, csv\n",
    "from plotly.io import write_html\n",
    "import plotly.express as px\n",
    "import pandas as pd\n",
    "import numpy as np\n",
    "from ast import literal_eval"
   ]
  },
  {
   "cell_type": "code",
   "execution_count": 55,
   "id": "e06c772a",
   "metadata": {},
   "outputs": [],
   "source": [
    "def map(API_KEY, company_name, size):\n",
    "    \"\"\"\n",
    "    Purpose:\n",
    "    Calls API with API_KEY to return size amount of employees from company of company_name.\n",
    "    \n",
    "    Return: \n",
    "    CSV file named \"{company_name}{size}_employee.csv\" if a file of that name doesn't already exist. This is so costly\n",
    "    calls aren't repeated if we already have the dataset for them\n",
    "    A plotly plot of the addresses of employees from company_name and the company HQ address.\n",
    "    \n",
    "    Parameters: \n",
    "    API_KEY is the string of your API key with PDL\n",
    "    company_name is a string of the company's name\n",
    "    size is an int of how many employees you want retrieved max. If you want all available employees, use -1\"\"\"\n",
    "    \n",
    "    #basic test cases\n",
    "    if type(company_name) != str:\n",
    "        raise TypeError\n",
    "    if type(size) != int:\n",
    "        raise TypeError\n",
    "    if type(API_KEY) != str:\n",
    "        raise TypeError   \n",
    "    if len(API_KEY) < 5:\n",
    "        raise ValueError\n",
    "        \n",
    "    csv_filename = company_name + str(size) + \"_employees.csv\"\n",
    "    try:\n",
    "        df = pd.read_csv(csv_filename)\n",
    "    except (FileNotFoundError):\n",
    "        #the following is code from PDL's Query Builder https://www.peopledatalabs.com/main/query-builder\n",
    "        MAX_NUM_RECORDS = size\n",
    "\n",
    "    # NO CHANGES NEEDED BELOW HERE\n",
    "        PDL_URL = \"https://api.peopledatalabs.com/v5/person/search\"\n",
    "        request_header = {\n",
    "            \"Content-Type\": \"application/json\",\n",
    "            \"X-api-key\": API_KEY\n",
    "        }\n",
    "        \n",
    "        ES_QUERY = {\n",
    "            \"query\": {\n",
    "                \"bool\": {\n",
    "                    \"must\": [\n",
    "                        {\n",
    "                            \"term\": {\n",
    "                                \"job_company_name\": company_name\n",
    "                            }\n",
    "                        }\n",
    "                    ]\n",
    "                }\n",
    "            }\n",
    "        }\n",
    "\n",
    "        num_records_to_request = 100\n",
    "        params = {\n",
    "            \"dataset\": \"street_address\",\n",
    "            \"query\": json.dumps(ES_QUERY),\n",
    "            \"size\": num_records_to_request,\n",
    "            \"pretty\": True\n",
    "        }\n",
    "        \n",
    "        # Pull all results in multiple batches\n",
    "        batch = 1\n",
    "        all_records = []\n",
    "        start_time = time.time()\n",
    "        while batch == 1 or params[\"scroll_token\"]:\n",
    "            if MAX_NUM_RECORDS != -1:\n",
    "                # Update num_records_to_request\n",
    "                # Compute the number of records left to pull\n",
    "                num_records_to_request = MAX_NUM_RECORDS - len(all_records)\n",
    "                # Clamp this number between 0 and 100\n",
    "                num_records_to_request = max(0, min(num_records_to_request, 100))\n",
    "\n",
    "            if num_records_to_request == 0:\n",
    "                break\n",
    "\n",
    "            params[\"size\"] = num_records_to_request\n",
    "            response = requests.get(PDL_URL, headers=request_header, params=params).json()\n",
    "\n",
    "            if batch == 1:\n",
    "                print(f\"{response['total']} available records in this search\")\n",
    "\n",
    "            all_records.extend(response.get(\"data\", []))\n",
    "            params[\"scroll_token\"] = response.get(\"scroll_token\")\n",
    "            print(f\"Retrieved {len(response.get('data', []))} records in batch {batch}\")\n",
    "            batch += 1\n",
    "\n",
    "            if params[\"scroll_token\"]:\n",
    "                time.sleep(6)   # avoid hitting rate limit thresholds\n",
    "                \n",
    "        end_time = time.time()\n",
    "        runtime = end_time - start_time\n",
    "\n",
    "        print(f\"Successfully recovered {len(all_records)} profiles in \"\n",
    "              f\"{batch} batches [{runtime} seconds]\")\n",
    "        print(\"status:\",response[\"status\"], \"total:\",response[\"total\"])\n",
    "        #there should be a test case to check status and run an error if not 200\n",
    "        \n",
    "        def save_profiles_to_csv(profiles, filename, fields=[], delim=\",\"):\n",
    "            \"\"\"Save profiles to csv (utility function)\"\"\"\n",
    "\n",
    "            # Define header fields\n",
    "            if fields == [] and len(profiles) > 0:\n",
    "                fields = profiles[0].keys()\n",
    "\n",
    "            with open(filename, \"w\", encoding=\"utf-8\") as csvfile:\n",
    "                # Write csv file\n",
    "                writer = csv.writer(csvfile, delimiter=delim)\n",
    "\n",
    "                # Write Header:\n",
    "                writer.writerow(fields)\n",
    "\n",
    "                count = 0\n",
    "                for profile in profiles:\n",
    "                    # Write Body:\n",
    "                    writer.writerow([profile[field] for field in fields])\n",
    "                    count += 1\n",
    "                    print(f\"Wrote {count} lines to: '{filename}'\")\n",
    "        # Use utility function to save profiles to csv\n",
    "        csv_header_fields = ['job_company_location_geo', 'job_company_location_street_address',\n",
    "                                 'job_company_location_address_line_2',\n",
    "                                 'location_street_address', 'location_address_line_2', 'location_geo', 'job_title', 'education']\n",
    "        save_profiles_to_csv(all_records, csv_filename, csv_header_fields)\n",
    "        \n",
    "    df = pd.read_csv(csv_filename)\n",
    "    #turns education array string into array. Extracts school\n",
    "    df[\"education1\"]=df[\"education\"].apply(literal_eval)\n",
    "    def get_school(x):\n",
    "        try:\n",
    "            return x[-1]['school']['name']\n",
    "        except:\n",
    "            return 'null'\n",
    "    df[\"school\"]=df['education1'].apply(get_school)\n",
    "    df = df[df['location_geo'].notnull()]\n",
    "    df['lat'] = df['location_geo'].apply(lambda s: float(s.split(',')[0]))\n",
    "    df['lon'] = df['location_geo'].apply(lambda s: float(s.split(',')[1]))\n",
    "    company_lat=float(df[\"job_company_location_geo\"][0].split(',')[0])\n",
    "    company_lon=float(df[\"job_company_location_geo\"][0].split(',')[1])\n",
    "    company=pd.DataFrame(np.array([[company_lat, company_lon]]), columns=['lat', 'lon'])\n",
    "    # used Mapbox for map with streets\n",
    "    token_name = 'pk.eyJ1IjoidHJhY3ljaGFybGVzMTA4IiwiYSI6ImNsMjJmdmUzajFmeXcza3BkOXgwOWZoNW4ifQ.bFv6klpNU8XWRbEJ0zk1Dw'\n",
    "    px.set_mapbox_access_token(token_name)\n",
    "    fig = px.density_mapbox(df, lat = 'lat', lon = 'lon', zoom=3, mapbox_style='carto-positron', radius = 10, hover_data=['job_title', \"school\"], color_continuous_scale = 'viridis')\n",
    "    fig.add_densitymapbox(lat = [company_lat], lon = [company_lon], colorscale = 'Reds', radius = 15, hovertext = 'company HQ')  \n",
    "\n",
    "    fig.update_layout(margin={\"r\":0, \"t\":0, \"l\":0, \"b\":0})\n",
    "    fig.show()\n",
    "    write_html(fig, company_name + '_employees.html')"
   ]
  },
  {
   "cell_type": "code",
   "execution_count": 68,
   "id": "b8c5dd6d",
   "metadata": {},
   "outputs": [
    {
     "name": "stdout",
     "output_type": "stream",
     "text": [
      "401 available records in this search\n",
      "Retrieved 100 records in batch 1\n",
      "Retrieved 100 records in batch 2\n",
      "Retrieved 100 records in batch 3\n",
      "Retrieved 100 records in batch 4\n",
      "Retrieved 1 records in batch 5\n",
      "Retrieved 0 records in batch 6\n",
      "Successfully recovered 401 profiles in 7 batches [40.91098380088806 seconds]\n",
      "status: 404 total: 401\n",
      "Wrote 1 lines to: 'twitch-1_employees.csv'\n",
      "Wrote 2 lines to: 'twitch-1_employees.csv'\n",
      "Wrote 3 lines to: 'twitch-1_employees.csv'\n",
      "Wrote 4 lines to: 'twitch-1_employees.csv'\n",
      "Wrote 5 lines to: 'twitch-1_employees.csv'\n",
      "Wrote 6 lines to: 'twitch-1_employees.csv'\n",
      "Wrote 7 lines to: 'twitch-1_employees.csv'\n",
      "Wrote 8 lines to: 'twitch-1_employees.csv'\n",
      "Wrote 9 lines to: 'twitch-1_employees.csv'\n",
      "Wrote 10 lines to: 'twitch-1_employees.csv'\n",
      "Wrote 11 lines to: 'twitch-1_employees.csv'\n",
      "Wrote 12 lines to: 'twitch-1_employees.csv'\n",
      "Wrote 13 lines to: 'twitch-1_employees.csv'\n",
      "Wrote 14 lines to: 'twitch-1_employees.csv'\n",
      "Wrote 15 lines to: 'twitch-1_employees.csv'\n",
      "Wrote 16 lines to: 'twitch-1_employees.csv'\n",
      "Wrote 17 lines to: 'twitch-1_employees.csv'\n",
      "Wrote 18 lines to: 'twitch-1_employees.csv'\n",
      "Wrote 19 lines to: 'twitch-1_employees.csv'\n",
      "Wrote 20 lines to: 'twitch-1_employees.csv'\n",
      "Wrote 21 lines to: 'twitch-1_employees.csv'\n",
      "Wrote 22 lines to: 'twitch-1_employees.csv'\n",
      "Wrote 23 lines to: 'twitch-1_employees.csv'\n",
      "Wrote 24 lines to: 'twitch-1_employees.csv'\n",
      "Wrote 25 lines to: 'twitch-1_employees.csv'\n",
      "Wrote 26 lines to: 'twitch-1_employees.csv'\n",
      "Wrote 27 lines to: 'twitch-1_employees.csv'\n",
      "Wrote 28 lines to: 'twitch-1_employees.csv'\n",
      "Wrote 29 lines to: 'twitch-1_employees.csv'\n",
      "Wrote 30 lines to: 'twitch-1_employees.csv'\n",
      "Wrote 31 lines to: 'twitch-1_employees.csv'\n",
      "Wrote 32 lines to: 'twitch-1_employees.csv'\n",
      "Wrote 33 lines to: 'twitch-1_employees.csv'\n",
      "Wrote 34 lines to: 'twitch-1_employees.csv'\n",
      "Wrote 35 lines to: 'twitch-1_employees.csv'\n",
      "Wrote 36 lines to: 'twitch-1_employees.csv'\n",
      "Wrote 37 lines to: 'twitch-1_employees.csv'\n",
      "Wrote 38 lines to: 'twitch-1_employees.csv'\n",
      "Wrote 39 lines to: 'twitch-1_employees.csv'\n",
      "Wrote 40 lines to: 'twitch-1_employees.csv'\n",
      "Wrote 41 lines to: 'twitch-1_employees.csv'\n",
      "Wrote 42 lines to: 'twitch-1_employees.csv'\n",
      "Wrote 43 lines to: 'twitch-1_employees.csv'\n",
      "Wrote 44 lines to: 'twitch-1_employees.csv'\n",
      "Wrote 45 lines to: 'twitch-1_employees.csv'\n",
      "Wrote 46 lines to: 'twitch-1_employees.csv'\n",
      "Wrote 47 lines to: 'twitch-1_employees.csv'\n",
      "Wrote 48 lines to: 'twitch-1_employees.csv'\n",
      "Wrote 49 lines to: 'twitch-1_employees.csv'\n",
      "Wrote 50 lines to: 'twitch-1_employees.csv'\n",
      "Wrote 51 lines to: 'twitch-1_employees.csv'\n",
      "Wrote 52 lines to: 'twitch-1_employees.csv'\n",
      "Wrote 53 lines to: 'twitch-1_employees.csv'\n",
      "Wrote 54 lines to: 'twitch-1_employees.csv'\n",
      "Wrote 55 lines to: 'twitch-1_employees.csv'\n",
      "Wrote 56 lines to: 'twitch-1_employees.csv'\n",
      "Wrote 57 lines to: 'twitch-1_employees.csv'\n",
      "Wrote 58 lines to: 'twitch-1_employees.csv'\n",
      "Wrote 59 lines to: 'twitch-1_employees.csv'\n",
      "Wrote 60 lines to: 'twitch-1_employees.csv'\n",
      "Wrote 61 lines to: 'twitch-1_employees.csv'\n",
      "Wrote 62 lines to: 'twitch-1_employees.csv'\n",
      "Wrote 63 lines to: 'twitch-1_employees.csv'\n",
      "Wrote 64 lines to: 'twitch-1_employees.csv'\n",
      "Wrote 65 lines to: 'twitch-1_employees.csv'\n",
      "Wrote 66 lines to: 'twitch-1_employees.csv'\n",
      "Wrote 67 lines to: 'twitch-1_employees.csv'\n",
      "Wrote 68 lines to: 'twitch-1_employees.csv'\n",
      "Wrote 69 lines to: 'twitch-1_employees.csv'\n",
      "Wrote 70 lines to: 'twitch-1_employees.csv'\n",
      "Wrote 71 lines to: 'twitch-1_employees.csv'\n",
      "Wrote 72 lines to: 'twitch-1_employees.csv'\n",
      "Wrote 73 lines to: 'twitch-1_employees.csv'\n",
      "Wrote 74 lines to: 'twitch-1_employees.csv'\n",
      "Wrote 75 lines to: 'twitch-1_employees.csv'\n",
      "Wrote 76 lines to: 'twitch-1_employees.csv'\n",
      "Wrote 77 lines to: 'twitch-1_employees.csv'\n",
      "Wrote 78 lines to: 'twitch-1_employees.csv'\n",
      "Wrote 79 lines to: 'twitch-1_employees.csv'\n",
      "Wrote 80 lines to: 'twitch-1_employees.csv'\n",
      "Wrote 81 lines to: 'twitch-1_employees.csv'\n",
      "Wrote 82 lines to: 'twitch-1_employees.csv'\n",
      "Wrote 83 lines to: 'twitch-1_employees.csv'\n",
      "Wrote 84 lines to: 'twitch-1_employees.csv'\n",
      "Wrote 85 lines to: 'twitch-1_employees.csv'\n",
      "Wrote 86 lines to: 'twitch-1_employees.csv'\n",
      "Wrote 87 lines to: 'twitch-1_employees.csv'\n",
      "Wrote 88 lines to: 'twitch-1_employees.csv'\n",
      "Wrote 89 lines to: 'twitch-1_employees.csv'\n",
      "Wrote 90 lines to: 'twitch-1_employees.csv'\n",
      "Wrote 91 lines to: 'twitch-1_employees.csv'\n",
      "Wrote 92 lines to: 'twitch-1_employees.csv'\n",
      "Wrote 93 lines to: 'twitch-1_employees.csv'\n",
      "Wrote 94 lines to: 'twitch-1_employees.csv'\n",
      "Wrote 95 lines to: 'twitch-1_employees.csv'\n",
      "Wrote 96 lines to: 'twitch-1_employees.csv'\n",
      "Wrote 97 lines to: 'twitch-1_employees.csv'\n",
      "Wrote 98 lines to: 'twitch-1_employees.csv'\n",
      "Wrote 99 lines to: 'twitch-1_employees.csv'\n",
      "Wrote 100 lines to: 'twitch-1_employees.csv'\n",
      "Wrote 101 lines to: 'twitch-1_employees.csv'\n",
      "Wrote 102 lines to: 'twitch-1_employees.csv'\n",
      "Wrote 103 lines to: 'twitch-1_employees.csv'\n",
      "Wrote 104 lines to: 'twitch-1_employees.csv'\n",
      "Wrote 105 lines to: 'twitch-1_employees.csv'\n",
      "Wrote 106 lines to: 'twitch-1_employees.csv'\n",
      "Wrote 107 lines to: 'twitch-1_employees.csv'\n",
      "Wrote 108 lines to: 'twitch-1_employees.csv'\n",
      "Wrote 109 lines to: 'twitch-1_employees.csv'\n",
      "Wrote 110 lines to: 'twitch-1_employees.csv'\n",
      "Wrote 111 lines to: 'twitch-1_employees.csv'\n",
      "Wrote 112 lines to: 'twitch-1_employees.csv'\n",
      "Wrote 113 lines to: 'twitch-1_employees.csv'\n",
      "Wrote 114 lines to: 'twitch-1_employees.csv'\n",
      "Wrote 115 lines to: 'twitch-1_employees.csv'\n",
      "Wrote 116 lines to: 'twitch-1_employees.csv'\n",
      "Wrote 117 lines to: 'twitch-1_employees.csv'\n",
      "Wrote 118 lines to: 'twitch-1_employees.csv'\n",
      "Wrote 119 lines to: 'twitch-1_employees.csv'\n",
      "Wrote 120 lines to: 'twitch-1_employees.csv'\n",
      "Wrote 121 lines to: 'twitch-1_employees.csv'\n",
      "Wrote 122 lines to: 'twitch-1_employees.csv'\n",
      "Wrote 123 lines to: 'twitch-1_employees.csv'\n",
      "Wrote 124 lines to: 'twitch-1_employees.csv'\n",
      "Wrote 125 lines to: 'twitch-1_employees.csv'\n",
      "Wrote 126 lines to: 'twitch-1_employees.csv'\n",
      "Wrote 127 lines to: 'twitch-1_employees.csv'\n",
      "Wrote 128 lines to: 'twitch-1_employees.csv'\n",
      "Wrote 129 lines to: 'twitch-1_employees.csv'\n",
      "Wrote 130 lines to: 'twitch-1_employees.csv'\n",
      "Wrote 131 lines to: 'twitch-1_employees.csv'\n",
      "Wrote 132 lines to: 'twitch-1_employees.csv'\n",
      "Wrote 133 lines to: 'twitch-1_employees.csv'\n",
      "Wrote 134 lines to: 'twitch-1_employees.csv'\n",
      "Wrote 135 lines to: 'twitch-1_employees.csv'\n",
      "Wrote 136 lines to: 'twitch-1_employees.csv'\n",
      "Wrote 137 lines to: 'twitch-1_employees.csv'\n",
      "Wrote 138 lines to: 'twitch-1_employees.csv'\n",
      "Wrote 139 lines to: 'twitch-1_employees.csv'\n",
      "Wrote 140 lines to: 'twitch-1_employees.csv'\n",
      "Wrote 141 lines to: 'twitch-1_employees.csv'\n",
      "Wrote 142 lines to: 'twitch-1_employees.csv'\n",
      "Wrote 143 lines to: 'twitch-1_employees.csv'\n",
      "Wrote 144 lines to: 'twitch-1_employees.csv'\n",
      "Wrote 145 lines to: 'twitch-1_employees.csv'\n",
      "Wrote 146 lines to: 'twitch-1_employees.csv'\n",
      "Wrote 147 lines to: 'twitch-1_employees.csv'\n",
      "Wrote 148 lines to: 'twitch-1_employees.csv'\n",
      "Wrote 149 lines to: 'twitch-1_employees.csv'\n",
      "Wrote 150 lines to: 'twitch-1_employees.csv'\n",
      "Wrote 151 lines to: 'twitch-1_employees.csv'\n",
      "Wrote 152 lines to: 'twitch-1_employees.csv'\n",
      "Wrote 153 lines to: 'twitch-1_employees.csv'\n",
      "Wrote 154 lines to: 'twitch-1_employees.csv'\n",
      "Wrote 155 lines to: 'twitch-1_employees.csv'\n",
      "Wrote 156 lines to: 'twitch-1_employees.csv'\n",
      "Wrote 157 lines to: 'twitch-1_employees.csv'\n",
      "Wrote 158 lines to: 'twitch-1_employees.csv'\n",
      "Wrote 159 lines to: 'twitch-1_employees.csv'\n",
      "Wrote 160 lines to: 'twitch-1_employees.csv'\n",
      "Wrote 161 lines to: 'twitch-1_employees.csv'\n",
      "Wrote 162 lines to: 'twitch-1_employees.csv'\n",
      "Wrote 163 lines to: 'twitch-1_employees.csv'\n",
      "Wrote 164 lines to: 'twitch-1_employees.csv'\n",
      "Wrote 165 lines to: 'twitch-1_employees.csv'\n",
      "Wrote 166 lines to: 'twitch-1_employees.csv'\n",
      "Wrote 167 lines to: 'twitch-1_employees.csv'\n",
      "Wrote 168 lines to: 'twitch-1_employees.csv'\n",
      "Wrote 169 lines to: 'twitch-1_employees.csv'\n",
      "Wrote 170 lines to: 'twitch-1_employees.csv'\n",
      "Wrote 171 lines to: 'twitch-1_employees.csv'\n",
      "Wrote 172 lines to: 'twitch-1_employees.csv'\n",
      "Wrote 173 lines to: 'twitch-1_employees.csv'\n",
      "Wrote 174 lines to: 'twitch-1_employees.csv'\n",
      "Wrote 175 lines to: 'twitch-1_employees.csv'\n",
      "Wrote 176 lines to: 'twitch-1_employees.csv'\n",
      "Wrote 177 lines to: 'twitch-1_employees.csv'\n",
      "Wrote 178 lines to: 'twitch-1_employees.csv'\n",
      "Wrote 179 lines to: 'twitch-1_employees.csv'\n",
      "Wrote 180 lines to: 'twitch-1_employees.csv'\n",
      "Wrote 181 lines to: 'twitch-1_employees.csv'\n",
      "Wrote 182 lines to: 'twitch-1_employees.csv'\n",
      "Wrote 183 lines to: 'twitch-1_employees.csv'\n",
      "Wrote 184 lines to: 'twitch-1_employees.csv'\n",
      "Wrote 185 lines to: 'twitch-1_employees.csv'\n",
      "Wrote 186 lines to: 'twitch-1_employees.csv'\n",
      "Wrote 187 lines to: 'twitch-1_employees.csv'\n",
      "Wrote 188 lines to: 'twitch-1_employees.csv'\n",
      "Wrote 189 lines to: 'twitch-1_employees.csv'\n",
      "Wrote 190 lines to: 'twitch-1_employees.csv'\n",
      "Wrote 191 lines to: 'twitch-1_employees.csv'\n",
      "Wrote 192 lines to: 'twitch-1_employees.csv'\n",
      "Wrote 193 lines to: 'twitch-1_employees.csv'\n",
      "Wrote 194 lines to: 'twitch-1_employees.csv'\n",
      "Wrote 195 lines to: 'twitch-1_employees.csv'\n",
      "Wrote 196 lines to: 'twitch-1_employees.csv'\n",
      "Wrote 197 lines to: 'twitch-1_employees.csv'\n",
      "Wrote 198 lines to: 'twitch-1_employees.csv'\n",
      "Wrote 199 lines to: 'twitch-1_employees.csv'\n",
      "Wrote 200 lines to: 'twitch-1_employees.csv'\n",
      "Wrote 201 lines to: 'twitch-1_employees.csv'\n",
      "Wrote 202 lines to: 'twitch-1_employees.csv'\n",
      "Wrote 203 lines to: 'twitch-1_employees.csv'\n",
      "Wrote 204 lines to: 'twitch-1_employees.csv'\n",
      "Wrote 205 lines to: 'twitch-1_employees.csv'\n",
      "Wrote 206 lines to: 'twitch-1_employees.csv'\n",
      "Wrote 207 lines to: 'twitch-1_employees.csv'\n",
      "Wrote 208 lines to: 'twitch-1_employees.csv'\n",
      "Wrote 209 lines to: 'twitch-1_employees.csv'\n",
      "Wrote 210 lines to: 'twitch-1_employees.csv'\n",
      "Wrote 211 lines to: 'twitch-1_employees.csv'\n",
      "Wrote 212 lines to: 'twitch-1_employees.csv'\n",
      "Wrote 213 lines to: 'twitch-1_employees.csv'\n",
      "Wrote 214 lines to: 'twitch-1_employees.csv'\n",
      "Wrote 215 lines to: 'twitch-1_employees.csv'\n",
      "Wrote 216 lines to: 'twitch-1_employees.csv'\n",
      "Wrote 217 lines to: 'twitch-1_employees.csv'\n",
      "Wrote 218 lines to: 'twitch-1_employees.csv'\n",
      "Wrote 219 lines to: 'twitch-1_employees.csv'\n",
      "Wrote 220 lines to: 'twitch-1_employees.csv'\n",
      "Wrote 221 lines to: 'twitch-1_employees.csv'\n",
      "Wrote 222 lines to: 'twitch-1_employees.csv'\n",
      "Wrote 223 lines to: 'twitch-1_employees.csv'\n",
      "Wrote 224 lines to: 'twitch-1_employees.csv'\n",
      "Wrote 225 lines to: 'twitch-1_employees.csv'\n",
      "Wrote 226 lines to: 'twitch-1_employees.csv'\n",
      "Wrote 227 lines to: 'twitch-1_employees.csv'\n",
      "Wrote 228 lines to: 'twitch-1_employees.csv'\n",
      "Wrote 229 lines to: 'twitch-1_employees.csv'\n",
      "Wrote 230 lines to: 'twitch-1_employees.csv'\n",
      "Wrote 231 lines to: 'twitch-1_employees.csv'\n",
      "Wrote 232 lines to: 'twitch-1_employees.csv'\n",
      "Wrote 233 lines to: 'twitch-1_employees.csv'\n",
      "Wrote 234 lines to: 'twitch-1_employees.csv'\n",
      "Wrote 235 lines to: 'twitch-1_employees.csv'\n",
      "Wrote 236 lines to: 'twitch-1_employees.csv'\n",
      "Wrote 237 lines to: 'twitch-1_employees.csv'\n",
      "Wrote 238 lines to: 'twitch-1_employees.csv'\n",
      "Wrote 239 lines to: 'twitch-1_employees.csv'\n",
      "Wrote 240 lines to: 'twitch-1_employees.csv'\n",
      "Wrote 241 lines to: 'twitch-1_employees.csv'\n",
      "Wrote 242 lines to: 'twitch-1_employees.csv'\n",
      "Wrote 243 lines to: 'twitch-1_employees.csv'\n",
      "Wrote 244 lines to: 'twitch-1_employees.csv'\n",
      "Wrote 245 lines to: 'twitch-1_employees.csv'\n",
      "Wrote 246 lines to: 'twitch-1_employees.csv'\n",
      "Wrote 247 lines to: 'twitch-1_employees.csv'\n",
      "Wrote 248 lines to: 'twitch-1_employees.csv'\n",
      "Wrote 249 lines to: 'twitch-1_employees.csv'\n",
      "Wrote 250 lines to: 'twitch-1_employees.csv'\n",
      "Wrote 251 lines to: 'twitch-1_employees.csv'\n",
      "Wrote 252 lines to: 'twitch-1_employees.csv'\n",
      "Wrote 253 lines to: 'twitch-1_employees.csv'\n",
      "Wrote 254 lines to: 'twitch-1_employees.csv'\n",
      "Wrote 255 lines to: 'twitch-1_employees.csv'\n",
      "Wrote 256 lines to: 'twitch-1_employees.csv'\n",
      "Wrote 257 lines to: 'twitch-1_employees.csv'\n",
      "Wrote 258 lines to: 'twitch-1_employees.csv'\n",
      "Wrote 259 lines to: 'twitch-1_employees.csv'\n",
      "Wrote 260 lines to: 'twitch-1_employees.csv'\n",
      "Wrote 261 lines to: 'twitch-1_employees.csv'\n",
      "Wrote 262 lines to: 'twitch-1_employees.csv'\n",
      "Wrote 263 lines to: 'twitch-1_employees.csv'\n",
      "Wrote 264 lines to: 'twitch-1_employees.csv'\n",
      "Wrote 265 lines to: 'twitch-1_employees.csv'\n",
      "Wrote 266 lines to: 'twitch-1_employees.csv'\n",
      "Wrote 267 lines to: 'twitch-1_employees.csv'\n",
      "Wrote 268 lines to: 'twitch-1_employees.csv'\n",
      "Wrote 269 lines to: 'twitch-1_employees.csv'\n",
      "Wrote 270 lines to: 'twitch-1_employees.csv'\n",
      "Wrote 271 lines to: 'twitch-1_employees.csv'\n",
      "Wrote 272 lines to: 'twitch-1_employees.csv'\n",
      "Wrote 273 lines to: 'twitch-1_employees.csv'\n",
      "Wrote 274 lines to: 'twitch-1_employees.csv'\n",
      "Wrote 275 lines to: 'twitch-1_employees.csv'\n",
      "Wrote 276 lines to: 'twitch-1_employees.csv'\n",
      "Wrote 277 lines to: 'twitch-1_employees.csv'\n",
      "Wrote 278 lines to: 'twitch-1_employees.csv'\n",
      "Wrote 279 lines to: 'twitch-1_employees.csv'\n",
      "Wrote 280 lines to: 'twitch-1_employees.csv'\n",
      "Wrote 281 lines to: 'twitch-1_employees.csv'\n",
      "Wrote 282 lines to: 'twitch-1_employees.csv'\n",
      "Wrote 283 lines to: 'twitch-1_employees.csv'\n",
      "Wrote 284 lines to: 'twitch-1_employees.csv'\n",
      "Wrote 285 lines to: 'twitch-1_employees.csv'\n",
      "Wrote 286 lines to: 'twitch-1_employees.csv'\n",
      "Wrote 287 lines to: 'twitch-1_employees.csv'\n",
      "Wrote 288 lines to: 'twitch-1_employees.csv'\n",
      "Wrote 289 lines to: 'twitch-1_employees.csv'\n",
      "Wrote 290 lines to: 'twitch-1_employees.csv'\n",
      "Wrote 291 lines to: 'twitch-1_employees.csv'\n",
      "Wrote 292 lines to: 'twitch-1_employees.csv'\n",
      "Wrote 293 lines to: 'twitch-1_employees.csv'\n",
      "Wrote 294 lines to: 'twitch-1_employees.csv'\n",
      "Wrote 295 lines to: 'twitch-1_employees.csv'\n",
      "Wrote 296 lines to: 'twitch-1_employees.csv'\n",
      "Wrote 297 lines to: 'twitch-1_employees.csv'\n",
      "Wrote 298 lines to: 'twitch-1_employees.csv'\n",
      "Wrote 299 lines to: 'twitch-1_employees.csv'\n",
      "Wrote 300 lines to: 'twitch-1_employees.csv'\n",
      "Wrote 301 lines to: 'twitch-1_employees.csv'\n",
      "Wrote 302 lines to: 'twitch-1_employees.csv'\n",
      "Wrote 303 lines to: 'twitch-1_employees.csv'\n",
      "Wrote 304 lines to: 'twitch-1_employees.csv'\n",
      "Wrote 305 lines to: 'twitch-1_employees.csv'\n",
      "Wrote 306 lines to: 'twitch-1_employees.csv'\n",
      "Wrote 307 lines to: 'twitch-1_employees.csv'\n",
      "Wrote 308 lines to: 'twitch-1_employees.csv'\n",
      "Wrote 309 lines to: 'twitch-1_employees.csv'\n",
      "Wrote 310 lines to: 'twitch-1_employees.csv'\n",
      "Wrote 311 lines to: 'twitch-1_employees.csv'\n",
      "Wrote 312 lines to: 'twitch-1_employees.csv'\n",
      "Wrote 313 lines to: 'twitch-1_employees.csv'\n",
      "Wrote 314 lines to: 'twitch-1_employees.csv'\n",
      "Wrote 315 lines to: 'twitch-1_employees.csv'\n",
      "Wrote 316 lines to: 'twitch-1_employees.csv'\n",
      "Wrote 317 lines to: 'twitch-1_employees.csv'\n",
      "Wrote 318 lines to: 'twitch-1_employees.csv'\n",
      "Wrote 319 lines to: 'twitch-1_employees.csv'\n",
      "Wrote 320 lines to: 'twitch-1_employees.csv'\n",
      "Wrote 321 lines to: 'twitch-1_employees.csv'\n",
      "Wrote 322 lines to: 'twitch-1_employees.csv'\n",
      "Wrote 323 lines to: 'twitch-1_employees.csv'\n",
      "Wrote 324 lines to: 'twitch-1_employees.csv'\n",
      "Wrote 325 lines to: 'twitch-1_employees.csv'\n",
      "Wrote 326 lines to: 'twitch-1_employees.csv'\n",
      "Wrote 327 lines to: 'twitch-1_employees.csv'\n",
      "Wrote 328 lines to: 'twitch-1_employees.csv'\n",
      "Wrote 329 lines to: 'twitch-1_employees.csv'\n",
      "Wrote 330 lines to: 'twitch-1_employees.csv'\n",
      "Wrote 331 lines to: 'twitch-1_employees.csv'\n",
      "Wrote 332 lines to: 'twitch-1_employees.csv'\n",
      "Wrote 333 lines to: 'twitch-1_employees.csv'\n",
      "Wrote 334 lines to: 'twitch-1_employees.csv'\n",
      "Wrote 335 lines to: 'twitch-1_employees.csv'\n",
      "Wrote 336 lines to: 'twitch-1_employees.csv'\n",
      "Wrote 337 lines to: 'twitch-1_employees.csv'\n",
      "Wrote 338 lines to: 'twitch-1_employees.csv'\n",
      "Wrote 339 lines to: 'twitch-1_employees.csv'\n",
      "Wrote 340 lines to: 'twitch-1_employees.csv'\n",
      "Wrote 341 lines to: 'twitch-1_employees.csv'\n",
      "Wrote 342 lines to: 'twitch-1_employees.csv'\n",
      "Wrote 343 lines to: 'twitch-1_employees.csv'\n",
      "Wrote 344 lines to: 'twitch-1_employees.csv'\n",
      "Wrote 345 lines to: 'twitch-1_employees.csv'\n",
      "Wrote 346 lines to: 'twitch-1_employees.csv'\n",
      "Wrote 347 lines to: 'twitch-1_employees.csv'\n",
      "Wrote 348 lines to: 'twitch-1_employees.csv'\n",
      "Wrote 349 lines to: 'twitch-1_employees.csv'\n",
      "Wrote 350 lines to: 'twitch-1_employees.csv'\n",
      "Wrote 351 lines to: 'twitch-1_employees.csv'\n",
      "Wrote 352 lines to: 'twitch-1_employees.csv'\n",
      "Wrote 353 lines to: 'twitch-1_employees.csv'\n",
      "Wrote 354 lines to: 'twitch-1_employees.csv'\n",
      "Wrote 355 lines to: 'twitch-1_employees.csv'\n",
      "Wrote 356 lines to: 'twitch-1_employees.csv'\n",
      "Wrote 357 lines to: 'twitch-1_employees.csv'\n",
      "Wrote 358 lines to: 'twitch-1_employees.csv'\n",
      "Wrote 359 lines to: 'twitch-1_employees.csv'\n",
      "Wrote 360 lines to: 'twitch-1_employees.csv'\n",
      "Wrote 361 lines to: 'twitch-1_employees.csv'\n",
      "Wrote 362 lines to: 'twitch-1_employees.csv'\n",
      "Wrote 363 lines to: 'twitch-1_employees.csv'\n",
      "Wrote 364 lines to: 'twitch-1_employees.csv'\n",
      "Wrote 365 lines to: 'twitch-1_employees.csv'\n",
      "Wrote 366 lines to: 'twitch-1_employees.csv'\n",
      "Wrote 367 lines to: 'twitch-1_employees.csv'\n",
      "Wrote 368 lines to: 'twitch-1_employees.csv'\n",
      "Wrote 369 lines to: 'twitch-1_employees.csv'\n",
      "Wrote 370 lines to: 'twitch-1_employees.csv'\n",
      "Wrote 371 lines to: 'twitch-1_employees.csv'\n",
      "Wrote 372 lines to: 'twitch-1_employees.csv'\n",
      "Wrote 373 lines to: 'twitch-1_employees.csv'\n",
      "Wrote 374 lines to: 'twitch-1_employees.csv'\n",
      "Wrote 375 lines to: 'twitch-1_employees.csv'\n",
      "Wrote 376 lines to: 'twitch-1_employees.csv'\n",
      "Wrote 377 lines to: 'twitch-1_employees.csv'\n",
      "Wrote 378 lines to: 'twitch-1_employees.csv'\n",
      "Wrote 379 lines to: 'twitch-1_employees.csv'\n",
      "Wrote 380 lines to: 'twitch-1_employees.csv'\n",
      "Wrote 381 lines to: 'twitch-1_employees.csv'\n",
      "Wrote 382 lines to: 'twitch-1_employees.csv'\n",
      "Wrote 383 lines to: 'twitch-1_employees.csv'\n",
      "Wrote 384 lines to: 'twitch-1_employees.csv'\n",
      "Wrote 385 lines to: 'twitch-1_employees.csv'\n",
      "Wrote 386 lines to: 'twitch-1_employees.csv'\n",
      "Wrote 387 lines to: 'twitch-1_employees.csv'\n",
      "Wrote 388 lines to: 'twitch-1_employees.csv'\n",
      "Wrote 389 lines to: 'twitch-1_employees.csv'\n",
      "Wrote 390 lines to: 'twitch-1_employees.csv'\n",
      "Wrote 391 lines to: 'twitch-1_employees.csv'\n",
      "Wrote 392 lines to: 'twitch-1_employees.csv'\n",
      "Wrote 393 lines to: 'twitch-1_employees.csv'\n",
      "Wrote 394 lines to: 'twitch-1_employees.csv'\n",
      "Wrote 395 lines to: 'twitch-1_employees.csv'\n",
      "Wrote 396 lines to: 'twitch-1_employees.csv'\n",
      "Wrote 397 lines to: 'twitch-1_employees.csv'\n",
      "Wrote 398 lines to: 'twitch-1_employees.csv'\n",
      "Wrote 399 lines to: 'twitch-1_employees.csv'\n",
      "Wrote 400 lines to: 'twitch-1_employees.csv'\n",
      "Wrote 401 lines to: 'twitch-1_employees.csv'\n"
     ]
    },
    {
     "data": {
      "application/vnd.plotly.v1+json": {
       "config": {
        "plotlyServerURL": "https://plot.ly"
       },
       "data": [
        {
         "coloraxis": "coloraxis",
         "customdata": [
          [
           "event director",
           "palomar college"
          ],
          [
           "sales development manager",
           "the university of michigan: class of 2011"
          ],
          [
           "principal software engineer",
           "louisiana state university"
          ],
          [
           "vice president, research and data",
           "franklin w. olin college of engineering"
          ],
          [
           "technical operations lead, adops",
           "tufts university"
          ],
          [
           "birds",
           "north central state college"
          ],
          [
           "partner",
           "appleton east high school"
          ],
          [
           "director of localization",
           "université de provence"
          ],
          [
           "lead automation engineer",
           "southern polytechnic state university"
          ],
          [
           "program manager, ad products",
           "university of california, santa cruz"
          ],
          [
           "senior network capacity engineer",
           "tennessee technological university"
          ],
          [
           "director of engineering, browser clients",
           "san diego state university"
          ],
          [
           "lead web platform engineer",
           "university of alberta"
          ],
          [
           "head of commerce machine learning",
           "university of wisconsin - madison"
          ],
          [
           "senior software engineer",
           "lev academic center (jct) (jerusalem college of technology )"
          ],
          [
           "engineering manager @ twitch",
           "university of illinois at urbana - champaign"
          ],
          [
           "senior engineering manager",
           "michigan state university"
          ],
          [
           "senior vice president, revenue",
           "university of hawai‘i - shidler college of business"
          ],
          [
           "creative director",
           "syracuse university"
          ],
          [
           "director, advanced media services",
           "towson university"
          ],
          [
           "senior program manager - monetization strategy and operations",
           "boston university"
          ],
          [
           "campaign manager",
           "university of california, los angeles"
          ],
          [
           "senior devops engineer",
           "texas state university"
          ],
          [
           "qa analyst",
           "san lorenzo high school"
          ],
          [
           "senior technical program manager",
           "uc irvine"
          ],
          [
           "senior director, global head of strategic programs and culture",
           "howard university"
          ],
          [
           "lead software engineer",
           "california polytechnic state university - san luis obispo"
          ],
          [
           "vice president of communications @ twitch",
           "university of florida"
          ],
          [
           "vice president, strategy and analytics",
           "duke university"
          ],
          [
           "senior manager, early career talent",
           "colby college"
          ],
          [
           "senior applied scientist",
           "university of california, berkeley"
          ],
          [
           "salesforce administrator",
           "hunter college"
          ],
          [
           "director business strategy",
           "unm anderson school of management"
          ],
          [
           "independent affiliate",
           "century college"
          ],
          [
           "senior software engineer",
           "university of nebraska - lincoln"
          ],
          [
           "senior product manager, technical",
           "the university of georgia"
          ],
          [
           "president twitch interactive, leading product, engineering and go to market functions",
           "duke university"
          ],
          [
           "software engineering manager",
           "university of california, berkeley"
          ],
          [
           "director of technical program management",
           "trinity university"
          ],
          [
           "senior people business partner",
           "the university of texas at austin"
          ],
          [
           "senior software engineer",
           "indiana university–purdue university indianapolis"
          ],
          [
           "senior label relations lead",
           "drexel university"
          ],
          [
           "head of music product marketing",
           "miami university"
          ],
          [
           "recruiting manager",
           "santa clara university"
          ],
          [
           "senior software engineer",
           "uc irvine"
          ],
          [
           "developer advocacy lead",
           "the college of new jersey"
          ],
          [
           "senior manager",
           "washington state university"
          ],
          [
           "engineering manager",
           "carnegie mellon university"
          ],
          [
           "broadcast production manager",
           "university of central florida"
          ],
          [
           "senior software development engineer",
           "california state university, northridge"
          ],
          [
           "senior data scientist, analytics",
           "university of california, berkeley"
          ],
          [
           "director, original content business operations",
           "uc santa barbara"
          ],
          [
           "ios engineer",
           "uc san diego"
          ],
          [
           "director of creator development",
           "millard north high school"
          ],
          [
           "full time streamer",
           "ball state university"
          ],
          [
           "software engineer",
           "university of southern california"
          ],
          [
           "software engineer",
           "full sail university"
          ],
          [
           "product marketing manager, creators",
           "university of pennsylvania"
          ],
          [
           "senior analyst",
           "university of arkansas"
          ],
          [
           "director, client strategy",
           "loyola marymount university"
          ],
          [
           "software engineering manager",
           "university of california, berkeley"
          ],
          [
           "backend software engineer",
           "iowa state university"
          ],
          [
           "director - client strategy",
           "eastern michigan university"
          ],
          [
           "production lead - u.s.",
           "university of virginia"
          ],
          [
           "director and leader, developer hub and insights",
           "university of massachusetts lowell"
          ],
          [
           "senior strategy and operations manager",
           "emory university"
          ],
          [
           "partnership associate",
           "louisiana state university"
          ],
          [
           "senior manager of audience insights manager",
           "the university of texas at austin - red mccombs school of business"
          ],
          [
           "user experience designer",
           "university of washington"
          ],
          [
           "independent affiliate",
           "baptist bible college"
          ],
          [
           "twitch content creator",
           "fox valley technical college"
          ],
          [
           "global manager of analytics and insights",
           "northwestern university"
          ],
          [
           "director, client strategy",
           "indiana university - kelley school of business"
          ],
          [
           "senior software development engineer",
           "miami university"
          ],
          [
           "senior business development manager, alliances and corporate development",
           "university of seoul"
          ],
          [
           "software engineer",
           "el camino college"
          ],
          [
           "head of music licensing and label relations",
           "elisabeth haub school of law at pace university"
          ],
          [
           "senior director of engineering, creator tools",
           "null"
          ],
          [
           "executive coach | operator | advisor",
           "school of the art institute of chicago"
          ],
          [
           "senior release manager",
           "san francisco state university"
          ],
          [
           "senior data scientist, ad product",
           "university of california, santa cruz"
          ],
          [
           "video devops engineer",
           "the collins college of hospitality management at cal poly pomona"
          ],
          [
           "senior systems developer",
           "university of southern california"
          ],
          [
           "head of operations for content, bd and partnerships",
           "lycée louis le grand"
          ],
          [
           "director of tpm and pmo at twitch's video platform and interactive video service",
           "stanford university"
          ],
          [
           "senior product manager",
           "carleton college"
          ],
          [
           "head of esports and content production, executive producer twitch rivals",
           "fort lee high school"
          ],
          [
           "technical program manager",
           "cabrillo senior high"
          ],
          [
           "senior accounting manager",
           "indiana university - kelley school of business"
          ],
          [
           "twitch partner",
           "null"
          ],
          [
           "head of dei marketing",
           "depauw university"
          ],
          [
           "strategy and revenue operations",
           "syracuse university"
          ],
          [
           "front end developer",
           "etiwanda high school"
          ],
          [
           "platform engineer",
           "university at buffalo"
          ],
          [
           "esports production operations manager",
           "california polytechnic state university - san luis obispo"
          ],
          [
           "senior software engineer",
           "georgia institute of technology"
          ],
          [
           "security engineer",
           "duke university"
          ],
          [
           "principal software engineer",
           "northwestern university"
          ],
          [
           "software engineer",
           "carnegie mellon university"
          ],
          [
           "senior technical program manager",
           "san jose state university"
          ],
          [
           "program manager",
           "rochester institute of technology"
          ],
          [
           "information security engineer",
           "uc santa barbara"
          ],
          [
           "salesforce technical architect",
           "general assembly"
          ],
          [
           "product marketing and community strategy",
           "the george washington university"
          ],
          [
           "director, client strategy",
           "rochester institute of technology"
          ],
          [
           "twitch affiliate streamer",
           "clarion university of pennsylvania"
          ],
          [
           "esports competition manager",
           "full sail university"
          ],
          [
           "senior director of advertising finance",
           "indiana university bloomington"
          ],
          [
           "manager, client success east",
           "state university of new york at oneonta college"
          ],
          [
           "senior client strategist",
           "university of oregon"
          ],
          [
           "web developer",
           "wallace state community college - hanceville"
          ],
          [
           "senior technical program manager",
           "sonoma state university"
          ],
          [
           "tpm",
           "university of california, berkeley"
          ],
          [
           "affiliated entertainer",
           "edison state college"
          ],
          [
           "information technology consultant",
           "capella university"
          ],
          [
           "senior director, content programming",
           "loyola marymount university"
          ],
          [
           "ios engineer",
           "digipen institute of technology"
          ],
          [
           "senior software engineer, aws interactive video service",
           "carnegie mellon university"
          ],
          [
           "principal product manager - machine learning",
           "the university of kansas"
          ],
          [
           "director of engineering, infrastructure and tools",
           "null"
          ],
          [
           "partnered streamer",
           "university of central florida"
          ],
          [
           "data science manager",
           "harvard university"
          ],
          [
           "artist",
           "academy of art university"
          ],
          [
           "twitch partner",
           "columbus state university"
          ],
          [
           "content creator",
           "ivy tech community college"
          ],
          [
           "growth product",
           "cornell university"
          ],
          [
           "senior quantitative researcher",
           "university of california, los angeles"
          ],
          [
           "senior software engineer",
           "university of louisiana at lafayette"
          ],
          [
           "engineering manager",
           "university of california, berkeley"
          ],
          [
           "client success manager",
           "san francisco state university"
          ],
          [
           "vice president, head of finance, strategy and corporate development",
           "howard university"
          ],
          [
           "legal operations manager",
           "san francisco state university"
          ],
          [
           "visual designer",
           "oregon state university"
          ],
          [
           "entertainer and content creator",
           "full sail university"
          ],
          [
           "senior security engineer",
           "rochester institute of technology"
          ],
          [
           "senior technical program manager",
           "university of pennsylvania"
          ],
          [
           "manager, executive recruiter",
           "chaminade college preparatory school"
          ],
          [
           "director, client strategy",
           "lehigh university"
          ],
          [
           "director - client strategy",
           "villanova university"
          ],
          [
           "director, content acquisition",
           "southwestern law school"
          ],
          [
           "streamer",
           "seattle university"
          ],
          [
           "content creator",
           "fallbrook union high school"
          ],
          [
           "director, client strategy",
           "university of arizona"
          ],
          [
           "twitch affiliate streamer",
           "indian lake high school"
          ],
          [
           "broadcaster",
           "technical career institutes"
          ],
          [
           "creative strategist",
           "university of south carolina"
          ],
          [
           "streamer",
           "texas state university"
          ],
          [
           "senior partner marketing manager",
           "american university"
          ],
          [
           "content creator and affiliate",
           "the university of texas at el paso"
          ],
          [
           "twitch affiliate",
           "nazareth college"
          ],
          [
           "affiliate",
           "columbus state university"
          ],
          [
           "influencer relations manager",
           "the university of texas at austin"
          ],
          [
           "design manager",
           "virginia commonwealth university school of the arts"
          ],
          [
           "senior client success manager",
           "california state university - san bernardino"
          ],
          [
           "twitch streamer",
           "keiser university"
          ],
          [
           "director, client strategy",
           "university of new hampshire"
          ],
          [
           "artist account manager",
           "new york university"
          ],
          [
           "technical writer",
           "university of maryland"
          ],
          [
           "software engineer",
           "eastern washington university"
          ],
          [
           "software engineer ii",
           "university of illinois at urbana - champaign"
          ],
          [
           "senior technical pm and platform product manager",
           "uc san diego"
          ],
          [
           "software engineer",
           "university of wyoming"
          ],
          [
           "content creator",
           "sarasota county technical institute"
          ],
          [
           "software development engineer",
           "university of washington"
          ],
          [
           "senior production manager-events",
           "san francisco state university"
          ],
          [
           "director of community data",
           "caltech"
          ],
          [
           "software development manager",
           "lehigh university"
          ],
          [
           "engineering manager",
           "null"
          ],
          [
           "affiliate streamer",
           "southeastern illinois college"
          ],
          [
           "senior program manager, new product operations",
           "university of oregon"
          ],
          [
           "software engineer",
           "university of michigan"
          ],
          [
           "program activation manager",
           "syracuse university"
          ],
          [
           "producer and production manager",
           "brooks institute"
          ],
          [
           "streamer and content creator",
           "keuka college"
          ],
          [
           "senior network provisioner",
           "uc san diego"
          ],
          [
           "broadcaster",
           "coral springs high school"
          ],
          [
           "marketing campaign manager, sports",
           "florida state university"
          ],
          [
           "content creator",
           "wyoming park high school"
          ],
          [
           "systems engineer",
           "no college"
          ],
          [
           "software engineer",
           "carnegie mellon university"
          ],
          [
           "software engineer",
           "san jose state university"
          ],
          [
           "affiliate broadcaster",
           "the art institutes"
          ],
          [
           "head of music and sports marketing",
           "university of connecticut"
          ],
          [
           "director, content acquisition",
           "emory university school of law"
          ],
          [
           "safety specialist",
           "rutgers university"
          ],
          [
           "senior user experience researcher",
           "indiana university bloomington"
          ],
          [
           "head of strategic partnerships",
           "princeton university"
          ],
          [
           "software development engineer",
           "texas southern university"
          ],
          [
           "freelance creative director",
           "university of north texas"
          ],
          [
           "senior social strategist",
           "indiana wesleyan university"
          ],
          [
           "talent management program manager",
           "universidade presbiteriana mackenzie"
          ],
          [
           "director, strategic partnerships",
           "shanghai university"
          ],
          [
           "full stack engineer",
           "university of puget sound"
          ],
          [
           "embedded producer",
           "orange coast college"
          ],
          [
           "content creator",
           "deltona high school"
          ],
          [
           "streamer",
           "texas state university"
          ],
          [
           "game content creator - twitch streamer",
           "old dominion university"
          ],
          [
           "freelance esports and gaming broadcaster for the greater houston area",
           "austin peay state university"
          ],
          [
           "software engineer",
           "university of california, berkeley"
          ],
          [
           "content creator",
           "the art institutes"
          ],
          [
           "senior vice president, growth initiatives",
           "null"
          ],
          [
           "director, aws ivs and twitch-video",
           "carnegie mellon university"
          ],
          [
           "twitch affiliate and community builder",
           "state university of new york college at oswego"
          ],
          [
           "twitch affiliate",
           "butler university"
          ],
          [
           "principal pmm @ twitch",
           "san francisco state university"
          ],
          [
           "self employed",
           "moscow high school"
          ],
          [
           "japan controller",
           "university of illinois at urbana - champaign"
          ],
          [
           "software",
           "duke university"
          ],
          [
           "pirate stream queen, affiliate",
           "lamar university"
          ],
          [
           "freelance streamer",
           "del city high school"
          ],
          [
           "software development engineer",
           "massachusetts institute of technology"
          ],
          [
           "business operations specialist, global infrastructure",
           "golden gate university"
          ],
          [
           "partner",
           "berkeley college"
          ],
          [
           "twitch affiliate",
           "greenway high school"
          ],
          [
           "affiliate",
           "full sail university"
          ],
          [
           "finance manager",
           "university of iowa"
          ],
          [
           "twitch afilliate",
           "cuyahoga community college"
          ],
          [
           "human resources business systems analyst and program lead",
           "university of delaware"
          ],
          [
           "business development manager, alliances",
           "department of sociology, lse"
          ],
          [
           "senior operations manager",
           "georgetown university"
          ],
          [
           "senior software engineer technical lead - twitch studio",
           "null"
          ],
          [
           "streamer",
           "itt technical institute"
          ],
          [
           "engineer",
           "missouri state university"
          ],
          [
           "designer",
           "jesuit high school"
          ],
          [
           "director, client strategy",
           "loyola high school"
          ],
          [
           "broadcaster",
           "westwood college - denver north"
          ],
          [
           "content creator",
           "boise state university"
          ],
          [
           "application engineer",
           "san jose state university"
          ],
          [
           "software engineer",
           "cornell university"
          ],
          [
           "streamer",
           "florida international university"
          ],
          [
           "vice president, monetization",
           "university of michigan"
          ],
          [
           "broadcaster",
           "west liberty university"
          ],
          [
           "entertainer",
           "poland regional high school"
          ],
          [
           null,
           "null"
          ],
          [
           "technical program manager",
           "ira a. fulton schools of engineering at arizona state university"
          ],
          [
           "entertainer",
           "fullerton college"
          ],
          [
           "brand manager",
           "butler area senior high school"
          ],
          [
           "affiliate",
           "null"
          ],
          [
           "customer experience - spanish",
           "university of san francisco"
          ],
          [
           "engineering manager",
           "null"
          ],
          [
           "affiliate broadcaster",
           "null"
          ],
          [
           "affiliate",
           "truckee meadows community college"
          ],
          [
           "senior application security engineer",
           "barnegat high school"
          ],
          [
           "contract administrator",
           "null"
          ],
          [
           "broadcaster and affiliate",
           "null"
          ],
          [
           "software engineer",
           "university of southern california"
          ],
          [
           "affiliate",
           "minneapolis college"
          ],
          [
           "partnerships, content acquisition and development",
           "null"
          ],
          [
           "manager of network engineering",
           "null"
          ],
          [
           "broadcaster",
           "full sail university"
          ],
          [
           "technical capacity planner",
           "stanford university"
          ],
          [
           "twitch moderator",
           "mercy college"
          ],
          [
           "affiliate",
           "west texas a&m university"
          ],
          [
           "full time streamer",
           "null"
          ],
          [
           "broadcaster",
           "butte college"
          ],
          [
           "streamer",
           "wildwood college"
          ],
          [
           "twitch affiliate",
           "laguardia community college"
          ],
          [
           "streamer",
           "null"
          ],
          [
           null,
           "de anza college"
          ],
          [
           "content creator",
           "elizabethtown college"
          ],
          [
           "affiliate",
           "patrick county high school"
          ],
          [
           "partner",
           "arizona state university"
          ],
          [
           "affiliate",
           "rutgers university–new brunswick"
          ],
          [
           "new media content creator",
           "forsyth technical community college"
          ],
          [
           "streamer",
           "blountstown senior high"
          ],
          [
           "streamer",
           "concord high school"
          ],
          [
           "affiliate",
           "full sail university"
          ],
          [
           "broadcaster",
           "null"
          ],
          [
           "affiliate",
           "null"
          ],
          [
           "part time streamer",
           "null"
          ],
          [
           "twitch streamer",
           "null"
          ],
          [
           "steamer",
           "null"
          ],
          [
           "affiliate",
           "northern essex community college"
          ],
          [
           "partner",
           "null"
          ],
          [
           "content creator",
           "full sail university"
          ],
          [
           "affiliate",
           "northeast senior high"
          ],
          [
           "broadcaster",
           "sowela tech"
          ],
          [
           "streamer",
           "thomas stone high school"
          ],
          [
           "twitch.tv and rizzomf",
           "lorain county community college"
          ],
          [
           "software engineer",
           "stanford university"
          ],
          [
           "streamer",
           "peabody high school"
          ],
          [
           "partnerships manager",
           "san francisco state university"
          ],
          [
           "affiliate",
           "null"
          ],
          [
           "affiliate",
           "null"
          ],
          [
           "digital artist",
           "lone star college–cyfair"
          ],
          [
           "entertainer",
           "null"
          ],
          [
           "streamer",
           "pomperaug high school"
          ],
          [
           "partner",
           "null"
          ],
          [
           "streamer",
           "preston high school"
          ],
          [
           null,
           "the university of texas at austin"
          ],
          [
           "streamer",
           "null"
          ],
          [
           "livestreamer",
           "bolingbrook high school"
          ],
          [
           "affiliate",
           "middlesex community college"
          ],
          [
           "affiliate",
           "new dorp high school"
          ],
          [
           "partner",
           "null"
          ],
          [
           "broadcaster",
           "chapparal high school"
          ],
          [
           "affiliate",
           "ironwood ridge high school"
          ],
          [
           "affliate streamer",
           "null"
          ],
          [
           "streamer",
           "null"
          ],
          [
           "content producer and presenter",
           "george mason university"
          ],
          [
           "affiliate",
           "null"
          ],
          [
           "affiliate",
           "null"
          ],
          [
           "affiliate",
           "bowling green state university"
          ],
          [
           "affiliate",
           "del valle high school"
          ],
          [
           "steamer",
           "null"
          ],
          [
           "twitch streamer",
           "saddleback college"
          ],
          [
           "affiliate",
           "null"
          ],
          [
           "content creator",
           "southeast kentucky community and technical college"
          ],
          [
           "partner",
           "null"
          ],
          [
           "affiliate",
           "arizona state university"
          ],
          [
           "streamer",
           "vista real charter high school"
          ],
          [
           null,
           "university of tennessee at martin"
          ],
          [
           "broadcaster",
           "coyne college"
          ],
          [
           "streamer",
           "null"
          ],
          [
           "live streamer",
           "null"
          ],
          [
           "streamer and gamer",
           "null"
          ],
          [
           "affiliate",
           "houston community college"
          ],
          [
           "partnered streamer",
           "null"
          ],
          [
           "pro streamer",
           "stockton university"
          ],
          [
           "affiliate",
           "craven community college"
          ],
          [
           "affiliate streamer",
           "null"
          ],
          [
           "broadcaster",
           "deerfield beach high school"
          ],
          [
           "guitar god",
           "full sail university"
          ],
          [
           "associate, pricing and yield management",
           "bentley university"
          ],
          [
           "streamer",
           "null"
          ],
          [
           "entertainer",
           "null"
          ],
          [
           "broadcaster",
           "null"
          ],
          [
           "affiliate",
           "the university of texas at san antonio"
          ],
          [
           "broadcaster",
           "null"
          ],
          [
           "affiliate",
           "null"
          ],
          [
           "front desk associate",
           "university of mary hardin - baylor"
          ],
          [
           "affiliate",
           "null"
          ],
          [
           "partner",
           "southeastern louisiana university"
          ],
          [
           "steamer",
           "automotive training center, exton pa"
          ],
          [
           "streamer",
           "null"
          ],
          [
           "streamer",
           "delgado community college"
          ],
          [
           "affiliate",
           "high school / ged"
          ],
          [
           "affiliate",
           "null"
          ],
          [
           "streamer",
           "western technical college"
          ],
          [
           "speed runner",
           "union high school"
          ],
          [
           "affiliate",
           "arapahoe community college"
          ],
          [
           "gamer",
           "thomas jefferson high school in tampa, fl"
          ],
          [
           "steamer",
           "null"
          ],
          [
           "live-streamer and content creator",
           "columbus state community college"
          ],
          [
           null,
           "carman - ainsworth high school"
          ],
          [
           "affiliate",
           "hogwarts school of witchcraft and wizardry (official)"
          ],
          [
           null,
           "null"
          ],
          [
           "mod",
           "university of michigan"
          ],
          [
           null,
           "south gate high school"
          ],
          [
           "partnered streamer",
           "essex junction high school"
          ],
          [
           "entertainer",
           "dallas baptist university"
          ],
          [
           "affiliate",
           "null"
          ],
          [
           "steamer",
           "null"
          ],
          [
           "steamer",
           "highland regional high school"
          ],
          [
           "steamer content creator",
           "ivy tech community college"
          ],
          [
           "affiliate",
           "null"
          ],
          [
           "affiliate",
           "null"
          ],
          [
           "steamer",
           "null"
          ],
          [
           "steamer",
           "null"
          ],
          [
           "steamer",
           "university of maryland"
          ],
          [
           null,
           "east granby high school"
          ],
          [
           "affiliate",
           "new mexico institute of mining and technology"
          ],
          [
           "affiliate",
           "null"
          ],
          [
           "partner",
           "null"
          ],
          [
           "streamer",
           "null"
          ],
          [
           "affiliate",
           "null"
          ],
          [
           "steamer",
           "null"
          ],
          [
           "partnered streamer",
           "null"
          ],
          [
           "steamer",
           "allan hancock college"
          ],
          [
           "broadcaster",
           "null"
          ],
          [
           "streamer",
           "null"
          ],
          [
           "streamer",
           "null"
          ],
          [
           "streamer",
           "university high school"
          ],
          [
           "affiliate",
           "westover senior high"
          ],
          [
           "affiliate",
           "metropolitan state college of denver"
          ],
          [
           "steamer",
           "archbishop rummel high school"
          ],
          [
           "streamer",
           "null"
          ],
          [
           null,
           "null"
          ],
          [
           "affiliate",
           "null"
          ],
          [
           null,
           "null"
          ],
          [
           "steamer",
           "null"
          ],
          [
           "twitch affiliate",
           "college of so. nv high school east"
          ],
          [
           "affiliate content creator",
           "midlands technical college"
          ],
          [
           "affiliated streamer",
           "null"
          ],
          [
           "affiliate",
           "null"
          ],
          [
           "affiliate",
           "null"
          ],
          [
           "affiliate",
           "null"
          ],
          [
           "broadcaster",
           "null"
          ],
          [
           null,
           "null"
          ],
          [
           "partner",
           "hoover high school"
          ],
          [
           "steamer",
           "cumberland perry vo - tech"
          ],
          [
           "affiliate",
           "kutztown university of pennsylvania"
          ],
          [
           "affiliate",
           "null"
          ],
          [
           "streamer",
           "null"
          ],
          [
           "streamer",
           "glendale high school"
          ],
          [
           "broadcaster",
           "null"
          ],
          [
           "twitch affiliate, streamer",
           "fitch senior high school"
          ],
          [
           "content creator",
           "null"
          ],
          [
           null,
           "null"
          ]
         ],
         "hovertemplate": "lat=%{lat}<br>lon=%{lon}<br>job_title=%{customdata[0]}<br>school=%{customdata[1]}<extra></extra>",
         "lat": [
          33.11,
          40.65,
          37.77,
          37.77,
          37.8,
          37.8,
          31.05,
          37.85,
          33.66,
          37.8,
          39.61,
          33.64,
          37.72,
          37.77,
          37.56,
          37.77,
          42.1,
          37.77,
          37.77,
          37.77,
          47.6,
          37.35,
          30.26,
          38.75,
          37.36,
          37.8,
          35.31,
          37.77,
          37.77,
          37.77,
          37.87,
          40.65,
          34.09,
          45.07,
          41.25,
          34.07,
          39.32,
          37.93,
          37.8,
          37.77,
          41.29,
          34.09,
          34.05,
          37.38,
          37.56,
          40.72,
          47.6,
          37.77,
          28.66,
          33.66,
          37.77,
          37.77,
          37.77,
          41.25,
          39.2,
          37.77,
          37.77,
          40.71,
          37.77,
          37.87,
          37.32,
          33.66,
          42.01,
          40.71,
          37.77,
          37.77,
          30.57,
          37.77,
          47.6,
          40.37,
          44.22,
          40.74,
          41.85,
          47.6,
          41.44,
          33.88,
          37.87,
          33.61,
          37.77,
          37.77,
          37.44,
          37.38,
          33.6,
          37.88,
          37.36,
          48.11,
          40.85,
          40.76,
          37.77,
          28.16,
          40.73,
          40.71,
          33.66,
          42.88,
          37.76,
          33.98,
          35.99,
          40.65,
          37.77,
          33.11,
          37.77,
          33.74,
          37.58,
          37.8,
          40.65,
          39.95,
          36.17,
          37.33,
          40.64,
          37.52,
          34.73,
          37.8,
          37.77,
          28.53,
          30.26,
          34.05,
          37.83,
          37.8,
          37.77,
          29.88,
          28.53,
          37.38,
          34.61,
          34.02,
          38.28,
          37.77,
          37.77,
          33.41,
          37.59,
          37.7,
          37.8,
          37.97,
          37.77,
          31.93,
          37.33,
          37.77,
          47.63,
          40.71,
          40.71,
          34.22,
          45.52,
          32.79,
          34.05,
          30.54,
          37.55,
          34.05,
          29.35,
          25.77,
          31.75,
          44.01,
          32.46,
          34.02,
          37.83,
          34.05,
          28.3,
          42.37,
          39.32,
          37.87,
          47.61,
          37.68,
          37.45,
          33.66,
          27.33,
          47.6,
          37.77,
          37.7,
          38.1,
          33.97,
          37.97,
          34.04,
          33.85,
          40.71,
          44.92,
          43.08,
          32.71,
          26.25,
          37.77,
          41.6,
          37.9,
          47.6,
          37.77,
          33.78,
          30.26,
          34.05,
          47.65,
          37.77,
          37.77,
          30.57,
          31.75,
          37.83,
          37.77,
          40.56,
          38.23,
          34.05,
          29.02,
          30.38,
          36.85,
          36.52,
          37.87,
          42.48,
          33.44,
          37.35,
          43.1,
          39.76,
          37.61,
          33.35,
          39.96,
          37.7,
          34.74,
          42.37,
          37.91,
          37.63,
          33.66,
          33.44,
          41.45,
          37.77,
          41.49,
          37.77,
          34.05,
          34.01,
          37.9,
          42.82,
          47.6,
          37.77,
          34.05,
          26.79,
          43.61,
          37.33,
          47.6,
          25.85,
          40.19,
          41.05,
          44.06,
          34.33,
          33.66,
          33.91,
          40.44,
          29.76,
          37.77,
          37.8,
          33.61,
          39.52,
          39.41,
          37.66,
          41.56,
          34.19,
          44.98,
          30.45,
          37.77,
          33.44,
          37.38,
          40.85,
          32.72,
          33.99,
          40.71,
          38.5,
          40.74,
          41.96,
          37.33,
          39.9,
          41.58,
          33.95,
          32.95,
          36.11,
          30.43,
          39.44,
          40.33,
          42,
          33.01,
          35.24,
          38.25,
          35.82,
          42.98,
          35.84,
          28.67,
          47.03,
          30.22,
          40.63,
          41.36,
          37.77,
          42.52,
          38.58,
          36,
          26.7,
          47.64,
          43.03,
          41.48,
          40.29,
          41.73,
          28.53,
          42.06,
          41.69,
          42.61,
          31.18,
          28.75,
          36.17,
          32.22,
          29.51,
          45.52,
          38.84,
          29.42,
          39.95,
          40.4,
          31.75,
          38.28,
          33.66,
          33.75,
          36.6,
          40.76,
          33.74,
          34.27,
          35.88,
          41.78,
          37.97,
          40.58,
          28.02,
          29.61,
          39.72,
          39.65,
          40.69,
          39.71,
          26.23,
          41.9,
          40.85,
          33.55,
          39.77,
          40.04,
          29.42,
          36.17,
          46.66,
          31.08,
          38.04,
          30.64,
          40.03,
          36.74,
          30.27,
          33.3,
          40.56,
          43.96,
          36.15,
          38.32,
          27.94,
          43.01,
          40.03,
          42.29,
          47.25,
          42.2,
          41.43,
          33.95,
          44.6,
          32.54,
          40,
          38.33,
          39.81,
          39.76,
          42.41,
          38.66,
          28.9,
          39.33,
          36.52,
          41.34,
          39.48,
          44.82,
          28.8,
          36.03,
          30.28,
          40.25,
          29.76,
          34.95,
          30.33,
          39.95,
          32.72,
          28.53,
          35.05,
          39.61,
          29.98,
          42.4,
          38.83,
          43.12,
          37.8,
          29.76,
          36.17,
          33.9,
          27.63,
          40.75,
          36.19,
          44.98,
          36.94,
          45.01,
          37.55,
          40.11,
          40.25,
          37.21,
          32.52,
          39.16,
          38.96,
          41.34,
          39.36,
          44.94
         ],
         "lon": [
          -117.08,
          -73.95,
          -122.41,
          -122.41,
          -122.26,
          -122.26,
          -97.46,
          -122.48,
          -117.82,
          -122.26,
          -105.01,
          -117.6,
          -122.15,
          -122.41,
          -122.32,
          -122.41,
          -86.48,
          -122.41,
          -122.41,
          -122.41,
          -122.33,
          -121.95,
          -97.74,
          -121.28,
          -122.03,
          -122.26,
          -120.83,
          -122.41,
          -122.41,
          -122.41,
          -122.27,
          -73.95,
          -118.36,
          -93.14,
          -95.94,
          -84.29,
          -120.18,
          -122.34,
          -122.26,
          -122.41,
          -89.03,
          -118.36,
          -118.24,
          -122.08,
          -122.32,
          -74.07,
          -122.33,
          -122.41,
          -81.2,
          -117.82,
          -122.41,
          -122.41,
          -122.41,
          -95.93,
          -85.92,
          -122.41,
          -122.41,
          -74,
          -122.41,
          -122.27,
          -122.03,
          -117.82,
          -87.84,
          -74,
          -122.41,
          -122.41,
          -97.85,
          -122.41,
          -122.33,
          -75.29,
          -88.47,
          -73.94,
          -87.65,
          -122.33,
          -74.42,
          -118.3,
          -122.27,
          -117.71,
          -122.41,
          -122.41,
          -122.14,
          -122.08,
          -117.67,
          -122.11,
          -122.03,
          -122.75,
          -73.97,
          -111.89,
          -122.41,
          -81.6,
          -74.17,
          -74,
          -117.82,
          -78.87,
          -122.24,
          -118.45,
          -78.89,
          -73.95,
          -122.41,
          -117.08,
          -122.41,
          -117.86,
          -122.36,
          -122.26,
          -73.95,
          -75.16,
          -115.13,
          -121.89,
          -73.67,
          -122.27,
          -86.58,
          -122.26,
          -122.41,
          -81.37,
          -97.74,
          -118.24,
          -122.12,
          -122.26,
          -122.41,
          -97.94,
          -81.37,
          -122.08,
          -120.07,
          -84.36,
          -85.82,
          -122.41,
          -122.41,
          -111.9,
          -122.38,
          -122.46,
          -122.26,
          -122.03,
          -122.41,
          -81.3,
          -121.89,
          -122.41,
          -122.21,
          -74,
          -74,
          -118.53,
          -122.67,
          -116.96,
          -118.24,
          -97.54,
          -77.46,
          -118.24,
          -95.46,
          -80.19,
          -106.48,
          -75.79,
          -84.98,
          -118.39,
          -122.28,
          -118.24,
          -81.41,
          -71.06,
          -76.87,
          -122.27,
          -122.19,
          -122.39,
          -122.18,
          -117.82,
          -82.53,
          -122.33,
          -122.41,
          -122.46,
          -122.56,
          -118.42,
          -87.55,
          -118.52,
          -118.06,
          -74,
          -93.46,
          -77.19,
          -117.15,
          -80.17,
          -122.41,
          -93.6,
          -122.54,
          -122.33,
          -122.41,
          -117.85,
          -97.74,
          -118.24,
          -117.42,
          -122.41,
          -122.41,
          -97.85,
          -106.48,
          -122.28,
          -121.97,
          -74.13,
          -122.63,
          -118.24,
          -81.3,
          -95.69,
          -75.97,
          -87.35,
          -122.27,
          -83.1,
          -112.07,
          -121.95,
          -76.21,
          -86.15,
          -122.48,
          -111.78,
          -82.99,
          -121.93,
          -87.66,
          -87.9,
          -122.31,
          -122.41,
          -117.99,
          -112.07,
          -83.48,
          -122.41,
          -81.69,
          -122.41,
          -118.24,
          -118.49,
          -122.06,
          -73.96,
          -122.33,
          -122.41,
          -118.24,
          -80.06,
          -116.2,
          -121.89,
          -122.33,
          -80.27,
          -85.38,
          -73.53,
          -70.39,
          -82.38,
          -117.82,
          -117.9,
          -79.99,
          -95.36,
          -122.41,
          -122.26,
          -112.32,
          -119.81,
          -77.41,
          -122.07,
          -72.65,
          -119.17,
          -93.26,
          -91.15,
          -121.97,
          -112.07,
          -122.08,
          -73.86,
          -97.32,
          -117.51,
          -74,
          -90.62,
          -73.9,
          -71.67,
          -121.89,
          -75.28,
          -71.92,
          -117.39,
          -117.26,
          -80.07,
          -84.28,
          -75.71,
          -75.92,
          -91.64,
          -80.17,
          -78.35,
          -85.75,
          -78.82,
          -70.94,
          -86.39,
          -81.32,
          -122.82,
          -93.21,
          -80.24,
          -82.1,
          -122.41,
          -70.92,
          -121.49,
          -104.7,
          -80.23,
          -117.59,
          -87.9,
          -73.21,
          -111.69,
          -111.83,
          -81.37,
          -87.93,
          -88.06,
          -71.23,
          -94.78,
          -81.31,
          -115.13,
          -110.92,
          -98.31,
          -122.67,
          -77.42,
          -98.49,
          -75.16,
          -82.81,
          -106.48,
          -85.82,
          -117.58,
          -118,
          -83.71,
          -111.89,
          -116.97,
          -119.29,
          -84.5,
          -88.14,
          -122.56,
          -105.08,
          -81.73,
          -95.53,
          -104.83,
          -75.32,
          -89.58,
          -82.59,
          -80.12,
          12.48,
          -73.15,
          -117.21,
          -74.86,
          -86,
          -98.49,
          -115.13,
          -122.96,
          -97.65,
          -122.15,
          -91.15,
          -75.55,
          -119.77,
          -89.78,
          -111.84,
          -77.39,
          -91.25,
          -95.99,
          -85.47,
          -82.45,
          -83.68,
          -83.15,
          -85.58,
          -122.44,
          -85.58,
          -71.5,
          -118.21,
          -73,
          -97.32,
          -76.84,
          -87.34,
          -74.98,
          -86.15,
          -88.07,
          -90.57,
          -81.26,
          -82.98,
          -87.35,
          -72.13,
          -80.14,
          -89.59,
          -97,
          -114.98,
          -82.12,
          -103.79,
          -95.36,
          -120.43,
          -81.65,
          -75.16,
          -97.32,
          -81.37,
          -78.87,
          -105.01,
          -90.15,
          -71.01,
          -104.82,
          -123.41,
          -122.26,
          -95.36,
          -115.13,
          -80.87,
          -80.39,
          -75.26,
          -115.11,
          -93.26,
          -82.46,
          -93.45,
          -77.46,
          -76.71,
          -75.46,
          -93.29,
          -93.75,
          -119.76,
          -76.87,
          -72.03,
          -76.45,
          -123.03
         ],
         "name": "",
         "radius": 10,
         "subplot": "mapbox",
         "type": "densitymapbox"
        },
        {
         "colorscale": [
          [
           0,
           "rgb(255,245,240)"
          ],
          [
           0.125,
           "rgb(254,224,210)"
          ],
          [
           0.25,
           "rgb(252,187,161)"
          ],
          [
           0.375,
           "rgb(252,146,114)"
          ],
          [
           0.5,
           "rgb(251,106,74)"
          ],
          [
           0.625,
           "rgb(239,59,44)"
          ],
          [
           0.75,
           "rgb(203,24,29)"
          ],
          [
           0.875,
           "rgb(165,15,21)"
          ],
          [
           1,
           "rgb(103,0,13)"
          ]
         ],
         "hovertext": "company HQ",
         "lat": [
          37.77
         ],
         "lon": [
          -122.41
         ],
         "radius": 15,
         "type": "densitymapbox"
        }
       ],
       "layout": {
        "coloraxis": {
         "colorscale": [
          [
           0,
           "#440154"
          ],
          [
           0.1111111111111111,
           "#482878"
          ],
          [
           0.2222222222222222,
           "#3e4989"
          ],
          [
           0.3333333333333333,
           "#31688e"
          ],
          [
           0.4444444444444444,
           "#26828e"
          ],
          [
           0.5555555555555556,
           "#1f9e89"
          ],
          [
           0.6666666666666666,
           "#35b779"
          ],
          [
           0.7777777777777778,
           "#6ece58"
          ],
          [
           0.8888888888888888,
           "#b5de2b"
          ],
          [
           1,
           "#fde725"
          ]
         ]
        },
        "legend": {
         "tracegroupgap": 0
        },
        "mapbox": {
         "accesstoken": "pk.eyJ1IjoidHJhY3ljaGFybGVzMTA4IiwiYSI6ImNsMjJmdmUzajFmeXcza3BkOXgwOWZoNW4ifQ.bFv6klpNU8XWRbEJ0zk1Dw",
         "center": {
          "lat": 37.36245614035092,
          "lon": -101.76691729323312
         },
         "domain": {
          "x": [
           0,
           1
          ],
          "y": [
           0,
           1
          ]
         },
         "style": "carto-positron",
         "zoom": 3
        },
        "margin": {
         "b": 0,
         "l": 0,
         "r": 0,
         "t": 0
        },
        "template": {
         "data": {
          "bar": [
           {
            "error_x": {
             "color": "#2a3f5f"
            },
            "error_y": {
             "color": "#2a3f5f"
            },
            "marker": {
             "line": {
              "color": "#E5ECF6",
              "width": 0.5
             },
             "pattern": {
              "fillmode": "overlay",
              "size": 10,
              "solidity": 0.2
             }
            },
            "type": "bar"
           }
          ],
          "barpolar": [
           {
            "marker": {
             "line": {
              "color": "#E5ECF6",
              "width": 0.5
             },
             "pattern": {
              "fillmode": "overlay",
              "size": 10,
              "solidity": 0.2
             }
            },
            "type": "barpolar"
           }
          ],
          "carpet": [
           {
            "aaxis": {
             "endlinecolor": "#2a3f5f",
             "gridcolor": "white",
             "linecolor": "white",
             "minorgridcolor": "white",
             "startlinecolor": "#2a3f5f"
            },
            "baxis": {
             "endlinecolor": "#2a3f5f",
             "gridcolor": "white",
             "linecolor": "white",
             "minorgridcolor": "white",
             "startlinecolor": "#2a3f5f"
            },
            "type": "carpet"
           }
          ],
          "choropleth": [
           {
            "colorbar": {
             "outlinewidth": 0,
             "ticks": ""
            },
            "type": "choropleth"
           }
          ],
          "contour": [
           {
            "colorbar": {
             "outlinewidth": 0,
             "ticks": ""
            },
            "colorscale": [
             [
              0,
              "#0d0887"
             ],
             [
              0.1111111111111111,
              "#46039f"
             ],
             [
              0.2222222222222222,
              "#7201a8"
             ],
             [
              0.3333333333333333,
              "#9c179e"
             ],
             [
              0.4444444444444444,
              "#bd3786"
             ],
             [
              0.5555555555555556,
              "#d8576b"
             ],
             [
              0.6666666666666666,
              "#ed7953"
             ],
             [
              0.7777777777777778,
              "#fb9f3a"
             ],
             [
              0.8888888888888888,
              "#fdca26"
             ],
             [
              1,
              "#f0f921"
             ]
            ],
            "type": "contour"
           }
          ],
          "contourcarpet": [
           {
            "colorbar": {
             "outlinewidth": 0,
             "ticks": ""
            },
            "type": "contourcarpet"
           }
          ],
          "heatmap": [
           {
            "colorbar": {
             "outlinewidth": 0,
             "ticks": ""
            },
            "colorscale": [
             [
              0,
              "#0d0887"
             ],
             [
              0.1111111111111111,
              "#46039f"
             ],
             [
              0.2222222222222222,
              "#7201a8"
             ],
             [
              0.3333333333333333,
              "#9c179e"
             ],
             [
              0.4444444444444444,
              "#bd3786"
             ],
             [
              0.5555555555555556,
              "#d8576b"
             ],
             [
              0.6666666666666666,
              "#ed7953"
             ],
             [
              0.7777777777777778,
              "#fb9f3a"
             ],
             [
              0.8888888888888888,
              "#fdca26"
             ],
             [
              1,
              "#f0f921"
             ]
            ],
            "type": "heatmap"
           }
          ],
          "heatmapgl": [
           {
            "colorbar": {
             "outlinewidth": 0,
             "ticks": ""
            },
            "colorscale": [
             [
              0,
              "#0d0887"
             ],
             [
              0.1111111111111111,
              "#46039f"
             ],
             [
              0.2222222222222222,
              "#7201a8"
             ],
             [
              0.3333333333333333,
              "#9c179e"
             ],
             [
              0.4444444444444444,
              "#bd3786"
             ],
             [
              0.5555555555555556,
              "#d8576b"
             ],
             [
              0.6666666666666666,
              "#ed7953"
             ],
             [
              0.7777777777777778,
              "#fb9f3a"
             ],
             [
              0.8888888888888888,
              "#fdca26"
             ],
             [
              1,
              "#f0f921"
             ]
            ],
            "type": "heatmapgl"
           }
          ],
          "histogram": [
           {
            "marker": {
             "pattern": {
              "fillmode": "overlay",
              "size": 10,
              "solidity": 0.2
             }
            },
            "type": "histogram"
           }
          ],
          "histogram2d": [
           {
            "colorbar": {
             "outlinewidth": 0,
             "ticks": ""
            },
            "colorscale": [
             [
              0,
              "#0d0887"
             ],
             [
              0.1111111111111111,
              "#46039f"
             ],
             [
              0.2222222222222222,
              "#7201a8"
             ],
             [
              0.3333333333333333,
              "#9c179e"
             ],
             [
              0.4444444444444444,
              "#bd3786"
             ],
             [
              0.5555555555555556,
              "#d8576b"
             ],
             [
              0.6666666666666666,
              "#ed7953"
             ],
             [
              0.7777777777777778,
              "#fb9f3a"
             ],
             [
              0.8888888888888888,
              "#fdca26"
             ],
             [
              1,
              "#f0f921"
             ]
            ],
            "type": "histogram2d"
           }
          ],
          "histogram2dcontour": [
           {
            "colorbar": {
             "outlinewidth": 0,
             "ticks": ""
            },
            "colorscale": [
             [
              0,
              "#0d0887"
             ],
             [
              0.1111111111111111,
              "#46039f"
             ],
             [
              0.2222222222222222,
              "#7201a8"
             ],
             [
              0.3333333333333333,
              "#9c179e"
             ],
             [
              0.4444444444444444,
              "#bd3786"
             ],
             [
              0.5555555555555556,
              "#d8576b"
             ],
             [
              0.6666666666666666,
              "#ed7953"
             ],
             [
              0.7777777777777778,
              "#fb9f3a"
             ],
             [
              0.8888888888888888,
              "#fdca26"
             ],
             [
              1,
              "#f0f921"
             ]
            ],
            "type": "histogram2dcontour"
           }
          ],
          "mesh3d": [
           {
            "colorbar": {
             "outlinewidth": 0,
             "ticks": ""
            },
            "type": "mesh3d"
           }
          ],
          "parcoords": [
           {
            "line": {
             "colorbar": {
              "outlinewidth": 0,
              "ticks": ""
             }
            },
            "type": "parcoords"
           }
          ],
          "pie": [
           {
            "automargin": true,
            "type": "pie"
           }
          ],
          "scatter": [
           {
            "marker": {
             "colorbar": {
              "outlinewidth": 0,
              "ticks": ""
             }
            },
            "type": "scatter"
           }
          ],
          "scatter3d": [
           {
            "line": {
             "colorbar": {
              "outlinewidth": 0,
              "ticks": ""
             }
            },
            "marker": {
             "colorbar": {
              "outlinewidth": 0,
              "ticks": ""
             }
            },
            "type": "scatter3d"
           }
          ],
          "scattercarpet": [
           {
            "marker": {
             "colorbar": {
              "outlinewidth": 0,
              "ticks": ""
             }
            },
            "type": "scattercarpet"
           }
          ],
          "scattergeo": [
           {
            "marker": {
             "colorbar": {
              "outlinewidth": 0,
              "ticks": ""
             }
            },
            "type": "scattergeo"
           }
          ],
          "scattergl": [
           {
            "marker": {
             "colorbar": {
              "outlinewidth": 0,
              "ticks": ""
             }
            },
            "type": "scattergl"
           }
          ],
          "scattermapbox": [
           {
            "marker": {
             "colorbar": {
              "outlinewidth": 0,
              "ticks": ""
             }
            },
            "type": "scattermapbox"
           }
          ],
          "scatterpolar": [
           {
            "marker": {
             "colorbar": {
              "outlinewidth": 0,
              "ticks": ""
             }
            },
            "type": "scatterpolar"
           }
          ],
          "scatterpolargl": [
           {
            "marker": {
             "colorbar": {
              "outlinewidth": 0,
              "ticks": ""
             }
            },
            "type": "scatterpolargl"
           }
          ],
          "scatterternary": [
           {
            "marker": {
             "colorbar": {
              "outlinewidth": 0,
              "ticks": ""
             }
            },
            "type": "scatterternary"
           }
          ],
          "surface": [
           {
            "colorbar": {
             "outlinewidth": 0,
             "ticks": ""
            },
            "colorscale": [
             [
              0,
              "#0d0887"
             ],
             [
              0.1111111111111111,
              "#46039f"
             ],
             [
              0.2222222222222222,
              "#7201a8"
             ],
             [
              0.3333333333333333,
              "#9c179e"
             ],
             [
              0.4444444444444444,
              "#bd3786"
             ],
             [
              0.5555555555555556,
              "#d8576b"
             ],
             [
              0.6666666666666666,
              "#ed7953"
             ],
             [
              0.7777777777777778,
              "#fb9f3a"
             ],
             [
              0.8888888888888888,
              "#fdca26"
             ],
             [
              1,
              "#f0f921"
             ]
            ],
            "type": "surface"
           }
          ],
          "table": [
           {
            "cells": {
             "fill": {
              "color": "#EBF0F8"
             },
             "line": {
              "color": "white"
             }
            },
            "header": {
             "fill": {
              "color": "#C8D4E3"
             },
             "line": {
              "color": "white"
             }
            },
            "type": "table"
           }
          ]
         },
         "layout": {
          "annotationdefaults": {
           "arrowcolor": "#2a3f5f",
           "arrowhead": 0,
           "arrowwidth": 1
          },
          "autotypenumbers": "strict",
          "coloraxis": {
           "colorbar": {
            "outlinewidth": 0,
            "ticks": ""
           }
          },
          "colorscale": {
           "diverging": [
            [
             0,
             "#8e0152"
            ],
            [
             0.1,
             "#c51b7d"
            ],
            [
             0.2,
             "#de77ae"
            ],
            [
             0.3,
             "#f1b6da"
            ],
            [
             0.4,
             "#fde0ef"
            ],
            [
             0.5,
             "#f7f7f7"
            ],
            [
             0.6,
             "#e6f5d0"
            ],
            [
             0.7,
             "#b8e186"
            ],
            [
             0.8,
             "#7fbc41"
            ],
            [
             0.9,
             "#4d9221"
            ],
            [
             1,
             "#276419"
            ]
           ],
           "sequential": [
            [
             0,
             "#0d0887"
            ],
            [
             0.1111111111111111,
             "#46039f"
            ],
            [
             0.2222222222222222,
             "#7201a8"
            ],
            [
             0.3333333333333333,
             "#9c179e"
            ],
            [
             0.4444444444444444,
             "#bd3786"
            ],
            [
             0.5555555555555556,
             "#d8576b"
            ],
            [
             0.6666666666666666,
             "#ed7953"
            ],
            [
             0.7777777777777778,
             "#fb9f3a"
            ],
            [
             0.8888888888888888,
             "#fdca26"
            ],
            [
             1,
             "#f0f921"
            ]
           ],
           "sequentialminus": [
            [
             0,
             "#0d0887"
            ],
            [
             0.1111111111111111,
             "#46039f"
            ],
            [
             0.2222222222222222,
             "#7201a8"
            ],
            [
             0.3333333333333333,
             "#9c179e"
            ],
            [
             0.4444444444444444,
             "#bd3786"
            ],
            [
             0.5555555555555556,
             "#d8576b"
            ],
            [
             0.6666666666666666,
             "#ed7953"
            ],
            [
             0.7777777777777778,
             "#fb9f3a"
            ],
            [
             0.8888888888888888,
             "#fdca26"
            ],
            [
             1,
             "#f0f921"
            ]
           ]
          },
          "colorway": [
           "#636efa",
           "#EF553B",
           "#00cc96",
           "#ab63fa",
           "#FFA15A",
           "#19d3f3",
           "#FF6692",
           "#B6E880",
           "#FF97FF",
           "#FECB52"
          ],
          "font": {
           "color": "#2a3f5f"
          },
          "geo": {
           "bgcolor": "white",
           "lakecolor": "white",
           "landcolor": "#E5ECF6",
           "showlakes": true,
           "showland": true,
           "subunitcolor": "white"
          },
          "hoverlabel": {
           "align": "left"
          },
          "hovermode": "closest",
          "mapbox": {
           "style": "light"
          },
          "paper_bgcolor": "white",
          "plot_bgcolor": "#E5ECF6",
          "polar": {
           "angularaxis": {
            "gridcolor": "white",
            "linecolor": "white",
            "ticks": ""
           },
           "bgcolor": "#E5ECF6",
           "radialaxis": {
            "gridcolor": "white",
            "linecolor": "white",
            "ticks": ""
           }
          },
          "scene": {
           "xaxis": {
            "backgroundcolor": "#E5ECF6",
            "gridcolor": "white",
            "gridwidth": 2,
            "linecolor": "white",
            "showbackground": true,
            "ticks": "",
            "zerolinecolor": "white"
           },
           "yaxis": {
            "backgroundcolor": "#E5ECF6",
            "gridcolor": "white",
            "gridwidth": 2,
            "linecolor": "white",
            "showbackground": true,
            "ticks": "",
            "zerolinecolor": "white"
           },
           "zaxis": {
            "backgroundcolor": "#E5ECF6",
            "gridcolor": "white",
            "gridwidth": 2,
            "linecolor": "white",
            "showbackground": true,
            "ticks": "",
            "zerolinecolor": "white"
           }
          },
          "shapedefaults": {
           "line": {
            "color": "#2a3f5f"
           }
          },
          "ternary": {
           "aaxis": {
            "gridcolor": "white",
            "linecolor": "white",
            "ticks": ""
           },
           "baxis": {
            "gridcolor": "white",
            "linecolor": "white",
            "ticks": ""
           },
           "bgcolor": "#E5ECF6",
           "caxis": {
            "gridcolor": "white",
            "linecolor": "white",
            "ticks": ""
           }
          },
          "title": {
           "x": 0.05
          },
          "xaxis": {
           "automargin": true,
           "gridcolor": "white",
           "linecolor": "white",
           "ticks": "",
           "title": {
            "standoff": 15
           },
           "zerolinecolor": "white",
           "zerolinewidth": 2
          },
          "yaxis": {
           "automargin": true,
           "gridcolor": "white",
           "linecolor": "white",
           "ticks": "",
           "title": {
            "standoff": 15
           },
           "zerolinecolor": "white",
           "zerolinewidth": 2
          }
         }
        }
       }
      },
      "text/html": [
       "<div>                            <div id=\"f7e1abfb-5157-4273-b73b-0aaec5d0ee21\" class=\"plotly-graph-div\" style=\"height:525px; width:100%;\"></div>            <script type=\"text/javascript\">                require([\"plotly\"], function(Plotly) {                    window.PLOTLYENV=window.PLOTLYENV || {};                                    if (document.getElementById(\"f7e1abfb-5157-4273-b73b-0aaec5d0ee21\")) {                    Plotly.newPlot(                        \"f7e1abfb-5157-4273-b73b-0aaec5d0ee21\",                        [{\"coloraxis\":\"coloraxis\",\"customdata\":[[\"event director\",\"palomar college\"],[\"sales development manager\",\"the university of michigan: class of 2011\"],[\"principal software engineer\",\"louisiana state university\"],[\"vice president, research and data\",\"franklin w. olin college of engineering\"],[\"technical operations lead, adops\",\"tufts university\"],[\"birds\",\"north central state college\"],[\"partner\",\"appleton east high school\"],[\"director of localization\",\"universit\\u00e9 de provence\"],[\"lead automation engineer\",\"southern polytechnic state university\"],[\"program manager, ad products\",\"university of california, santa cruz\"],[\"senior network capacity engineer\",\"tennessee technological university\"],[\"director of engineering, browser clients\",\"san diego state university\"],[\"lead web platform engineer\",\"university of alberta\"],[\"head of commerce machine learning\",\"university of wisconsin - madison\"],[\"senior software engineer\",\"lev academic center (jct) (jerusalem college of technology )\"],[\"engineering manager @ twitch\",\"university of illinois at urbana - champaign\"],[\"senior engineering manager\",\"michigan state university\"],[\"senior vice president, revenue\",\"university of hawai\\u2018i - shidler college of business\"],[\"creative director\",\"syracuse university\"],[\"director, advanced media services\",\"towson university\"],[\"senior program manager - monetization strategy and operations\",\"boston university\"],[\"campaign manager\",\"university of california, los angeles\"],[\"senior devops engineer\",\"texas state university\"],[\"qa analyst\",\"san lorenzo high school\"],[\"senior technical program manager\",\"uc irvine\"],[\"senior director, global head of strategic programs and culture\",\"howard university\"],[\"lead software engineer\",\"california polytechnic state university - san luis obispo\"],[\"vice president of communications @ twitch\",\"university of florida\"],[\"vice president, strategy and analytics\",\"duke university\"],[\"senior manager, early career talent\",\"colby college\"],[\"senior applied scientist\",\"university of california, berkeley\"],[\"salesforce administrator\",\"hunter college\"],[\"director business strategy\",\"unm anderson school of management\"],[\"independent affiliate\",\"century college\"],[\"senior software engineer\",\"university of nebraska - lincoln\"],[\"senior product manager, technical\",\"the university of georgia\"],[\"president twitch interactive, leading product, engineering and go to market functions\",\"duke university\"],[\"software engineering manager\",\"university of california, berkeley\"],[\"director of technical program management\",\"trinity university\"],[\"senior people business partner\",\"the university of texas at austin\"],[\"senior software engineer\",\"indiana university\\u2013purdue university indianapolis\"],[\"senior label relations lead\",\"drexel university\"],[\"head of music product marketing\",\"miami university\"],[\"recruiting manager\",\"santa clara university\"],[\"senior software engineer\",\"uc irvine\"],[\"developer advocacy lead\",\"the college of new jersey\"],[\"senior manager\",\"washington state university\"],[\"engineering manager\",\"carnegie mellon university\"],[\"broadcast production manager\",\"university of central florida\"],[\"senior software development engineer\",\"california state university, northridge\"],[\"senior data scientist, analytics\",\"university of california, berkeley\"],[\"director, original content business operations\",\"uc santa barbara\"],[\"ios engineer\",\"uc san diego\"],[\"director of creator development\",\"millard north high school\"],[\"full time streamer\",\"ball state university\"],[\"software engineer\",\"university of southern california\"],[\"software engineer\",\"full sail university\"],[\"product marketing manager, creators\",\"university of pennsylvania\"],[\"senior analyst\",\"university of arkansas\"],[\"director, client strategy\",\"loyola marymount university\"],[\"software engineering manager\",\"university of california, berkeley\"],[\"backend software engineer\",\"iowa state university\"],[\"director - client strategy\",\"eastern michigan university\"],[\"production lead - u.s.\",\"university of virginia\"],[\"director and leader, developer hub and insights\",\"university of massachusetts lowell\"],[\"senior strategy and operations manager\",\"emory university\"],[\"partnership associate\",\"louisiana state university\"],[\"senior manager of audience insights manager\",\"the university of texas at austin - red mccombs school of business\"],[\"user experience designer\",\"university of washington\"],[\"independent affiliate\",\"baptist bible college\"],[\"twitch content creator\",\"fox valley technical college\"],[\"global manager of analytics and insights\",\"northwestern university\"],[\"director, client strategy\",\"indiana university - kelley school of business\"],[\"senior software development engineer\",\"miami university\"],[\"senior business development manager, alliances and corporate development\",\"university of seoul\"],[\"software engineer\",\"el camino college\"],[\"head of music licensing and label relations\",\"elisabeth haub school of law at pace university\"],[\"senior director of engineering, creator tools\",\"null\"],[\"executive coach | operator | advisor\",\"school of the art institute of chicago\"],[\"senior release manager\",\"san francisco state university\"],[\"senior data scientist, ad product\",\"university of california, santa cruz\"],[\"video devops engineer\",\"the collins college of hospitality management at cal poly pomona\"],[\"senior systems developer\",\"university of southern california\"],[\"head of operations for content, bd and partnerships\",\"lyc\\u00e9e louis le grand\"],[\"director of tpm and pmo at twitch's video platform and interactive video service\",\"stanford university\"],[\"senior product manager\",\"carleton college\"],[\"head of esports and content production, executive producer twitch rivals\",\"fort lee high school\"],[\"technical program manager\",\"cabrillo senior high\"],[\"senior accounting manager\",\"indiana university - kelley school of business\"],[\"twitch partner\",\"null\"],[\"head of dei marketing\",\"depauw university\"],[\"strategy and revenue operations\",\"syracuse university\"],[\"front end developer\",\"etiwanda high school\"],[\"platform engineer\",\"university at buffalo\"],[\"esports production operations manager\",\"california polytechnic state university - san luis obispo\"],[\"senior software engineer\",\"georgia institute of technology\"],[\"security engineer\",\"duke university\"],[\"principal software engineer\",\"northwestern university\"],[\"software engineer\",\"carnegie mellon university\"],[\"senior technical program manager\",\"san jose state university\"],[\"program manager\",\"rochester institute of technology\"],[\"information security engineer\",\"uc santa barbara\"],[\"salesforce technical architect\",\"general assembly\"],[\"product marketing and community strategy\",\"the george washington university\"],[\"director, client strategy\",\"rochester institute of technology\"],[\"twitch affiliate streamer\",\"clarion university of pennsylvania\"],[\"esports competition manager\",\"full sail university\"],[\"senior director of advertising finance\",\"indiana university bloomington\"],[\"manager, client success east\",\"state university of new york at oneonta college\"],[\"senior client strategist\",\"university of oregon\"],[\"web developer\",\"wallace state community college - hanceville\"],[\"senior technical program manager\",\"sonoma state university\"],[\"tpm\",\"university of california, berkeley\"],[\"affiliated entertainer\",\"edison state college\"],[\"information technology consultant\",\"capella university\"],[\"senior director, content programming\",\"loyola marymount university\"],[\"ios engineer\",\"digipen institute of technology\"],[\"senior software engineer, aws interactive video service\",\"carnegie mellon university\"],[\"principal product manager - machine learning\",\"the university of kansas\"],[\"director of engineering, infrastructure and tools\",\"null\"],[\"partnered streamer\",\"university of central florida\"],[\"data science manager\",\"harvard university\"],[\"artist\",\"academy of art university\"],[\"twitch partner\",\"columbus state university\"],[\"content creator\",\"ivy tech community college\"],[\"growth product\",\"cornell university\"],[\"senior quantitative researcher\",\"university of california, los angeles\"],[\"senior software engineer\",\"university of louisiana at lafayette\"],[\"engineering manager\",\"university of california, berkeley\"],[\"client success manager\",\"san francisco state university\"],[\"vice president, head of finance, strategy and corporate development\",\"howard university\"],[\"legal operations manager\",\"san francisco state university\"],[\"visual designer\",\"oregon state university\"],[\"entertainer and content creator\",\"full sail university\"],[\"senior security engineer\",\"rochester institute of technology\"],[\"senior technical program manager\",\"university of pennsylvania\"],[\"manager, executive recruiter\",\"chaminade college preparatory school\"],[\"director, client strategy\",\"lehigh university\"],[\"director - client strategy\",\"villanova university\"],[\"director, content acquisition\",\"southwestern law school\"],[\"streamer\",\"seattle university\"],[\"content creator\",\"fallbrook union high school\"],[\"director, client strategy\",\"university of arizona\"],[\"twitch affiliate streamer\",\"indian lake high school\"],[\"broadcaster\",\"technical career institutes\"],[\"creative strategist\",\"university of south carolina\"],[\"streamer\",\"texas state university\"],[\"senior partner marketing manager\",\"american university\"],[\"content creator and affiliate\",\"the university of texas at el paso\"],[\"twitch affiliate\",\"nazareth college\"],[\"affiliate\",\"columbus state university\"],[\"influencer relations manager\",\"the university of texas at austin\"],[\"design manager\",\"virginia commonwealth university school of the arts\"],[\"senior client success manager\",\"california state university - san bernardino\"],[\"twitch streamer\",\"keiser university\"],[\"director, client strategy\",\"university of new hampshire\"],[\"artist account manager\",\"new york university\"],[\"technical writer\",\"university of maryland\"],[\"software engineer\",\"eastern washington university\"],[\"software engineer ii\",\"university of illinois at urbana - champaign\"],[\"senior technical pm and platform product manager\",\"uc san diego\"],[\"software engineer\",\"university of wyoming\"],[\"content creator\",\"sarasota county technical institute\"],[\"software development engineer\",\"university of washington\"],[\"senior production manager-events\",\"san francisco state university\"],[\"director of community data\",\"caltech\"],[\"software development manager\",\"lehigh university\"],[\"engineering manager\",\"null\"],[\"affiliate streamer\",\"southeastern illinois college\"],[\"senior program manager, new product operations\",\"university of oregon\"],[\"software engineer\",\"university of michigan\"],[\"program activation manager\",\"syracuse university\"],[\"producer and production manager\",\"brooks institute\"],[\"streamer and content creator\",\"keuka college\"],[\"senior network provisioner\",\"uc san diego\"],[\"broadcaster\",\"coral springs high school\"],[\"marketing campaign manager, sports\",\"florida state university\"],[\"content creator\",\"wyoming park high school\"],[\"systems engineer\",\"no college\"],[\"software engineer\",\"carnegie mellon university\"],[\"software engineer\",\"san jose state university\"],[\"affiliate broadcaster\",\"the art institutes\"],[\"head of music and sports marketing\",\"university of connecticut\"],[\"director, content acquisition\",\"emory university school of law\"],[\"safety specialist\",\"rutgers university\"],[\"senior user experience researcher\",\"indiana university bloomington\"],[\"head of strategic partnerships\",\"princeton university\"],[\"software development engineer\",\"texas southern university\"],[\"freelance creative director\",\"university of north texas\"],[\"senior social strategist\",\"indiana wesleyan university\"],[\"talent management program manager\",\"universidade presbiteriana mackenzie\"],[\"director, strategic partnerships\",\"shanghai university\"],[\"full stack engineer\",\"university of puget sound\"],[\"embedded producer\",\"orange coast college\"],[\"content creator\",\"deltona high school\"],[\"streamer\",\"texas state university\"],[\"game content creator - twitch streamer\",\"old dominion university\"],[\"freelance esports and gaming broadcaster for the greater houston area\",\"austin peay state university\"],[\"software engineer\",\"university of california, berkeley\"],[\"content creator\",\"the art institutes\"],[\"senior vice president, growth initiatives\",\"null\"],[\"director, aws ivs and twitch-video\",\"carnegie mellon university\"],[\"twitch affiliate and community builder\",\"state university of new york college at oswego\"],[\"twitch affiliate\",\"butler university\"],[\"principal pmm @ twitch\",\"san francisco state university\"],[\"self employed\",\"moscow high school\"],[\"japan controller\",\"university of illinois at urbana - champaign\"],[\"software\",\"duke university\"],[\"pirate stream queen, affiliate\",\"lamar university\"],[\"freelance streamer\",\"del city high school\"],[\"software development engineer\",\"massachusetts institute of technology\"],[\"business operations specialist, global infrastructure\",\"golden gate university\"],[\"partner\",\"berkeley college\"],[\"twitch affiliate\",\"greenway high school\"],[\"affiliate\",\"full sail university\"],[\"finance manager\",\"university of iowa\"],[\"twitch afilliate\",\"cuyahoga community college\"],[\"human resources business systems analyst and program lead\",\"university of delaware\"],[\"business development manager, alliances\",\"department of sociology, lse\"],[\"senior operations manager\",\"georgetown university\"],[\"senior software engineer technical lead - twitch studio\",\"null\"],[\"streamer\",\"itt technical institute\"],[\"engineer\",\"missouri state university\"],[\"designer\",\"jesuit high school\"],[\"director, client strategy\",\"loyola high school\"],[\"broadcaster\",\"westwood college - denver north\"],[\"content creator\",\"boise state university\"],[\"application engineer\",\"san jose state university\"],[\"software engineer\",\"cornell university\"],[\"streamer\",\"florida international university\"],[\"vice president, monetization\",\"university of michigan\"],[\"broadcaster\",\"west liberty university\"],[\"entertainer\",\"poland regional high school\"],[null,\"null\"],[\"technical program manager\",\"ira a. fulton schools of engineering at arizona state university\"],[\"entertainer\",\"fullerton college\"],[\"brand manager\",\"butler area senior high school\"],[\"affiliate\",\"null\"],[\"customer experience - spanish\",\"university of san francisco\"],[\"engineering manager\",\"null\"],[\"affiliate broadcaster\",\"null\"],[\"affiliate\",\"truckee meadows community college\"],[\"senior application security engineer\",\"barnegat high school\"],[\"contract administrator\",\"null\"],[\"broadcaster and affiliate\",\"null\"],[\"software engineer\",\"university of southern california\"],[\"affiliate\",\"minneapolis college\"],[\"partnerships, content acquisition and development\",\"null\"],[\"manager of network engineering\",\"null\"],[\"broadcaster\",\"full sail university\"],[\"technical capacity planner\",\"stanford university\"],[\"twitch moderator\",\"mercy college\"],[\"affiliate\",\"west texas a&m university\"],[\"full time streamer\",\"null\"],[\"broadcaster\",\"butte college\"],[\"streamer\",\"wildwood college\"],[\"twitch affiliate\",\"laguardia community college\"],[\"streamer\",\"null\"],[null,\"de anza college\"],[\"content creator\",\"elizabethtown college\"],[\"affiliate\",\"patrick county high school\"],[\"partner\",\"arizona state university\"],[\"affiliate\",\"rutgers university\\u2013new brunswick\"],[\"new media content creator\",\"forsyth technical community college\"],[\"streamer\",\"blountstown senior high\"],[\"streamer\",\"concord high school\"],[\"affiliate\",\"full sail university\"],[\"broadcaster\",\"null\"],[\"affiliate\",\"null\"],[\"part time streamer\",\"null\"],[\"twitch streamer\",\"null\"],[\"steamer\",\"null\"],[\"affiliate\",\"northern essex community college\"],[\"partner\",\"null\"],[\"content creator\",\"full sail university\"],[\"affiliate\",\"northeast senior high\"],[\"broadcaster\",\"sowela tech\"],[\"streamer\",\"thomas stone high school\"],[\"twitch.tv and rizzomf\",\"lorain county community college\"],[\"software engineer\",\"stanford university\"],[\"streamer\",\"peabody high school\"],[\"partnerships manager\",\"san francisco state university\"],[\"affiliate\",\"null\"],[\"affiliate\",\"null\"],[\"digital artist\",\"lone star college\\u2013cyfair\"],[\"entertainer\",\"null\"],[\"streamer\",\"pomperaug high school\"],[\"partner\",\"null\"],[\"streamer\",\"preston high school\"],[null,\"the university of texas at austin\"],[\"streamer\",\"null\"],[\"livestreamer\",\"bolingbrook high school\"],[\"affiliate\",\"middlesex community college\"],[\"affiliate\",\"new dorp high school\"],[\"partner\",\"null\"],[\"broadcaster\",\"chapparal high school\"],[\"affiliate\",\"ironwood ridge high school\"],[\"affliate streamer\",\"null\"],[\"streamer\",\"null\"],[\"content producer and presenter\",\"george mason university\"],[\"affiliate\",\"null\"],[\"affiliate\",\"null\"],[\"affiliate\",\"bowling green state university\"],[\"affiliate\",\"del valle high school\"],[\"steamer\",\"null\"],[\"twitch streamer\",\"saddleback college\"],[\"affiliate\",\"null\"],[\"content creator\",\"southeast kentucky community and technical college\"],[\"partner\",\"null\"],[\"affiliate\",\"arizona state university\"],[\"streamer\",\"vista real charter high school\"],[null,\"university of tennessee at martin\"],[\"broadcaster\",\"coyne college\"],[\"streamer\",\"null\"],[\"live streamer\",\"null\"],[\"streamer and gamer\",\"null\"],[\"affiliate\",\"houston community college\"],[\"partnered streamer\",\"null\"],[\"pro streamer\",\"stockton university\"],[\"affiliate\",\"craven community college\"],[\"affiliate streamer\",\"null\"],[\"broadcaster\",\"deerfield beach high school\"],[\"guitar god\",\"full sail university\"],[\"associate, pricing and yield management\",\"bentley university\"],[\"streamer\",\"null\"],[\"entertainer\",\"null\"],[\"broadcaster\",\"null\"],[\"affiliate\",\"the university of texas at san antonio\"],[\"broadcaster\",\"null\"],[\"affiliate\",\"null\"],[\"front desk associate\",\"university of mary hardin - baylor\"],[\"affiliate\",\"null\"],[\"partner\",\"southeastern louisiana university\"],[\"steamer\",\"automotive training center, exton pa\"],[\"streamer\",\"null\"],[\"streamer\",\"delgado community college\"],[\"affiliate\",\"high school / ged\"],[\"affiliate\",\"null\"],[\"streamer\",\"western technical college\"],[\"speed runner\",\"union high school\"],[\"affiliate\",\"arapahoe community college\"],[\"gamer\",\"thomas jefferson high school in tampa, fl\"],[\"steamer\",\"null\"],[\"live-streamer and content creator\",\"columbus state community college\"],[null,\"carman - ainsworth high school\"],[\"affiliate\",\"hogwarts school of witchcraft and wizardry (official)\"],[null,\"null\"],[\"mod\",\"university of michigan\"],[null,\"south gate high school\"],[\"partnered streamer\",\"essex junction high school\"],[\"entertainer\",\"dallas baptist university\"],[\"affiliate\",\"null\"],[\"steamer\",\"null\"],[\"steamer\",\"highland regional high school\"],[\"steamer content creator\",\"ivy tech community college\"],[\"affiliate\",\"null\"],[\"affiliate\",\"null\"],[\"steamer\",\"null\"],[\"steamer\",\"null\"],[\"steamer\",\"university of maryland\"],[null,\"east granby high school\"],[\"affiliate\",\"new mexico institute of mining and technology\"],[\"affiliate\",\"null\"],[\"partner\",\"null\"],[\"streamer\",\"null\"],[\"affiliate\",\"null\"],[\"steamer\",\"null\"],[\"partnered streamer\",\"null\"],[\"steamer\",\"allan hancock college\"],[\"broadcaster\",\"null\"],[\"streamer\",\"null\"],[\"streamer\",\"null\"],[\"streamer\",\"university high school\"],[\"affiliate\",\"westover senior high\"],[\"affiliate\",\"metropolitan state college of denver\"],[\"steamer\",\"archbishop rummel high school\"],[\"streamer\",\"null\"],[null,\"null\"],[\"affiliate\",\"null\"],[null,\"null\"],[\"steamer\",\"null\"],[\"twitch affiliate\",\"college of so. nv high school east\"],[\"affiliate content creator\",\"midlands technical college\"],[\"affiliated streamer\",\"null\"],[\"affiliate\",\"null\"],[\"affiliate\",\"null\"],[\"affiliate\",\"null\"],[\"broadcaster\",\"null\"],[null,\"null\"],[\"partner\",\"hoover high school\"],[\"steamer\",\"cumberland perry vo - tech\"],[\"affiliate\",\"kutztown university of pennsylvania\"],[\"affiliate\",\"null\"],[\"streamer\",\"null\"],[\"streamer\",\"glendale high school\"],[\"broadcaster\",\"null\"],[\"twitch affiliate, streamer\",\"fitch senior high school\"],[\"content creator\",\"null\"],[null,\"null\"]],\"hovertemplate\":\"lat=%{lat}<br>lon=%{lon}<br>job_title=%{customdata[0]}<br>school=%{customdata[1]}<extra></extra>\",\"lat\":[33.11,40.65,37.77,37.77,37.8,37.8,31.05,37.85,33.66,37.8,39.61,33.64,37.72,37.77,37.56,37.77,42.1,37.77,37.77,37.77,47.6,37.35,30.26,38.75,37.36,37.8,35.31,37.77,37.77,37.77,37.87,40.65,34.09,45.07,41.25,34.07,39.32,37.93,37.8,37.77,41.29,34.09,34.05,37.38,37.56,40.72,47.6,37.77,28.66,33.66,37.77,37.77,37.77,41.25,39.2,37.77,37.77,40.71,37.77,37.87,37.32,33.66,42.01,40.71,37.77,37.77,30.57,37.77,47.6,40.37,44.22,40.74,41.85,47.6,41.44,33.88,37.87,33.61,37.77,37.77,37.44,37.38,33.6,37.88,37.36,48.11,40.85,40.76,37.77,28.16,40.73,40.71,33.66,42.88,37.76,33.98,35.99,40.65,37.77,33.11,37.77,33.74,37.58,37.8,40.65,39.95,36.17,37.33,40.64,37.52,34.73,37.8,37.77,28.53,30.26,34.05,37.83,37.8,37.77,29.88,28.53,37.38,34.61,34.02,38.28,37.77,37.77,33.41,37.59,37.7,37.8,37.97,37.77,31.93,37.33,37.77,47.63,40.71,40.71,34.22,45.52,32.79,34.05,30.54,37.55,34.05,29.35,25.77,31.75,44.01,32.46,34.02,37.83,34.05,28.3,42.37,39.32,37.87,47.61,37.68,37.45,33.66,27.33,47.6,37.77,37.7,38.1,33.97,37.97,34.04,33.85,40.71,44.92,43.08,32.71,26.25,37.77,41.6,37.9,47.6,37.77,33.78,30.26,34.05,47.65,37.77,37.77,30.57,31.75,37.83,37.77,40.56,38.23,34.05,29.02,30.38,36.85,36.52,37.87,42.48,33.44,37.35,43.1,39.76,37.61,33.35,39.96,37.7,34.74,42.37,37.91,37.63,33.66,33.44,41.45,37.77,41.49,37.77,34.05,34.01,37.9,42.82,47.6,37.77,34.05,26.79,43.61,37.33,47.6,25.85,40.19,41.05,44.06,34.33,33.66,33.91,40.44,29.76,37.77,37.8,33.61,39.52,39.41,37.66,41.56,34.19,44.98,30.45,37.77,33.44,37.38,40.85,32.72,33.99,40.71,38.5,40.74,41.96,37.33,39.9,41.58,33.95,32.95,36.11,30.43,39.44,40.33,42.0,33.01,35.24,38.25,35.82,42.98,35.84,28.67,47.03,30.22,40.63,41.36,37.77,42.52,38.58,36.0,26.7,47.64,43.03,41.48,40.29,41.73,28.53,42.06,41.69,42.61,31.18,28.75,36.17,32.22,29.51,45.52,38.84,29.42,39.95,40.4,31.75,38.28,33.66,33.75,36.6,40.76,33.74,34.27,35.88,41.78,37.97,40.58,28.02,29.61,39.72,39.65,40.69,39.71,26.23,41.9,40.85,33.55,39.77,40.04,29.42,36.17,46.66,31.08,38.04,30.64,40.03,36.74,30.27,33.3,40.56,43.96,36.15,38.32,27.94,43.01,40.03,42.29,47.25,42.2,41.43,33.95,44.6,32.54,40.0,38.33,39.81,39.76,42.41,38.66,28.9,39.33,36.52,41.34,39.48,44.82,28.8,36.03,30.28,40.25,29.76,34.95,30.33,39.95,32.72,28.53,35.05,39.61,29.98,42.4,38.83,43.12,37.8,29.76,36.17,33.9,27.63,40.75,36.19,44.98,36.94,45.01,37.55,40.11,40.25,37.21,32.52,39.16,38.96,41.34,39.36,44.94],\"lon\":[-117.08,-73.95,-122.41,-122.41,-122.26,-122.26,-97.46,-122.48,-117.82,-122.26,-105.01,-117.6,-122.15,-122.41,-122.32,-122.41,-86.48,-122.41,-122.41,-122.41,-122.33,-121.95,-97.74,-121.28,-122.03,-122.26,-120.83,-122.41,-122.41,-122.41,-122.27,-73.95,-118.36,-93.14,-95.94,-84.29,-120.18,-122.34,-122.26,-122.41,-89.03,-118.36,-118.24,-122.08,-122.32,-74.07,-122.33,-122.41,-81.2,-117.82,-122.41,-122.41,-122.41,-95.93,-85.92,-122.41,-122.41,-74.0,-122.41,-122.27,-122.03,-117.82,-87.84,-74.0,-122.41,-122.41,-97.85,-122.41,-122.33,-75.29,-88.47,-73.94,-87.65,-122.33,-74.42,-118.3,-122.27,-117.71,-122.41,-122.41,-122.14,-122.08,-117.67,-122.11,-122.03,-122.75,-73.97,-111.89,-122.41,-81.6,-74.17,-74.0,-117.82,-78.87,-122.24,-118.45,-78.89,-73.95,-122.41,-117.08,-122.41,-117.86,-122.36,-122.26,-73.95,-75.16,-115.13,-121.89,-73.67,-122.27,-86.58,-122.26,-122.41,-81.37,-97.74,-118.24,-122.12,-122.26,-122.41,-97.94,-81.37,-122.08,-120.07,-84.36,-85.82,-122.41,-122.41,-111.9,-122.38,-122.46,-122.26,-122.03,-122.41,-81.3,-121.89,-122.41,-122.21,-74.0,-74.0,-118.53,-122.67,-116.96,-118.24,-97.54,-77.46,-118.24,-95.46,-80.19,-106.48,-75.79,-84.98,-118.39,-122.28,-118.24,-81.41,-71.06,-76.87,-122.27,-122.19,-122.39,-122.18,-117.82,-82.53,-122.33,-122.41,-122.46,-122.56,-118.42,-87.55,-118.52,-118.06,-74.0,-93.46,-77.19,-117.15,-80.17,-122.41,-93.6,-122.54,-122.33,-122.41,-117.85,-97.74,-118.24,-117.42,-122.41,-122.41,-97.85,-106.48,-122.28,-121.97,-74.13,-122.63,-118.24,-81.3,-95.69,-75.97,-87.35,-122.27,-83.1,-112.07,-121.95,-76.21,-86.15,-122.48,-111.78,-82.99,-121.93,-87.66,-87.9,-122.31,-122.41,-117.99,-112.07,-83.48,-122.41,-81.69,-122.41,-118.24,-118.49,-122.06,-73.96,-122.33,-122.41,-118.24,-80.06,-116.2,-121.89,-122.33,-80.27,-85.38,-73.53,-70.39,-82.38,-117.82,-117.9,-79.99,-95.36,-122.41,-122.26,-112.32,-119.81,-77.41,-122.07,-72.65,-119.17,-93.26,-91.15,-121.97,-112.07,-122.08,-73.86,-97.32,-117.51,-74.0,-90.62,-73.9,-71.67,-121.89,-75.28,-71.92,-117.39,-117.26,-80.07,-84.28,-75.71,-75.92,-91.64,-80.17,-78.35,-85.75,-78.82,-70.94,-86.39,-81.32,-122.82,-93.21,-80.24,-82.1,-122.41,-70.92,-121.49,-104.7,-80.23,-117.59,-87.9,-73.21,-111.69,-111.83,-81.37,-87.93,-88.06,-71.23,-94.78,-81.31,-115.13,-110.92,-98.31,-122.67,-77.42,-98.49,-75.16,-82.81,-106.48,-85.82,-117.58,-118.0,-83.71,-111.89,-116.97,-119.29,-84.5,-88.14,-122.56,-105.08,-81.73,-95.53,-104.83,-75.32,-89.58,-82.59,-80.12,12.48,-73.15,-117.21,-74.86,-86.0,-98.49,-115.13,-122.96,-97.65,-122.15,-91.15,-75.55,-119.77,-89.78,-111.84,-77.39,-91.25,-95.99,-85.47,-82.45,-83.68,-83.15,-85.58,-122.44,-85.58,-71.5,-118.21,-73.0,-97.32,-76.84,-87.34,-74.98,-86.15,-88.07,-90.57,-81.26,-82.98,-87.35,-72.13,-80.14,-89.59,-97.0,-114.98,-82.12,-103.79,-95.36,-120.43,-81.65,-75.16,-97.32,-81.37,-78.87,-105.01,-90.15,-71.01,-104.82,-123.41,-122.26,-95.36,-115.13,-80.87,-80.39,-75.26,-115.11,-93.26,-82.46,-93.45,-77.46,-76.71,-75.46,-93.29,-93.75,-119.76,-76.87,-72.03,-76.45,-123.03],\"name\":\"\",\"radius\":10,\"subplot\":\"mapbox\",\"type\":\"densitymapbox\"},{\"colorscale\":[[0.0,\"rgb(255,245,240)\"],[0.125,\"rgb(254,224,210)\"],[0.25,\"rgb(252,187,161)\"],[0.375,\"rgb(252,146,114)\"],[0.5,\"rgb(251,106,74)\"],[0.625,\"rgb(239,59,44)\"],[0.75,\"rgb(203,24,29)\"],[0.875,\"rgb(165,15,21)\"],[1.0,\"rgb(103,0,13)\"]],\"hovertext\":\"company HQ\",\"lat\":[37.77],\"lon\":[-122.41],\"radius\":15,\"type\":\"densitymapbox\"}],                        {\"coloraxis\":{\"colorscale\":[[0.0,\"#440154\"],[0.1111111111111111,\"#482878\"],[0.2222222222222222,\"#3e4989\"],[0.3333333333333333,\"#31688e\"],[0.4444444444444444,\"#26828e\"],[0.5555555555555556,\"#1f9e89\"],[0.6666666666666666,\"#35b779\"],[0.7777777777777778,\"#6ece58\"],[0.8888888888888888,\"#b5de2b\"],[1.0,\"#fde725\"]]},\"legend\":{\"tracegroupgap\":0},\"mapbox\":{\"accesstoken\":\"pk.eyJ1IjoidHJhY3ljaGFybGVzMTA4IiwiYSI6ImNsMjJmdmUzajFmeXcza3BkOXgwOWZoNW4ifQ.bFv6klpNU8XWRbEJ0zk1Dw\",\"center\":{\"lat\":37.36245614035092,\"lon\":-101.76691729323312},\"domain\":{\"x\":[0.0,1.0],\"y\":[0.0,1.0]},\"style\":\"carto-positron\",\"zoom\":3},\"margin\":{\"b\":0,\"l\":0,\"r\":0,\"t\":0},\"template\":{\"data\":{\"bar\":[{\"error_x\":{\"color\":\"#2a3f5f\"},\"error_y\":{\"color\":\"#2a3f5f\"},\"marker\":{\"line\":{\"color\":\"#E5ECF6\",\"width\":0.5},\"pattern\":{\"fillmode\":\"overlay\",\"size\":10,\"solidity\":0.2}},\"type\":\"bar\"}],\"barpolar\":[{\"marker\":{\"line\":{\"color\":\"#E5ECF6\",\"width\":0.5},\"pattern\":{\"fillmode\":\"overlay\",\"size\":10,\"solidity\":0.2}},\"type\":\"barpolar\"}],\"carpet\":[{\"aaxis\":{\"endlinecolor\":\"#2a3f5f\",\"gridcolor\":\"white\",\"linecolor\":\"white\",\"minorgridcolor\":\"white\",\"startlinecolor\":\"#2a3f5f\"},\"baxis\":{\"endlinecolor\":\"#2a3f5f\",\"gridcolor\":\"white\",\"linecolor\":\"white\",\"minorgridcolor\":\"white\",\"startlinecolor\":\"#2a3f5f\"},\"type\":\"carpet\"}],\"choropleth\":[{\"colorbar\":{\"outlinewidth\":0,\"ticks\":\"\"},\"type\":\"choropleth\"}],\"contour\":[{\"colorbar\":{\"outlinewidth\":0,\"ticks\":\"\"},\"colorscale\":[[0.0,\"#0d0887\"],[0.1111111111111111,\"#46039f\"],[0.2222222222222222,\"#7201a8\"],[0.3333333333333333,\"#9c179e\"],[0.4444444444444444,\"#bd3786\"],[0.5555555555555556,\"#d8576b\"],[0.6666666666666666,\"#ed7953\"],[0.7777777777777778,\"#fb9f3a\"],[0.8888888888888888,\"#fdca26\"],[1.0,\"#f0f921\"]],\"type\":\"contour\"}],\"contourcarpet\":[{\"colorbar\":{\"outlinewidth\":0,\"ticks\":\"\"},\"type\":\"contourcarpet\"}],\"heatmap\":[{\"colorbar\":{\"outlinewidth\":0,\"ticks\":\"\"},\"colorscale\":[[0.0,\"#0d0887\"],[0.1111111111111111,\"#46039f\"],[0.2222222222222222,\"#7201a8\"],[0.3333333333333333,\"#9c179e\"],[0.4444444444444444,\"#bd3786\"],[0.5555555555555556,\"#d8576b\"],[0.6666666666666666,\"#ed7953\"],[0.7777777777777778,\"#fb9f3a\"],[0.8888888888888888,\"#fdca26\"],[1.0,\"#f0f921\"]],\"type\":\"heatmap\"}],\"heatmapgl\":[{\"colorbar\":{\"outlinewidth\":0,\"ticks\":\"\"},\"colorscale\":[[0.0,\"#0d0887\"],[0.1111111111111111,\"#46039f\"],[0.2222222222222222,\"#7201a8\"],[0.3333333333333333,\"#9c179e\"],[0.4444444444444444,\"#bd3786\"],[0.5555555555555556,\"#d8576b\"],[0.6666666666666666,\"#ed7953\"],[0.7777777777777778,\"#fb9f3a\"],[0.8888888888888888,\"#fdca26\"],[1.0,\"#f0f921\"]],\"type\":\"heatmapgl\"}],\"histogram\":[{\"marker\":{\"pattern\":{\"fillmode\":\"overlay\",\"size\":10,\"solidity\":0.2}},\"type\":\"histogram\"}],\"histogram2d\":[{\"colorbar\":{\"outlinewidth\":0,\"ticks\":\"\"},\"colorscale\":[[0.0,\"#0d0887\"],[0.1111111111111111,\"#46039f\"],[0.2222222222222222,\"#7201a8\"],[0.3333333333333333,\"#9c179e\"],[0.4444444444444444,\"#bd3786\"],[0.5555555555555556,\"#d8576b\"],[0.6666666666666666,\"#ed7953\"],[0.7777777777777778,\"#fb9f3a\"],[0.8888888888888888,\"#fdca26\"],[1.0,\"#f0f921\"]],\"type\":\"histogram2d\"}],\"histogram2dcontour\":[{\"colorbar\":{\"outlinewidth\":0,\"ticks\":\"\"},\"colorscale\":[[0.0,\"#0d0887\"],[0.1111111111111111,\"#46039f\"],[0.2222222222222222,\"#7201a8\"],[0.3333333333333333,\"#9c179e\"],[0.4444444444444444,\"#bd3786\"],[0.5555555555555556,\"#d8576b\"],[0.6666666666666666,\"#ed7953\"],[0.7777777777777778,\"#fb9f3a\"],[0.8888888888888888,\"#fdca26\"],[1.0,\"#f0f921\"]],\"type\":\"histogram2dcontour\"}],\"mesh3d\":[{\"colorbar\":{\"outlinewidth\":0,\"ticks\":\"\"},\"type\":\"mesh3d\"}],\"parcoords\":[{\"line\":{\"colorbar\":{\"outlinewidth\":0,\"ticks\":\"\"}},\"type\":\"parcoords\"}],\"pie\":[{\"automargin\":true,\"type\":\"pie\"}],\"scatter\":[{\"marker\":{\"colorbar\":{\"outlinewidth\":0,\"ticks\":\"\"}},\"type\":\"scatter\"}],\"scatter3d\":[{\"line\":{\"colorbar\":{\"outlinewidth\":0,\"ticks\":\"\"}},\"marker\":{\"colorbar\":{\"outlinewidth\":0,\"ticks\":\"\"}},\"type\":\"scatter3d\"}],\"scattercarpet\":[{\"marker\":{\"colorbar\":{\"outlinewidth\":0,\"ticks\":\"\"}},\"type\":\"scattercarpet\"}],\"scattergeo\":[{\"marker\":{\"colorbar\":{\"outlinewidth\":0,\"ticks\":\"\"}},\"type\":\"scattergeo\"}],\"scattergl\":[{\"marker\":{\"colorbar\":{\"outlinewidth\":0,\"ticks\":\"\"}},\"type\":\"scattergl\"}],\"scattermapbox\":[{\"marker\":{\"colorbar\":{\"outlinewidth\":0,\"ticks\":\"\"}},\"type\":\"scattermapbox\"}],\"scatterpolar\":[{\"marker\":{\"colorbar\":{\"outlinewidth\":0,\"ticks\":\"\"}},\"type\":\"scatterpolar\"}],\"scatterpolargl\":[{\"marker\":{\"colorbar\":{\"outlinewidth\":0,\"ticks\":\"\"}},\"type\":\"scatterpolargl\"}],\"scatterternary\":[{\"marker\":{\"colorbar\":{\"outlinewidth\":0,\"ticks\":\"\"}},\"type\":\"scatterternary\"}],\"surface\":[{\"colorbar\":{\"outlinewidth\":0,\"ticks\":\"\"},\"colorscale\":[[0.0,\"#0d0887\"],[0.1111111111111111,\"#46039f\"],[0.2222222222222222,\"#7201a8\"],[0.3333333333333333,\"#9c179e\"],[0.4444444444444444,\"#bd3786\"],[0.5555555555555556,\"#d8576b\"],[0.6666666666666666,\"#ed7953\"],[0.7777777777777778,\"#fb9f3a\"],[0.8888888888888888,\"#fdca26\"],[1.0,\"#f0f921\"]],\"type\":\"surface\"}],\"table\":[{\"cells\":{\"fill\":{\"color\":\"#EBF0F8\"},\"line\":{\"color\":\"white\"}},\"header\":{\"fill\":{\"color\":\"#C8D4E3\"},\"line\":{\"color\":\"white\"}},\"type\":\"table\"}]},\"layout\":{\"annotationdefaults\":{\"arrowcolor\":\"#2a3f5f\",\"arrowhead\":0,\"arrowwidth\":1},\"autotypenumbers\":\"strict\",\"coloraxis\":{\"colorbar\":{\"outlinewidth\":0,\"ticks\":\"\"}},\"colorscale\":{\"diverging\":[[0,\"#8e0152\"],[0.1,\"#c51b7d\"],[0.2,\"#de77ae\"],[0.3,\"#f1b6da\"],[0.4,\"#fde0ef\"],[0.5,\"#f7f7f7\"],[0.6,\"#e6f5d0\"],[0.7,\"#b8e186\"],[0.8,\"#7fbc41\"],[0.9,\"#4d9221\"],[1,\"#276419\"]],\"sequential\":[[0.0,\"#0d0887\"],[0.1111111111111111,\"#46039f\"],[0.2222222222222222,\"#7201a8\"],[0.3333333333333333,\"#9c179e\"],[0.4444444444444444,\"#bd3786\"],[0.5555555555555556,\"#d8576b\"],[0.6666666666666666,\"#ed7953\"],[0.7777777777777778,\"#fb9f3a\"],[0.8888888888888888,\"#fdca26\"],[1.0,\"#f0f921\"]],\"sequentialminus\":[[0.0,\"#0d0887\"],[0.1111111111111111,\"#46039f\"],[0.2222222222222222,\"#7201a8\"],[0.3333333333333333,\"#9c179e\"],[0.4444444444444444,\"#bd3786\"],[0.5555555555555556,\"#d8576b\"],[0.6666666666666666,\"#ed7953\"],[0.7777777777777778,\"#fb9f3a\"],[0.8888888888888888,\"#fdca26\"],[1.0,\"#f0f921\"]]},\"colorway\":[\"#636efa\",\"#EF553B\",\"#00cc96\",\"#ab63fa\",\"#FFA15A\",\"#19d3f3\",\"#FF6692\",\"#B6E880\",\"#FF97FF\",\"#FECB52\"],\"font\":{\"color\":\"#2a3f5f\"},\"geo\":{\"bgcolor\":\"white\",\"lakecolor\":\"white\",\"landcolor\":\"#E5ECF6\",\"showlakes\":true,\"showland\":true,\"subunitcolor\":\"white\"},\"hoverlabel\":{\"align\":\"left\"},\"hovermode\":\"closest\",\"mapbox\":{\"style\":\"light\"},\"paper_bgcolor\":\"white\",\"plot_bgcolor\":\"#E5ECF6\",\"polar\":{\"angularaxis\":{\"gridcolor\":\"white\",\"linecolor\":\"white\",\"ticks\":\"\"},\"bgcolor\":\"#E5ECF6\",\"radialaxis\":{\"gridcolor\":\"white\",\"linecolor\":\"white\",\"ticks\":\"\"}},\"scene\":{\"xaxis\":{\"backgroundcolor\":\"#E5ECF6\",\"gridcolor\":\"white\",\"gridwidth\":2,\"linecolor\":\"white\",\"showbackground\":true,\"ticks\":\"\",\"zerolinecolor\":\"white\"},\"yaxis\":{\"backgroundcolor\":\"#E5ECF6\",\"gridcolor\":\"white\",\"gridwidth\":2,\"linecolor\":\"white\",\"showbackground\":true,\"ticks\":\"\",\"zerolinecolor\":\"white\"},\"zaxis\":{\"backgroundcolor\":\"#E5ECF6\",\"gridcolor\":\"white\",\"gridwidth\":2,\"linecolor\":\"white\",\"showbackground\":true,\"ticks\":\"\",\"zerolinecolor\":\"white\"}},\"shapedefaults\":{\"line\":{\"color\":\"#2a3f5f\"}},\"ternary\":{\"aaxis\":{\"gridcolor\":\"white\",\"linecolor\":\"white\",\"ticks\":\"\"},\"baxis\":{\"gridcolor\":\"white\",\"linecolor\":\"white\",\"ticks\":\"\"},\"bgcolor\":\"#E5ECF6\",\"caxis\":{\"gridcolor\":\"white\",\"linecolor\":\"white\",\"ticks\":\"\"}},\"title\":{\"x\":0.05},\"xaxis\":{\"automargin\":true,\"gridcolor\":\"white\",\"linecolor\":\"white\",\"ticks\":\"\",\"title\":{\"standoff\":15},\"zerolinecolor\":\"white\",\"zerolinewidth\":2},\"yaxis\":{\"automargin\":true,\"gridcolor\":\"white\",\"linecolor\":\"white\",\"ticks\":\"\",\"title\":{\"standoff\":15},\"zerolinecolor\":\"white\",\"zerolinewidth\":2}}}},                        {\"responsive\": true}                    ).then(function(){\n",
       "                            \n",
       "var gd = document.getElementById('f7e1abfb-5157-4273-b73b-0aaec5d0ee21');\n",
       "var x = new MutationObserver(function (mutations, observer) {{\n",
       "        var display = window.getComputedStyle(gd).display;\n",
       "        if (!display || display === 'none') {{\n",
       "            console.log([gd, 'removed!']);\n",
       "            Plotly.purge(gd);\n",
       "            observer.disconnect();\n",
       "        }}\n",
       "}});\n",
       "\n",
       "// Listen for the removal of the full notebook cells\n",
       "var notebookContainer = gd.closest('#notebook-container');\n",
       "if (notebookContainer) {{\n",
       "    x.observe(notebookContainer, {childList: true});\n",
       "}}\n",
       "\n",
       "// Listen for the clearing of the current output cell\n",
       "var outputEl = gd.closest('.output');\n",
       "if (outputEl) {{\n",
       "    x.observe(outputEl, {childList: true});\n",
       "}}\n",
       "\n",
       "                        })                };                });            </script>        </div>"
      ]
     },
     "metadata": {},
     "output_type": "display_data"
    }
   ],
   "source": [
    "map(api_key, \"twitch\", -1)"
   ]
  },
  {
   "cell_type": "code",
   "execution_count": 60,
   "id": "9c5eaf86",
   "metadata": {
    "scrolled": true
   },
   "outputs": [
    {
     "name": "stdout",
     "output_type": "stream",
     "text": [
      "7447 available records in this search\n",
      "Retrieved 100 records in batch 1\n",
      "Retrieved 100 records in batch 2\n",
      "Retrieved 100 records in batch 3\n",
      "Retrieved 100 records in batch 4\n",
      "Retrieved 100 records in batch 5\n",
      "Retrieved 100 records in batch 6\n",
      "Retrieved 100 records in batch 7\n",
      "Retrieved 100 records in batch 8\n",
      "Retrieved 100 records in batch 9\n",
      "Retrieved 100 records in batch 10\n",
      "Successfully recovered 1000 profiles in 11 batches [95.61114978790283 seconds]\n",
      "status: 200 total: 7447\n",
      "Wrote 1 lines to: 'google1000_employees.csv'\n",
      "Wrote 2 lines to: 'google1000_employees.csv'\n",
      "Wrote 3 lines to: 'google1000_employees.csv'\n",
      "Wrote 4 lines to: 'google1000_employees.csv'\n",
      "Wrote 5 lines to: 'google1000_employees.csv'\n",
      "Wrote 6 lines to: 'google1000_employees.csv'\n",
      "Wrote 7 lines to: 'google1000_employees.csv'\n",
      "Wrote 8 lines to: 'google1000_employees.csv'\n",
      "Wrote 9 lines to: 'google1000_employees.csv'\n",
      "Wrote 10 lines to: 'google1000_employees.csv'\n",
      "Wrote 11 lines to: 'google1000_employees.csv'\n",
      "Wrote 12 lines to: 'google1000_employees.csv'\n",
      "Wrote 13 lines to: 'google1000_employees.csv'\n",
      "Wrote 14 lines to: 'google1000_employees.csv'\n",
      "Wrote 15 lines to: 'google1000_employees.csv'\n",
      "Wrote 16 lines to: 'google1000_employees.csv'\n",
      "Wrote 17 lines to: 'google1000_employees.csv'\n",
      "Wrote 18 lines to: 'google1000_employees.csv'\n",
      "Wrote 19 lines to: 'google1000_employees.csv'\n",
      "Wrote 20 lines to: 'google1000_employees.csv'\n",
      "Wrote 21 lines to: 'google1000_employees.csv'\n",
      "Wrote 22 lines to: 'google1000_employees.csv'\n",
      "Wrote 23 lines to: 'google1000_employees.csv'\n",
      "Wrote 24 lines to: 'google1000_employees.csv'\n",
      "Wrote 25 lines to: 'google1000_employees.csv'\n",
      "Wrote 26 lines to: 'google1000_employees.csv'\n",
      "Wrote 27 lines to: 'google1000_employees.csv'\n",
      "Wrote 28 lines to: 'google1000_employees.csv'\n",
      "Wrote 29 lines to: 'google1000_employees.csv'\n",
      "Wrote 30 lines to: 'google1000_employees.csv'\n",
      "Wrote 31 lines to: 'google1000_employees.csv'\n",
      "Wrote 32 lines to: 'google1000_employees.csv'\n",
      "Wrote 33 lines to: 'google1000_employees.csv'\n",
      "Wrote 34 lines to: 'google1000_employees.csv'\n",
      "Wrote 35 lines to: 'google1000_employees.csv'\n",
      "Wrote 36 lines to: 'google1000_employees.csv'\n",
      "Wrote 37 lines to: 'google1000_employees.csv'\n",
      "Wrote 38 lines to: 'google1000_employees.csv'\n",
      "Wrote 39 lines to: 'google1000_employees.csv'\n",
      "Wrote 40 lines to: 'google1000_employees.csv'\n",
      "Wrote 41 lines to: 'google1000_employees.csv'\n",
      "Wrote 42 lines to: 'google1000_employees.csv'\n",
      "Wrote 43 lines to: 'google1000_employees.csv'\n",
      "Wrote 44 lines to: 'google1000_employees.csv'\n",
      "Wrote 45 lines to: 'google1000_employees.csv'\n",
      "Wrote 46 lines to: 'google1000_employees.csv'\n",
      "Wrote 47 lines to: 'google1000_employees.csv'\n",
      "Wrote 48 lines to: 'google1000_employees.csv'\n",
      "Wrote 49 lines to: 'google1000_employees.csv'\n",
      "Wrote 50 lines to: 'google1000_employees.csv'\n",
      "Wrote 51 lines to: 'google1000_employees.csv'\n",
      "Wrote 52 lines to: 'google1000_employees.csv'\n",
      "Wrote 53 lines to: 'google1000_employees.csv'\n",
      "Wrote 54 lines to: 'google1000_employees.csv'\n",
      "Wrote 55 lines to: 'google1000_employees.csv'\n",
      "Wrote 56 lines to: 'google1000_employees.csv'\n",
      "Wrote 57 lines to: 'google1000_employees.csv'\n",
      "Wrote 58 lines to: 'google1000_employees.csv'\n",
      "Wrote 59 lines to: 'google1000_employees.csv'\n",
      "Wrote 60 lines to: 'google1000_employees.csv'\n",
      "Wrote 61 lines to: 'google1000_employees.csv'\n",
      "Wrote 62 lines to: 'google1000_employees.csv'\n",
      "Wrote 63 lines to: 'google1000_employees.csv'\n",
      "Wrote 64 lines to: 'google1000_employees.csv'\n",
      "Wrote 65 lines to: 'google1000_employees.csv'\n",
      "Wrote 66 lines to: 'google1000_employees.csv'\n",
      "Wrote 67 lines to: 'google1000_employees.csv'\n",
      "Wrote 68 lines to: 'google1000_employees.csv'\n",
      "Wrote 69 lines to: 'google1000_employees.csv'\n",
      "Wrote 70 lines to: 'google1000_employees.csv'\n",
      "Wrote 71 lines to: 'google1000_employees.csv'\n",
      "Wrote 72 lines to: 'google1000_employees.csv'\n",
      "Wrote 73 lines to: 'google1000_employees.csv'\n",
      "Wrote 74 lines to: 'google1000_employees.csv'\n",
      "Wrote 75 lines to: 'google1000_employees.csv'\n",
      "Wrote 76 lines to: 'google1000_employees.csv'\n",
      "Wrote 77 lines to: 'google1000_employees.csv'\n",
      "Wrote 78 lines to: 'google1000_employees.csv'\n",
      "Wrote 79 lines to: 'google1000_employees.csv'\n",
      "Wrote 80 lines to: 'google1000_employees.csv'\n",
      "Wrote 81 lines to: 'google1000_employees.csv'\n",
      "Wrote 82 lines to: 'google1000_employees.csv'\n",
      "Wrote 83 lines to: 'google1000_employees.csv'\n",
      "Wrote 84 lines to: 'google1000_employees.csv'\n",
      "Wrote 85 lines to: 'google1000_employees.csv'\n",
      "Wrote 86 lines to: 'google1000_employees.csv'\n",
      "Wrote 87 lines to: 'google1000_employees.csv'\n",
      "Wrote 88 lines to: 'google1000_employees.csv'\n",
      "Wrote 89 lines to: 'google1000_employees.csv'\n",
      "Wrote 90 lines to: 'google1000_employees.csv'\n",
      "Wrote 91 lines to: 'google1000_employees.csv'\n",
      "Wrote 92 lines to: 'google1000_employees.csv'\n",
      "Wrote 93 lines to: 'google1000_employees.csv'\n",
      "Wrote 94 lines to: 'google1000_employees.csv'\n",
      "Wrote 95 lines to: 'google1000_employees.csv'\n",
      "Wrote 96 lines to: 'google1000_employees.csv'\n",
      "Wrote 97 lines to: 'google1000_employees.csv'\n",
      "Wrote 98 lines to: 'google1000_employees.csv'\n",
      "Wrote 99 lines to: 'google1000_employees.csv'\n",
      "Wrote 100 lines to: 'google1000_employees.csv'\n",
      "Wrote 101 lines to: 'google1000_employees.csv'\n",
      "Wrote 102 lines to: 'google1000_employees.csv'\n",
      "Wrote 103 lines to: 'google1000_employees.csv'\n",
      "Wrote 104 lines to: 'google1000_employees.csv'\n",
      "Wrote 105 lines to: 'google1000_employees.csv'\n",
      "Wrote 106 lines to: 'google1000_employees.csv'\n",
      "Wrote 107 lines to: 'google1000_employees.csv'\n",
      "Wrote 108 lines to: 'google1000_employees.csv'\n",
      "Wrote 109 lines to: 'google1000_employees.csv'\n",
      "Wrote 110 lines to: 'google1000_employees.csv'\n",
      "Wrote 111 lines to: 'google1000_employees.csv'\n",
      "Wrote 112 lines to: 'google1000_employees.csv'\n",
      "Wrote 113 lines to: 'google1000_employees.csv'\n",
      "Wrote 114 lines to: 'google1000_employees.csv'\n",
      "Wrote 115 lines to: 'google1000_employees.csv'\n",
      "Wrote 116 lines to: 'google1000_employees.csv'\n",
      "Wrote 117 lines to: 'google1000_employees.csv'\n",
      "Wrote 118 lines to: 'google1000_employees.csv'\n",
      "Wrote 119 lines to: 'google1000_employees.csv'\n",
      "Wrote 120 lines to: 'google1000_employees.csv'\n",
      "Wrote 121 lines to: 'google1000_employees.csv'\n",
      "Wrote 122 lines to: 'google1000_employees.csv'\n",
      "Wrote 123 lines to: 'google1000_employees.csv'\n",
      "Wrote 124 lines to: 'google1000_employees.csv'\n",
      "Wrote 125 lines to: 'google1000_employees.csv'\n",
      "Wrote 126 lines to: 'google1000_employees.csv'\n",
      "Wrote 127 lines to: 'google1000_employees.csv'\n",
      "Wrote 128 lines to: 'google1000_employees.csv'\n",
      "Wrote 129 lines to: 'google1000_employees.csv'\n",
      "Wrote 130 lines to: 'google1000_employees.csv'\n",
      "Wrote 131 lines to: 'google1000_employees.csv'\n",
      "Wrote 132 lines to: 'google1000_employees.csv'\n",
      "Wrote 133 lines to: 'google1000_employees.csv'\n",
      "Wrote 134 lines to: 'google1000_employees.csv'\n",
      "Wrote 135 lines to: 'google1000_employees.csv'\n",
      "Wrote 136 lines to: 'google1000_employees.csv'\n",
      "Wrote 137 lines to: 'google1000_employees.csv'\n",
      "Wrote 138 lines to: 'google1000_employees.csv'\n",
      "Wrote 139 lines to: 'google1000_employees.csv'\n",
      "Wrote 140 lines to: 'google1000_employees.csv'\n",
      "Wrote 141 lines to: 'google1000_employees.csv'\n",
      "Wrote 142 lines to: 'google1000_employees.csv'\n",
      "Wrote 143 lines to: 'google1000_employees.csv'\n",
      "Wrote 144 lines to: 'google1000_employees.csv'\n",
      "Wrote 145 lines to: 'google1000_employees.csv'\n",
      "Wrote 146 lines to: 'google1000_employees.csv'\n",
      "Wrote 147 lines to: 'google1000_employees.csv'\n",
      "Wrote 148 lines to: 'google1000_employees.csv'\n",
      "Wrote 149 lines to: 'google1000_employees.csv'\n",
      "Wrote 150 lines to: 'google1000_employees.csv'\n",
      "Wrote 151 lines to: 'google1000_employees.csv'\n",
      "Wrote 152 lines to: 'google1000_employees.csv'\n",
      "Wrote 153 lines to: 'google1000_employees.csv'\n",
      "Wrote 154 lines to: 'google1000_employees.csv'\n",
      "Wrote 155 lines to: 'google1000_employees.csv'\n",
      "Wrote 156 lines to: 'google1000_employees.csv'\n",
      "Wrote 157 lines to: 'google1000_employees.csv'\n",
      "Wrote 158 lines to: 'google1000_employees.csv'\n",
      "Wrote 159 lines to: 'google1000_employees.csv'\n",
      "Wrote 160 lines to: 'google1000_employees.csv'\n",
      "Wrote 161 lines to: 'google1000_employees.csv'\n",
      "Wrote 162 lines to: 'google1000_employees.csv'\n",
      "Wrote 163 lines to: 'google1000_employees.csv'\n",
      "Wrote 164 lines to: 'google1000_employees.csv'\n",
      "Wrote 165 lines to: 'google1000_employees.csv'\n",
      "Wrote 166 lines to: 'google1000_employees.csv'\n",
      "Wrote 167 lines to: 'google1000_employees.csv'\n",
      "Wrote 168 lines to: 'google1000_employees.csv'\n",
      "Wrote 169 lines to: 'google1000_employees.csv'\n",
      "Wrote 170 lines to: 'google1000_employees.csv'\n",
      "Wrote 171 lines to: 'google1000_employees.csv'\n",
      "Wrote 172 lines to: 'google1000_employees.csv'\n",
      "Wrote 173 lines to: 'google1000_employees.csv'\n",
      "Wrote 174 lines to: 'google1000_employees.csv'\n",
      "Wrote 175 lines to: 'google1000_employees.csv'\n",
      "Wrote 176 lines to: 'google1000_employees.csv'\n",
      "Wrote 177 lines to: 'google1000_employees.csv'\n",
      "Wrote 178 lines to: 'google1000_employees.csv'\n",
      "Wrote 179 lines to: 'google1000_employees.csv'\n",
      "Wrote 180 lines to: 'google1000_employees.csv'\n",
      "Wrote 181 lines to: 'google1000_employees.csv'\n",
      "Wrote 182 lines to: 'google1000_employees.csv'\n",
      "Wrote 183 lines to: 'google1000_employees.csv'\n",
      "Wrote 184 lines to: 'google1000_employees.csv'\n",
      "Wrote 185 lines to: 'google1000_employees.csv'\n",
      "Wrote 186 lines to: 'google1000_employees.csv'\n",
      "Wrote 187 lines to: 'google1000_employees.csv'\n",
      "Wrote 188 lines to: 'google1000_employees.csv'\n",
      "Wrote 189 lines to: 'google1000_employees.csv'\n",
      "Wrote 190 lines to: 'google1000_employees.csv'\n",
      "Wrote 191 lines to: 'google1000_employees.csv'\n",
      "Wrote 192 lines to: 'google1000_employees.csv'\n",
      "Wrote 193 lines to: 'google1000_employees.csv'\n",
      "Wrote 194 lines to: 'google1000_employees.csv'\n",
      "Wrote 195 lines to: 'google1000_employees.csv'\n",
      "Wrote 196 lines to: 'google1000_employees.csv'\n",
      "Wrote 197 lines to: 'google1000_employees.csv'\n",
      "Wrote 198 lines to: 'google1000_employees.csv'\n",
      "Wrote 199 lines to: 'google1000_employees.csv'\n",
      "Wrote 200 lines to: 'google1000_employees.csv'\n",
      "Wrote 201 lines to: 'google1000_employees.csv'\n",
      "Wrote 202 lines to: 'google1000_employees.csv'\n",
      "Wrote 203 lines to: 'google1000_employees.csv'\n",
      "Wrote 204 lines to: 'google1000_employees.csv'\n",
      "Wrote 205 lines to: 'google1000_employees.csv'\n",
      "Wrote 206 lines to: 'google1000_employees.csv'\n",
      "Wrote 207 lines to: 'google1000_employees.csv'\n",
      "Wrote 208 lines to: 'google1000_employees.csv'\n",
      "Wrote 209 lines to: 'google1000_employees.csv'\n",
      "Wrote 210 lines to: 'google1000_employees.csv'\n",
      "Wrote 211 lines to: 'google1000_employees.csv'\n",
      "Wrote 212 lines to: 'google1000_employees.csv'\n",
      "Wrote 213 lines to: 'google1000_employees.csv'\n",
      "Wrote 214 lines to: 'google1000_employees.csv'\n",
      "Wrote 215 lines to: 'google1000_employees.csv'\n",
      "Wrote 216 lines to: 'google1000_employees.csv'\n",
      "Wrote 217 lines to: 'google1000_employees.csv'\n",
      "Wrote 218 lines to: 'google1000_employees.csv'\n",
      "Wrote 219 lines to: 'google1000_employees.csv'\n",
      "Wrote 220 lines to: 'google1000_employees.csv'\n",
      "Wrote 221 lines to: 'google1000_employees.csv'\n",
      "Wrote 222 lines to: 'google1000_employees.csv'\n",
      "Wrote 223 lines to: 'google1000_employees.csv'\n",
      "Wrote 224 lines to: 'google1000_employees.csv'\n",
      "Wrote 225 lines to: 'google1000_employees.csv'\n",
      "Wrote 226 lines to: 'google1000_employees.csv'\n",
      "Wrote 227 lines to: 'google1000_employees.csv'\n",
      "Wrote 228 lines to: 'google1000_employees.csv'\n",
      "Wrote 229 lines to: 'google1000_employees.csv'\n",
      "Wrote 230 lines to: 'google1000_employees.csv'\n",
      "Wrote 231 lines to: 'google1000_employees.csv'\n",
      "Wrote 232 lines to: 'google1000_employees.csv'\n",
      "Wrote 233 lines to: 'google1000_employees.csv'\n",
      "Wrote 234 lines to: 'google1000_employees.csv'\n",
      "Wrote 235 lines to: 'google1000_employees.csv'\n",
      "Wrote 236 lines to: 'google1000_employees.csv'\n",
      "Wrote 237 lines to: 'google1000_employees.csv'\n",
      "Wrote 238 lines to: 'google1000_employees.csv'\n",
      "Wrote 239 lines to: 'google1000_employees.csv'\n",
      "Wrote 240 lines to: 'google1000_employees.csv'\n",
      "Wrote 241 lines to: 'google1000_employees.csv'\n",
      "Wrote 242 lines to: 'google1000_employees.csv'\n",
      "Wrote 243 lines to: 'google1000_employees.csv'\n",
      "Wrote 244 lines to: 'google1000_employees.csv'\n",
      "Wrote 245 lines to: 'google1000_employees.csv'\n",
      "Wrote 246 lines to: 'google1000_employees.csv'\n",
      "Wrote 247 lines to: 'google1000_employees.csv'\n",
      "Wrote 248 lines to: 'google1000_employees.csv'\n",
      "Wrote 249 lines to: 'google1000_employees.csv'\n",
      "Wrote 250 lines to: 'google1000_employees.csv'\n",
      "Wrote 251 lines to: 'google1000_employees.csv'\n",
      "Wrote 252 lines to: 'google1000_employees.csv'\n",
      "Wrote 253 lines to: 'google1000_employees.csv'\n",
      "Wrote 254 lines to: 'google1000_employees.csv'\n",
      "Wrote 255 lines to: 'google1000_employees.csv'\n",
      "Wrote 256 lines to: 'google1000_employees.csv'\n",
      "Wrote 257 lines to: 'google1000_employees.csv'\n",
      "Wrote 258 lines to: 'google1000_employees.csv'\n",
      "Wrote 259 lines to: 'google1000_employees.csv'\n",
      "Wrote 260 lines to: 'google1000_employees.csv'\n",
      "Wrote 261 lines to: 'google1000_employees.csv'\n",
      "Wrote 262 lines to: 'google1000_employees.csv'\n",
      "Wrote 263 lines to: 'google1000_employees.csv'\n",
      "Wrote 264 lines to: 'google1000_employees.csv'\n",
      "Wrote 265 lines to: 'google1000_employees.csv'\n",
      "Wrote 266 lines to: 'google1000_employees.csv'\n",
      "Wrote 267 lines to: 'google1000_employees.csv'\n",
      "Wrote 268 lines to: 'google1000_employees.csv'\n",
      "Wrote 269 lines to: 'google1000_employees.csv'\n",
      "Wrote 270 lines to: 'google1000_employees.csv'\n",
      "Wrote 271 lines to: 'google1000_employees.csv'\n",
      "Wrote 272 lines to: 'google1000_employees.csv'\n",
      "Wrote 273 lines to: 'google1000_employees.csv'\n",
      "Wrote 274 lines to: 'google1000_employees.csv'\n",
      "Wrote 275 lines to: 'google1000_employees.csv'\n",
      "Wrote 276 lines to: 'google1000_employees.csv'\n",
      "Wrote 277 lines to: 'google1000_employees.csv'\n",
      "Wrote 278 lines to: 'google1000_employees.csv'\n",
      "Wrote 279 lines to: 'google1000_employees.csv'\n",
      "Wrote 280 lines to: 'google1000_employees.csv'\n",
      "Wrote 281 lines to: 'google1000_employees.csv'\n",
      "Wrote 282 lines to: 'google1000_employees.csv'\n",
      "Wrote 283 lines to: 'google1000_employees.csv'\n",
      "Wrote 284 lines to: 'google1000_employees.csv'\n",
      "Wrote 285 lines to: 'google1000_employees.csv'\n",
      "Wrote 286 lines to: 'google1000_employees.csv'\n",
      "Wrote 287 lines to: 'google1000_employees.csv'\n",
      "Wrote 288 lines to: 'google1000_employees.csv'\n",
      "Wrote 289 lines to: 'google1000_employees.csv'\n",
      "Wrote 290 lines to: 'google1000_employees.csv'\n",
      "Wrote 291 lines to: 'google1000_employees.csv'\n",
      "Wrote 292 lines to: 'google1000_employees.csv'\n",
      "Wrote 293 lines to: 'google1000_employees.csv'\n",
      "Wrote 294 lines to: 'google1000_employees.csv'\n",
      "Wrote 295 lines to: 'google1000_employees.csv'\n",
      "Wrote 296 lines to: 'google1000_employees.csv'\n",
      "Wrote 297 lines to: 'google1000_employees.csv'\n",
      "Wrote 298 lines to: 'google1000_employees.csv'\n",
      "Wrote 299 lines to: 'google1000_employees.csv'\n",
      "Wrote 300 lines to: 'google1000_employees.csv'\n",
      "Wrote 301 lines to: 'google1000_employees.csv'\n",
      "Wrote 302 lines to: 'google1000_employees.csv'\n",
      "Wrote 303 lines to: 'google1000_employees.csv'\n",
      "Wrote 304 lines to: 'google1000_employees.csv'\n",
      "Wrote 305 lines to: 'google1000_employees.csv'\n",
      "Wrote 306 lines to: 'google1000_employees.csv'\n",
      "Wrote 307 lines to: 'google1000_employees.csv'\n",
      "Wrote 308 lines to: 'google1000_employees.csv'\n",
      "Wrote 309 lines to: 'google1000_employees.csv'\n",
      "Wrote 310 lines to: 'google1000_employees.csv'\n",
      "Wrote 311 lines to: 'google1000_employees.csv'\n",
      "Wrote 312 lines to: 'google1000_employees.csv'\n",
      "Wrote 313 lines to: 'google1000_employees.csv'\n",
      "Wrote 314 lines to: 'google1000_employees.csv'\n",
      "Wrote 315 lines to: 'google1000_employees.csv'\n",
      "Wrote 316 lines to: 'google1000_employees.csv'\n",
      "Wrote 317 lines to: 'google1000_employees.csv'\n",
      "Wrote 318 lines to: 'google1000_employees.csv'\n",
      "Wrote 319 lines to: 'google1000_employees.csv'\n",
      "Wrote 320 lines to: 'google1000_employees.csv'\n",
      "Wrote 321 lines to: 'google1000_employees.csv'\n",
      "Wrote 322 lines to: 'google1000_employees.csv'\n",
      "Wrote 323 lines to: 'google1000_employees.csv'\n",
      "Wrote 324 lines to: 'google1000_employees.csv'\n",
      "Wrote 325 lines to: 'google1000_employees.csv'\n",
      "Wrote 326 lines to: 'google1000_employees.csv'\n",
      "Wrote 327 lines to: 'google1000_employees.csv'\n",
      "Wrote 328 lines to: 'google1000_employees.csv'\n",
      "Wrote 329 lines to: 'google1000_employees.csv'\n",
      "Wrote 330 lines to: 'google1000_employees.csv'\n",
      "Wrote 331 lines to: 'google1000_employees.csv'\n",
      "Wrote 332 lines to: 'google1000_employees.csv'\n",
      "Wrote 333 lines to: 'google1000_employees.csv'\n",
      "Wrote 334 lines to: 'google1000_employees.csv'\n",
      "Wrote 335 lines to: 'google1000_employees.csv'\n",
      "Wrote 336 lines to: 'google1000_employees.csv'\n",
      "Wrote 337 lines to: 'google1000_employees.csv'\n",
      "Wrote 338 lines to: 'google1000_employees.csv'\n",
      "Wrote 339 lines to: 'google1000_employees.csv'\n",
      "Wrote 340 lines to: 'google1000_employees.csv'\n",
      "Wrote 341 lines to: 'google1000_employees.csv'\n",
      "Wrote 342 lines to: 'google1000_employees.csv'\n",
      "Wrote 343 lines to: 'google1000_employees.csv'\n",
      "Wrote 344 lines to: 'google1000_employees.csv'\n",
      "Wrote 345 lines to: 'google1000_employees.csv'\n",
      "Wrote 346 lines to: 'google1000_employees.csv'\n",
      "Wrote 347 lines to: 'google1000_employees.csv'\n",
      "Wrote 348 lines to: 'google1000_employees.csv'\n",
      "Wrote 349 lines to: 'google1000_employees.csv'\n",
      "Wrote 350 lines to: 'google1000_employees.csv'\n",
      "Wrote 351 lines to: 'google1000_employees.csv'\n",
      "Wrote 352 lines to: 'google1000_employees.csv'\n",
      "Wrote 353 lines to: 'google1000_employees.csv'\n",
      "Wrote 354 lines to: 'google1000_employees.csv'\n",
      "Wrote 355 lines to: 'google1000_employees.csv'\n",
      "Wrote 356 lines to: 'google1000_employees.csv'\n",
      "Wrote 357 lines to: 'google1000_employees.csv'\n",
      "Wrote 358 lines to: 'google1000_employees.csv'\n",
      "Wrote 359 lines to: 'google1000_employees.csv'\n",
      "Wrote 360 lines to: 'google1000_employees.csv'\n",
      "Wrote 361 lines to: 'google1000_employees.csv'\n",
      "Wrote 362 lines to: 'google1000_employees.csv'\n",
      "Wrote 363 lines to: 'google1000_employees.csv'\n",
      "Wrote 364 lines to: 'google1000_employees.csv'\n",
      "Wrote 365 lines to: 'google1000_employees.csv'\n",
      "Wrote 366 lines to: 'google1000_employees.csv'\n",
      "Wrote 367 lines to: 'google1000_employees.csv'\n",
      "Wrote 368 lines to: 'google1000_employees.csv'\n",
      "Wrote 369 lines to: 'google1000_employees.csv'\n",
      "Wrote 370 lines to: 'google1000_employees.csv'\n",
      "Wrote 371 lines to: 'google1000_employees.csv'\n",
      "Wrote 372 lines to: 'google1000_employees.csv'\n",
      "Wrote 373 lines to: 'google1000_employees.csv'\n",
      "Wrote 374 lines to: 'google1000_employees.csv'\n",
      "Wrote 375 lines to: 'google1000_employees.csv'\n",
      "Wrote 376 lines to: 'google1000_employees.csv'\n",
      "Wrote 377 lines to: 'google1000_employees.csv'\n",
      "Wrote 378 lines to: 'google1000_employees.csv'\n",
      "Wrote 379 lines to: 'google1000_employees.csv'\n",
      "Wrote 380 lines to: 'google1000_employees.csv'\n",
      "Wrote 381 lines to: 'google1000_employees.csv'\n",
      "Wrote 382 lines to: 'google1000_employees.csv'\n",
      "Wrote 383 lines to: 'google1000_employees.csv'\n",
      "Wrote 384 lines to: 'google1000_employees.csv'\n",
      "Wrote 385 lines to: 'google1000_employees.csv'\n",
      "Wrote 386 lines to: 'google1000_employees.csv'\n",
      "Wrote 387 lines to: 'google1000_employees.csv'\n",
      "Wrote 388 lines to: 'google1000_employees.csv'\n",
      "Wrote 389 lines to: 'google1000_employees.csv'\n",
      "Wrote 390 lines to: 'google1000_employees.csv'\n",
      "Wrote 391 lines to: 'google1000_employees.csv'\n",
      "Wrote 392 lines to: 'google1000_employees.csv'\n",
      "Wrote 393 lines to: 'google1000_employees.csv'\n",
      "Wrote 394 lines to: 'google1000_employees.csv'\n",
      "Wrote 395 lines to: 'google1000_employees.csv'\n",
      "Wrote 396 lines to: 'google1000_employees.csv'\n",
      "Wrote 397 lines to: 'google1000_employees.csv'\n",
      "Wrote 398 lines to: 'google1000_employees.csv'\n",
      "Wrote 399 lines to: 'google1000_employees.csv'\n",
      "Wrote 400 lines to: 'google1000_employees.csv'\n",
      "Wrote 401 lines to: 'google1000_employees.csv'\n",
      "Wrote 402 lines to: 'google1000_employees.csv'\n",
      "Wrote 403 lines to: 'google1000_employees.csv'\n",
      "Wrote 404 lines to: 'google1000_employees.csv'\n",
      "Wrote 405 lines to: 'google1000_employees.csv'\n",
      "Wrote 406 lines to: 'google1000_employees.csv'\n",
      "Wrote 407 lines to: 'google1000_employees.csv'\n",
      "Wrote 408 lines to: 'google1000_employees.csv'\n",
      "Wrote 409 lines to: 'google1000_employees.csv'\n",
      "Wrote 410 lines to: 'google1000_employees.csv'\n",
      "Wrote 411 lines to: 'google1000_employees.csv'\n",
      "Wrote 412 lines to: 'google1000_employees.csv'\n",
      "Wrote 413 lines to: 'google1000_employees.csv'\n",
      "Wrote 414 lines to: 'google1000_employees.csv'\n",
      "Wrote 415 lines to: 'google1000_employees.csv'\n",
      "Wrote 416 lines to: 'google1000_employees.csv'\n",
      "Wrote 417 lines to: 'google1000_employees.csv'\n",
      "Wrote 418 lines to: 'google1000_employees.csv'\n",
      "Wrote 419 lines to: 'google1000_employees.csv'\n",
      "Wrote 420 lines to: 'google1000_employees.csv'\n",
      "Wrote 421 lines to: 'google1000_employees.csv'\n",
      "Wrote 422 lines to: 'google1000_employees.csv'\n",
      "Wrote 423 lines to: 'google1000_employees.csv'\n",
      "Wrote 424 lines to: 'google1000_employees.csv'\n",
      "Wrote 425 lines to: 'google1000_employees.csv'\n",
      "Wrote 426 lines to: 'google1000_employees.csv'\n",
      "Wrote 427 lines to: 'google1000_employees.csv'\n",
      "Wrote 428 lines to: 'google1000_employees.csv'\n",
      "Wrote 429 lines to: 'google1000_employees.csv'\n",
      "Wrote 430 lines to: 'google1000_employees.csv'\n",
      "Wrote 431 lines to: 'google1000_employees.csv'\n",
      "Wrote 432 lines to: 'google1000_employees.csv'\n",
      "Wrote 433 lines to: 'google1000_employees.csv'\n",
      "Wrote 434 lines to: 'google1000_employees.csv'\n",
      "Wrote 435 lines to: 'google1000_employees.csv'\n",
      "Wrote 436 lines to: 'google1000_employees.csv'\n",
      "Wrote 437 lines to: 'google1000_employees.csv'\n",
      "Wrote 438 lines to: 'google1000_employees.csv'\n",
      "Wrote 439 lines to: 'google1000_employees.csv'\n",
      "Wrote 440 lines to: 'google1000_employees.csv'\n",
      "Wrote 441 lines to: 'google1000_employees.csv'\n",
      "Wrote 442 lines to: 'google1000_employees.csv'\n",
      "Wrote 443 lines to: 'google1000_employees.csv'\n",
      "Wrote 444 lines to: 'google1000_employees.csv'\n",
      "Wrote 445 lines to: 'google1000_employees.csv'\n",
      "Wrote 446 lines to: 'google1000_employees.csv'\n",
      "Wrote 447 lines to: 'google1000_employees.csv'\n",
      "Wrote 448 lines to: 'google1000_employees.csv'\n",
      "Wrote 449 lines to: 'google1000_employees.csv'\n",
      "Wrote 450 lines to: 'google1000_employees.csv'\n",
      "Wrote 451 lines to: 'google1000_employees.csv'\n",
      "Wrote 452 lines to: 'google1000_employees.csv'\n",
      "Wrote 453 lines to: 'google1000_employees.csv'\n",
      "Wrote 454 lines to: 'google1000_employees.csv'\n",
      "Wrote 455 lines to: 'google1000_employees.csv'\n",
      "Wrote 456 lines to: 'google1000_employees.csv'\n",
      "Wrote 457 lines to: 'google1000_employees.csv'\n",
      "Wrote 458 lines to: 'google1000_employees.csv'\n",
      "Wrote 459 lines to: 'google1000_employees.csv'\n",
      "Wrote 460 lines to: 'google1000_employees.csv'\n",
      "Wrote 461 lines to: 'google1000_employees.csv'\n",
      "Wrote 462 lines to: 'google1000_employees.csv'\n",
      "Wrote 463 lines to: 'google1000_employees.csv'\n",
      "Wrote 464 lines to: 'google1000_employees.csv'\n",
      "Wrote 465 lines to: 'google1000_employees.csv'\n",
      "Wrote 466 lines to: 'google1000_employees.csv'\n",
      "Wrote 467 lines to: 'google1000_employees.csv'\n",
      "Wrote 468 lines to: 'google1000_employees.csv'\n",
      "Wrote 469 lines to: 'google1000_employees.csv'\n",
      "Wrote 470 lines to: 'google1000_employees.csv'\n",
      "Wrote 471 lines to: 'google1000_employees.csv'\n",
      "Wrote 472 lines to: 'google1000_employees.csv'\n",
      "Wrote 473 lines to: 'google1000_employees.csv'\n",
      "Wrote 474 lines to: 'google1000_employees.csv'\n",
      "Wrote 475 lines to: 'google1000_employees.csv'\n",
      "Wrote 476 lines to: 'google1000_employees.csv'\n",
      "Wrote 477 lines to: 'google1000_employees.csv'\n",
      "Wrote 478 lines to: 'google1000_employees.csv'\n",
      "Wrote 479 lines to: 'google1000_employees.csv'\n",
      "Wrote 480 lines to: 'google1000_employees.csv'\n",
      "Wrote 481 lines to: 'google1000_employees.csv'\n",
      "Wrote 482 lines to: 'google1000_employees.csv'\n",
      "Wrote 483 lines to: 'google1000_employees.csv'\n",
      "Wrote 484 lines to: 'google1000_employees.csv'\n",
      "Wrote 485 lines to: 'google1000_employees.csv'\n",
      "Wrote 486 lines to: 'google1000_employees.csv'\n",
      "Wrote 487 lines to: 'google1000_employees.csv'\n",
      "Wrote 488 lines to: 'google1000_employees.csv'\n",
      "Wrote 489 lines to: 'google1000_employees.csv'\n",
      "Wrote 490 lines to: 'google1000_employees.csv'\n",
      "Wrote 491 lines to: 'google1000_employees.csv'\n",
      "Wrote 492 lines to: 'google1000_employees.csv'\n",
      "Wrote 493 lines to: 'google1000_employees.csv'\n",
      "Wrote 494 lines to: 'google1000_employees.csv'\n",
      "Wrote 495 lines to: 'google1000_employees.csv'\n",
      "Wrote 496 lines to: 'google1000_employees.csv'\n",
      "Wrote 497 lines to: 'google1000_employees.csv'\n",
      "Wrote 498 lines to: 'google1000_employees.csv'\n",
      "Wrote 499 lines to: 'google1000_employees.csv'\n",
      "Wrote 500 lines to: 'google1000_employees.csv'\n",
      "Wrote 501 lines to: 'google1000_employees.csv'\n",
      "Wrote 502 lines to: 'google1000_employees.csv'\n",
      "Wrote 503 lines to: 'google1000_employees.csv'\n",
      "Wrote 504 lines to: 'google1000_employees.csv'\n",
      "Wrote 505 lines to: 'google1000_employees.csv'\n",
      "Wrote 506 lines to: 'google1000_employees.csv'\n",
      "Wrote 507 lines to: 'google1000_employees.csv'\n",
      "Wrote 508 lines to: 'google1000_employees.csv'\n",
      "Wrote 509 lines to: 'google1000_employees.csv'\n",
      "Wrote 510 lines to: 'google1000_employees.csv'\n",
      "Wrote 511 lines to: 'google1000_employees.csv'\n",
      "Wrote 512 lines to: 'google1000_employees.csv'\n",
      "Wrote 513 lines to: 'google1000_employees.csv'\n",
      "Wrote 514 lines to: 'google1000_employees.csv'\n",
      "Wrote 515 lines to: 'google1000_employees.csv'\n",
      "Wrote 516 lines to: 'google1000_employees.csv'\n",
      "Wrote 517 lines to: 'google1000_employees.csv'\n",
      "Wrote 518 lines to: 'google1000_employees.csv'\n",
      "Wrote 519 lines to: 'google1000_employees.csv'\n",
      "Wrote 520 lines to: 'google1000_employees.csv'\n",
      "Wrote 521 lines to: 'google1000_employees.csv'\n",
      "Wrote 522 lines to: 'google1000_employees.csv'\n",
      "Wrote 523 lines to: 'google1000_employees.csv'\n",
      "Wrote 524 lines to: 'google1000_employees.csv'\n",
      "Wrote 525 lines to: 'google1000_employees.csv'\n",
      "Wrote 526 lines to: 'google1000_employees.csv'\n",
      "Wrote 527 lines to: 'google1000_employees.csv'\n",
      "Wrote 528 lines to: 'google1000_employees.csv'\n",
      "Wrote 529 lines to: 'google1000_employees.csv'\n",
      "Wrote 530 lines to: 'google1000_employees.csv'\n",
      "Wrote 531 lines to: 'google1000_employees.csv'\n",
      "Wrote 532 lines to: 'google1000_employees.csv'\n",
      "Wrote 533 lines to: 'google1000_employees.csv'\n",
      "Wrote 534 lines to: 'google1000_employees.csv'\n",
      "Wrote 535 lines to: 'google1000_employees.csv'\n",
      "Wrote 536 lines to: 'google1000_employees.csv'\n",
      "Wrote 537 lines to: 'google1000_employees.csv'\n",
      "Wrote 538 lines to: 'google1000_employees.csv'\n",
      "Wrote 539 lines to: 'google1000_employees.csv'\n",
      "Wrote 540 lines to: 'google1000_employees.csv'\n",
      "Wrote 541 lines to: 'google1000_employees.csv'\n",
      "Wrote 542 lines to: 'google1000_employees.csv'\n",
      "Wrote 543 lines to: 'google1000_employees.csv'\n",
      "Wrote 544 lines to: 'google1000_employees.csv'\n",
      "Wrote 545 lines to: 'google1000_employees.csv'\n",
      "Wrote 546 lines to: 'google1000_employees.csv'\n",
      "Wrote 547 lines to: 'google1000_employees.csv'\n",
      "Wrote 548 lines to: 'google1000_employees.csv'\n",
      "Wrote 549 lines to: 'google1000_employees.csv'\n",
      "Wrote 550 lines to: 'google1000_employees.csv'\n",
      "Wrote 551 lines to: 'google1000_employees.csv'\n",
      "Wrote 552 lines to: 'google1000_employees.csv'\n",
      "Wrote 553 lines to: 'google1000_employees.csv'\n",
      "Wrote 554 lines to: 'google1000_employees.csv'\n",
      "Wrote 555 lines to: 'google1000_employees.csv'\n",
      "Wrote 556 lines to: 'google1000_employees.csv'\n",
      "Wrote 557 lines to: 'google1000_employees.csv'\n",
      "Wrote 558 lines to: 'google1000_employees.csv'\n",
      "Wrote 559 lines to: 'google1000_employees.csv'\n",
      "Wrote 560 lines to: 'google1000_employees.csv'\n",
      "Wrote 561 lines to: 'google1000_employees.csv'\n",
      "Wrote 562 lines to: 'google1000_employees.csv'\n",
      "Wrote 563 lines to: 'google1000_employees.csv'\n",
      "Wrote 564 lines to: 'google1000_employees.csv'\n",
      "Wrote 565 lines to: 'google1000_employees.csv'\n",
      "Wrote 566 lines to: 'google1000_employees.csv'\n",
      "Wrote 567 lines to: 'google1000_employees.csv'\n",
      "Wrote 568 lines to: 'google1000_employees.csv'\n",
      "Wrote 569 lines to: 'google1000_employees.csv'\n",
      "Wrote 570 lines to: 'google1000_employees.csv'\n",
      "Wrote 571 lines to: 'google1000_employees.csv'\n",
      "Wrote 572 lines to: 'google1000_employees.csv'\n",
      "Wrote 573 lines to: 'google1000_employees.csv'\n",
      "Wrote 574 lines to: 'google1000_employees.csv'\n",
      "Wrote 575 lines to: 'google1000_employees.csv'\n",
      "Wrote 576 lines to: 'google1000_employees.csv'\n",
      "Wrote 577 lines to: 'google1000_employees.csv'\n",
      "Wrote 578 lines to: 'google1000_employees.csv'\n",
      "Wrote 579 lines to: 'google1000_employees.csv'\n",
      "Wrote 580 lines to: 'google1000_employees.csv'\n",
      "Wrote 581 lines to: 'google1000_employees.csv'\n",
      "Wrote 582 lines to: 'google1000_employees.csv'\n",
      "Wrote 583 lines to: 'google1000_employees.csv'\n",
      "Wrote 584 lines to: 'google1000_employees.csv'\n",
      "Wrote 585 lines to: 'google1000_employees.csv'\n",
      "Wrote 586 lines to: 'google1000_employees.csv'\n",
      "Wrote 587 lines to: 'google1000_employees.csv'\n",
      "Wrote 588 lines to: 'google1000_employees.csv'\n",
      "Wrote 589 lines to: 'google1000_employees.csv'\n",
      "Wrote 590 lines to: 'google1000_employees.csv'\n",
      "Wrote 591 lines to: 'google1000_employees.csv'\n",
      "Wrote 592 lines to: 'google1000_employees.csv'\n",
      "Wrote 593 lines to: 'google1000_employees.csv'\n",
      "Wrote 594 lines to: 'google1000_employees.csv'\n",
      "Wrote 595 lines to: 'google1000_employees.csv'\n",
      "Wrote 596 lines to: 'google1000_employees.csv'\n",
      "Wrote 597 lines to: 'google1000_employees.csv'\n",
      "Wrote 598 lines to: 'google1000_employees.csv'\n",
      "Wrote 599 lines to: 'google1000_employees.csv'\n",
      "Wrote 600 lines to: 'google1000_employees.csv'\n",
      "Wrote 601 lines to: 'google1000_employees.csv'\n",
      "Wrote 602 lines to: 'google1000_employees.csv'\n",
      "Wrote 603 lines to: 'google1000_employees.csv'\n",
      "Wrote 604 lines to: 'google1000_employees.csv'\n",
      "Wrote 605 lines to: 'google1000_employees.csv'\n",
      "Wrote 606 lines to: 'google1000_employees.csv'\n",
      "Wrote 607 lines to: 'google1000_employees.csv'\n",
      "Wrote 608 lines to: 'google1000_employees.csv'\n",
      "Wrote 609 lines to: 'google1000_employees.csv'\n",
      "Wrote 610 lines to: 'google1000_employees.csv'\n",
      "Wrote 611 lines to: 'google1000_employees.csv'\n",
      "Wrote 612 lines to: 'google1000_employees.csv'\n",
      "Wrote 613 lines to: 'google1000_employees.csv'\n",
      "Wrote 614 lines to: 'google1000_employees.csv'\n",
      "Wrote 615 lines to: 'google1000_employees.csv'\n",
      "Wrote 616 lines to: 'google1000_employees.csv'\n",
      "Wrote 617 lines to: 'google1000_employees.csv'\n",
      "Wrote 618 lines to: 'google1000_employees.csv'\n",
      "Wrote 619 lines to: 'google1000_employees.csv'\n",
      "Wrote 620 lines to: 'google1000_employees.csv'\n",
      "Wrote 621 lines to: 'google1000_employees.csv'\n",
      "Wrote 622 lines to: 'google1000_employees.csv'\n",
      "Wrote 623 lines to: 'google1000_employees.csv'\n",
      "Wrote 624 lines to: 'google1000_employees.csv'\n",
      "Wrote 625 lines to: 'google1000_employees.csv'\n",
      "Wrote 626 lines to: 'google1000_employees.csv'\n",
      "Wrote 627 lines to: 'google1000_employees.csv'\n",
      "Wrote 628 lines to: 'google1000_employees.csv'\n",
      "Wrote 629 lines to: 'google1000_employees.csv'\n",
      "Wrote 630 lines to: 'google1000_employees.csv'\n",
      "Wrote 631 lines to: 'google1000_employees.csv'\n",
      "Wrote 632 lines to: 'google1000_employees.csv'\n",
      "Wrote 633 lines to: 'google1000_employees.csv'\n",
      "Wrote 634 lines to: 'google1000_employees.csv'\n",
      "Wrote 635 lines to: 'google1000_employees.csv'\n",
      "Wrote 636 lines to: 'google1000_employees.csv'\n",
      "Wrote 637 lines to: 'google1000_employees.csv'\n",
      "Wrote 638 lines to: 'google1000_employees.csv'\n",
      "Wrote 639 lines to: 'google1000_employees.csv'\n",
      "Wrote 640 lines to: 'google1000_employees.csv'\n",
      "Wrote 641 lines to: 'google1000_employees.csv'\n",
      "Wrote 642 lines to: 'google1000_employees.csv'\n",
      "Wrote 643 lines to: 'google1000_employees.csv'\n",
      "Wrote 644 lines to: 'google1000_employees.csv'\n",
      "Wrote 645 lines to: 'google1000_employees.csv'\n",
      "Wrote 646 lines to: 'google1000_employees.csv'\n",
      "Wrote 647 lines to: 'google1000_employees.csv'\n",
      "Wrote 648 lines to: 'google1000_employees.csv'\n",
      "Wrote 649 lines to: 'google1000_employees.csv'\n",
      "Wrote 650 lines to: 'google1000_employees.csv'\n",
      "Wrote 651 lines to: 'google1000_employees.csv'\n",
      "Wrote 652 lines to: 'google1000_employees.csv'\n",
      "Wrote 653 lines to: 'google1000_employees.csv'\n",
      "Wrote 654 lines to: 'google1000_employees.csv'\n",
      "Wrote 655 lines to: 'google1000_employees.csv'\n",
      "Wrote 656 lines to: 'google1000_employees.csv'\n",
      "Wrote 657 lines to: 'google1000_employees.csv'\n",
      "Wrote 658 lines to: 'google1000_employees.csv'\n",
      "Wrote 659 lines to: 'google1000_employees.csv'\n",
      "Wrote 660 lines to: 'google1000_employees.csv'\n",
      "Wrote 661 lines to: 'google1000_employees.csv'\n",
      "Wrote 662 lines to: 'google1000_employees.csv'\n",
      "Wrote 663 lines to: 'google1000_employees.csv'\n",
      "Wrote 664 lines to: 'google1000_employees.csv'\n",
      "Wrote 665 lines to: 'google1000_employees.csv'\n",
      "Wrote 666 lines to: 'google1000_employees.csv'\n",
      "Wrote 667 lines to: 'google1000_employees.csv'\n",
      "Wrote 668 lines to: 'google1000_employees.csv'\n",
      "Wrote 669 lines to: 'google1000_employees.csv'\n",
      "Wrote 670 lines to: 'google1000_employees.csv'\n",
      "Wrote 671 lines to: 'google1000_employees.csv'\n",
      "Wrote 672 lines to: 'google1000_employees.csv'\n",
      "Wrote 673 lines to: 'google1000_employees.csv'\n",
      "Wrote 674 lines to: 'google1000_employees.csv'\n",
      "Wrote 675 lines to: 'google1000_employees.csv'\n",
      "Wrote 676 lines to: 'google1000_employees.csv'\n",
      "Wrote 677 lines to: 'google1000_employees.csv'\n",
      "Wrote 678 lines to: 'google1000_employees.csv'\n",
      "Wrote 679 lines to: 'google1000_employees.csv'\n",
      "Wrote 680 lines to: 'google1000_employees.csv'\n",
      "Wrote 681 lines to: 'google1000_employees.csv'\n",
      "Wrote 682 lines to: 'google1000_employees.csv'\n",
      "Wrote 683 lines to: 'google1000_employees.csv'\n",
      "Wrote 684 lines to: 'google1000_employees.csv'\n",
      "Wrote 685 lines to: 'google1000_employees.csv'\n",
      "Wrote 686 lines to: 'google1000_employees.csv'\n",
      "Wrote 687 lines to: 'google1000_employees.csv'\n",
      "Wrote 688 lines to: 'google1000_employees.csv'\n",
      "Wrote 689 lines to: 'google1000_employees.csv'\n",
      "Wrote 690 lines to: 'google1000_employees.csv'\n",
      "Wrote 691 lines to: 'google1000_employees.csv'\n",
      "Wrote 692 lines to: 'google1000_employees.csv'\n",
      "Wrote 693 lines to: 'google1000_employees.csv'\n",
      "Wrote 694 lines to: 'google1000_employees.csv'\n",
      "Wrote 695 lines to: 'google1000_employees.csv'\n",
      "Wrote 696 lines to: 'google1000_employees.csv'\n",
      "Wrote 697 lines to: 'google1000_employees.csv'\n",
      "Wrote 698 lines to: 'google1000_employees.csv'\n",
      "Wrote 699 lines to: 'google1000_employees.csv'\n",
      "Wrote 700 lines to: 'google1000_employees.csv'\n",
      "Wrote 701 lines to: 'google1000_employees.csv'\n",
      "Wrote 702 lines to: 'google1000_employees.csv'\n",
      "Wrote 703 lines to: 'google1000_employees.csv'\n",
      "Wrote 704 lines to: 'google1000_employees.csv'\n",
      "Wrote 705 lines to: 'google1000_employees.csv'\n",
      "Wrote 706 lines to: 'google1000_employees.csv'\n",
      "Wrote 707 lines to: 'google1000_employees.csv'\n",
      "Wrote 708 lines to: 'google1000_employees.csv'\n",
      "Wrote 709 lines to: 'google1000_employees.csv'\n",
      "Wrote 710 lines to: 'google1000_employees.csv'\n",
      "Wrote 711 lines to: 'google1000_employees.csv'\n",
      "Wrote 712 lines to: 'google1000_employees.csv'\n",
      "Wrote 713 lines to: 'google1000_employees.csv'\n",
      "Wrote 714 lines to: 'google1000_employees.csv'\n",
      "Wrote 715 lines to: 'google1000_employees.csv'\n",
      "Wrote 716 lines to: 'google1000_employees.csv'\n",
      "Wrote 717 lines to: 'google1000_employees.csv'\n",
      "Wrote 718 lines to: 'google1000_employees.csv'\n",
      "Wrote 719 lines to: 'google1000_employees.csv'\n",
      "Wrote 720 lines to: 'google1000_employees.csv'\n",
      "Wrote 721 lines to: 'google1000_employees.csv'\n",
      "Wrote 722 lines to: 'google1000_employees.csv'\n",
      "Wrote 723 lines to: 'google1000_employees.csv'\n",
      "Wrote 724 lines to: 'google1000_employees.csv'\n",
      "Wrote 725 lines to: 'google1000_employees.csv'\n",
      "Wrote 726 lines to: 'google1000_employees.csv'\n",
      "Wrote 727 lines to: 'google1000_employees.csv'\n",
      "Wrote 728 lines to: 'google1000_employees.csv'\n",
      "Wrote 729 lines to: 'google1000_employees.csv'\n",
      "Wrote 730 lines to: 'google1000_employees.csv'\n",
      "Wrote 731 lines to: 'google1000_employees.csv'\n",
      "Wrote 732 lines to: 'google1000_employees.csv'\n",
      "Wrote 733 lines to: 'google1000_employees.csv'\n",
      "Wrote 734 lines to: 'google1000_employees.csv'\n",
      "Wrote 735 lines to: 'google1000_employees.csv'\n",
      "Wrote 736 lines to: 'google1000_employees.csv'\n",
      "Wrote 737 lines to: 'google1000_employees.csv'\n",
      "Wrote 738 lines to: 'google1000_employees.csv'\n",
      "Wrote 739 lines to: 'google1000_employees.csv'\n",
      "Wrote 740 lines to: 'google1000_employees.csv'\n",
      "Wrote 741 lines to: 'google1000_employees.csv'\n",
      "Wrote 742 lines to: 'google1000_employees.csv'\n",
      "Wrote 743 lines to: 'google1000_employees.csv'\n",
      "Wrote 744 lines to: 'google1000_employees.csv'\n",
      "Wrote 745 lines to: 'google1000_employees.csv'\n",
      "Wrote 746 lines to: 'google1000_employees.csv'\n",
      "Wrote 747 lines to: 'google1000_employees.csv'\n",
      "Wrote 748 lines to: 'google1000_employees.csv'\n",
      "Wrote 749 lines to: 'google1000_employees.csv'\n",
      "Wrote 750 lines to: 'google1000_employees.csv'\n",
      "Wrote 751 lines to: 'google1000_employees.csv'\n",
      "Wrote 752 lines to: 'google1000_employees.csv'\n",
      "Wrote 753 lines to: 'google1000_employees.csv'\n",
      "Wrote 754 lines to: 'google1000_employees.csv'\n",
      "Wrote 755 lines to: 'google1000_employees.csv'\n",
      "Wrote 756 lines to: 'google1000_employees.csv'\n",
      "Wrote 757 lines to: 'google1000_employees.csv'\n",
      "Wrote 758 lines to: 'google1000_employees.csv'\n",
      "Wrote 759 lines to: 'google1000_employees.csv'\n",
      "Wrote 760 lines to: 'google1000_employees.csv'\n",
      "Wrote 761 lines to: 'google1000_employees.csv'\n",
      "Wrote 762 lines to: 'google1000_employees.csv'\n",
      "Wrote 763 lines to: 'google1000_employees.csv'\n",
      "Wrote 764 lines to: 'google1000_employees.csv'\n",
      "Wrote 765 lines to: 'google1000_employees.csv'\n",
      "Wrote 766 lines to: 'google1000_employees.csv'\n",
      "Wrote 767 lines to: 'google1000_employees.csv'\n",
      "Wrote 768 lines to: 'google1000_employees.csv'\n",
      "Wrote 769 lines to: 'google1000_employees.csv'\n",
      "Wrote 770 lines to: 'google1000_employees.csv'\n",
      "Wrote 771 lines to: 'google1000_employees.csv'\n",
      "Wrote 772 lines to: 'google1000_employees.csv'\n",
      "Wrote 773 lines to: 'google1000_employees.csv'\n",
      "Wrote 774 lines to: 'google1000_employees.csv'\n",
      "Wrote 775 lines to: 'google1000_employees.csv'\n",
      "Wrote 776 lines to: 'google1000_employees.csv'\n",
      "Wrote 777 lines to: 'google1000_employees.csv'\n",
      "Wrote 778 lines to: 'google1000_employees.csv'\n",
      "Wrote 779 lines to: 'google1000_employees.csv'\n",
      "Wrote 780 lines to: 'google1000_employees.csv'\n",
      "Wrote 781 lines to: 'google1000_employees.csv'\n",
      "Wrote 782 lines to: 'google1000_employees.csv'\n",
      "Wrote 783 lines to: 'google1000_employees.csv'\n",
      "Wrote 784 lines to: 'google1000_employees.csv'\n",
      "Wrote 785 lines to: 'google1000_employees.csv'\n",
      "Wrote 786 lines to: 'google1000_employees.csv'\n",
      "Wrote 787 lines to: 'google1000_employees.csv'\n",
      "Wrote 788 lines to: 'google1000_employees.csv'\n",
      "Wrote 789 lines to: 'google1000_employees.csv'\n",
      "Wrote 790 lines to: 'google1000_employees.csv'\n",
      "Wrote 791 lines to: 'google1000_employees.csv'\n",
      "Wrote 792 lines to: 'google1000_employees.csv'\n",
      "Wrote 793 lines to: 'google1000_employees.csv'\n",
      "Wrote 794 lines to: 'google1000_employees.csv'\n",
      "Wrote 795 lines to: 'google1000_employees.csv'\n",
      "Wrote 796 lines to: 'google1000_employees.csv'\n",
      "Wrote 797 lines to: 'google1000_employees.csv'\n",
      "Wrote 798 lines to: 'google1000_employees.csv'\n",
      "Wrote 799 lines to: 'google1000_employees.csv'\n",
      "Wrote 800 lines to: 'google1000_employees.csv'\n",
      "Wrote 801 lines to: 'google1000_employees.csv'\n",
      "Wrote 802 lines to: 'google1000_employees.csv'\n",
      "Wrote 803 lines to: 'google1000_employees.csv'\n",
      "Wrote 804 lines to: 'google1000_employees.csv'\n",
      "Wrote 805 lines to: 'google1000_employees.csv'\n",
      "Wrote 806 lines to: 'google1000_employees.csv'\n",
      "Wrote 807 lines to: 'google1000_employees.csv'\n",
      "Wrote 808 lines to: 'google1000_employees.csv'\n",
      "Wrote 809 lines to: 'google1000_employees.csv'\n",
      "Wrote 810 lines to: 'google1000_employees.csv'\n",
      "Wrote 811 lines to: 'google1000_employees.csv'\n",
      "Wrote 812 lines to: 'google1000_employees.csv'\n",
      "Wrote 813 lines to: 'google1000_employees.csv'\n",
      "Wrote 814 lines to: 'google1000_employees.csv'\n",
      "Wrote 815 lines to: 'google1000_employees.csv'\n",
      "Wrote 816 lines to: 'google1000_employees.csv'\n",
      "Wrote 817 lines to: 'google1000_employees.csv'\n",
      "Wrote 818 lines to: 'google1000_employees.csv'\n",
      "Wrote 819 lines to: 'google1000_employees.csv'\n",
      "Wrote 820 lines to: 'google1000_employees.csv'\n",
      "Wrote 821 lines to: 'google1000_employees.csv'\n",
      "Wrote 822 lines to: 'google1000_employees.csv'\n",
      "Wrote 823 lines to: 'google1000_employees.csv'\n",
      "Wrote 824 lines to: 'google1000_employees.csv'\n",
      "Wrote 825 lines to: 'google1000_employees.csv'\n",
      "Wrote 826 lines to: 'google1000_employees.csv'\n",
      "Wrote 827 lines to: 'google1000_employees.csv'\n",
      "Wrote 828 lines to: 'google1000_employees.csv'\n",
      "Wrote 829 lines to: 'google1000_employees.csv'\n",
      "Wrote 830 lines to: 'google1000_employees.csv'\n",
      "Wrote 831 lines to: 'google1000_employees.csv'\n",
      "Wrote 832 lines to: 'google1000_employees.csv'\n",
      "Wrote 833 lines to: 'google1000_employees.csv'\n",
      "Wrote 834 lines to: 'google1000_employees.csv'\n",
      "Wrote 835 lines to: 'google1000_employees.csv'\n",
      "Wrote 836 lines to: 'google1000_employees.csv'\n",
      "Wrote 837 lines to: 'google1000_employees.csv'\n",
      "Wrote 838 lines to: 'google1000_employees.csv'\n",
      "Wrote 839 lines to: 'google1000_employees.csv'\n",
      "Wrote 840 lines to: 'google1000_employees.csv'\n",
      "Wrote 841 lines to: 'google1000_employees.csv'\n",
      "Wrote 842 lines to: 'google1000_employees.csv'\n",
      "Wrote 843 lines to: 'google1000_employees.csv'\n",
      "Wrote 844 lines to: 'google1000_employees.csv'\n",
      "Wrote 845 lines to: 'google1000_employees.csv'\n",
      "Wrote 846 lines to: 'google1000_employees.csv'\n",
      "Wrote 847 lines to: 'google1000_employees.csv'\n",
      "Wrote 848 lines to: 'google1000_employees.csv'\n",
      "Wrote 849 lines to: 'google1000_employees.csv'\n",
      "Wrote 850 lines to: 'google1000_employees.csv'\n",
      "Wrote 851 lines to: 'google1000_employees.csv'\n",
      "Wrote 852 lines to: 'google1000_employees.csv'\n",
      "Wrote 853 lines to: 'google1000_employees.csv'\n",
      "Wrote 854 lines to: 'google1000_employees.csv'\n",
      "Wrote 855 lines to: 'google1000_employees.csv'\n",
      "Wrote 856 lines to: 'google1000_employees.csv'\n",
      "Wrote 857 lines to: 'google1000_employees.csv'\n",
      "Wrote 858 lines to: 'google1000_employees.csv'\n",
      "Wrote 859 lines to: 'google1000_employees.csv'\n",
      "Wrote 860 lines to: 'google1000_employees.csv'\n",
      "Wrote 861 lines to: 'google1000_employees.csv'\n",
      "Wrote 862 lines to: 'google1000_employees.csv'\n",
      "Wrote 863 lines to: 'google1000_employees.csv'\n",
      "Wrote 864 lines to: 'google1000_employees.csv'\n",
      "Wrote 865 lines to: 'google1000_employees.csv'\n",
      "Wrote 866 lines to: 'google1000_employees.csv'\n",
      "Wrote 867 lines to: 'google1000_employees.csv'\n",
      "Wrote 868 lines to: 'google1000_employees.csv'\n",
      "Wrote 869 lines to: 'google1000_employees.csv'\n",
      "Wrote 870 lines to: 'google1000_employees.csv'\n",
      "Wrote 871 lines to: 'google1000_employees.csv'\n",
      "Wrote 872 lines to: 'google1000_employees.csv'\n",
      "Wrote 873 lines to: 'google1000_employees.csv'\n",
      "Wrote 874 lines to: 'google1000_employees.csv'\n",
      "Wrote 875 lines to: 'google1000_employees.csv'\n",
      "Wrote 876 lines to: 'google1000_employees.csv'\n",
      "Wrote 877 lines to: 'google1000_employees.csv'\n",
      "Wrote 878 lines to: 'google1000_employees.csv'\n",
      "Wrote 879 lines to: 'google1000_employees.csv'\n",
      "Wrote 880 lines to: 'google1000_employees.csv'\n",
      "Wrote 881 lines to: 'google1000_employees.csv'\n",
      "Wrote 882 lines to: 'google1000_employees.csv'\n",
      "Wrote 883 lines to: 'google1000_employees.csv'\n",
      "Wrote 884 lines to: 'google1000_employees.csv'\n",
      "Wrote 885 lines to: 'google1000_employees.csv'\n",
      "Wrote 886 lines to: 'google1000_employees.csv'\n",
      "Wrote 887 lines to: 'google1000_employees.csv'\n",
      "Wrote 888 lines to: 'google1000_employees.csv'\n",
      "Wrote 889 lines to: 'google1000_employees.csv'\n",
      "Wrote 890 lines to: 'google1000_employees.csv'\n",
      "Wrote 891 lines to: 'google1000_employees.csv'\n",
      "Wrote 892 lines to: 'google1000_employees.csv'\n",
      "Wrote 893 lines to: 'google1000_employees.csv'\n",
      "Wrote 894 lines to: 'google1000_employees.csv'\n",
      "Wrote 895 lines to: 'google1000_employees.csv'\n",
      "Wrote 896 lines to: 'google1000_employees.csv'\n",
      "Wrote 897 lines to: 'google1000_employees.csv'\n",
      "Wrote 898 lines to: 'google1000_employees.csv'\n",
      "Wrote 899 lines to: 'google1000_employees.csv'\n",
      "Wrote 900 lines to: 'google1000_employees.csv'\n",
      "Wrote 901 lines to: 'google1000_employees.csv'\n",
      "Wrote 902 lines to: 'google1000_employees.csv'\n",
      "Wrote 903 lines to: 'google1000_employees.csv'\n",
      "Wrote 904 lines to: 'google1000_employees.csv'\n",
      "Wrote 905 lines to: 'google1000_employees.csv'\n",
      "Wrote 906 lines to: 'google1000_employees.csv'\n",
      "Wrote 907 lines to: 'google1000_employees.csv'\n",
      "Wrote 908 lines to: 'google1000_employees.csv'\n",
      "Wrote 909 lines to: 'google1000_employees.csv'\n",
      "Wrote 910 lines to: 'google1000_employees.csv'\n",
      "Wrote 911 lines to: 'google1000_employees.csv'\n",
      "Wrote 912 lines to: 'google1000_employees.csv'\n",
      "Wrote 913 lines to: 'google1000_employees.csv'\n",
      "Wrote 914 lines to: 'google1000_employees.csv'\n",
      "Wrote 915 lines to: 'google1000_employees.csv'\n",
      "Wrote 916 lines to: 'google1000_employees.csv'\n",
      "Wrote 917 lines to: 'google1000_employees.csv'\n",
      "Wrote 918 lines to: 'google1000_employees.csv'\n",
      "Wrote 919 lines to: 'google1000_employees.csv'\n",
      "Wrote 920 lines to: 'google1000_employees.csv'\n",
      "Wrote 921 lines to: 'google1000_employees.csv'\n",
      "Wrote 922 lines to: 'google1000_employees.csv'\n",
      "Wrote 923 lines to: 'google1000_employees.csv'\n",
      "Wrote 924 lines to: 'google1000_employees.csv'\n",
      "Wrote 925 lines to: 'google1000_employees.csv'\n",
      "Wrote 926 lines to: 'google1000_employees.csv'\n",
      "Wrote 927 lines to: 'google1000_employees.csv'\n",
      "Wrote 928 lines to: 'google1000_employees.csv'\n",
      "Wrote 929 lines to: 'google1000_employees.csv'\n",
      "Wrote 930 lines to: 'google1000_employees.csv'\n",
      "Wrote 931 lines to: 'google1000_employees.csv'\n",
      "Wrote 932 lines to: 'google1000_employees.csv'\n",
      "Wrote 933 lines to: 'google1000_employees.csv'\n",
      "Wrote 934 lines to: 'google1000_employees.csv'\n",
      "Wrote 935 lines to: 'google1000_employees.csv'\n",
      "Wrote 936 lines to: 'google1000_employees.csv'\n",
      "Wrote 937 lines to: 'google1000_employees.csv'\n",
      "Wrote 938 lines to: 'google1000_employees.csv'\n",
      "Wrote 939 lines to: 'google1000_employees.csv'\n",
      "Wrote 940 lines to: 'google1000_employees.csv'\n",
      "Wrote 941 lines to: 'google1000_employees.csv'\n",
      "Wrote 942 lines to: 'google1000_employees.csv'\n",
      "Wrote 943 lines to: 'google1000_employees.csv'\n",
      "Wrote 944 lines to: 'google1000_employees.csv'\n",
      "Wrote 945 lines to: 'google1000_employees.csv'\n",
      "Wrote 946 lines to: 'google1000_employees.csv'\n",
      "Wrote 947 lines to: 'google1000_employees.csv'\n",
      "Wrote 948 lines to: 'google1000_employees.csv'\n",
      "Wrote 949 lines to: 'google1000_employees.csv'\n",
      "Wrote 950 lines to: 'google1000_employees.csv'\n",
      "Wrote 951 lines to: 'google1000_employees.csv'\n",
      "Wrote 952 lines to: 'google1000_employees.csv'\n",
      "Wrote 953 lines to: 'google1000_employees.csv'\n",
      "Wrote 954 lines to: 'google1000_employees.csv'\n",
      "Wrote 955 lines to: 'google1000_employees.csv'\n",
      "Wrote 956 lines to: 'google1000_employees.csv'\n",
      "Wrote 957 lines to: 'google1000_employees.csv'\n",
      "Wrote 958 lines to: 'google1000_employees.csv'\n",
      "Wrote 959 lines to: 'google1000_employees.csv'\n",
      "Wrote 960 lines to: 'google1000_employees.csv'\n",
      "Wrote 961 lines to: 'google1000_employees.csv'\n",
      "Wrote 962 lines to: 'google1000_employees.csv'\n",
      "Wrote 963 lines to: 'google1000_employees.csv'\n",
      "Wrote 964 lines to: 'google1000_employees.csv'\n",
      "Wrote 965 lines to: 'google1000_employees.csv'\n",
      "Wrote 966 lines to: 'google1000_employees.csv'\n",
      "Wrote 967 lines to: 'google1000_employees.csv'\n",
      "Wrote 968 lines to: 'google1000_employees.csv'\n",
      "Wrote 969 lines to: 'google1000_employees.csv'\n",
      "Wrote 970 lines to: 'google1000_employees.csv'\n",
      "Wrote 971 lines to: 'google1000_employees.csv'\n",
      "Wrote 972 lines to: 'google1000_employees.csv'\n",
      "Wrote 973 lines to: 'google1000_employees.csv'\n",
      "Wrote 974 lines to: 'google1000_employees.csv'\n",
      "Wrote 975 lines to: 'google1000_employees.csv'\n",
      "Wrote 976 lines to: 'google1000_employees.csv'\n",
      "Wrote 977 lines to: 'google1000_employees.csv'\n",
      "Wrote 978 lines to: 'google1000_employees.csv'\n",
      "Wrote 979 lines to: 'google1000_employees.csv'\n",
      "Wrote 980 lines to: 'google1000_employees.csv'\n",
      "Wrote 981 lines to: 'google1000_employees.csv'\n",
      "Wrote 982 lines to: 'google1000_employees.csv'\n",
      "Wrote 983 lines to: 'google1000_employees.csv'\n",
      "Wrote 984 lines to: 'google1000_employees.csv'\n",
      "Wrote 985 lines to: 'google1000_employees.csv'\n",
      "Wrote 986 lines to: 'google1000_employees.csv'\n",
      "Wrote 987 lines to: 'google1000_employees.csv'\n",
      "Wrote 988 lines to: 'google1000_employees.csv'\n",
      "Wrote 989 lines to: 'google1000_employees.csv'\n",
      "Wrote 990 lines to: 'google1000_employees.csv'\n",
      "Wrote 991 lines to: 'google1000_employees.csv'\n",
      "Wrote 992 lines to: 'google1000_employees.csv'\n",
      "Wrote 993 lines to: 'google1000_employees.csv'\n",
      "Wrote 994 lines to: 'google1000_employees.csv'\n",
      "Wrote 995 lines to: 'google1000_employees.csv'\n",
      "Wrote 996 lines to: 'google1000_employees.csv'\n",
      "Wrote 997 lines to: 'google1000_employees.csv'\n",
      "Wrote 998 lines to: 'google1000_employees.csv'\n",
      "Wrote 999 lines to: 'google1000_employees.csv'\n",
      "Wrote 1000 lines to: 'google1000_employees.csv'\n"
     ]
    },
    {
     "data": {
      "application/vnd.plotly.v1+json": {
       "config": {
        "plotlyServerURL": "https://plot.ly"
       },
       "data": [
        {
         "coloraxis": "coloraxis",
         "customdata": [
          [
           "bay area guest services program manager",
           "kenyon college"
          ],
          [
           "chief marketing officer , google cloud",
           "harvard business school"
          ],
          [
           "head of partner solution strategy and architecture - google cloud",
           "north carolina state university"
          ],
          [
           "executive business partner, g suite",
           "richmond, the american international university in london"
          ],
          [
           "engineering manager",
           "santa clara university"
          ],
          [
           "director - google education",
           "hillsdale college"
          ],
          [
           "senior product designer",
           "uc san diego"
          ],
          [
           "senior staff software engineer",
           "caltech"
          ],
          [
           "user experience lead for google cloud logging and apm",
           "university of rochester"
          ],
          [
           "program manager",
           "new york university"
          ],
          [
           "product manager",
           "santa clara university"
          ],
          [
           "product manager, google accounts receivable and vr",
           "universidad ort uruguay"
          ],
          [
           "team lead, product marketing, google ads",
           "washington state university"
          ],
          [
           "account manager",
           "dewitt high school"
          ],
          [
           "global head of business innovation",
           "california state university, long beach"
          ],
          [
           "director, software engineering",
           "yale university"
          ],
          [
           "product leader",
           "boston university"
          ],
          [
           "team lead and senior account executive",
           "university of california, santa cruz"
          ],
          [
           "strategy and commercialization lead, doubleclick digital marketing",
           "university of southern california"
          ],
          [
           "senior partner technology manager",
           "vanderbilt university"
          ],
          [
           "marketing lead, real estate",
           "university of illinois at urbana - champaign"
          ],
          [
           "senior software engineer",
           "university of florida"
          ],
          [
           "principal account manager - healthcare",
           "quincy college"
          ],
          [
           "technical account manager",
           "boston university"
          ],
          [
           "software engineering manager",
           "university of michigan"
          ],
          [
           "technical program manager",
           "university of california, berkeley"
          ],
          [
           "director of user experience",
           "university of sussex"
          ],
          [
           "director of us marketing, devices and services; head of us go-to-market",
           "new york university"
          ],
          [
           "global head of solutions consulting and operations, google play",
           "university of california, berkeley"
          ],
          [
           "product manager",
           "university of iowa"
          ],
          [
           "senior product manager",
           "university of maryland"
          ],
          [
           "customer engineer",
           "macalester college"
          ],
          [
           "director, go to market strategy and operations",
           "stanford university"
          ],
          [
           "senior designer",
           "john brown university"
          ],
          [
           "engineering manager, developer relations",
           "florida atlantic university"
          ],
          [
           "government affairs and public policy",
           "university of pennsylvania"
          ],
          [
           "senior software engineer",
           "northeastern university"
          ],
          [
           "partner marketing manager, google cloud",
           "university of south florida"
          ],
          [
           "product manager- android",
           "university of california, berkeley"
          ],
          [
           "design manager",
           "california state university, fresno"
          ],
          [
           "managing director",
           "lick - wilmerding high school"
          ],
          [
           "program manager, federated security, research operations",
           "university of california, davis"
          ],
          [
           "head of brand marketing",
           "the university of texas at austin"
          ],
          [
           "executive business partner",
           "san jose state university"
          ],
          [
           "senior interaction designer",
           "university of south carolina"
          ],
          [
           "engineer manager, gcp",
           "university of illinois at urbana - champaign"
          ],
          [
           "technical program manager",
           "university politehnica of bucharest"
          ],
          [
           "product manager",
           "palo alto high school"
          ],
          [
           "group product manager",
           "columbia engineering"
          ],
          [
           "machine learning engineer",
           "university of waterloo"
          ],
          [
           "software release manager",
           "the george washington university"
          ],
          [
           "us healthcare benefits lead",
           "university of california, berkeley"
          ],
          [
           "engineering director and principal engineer",
           "massachusetts institute of technology"
          ],
          [
           "corporate counsel @google",
           "school of the art institute of chicago"
          ],
          [
           "vice president, trust and safety",
           "brown university"
          ],
          [
           "product marketing lead, google cloud",
           "university of california, berkeley"
          ],
          [
           "senior staff engineer and manager",
           "georgia institute of technology"
          ],
          [
           "senior change management practitioner",
           "university of colorado boulder"
          ],
          [
           "product manager",
           "xavier university (ph)"
          ],
          [
           "partner operations lead, news and search",
           "uc san diego"
          ],
          [
           "brand lead, media lab",
           "university of new hampshire"
          ],
          [
           "program manager, mobile app ads and display ads",
           "northeastern university"
          ],
          [
           "group product manager",
           "stanford university"
          ],
          [
           "design leader for google news in dc",
           "university of illinois at urbana - champaign"
          ],
          [
           "product manager",
           "san jose state university"
          ],
          [
           "head of support strategy and operations, google photos and chrome browser",
           "depaul university"
          ],
          [
           "senior product manager",
           "dartmouth college"
          ],
          [
           "head of marketing technology and enablement, google cloud",
           "washington university in st. louis"
          ],
          [
           "senior specialist uk - display and youtube",
           "the university of texas at austin"
          ],
          [
           "group product manager",
           "university of washington"
          ],
          [
           "strategist, trust and safety",
           "san jose state university"
          ],
          [
           "senior software engineer",
           "north carolina state university"
          ],
          [
           "campus staffing lead",
           "texas lutheran university"
          ],
          [
           "senior android developer advocate",
           "brown university"
          ],
          [
           "program manager, google research",
           "northeastern university"
          ],
          [
           "head of education marketing, google cloud",
           "university of north carolina at chapel hill"
          ],
          [
           "product manager",
           "university of california, berkeley"
          ],
          [
           "technical solutions consultant",
           "null"
          ],
          [
           "enterprise account manager",
           "lyndon state college"
          ],
          [
           "product manager",
           "uc san diego"
          ],
          [
           "senior ios developer",
           "brandeis university"
          ],
          [
           "software engineer interested in philosophy and dogs",
           "university of illinois at urbana - champaign"
          ],
          [
           "director, inclusion programs",
           "university of south carolina school of law"
          ],
          [
           "design lead",
           "rhode island school of design"
          ],
          [
           "head of data and technology business unit",
           "florida state university"
          ],
          [
           "administrative business partner",
           "de anza college"
          ],
          [
           "user experience lead google on ios",
           "yale school of art"
          ],
          [
           "director - industry isv's",
           "university of wisconsin - madison"
          ],
          [
           "senior software engineer technical lead",
           "university of pennsylvania"
          ],
          [
           "senior director of product management - office of chief information officer",
           "stanford university"
          ],
          [
           "director of growth marketing, google play",
           "university of arizona"
          ],
          [
           "senior software engineer",
           "millikin university"
          ],
          [
           "technical lead manager",
           "peter the great st.petersburg polytechnic university"
          ],
          [
           "product manager lead",
           "university of pennsylvania"
          ],
          [
           "google",
           "harvard university"
          ],
          [
           "engineering leader",
           "university of wollongong"
          ],
          [
           "technical program manager, network engineer, global security and resilience services",
           "drexel university"
          ],
          [
           "product manager - area 120 founder",
           "null"
          ],
          [
           "finance manager",
           "university of california, los angeles"
          ],
          [
           "senior software engineer",
           "caltech"
          ],
          [
           "partnerhsip manager",
           "boston university"
          ],
          [
           "operations management",
           "loyola marymount university"
          ],
          [
           "platforms sales manager @ google",
           "uc irvine"
          ],
          [
           "product manager",
           "university of california, santa cruz"
          ],
          [
           "software engineer",
           "university of wisconsin - madison"
          ],
          [
           "software engineer",
           "western governors university"
          ],
          [
           "writer and content strategist",
           "westfield state university"
          ],
          [
           "partner engineer",
           "universidade federal de santa catarina"
          ],
          [
           "global marketing lead, healthcare and life sciences - google cloud",
           "oakton high school"
          ],
          [
           "strategy and operations @ google",
           "university of toronto"
          ],
          [
           "experience design manager and creative strategist",
           "the ohio state university"
          ],
          [
           "operations director, google cloud healthcare and life sciences industry sales",
           "horace mann school"
          ],
          [
           "operations, google fi",
           "princeton university"
          ],
          [
           "administrative business partner",
           "saint mary's college of california"
          ],
          [
           "product management, cx for google cloud",
           "pg center, kolar"
          ],
          [
           "member of the technical staff",
           "walla walla university"
          ],
          [
           "organizational development partner + head of od at youtube",
           "new york university"
          ],
          [
           "head of gtm activation",
           "southern methodist university"
          ],
          [
           "product manager",
           "duke university"
          ],
          [
           "manager, solutions consultant training and development",
           "santa clara university"
          ],
          [
           "program manager consultant @ google cloud ai",
           "stanford university"
          ],
          [
           "program manager, customer trust, google cloud platform",
           "university of colorado boulder"
          ],
          [
           "gaming lead, accounts receivable and vr",
           "plekhanov russian university of economics"
          ],
          [
           "director, product management",
           "university of california, los angeles"
          ],
          [
           "manager, security and compliance specialists, cloud solutions engineering",
           "the collins college of hospitality management at cal poly pomona"
          ],
          [
           "program manager",
           "massachusetts institute of technology"
          ],
          [
           "hr bp and analyst, employee relations and investigations",
           "university of chicago"
          ],
          [
           "pgm @ google",
           "southern methodist university"
          ],
          [
           "product marketing manager iii, cloud migration and microsoft on gcp",
           "san jose state university"
          ],
          [
           "engineering manager",
           "university of washington"
          ],
          [
           "senior interaction designer",
           "artcenter college of design"
          ],
          [
           "staff software engineer",
           "princeton university"
          ],
          [
           "google research",
           "uc san diego"
          ],
          [
           "cloud customer engineer",
           "cornell university"
          ],
          [
           "staff software engineer",
           "university of california, los angeles"
          ],
          [
           "program manager",
           "babson college"
          ],
          [
           "vice president product management",
           "stanford university"
          ],
          [
           "head of ai services and delivery center, cloud professional services",
           "southern methodist university"
          ],
          [
           "machine learning engineer",
           "harvard university"
          ],
          [
           "storyteller analyst project manager",
           "the university of texas at austin"
          ],
          [
           "head of measurement and analytics, financial services",
           "vanderbilt university"
          ],
          [
           "digital product marketing leader, google",
           "university of virginia"
          ],
          [
           "senior project manager, localization",
           "stanford university"
          ],
          [
           "senior technical writer",
           "pacifica graduate institute"
          ],
          [
           "product marketing",
           "university of california, berkeley"
          ],
          [
           "software engineer",
           "cornell university"
          ],
          [
           "head of americas online growth partnerships, google cloud",
           "northwestern university - kellogg school of management"
          ],
          [
           "staff program manager, privacy sandbox",
           "christian academy of louisville"
          ],
          [
           "product manager",
           "the university of texas at austin"
          ],
          [
           "tech lead",
           "columbia university in the city of new york"
          ],
          [
           "product business development",
           "middlebury college"
          ],
          [
           "people-focused engineering leader",
           "georgia institute of technology"
          ],
          [
           "data science developer advocate",
           "boston university"
          ],
          [
           "product manager, ai",
           "brown university"
          ],
          [
           "global operations manager",
           "stonehill college"
          ],
          [
           "user experience program management and design strategy",
           "san jose state university"
          ],
          [
           "senior financial analyst",
           "wheeling university"
          ],
          [
           "upfronts lead",
           "university of southern california - marshall school of business"
          ],
          [
           "head of north america, g suite for education",
           "university of missouri - columbia"
          ],
          [
           "director, product management",
           "the wharton school"
          ],
          [
           "strategic cloud engineer",
           "university of arizona"
          ],
          [
           "head of global marketing, google play",
           "the wharton school"
          ],
          [
           "senior product manager",
           "jiwaji university"
          ],
          [
           "director, consumer operations",
           "university of california, irvine - the paul merage school of business"
          ],
          [
           "nest smart home retail go-to-market lead",
           "thunderbird school of global management"
          ],
          [
           "software engineering manager",
           "university of pittsburgh katz graduate school of business"
          ],
          [
           "ios software engineer",
           "dartmouth college"
          ],
          [
           "programmatic account manager",
           "bridgewater state university"
          ],
          [
           "business development manager - google meet",
           "university of california, berkeley"
          ],
          [
           "software engineering manager",
           "indian institute of engineering science and technology (iiest), shibpur"
          ],
          [
           "product manager, serverless , google cloud",
           "dartmouth college"
          ],
          [
           "head of new business web, online partnerships group na",
           "elon university"
          ],
          [
           "partner manager - data and analytics strategy",
           "university of sacramento"
          ],
          [
           "head of industry solutions partnerships",
           "harvard business school"
          ],
          [
           "enterprise customer engineer",
           "wichita state university"
          ],
          [
           "user experience design manager",
           "kth global development hub"
          ],
          [
           "central operations and global programs lead",
           "chapman university"
          ],
          [
           "account manager, google cloud",
           "oklahoma state university"
          ],
          [
           "interaction designer",
           "texas a&m university"
          ],
          [
           "product manager",
           "georgia institute of technology"
          ],
          [
           "senior account manager, apps",
           "the university of iowa"
          ],
          [
           "product manager",
           "brown university"
          ],
          [
           "product manager, pixel and research and machine intelligence",
           "stanford university"
          ],
          [
           "product manager",
           "university of california, davis"
          ],
          [
           "product marketing manager, payments",
           "pacific ridge school"
          ],
          [
           "senior visual designer",
           "assumption university"
          ],
          [
           "vice president of product management",
           "cornell university"
          ],
          [
           "senior director, research engineering",
           "university of illinois at urbana - champaign"
          ],
          [
           "product operations manager",
           "uc santa barbara"
          ],
          [
           "lead, google cloud customer community",
           "university of southern california"
          ],
          [
           "staff interaction designer",
           "university of tampa"
          ],
          [
           "marketing lead, ads privacy",
           "stanford university"
          ],
          [
           "android security program manager",
           "uc irvine"
          ],
          [
           "content marketing - security operations",
           "s.i. newhouse school of public communications at syracuse university"
          ],
          [
           "market insights lead",
           "colorado state university global"
          ],
          [
           "enterprise cloud architect",
           "seattle university"
          ],
          [
           "associate product manager",
           "university of pennsylvania: m&t dual degree program"
          ],
          [
           "product marketing manager, android accessibility",
           "northwestern university"
          ],
          [
           "manager, techical program manager",
           "institute of management technology, ghaziabad"
          ],
          [
           "retail practice lead",
           "miami university"
          ],
          [
           "design manager",
           "the australian national university"
          ],
          [
           "senior software engineer",
           "lehigh university"
          ],
          [
           "human resources business partner",
           "arizona state university"
          ],
          [
           "global security operations program manager",
           "arizona state university"
          ],
          [
           "technical leadership - core data",
           "case western reserve university"
          ],
          [
           "engineering program manager, ios at google",
           "san diego culinary institute"
          ],
          [
           "product manager",
           "the hong kong university of science and technology"
          ],
          [
           "media lab operations manager",
           "university of illinois at urbana - champaign"
          ],
          [
           "senior business analyst, trust and safety",
           "colgate university"
          ],
          [
           "google cloud, corporate account executive",
           "the university of texas at austin"
          ],
          [
           "senior search quality analyst",
           "chapman university"
          ],
          [
           "senior manager, professional services, doubleclick platforms",
           "western michigan university"
          ],
          [
           "engineering manager iii - firebase",
           "university of california, berkeley"
          ],
          [
           "product manager, hotels",
           "university of california, berkeley, haas school of business"
          ],
          [
           "staff software engineer",
           "massachusetts institute of technology"
          ],
          [
           "global product policy lead - geo",
           "university of southern california"
          ],
          [
           "product marketing manager, google play console",
           "university of california, los angeles"
          ],
          [
           "senior interaction designer",
           "kent state university"
          ],
          [
           "product marketing manager",
           "oberlin college"
          ],
          [
           "senior software engineer",
           "university at buffalo"
          ],
          [
           "product strategy and analytics",
           "northwestern university - kellogg school of management"
          ],
          [
           "group product manager",
           "princeton university"
          ],
          [
           "senior solutions engineer",
           "university of california, berkeley"
          ],
          [
           "automotive partnerships",
           "arizona state university"
          ],
          [
           "software engineer, google maps",
           "massachusetts institute of technology"
          ],
          [
           "sales training manager, fitbit",
           "florida international university"
          ],
          [
           "head of serviceability, compliance and help platforms",
           "thunderbird school of global management"
          ],
          [
           "recruiting lead, global affairs",
           "roosevelt university"
          ],
          [
           "senior producer, brand studio",
           "american university"
          ],
          [
           "product manager",
           "west salem high school"
          ],
          [
           "manager, mid market sales",
           "university of southern california - marshall school of business"
          ],
          [
           "recruiting team lead at google",
           "morehouse college"
          ],
          [
           "director of engineering",
           "illinois institute of technology"
          ],
          [
           "technical director, office of the chief technology officer",
           "george mason university"
          ],
          [
           "software engineer",
           "university of colorado boulder"
          ],
          [
           "googler * consultant and executive coach * pcc",
           "carnegie mellon university"
          ],
          [
           "head of go to market, google store",
           "portland state university"
          ],
          [
           "senior site reliability engineer",
           "miami dade college"
          ],
          [
           "enterprise cloud account executive",
           "university at albany, suny"
          ],
          [
           "engineering manager",
           "pratt institute"
          ],
          [
           "horology design lead",
           "georgetown university"
          ],
          [
           "design leadership",
           "emerson college"
          ],
          [
           "business intelligence program manager",
           "university of california, davis"
          ],
          [
           "global product lead",
           "idc herzliya"
          ],
          [
           "senior data scientist, search ranking",
           "courant institute of mathematical sciences"
          ],
          [
           "program manager, ios @ google",
           "university of california, berkeley"
          ],
          [
           "brand marketing partnerships lead",
           "loyola university chicago"
          ],
          [
           "director of product management",
           "northwestern university"
          ],
          [
           "renewals manager, looker",
           "san diego state university"
          ],
          [
           "cloud architect",
           "the university of manchester"
          ],
          [
           "director, geo core apps",
           "new york university"
          ],
          [
           "product",
           "columbia business school"
          ],
          [
           "group product manager",
           "grand valley state university"
          ],
          [
           "manager - scalable partner growth and acquisitions",
           "ucla anderson school of management"
          ],
          [
           "software engineer",
           "drexel university"
          ],
          [
           "senior software engineer",
           "mississippi state university"
          ],
          [
           "global senior product marketing manager, google nest",
           "columbia business school"
          ],
          [
           "kids + families and content responsibility marketing lead, emea",
           "stanford university"
          ],
          [
           "product manager",
           "university of chicago"
          ],
          [
           "senior program manager - netops pmo",
           "university of the pacific"
          ],
          [
           "product design lead, google ai and research",
           "san jose state university"
          ],
          [
           "senior director of product management",
           "unc kenan - flagler business school"
          ],
          [
           "product manager",
           "rice university"
          ],
          [
           "cloud architect",
           "kennesaw state university"
          ],
          [
           "principal engineer , tech infrastructure, google cloud",
           "university of california, los angeles"
          ],
          [
           "engineering manager",
           "rice university"
          ],
          [
           "head of americas, sales strategy and operations",
           "university of michigan"
          ],
          [
           "software engineer",
           "university of new hampshire"
          ],
          [
           "senior software engineer",
           "georgia institute of technology"
          ],
          [
           "product manager",
           "university of california, berkeley"
          ],
          [
           "key account executive - google cloud",
           "university of delaware"
          ],
          [
           "principal architect",
           "brigham young university - idaho"
          ],
          [
           "security engineer",
           "new york university"
          ],
          [
           "sales engineering, google cloud platform",
           "binghamton university"
          ],
          [
           "product marketing manager, google maps platform at google",
           "university of connecticut school of business"
          ],
          [
           "software engineer",
           "massachusetts institute of technology"
          ],
          [
           "product manager, personal finance",
           "yale university"
          ],
          [
           "senior principal architect",
           "michigan state university"
          ],
          [
           "manager, digital forensics",
           "boston college"
          ],
          [
           "partner customer engineering lead",
           "purchase college, suny"
          ],
          [
           "strategy and operations lead, google photos",
           "university of san francisco"
          ],
          [
           "director of product management, google assistant developer platform",
           "carnegie mellon university - tepper school of business"
          ],
          [
           "senior software engineer",
           "stony brook university"
          ],
          [
           "business development",
           "purdue university"
          ],
          [
           "senior staff software engineer and manager",
           "washington university in st. louis"
          ],
          [
           "engineering manager iii",
           "baylor university"
          ],
          [
           "program manager, human resources benefits",
           "saint louis university"
          ],
          [
           "senior software engineer",
           "chinese academy of sciences"
          ],
          [
           "senior director, head of geo user experience",
           "carleton college"
          ],
          [
           "machine resource management",
           "stanford university graduate school of business"
          ],
          [
           "senior technology auditor",
           "university of vermont"
          ],
          [
           "senior privacy engineer",
           "depauw university"
          ],
          [
           "senior account manager",
           "university of california, berkeley"
          ],
          [
           "engineering manager, geo enterprise",
           "stony brook university"
          ],
          [
           "research scientist",
           "university of wisconsin - madison"
          ],
          [
           "staff writer",
           "arizona state university"
          ],
          [
           "pm lead, ai and accounts receivable-based retail and commerce",
           "mit sloan school of management"
          ],
          [
           "senior interaction designer",
           "university of southern california"
          ],
          [
           "engineering manager",
           "national central university"
          ],
          [
           "enterprise territory manager",
           "biola university"
          ],
          [
           "interaction designer",
           "the collins college of hospitality management at cal poly pomona"
          ],
          [
           "program manager, online care, social and community",
           "san jose state university"
          ],
          [
           "product marketing manager",
           "stanford university"
          ],
          [
           "senior software engineer",
           "harvard college"
          ],
          [
           "product manager",
           "stanford university"
          ],
          [
           "user experience researcher",
           "wesleyan university"
          ],
          [
           "software engineer technical lead",
           "university of california, berkeley"
          ],
          [
           "team lead",
           "west valley college"
          ],
          [
           "program manager",
           "montana state university - bozeman"
          ],
          [
           "product manager - chrome os",
           "northeastern university"
          ],
          [
           "senior software engineer",
           "the university of western australia"
          ],
          [
           "senior software engineer",
           "university of california, santa cruz"
          ],
          [
           "product manager",
           "swinburne university of technology sydney"
          ],
          [
           "web developer advocate, google chrome",
           "american university"
          ],
          [
           "product manager",
           "carnegie mellon university - tepper school of business"
          ],
          [
           "senior product manager",
           "uc san diego"
          ],
          [
           "head of platform operations and support",
           "the george washington university"
          ],
          [
           "user experience designer",
           "university of oregon"
          ],
          [
           "program manager, stadia",
           "chapman university"
          ],
          [
           "product manager",
           "university of california, berkeley"
          ],
          [
           "design lead",
           "boston university"
          ],
          [
           "vice president, product management - chromeos",
           "middlebury college"
          ],
          [
           "program manager, npi supply chain operations",
           "stanford university"
          ],
          [
           "staff visual designer and manager",
           "academy of art university"
          ],
          [
           "product policy lead",
           "trinity university"
          ],
          [
           "user experience researcher",
           "georgia institute of technology"
          ],
          [
           "product manager",
           "stanford university"
          ],
          [
           "global director, digital marketing, google store",
           "the university of chicago booth school of business"
          ],
          [
           "head of developer and policy communications programs, google play",
           "university of california, berkeley"
          ],
          [
           "senior software engineer",
           "tsinghua university"
          ],
          [
           "group creative director and lead",
           "virginia commonwealth university"
          ],
          [
           "senior programmatic strategist",
           "university of san francisco"
          ],
          [
           "software engineer: stadia",
           "university of california, los angeles"
          ],
          [
           "senior program manager",
           "colorado state university global"
          ],
          [
           "technical program manager",
           "king's college london"
          ],
          [
           "senior director of user experience, google cloud ai and industry solutions",
           "california polytechnic state university - san luis obispo"
          ],
          [
           "front end software engineer at google",
           "university of california, davis"
          ],
          [
           "head of product cost management, google home and nest",
           "the wharton school"
          ],
          [
           "program manager iii, startup ecosystem, google cloud",
           "texas a&m university"
          ],
          [
           "director, product management - speech",
           "nyu stern school of business"
          ],
          [
           "head of digital marketing transformation",
           "university of notre dame"
          ],
          [
           "customer engineer",
           "beijing university of technology"
          ],
          [
           "head of beyondcorp enterprise architecture",
           "orange coast college"
          ],
          [
           "design lead and strategist",
           "the art institutes"
          ],
          [
           "product management leader",
           "stanford university"
          ],
          [
           "senior user experience researcher - accounts receivable team",
           "bentley university"
          ],
          [
           "enterprise field sales representative",
           "united states naval academy"
          ],
          [
           "senior research software engineer",
           "northeastern university"
          ],
          [
           "senior director, user experience @google payments",
           "california state university, chico"
          ],
          [
           "senior manager, strategic accounts",
           "eastman school of music"
          ],
          [
           "group product manager, senior pm, pm",
           "university of illinois at urbana - champaign"
          ],
          [
           "software engineer",
           "university of michigan"
          ],
          [
           "software engineer",
           "milford high school, milford, mi"
          ],
          [
           "staff data scientist",
           "calvin university"
          ],
          [
           "senior program manager",
           "university of california, santa cruz"
          ],
          [
           "product lead",
           "school of computer science, d.a.v.v. indore india"
          ],
          [
           "production network engineer",
           "bergen community college"
          ],
          [
           "user experience lead and manager",
           "collins college"
          ],
          [
           "manager, play movies",
           "california state university, northridge"
          ],
          [
           "head of retail ai, google cloud",
           "haverford college"
          ],
          [
           "product manager",
           "university of colorado boulder"
          ],
          [
           "software engineer",
           "california state university, northridge"
          ],
          [
           "software development engineer",
           "novosibirsk state university, department of economics"
          ],
          [
           "designer",
           "university of utah"
          ],
          [
           "product manager",
           "swarthmore college"
          ],
          [
           "director of engineering, fuchsia",
           "university of waterloo"
          ],
          [
           "user experience designer",
           "san jose state university"
          ],
          [
           "product marketing @ youtube",
           "university of california, berkeley"
          ],
          [
           "analyst",
           "university of california, berkeley"
          ],
          [
           "senior software engineer",
           "carnegie mellon university"
          ],
          [
           "product manager",
           "james madison university"
          ],
          [
           "head of partner engineering platform",
           "null"
          ],
          [
           "manager, gtech consumers",
           "university of michigan"
          ],
          [
           "technical program manager",
           "uc santa barbara"
          ],
          [
           "software engineer",
           "purdue university"
          ],
          [
           "head of media, north america",
           "university of wisconsin - eau claire"
          ],
          [
           "head of agency strategy and insights",
           "pacific lutheran university"
          ],
          [
           "recruiting lead",
           "georgetown university"
          ],
          [
           "engineering manager, site reliability engineering",
           "cornell university"
          ],
          [
           "senior program manager",
           "san francisco state university"
          ],
          [
           "product manager",
           "uc santa barbara"
          ],
          [
           "product manager",
           "stanford university"
          ],
          [
           "business development manager, google photos",
           "cornell university"
          ],
          [
           "engineering manager",
           "northeastern university"
          ],
          [
           "staff engineer",
           "north carolina state university"
          ],
          [
           "communications manager, corporate and employee relations, diversity and inclusion",
           "st. john's university"
          ],
          [
           "food program manager",
           "stanford university"
          ],
          [
           "shopping product analytics and data science manager",
           "cleveland state university"
          ],
          [
           "vice president and general manager, chrome browser",
           "gelato university"
          ],
          [
           "user experience design manager",
           "simon fraser university"
          ],
          [
           "program manager",
           "penn state university"
          ],
          [
           "senior account strategist, agency sales",
           "university of missouri"
          ],
          [
           "senior principal, cloud value advisors",
           "university of arizona"
          ],
          [
           "product manager",
           "georgia institute of technology"
          ],
          [
           "interaction designer",
           "california state university, fresno"
          ],
          [
           "senior project manager",
           "santa clara university"
          ],
          [
           "project manager",
           "university of california, santa cruz"
          ],
          [
           "senior software engineer",
           "cornell university"
          ],
          [
           "product manager",
           "stanford university"
          ],
          [
           "engineering manager",
           "georgia institute of technology"
          ],
          [
           "network operations",
           "east high school"
          ],
          [
           "customer experience innovation lead, google devices and services",
           "university of florida"
          ],
          [
           "senior engineering manager",
           "embry - riddle aeronautical university"
          ],
          [
           "engineering lead in material design",
           "boston conservatory at berklee"
          ],
          [
           "vice president of product management",
           "esit - école supérieure d’interprètes et de traducteurs"
          ],
          [
           "senior software engineer",
           "utah valley university"
          ],
          [
           "software engineer",
           "stanford university"
          ],
          [
           "head of global retail go-to-market, advocacy, and demo experiences - devices and services marketing",
           "graduate school of business & administration"
          ],
          [
           "engineering manager",
           "university of pittsburgh"
          ],
          [
           "senior patent counsel",
           "stony brook university"
          ],
          [
           "software engineer",
           "syracuse university"
          ],
          [
           "google cloud partner sales leadership",
           "azusa pacific university"
          ],
          [
           "product manager",
           "st. john's university"
          ],
          [
           "marketing manager, analytics",
           "university of california, berkeley"
          ],
          [
           "head of treasury tech",
           "university of southern california"
          ],
          [
           "senior product designer | cloud ai and machine learning solutions",
           "nyu tisch art and public policy"
          ],
          [
           "urban planning lead for mountain view and sunnyvale",
           "university of arizona"
          ],
          [
           "software engineer",
           "university of illinois at urbana - champaign"
          ],
          [
           "deal strategist, global business practices",
           "loyola university chicago"
          ],
          [
           "staff engineer and engineering manager",
           "massachusetts institute of technology"
          ],
          [
           "senior software engineer",
           "oregon state university"
          ],
          [
           "software engineer",
           "california polytechnic state university - san luis obispo"
          ],
          [
           "user experience design manager",
           "new york university"
          ],
          [
           "account executive",
           "indiana university bloomington"
          ],
          [
           "product manager",
           "santa clara university"
          ],
          [
           "security solutionstrategy",
           "stony brook university"
          ],
          [
           "operations lead, cloud platform",
           "temple university rome"
          ],
          [
           "program manager",
           "university of california, davis"
          ],
          [
           "copywriter",
           "solano community college"
          ],
          [
           "senior software engineer",
           "brown university"
          ],
          [
           "administrative business partner",
           "san diego state university"
          ],
          [
           "managing director, branded apparel and durables",
           "stanford university"
          ],
          [
           "director of engineering",
           "university of washington"
          ],
          [
           "senior user experience researcher",
           "university of michigan"
          ],
          [
           "software engineer",
           "massachusetts institute of technology"
          ],
          [
           "product manager, cloud ai",
           "the university of chicago booth school of business"
          ],
          [
           "program manager, user care evolution",
           "harvard university"
          ],
          [
           "product manager, cloud databases",
           "the university of texas at austin"
          ],
          [
           "software engineer, machine learning",
           "university of california, berkeley"
          ],
          [
           "head of product marketing, commerce",
           "university of wisconsin - madison"
          ],
          [
           "senior software engineer",
           "sofia university st. kliment ohridski"
          ],
          [
           "research operations manager",
           "northwestern university"
          ],
          [
           "software engineer",
           "lehigh university"
          ],
          [
           "cloud therapist",
           "university of michigan"
          ],
          [
           "manager, google store order management",
           "cornell university"
          ],
          [
           "general manager, vice president etc",
           "indian institute of technology, kharagpur"
          ],
          [
           "product design lead",
           "university of michigan"
          ],
          [
           "senior interaction designer",
           "the hong kong polytechnic university"
          ],
          [
           "senior software engineer",
           "uc san diego"
          ],
          [
           "visual design lead",
           "california polytechnic state university - san luis obispo"
          ],
          [
           "group creative lead",
           "northern kentucky university"
          ],
          [
           "sales manager, mobile apps, google marketing solutions",
           "university of california, berkeley"
          ],
          [
           "client success manager",
           "san diego state university"
          ],
          [
           "product marketing manager",
           "golden gate university"
          ],
          [
           "software engineer",
           "mount holyoke college"
          ],
          [
           "global director",
           "harvard university"
          ],
          [
           "developer programs engineer manager",
           "university of southern california"
          ],
          [
           "technical analytics architect, google cloud",
           "drexel university"
          ],
          [
           "senior finance manager",
           "uc san diego"
          ],
          [
           "houston metro market and global energy lead",
           "washington and lee university"
          ],
          [
           "global creative director",
           "colorado state university"
          ],
          [
           "engineering manager",
           "massachusetts institute of technology"
          ],
          [
           "group product manager, search growth",
           "stanford university"
          ],
          [
           "head of brand publishing",
           "james madison university"
          ],
          [
           "head of finance data governance",
           "north carolina state university"
          ],
          [
           "program manager iii, search",
           "hackbright academy"
          ],
          [
           "senior software engineer",
           "harvey mudd college"
          ],
          [
           "senior software engineer",
           "uc santa barbara"
          ],
          [
           "interaction designer",
           "rochester institute of technology"
          ],
          [
           "senior cloud value advisor",
           "boston university"
          ],
          [
           "head of android intelligence desk",
           "harvard business school"
          ],
          [
           "senior software engineer",
           "tsinghua university"
          ],
          [
           "senior staff software engineer",
           "xi'an jiaotong university"
          ],
          [
           "research scientist",
           "stanford university"
          ],
          [
           "head of new business sales, us east",
           "tufts university"
          ],
          [
           "product designer",
           "national university of singapore"
          ],
          [
           "director of engineering, google cloud",
           "stanford university"
          ],
          [
           "product manager, google wallet",
           "massachusetts institute of technology"
          ],
          [
           "head of display and programmatic, customer success",
           "ucla anderson school of management"
          ],
          [
           "product marketing manager, search",
           "american university"
          ],
          [
           "senior technical solutions consultant",
           "loyola university chicago"
          ],
          [
           "director, global product support, google cloud and google workspace",
           "gw investment institute"
          ],
          [
           "account executive, elections and advocacy",
           "renmin university of china"
          ],
          [
           "director of engineering in research",
           "massachusetts institute of technology"
          ],
          [
           "network engineer",
           "uc berkeley extension"
          ],
          [
           "software engineering manager",
           "university of central florida"
          ],
          [
           "product manager",
           "university of california, berkeley"
          ],
          [
           "corporate communications senior associate, google cloud",
           "santa clara university"
          ],
          [
           "software engineer",
           "university of california, davis"
          ],
          [
           "director, strategy and operations",
           "arizona state university"
          ],
          [
           "senior staff engineer",
           "point loma nazarene university"
          ],
          [
           "partnerships - tenor at google",
           "university of california, los angeles"
          ],
          [
           "head of global technology ecosystem, google cloud",
           "drexel university"
          ],
          [
           "software engineer",
           "texas a&m university"
          ],
          [
           "marketing manager, health",
           "new york university"
          ],
          [
           "senior software engineer",
           "university of pittsburgh"
          ],
          [
           "software engineering manager",
           "hamilton college"
          ],
          [
           "emergent markets and large governments lead, google for education",
           "university of california, berkeley"
          ],
          [
           "hardware engineer",
           "massachusetts institute of technology"
          ],
          [
           "head of sales, google cloud",
           "university of puget sound"
          ],
          [
           "outbound product manager",
           "ohio university heritage college of osteopathic medicine"
          ],
          [
           "3p games and developer marketing lead, stadia at google",
           "florida state university"
          ],
          [
           "user experience program manager",
           "san jose state university"
          ],
          [
           "product manager",
           "university of california, berkeley"
          ],
          [
           "senior product manager",
           "university of massachusetts amherst"
          ],
          [
           "director, partner management and strategy at stadia",
           "georgetown university"
          ],
          [
           "head of marketing, google for games",
           "the wharton school"
          ],
          [
           "vice president us sales, retail and technology",
           "california state university - sacramento"
          ],
          [
           "head of scaled insights",
           "florida atlantic university - college of business"
          ],
          [
           "founder in residence @ area 120",
           "cornell university"
          ],
          [
           "partner development associate",
           "university of southern california"
          ],
          [
           "software engineer",
           "thunderbird school of global management"
          ],
          [
           "engineering manager and technical program manager",
           "the university of queensland"
          ],
          [
           "director of engineering",
           "university of california, los angeles"
          ],
          [
           "staff hardware engineer",
           "caltech"
          ],
          [
           "senior staff software engineer",
           "michigan technological university"
          ],
          [
           "engineering manager",
           "williams college"
          ],
          [
           "senior program manager, cloud customer and partner experience",
           "uc santa barbara"
          ],
          [
           "manager, technical services and product operations",
           "yale university"
          ],
          [
           "senior software engineer",
           "university of illinois at urbana - champaign"
          ],
          [
           "enterprise account manager",
           "calvin university"
          ],
          [
           "product marketing manager, devices and services",
           "thammasat university"
          ],
          [
           "global reverse logistics manager",
           "thunderbird school of global management"
          ],
          [
           "staff software engineer",
           "massachusetts institute of technology"
          ],
          [
           "partner solutions program manager",
           "university of limerick"
          ],
          [
           "senior program manager - android security and privacy",
           "west texas a&m university"
          ],
          [
           "program management, google cloud platform and technical infrastructure",
           "government college of technology"
          ],
          [
           "head of contact centers and risk management, google hardware",
           "uc santa barbara"
          ],
          [
           "head, google workspace security",
           "the university of texas at austin"
          ],
          [
           "tech lead manager and staff software engineer",
           "western university"
          ],
          [
           "vice president engineering",
           "university of southern california"
          ],
          [
           "product marketing manager iii",
           "university of wisconsin - madison"
          ],
          [
           "account manager, big box retail",
           "depaul university"
          ],
          [
           "cloud and workspace developer advocate",
           "university of california, los angeles"
          ],
          [
           "senior treasury analyst",
           "columbia business school"
          ],
          [
           "partner engineer",
           "cornell university"
          ],
          [
           "product cost analytics lead",
           "uc santa barbara"
          ],
          [
           "workspace account executive",
           "university of colorado boulder"
          ],
          [
           "global partner marketing @google",
           "university of miami herbert business school"
          ],
          [
           "head of tv ads platform | broadcast, media and entertainment",
           "university of california, davis"
          ],
          [
           "technical program manager",
           "karnataka law college, dharwad"
          ],
          [
           "senior manager, user experience",
           "university of washington"
          ],
          [
           "product manager, google image search",
           "university of southern california - marshall school of business"
          ],
          [
           "director, user experience program management",
           "brown university"
          ],
          [
           "senior software engineer and manager",
           "carnegie mellon university"
          ],
          [
           "sales strategy and operations program manager, global revenue acceleration",
           "university of california, berkeley"
          ],
          [
           "technical executive recruiter, search, google",
           "asnuntuck community college"
          ],
          [
           "software engineer",
           "uc san diego"
          ],
          [
           "sales enablement program manager- cloud programs and skills",
           "university of san francisco"
          ],
          [
           "software engineer, tech lead",
           "georgia institute of technology"
          ],
          [
           "robotics engineer",
           "stanford university"
          ],
          [
           "product manager",
           "brown university"
          ],
          [
           "territory sales manager",
           "valencia college"
          ],
          [
           "software engineer",
           "rochester institute of technology"
          ],
          [
           "senior user experience researcher",
           "eastern washington university"
          ],
          [
           "deployment design and engineering",
           "assumption university"
          ],
          [
           "senior product designer",
           "massachusetts college of art and design"
          ],
          [
           "solutions specialist",
           "boston university"
          ],
          [
           "senior software engineer",
           "pennsylvania state university"
          ],
          [
           "gdc security manager",
           "hacc, central pennsylvania's community college"
          ],
          [
           "senior software engineer",
           "brown university"
          ],
          [
           "director of engineering",
           "brigham young university"
          ],
          [
           "engineering leader - cloud ai platform",
           "ghulam ishaq khan institute"
          ],
          [
           "technical account manager",
           "university of illinois at urbana - champaign"
          ],
          [
           "financial analyst",
           "pepperdine university"
          ],
          [
           "product manager",
           "tulane university"
          ],
          [
           "head of cloud, customer engineering",
           "northwestern university"
          ],
          [
           "product management",
           "university of southern california"
          ],
          [
           "chromebooks for smb sales",
           "san jose state university"
          ],
          [
           "tech strategy lead, security and compliance",
           "indiana university - kelley school of business"
          ],
          [
           "reporting and analytics lead",
           "northwestern university"
          ],
          [
           "senior director, google photos",
           "the university of chicago booth school of business"
          ],
          [
           "strategic partnerships development",
           "jakarta intercultural school"
          ],
          [
           "product lead",
           "university of michigan"
          ],
          [
           "director of apac partner development, youtube",
           "university of california, berkeley"
          ],
          [
           "software engineer",
           "university of florida"
          ],
          [
           "site reliability engineer",
           "duke university"
          ],
          [
           "senior product manager",
           "university of waterloo"
          ],
          [
           "staff researcher at google",
           "university of north carolina at asheville"
          ],
          [
           "product manager, local news experiments",
           "denison university"
          ],
          [
           "global gtm strategy, google nest",
           "university of pennsylvania"
          ],
          [
           "discovery staff attorney",
           "university of san francisco"
          ],
          [
           "user experience research",
           "uc san diego"
          ],
          [
           "engineering manager",
           "birla institute of technology and science, pilani"
          ],
          [
           "employee relations manager",
           "university of california, berkeley"
          ],
          [
           "product manager - google search",
           "tufts university"
          ],
          [
           "software engineer",
           "rensselaer polytechnic institute"
          ],
          [
           "staff software engineer",
           "the george washington university"
          ],
          [
           "google user experience | program management",
           "williams college"
          ],
          [
           "software engineer",
           "cornell university"
          ],
          [
           "communications manager",
           "hofstra university"
          ],
          [
           "product manager",
           "university of virginia"
          ],
          [
           "events and experiences manager",
           "santa clara university"
          ],
          [
           "senior software engineer",
           "university of michigan"
          ],
          [
           "principal account manager",
           "brown university"
          ],
          [
           "senior software engineer",
           "brown university"
          ],
          [
           "fullmetal looker' staff engineer",
           "mckinley senior high school"
          ],
          [
           "architecture advocate, google cloud platform at google",
           "kiski area high school"
          ],
          [
           "technical lead and senior software engineer",
           "beihang university"
          ],
          [
           "head of product marketing, laptops | devices and services marketing",
           "university of michigan"
          ],
          [
           "program manager - regional demand planning",
           "michigan state university"
          ],
          [
           "global process manager",
           "university of california, santa cruz"
          ],
          [
           "senior staff software engineer, lead and manager, assistant smarthome",
           "university of michigan"
          ],
          [
           "user experience design manager",
           "brigham young university"
          ],
          [
           "head of global strategy and digital partnerships, android enterprise",
           "syracuse university"
          ],
          [
           "technical sourcer",
           "de anza college"
          ],
          [
           "engineering manager",
           "nagarjuna university"
          ],
          [
           "user experience researcher",
           "monroe community college"
          ],
          [
           "global product lead manager, acquisitions tooling and infrastructure",
           "brigham young university"
          ],
          [
           "senior director software engineering",
           "university of california, los angeles"
          ],
          [
           "sales strategy and operations manager",
           "university of california, davis"
          ],
          [
           "product marketing manager special projects, devices and services marketing",
           "university of northern colorado"
          ],
          [
           "global leader of google's veterans network",
           "ucla anderson school of management"
          ],
          [
           "financial analyst",
           "creighton university"
          ],
          [
           "youtube",
           "qalam wa lawh center for arabic studies, rabat, morocco"
          ],
          [
           "group product manager",
           "the university of salford"
          ],
          [
           "director, user experience",
           "university of illinois at urbana - champaign"
          ],
          [
           "senior software engineer",
           "drexel university"
          ],
          [
           "product manager",
           "carnegie mellon university"
          ],
          [
           "account strategist | google customer solutions",
           "miami university"
          ],
          [
           "senior user experience designer",
           "university of minnesota"
          ],
          [
           "program manager, hiring infrastructure",
           "uc san diego"
          ],
          [
           "head of industry, apps",
           "michigan state university"
          ],
          [
           "software engineer",
           "georgetown university"
          ],
          [
           "real estate partnerships lead",
           "morgan state university"
          ],
          [
           "senior software engineer",
           "university of pennsylvania"
          ],
          [
           "senior counsel",
           "university of pennsylvania"
          ],
          [
           "head of sales and partnerships, bay area, google cloud",
           "university of california, davis"
          ],
          [
           "product manager - derived analytics at google terra bella",
           "stanford university"
          ],
          [
           "product manager",
           "harvard university"
          ],
          [
           "product manager",
           "copenhagen business school"
          ],
          [
           "senior technical solutions consultant",
           "university of miami herbert business school"
          ],
          [
           "senior software engineer",
           "oberlin college"
          ],
          [
           "senior partner lead",
           "university of illinois at urbana - champaign"
          ],
          [
           "program manager, devices and services",
           "georgetown university"
          ],
          [
           "product manager for pro tools le and hd hardware at digidesign and avid - co- founder",
           "stanford university"
          ],
          [
           "program mergers and acquisitions support, google cloud",
           "university of mumbai"
          ],
          [
           "senior software engineer",
           "massachusetts institute of technology"
          ],
          [
           "senior software engineer",
           "university of california, berkeley"
          ],
          [
           "senior software engineer",
           "university of maryland"
          ],
          [
           "sales enablement lead, cloud solutions",
           "santa clara university"
          ],
          [
           "program manager, insights and innovation, partner solutions",
           "stanford university"
          ],
          [
           "senior user experience motion designer",
           "brigham young university"
          ],
          [
           "supportability tech lead",
           "green mountain college"
          ],
          [
           "director of user experience for chrome",
           "stanford university"
          ],
          [
           "mobile engineering manager",
           "university of waterloo"
          ],
          [
           "senior engineering manager",
           "caltech"
          ],
          [
           "people operations advisory",
           "university of california, berkeley"
          ],
          [
           "software engineer",
           "northwestern university"
          ],
          [
           "head of design operations, fitbit at google",
           "valparaiso university"
          ],
          [
           "integrity program manager",
           "indiana university bloomington"
          ],
          [
           "senior software engineer",
           "university of california, berkeley"
          ],
          [
           "art director",
           "san jose state university"
          ],
          [
           "senior staff software engineer",
           "university of michigan"
          ],
          [
           "test engineer",
           "rose - hulman institute of technology"
          ],
          [
           "finance transformation",
           "case western reserve university"
          ],
          [
           "shopping sales specialist",
           "nyu stern school of business"
          ],
          [
           "global business lead",
           "penn state university"
          ],
          [
           "product",
           "brown university"
          ],
          [
           "isv sales specialist, google cloud",
           "georgetown university"
          ],
          [
           "tech lead manager, discover",
           "indian institute of technology, bombay"
          ],
          [
           "director of product management",
           "harvard university"
          ],
          [
           "software engineer",
           "university of illinois at urbana - champaign"
          ],
          [
           "campus security supervisor",
           "west valley college"
          ],
          [
           "recruiting manager",
           "san jose state university"
          ],
          [
           "technical solutions consultant",
           "yale university"
          ],
          [
           "key account director - health care and life sciences",
           "insead"
          ],
          [
           "publishers",
           "plymouth state university"
          ],
          [
           "vice president, global ads",
           "university of maryland"
          ],
          [
           "creative effectiveness lead",
           "nyu stern school of business"
          ],
          [
           "principal software engineer",
           "tomsk state university of control systems and radioelectronics"
          ],
          [
           "senior user experience design manager",
           "university of washington"
          ],
          [
           "strategy and special projects, office of the chief executive officer",
           "northwestern university"
          ],
          [
           "product management lead in cloud ai | retail search and recommendations | product discovery",
           "stanford university"
          ],
          [
           "enterprise sales manager - google cloud platform",
           "georgetown university"
          ],
          [
           "engineering manager and tech lead",
           "university of florida"
          ],
          [
           "product manager",
           "facultad de humanidades de la sede de mendoza de la uca"
          ],
          [
           "software engineer",
           "montana state university - bozeman"
          ],
          [
           "senior software engineer",
           "university of california, davis"
          ],
          [
           "product marketing manager, google lens",
           "university of michigan"
          ],
          [
           "senior software engineer",
           "vanderbilt university"
          ],
          [
           "technical solution engineering manager, google cloud",
           "the university of texas at austin"
          ],
          [
           "senior interaction designer",
           "san diego state university"
          ],
          [
           "technical writer",
           "boston university"
          ],
          [
           "content marketing lead, youtube kids",
           "university of cambridge"
          ],
          [
           "senior account manager",
           "oakland university"
          ],
          [
           "lead program manager, webpass | google fiber",
           "stanford university"
          ],
          [
           "head of infrastructure partnership team - google cloud",
           "university of california, berkeley"
          ],
          [
           "systems design lead",
           "university of north texas"
          ],
          [
           "site lead, identity infrastructure",
           "harvard - westlake school"
          ],
          [
           "communications manager, news",
           "university of oregon"
          ],
          [
           "interim digital marketing lead, sidewalk lab products",
           "university of california, berkeley"
          ],
          [
           "event manager and producer, events and experiences, marvel marketers",
           "colgate university"
          ],
          [
           "product manager",
           "university of pennsylvania"
          ],
          [
           "product manager, attribution",
           "the wharton school"
          ],
          [
           "technical program manager",
           "dartmouth college"
          ],
          [
           "technical program manager - core server platform",
           "international fine arts college"
          ],
          [
           "interaction designer",
           "city college of san francisco"
          ],
          [
           "staff software engineer",
           "virginia tech"
          ],
          [
           "sales operations systems manager",
           "universidad de california"
          ],
          [
           "industry director, apps",
           "whitman college"
          ],
          [
           "video ads solutions",
           "university of delaware"
          ],
          [
           "head of product - cloud language and vision ai",
           "university of pennsylvania"
          ],
          [
           "senior tech lead and software engineer",
           "cornell university"
          ],
          [
           "software engineering manager",
           "carnegie mellon university"
          ],
          [
           "business analysis program manager, privacy and security",
           "chapman university"
          ],
          [
           "executive business partner",
           "northwest university"
          ],
          [
           "senior director of engineering",
           "penn state university"
          ],
          [
           "program manager",
           "university of colorado boulder"
          ],
          [
           "user experience strategy and operations lead",
           "kenyon college"
          ],
          [
           "cloud consultant",
           "university of maryland - robert h. smith school of business"
          ],
          [
           "gaming and creator partnerships, youtube",
           "arcadia university"
          ],
          [
           "software engineer",
           "cornell university"
          ],
          [
           "engineering manager",
           "caltech"
          ],
          [
           "global lead, healthcare strategy and partnership solutions",
           "stanford university graduate school of business"
          ],
          [
           "engineering manager",
           "university of colorado boulder"
          ],
          [
           "platforms industry manager",
           "stanford university"
          ],
          [
           "team lead, text to speech",
           "trinity college - hartford"
          ],
          [
           "software engineer",
           "university of south carolina"
          ],
          [
           "product manager - chrome mobile",
           "ucla anderson school of management"
          ],
          [
           "director of product",
           "stanford university"
          ],
          [
           "security engineer",
           "uc irvine"
          ],
          [
           "ai principles ethics specialist",
           "harvard university"
          ],
          [
           "harvard business school",
           "university of southern california"
          ],
          [
           "manager, npi product quality engineering",
           "university of florida"
          ],
          [
           "senior ecommerce manager, customer solutions",
           "the university of texas at austin"
          ],
          [
           "senior visual designer",
           "corcoran college of art + design"
          ],
          [
           "director of product management, privacy and policy infrastructure",
           "university of washington"
          ],
          [
           "software engineer",
           "iowa state university"
          ],
          [
           "content group manager",
           "university of illinois at urbana - champaign"
          ],
          [
           "product lead",
           "university of virginia"
          ],
          [
           "software engineer",
           "uc santa barbara"
          ],
          [
           "senior interaction designer",
           "boston university"
          ],
          [
           "cloud program manager - data center transformation",
           "boston university"
          ],
          [
           "global head of telco partnerships, ai solutions and emerging technologies",
           "delhi college of engineering"
          ],
          [
           "sales manager, google customer solutions",
           "the university of tennessee at chattanooga"
          ],
          [
           "executive communications",
           "columbus state community college"
          ],
          [
           "senior software engineer",
           "rose - hulman institute of technology"
          ],
          [
           "strategic partnerships",
           "clemson university"
          ],
          [
           "system architect",
           "san jose state university"
          ],
          [
           "account executive - google cloud",
           "elon university"
          ],
          [
           "senior hardware engineer",
           "stanford university"
          ],
          [
           "front end software engineer",
           "keller graduate school of management of devry university"
          ],
          [
           "program manager",
           "university of california, berkeley"
          ],
          [
           "corporate communications",
           "washinton university in st. louis"
          ],
          [
           "software engineer",
           "stanford university"
          ],
          [
           "noogler",
           "harvey mudd college"
          ],
          [
           "product manager",
           "yale university"
          ],
          [
           "manager, google.org",
           "stanford university"
          ],
          [
           "interaction designer",
           "general assembly"
          ],
          [
           "analytical lead, waze",
           "the university of georgia"
          ],
          [
           "senior engineer",
           "vanderbilt university"
          ],
          [
           "global lead technology and service provider engineering, cloud security",
           "xavier high school"
          ],
          [
           "senior software engineer",
           "university of san francisco"
          ],
          [
           "software engineer",
           "tsinghua university"
          ],
          [
           "product manager",
           "dartmouth college"
          ],
          [
           "data scientist, americas smb acquisition marketing",
           "harvey mudd college"
          ],
          [
           "ios engineer",
           "bucknell university"
          ],
          [
           "business partner",
           "pomona college"
          ],
          [
           "senior manager",
           "georgia institute of technology"
          ],
          [
           "senior partner technology manager",
           "boston university academy"
          ],
          [
           "principal architect",
           "university of florida"
          ],
          [
           "googler",
           "university of denver"
          ],
          [
           "programs + events + social impact, google",
           "university of california, berkeley"
          ],
          [
           "head of engineering, youtube gaming",
           "worcester polytechnic institute"
          ],
          [
           "instructional designer, sales capabilities",
           "columbia university in the city of new york"
          ],
          [
           "customer engineer",
           "university of nebraska at omaha"
          ],
          [
           "program manager, job architecture",
           "santa cruz high school"
          ],
          [
           "senior product manager",
           "university of victoria"
          ],
          [
           "software engineer",
           "general assembly"
          ],
          [
           "director, doubleclick search",
           "yale university"
          ],
          [
           "group product manager",
           "clemson university"
          ],
          [
           "staff devrel engineer",
           "boston university"
          ],
          [
           "attorney",
           "university of california, berkeley"
          ],
          [
           "principal architect",
           "university of colorado boulder"
          ],
          [
           "creative technologist",
           "kent school"
          ],
          [
           "user experience lead, google lens",
           "full sail university"
          ],
          [
           "senior software engineer",
           "university of michigan"
          ],
          [
           "director people partners",
           "uc santa barbara"
          ],
          [
           "product management, google cloud platform",
           "department of technology, savitribai phule pune university"
          ],
          [
           "senior user experience program manager",
           "ucl"
          ],
          [
           "technical engineering recruiter",
           "san francisco state university"
          ],
          [
           "global small business marketing",
           "university of minnesota - carlson school of management"
          ],
          [
           "apac activation manager",
           "general assembly"
          ],
          [
           "software engineer",
           "yeshiva university"
          ],
          [
           "software engineer",
           "university of minnesota"
          ],
          [
           "corporate engineering manager",
           "san jose state university"
          ],
          [
           "global strategy and operations manager",
           "brown university"
          ],
          [
           "recruiting specialist",
           "university of california, los angeles"
          ],
          [
           "product management for google meet",
           "university of california, davis"
          ],
          [
           "senior staff hardware engineer",
           "stanford university"
          ],
          [
           "user experience engineer - finance",
           "georgetown university"
          ],
          [
           "director software engineering",
           "university of southampton"
          ],
          [
           "senior software engineer",
           "university of central florida"
          ],
          [
           "engineering leader",
           "doctor babasaheb ambedkar marathwada university"
          ],
          [
           "product manager",
           "ecole des hautes etudes commerciales"
          ],
          [
           "product policy lead, information quality",
           "stanford university"
          ],
          [
           "google gtm program manager, customer insights",
           "university of mary washington"
          ],
          [
           "swe",
           "carnegie mellon university"
          ],
          [
           "staff software engineer",
           "university of illinois at urbana - champaign"
          ],
          [
           "creative technologist",
           "minneapolis college of art and design"
          ],
          [
           "operations program manager",
           "santa clara university"
          ],
          [
           "senior google cloud platform program manager",
           "santa clara university"
          ],
          [
           "global business lead",
           "miami university"
          ],
          [
           "senior consultant",
           "university of notre dame"
          ],
          [
           "software engineer",
           "uc irvine"
          ],
          [
           "product manager",
           "university of california, los angeles"
          ],
          [
           "global process manager",
           "loyola university chicago"
          ],
          [
           "senior software engineer and manager",
           "cornell university"
          ],
          [
           "program manager",
           "barnard college"
          ],
          [
           "operations manager, trust and safety",
           "ie law school"
          ],
          [
           "food services program manager - americas",
           "university of california, berkeley"
          ],
          [
           "senior client lead",
           "universitat de barcelona"
          ],
          [
           "global head of job architecture strategy and operations",
           "st. stephen's college, delhi"
          ],
          [
           "software engineer",
           "the george washington university"
          ],
          [
           "user experience research manager",
           "carnegie mellon university"
          ],
          [
           "senior product manager, youtube commerce platform",
           "spelman college"
          ],
          [
           "senior operations manager",
           "university of florida"
          ],
          [
           "business controllership, play and platforms",
           "university of nevada, reno"
          ],
          [
           "visual designer",
           "uc san diego"
          ],
          [
           "senior software engineer",
           "new york university"
          ],
          [
           "software engineer",
           "dallas county community college"
          ],
          [
           "software engineer",
           "northeastern university"
          ],
          [
           "software engineer",
           "nanyang technological university"
          ],
          [
           "staff software engineer",
           "northeastern university"
          ],
          [
           "software engineer",
           "university of wisconsin - parkside"
          ],
          [
           "senior product support analyst",
           "de anza college"
          ],
          [
           "visual designer",
           "honolulu community college"
          ],
          [
           "senior software engineer",
           "university of minnesota"
          ],
          [
           "product manager",
           "cornell university"
          ],
          [
           "director of engineering, google drive",
           "university of california, los angeles"
          ],
          [
           "program manager",
           "babson college"
          ],
          [
           "technical program manager",
           "oklahoma state university"
          ],
          [
           "business development and partnerships",
           "babson college"
          ],
          [
           "enterprise sales engineering manager, looker",
           "university of virginia"
          ],
          [
           "senior software engineer",
           "university of california, los angeles"
          ],
          [
           "head of category planning and projects",
           "marist college"
          ],
          [
           "director of engineering",
           "missouri university of science and technology"
          ],
          [
           "staff business systems analyst",
           "hastings college"
          ],
          [
           "global creative, unskippable labs",
           "ohio wesleyan university"
          ],
          [
           "software engineer",
           "california state university, northridge"
          ],
          [
           "program manager",
           "university of pittsburgh"
          ],
          [
           "senior software engineer",
           "texas state university"
          ],
          [
           "head of global product partnerships, google images and google lens",
           "syracuse university"
          ],
          [
           "software engineer",
           "university of bristol law school"
          ],
          [
           "trade compliance manager",
           "clemson university"
          ],
          [
           "senior analyst - exchange media",
           "university of california, los angeles"
          ],
          [
           "senior developer relations engineer, ethical ai, google research",
           "uc irvine"
          ],
          [
           "senior account executive",
           "new york university"
          ],
          [
           "key account executive, google cloud",
           "vanderbilt university"
          ],
          [
           "administrative business partner",
           "san francisco state university"
          ],
          [
           "u.s. multicultural performance lead",
           "calvin university"
          ],
          [
           "human resources business partner - marketing",
           "penn state university"
          ],
          [
           "senior research scientist",
           "brown university"
          ],
          [
           "senior manager, user support operations",
           "university of california, berkeley"
          ],
          [
           "onboarding program manager",
           "cornell university"
          ],
          [
           "...",
           "stanford university"
          ],
          [
           "senior software engineer",
           "university of california, davis"
          ],
          [
           "head of user experience strategy and operations",
           "stanford university"
          ],
          [
           "technical program manager",
           "miami university"
          ],
          [
           "user experience",
           "california college of the arts"
          ],
          [
           "principal designer - google fi",
           "san francisco state university"
          ],
          [
           "account executive - google cloud",
           "rutgers university"
          ],
          [
           "user experience research lead, commerce",
           "university of san francisco"
          ],
          [
           "program manager, customer support applications",
           "lehigh university"
          ],
          [
           "software engineering manager",
           "pomona college"
          ],
          [
           "software engineer",
           "university of illinois at urbana - champaign"
          ],
          [
           "senior user experience designer",
           "seoul national university"
          ],
          [
           "senior interaction designer",
           "depaul university"
          ],
          [
           "product marketing",
           "duke university"
          ],
          [
           "program manager",
           "drexel university"
          ],
          [
           "product manager",
           "villanova university"
          ],
          [
           "antenna design manager",
           "washington state university"
          ],
          [
           "senior sales engineer, alliances, looker",
           "mercersburg academy"
          ],
          [
           "senior staff software engineer",
           "saint petersburg state electrotechnical university \"leti\"​"
          ],
          [
           "product manager",
           "massachusetts institute of technology"
          ],
          [
           "design lead",
           "syracuse university"
          ],
          [
           "android and play product legal director",
           "arizona state university"
          ],
          [
           "director of product management",
           "rensselaer polytechnic institute"
          ],
          [
           "site reliability engineering manager",
           "uc santa barbara"
          ],
          [
           "program manager, google cloud",
           "azusa pacific university"
          ],
          [
           "product manager",
           "university of chicago"
          ],
          [
           "senior manager, sales program lead",
           "uc irvine"
          ],
          [
           "product manager",
           "brigham young university"
          ],
          [
           "senior finance project manager",
           "miami university"
          ],
          [
           "engineering manager",
           "north carolina state university"
          ],
          [
           "strategy and operations, google payments",
           "indian school muscat"
          ],
          [
           "global partner technical enablement manager",
           "biola university"
          ],
          [
           "technical program manager",
           "san jose state university"
          ],
          [
           "product marketing manager",
           "middlebury college"
          ],
          [
           "partners and channels",
           "harvard university"
          ],
          [
           "software engineer",
           "devry university"
          ],
          [
           "policy specialist iii",
           "university of california, berkeley"
          ],
          [
           "program manager - engineering compliance",
           "the university of georgia"
          ],
          [
           "operations analyst",
           "brown university"
          ],
          [
           "design lead ambient computing",
           "university of california, berkeley"
          ],
          [
           "strategic cloud engineer",
           "the johns hopkins university"
          ],
          [
           "sales programs manager",
           "grossmont college"
          ],
          [
           "strategic capacity planning program manager",
           "rensselaer polytechnic institute"
          ],
          [
           "research scientist",
           "carnegie mellon university"
          ],
          [
           "senior interaction designer",
           "s.i. newhouse school of public communications at syracuse university"
          ],
          [
           null,
           "columbia | sipa"
          ],
          [
           "design",
           "san francisco state university"
          ],
          [
           "staff software engineer",
           "unsw"
          ],
          [
           "technical writer",
           "university of california, berkeley"
          ],
          [
           "product manager, project stream",
           "university of california, santa cruz"
          ],
          [
           "head of google search and assistant distribution, partnerships bd",
           "the wharton school"
          ],
          [
           "senior software engineer",
           "university of southern california"
          ],
          [
           "chief of staff, google cloud healthcare",
           "university of michigan"
          ],
          [
           "senior software engineer and tech lead",
           "university of illinois at urbana - champaign"
          ],
          [
           "director, business development",
           "the wharton school"
          ],
          [
           "industry director, consumer electronics",
           "san jose state university"
          ],
          [
           "npi operations program manager",
           "university of california, berkeley"
          ],
          [
           "product manager for google cloud",
           "lycée privé de marcq"
          ],
          [
           "staff software engineer",
           "stanford university"
          ],
          [
           "senior software engineer",
           "harvard university"
          ],
          [
           "google cloud, commercial deal management",
           "santa clara university"
          ],
          [
           "senior staff user experience engineer",
           "university of phoenix"
          ],
          [
           "brand marketing and communications manager, the google school for leaders",
           "university of iowa"
          ],
          [
           "staff software engineer",
           "rensselaer polytechnic institute"
          ],
          [
           "staff software engineer",
           "brown university"
          ],
          [
           "senior site reliability engineer",
           "irvine valley college"
          ],
          [
           "head of customer engineering",
           "california state university, long beach"
          ],
          [
           "senior software test engineer",
           "rensselaer polytechnic institute"
          ],
          [
           "global head of business development, google one",
           "university of michigan - stephen m. ross school of business"
          ],
          [
           "software engineer",
           "university of wyoming"
          ],
          [
           "program manager",
           "university of illinois at urbana - champaign"
          ],
          [
           "technical director of ai, google cloud, office of the chief technology officer",
           "university of illinois at urbana - champaign"
          ],
          [
           "director, user experience: office of the chief executive officer",
           "the university of kansas"
          ],
          [
           "product manager",
           "brown university"
          ],
          [
           "partner marketing | google fi",
           "parsons school of design - the new school"
          ],
          [
           "manager, google cloud product support, looker",
           "university of california, santa cruz"
          ],
          [
           "head of community engagement, grow with google",
           "central college"
          ],
          [
           "group product manager",
           "columbia university in the city of new york"
          ],
          [
           "human resources benefits manager",
           "texas state university"
          ],
          [
           "product marketing manager",
           "universitat pompeu fabra"
          ],
          [
           "cloud engineering",
           "dayalbagh educational institute, agra"
          ],
          [
           "software engineer",
           "university of southern california"
          ],
          [
           "datacenter technician",
           "university of tennessee at martin"
          ],
          [
           "product management and consumer strategy",
           "massachusetts institute of technology"
          ],
          [
           "group product manager",
           "university of maryland"
          ],
          [
           "global tax technology",
           "depaul university"
          ],
          [
           "director of product management",
           "massachusetts institute of technology"
          ],
          [
           "product manager",
           "carnegie mellon university"
          ],
          [
           "senior staff software engineer",
           "carnegie mellon university"
          ],
          [
           "senior user experience engineer for google assistant",
           "uc santa barbara"
          ],
          [
           "partner engineer, google assistant",
           "anacortes high school"
          ],
          [
           "vice president, google and president of google.org",
           "harvard university"
          ],
          [
           "group product manager",
           "harvard university"
          ],
          [
           "senior software development engineer",
           "university of michigan"
          ],
          [
           "software engineer",
           "university of calgary"
          ],
          [
           "product and business strategy, office of the chief executive officer",
           "university of california, los angeles"
          ],
          [
           "senior product technology manager",
           "university of california, los angeles"
          ],
          [
           "product strategy",
           "massachusetts institute of technology"
          ],
          [
           "critical incident manager",
           "university of phoenix"
          ],
          [
           "global business operations and strategy lead, youtube spaces",
           "new york university"
          ],
          [
           "senior staff interaction designer",
           "university of california, los angeles"
          ],
          [
           "senior director of software engineering",
           "harvard university"
          ],
          [
           "software",
           "rensselaer polytechnic institute"
          ],
          [
           "senior product designer",
           "university of wisconsin - stout"
          ],
          [
           "senior software engineer",
           "uc irvine"
          ],
          [
           "senior software engineer",
           "rensselaer polytechnic institute"
          ],
          [
           "senior software engineer",
           "duke university"
          ],
          [
           "program manager, google assistant",
           "university of connecticut"
          ],
          [
           "customer engineer, google cloud",
           "otto - friedrich - universität bamberg"
          ],
          [
           "lead technical recruiter - chief of staff and product operations and strategy",
           "william & mary"
          ],
          [
           "strategic account executive",
           "the university of alabama in huntsville"
          ],
          [
           "lead product analyst",
           "yale university"
          ],
          [
           "partnerships, stadia games and entertainment @ google",
           "ucla anderson school of management"
          ],
          [
           "principal architect",
           "university of dayton"
          ],
          [
           "senior software engineer",
           "university of pennsylvania"
          ],
          [
           "product management",
           "university of california, los angeles"
          ],
          [
           "partner engineer, google cloud",
           "florida state university"
          ],
          [
           "managing director",
           "university of north carolina at chapel hill"
          ],
          [
           "creative editor",
           "stanford university"
          ],
          [
           "human resources program manager",
           "relay graduate school of education"
          ],
          [
           "engineering manager",
           "cornell university"
          ],
          [
           "staffing manager",
           "null"
          ],
          [
           "program and portfolio manager - google discover",
           "university of california, san diego - rady school of management"
          ],
          [
           "technical program manager-sre",
           "null"
          ],
          [
           "global account lead, coca-cola",
           "vanderbilt university"
          ],
          [
           "authorable workflow program manager",
           "university at albany, suny"
          ],
          [
           "engineering manager",
           "stanford university"
          ],
          [
           "senior interaction designer",
           "fashion institute of technology"
          ],
          [
           "growing the partner universe @ google",
           "indiana university - kelley school of business"
          ],
          [
           "technical program manager",
           "stevens institute of technology"
          ],
          [
           "chrome enterprise customer engineer",
           "purdue university"
          ],
          [
           "head of customer solutions engineering",
           "stanford university"
          ],
          [
           "staff software engineer",
           "the university of texas at austin"
          ],
          [
           "technical lead",
           "california polytechnic state university - san luis obispo"
          ]
         ],
         "hovertemplate": "lat=%{lat}<br>lon=%{lon}<br>job_title=%{customdata[0]}<br>school=%{customdata[1]}<extra></extra>",
         "lat": [
          37.77,
          37.57,
          37.33,
          37.8,
          37.33,
          42.88,
          40.78,
          37.33,
          40.71,
          37.88,
          37.38,
          37.54,
          37.35,
          42.33,
          37.77,
          34.18,
          37.77,
          37.87,
          37.77,
          37.44,
          37.48,
          37.77,
          40.74,
          37.77,
          37.77,
          37.38,
          37.77,
          37.77,
          37.44,
          37.77,
          37.36,
          47.6,
          37.77,
          41.91,
          26.01,
          37.8,
          37.36,
          37.77,
          37.54,
          36.51,
          37.5,
          37.54,
          30.26,
          37.33,
          37.77,
          37.77,
          37.36,
          37.48,
          42.38,
          37.33,
          37.38,
          37.5,
          47.6,
          37.8,
          37.77,
          37.36,
          37.77,
          37.22,
          37.77,
          34.01,
          37.87,
          37.56,
          37.77,
          38.89,
          37.77,
          37.36,
          40.65,
          37.5,
          34.05,
          40.71,
          37.42,
          39.73,
          30.26,
          41.82,
          37.77,
          40.65,
          37.36,
          41.33,
          34.07,
          37.33,
          37.66,
          37.77,
          33.88,
          34.05,
          41.92,
          37.35,
          37.87,
          37.85,
          37.77,
          37.38,
          37.48,
          34.39,
          37.26,
          37.38,
          45.67,
          37.38,
          37.38,
          39.73,
          40.71,
          37.55,
          40.65,
          37.38,
          40.71,
          37.77,
          32.99,
          37.77,
          37.93,
          30.5,
          37.77,
          37.22,
          37.8,
          40.85,
          37.77,
          37.33,
          37.8,
          39.08,
          40.65,
          37.45,
          47.6,
          38.25,
          37.77,
          34.05,
          40.71,
          42.97,
          37.36,
          29.99,
          41.85,
          32.78,
          37.66,
          37.77,
          34.16,
          37.87,
          37.44,
          38.23,
          37.38,
          42.25,
          37.45,
          33.55,
          37.77,
          34.01,
          37.77,
          37.38,
          37.44,
          37.33,
          37.36,
          34.01,
          41.03,
          38.89,
          37.38,
          37.77,
          37.48,
          37.48,
          37.38,
          37.35,
          44.93,
          37.26,
          30.26,
          40.71,
          40.71,
          37.36,
          37.77,
          37.45,
          37.32,
          37.48,
          39.32,
          40.68,
          39.78,
          33.74,
          37.77,
          37.13,
          37.77,
          40.74,
          36.97,
          37.45,
          33.61,
          42.37,
          37.77,
          30.26,
          34.21,
          37.44,
          37.77,
          37.77,
          37.38,
          37.77,
          33.46,
          37.77,
          37.48,
          37.44,
          40.01,
          37.5,
          37.77,
          37.77,
          37.36,
          37.77,
          40.71,
          35.92,
          37.77,
          37.77,
          37.77,
          42.33,
          37.77,
          40.63,
          40.71,
          38.41,
          37.33,
          37.8,
          40.65,
          37.77,
          37.77,
          30.26,
          33.77,
          37.77,
          37.38,
          42.45,
          37.8,
          37.77,
          37.5,
          47.57,
          37.92,
          37.77,
          40.65,
          37.77,
          37.77,
          40.65,
          37.26,
          37.8,
          33.61,
          41.85,
          37.77,
          40.71,
          37.56,
          33.74,
          37.33,
          37.87,
          40.16,
          37.33,
          37.35,
          37.59,
          43.1,
          40.65,
          37.8,
          37.77,
          37.8,
          37.77,
          37.77,
          37.8,
          37.8,
          39.73,
          36.97,
          34.5,
          40.71,
          37.8,
          47.6,
          37.55,
          39.95,
          37.33,
          37.77,
          40.71,
          37.77,
          37.33,
          37.77,
          47.57,
          37.45,
          34.07,
          37.5,
          37.77,
          37.87,
          28.93,
          41.11,
          34.05,
          40.94,
          37.45,
          40.74,
          37.33,
          37.35,
          42.41,
          33.74,
          40.71,
          40.71,
          40.74,
          37.77,
          37.45,
          40.66,
          37.77,
          37.77,
          37.33,
          37.33,
          37.54,
          41.76,
          37.77,
          37.77,
          37.48,
          37.77,
          37.33,
          37.38,
          37.77,
          37.38,
          37.26,
          37.55,
          37.35,
          37.38,
          40.05,
          21.3,
          40.65,
          39.7,
          40.71,
          37.33,
          37.87,
          37.52,
          40.01,
          37.76,
          37.54,
          37.9,
          40.65,
          37.35,
          37.26,
          37.38,
          37.56,
          37.77,
          37.87,
          37.56,
          37.45,
          37.7,
          37.77,
          30.26,
          37.26,
          34.18,
          37.45,
          37.91,
          37.36,
          45.52,
          38,
          37.56,
          40.05,
          37.54,
          37.38,
          37.52,
          37.36,
          30.08,
          37.77,
          42.11,
          33.74,
          37.93,
          34.05,
          47.68,
          37.58,
          37.45,
          37.77,
          37.45,
          42.27,
          37.26,
          37.77,
          40.01,
          37.33,
          36.97,
          37.33,
          40.94,
          33.98,
          37.26,
          42.32,
          37.77,
          37.26,
          37.13,
          40.76,
          37.45,
          37.44,
          37.48,
          37.77,
          37.77,
          37.44,
          37.38,
          47.67,
          37.52,
          34.43,
          37.77,
          37.77,
          37.32,
          40.71,
          33.76,
          37.33,
          37.77,
          37.38,
          40.71,
          42.25,
          41.38,
          40.71,
          37.77,
          37.33,
          37.38,
          37.77,
          41.07,
          34.09,
          40.74,
          40.01,
          36.74,
          37.8,
          37.55,
          40.16,
          37.77,
          33.77,
          39.83,
          37.36,
          47.6,
          40.65,
          37.77,
          37.33,
          37.36,
          37.9,
          47.61,
          34.2,
          42.35,
          34.05,
          41.08,
          37.77,
          37.77,
          40.65,
          36.97,
          21.4,
          41.85,
          37.8,
          37.77,
          37.77,
          40.77,
          40.65,
          37.54,
          37.54,
          37.77,
          37.77,
          38.1,
          37.56,
          37.33,
          42.85,
          37.38,
          37.36,
          33.88,
          39.95,
          39.72,
          37.7,
          47.61,
          37.8,
          37.56,
          34.02,
          40.65,
          35.22,
          42.44,
          47.64,
          37.77,
          40.65,
          37.5,
          37.77,
          40.97,
          37.77,
          32.71,
          37.54,
          40.71,
          37.45,
          37.56,
          39.95,
          37.77,
          30.26,
          37.77,
          42.33,
          37.45,
          40.65,
          37.22,
          39.52,
          37.63,
          37.33,
          37.8,
          33.95,
          34.05,
          37.44,
          37.66,
          40.65,
          40.65,
          37.33,
          37.44,
          37.5,
          37.8,
          37.77,
          37.38,
          40.71,
          38.89,
          37.45,
          37.33,
          30.26,
          37.66,
          37.77,
          37.38,
          37.22,
          34.18,
          34.2,
          37.33,
          35.92,
          41.85,
          37.35,
          37.77,
          37.76,
          37.77,
          37.48,
          40.77,
          47.6,
          37.33,
          37.38,
          34.42,
          40.71,
          37.77,
          37.5,
          40.65,
          37.82,
          37.77,
          38.89,
          37,
          37.32,
          37.42,
          37.38,
          37.87,
          37.77,
          34.2,
          39.97,
          45.52,
          33.66,
          40.71,
          38.57,
          37.77,
          30.43,
          37.26,
          37.48,
          37.36,
          37.36,
          37.36,
          37.77,
          41.62,
          37.13,
          37.8,
          37.32,
          37.77,
          40.71,
          37.77,
          37.66,
          37.38,
          47.76,
          37.77,
          37.77,
          38.25,
          37.87,
          42.67,
          33.52,
          37.77,
          37.33,
          47.6,
          40.71,
          28.66,
          37.77,
          37.66,
          37.33,
          37.77,
          41.78,
          34.05,
          34.86,
          42.38,
          33.66,
          37.38,
          44.98,
          37.77,
          33.57,
          42.25,
          37.5,
          37.68,
          42.04,
          37.77,
          37.77,
          37.44,
          37.44,
          37.77,
          37.13,
          37.52,
          37.77,
          37.8,
          37.77,
          37.38,
          37.48,
          37.77,
          37.32,
          37.77,
          40.65,
          37.77,
          38.98,
          40.71,
          43.41,
          37.61,
          37.5,
          37.22,
          37.87,
          42.28,
          40.65,
          37.08,
          40.44,
          37.36,
          37.38,
          36.97,
          37.77,
          37.33,
          33.42,
          37.77,
          38.88,
          37.26,
          37.77,
          37.48,
          37.38,
          37.77,
          33.97,
          37.44,
          37.48,
          37.77,
          37.77,
          42.27,
          42.38,
          40.71,
          40.93,
          47.6,
          37.77,
          41.85,
          40.71,
          33.74,
          40.71,
          37.77,
          37.33,
          41.12,
          37.32,
          37.77,
          41.85,
          40.71,
          41.85,
          37.87,
          37.77,
          37.7,
          40.71,
          37.38,
          37.77,
          37.33,
          37.52,
          37.44,
          42.35,
          37.77,
          37.77,
          40.65,
          37.63,
          47.6,
          37.77,
          37.33,
          33.66,
          36.97,
          37.33,
          37.77,
          37.36,
          40.65,
          37.77,
          37.77,
          40.71,
          34.02,
          40.71,
          37.33,
          37.33,
          37.48,
          37.38,
          41.43,
          38.62,
          39.29,
          37.77,
          37.38,
          37.77,
          40.71,
          37.44,
          37.97,
          40.77,
          37.77,
          37.36,
          37.77,
          37.77,
          37.77,
          30.43,
          37.77,
          37.77,
          41.15,
          42.48,
          37.45,
          37.52,
          45.44,
          37.87,
          37.8,
          40.65,
          40.91,
          37.66,
          36.97,
          37.38,
          37.77,
          37.8,
          37.35,
          36.97,
          37.8,
          40.71,
          37.91,
          40.72,
          37.32,
          37.77,
          37.8,
          37.46,
          37.77,
          37.87,
          38.98,
          40.71,
          37.56,
          37.8,
          37.77,
          40.01,
          27.49,
          40.66,
          37.38,
          37.56,
          37.45,
          37.33,
          37.33,
          33.94,
          33.87,
          40.71,
          38.89,
          47.6,
          37.93,
          36.17,
          37.76,
          37.94,
          37.77,
          40.65,
          37.45,
          37.48,
          39.88,
          40.65,
          37.97,
          37.33,
          34.23,
          37.5,
          33.64,
          37.36,
          37.77,
          37.38,
          40.93,
          40.65,
          36.5,
          32.94,
          36.81,
          37.32,
          40.74,
          37.55,
          37.55,
          43.03,
          37.77,
          37.77,
          34.05,
          37.38,
          37.77,
          37.77,
          37.36,
          37.77,
          37.8,
          37.44,
          41.26,
          37.77,
          37.77,
          37.77,
          37.37,
          37.77,
          37.92,
          37.77,
          37.82,
          40.71,
          37.44,
          37.77,
          37.22,
          37.36,
          47.64,
          37.66,
          37.77,
          39.73,
          40.71,
          47.6,
          37.58,
          42.37,
          37.33,
          37.66,
          37.44,
          37.77,
          37.38,
          47.6,
          47.76,
          37.36,
          37.37,
          38.89,
          40.71,
          34.05,
          40.65,
          37.33,
          37.33,
          38.75,
          36.97,
          33.78,
          37.56,
          41.85,
          47.6,
          40.65,
          37.33,
          40.71,
          40.71,
          37.28,
          40.71,
          37.48,
          41.85,
          37.36,
          37.68,
          40.71,
          40.72,
          37.32,
          40.65,
          47.68,
          42.35,
          37.8,
          37.33,
          37.63,
          37.77,
          37.48,
          34.05,
          39.76,
          40.31,
          34.05,
          40.65,
          37.59,
          37.77,
          37.33,
          37.7,
          42.61,
          46.87,
          40.44,
          40.65,
          40.71,
          34.01,
          37.77,
          40.65,
          37.77,
          40.65,
          37.5,
          37.77,
          40.71,
          37.45,
          37.28,
          37.59,
          37.77,
          37.44,
          37.36,
          37.38,
          37.33,
          44.38,
          37.8,
          38.98,
          37.77,
          41.15,
          37.36,
          37.33,
          37.33,
          37.36,
          37.77,
          37.77,
          27.77,
          37.36,
          37.38,
          37.44,
          37.77,
          40.83,
          37.33,
          37.33,
          34.14,
          34.1,
          47.6,
          37.33,
          37.32,
          43.23,
          37.48,
          37.77,
          30.26,
          37.65,
          37.77,
          37.77,
          39.83,
          37.8,
          40.71,
          38.99,
          37.77,
          38.88,
          36.97,
          37.33,
          47.6,
          40.74,
          37.8,
          37.32,
          37.87,
          37.76,
          37.05,
          37.38,
          37.54,
          33.88,
          34.26,
          37.44,
          37.54,
          37.77,
          37.52,
          42.37,
          37.77,
          37.36,
          39.99,
          37.77,
          40.78,
          42.37,
          33.78,
          33.64,
          42.41,
          40.71,
          30.43,
          40.11,
          37.38,
          37.38,
          37.44,
          37.77,
          36.97,
          37.36,
          40.71,
          37.35,
          37.77,
          42.35,
          37.35,
          36.43,
          42.33,
          40.71,
          41.99,
          37.44,
          37.55,
          37.38,
          37.68,
          37.9,
          37.87,
          37.38,
          37.38,
          40.85,
          37.45,
          33.46,
          42.38,
          32.6,
          34.01,
          37.36,
          42.33,
          42.42,
          37.8,
          33.6,
          40.82,
          47.6,
          37.38,
          40.71,
          38.8,
          34.12,
          37.77,
          34.15,
          37.83,
          40.71,
          37.54,
          33.74,
          38.98,
          37.28,
          37.77,
          37.65,
          37.33,
          37.7,
          37.32,
          33.74,
          39.67,
          37.42,
          47.6,
          34.05,
          40.65,
          42.34,
          37.38,
          37.77,
          37.45
         ],
         "lon": [
          -122.41,
          -122.37,
          -121.89,
          -122.26,
          -121.89,
          -78.87,
          -74.05,
          -121.89,
          -74,
          -122.29,
          -122.08,
          -122.51,
          -121.95,
          -83.88,
          -122.41,
          -118.13,
          -122.41,
          -122.17,
          -122.41,
          -122.14,
          -122.23,
          -122.41,
          -74.03,
          -122.41,
          -122.41,
          -122.08,
          -122.41,
          -122.41,
          -122.14,
          -122.41,
          -122.03,
          -122.33,
          -122.41,
          -88.13,
          -80.14,
          -122.26,
          -122.03,
          -122.41,
          -121.98,
          -119.55,
          -122.25,
          -121.98,
          -97.74,
          -121.89,
          -122.41,
          -122.41,
          -122.03,
          -122.23,
          -71.42,
          -121.89,
          -122.08,
          -122.25,
          -122.33,
          -122.26,
          -122.41,
          -122.03,
          -122.41,
          -121.97,
          -122.41,
          -118.49,
          -122.27,
          -122.32,
          -122.41,
          -77.03,
          -122.41,
          -122.03,
          -73.95,
          -122.25,
          -118.24,
          -74,
          -121.9,
          -104.98,
          -97.74,
          -71.41,
          -122.41,
          -73.95,
          -122.03,
          -73.2,
          -84.29,
          -121.89,
          -122.07,
          -122.41,
          -84.51,
          -118.24,
          -73.89,
          -121.95,
          -122.17,
          -122.48,
          -122.41,
          -122.11,
          -122.23,
          -118.54,
          -122.02,
          -122.08,
          -111.03,
          -122.11,
          -122.08,
          -104.98,
          -74,
          -122.27,
          -73.95,
          -122.08,
          -74,
          -122.41,
          -117.27,
          -122.41,
          -122.34,
          -97.82,
          -122.41,
          -121.97,
          -122.26,
          -73.86,
          -122.41,
          -121.89,
          -122.26,
          -76.7,
          -73.95,
          -122.18,
          -122.33,
          -85.75,
          -121.97,
          -118.24,
          -74,
          -88.1,
          -122.03,
          -95.26,
          -87.65,
          -96.8,
          -122.07,
          -122.41,
          -118.6,
          -122.27,
          -122.14,
          -122.63,
          -122.08,
          -71,
          -122.18,
          -117.21,
          -122.41,
          -118.49,
          -122.41,
          -122.08,
          -122.14,
          -121.89,
          -122.03,
          -118.49,
          -73.6,
          -121.07,
          -122.08,
          -122.41,
          -122.23,
          -122.23,
          -122.08,
          -121.95,
          -95.18,
          -122.02,
          -97.74,
          -74,
          -74,
          -122.03,
          -122.41,
          -122.18,
          -122.03,
          -122.23,
          -120.18,
          -80.1,
          -75.69,
          -84.38,
          -122.41,
          -121.65,
          -122.41,
          -74.03,
          -122.02,
          -122.18,
          -117.71,
          -71.1,
          -122.41,
          -97.74,
          -118.36,
          -122.14,
          -122.41,
          -122.41,
          -122.08,
          -122.41,
          -117.69,
          -122.41,
          -122.23,
          -122.14,
          -105.27,
          -122.25,
          -122.41,
          -122.41,
          -122.03,
          -122.41,
          -74,
          -86.86,
          -122.41,
          -122.41,
          -121.97,
          -83.88,
          -122.41,
          -73.6,
          -74,
          -121.27,
          -121.89,
          -122.26,
          -73.95,
          -122.41,
          -122.41,
          -97.74,
          -117.94,
          -122.41,
          -122.11,
          -71.14,
          -122.26,
          -122.41,
          -122.25,
          -122.22,
          -122.52,
          -122.41,
          -73.95,
          -122.41,
          -122.41,
          -73.95,
          -122.02,
          -122.26,
          -117.92,
          -87.65,
          -122.41,
          -74,
          -122.32,
          -84.38,
          -121.89,
          -122.17,
          -105.1,
          -121.89,
          -121.95,
          -121.88,
          -76.21,
          -73.95,
          -122.26,
          -122.41,
          -122.26,
          -122.41,
          -122.41,
          -122.26,
          -122.26,
          -104.98,
          -122.02,
          -96.96,
          -74,
          -122.26,
          -122.33,
          -122.27,
          -75.16,
          -121.89,
          -122.41,
          -74,
          -122.41,
          -121.89,
          -122.41,
          -122.22,
          -122.18,
          -84.29,
          -122.25,
          -122.41,
          -122.27,
          -81.94,
          -74.04,
          -118.24,
          -73.95,
          -122.18,
          -74.03,
          -121.89,
          -121.95,
          -71.16,
          -84.38,
          -74,
          -74,
          -73.94,
          -122.41,
          -122.18,
          -73.48,
          -122.41,
          -122.41,
          -121.89,
          -121.89,
          -121.98,
          -70.08,
          -122.41,
          -122.41,
          -122.23,
          -122.41,
          -121.89,
          -122.08,
          -122.41,
          -122.11,
          -122.02,
          -122.27,
          -121.95,
          -122.08,
          -105.04,
          -157.85,
          -73.95,
          -105.08,
          -74,
          -121.89,
          -122.45,
          -122.27,
          -105.27,
          -122.24,
          -121.98,
          -122.06,
          -73.95,
          -121.95,
          -122.02,
          -122.08,
          -122.32,
          -122.41,
          -122.27,
          -122.32,
          -122.18,
          -122.46,
          -122.41,
          -97.74,
          -122.02,
          -118.3,
          -122.18,
          -122.31,
          -122.03,
          -122.67,
          -121.8,
          -122.32,
          -105.04,
          -121.98,
          -122.11,
          -122.27,
          -122.03,
          -97.84,
          -122.41,
          -73.52,
          -117.82,
          -121.69,
          -118.24,
          -122.2,
          -122.36,
          -122.18,
          -122.41,
          -122.18,
          -83.74,
          -122.02,
          -122.41,
          -105.27,
          -121.89,
          -122.02,
          -121.89,
          -74.13,
          -118.45,
          -122.02,
          -71.22,
          -122.41,
          -122.02,
          -121.65,
          -111.89,
          -122.18,
          -122.14,
          -122.23,
          -122.41,
          -122.41,
          -122.14,
          -122.08,
          -122.12,
          -122.27,
          -119.82,
          -122.41,
          -122.41,
          -87.49,
          -74,
          -118.18,
          -121.89,
          -122.41,
          -122.11,
          -74,
          -71,
          -73.08,
          -74,
          -122.41,
          -121.89,
          -122.08,
          -122.41,
          -73.54,
          -118.36,
          -73.94,
          -105.27,
          -119.77,
          -122.26,
          -122.27,
          -105.1,
          -122.41,
          -84.29,
          -105.03,
          -122.03,
          -122.33,
          -73.95,
          -122.41,
          -121.89,
          -122.03,
          -122.06,
          -122.19,
          -84.14,
          -71.05,
          -118.24,
          -74.14,
          -122.41,
          -122.41,
          -73.95,
          -122.02,
          -157.73,
          -87.65,
          -122.26,
          -122.41,
          -122.41,
          -74.02,
          -73.95,
          -121.98,
          -121.98,
          -122.41,
          -122.41,
          -122.25,
          -122.32,
          -121.89,
          -73.88,
          -122.11,
          -122.03,
          -117.81,
          -75.16,
          -121.83,
          -121.93,
          -122.19,
          -122.26,
          -122.32,
          -118.39,
          -73.95,
          -80.84,
          -76.49,
          -122.07,
          -122.41,
          -73.95,
          -122.25,
          -122.41,
          -74.11,
          -122.41,
          -117.15,
          -121.98,
          -74,
          -122.18,
          -122.32,
          -75.16,
          -122.41,
          -97.74,
          -122.41,
          -71.12,
          -122.18,
          -73.95,
          -121.97,
          -119.81,
          -122.41,
          -121.89,
          -122.26,
          -84.54,
          -118.24,
          -122.14,
          -121.87,
          -73.95,
          -73.95,
          -121.89,
          -122.14,
          -122.25,
          -122.26,
          -122.41,
          -122.08,
          -74,
          -77.03,
          -122.18,
          -121.89,
          -97.74,
          -121.87,
          -122.41,
          -122.08,
          -121.97,
          -118.13,
          -118.53,
          -121.89,
          -86.86,
          -87.65,
          -121.95,
          -122.41,
          -122.24,
          -122.41,
          -122.23,
          -73.93,
          -122.33,
          -121.89,
          -122.08,
          -119.69,
          -74,
          -122.41,
          -122.25,
          -73.95,
          -121.99,
          -122.41,
          -77.08,
          -121.56,
          -122.03,
          -121.97,
          -122.08,
          -122.27,
          -122.41,
          -118.22,
          -105.13,
          -122.67,
          -117.82,
          -74,
          -81.99,
          -122.41,
          -97.62,
          -122.02,
          -122.23,
          -122.03,
          -122.03,
          -122.03,
          -122.41,
          -88.2,
          -121.65,
          -122.26,
          -122.03,
          -122.41,
          -74,
          -122.41,
          -121.87,
          -122.11,
          -122.2,
          -122.41,
          -122.41,
          -85.75,
          -122.27,
          -71.08,
          -86.8,
          -122.41,
          -121.89,
          -122.33,
          -74,
          -81.2,
          -122.41,
          -122.07,
          -121.89,
          -122.41,
          -88.14,
          -118.24,
          -85.83,
          -71.42,
          -117.82,
          -122.11,
          -93.26,
          -122.41,
          -117.63,
          -87.84,
          -122.25,
          -121.76,
          -87.69,
          -122.41,
          -122.41,
          -122.14,
          -122.14,
          -122.41,
          -121.65,
          -122.27,
          -122.41,
          -122.26,
          -122.41,
          -122.08,
          -122.23,
          -122.41,
          -122.03,
          -122.41,
          -73.95,
          -122.41,
          -77.1,
          -74,
          -93.53,
          -122.48,
          -122.25,
          -121.97,
          -122.17,
          -71.24,
          -73.95,
          -122.08,
          -79.99,
          -122.03,
          -122.23,
          -122.02,
          -122.41,
          -121.89,
          -117.61,
          -122.41,
          -77.3,
          -122.02,
          -122.41,
          -122.23,
          -122.11,
          -122.41,
          -118.42,
          -122.14,
          -122.23,
          -122.41,
          -122.41,
          -89.09,
          -71.1,
          -74,
          -73.83,
          -122.33,
          -122.41,
          -87.65,
          -74,
          -84.38,
          -74,
          -122.41,
          -121.89,
          -73.71,
          -122.03,
          -122.41,
          -87.65,
          -74,
          -87.65,
          -122.17,
          -122.41,
          -121.93,
          -74,
          -122.08,
          -122.41,
          -121.89,
          -122.27,
          -122.14,
          -71.35,
          -122.41,
          -122.41,
          -73.95,
          -122.41,
          -122.33,
          -122.41,
          -121.89,
          -117.82,
          -121.95,
          -121.89,
          -122.41,
          -122.03,
          -73.95,
          -122.41,
          -122.41,
          -74,
          -84.61,
          -74,
          -121.89,
          -121.89,
          -122.23,
          -122.08,
          -81.38,
          -90.19,
          -76.61,
          -122.41,
          -122.11,
          -122.41,
          -74,
          -122.14,
          -122.53,
          -73.93,
          -122.41,
          -122.03,
          -121.97,
          -122.41,
          -122.41,
          -97.62,
          -122.41,
          -122.41,
          -73.76,
          -83.14,
          -122.18,
          -122.27,
          -122.52,
          -122.17,
          -122.26,
          -73.95,
          -74.38,
          -121.87,
          -122.02,
          -122.08,
          -122.41,
          -122.26,
          -121.95,
          -122.02,
          -122.26,
          -74,
          -122.31,
          -74.07,
          -122.03,
          -122.41,
          -122.26,
          -122.42,
          -122.41,
          -122.27,
          -76.93,
          -74,
          -122.32,
          -122.26,
          -122.41,
          -105.27,
          -82.57,
          -73.55,
          -122.08,
          -122.32,
          -122.18,
          -121.89,
          -121.89,
          -118.08,
          -117.86,
          -74,
          -77.08,
          -122.33,
          -122.34,
          -115.13,
          -122.24,
          -121.93,
          -122.41,
          -73.95,
          -122.18,
          -122.23,
          -83.09,
          -73.95,
          -122.53,
          -121.89,
          -84.49,
          -122.25,
          -117.6,
          -122.03,
          -122.41,
          -122.08,
          -73.83,
          -73.95,
          -121.44,
          -96.72,
          -76.27,
          -122.03,
          -73.03,
          -122.27,
          -122.27,
          -87.9,
          -122.41,
          -122.41,
          -118.24,
          -122.08,
          -122.41,
          -122.41,
          -122.03,
          -122.41,
          -122.26,
          -122.14,
          -95.86,
          -122.41,
          -122.41,
          -122.41,
          -122.13,
          -122.41,
          -122.52,
          -122.41,
          -121.99,
          -74,
          -122.14,
          -122.41,
          -121.97,
          -122.03,
          -122.07,
          -122.07,
          -122.41,
          -104.98,
          -74,
          -122.33,
          -122.36,
          -83.47,
          -121.89,
          -121.87,
          -122.14,
          -122.41,
          -122.11,
          -122.33,
          -122.2,
          -122.03,
          -122.13,
          -77.03,
          -74,
          -118.24,
          -73.95,
          -121.89,
          -121.89,
          -121.28,
          -122.02,
          -117.85,
          -122.32,
          -87.65,
          -122.33,
          -73.95,
          -121.89,
          -74,
          -74,
          -121.94,
          -74,
          -122.23,
          -87.65,
          -122.03,
          -121.76,
          -74,
          -74.07,
          -122.03,
          -73.95,
          -122.2,
          -71.05,
          -122.26,
          -121.89,
          -122.41,
          -122.41,
          -122.23,
          -118.24,
          -86.15,
          -74.61,
          -118.24,
          -73.95,
          -122.01,
          -122.41,
          -121.89,
          -121.93,
          -70.66,
          -113.99,
          -79.99,
          -73.95,
          -74,
          -118.49,
          -122.41,
          -73.95,
          -122.41,
          -73.95,
          -122.25,
          -122.41,
          -74,
          -122.18,
          -121.94,
          -122.01,
          -122.41,
          -122.14,
          -122.03,
          -122.11,
          -121.89,
          -71.17,
          -122.26,
          -77.53,
          -122.41,
          -74.19,
          -122.03,
          -121.89,
          -121.89,
          -122.03,
          -122.41,
          -122.41,
          -82.67,
          -122.03,
          -122.08,
          -122.14,
          -122.41,
          -73.03,
          -121.89,
          -121.89,
          -118.14,
          -117.8,
          -122.33,
          -121.89,
          -122.03,
          -86.24,
          -122.23,
          -122.41,
          -97.74,
          -122.4,
          -122.41,
          -122.41,
          -105.03,
          -122.26,
          -74,
          -77.02,
          -122.41,
          -77.17,
          -121.95,
          -121.89,
          -122.33,
          -73.94,
          -122.26,
          -122.03,
          -122.17,
          -122.24,
          -122.01,
          -122.08,
          -121.98,
          -118.41,
          -118.78,
          -122.14,
          -121.98,
          -122.41,
          -122.27,
          -71.1,
          -122.41,
          -122.03,
          -105.08,
          -122.41,
          -74.05,
          -71.1,
          -117.85,
          -117.68,
          -71.15,
          -74,
          -97.62,
          -105.38,
          -122.11,
          -122.08,
          -122.14,
          -122.41,
          -121.89,
          -122.03,
          -74,
          -121.95,
          -122.41,
          -71.35,
          -121.95,
          -87.48,
          -71.2,
          -74,
          -88.14,
          -122.14,
          -122.27,
          -122.08,
          -122.39,
          -122.06,
          -122.17,
          -122.23,
          -122.08,
          -73.86,
          -122.18,
          -117.69,
          -71.42,
          -85.48,
          -118.49,
          -122.03,
          -71.12,
          -71.51,
          -122.26,
          -117.74,
          -72.73,
          -122.33,
          -122.11,
          -74,
          -77.32,
          -84,
          -122.41,
          -118.44,
          -122.12,
          -74,
          -121.98,
          -84.38,
          -77.1,
          -121.94,
          -122.41,
          -122.4,
          -121.89,
          -121.93,
          -122.03,
          -84.38,
          -76.09,
          -122.16,
          -122.33,
          -118.24,
          -73.95,
          -88.04,
          -122.08,
          -122.41,
          -122.18
         ],
         "name": "",
         "radius": 10,
         "subplot": "mapbox",
         "type": "densitymapbox"
        },
        {
         "colorscale": [
          [
           0,
           "rgb(255,245,240)"
          ],
          [
           0.125,
           "rgb(254,224,210)"
          ],
          [
           0.25,
           "rgb(252,187,161)"
          ],
          [
           0.375,
           "rgb(252,146,114)"
          ],
          [
           0.5,
           "rgb(251,106,74)"
          ],
          [
           0.625,
           "rgb(239,59,44)"
          ],
          [
           0.75,
           "rgb(203,24,29)"
          ],
          [
           0.875,
           "rgb(165,15,21)"
          ],
          [
           1,
           "rgb(103,0,13)"
          ]
         ],
         "hovertext": "company HQ",
         "lat": [
          37.38
         ],
         "lon": [
          -122.08
         ],
         "radius": 15,
         "type": "densitymapbox"
        }
       ],
       "layout": {
        "coloraxis": {
         "colorscale": [
          [
           0,
           "#440154"
          ],
          [
           0.1111111111111111,
           "#482878"
          ],
          [
           0.2222222222222222,
           "#3e4989"
          ],
          [
           0.3333333333333333,
           "#31688e"
          ],
          [
           0.4444444444444444,
           "#26828e"
          ],
          [
           0.5555555555555556,
           "#1f9e89"
          ],
          [
           0.6666666666666666,
           "#35b779"
          ],
          [
           0.7777777777777778,
           "#6ece58"
          ],
          [
           0.8888888888888888,
           "#b5de2b"
          ],
          [
           1,
           "#fde725"
          ]
         ]
        },
        "legend": {
         "tracegroupgap": 0
        },
        "mapbox": {
         "accesstoken": "pk.eyJ1IjoidHJhY3ljaGFybGVzMTA4IiwiYSI6ImNsMjJmdmUzajFmeXcza3BkOXgwOWZoNW4ifQ.bFv6klpNU8XWRbEJ0zk1Dw",
         "center": {
          "lat": 38.19527272727275,
          "lon": -110.09273737373763
         },
         "domain": {
          "x": [
           0,
           1
          ],
          "y": [
           0,
           1
          ]
         },
         "style": "carto-positron",
         "zoom": 3
        },
        "margin": {
         "b": 0,
         "l": 0,
         "r": 0,
         "t": 0
        },
        "template": {
         "data": {
          "bar": [
           {
            "error_x": {
             "color": "#2a3f5f"
            },
            "error_y": {
             "color": "#2a3f5f"
            },
            "marker": {
             "line": {
              "color": "#E5ECF6",
              "width": 0.5
             },
             "pattern": {
              "fillmode": "overlay",
              "size": 10,
              "solidity": 0.2
             }
            },
            "type": "bar"
           }
          ],
          "barpolar": [
           {
            "marker": {
             "line": {
              "color": "#E5ECF6",
              "width": 0.5
             },
             "pattern": {
              "fillmode": "overlay",
              "size": 10,
              "solidity": 0.2
             }
            },
            "type": "barpolar"
           }
          ],
          "carpet": [
           {
            "aaxis": {
             "endlinecolor": "#2a3f5f",
             "gridcolor": "white",
             "linecolor": "white",
             "minorgridcolor": "white",
             "startlinecolor": "#2a3f5f"
            },
            "baxis": {
             "endlinecolor": "#2a3f5f",
             "gridcolor": "white",
             "linecolor": "white",
             "minorgridcolor": "white",
             "startlinecolor": "#2a3f5f"
            },
            "type": "carpet"
           }
          ],
          "choropleth": [
           {
            "colorbar": {
             "outlinewidth": 0,
             "ticks": ""
            },
            "type": "choropleth"
           }
          ],
          "contour": [
           {
            "colorbar": {
             "outlinewidth": 0,
             "ticks": ""
            },
            "colorscale": [
             [
              0,
              "#0d0887"
             ],
             [
              0.1111111111111111,
              "#46039f"
             ],
             [
              0.2222222222222222,
              "#7201a8"
             ],
             [
              0.3333333333333333,
              "#9c179e"
             ],
             [
              0.4444444444444444,
              "#bd3786"
             ],
             [
              0.5555555555555556,
              "#d8576b"
             ],
             [
              0.6666666666666666,
              "#ed7953"
             ],
             [
              0.7777777777777778,
              "#fb9f3a"
             ],
             [
              0.8888888888888888,
              "#fdca26"
             ],
             [
              1,
              "#f0f921"
             ]
            ],
            "type": "contour"
           }
          ],
          "contourcarpet": [
           {
            "colorbar": {
             "outlinewidth": 0,
             "ticks": ""
            },
            "type": "contourcarpet"
           }
          ],
          "heatmap": [
           {
            "colorbar": {
             "outlinewidth": 0,
             "ticks": ""
            },
            "colorscale": [
             [
              0,
              "#0d0887"
             ],
             [
              0.1111111111111111,
              "#46039f"
             ],
             [
              0.2222222222222222,
              "#7201a8"
             ],
             [
              0.3333333333333333,
              "#9c179e"
             ],
             [
              0.4444444444444444,
              "#bd3786"
             ],
             [
              0.5555555555555556,
              "#d8576b"
             ],
             [
              0.6666666666666666,
              "#ed7953"
             ],
             [
              0.7777777777777778,
              "#fb9f3a"
             ],
             [
              0.8888888888888888,
              "#fdca26"
             ],
             [
              1,
              "#f0f921"
             ]
            ],
            "type": "heatmap"
           }
          ],
          "heatmapgl": [
           {
            "colorbar": {
             "outlinewidth": 0,
             "ticks": ""
            },
            "colorscale": [
             [
              0,
              "#0d0887"
             ],
             [
              0.1111111111111111,
              "#46039f"
             ],
             [
              0.2222222222222222,
              "#7201a8"
             ],
             [
              0.3333333333333333,
              "#9c179e"
             ],
             [
              0.4444444444444444,
              "#bd3786"
             ],
             [
              0.5555555555555556,
              "#d8576b"
             ],
             [
              0.6666666666666666,
              "#ed7953"
             ],
             [
              0.7777777777777778,
              "#fb9f3a"
             ],
             [
              0.8888888888888888,
              "#fdca26"
             ],
             [
              1,
              "#f0f921"
             ]
            ],
            "type": "heatmapgl"
           }
          ],
          "histogram": [
           {
            "marker": {
             "pattern": {
              "fillmode": "overlay",
              "size": 10,
              "solidity": 0.2
             }
            },
            "type": "histogram"
           }
          ],
          "histogram2d": [
           {
            "colorbar": {
             "outlinewidth": 0,
             "ticks": ""
            },
            "colorscale": [
             [
              0,
              "#0d0887"
             ],
             [
              0.1111111111111111,
              "#46039f"
             ],
             [
              0.2222222222222222,
              "#7201a8"
             ],
             [
              0.3333333333333333,
              "#9c179e"
             ],
             [
              0.4444444444444444,
              "#bd3786"
             ],
             [
              0.5555555555555556,
              "#d8576b"
             ],
             [
              0.6666666666666666,
              "#ed7953"
             ],
             [
              0.7777777777777778,
              "#fb9f3a"
             ],
             [
              0.8888888888888888,
              "#fdca26"
             ],
             [
              1,
              "#f0f921"
             ]
            ],
            "type": "histogram2d"
           }
          ],
          "histogram2dcontour": [
           {
            "colorbar": {
             "outlinewidth": 0,
             "ticks": ""
            },
            "colorscale": [
             [
              0,
              "#0d0887"
             ],
             [
              0.1111111111111111,
              "#46039f"
             ],
             [
              0.2222222222222222,
              "#7201a8"
             ],
             [
              0.3333333333333333,
              "#9c179e"
             ],
             [
              0.4444444444444444,
              "#bd3786"
             ],
             [
              0.5555555555555556,
              "#d8576b"
             ],
             [
              0.6666666666666666,
              "#ed7953"
             ],
             [
              0.7777777777777778,
              "#fb9f3a"
             ],
             [
              0.8888888888888888,
              "#fdca26"
             ],
             [
              1,
              "#f0f921"
             ]
            ],
            "type": "histogram2dcontour"
           }
          ],
          "mesh3d": [
           {
            "colorbar": {
             "outlinewidth": 0,
             "ticks": ""
            },
            "type": "mesh3d"
           }
          ],
          "parcoords": [
           {
            "line": {
             "colorbar": {
              "outlinewidth": 0,
              "ticks": ""
             }
            },
            "type": "parcoords"
           }
          ],
          "pie": [
           {
            "automargin": true,
            "type": "pie"
           }
          ],
          "scatter": [
           {
            "marker": {
             "colorbar": {
              "outlinewidth": 0,
              "ticks": ""
             }
            },
            "type": "scatter"
           }
          ],
          "scatter3d": [
           {
            "line": {
             "colorbar": {
              "outlinewidth": 0,
              "ticks": ""
             }
            },
            "marker": {
             "colorbar": {
              "outlinewidth": 0,
              "ticks": ""
             }
            },
            "type": "scatter3d"
           }
          ],
          "scattercarpet": [
           {
            "marker": {
             "colorbar": {
              "outlinewidth": 0,
              "ticks": ""
             }
            },
            "type": "scattercarpet"
           }
          ],
          "scattergeo": [
           {
            "marker": {
             "colorbar": {
              "outlinewidth": 0,
              "ticks": ""
             }
            },
            "type": "scattergeo"
           }
          ],
          "scattergl": [
           {
            "marker": {
             "colorbar": {
              "outlinewidth": 0,
              "ticks": ""
             }
            },
            "type": "scattergl"
           }
          ],
          "scattermapbox": [
           {
            "marker": {
             "colorbar": {
              "outlinewidth": 0,
              "ticks": ""
             }
            },
            "type": "scattermapbox"
           }
          ],
          "scatterpolar": [
           {
            "marker": {
             "colorbar": {
              "outlinewidth": 0,
              "ticks": ""
             }
            },
            "type": "scatterpolar"
           }
          ],
          "scatterpolargl": [
           {
            "marker": {
             "colorbar": {
              "outlinewidth": 0,
              "ticks": ""
             }
            },
            "type": "scatterpolargl"
           }
          ],
          "scatterternary": [
           {
            "marker": {
             "colorbar": {
              "outlinewidth": 0,
              "ticks": ""
             }
            },
            "type": "scatterternary"
           }
          ],
          "surface": [
           {
            "colorbar": {
             "outlinewidth": 0,
             "ticks": ""
            },
            "colorscale": [
             [
              0,
              "#0d0887"
             ],
             [
              0.1111111111111111,
              "#46039f"
             ],
             [
              0.2222222222222222,
              "#7201a8"
             ],
             [
              0.3333333333333333,
              "#9c179e"
             ],
             [
              0.4444444444444444,
              "#bd3786"
             ],
             [
              0.5555555555555556,
              "#d8576b"
             ],
             [
              0.6666666666666666,
              "#ed7953"
             ],
             [
              0.7777777777777778,
              "#fb9f3a"
             ],
             [
              0.8888888888888888,
              "#fdca26"
             ],
             [
              1,
              "#f0f921"
             ]
            ],
            "type": "surface"
           }
          ],
          "table": [
           {
            "cells": {
             "fill": {
              "color": "#EBF0F8"
             },
             "line": {
              "color": "white"
             }
            },
            "header": {
             "fill": {
              "color": "#C8D4E3"
             },
             "line": {
              "color": "white"
             }
            },
            "type": "table"
           }
          ]
         },
         "layout": {
          "annotationdefaults": {
           "arrowcolor": "#2a3f5f",
           "arrowhead": 0,
           "arrowwidth": 1
          },
          "autotypenumbers": "strict",
          "coloraxis": {
           "colorbar": {
            "outlinewidth": 0,
            "ticks": ""
           }
          },
          "colorscale": {
           "diverging": [
            [
             0,
             "#8e0152"
            ],
            [
             0.1,
             "#c51b7d"
            ],
            [
             0.2,
             "#de77ae"
            ],
            [
             0.3,
             "#f1b6da"
            ],
            [
             0.4,
             "#fde0ef"
            ],
            [
             0.5,
             "#f7f7f7"
            ],
            [
             0.6,
             "#e6f5d0"
            ],
            [
             0.7,
             "#b8e186"
            ],
            [
             0.8,
             "#7fbc41"
            ],
            [
             0.9,
             "#4d9221"
            ],
            [
             1,
             "#276419"
            ]
           ],
           "sequential": [
            [
             0,
             "#0d0887"
            ],
            [
             0.1111111111111111,
             "#46039f"
            ],
            [
             0.2222222222222222,
             "#7201a8"
            ],
            [
             0.3333333333333333,
             "#9c179e"
            ],
            [
             0.4444444444444444,
             "#bd3786"
            ],
            [
             0.5555555555555556,
             "#d8576b"
            ],
            [
             0.6666666666666666,
             "#ed7953"
            ],
            [
             0.7777777777777778,
             "#fb9f3a"
            ],
            [
             0.8888888888888888,
             "#fdca26"
            ],
            [
             1,
             "#f0f921"
            ]
           ],
           "sequentialminus": [
            [
             0,
             "#0d0887"
            ],
            [
             0.1111111111111111,
             "#46039f"
            ],
            [
             0.2222222222222222,
             "#7201a8"
            ],
            [
             0.3333333333333333,
             "#9c179e"
            ],
            [
             0.4444444444444444,
             "#bd3786"
            ],
            [
             0.5555555555555556,
             "#d8576b"
            ],
            [
             0.6666666666666666,
             "#ed7953"
            ],
            [
             0.7777777777777778,
             "#fb9f3a"
            ],
            [
             0.8888888888888888,
             "#fdca26"
            ],
            [
             1,
             "#f0f921"
            ]
           ]
          },
          "colorway": [
           "#636efa",
           "#EF553B",
           "#00cc96",
           "#ab63fa",
           "#FFA15A",
           "#19d3f3",
           "#FF6692",
           "#B6E880",
           "#FF97FF",
           "#FECB52"
          ],
          "font": {
           "color": "#2a3f5f"
          },
          "geo": {
           "bgcolor": "white",
           "lakecolor": "white",
           "landcolor": "#E5ECF6",
           "showlakes": true,
           "showland": true,
           "subunitcolor": "white"
          },
          "hoverlabel": {
           "align": "left"
          },
          "hovermode": "closest",
          "mapbox": {
           "style": "light"
          },
          "paper_bgcolor": "white",
          "plot_bgcolor": "#E5ECF6",
          "polar": {
           "angularaxis": {
            "gridcolor": "white",
            "linecolor": "white",
            "ticks": ""
           },
           "bgcolor": "#E5ECF6",
           "radialaxis": {
            "gridcolor": "white",
            "linecolor": "white",
            "ticks": ""
           }
          },
          "scene": {
           "xaxis": {
            "backgroundcolor": "#E5ECF6",
            "gridcolor": "white",
            "gridwidth": 2,
            "linecolor": "white",
            "showbackground": true,
            "ticks": "",
            "zerolinecolor": "white"
           },
           "yaxis": {
            "backgroundcolor": "#E5ECF6",
            "gridcolor": "white",
            "gridwidth": 2,
            "linecolor": "white",
            "showbackground": true,
            "ticks": "",
            "zerolinecolor": "white"
           },
           "zaxis": {
            "backgroundcolor": "#E5ECF6",
            "gridcolor": "white",
            "gridwidth": 2,
            "linecolor": "white",
            "showbackground": true,
            "ticks": "",
            "zerolinecolor": "white"
           }
          },
          "shapedefaults": {
           "line": {
            "color": "#2a3f5f"
           }
          },
          "ternary": {
           "aaxis": {
            "gridcolor": "white",
            "linecolor": "white",
            "ticks": ""
           },
           "baxis": {
            "gridcolor": "white",
            "linecolor": "white",
            "ticks": ""
           },
           "bgcolor": "#E5ECF6",
           "caxis": {
            "gridcolor": "white",
            "linecolor": "white",
            "ticks": ""
           }
          },
          "title": {
           "x": 0.05
          },
          "xaxis": {
           "automargin": true,
           "gridcolor": "white",
           "linecolor": "white",
           "ticks": "",
           "title": {
            "standoff": 15
           },
           "zerolinecolor": "white",
           "zerolinewidth": 2
          },
          "yaxis": {
           "automargin": true,
           "gridcolor": "white",
           "linecolor": "white",
           "ticks": "",
           "title": {
            "standoff": 15
           },
           "zerolinecolor": "white",
           "zerolinewidth": 2
          }
         }
        }
       }
      },
      "text/html": [
       "<div>                            <div id=\"010b68b0-a343-4474-a880-a3b21ef86815\" class=\"plotly-graph-div\" style=\"height:525px; width:100%;\"></div>            <script type=\"text/javascript\">                require([\"plotly\"], function(Plotly) {                    window.PLOTLYENV=window.PLOTLYENV || {};                                    if (document.getElementById(\"010b68b0-a343-4474-a880-a3b21ef86815\")) {                    Plotly.newPlot(                        \"010b68b0-a343-4474-a880-a3b21ef86815\",                        [{\"coloraxis\":\"coloraxis\",\"customdata\":[[\"bay area guest services program manager\",\"kenyon college\"],[\"chief marketing officer , google cloud\",\"harvard business school\"],[\"head of partner solution strategy and architecture - google cloud\",\"north carolina state university\"],[\"executive business partner, g suite\",\"richmond, the american international university in london\"],[\"engineering manager\",\"santa clara university\"],[\"director - google education\",\"hillsdale college\"],[\"senior product designer\",\"uc san diego\"],[\"senior staff software engineer\",\"caltech\"],[\"user experience lead for google cloud logging and apm\",\"university of rochester\"],[\"program manager\",\"new york university\"],[\"product manager\",\"santa clara university\"],[\"product manager, google accounts receivable and vr\",\"universidad ort uruguay\"],[\"team lead, product marketing, google ads\",\"washington state university\"],[\"account manager\",\"dewitt high school\"],[\"global head of business innovation\",\"california state university, long beach\"],[\"director, software engineering\",\"yale university\"],[\"product leader\",\"boston university\"],[\"team lead and senior account executive\",\"university of california, santa cruz\"],[\"strategy and commercialization lead, doubleclick digital marketing\",\"university of southern california\"],[\"senior partner technology manager\",\"vanderbilt university\"],[\"marketing lead, real estate\",\"university of illinois at urbana - champaign\"],[\"senior software engineer\",\"university of florida\"],[\"principal account manager - healthcare\",\"quincy college\"],[\"technical account manager\",\"boston university\"],[\"software engineering manager\",\"university of michigan\"],[\"technical program manager\",\"university of california, berkeley\"],[\"director of user experience\",\"university of sussex\"],[\"director of us marketing, devices and services; head of us go-to-market\",\"new york university\"],[\"global head of solutions consulting and operations, google play\",\"university of california, berkeley\"],[\"product manager\",\"university of iowa\"],[\"senior product manager\",\"university of maryland\"],[\"customer engineer\",\"macalester college\"],[\"director, go to market strategy and operations\",\"stanford university\"],[\"senior designer\",\"john brown university\"],[\"engineering manager, developer relations\",\"florida atlantic university\"],[\"government affairs and public policy\",\"university of pennsylvania\"],[\"senior software engineer\",\"northeastern university\"],[\"partner marketing manager, google cloud\",\"university of south florida\"],[\"product manager- android\",\"university of california, berkeley\"],[\"design manager\",\"california state university, fresno\"],[\"managing director\",\"lick - wilmerding high school\"],[\"program manager, federated security, research operations\",\"university of california, davis\"],[\"head of brand marketing\",\"the university of texas at austin\"],[\"executive business partner\",\"san jose state university\"],[\"senior interaction designer\",\"university of south carolina\"],[\"engineer manager, gcp\",\"university of illinois at urbana - champaign\"],[\"technical program manager\",\"university politehnica of bucharest\"],[\"product manager\",\"palo alto high school\"],[\"group product manager\",\"columbia engineering\"],[\"machine learning engineer\",\"university of waterloo\"],[\"software release manager\",\"the george washington university\"],[\"us healthcare benefits lead\",\"university of california, berkeley\"],[\"engineering director and principal engineer\",\"massachusetts institute of technology\"],[\"corporate counsel @google\",\"school of the art institute of chicago\"],[\"vice president, trust and safety\",\"brown university\"],[\"product marketing lead, google cloud\",\"university of california, berkeley\"],[\"senior staff engineer and manager\",\"georgia institute of technology\"],[\"senior change management practitioner\",\"university of colorado boulder\"],[\"product manager\",\"xavier university (ph)\"],[\"partner operations lead, news and search\",\"uc san diego\"],[\"brand lead, media lab\",\"university of new hampshire\"],[\"program manager, mobile app ads and display ads\",\"northeastern university\"],[\"group product manager\",\"stanford university\"],[\"design leader for google news in dc\",\"university of illinois at urbana - champaign\"],[\"product manager\",\"san jose state university\"],[\"head of support strategy and operations, google photos and chrome browser\",\"depaul university\"],[\"senior product manager\",\"dartmouth college\"],[\"head of marketing technology and enablement, google cloud\",\"washington university in st. louis\"],[\"senior specialist uk - display and youtube\",\"the university of texas at austin\"],[\"group product manager\",\"university of washington\"],[\"strategist, trust and safety\",\"san jose state university\"],[\"senior software engineer\",\"north carolina state university\"],[\"campus staffing lead\",\"texas lutheran university\"],[\"senior android developer advocate\",\"brown university\"],[\"program manager, google research\",\"northeastern university\"],[\"head of education marketing, google cloud\",\"university of north carolina at chapel hill\"],[\"product manager\",\"university of california, berkeley\"],[\"technical solutions consultant\",\"null\"],[\"enterprise account manager\",\"lyndon state college\"],[\"product manager\",\"uc san diego\"],[\"senior ios developer\",\"brandeis university\"],[\"software engineer interested in philosophy and dogs\",\"university of illinois at urbana - champaign\"],[\"director, inclusion programs\",\"university of south carolina school of law\"],[\"design lead\",\"rhode island school of design\"],[\"head of data and technology business unit\",\"florida state university\"],[\"administrative business partner\",\"de anza college\"],[\"user experience lead google on ios\",\"yale school of art\"],[\"director - industry isv's\",\"university of wisconsin - madison\"],[\"senior software engineer technical lead\",\"university of pennsylvania\"],[\"senior director of product management - office of chief information officer\",\"stanford university\"],[\"director of growth marketing, google play\",\"university of arizona\"],[\"senior software engineer\",\"millikin university\"],[\"technical lead manager\",\"peter the great st.petersburg polytechnic university\"],[\"product manager lead\",\"university of pennsylvania\"],[\"google\",\"harvard university\"],[\"engineering leader\",\"university of wollongong\"],[\"technical program manager, network engineer, global security and resilience services\",\"drexel university\"],[\"product manager - area 120 founder\",\"null\"],[\"finance manager\",\"university of california, los angeles\"],[\"senior software engineer\",\"caltech\"],[\"partnerhsip manager\",\"boston university\"],[\"operations management\",\"loyola marymount university\"],[\"platforms sales manager @ google\",\"uc irvine\"],[\"product manager\",\"university of california, santa cruz\"],[\"software engineer\",\"university of wisconsin - madison\"],[\"software engineer\",\"western governors university\"],[\"writer and content strategist\",\"westfield state university\"],[\"partner engineer\",\"universidade federal de santa catarina\"],[\"global marketing lead, healthcare and life sciences - google cloud\",\"oakton high school\"],[\"strategy and operations @ google\",\"university of toronto\"],[\"experience design manager and creative strategist\",\"the ohio state university\"],[\"operations director, google cloud healthcare and life sciences industry sales\",\"horace mann school\"],[\"operations, google fi\",\"princeton university\"],[\"administrative business partner\",\"saint mary's college of california\"],[\"product management, cx for google cloud\",\"pg center, kolar\"],[\"member of the technical staff\",\"walla walla university\"],[\"organizational development partner + head of od at youtube\",\"new york university\"],[\"head of gtm activation\",\"southern methodist university\"],[\"product manager\",\"duke university\"],[\"manager, solutions consultant training and development\",\"santa clara university\"],[\"program manager consultant @ google cloud ai\",\"stanford university\"],[\"program manager, customer trust, google cloud platform\",\"university of colorado boulder\"],[\"gaming lead, accounts receivable and vr\",\"plekhanov russian university of economics\"],[\"director, product management\",\"university of california, los angeles\"],[\"manager, security and compliance specialists, cloud solutions engineering\",\"the collins college of hospitality management at cal poly pomona\"],[\"program manager\",\"massachusetts institute of technology\"],[\"hr bp and analyst, employee relations and investigations\",\"university of chicago\"],[\"pgm @ google\",\"southern methodist university\"],[\"product marketing manager iii, cloud migration and microsoft on gcp\",\"san jose state university\"],[\"engineering manager\",\"university of washington\"],[\"senior interaction designer\",\"artcenter college of design\"],[\"staff software engineer\",\"princeton university\"],[\"google research\",\"uc san diego\"],[\"cloud customer engineer\",\"cornell university\"],[\"staff software engineer\",\"university of california, los angeles\"],[\"program manager\",\"babson college\"],[\"vice president product management\",\"stanford university\"],[\"head of ai services and delivery center, cloud professional services\",\"southern methodist university\"],[\"machine learning engineer\",\"harvard university\"],[\"storyteller analyst project manager\",\"the university of texas at austin\"],[\"head of measurement and analytics, financial services\",\"vanderbilt university\"],[\"digital product marketing leader, google\",\"university of virginia\"],[\"senior project manager, localization\",\"stanford university\"],[\"senior technical writer\",\"pacifica graduate institute\"],[\"product marketing\",\"university of california, berkeley\"],[\"software engineer\",\"cornell university\"],[\"head of americas online growth partnerships, google cloud\",\"northwestern university - kellogg school of management\"],[\"staff program manager, privacy sandbox\",\"christian academy of louisville\"],[\"product manager\",\"the university of texas at austin\"],[\"tech lead\",\"columbia university in the city of new york\"],[\"product business development\",\"middlebury college\"],[\"people-focused engineering leader\",\"georgia institute of technology\"],[\"data science developer advocate\",\"boston university\"],[\"product manager, ai\",\"brown university\"],[\"global operations manager\",\"stonehill college\"],[\"user experience program management and design strategy\",\"san jose state university\"],[\"senior financial analyst\",\"wheeling university\"],[\"upfronts lead\",\"university of southern california - marshall school of business\"],[\"head of north america, g suite for education\",\"university of missouri - columbia\"],[\"director, product management\",\"the wharton school\"],[\"strategic cloud engineer\",\"university of arizona\"],[\"head of global marketing, google play\",\"the wharton school\"],[\"senior product manager\",\"jiwaji university\"],[\"director, consumer operations\",\"university of california, irvine - the paul merage school of business\"],[\"nest smart home retail go-to-market lead\",\"thunderbird school of global management\"],[\"software engineering manager\",\"university of pittsburgh katz graduate school of business\"],[\"ios software engineer\",\"dartmouth college\"],[\"programmatic account manager\",\"bridgewater state university\"],[\"business development manager - google meet\",\"university of california, berkeley\"],[\"software engineering manager\",\"indian institute of engineering science and technology (iiest), shibpur\"],[\"product manager, serverless , google cloud\",\"dartmouth college\"],[\"head of new business web, online partnerships group na\",\"elon university\"],[\"partner manager - data and analytics strategy\",\"university of sacramento\"],[\"head of industry solutions partnerships\",\"harvard business school\"],[\"enterprise customer engineer\",\"wichita state university\"],[\"user experience design manager\",\"kth global development hub\"],[\"central operations and global programs lead\",\"chapman university\"],[\"account manager, google cloud\",\"oklahoma state university\"],[\"interaction designer\",\"texas a&m university\"],[\"product manager\",\"georgia institute of technology\"],[\"senior account manager, apps\",\"the university of iowa\"],[\"product manager\",\"brown university\"],[\"product manager, pixel and research and machine intelligence\",\"stanford university\"],[\"product manager\",\"university of california, davis\"],[\"product marketing manager, payments\",\"pacific ridge school\"],[\"senior visual designer\",\"assumption university\"],[\"vice president of product management\",\"cornell university\"],[\"senior director, research engineering\",\"university of illinois at urbana - champaign\"],[\"product operations manager\",\"uc santa barbara\"],[\"lead, google cloud customer community\",\"university of southern california\"],[\"staff interaction designer\",\"university of tampa\"],[\"marketing lead, ads privacy\",\"stanford university\"],[\"android security program manager\",\"uc irvine\"],[\"content marketing - security operations\",\"s.i. newhouse school of public communications at syracuse university\"],[\"market insights lead\",\"colorado state university global\"],[\"enterprise cloud architect\",\"seattle university\"],[\"associate product manager\",\"university of pennsylvania: m&t dual degree program\"],[\"product marketing manager, android accessibility\",\"northwestern university\"],[\"manager, techical program manager\",\"institute of management technology, ghaziabad\"],[\"retail practice lead\",\"miami university\"],[\"design manager\",\"the australian national university\"],[\"senior software engineer\",\"lehigh university\"],[\"human resources business partner\",\"arizona state university\"],[\"global security operations program manager\",\"arizona state university\"],[\"technical leadership - core data\",\"case western reserve university\"],[\"engineering program manager, ios at google\",\"san diego culinary institute\"],[\"product manager\",\"the hong kong university of science and technology\"],[\"media lab operations manager\",\"university of illinois at urbana - champaign\"],[\"senior business analyst, trust and safety\",\"colgate university\"],[\"google cloud, corporate account executive\",\"the university of texas at austin\"],[\"senior search quality analyst\",\"chapman university\"],[\"senior manager, professional services, doubleclick platforms\",\"western michigan university\"],[\"engineering manager iii - firebase\",\"university of california, berkeley\"],[\"product manager, hotels\",\"university of california, berkeley, haas school of business\"],[\"staff software engineer\",\"massachusetts institute of technology\"],[\"global product policy lead - geo\",\"university of southern california\"],[\"product marketing manager, google play console\",\"university of california, los angeles\"],[\"senior interaction designer\",\"kent state university\"],[\"product marketing manager\",\"oberlin college\"],[\"senior software engineer\",\"university at buffalo\"],[\"product strategy and analytics\",\"northwestern university - kellogg school of management\"],[\"group product manager\",\"princeton university\"],[\"senior solutions engineer\",\"university of california, berkeley\"],[\"automotive partnerships\",\"arizona state university\"],[\"software engineer, google maps\",\"massachusetts institute of technology\"],[\"sales training manager, fitbit\",\"florida international university\"],[\"head of serviceability, compliance and help platforms\",\"thunderbird school of global management\"],[\"recruiting lead, global affairs\",\"roosevelt university\"],[\"senior producer, brand studio\",\"american university\"],[\"product manager\",\"west salem high school\"],[\"manager, mid market sales\",\"university of southern california - marshall school of business\"],[\"recruiting team lead at google\",\"morehouse college\"],[\"director of engineering\",\"illinois institute of technology\"],[\"technical director, office of the chief technology officer\",\"george mason university\"],[\"software engineer\",\"university of colorado boulder\"],[\"googler * consultant and executive coach * pcc\",\"carnegie mellon university\"],[\"head of go to market, google store\",\"portland state university\"],[\"senior site reliability engineer\",\"miami dade college\"],[\"enterprise cloud account executive\",\"university at albany, suny\"],[\"engineering manager\",\"pratt institute\"],[\"horology design lead\",\"georgetown university\"],[\"design leadership\",\"emerson college\"],[\"business intelligence program manager\",\"university of california, davis\"],[\"global product lead\",\"idc herzliya\"],[\"senior data scientist, search ranking\",\"courant institute of mathematical sciences\"],[\"program manager, ios @ google\",\"university of california, berkeley\"],[\"brand marketing partnerships lead\",\"loyola university chicago\"],[\"director of product management\",\"northwestern university\"],[\"renewals manager, looker\",\"san diego state university\"],[\"cloud architect\",\"the university of manchester\"],[\"director, geo core apps\",\"new york university\"],[\"product\",\"columbia business school\"],[\"group product manager\",\"grand valley state university\"],[\"manager - scalable partner growth and acquisitions\",\"ucla anderson school of management\"],[\"software engineer\",\"drexel university\"],[\"senior software engineer\",\"mississippi state university\"],[\"global senior product marketing manager, google nest\",\"columbia business school\"],[\"kids + families and content responsibility marketing lead, emea\",\"stanford university\"],[\"product manager\",\"university of chicago\"],[\"senior program manager - netops pmo\",\"university of the pacific\"],[\"product design lead, google ai and research\",\"san jose state university\"],[\"senior director of product management\",\"unc kenan - flagler business school\"],[\"product manager\",\"rice university\"],[\"cloud architect\",\"kennesaw state university\"],[\"principal engineer , tech infrastructure, google cloud\",\"university of california, los angeles\"],[\"engineering manager\",\"rice university\"],[\"head of americas, sales strategy and operations\",\"university of michigan\"],[\"software engineer\",\"university of new hampshire\"],[\"senior software engineer\",\"georgia institute of technology\"],[\"product manager\",\"university of california, berkeley\"],[\"key account executive - google cloud\",\"university of delaware\"],[\"principal architect\",\"brigham young university - idaho\"],[\"security engineer\",\"new york university\"],[\"sales engineering, google cloud platform\",\"binghamton university\"],[\"product marketing manager, google maps platform at google\",\"university of connecticut school of business\"],[\"software engineer\",\"massachusetts institute of technology\"],[\"product manager, personal finance\",\"yale university\"],[\"senior principal architect\",\"michigan state university\"],[\"manager, digital forensics\",\"boston college\"],[\"partner customer engineering lead\",\"purchase college, suny\"],[\"strategy and operations lead, google photos\",\"university of san francisco\"],[\"director of product management, google assistant developer platform\",\"carnegie mellon university - tepper school of business\"],[\"senior software engineer\",\"stony brook university\"],[\"business development\",\"purdue university\"],[\"senior staff software engineer and manager\",\"washington university in st. louis\"],[\"engineering manager iii\",\"baylor university\"],[\"program manager, human resources benefits\",\"saint louis university\"],[\"senior software engineer\",\"chinese academy of sciences\"],[\"senior director, head of geo user experience\",\"carleton college\"],[\"machine resource management\",\"stanford university graduate school of business\"],[\"senior technology auditor\",\"university of vermont\"],[\"senior privacy engineer\",\"depauw university\"],[\"senior account manager\",\"university of california, berkeley\"],[\"engineering manager, geo enterprise\",\"stony brook university\"],[\"research scientist\",\"university of wisconsin - madison\"],[\"staff writer\",\"arizona state university\"],[\"pm lead, ai and accounts receivable-based retail and commerce\",\"mit sloan school of management\"],[\"senior interaction designer\",\"university of southern california\"],[\"engineering manager\",\"national central university\"],[\"enterprise territory manager\",\"biola university\"],[\"interaction designer\",\"the collins college of hospitality management at cal poly pomona\"],[\"program manager, online care, social and community\",\"san jose state university\"],[\"product marketing manager\",\"stanford university\"],[\"senior software engineer\",\"harvard college\"],[\"product manager\",\"stanford university\"],[\"user experience researcher\",\"wesleyan university\"],[\"software engineer technical lead\",\"university of california, berkeley\"],[\"team lead\",\"west valley college\"],[\"program manager\",\"montana state university - bozeman\"],[\"product manager - chrome os\",\"northeastern university\"],[\"senior software engineer\",\"the university of western australia\"],[\"senior software engineer\",\"university of california, santa cruz\"],[\"product manager\",\"swinburne university of technology sydney\"],[\"web developer advocate, google chrome\",\"american university\"],[\"product manager\",\"carnegie mellon university - tepper school of business\"],[\"senior product manager\",\"uc san diego\"],[\"head of platform operations and support\",\"the george washington university\"],[\"user experience designer\",\"university of oregon\"],[\"program manager, stadia\",\"chapman university\"],[\"product manager\",\"university of california, berkeley\"],[\"design lead\",\"boston university\"],[\"vice president, product management - chromeos\",\"middlebury college\"],[\"program manager, npi supply chain operations\",\"stanford university\"],[\"staff visual designer and manager\",\"academy of art university\"],[\"product policy lead\",\"trinity university\"],[\"user experience researcher\",\"georgia institute of technology\"],[\"product manager\",\"stanford university\"],[\"global director, digital marketing, google store\",\"the university of chicago booth school of business\"],[\"head of developer and policy communications programs, google play\",\"university of california, berkeley\"],[\"senior software engineer\",\"tsinghua university\"],[\"group creative director and lead\",\"virginia commonwealth university\"],[\"senior programmatic strategist\",\"university of san francisco\"],[\"software engineer: stadia\",\"university of california, los angeles\"],[\"senior program manager\",\"colorado state university global\"],[\"technical program manager\",\"king's college london\"],[\"senior director of user experience, google cloud ai and industry solutions\",\"california polytechnic state university - san luis obispo\"],[\"front end software engineer at google\",\"university of california, davis\"],[\"head of product cost management, google home and nest\",\"the wharton school\"],[\"program manager iii, startup ecosystem, google cloud\",\"texas a&m university\"],[\"director, product management - speech\",\"nyu stern school of business\"],[\"head of digital marketing transformation\",\"university of notre dame\"],[\"customer engineer\",\"beijing university of technology\"],[\"head of beyondcorp enterprise architecture\",\"orange coast college\"],[\"design lead and strategist\",\"the art institutes\"],[\"product management leader\",\"stanford university\"],[\"senior user experience researcher - accounts receivable team\",\"bentley university\"],[\"enterprise field sales representative\",\"united states naval academy\"],[\"senior research software engineer\",\"northeastern university\"],[\"senior director, user experience @google payments\",\"california state university, chico\"],[\"senior manager, strategic accounts\",\"eastman school of music\"],[\"group product manager, senior pm, pm\",\"university of illinois at urbana - champaign\"],[\"software engineer\",\"university of michigan\"],[\"software engineer\",\"milford high school, milford, mi\"],[\"staff data scientist\",\"calvin university\"],[\"senior program manager\",\"university of california, santa cruz\"],[\"product lead\",\"school of computer science, d.a.v.v. indore india\"],[\"production network engineer\",\"bergen community college\"],[\"user experience lead and manager\",\"collins college\"],[\"manager, play movies\",\"california state university, northridge\"],[\"head of retail ai, google cloud\",\"haverford college\"],[\"product manager\",\"university of colorado boulder\"],[\"software engineer\",\"california state university, northridge\"],[\"software development engineer\",\"novosibirsk state university, department of economics\"],[\"designer\",\"university of utah\"],[\"product manager\",\"swarthmore college\"],[\"director of engineering, fuchsia\",\"university of waterloo\"],[\"user experience designer\",\"san jose state university\"],[\"product marketing @ youtube\",\"university of california, berkeley\"],[\"analyst\",\"university of california, berkeley\"],[\"senior software engineer\",\"carnegie mellon university\"],[\"product manager\",\"james madison university\"],[\"head of partner engineering platform\",\"null\"],[\"manager, gtech consumers\",\"university of michigan\"],[\"technical program manager\",\"uc santa barbara\"],[\"software engineer\",\"purdue university\"],[\"head of media, north america\",\"university of wisconsin - eau claire\"],[\"head of agency strategy and insights\",\"pacific lutheran university\"],[\"recruiting lead\",\"georgetown university\"],[\"engineering manager, site reliability engineering\",\"cornell university\"],[\"senior program manager\",\"san francisco state university\"],[\"product manager\",\"uc santa barbara\"],[\"product manager\",\"stanford university\"],[\"business development manager, google photos\",\"cornell university\"],[\"engineering manager\",\"northeastern university\"],[\"staff engineer\",\"north carolina state university\"],[\"communications manager, corporate and employee relations, diversity and inclusion\",\"st. john's university\"],[\"food program manager\",\"stanford university\"],[\"shopping product analytics and data science manager\",\"cleveland state university\"],[\"vice president and general manager, chrome browser\",\"gelato university\"],[\"user experience design manager\",\"simon fraser university\"],[\"program manager\",\"penn state university\"],[\"senior account strategist, agency sales\",\"university of missouri\"],[\"senior principal, cloud value advisors\",\"university of arizona\"],[\"product manager\",\"georgia institute of technology\"],[\"interaction designer\",\"california state university, fresno\"],[\"senior project manager\",\"santa clara university\"],[\"project manager\",\"university of california, santa cruz\"],[\"senior software engineer\",\"cornell university\"],[\"product manager\",\"stanford university\"],[\"engineering manager\",\"georgia institute of technology\"],[\"network operations\",\"east high school\"],[\"customer experience innovation lead, google devices and services\",\"university of florida\"],[\"senior engineering manager\",\"embry - riddle aeronautical university\"],[\"engineering lead in material design\",\"boston conservatory at berklee\"],[\"vice president of product management\",\"esit - \\u00e9cole sup\\u00e9rieure d\\u2019interpr\\u00e8tes et de traducteurs\"],[\"senior software engineer\",\"utah valley university\"],[\"software engineer\",\"stanford university\"],[\"head of global retail go-to-market, advocacy, and demo experiences - devices and services marketing\",\"graduate school of business & administration\"],[\"engineering manager\",\"university of pittsburgh\"],[\"senior patent counsel\",\"stony brook university\"],[\"software engineer\",\"syracuse university\"],[\"google cloud partner sales leadership\",\"azusa pacific university\"],[\"product manager\",\"st. john's university\"],[\"marketing manager, analytics\",\"university of california, berkeley\"],[\"head of treasury tech\",\"university of southern california\"],[\"senior product designer | cloud ai and machine learning solutions\",\"nyu tisch art and public policy\"],[\"urban planning lead for mountain view and sunnyvale\",\"university of arizona\"],[\"software engineer\",\"university of illinois at urbana - champaign\"],[\"deal strategist, global business practices\",\"loyola university chicago\"],[\"staff engineer and engineering manager\",\"massachusetts institute of technology\"],[\"senior software engineer\",\"oregon state university\"],[\"software engineer\",\"california polytechnic state university - san luis obispo\"],[\"user experience design manager\",\"new york university\"],[\"account executive\",\"indiana university bloomington\"],[\"product manager\",\"santa clara university\"],[\"security solutionstrategy\",\"stony brook university\"],[\"operations lead, cloud platform\",\"temple university rome\"],[\"program manager\",\"university of california, davis\"],[\"copywriter\",\"solano community college\"],[\"senior software engineer\",\"brown university\"],[\"administrative business partner\",\"san diego state university\"],[\"managing director, branded apparel and durables\",\"stanford university\"],[\"director of engineering\",\"university of washington\"],[\"senior user experience researcher\",\"university of michigan\"],[\"software engineer\",\"massachusetts institute of technology\"],[\"product manager, cloud ai\",\"the university of chicago booth school of business\"],[\"program manager, user care evolution\",\"harvard university\"],[\"product manager, cloud databases\",\"the university of texas at austin\"],[\"software engineer, machine learning\",\"university of california, berkeley\"],[\"head of product marketing, commerce\",\"university of wisconsin - madison\"],[\"senior software engineer\",\"sofia university st. kliment ohridski\"],[\"research operations manager\",\"northwestern university\"],[\"software engineer\",\"lehigh university\"],[\"cloud therapist\",\"university of michigan\"],[\"manager, google store order management\",\"cornell university\"],[\"general manager, vice president etc\",\"indian institute of technology, kharagpur\"],[\"product design lead\",\"university of michigan\"],[\"senior interaction designer\",\"the hong kong polytechnic university\"],[\"senior software engineer\",\"uc san diego\"],[\"visual design lead\",\"california polytechnic state university - san luis obispo\"],[\"group creative lead\",\"northern kentucky university\"],[\"sales manager, mobile apps, google marketing solutions\",\"university of california, berkeley\"],[\"client success manager\",\"san diego state university\"],[\"product marketing manager\",\"golden gate university\"],[\"software engineer\",\"mount holyoke college\"],[\"global director\",\"harvard university\"],[\"developer programs engineer manager\",\"university of southern california\"],[\"technical analytics architect, google cloud\",\"drexel university\"],[\"senior finance manager\",\"uc san diego\"],[\"houston metro market and global energy lead\",\"washington and lee university\"],[\"global creative director\",\"colorado state university\"],[\"engineering manager\",\"massachusetts institute of technology\"],[\"group product manager, search growth\",\"stanford university\"],[\"head of brand publishing\",\"james madison university\"],[\"head of finance data governance\",\"north carolina state university\"],[\"program manager iii, search\",\"hackbright academy\"],[\"senior software engineer\",\"harvey mudd college\"],[\"senior software engineer\",\"uc santa barbara\"],[\"interaction designer\",\"rochester institute of technology\"],[\"senior cloud value advisor\",\"boston university\"],[\"head of android intelligence desk\",\"harvard business school\"],[\"senior software engineer\",\"tsinghua university\"],[\"senior staff software engineer\",\"xi'an jiaotong university\"],[\"research scientist\",\"stanford university\"],[\"head of new business sales, us east\",\"tufts university\"],[\"product designer\",\"national university of singapore\"],[\"director of engineering, google cloud\",\"stanford university\"],[\"product manager, google wallet\",\"massachusetts institute of technology\"],[\"head of display and programmatic, customer success\",\"ucla anderson school of management\"],[\"product marketing manager, search\",\"american university\"],[\"senior technical solutions consultant\",\"loyola university chicago\"],[\"director, global product support, google cloud and google workspace\",\"gw investment institute\"],[\"account executive, elections and advocacy\",\"renmin university of china\"],[\"director of engineering in research\",\"massachusetts institute of technology\"],[\"network engineer\",\"uc berkeley extension\"],[\"software engineering manager\",\"university of central florida\"],[\"product manager\",\"university of california, berkeley\"],[\"corporate communications senior associate, google cloud\",\"santa clara university\"],[\"software engineer\",\"university of california, davis\"],[\"director, strategy and operations\",\"arizona state university\"],[\"senior staff engineer\",\"point loma nazarene university\"],[\"partnerships - tenor at google\",\"university of california, los angeles\"],[\"head of global technology ecosystem, google cloud\",\"drexel university\"],[\"software engineer\",\"texas a&m university\"],[\"marketing manager, health\",\"new york university\"],[\"senior software engineer\",\"university of pittsburgh\"],[\"software engineering manager\",\"hamilton college\"],[\"emergent markets and large governments lead, google for education\",\"university of california, berkeley\"],[\"hardware engineer\",\"massachusetts institute of technology\"],[\"head of sales, google cloud\",\"university of puget sound\"],[\"outbound product manager\",\"ohio university heritage college of osteopathic medicine\"],[\"3p games and developer marketing lead, stadia at google\",\"florida state university\"],[\"user experience program manager\",\"san jose state university\"],[\"product manager\",\"university of california, berkeley\"],[\"senior product manager\",\"university of massachusetts amherst\"],[\"director, partner management and strategy at stadia\",\"georgetown university\"],[\"head of marketing, google for games\",\"the wharton school\"],[\"vice president us sales, retail and technology\",\"california state university - sacramento\"],[\"head of scaled insights\",\"florida atlantic university - college of business\"],[\"founder in residence @ area 120\",\"cornell university\"],[\"partner development associate\",\"university of southern california\"],[\"software engineer\",\"thunderbird school of global management\"],[\"engineering manager and technical program manager\",\"the university of queensland\"],[\"director of engineering\",\"university of california, los angeles\"],[\"staff hardware engineer\",\"caltech\"],[\"senior staff software engineer\",\"michigan technological university\"],[\"engineering manager\",\"williams college\"],[\"senior program manager, cloud customer and partner experience\",\"uc santa barbara\"],[\"manager, technical services and product operations\",\"yale university\"],[\"senior software engineer\",\"university of illinois at urbana - champaign\"],[\"enterprise account manager\",\"calvin university\"],[\"product marketing manager, devices and services\",\"thammasat university\"],[\"global reverse logistics manager\",\"thunderbird school of global management\"],[\"staff software engineer\",\"massachusetts institute of technology\"],[\"partner solutions program manager\",\"university of limerick\"],[\"senior program manager - android security and privacy\",\"west texas a&m university\"],[\"program management, google cloud platform and technical infrastructure\",\"government college of technology\"],[\"head of contact centers and risk management, google hardware\",\"uc santa barbara\"],[\"head, google workspace security\",\"the university of texas at austin\"],[\"tech lead manager and staff software engineer\",\"western university\"],[\"vice president engineering\",\"university of southern california\"],[\"product marketing manager iii\",\"university of wisconsin - madison\"],[\"account manager, big box retail\",\"depaul university\"],[\"cloud and workspace developer advocate\",\"university of california, los angeles\"],[\"senior treasury analyst\",\"columbia business school\"],[\"partner engineer\",\"cornell university\"],[\"product cost analytics lead\",\"uc santa barbara\"],[\"workspace account executive\",\"university of colorado boulder\"],[\"global partner marketing @google\",\"university of miami herbert business school\"],[\"head of tv ads platform | broadcast, media and entertainment\",\"university of california, davis\"],[\"technical program manager\",\"karnataka law college, dharwad\"],[\"senior manager, user experience\",\"university of washington\"],[\"product manager, google image search\",\"university of southern california - marshall school of business\"],[\"director, user experience program management\",\"brown university\"],[\"senior software engineer and manager\",\"carnegie mellon university\"],[\"sales strategy and operations program manager, global revenue acceleration\",\"university of california, berkeley\"],[\"technical executive recruiter, search, google\",\"asnuntuck community college\"],[\"software engineer\",\"uc san diego\"],[\"sales enablement program manager- cloud programs and skills\",\"university of san francisco\"],[\"software engineer, tech lead\",\"georgia institute of technology\"],[\"robotics engineer\",\"stanford university\"],[\"product manager\",\"brown university\"],[\"territory sales manager\",\"valencia college\"],[\"software engineer\",\"rochester institute of technology\"],[\"senior user experience researcher\",\"eastern washington university\"],[\"deployment design and engineering\",\"assumption university\"],[\"senior product designer\",\"massachusetts college of art and design\"],[\"solutions specialist\",\"boston university\"],[\"senior software engineer\",\"pennsylvania state university\"],[\"gdc security manager\",\"hacc, central pennsylvania's community college\"],[\"senior software engineer\",\"brown university\"],[\"director of engineering\",\"brigham young university\"],[\"engineering leader - cloud ai platform\",\"ghulam ishaq khan institute\"],[\"technical account manager\",\"university of illinois at urbana - champaign\"],[\"financial analyst\",\"pepperdine university\"],[\"product manager\",\"tulane university\"],[\"head of cloud, customer engineering\",\"northwestern university\"],[\"product management\",\"university of southern california\"],[\"chromebooks for smb sales\",\"san jose state university\"],[\"tech strategy lead, security and compliance\",\"indiana university - kelley school of business\"],[\"reporting and analytics lead\",\"northwestern university\"],[\"senior director, google photos\",\"the university of chicago booth school of business\"],[\"strategic partnerships development\",\"jakarta intercultural school\"],[\"product lead\",\"university of michigan\"],[\"director of apac partner development, youtube\",\"university of california, berkeley\"],[\"software engineer\",\"university of florida\"],[\"site reliability engineer\",\"duke university\"],[\"senior product manager\",\"university of waterloo\"],[\"staff researcher at google\",\"university of north carolina at asheville\"],[\"product manager, local news experiments\",\"denison university\"],[\"global gtm strategy, google nest\",\"university of pennsylvania\"],[\"discovery staff attorney\",\"university of san francisco\"],[\"user experience research\",\"uc san diego\"],[\"engineering manager\",\"birla institute of technology and science, pilani\"],[\"employee relations manager\",\"university of california, berkeley\"],[\"product manager - google search\",\"tufts university\"],[\"software engineer\",\"rensselaer polytechnic institute\"],[\"staff software engineer\",\"the george washington university\"],[\"google user experience | program management\",\"williams college\"],[\"software engineer\",\"cornell university\"],[\"communications manager\",\"hofstra university\"],[\"product manager\",\"university of virginia\"],[\"events and experiences manager\",\"santa clara university\"],[\"senior software engineer\",\"university of michigan\"],[\"principal account manager\",\"brown university\"],[\"senior software engineer\",\"brown university\"],[\"fullmetal looker' staff engineer\",\"mckinley senior high school\"],[\"architecture advocate, google cloud platform at google\",\"kiski area high school\"],[\"technical lead and senior software engineer\",\"beihang university\"],[\"head of product marketing, laptops | devices and services marketing\",\"university of michigan\"],[\"program manager - regional demand planning\",\"michigan state university\"],[\"global process manager\",\"university of california, santa cruz\"],[\"senior staff software engineer, lead and manager, assistant smarthome\",\"university of michigan\"],[\"user experience design manager\",\"brigham young university\"],[\"head of global strategy and digital partnerships, android enterprise\",\"syracuse university\"],[\"technical sourcer\",\"de anza college\"],[\"engineering manager\",\"nagarjuna university\"],[\"user experience researcher\",\"monroe community college\"],[\"global product lead manager, acquisitions tooling and infrastructure\",\"brigham young university\"],[\"senior director software engineering\",\"university of california, los angeles\"],[\"sales strategy and operations manager\",\"university of california, davis\"],[\"product marketing manager special projects, devices and services marketing\",\"university of northern colorado\"],[\"global leader of google's veterans network\",\"ucla anderson school of management\"],[\"financial analyst\",\"creighton university\"],[\"youtube\",\"qalam wa lawh center for arabic studies, rabat, morocco\"],[\"group product manager\",\"the university of salford\"],[\"director, user experience\",\"university of illinois at urbana - champaign\"],[\"senior software engineer\",\"drexel university\"],[\"product manager\",\"carnegie mellon university\"],[\"account strategist | google customer solutions\",\"miami university\"],[\"senior user experience designer\",\"university of minnesota\"],[\"program manager, hiring infrastructure\",\"uc san diego\"],[\"head of industry, apps\",\"michigan state university\"],[\"software engineer\",\"georgetown university\"],[\"real estate partnerships lead\",\"morgan state university\"],[\"senior software engineer\",\"university of pennsylvania\"],[\"senior counsel\",\"university of pennsylvania\"],[\"head of sales and partnerships, bay area, google cloud\",\"university of california, davis\"],[\"product manager - derived analytics at google terra bella\",\"stanford university\"],[\"product manager\",\"harvard university\"],[\"product manager\",\"copenhagen business school\"],[\"senior technical solutions consultant\",\"university of miami herbert business school\"],[\"senior software engineer\",\"oberlin college\"],[\"senior partner lead\",\"university of illinois at urbana - champaign\"],[\"program manager, devices and services\",\"georgetown university\"],[\"product manager for pro tools le and hd hardware at digidesign and avid - co- founder\",\"stanford university\"],[\"program mergers and acquisitions support, google cloud\",\"university of mumbai\"],[\"senior software engineer\",\"massachusetts institute of technology\"],[\"senior software engineer\",\"university of california, berkeley\"],[\"senior software engineer\",\"university of maryland\"],[\"sales enablement lead, cloud solutions\",\"santa clara university\"],[\"program manager, insights and innovation, partner solutions\",\"stanford university\"],[\"senior user experience motion designer\",\"brigham young university\"],[\"supportability tech lead\",\"green mountain college\"],[\"director of user experience for chrome\",\"stanford university\"],[\"mobile engineering manager\",\"university of waterloo\"],[\"senior engineering manager\",\"caltech\"],[\"people operations advisory\",\"university of california, berkeley\"],[\"software engineer\",\"northwestern university\"],[\"head of design operations, fitbit at google\",\"valparaiso university\"],[\"integrity program manager\",\"indiana university bloomington\"],[\"senior software engineer\",\"university of california, berkeley\"],[\"art director\",\"san jose state university\"],[\"senior staff software engineer\",\"university of michigan\"],[\"test engineer\",\"rose - hulman institute of technology\"],[\"finance transformation\",\"case western reserve university\"],[\"shopping sales specialist\",\"nyu stern school of business\"],[\"global business lead\",\"penn state university\"],[\"product\",\"brown university\"],[\"isv sales specialist, google cloud\",\"georgetown university\"],[\"tech lead manager, discover\",\"indian institute of technology, bombay\"],[\"director of product management\",\"harvard university\"],[\"software engineer\",\"university of illinois at urbana - champaign\"],[\"campus security supervisor\",\"west valley college\"],[\"recruiting manager\",\"san jose state university\"],[\"technical solutions consultant\",\"yale university\"],[\"key account director - health care and life sciences\",\"insead\"],[\"publishers\",\"plymouth state university\"],[\"vice president, global ads\",\"university of maryland\"],[\"creative effectiveness lead\",\"nyu stern school of business\"],[\"principal software engineer\",\"tomsk state university of control systems and radioelectronics\"],[\"senior user experience design manager\",\"university of washington\"],[\"strategy and special projects, office of the chief executive officer\",\"northwestern university\"],[\"product management lead in cloud ai | retail search and recommendations | product discovery\",\"stanford university\"],[\"enterprise sales manager - google cloud platform\",\"georgetown university\"],[\"engineering manager and tech lead\",\"university of florida\"],[\"product manager\",\"facultad de humanidades de la sede de mendoza de la uca\"],[\"software engineer\",\"montana state university - bozeman\"],[\"senior software engineer\",\"university of california, davis\"],[\"product marketing manager, google lens\",\"university of michigan\"],[\"senior software engineer\",\"vanderbilt university\"],[\"technical solution engineering manager, google cloud\",\"the university of texas at austin\"],[\"senior interaction designer\",\"san diego state university\"],[\"technical writer\",\"boston university\"],[\"content marketing lead, youtube kids\",\"university of cambridge\"],[\"senior account manager\",\"oakland university\"],[\"lead program manager, webpass | google fiber\",\"stanford university\"],[\"head of infrastructure partnership team - google cloud\",\"university of california, berkeley\"],[\"systems design lead\",\"university of north texas\"],[\"site lead, identity infrastructure\",\"harvard - westlake school\"],[\"communications manager, news\",\"university of oregon\"],[\"interim digital marketing lead, sidewalk lab products\",\"university of california, berkeley\"],[\"event manager and producer, events and experiences, marvel marketers\",\"colgate university\"],[\"product manager\",\"university of pennsylvania\"],[\"product manager, attribution\",\"the wharton school\"],[\"technical program manager\",\"dartmouth college\"],[\"technical program manager - core server platform\",\"international fine arts college\"],[\"interaction designer\",\"city college of san francisco\"],[\"staff software engineer\",\"virginia tech\"],[\"sales operations systems manager\",\"universidad de california\"],[\"industry director, apps\",\"whitman college\"],[\"video ads solutions\",\"university of delaware\"],[\"head of product - cloud language and vision ai\",\"university of pennsylvania\"],[\"senior tech lead and software engineer\",\"cornell university\"],[\"software engineering manager\",\"carnegie mellon university\"],[\"business analysis program manager, privacy and security\",\"chapman university\"],[\"executive business partner\",\"northwest university\"],[\"senior director of engineering\",\"penn state university\"],[\"program manager\",\"university of colorado boulder\"],[\"user experience strategy and operations lead\",\"kenyon college\"],[\"cloud consultant\",\"university of maryland - robert h. smith school of business\"],[\"gaming and creator partnerships, youtube\",\"arcadia university\"],[\"software engineer\",\"cornell university\"],[\"engineering manager\",\"caltech\"],[\"global lead, healthcare strategy and partnership solutions\",\"stanford university graduate school of business\"],[\"engineering manager\",\"university of colorado boulder\"],[\"platforms industry manager\",\"stanford university\"],[\"team lead, text to speech\",\"trinity college - hartford\"],[\"software engineer\",\"university of south carolina\"],[\"product manager - chrome mobile\",\"ucla anderson school of management\"],[\"director of product\",\"stanford university\"],[\"security engineer\",\"uc irvine\"],[\"ai principles ethics specialist\",\"harvard university\"],[\"harvard business school\",\"university of southern california\"],[\"manager, npi product quality engineering\",\"university of florida\"],[\"senior ecommerce manager, customer solutions\",\"the university of texas at austin\"],[\"senior visual designer\",\"corcoran college of art + design\"],[\"director of product management, privacy and policy infrastructure\",\"university of washington\"],[\"software engineer\",\"iowa state university\"],[\"content group manager\",\"university of illinois at urbana - champaign\"],[\"product lead\",\"university of virginia\"],[\"software engineer\",\"uc santa barbara\"],[\"senior interaction designer\",\"boston university\"],[\"cloud program manager - data center transformation\",\"boston university\"],[\"global head of telco partnerships, ai solutions and emerging technologies\",\"delhi college of engineering\"],[\"sales manager, google customer solutions\",\"the university of tennessee at chattanooga\"],[\"executive communications\",\"columbus state community college\"],[\"senior software engineer\",\"rose - hulman institute of technology\"],[\"strategic partnerships\",\"clemson university\"],[\"system architect\",\"san jose state university\"],[\"account executive - google cloud\",\"elon university\"],[\"senior hardware engineer\",\"stanford university\"],[\"front end software engineer\",\"keller graduate school of management of devry university\"],[\"program manager\",\"university of california, berkeley\"],[\"corporate communications\",\"washinton university in st. louis\"],[\"software engineer\",\"stanford university\"],[\"noogler\",\"harvey mudd college\"],[\"product manager\",\"yale university\"],[\"manager, google.org\",\"stanford university\"],[\"interaction designer\",\"general assembly\"],[\"analytical lead, waze\",\"the university of georgia\"],[\"senior engineer\",\"vanderbilt university\"],[\"global lead technology and service provider engineering, cloud security\",\"xavier high school\"],[\"senior software engineer\",\"university of san francisco\"],[\"software engineer\",\"tsinghua university\"],[\"product manager\",\"dartmouth college\"],[\"data scientist, americas smb acquisition marketing\",\"harvey mudd college\"],[\"ios engineer\",\"bucknell university\"],[\"business partner\",\"pomona college\"],[\"senior manager\",\"georgia institute of technology\"],[\"senior partner technology manager\",\"boston university academy\"],[\"principal architect\",\"university of florida\"],[\"googler\",\"university of denver\"],[\"programs + events + social impact, google\",\"university of california, berkeley\"],[\"head of engineering, youtube gaming\",\"worcester polytechnic institute\"],[\"instructional designer, sales capabilities\",\"columbia university in the city of new york\"],[\"customer engineer\",\"university of nebraska at omaha\"],[\"program manager, job architecture\",\"santa cruz high school\"],[\"senior product manager\",\"university of victoria\"],[\"software engineer\",\"general assembly\"],[\"director, doubleclick search\",\"yale university\"],[\"group product manager\",\"clemson university\"],[\"staff devrel engineer\",\"boston university\"],[\"attorney\",\"university of california, berkeley\"],[\"principal architect\",\"university of colorado boulder\"],[\"creative technologist\",\"kent school\"],[\"user experience lead, google lens\",\"full sail university\"],[\"senior software engineer\",\"university of michigan\"],[\"director people partners\",\"uc santa barbara\"],[\"product management, google cloud platform\",\"department of technology, savitribai phule pune university\"],[\"senior user experience program manager\",\"ucl\"],[\"technical engineering recruiter\",\"san francisco state university\"],[\"global small business marketing\",\"university of minnesota - carlson school of management\"],[\"apac activation manager\",\"general assembly\"],[\"software engineer\",\"yeshiva university\"],[\"software engineer\",\"university of minnesota\"],[\"corporate engineering manager\",\"san jose state university\"],[\"global strategy and operations manager\",\"brown university\"],[\"recruiting specialist\",\"university of california, los angeles\"],[\"product management for google meet\",\"university of california, davis\"],[\"senior staff hardware engineer\",\"stanford university\"],[\"user experience engineer - finance\",\"georgetown university\"],[\"director software engineering\",\"university of southampton\"],[\"senior software engineer\",\"university of central florida\"],[\"engineering leader\",\"doctor babasaheb ambedkar marathwada university\"],[\"product manager\",\"ecole des hautes etudes commerciales\"],[\"product policy lead, information quality\",\"stanford university\"],[\"google gtm program manager, customer insights\",\"university of mary washington\"],[\"swe\",\"carnegie mellon university\"],[\"staff software engineer\",\"university of illinois at urbana - champaign\"],[\"creative technologist\",\"minneapolis college of art and design\"],[\"operations program manager\",\"santa clara university\"],[\"senior google cloud platform program manager\",\"santa clara university\"],[\"global business lead\",\"miami university\"],[\"senior consultant\",\"university of notre dame\"],[\"software engineer\",\"uc irvine\"],[\"product manager\",\"university of california, los angeles\"],[\"global process manager\",\"loyola university chicago\"],[\"senior software engineer and manager\",\"cornell university\"],[\"program manager\",\"barnard college\"],[\"operations manager, trust and safety\",\"ie law school\"],[\"food services program manager - americas\",\"university of california, berkeley\"],[\"senior client lead\",\"universitat de barcelona\"],[\"global head of job architecture strategy and operations\",\"st. stephen's college, delhi\"],[\"software engineer\",\"the george washington university\"],[\"user experience research manager\",\"carnegie mellon university\"],[\"senior product manager, youtube commerce platform\",\"spelman college\"],[\"senior operations manager\",\"university of florida\"],[\"business controllership, play and platforms\",\"university of nevada, reno\"],[\"visual designer\",\"uc san diego\"],[\"senior software engineer\",\"new york university\"],[\"software engineer\",\"dallas county community college\"],[\"software engineer\",\"northeastern university\"],[\"software engineer\",\"nanyang technological university\"],[\"staff software engineer\",\"northeastern university\"],[\"software engineer\",\"university of wisconsin - parkside\"],[\"senior product support analyst\",\"de anza college\"],[\"visual designer\",\"honolulu community college\"],[\"senior software engineer\",\"university of minnesota\"],[\"product manager\",\"cornell university\"],[\"director of engineering, google drive\",\"university of california, los angeles\"],[\"program manager\",\"babson college\"],[\"technical program manager\",\"oklahoma state university\"],[\"business development and partnerships\",\"babson college\"],[\"enterprise sales engineering manager, looker\",\"university of virginia\"],[\"senior software engineer\",\"university of california, los angeles\"],[\"head of category planning and projects\",\"marist college\"],[\"director of engineering\",\"missouri university of science and technology\"],[\"staff business systems analyst\",\"hastings college\"],[\"global creative, unskippable labs\",\"ohio wesleyan university\"],[\"software engineer\",\"california state university, northridge\"],[\"program manager\",\"university of pittsburgh\"],[\"senior software engineer\",\"texas state university\"],[\"head of global product partnerships, google images and google lens\",\"syracuse university\"],[\"software engineer\",\"university of bristol law school\"],[\"trade compliance manager\",\"clemson university\"],[\"senior analyst - exchange media\",\"university of california, los angeles\"],[\"senior developer relations engineer, ethical ai, google research\",\"uc irvine\"],[\"senior account executive\",\"new york university\"],[\"key account executive, google cloud\",\"vanderbilt university\"],[\"administrative business partner\",\"san francisco state university\"],[\"u.s. multicultural performance lead\",\"calvin university\"],[\"human resources business partner - marketing\",\"penn state university\"],[\"senior research scientist\",\"brown university\"],[\"senior manager, user support operations\",\"university of california, berkeley\"],[\"onboarding program manager\",\"cornell university\"],[\"...\",\"stanford university\"],[\"senior software engineer\",\"university of california, davis\"],[\"head of user experience strategy and operations\",\"stanford university\"],[\"technical program manager\",\"miami university\"],[\"user experience\",\"california college of the arts\"],[\"principal designer - google fi\",\"san francisco state university\"],[\"account executive - google cloud\",\"rutgers university\"],[\"user experience research lead, commerce\",\"university of san francisco\"],[\"program manager, customer support applications\",\"lehigh university\"],[\"software engineering manager\",\"pomona college\"],[\"software engineer\",\"university of illinois at urbana - champaign\"],[\"senior user experience designer\",\"seoul national university\"],[\"senior interaction designer\",\"depaul university\"],[\"product marketing\",\"duke university\"],[\"program manager\",\"drexel university\"],[\"product manager\",\"villanova university\"],[\"antenna design manager\",\"washington state university\"],[\"senior sales engineer, alliances, looker\",\"mercersburg academy\"],[\"senior staff software engineer\",\"saint petersburg state electrotechnical university \\\"leti\\\"\\u200b\"],[\"product manager\",\"massachusetts institute of technology\"],[\"design lead\",\"syracuse university\"],[\"android and play product legal director\",\"arizona state university\"],[\"director of product management\",\"rensselaer polytechnic institute\"],[\"site reliability engineering manager\",\"uc santa barbara\"],[\"program manager, google cloud\",\"azusa pacific university\"],[\"product manager\",\"university of chicago\"],[\"senior manager, sales program lead\",\"uc irvine\"],[\"product manager\",\"brigham young university\"],[\"senior finance project manager\",\"miami university\"],[\"engineering manager\",\"north carolina state university\"],[\"strategy and operations, google payments\",\"indian school muscat\"],[\"global partner technical enablement manager\",\"biola university\"],[\"technical program manager\",\"san jose state university\"],[\"product marketing manager\",\"middlebury college\"],[\"partners and channels\",\"harvard university\"],[\"software engineer\",\"devry university\"],[\"policy specialist iii\",\"university of california, berkeley\"],[\"program manager - engineering compliance\",\"the university of georgia\"],[\"operations analyst\",\"brown university\"],[\"design lead ambient computing\",\"university of california, berkeley\"],[\"strategic cloud engineer\",\"the johns hopkins university\"],[\"sales programs manager\",\"grossmont college\"],[\"strategic capacity planning program manager\",\"rensselaer polytechnic institute\"],[\"research scientist\",\"carnegie mellon university\"],[\"senior interaction designer\",\"s.i. newhouse school of public communications at syracuse university\"],[null,\"columbia | sipa\"],[\"design\",\"san francisco state university\"],[\"staff software engineer\",\"unsw\"],[\"technical writer\",\"university of california, berkeley\"],[\"product manager, project stream\",\"university of california, santa cruz\"],[\"head of google search and assistant distribution, partnerships bd\",\"the wharton school\"],[\"senior software engineer\",\"university of southern california\"],[\"chief of staff, google cloud healthcare\",\"university of michigan\"],[\"senior software engineer and tech lead\",\"university of illinois at urbana - champaign\"],[\"director, business development\",\"the wharton school\"],[\"industry director, consumer electronics\",\"san jose state university\"],[\"npi operations program manager\",\"university of california, berkeley\"],[\"product manager for google cloud\",\"lyc\\u00e9e priv\\u00e9 de marcq\"],[\"staff software engineer\",\"stanford university\"],[\"senior software engineer\",\"harvard university\"],[\"google cloud, commercial deal management\",\"santa clara university\"],[\"senior staff user experience engineer\",\"university of phoenix\"],[\"brand marketing and communications manager, the google school for leaders\",\"university of iowa\"],[\"staff software engineer\",\"rensselaer polytechnic institute\"],[\"staff software engineer\",\"brown university\"],[\"senior site reliability engineer\",\"irvine valley college\"],[\"head of customer engineering\",\"california state university, long beach\"],[\"senior software test engineer\",\"rensselaer polytechnic institute\"],[\"global head of business development, google one\",\"university of michigan - stephen m. ross school of business\"],[\"software engineer\",\"university of wyoming\"],[\"program manager\",\"university of illinois at urbana - champaign\"],[\"technical director of ai, google cloud, office of the chief technology officer\",\"university of illinois at urbana - champaign\"],[\"director, user experience: office of the chief executive officer\",\"the university of kansas\"],[\"product manager\",\"brown university\"],[\"partner marketing | google fi\",\"parsons school of design - the new school\"],[\"manager, google cloud product support, looker\",\"university of california, santa cruz\"],[\"head of community engagement, grow with google\",\"central college\"],[\"group product manager\",\"columbia university in the city of new york\"],[\"human resources benefits manager\",\"texas state university\"],[\"product marketing manager\",\"universitat pompeu fabra\"],[\"cloud engineering\",\"dayalbagh educational institute, agra\"],[\"software engineer\",\"university of southern california\"],[\"datacenter technician\",\"university of tennessee at martin\"],[\"product management and consumer strategy\",\"massachusetts institute of technology\"],[\"group product manager\",\"university of maryland\"],[\"global tax technology\",\"depaul university\"],[\"director of product management\",\"massachusetts institute of technology\"],[\"product manager\",\"carnegie mellon university\"],[\"senior staff software engineer\",\"carnegie mellon university\"],[\"senior user experience engineer for google assistant\",\"uc santa barbara\"],[\"partner engineer, google assistant\",\"anacortes high school\"],[\"vice president, google and president of google.org\",\"harvard university\"],[\"group product manager\",\"harvard university\"],[\"senior software development engineer\",\"university of michigan\"],[\"software engineer\",\"university of calgary\"],[\"product and business strategy, office of the chief executive officer\",\"university of california, los angeles\"],[\"senior product technology manager\",\"university of california, los angeles\"],[\"product strategy\",\"massachusetts institute of technology\"],[\"critical incident manager\",\"university of phoenix\"],[\"global business operations and strategy lead, youtube spaces\",\"new york university\"],[\"senior staff interaction designer\",\"university of california, los angeles\"],[\"senior director of software engineering\",\"harvard university\"],[\"software\",\"rensselaer polytechnic institute\"],[\"senior product designer\",\"university of wisconsin - stout\"],[\"senior software engineer\",\"uc irvine\"],[\"senior software engineer\",\"rensselaer polytechnic institute\"],[\"senior software engineer\",\"duke university\"],[\"program manager, google assistant\",\"university of connecticut\"],[\"customer engineer, google cloud\",\"otto - friedrich - universit\\u00e4t bamberg\"],[\"lead technical recruiter - chief of staff and product operations and strategy\",\"william & mary\"],[\"strategic account executive\",\"the university of alabama in huntsville\"],[\"lead product analyst\",\"yale university\"],[\"partnerships, stadia games and entertainment @ google\",\"ucla anderson school of management\"],[\"principal architect\",\"university of dayton\"],[\"senior software engineer\",\"university of pennsylvania\"],[\"product management\",\"university of california, los angeles\"],[\"partner engineer, google cloud\",\"florida state university\"],[\"managing director\",\"university of north carolina at chapel hill\"],[\"creative editor\",\"stanford university\"],[\"human resources program manager\",\"relay graduate school of education\"],[\"engineering manager\",\"cornell university\"],[\"staffing manager\",\"null\"],[\"program and portfolio manager - google discover\",\"university of california, san diego - rady school of management\"],[\"technical program manager-sre\",\"null\"],[\"global account lead, coca-cola\",\"vanderbilt university\"],[\"authorable workflow program manager\",\"university at albany, suny\"],[\"engineering manager\",\"stanford university\"],[\"senior interaction designer\",\"fashion institute of technology\"],[\"growing the partner universe @ google\",\"indiana university - kelley school of business\"],[\"technical program manager\",\"stevens institute of technology\"],[\"chrome enterprise customer engineer\",\"purdue university\"],[\"head of customer solutions engineering\",\"stanford university\"],[\"staff software engineer\",\"the university of texas at austin\"],[\"technical lead\",\"california polytechnic state university - san luis obispo\"]],\"hovertemplate\":\"lat=%{lat}<br>lon=%{lon}<br>job_title=%{customdata[0]}<br>school=%{customdata[1]}<extra></extra>\",\"lat\":[37.77,37.57,37.33,37.8,37.33,42.88,40.78,37.33,40.71,37.88,37.38,37.54,37.35,42.33,37.77,34.18,37.77,37.87,37.77,37.44,37.48,37.77,40.74,37.77,37.77,37.38,37.77,37.77,37.44,37.77,37.36,47.6,37.77,41.91,26.01,37.8,37.36,37.77,37.54,36.51,37.5,37.54,30.26,37.33,37.77,37.77,37.36,37.48,42.38,37.33,37.38,37.5,47.6,37.8,37.77,37.36,37.77,37.22,37.77,34.01,37.87,37.56,37.77,38.89,37.77,37.36,40.65,37.5,34.05,40.71,37.42,39.73,30.26,41.82,37.77,40.65,37.36,41.33,34.07,37.33,37.66,37.77,33.88,34.05,41.92,37.35,37.87,37.85,37.77,37.38,37.48,34.39,37.26,37.38,45.67,37.38,37.38,39.73,40.71,37.55,40.65,37.38,40.71,37.77,32.99,37.77,37.93,30.5,37.77,37.22,37.8,40.85,37.77,37.33,37.8,39.08,40.65,37.45,47.6,38.25,37.77,34.05,40.71,42.97,37.36,29.99,41.85,32.78,37.66,37.77,34.16,37.87,37.44,38.23,37.38,42.25,37.45,33.55,37.77,34.01,37.77,37.38,37.44,37.33,37.36,34.01,41.03,38.89,37.38,37.77,37.48,37.48,37.38,37.35,44.93,37.26,30.26,40.71,40.71,37.36,37.77,37.45,37.32,37.48,39.32,40.68,39.78,33.74,37.77,37.13,37.77,40.74,36.97,37.45,33.61,42.37,37.77,30.26,34.21,37.44,37.77,37.77,37.38,37.77,33.46,37.77,37.48,37.44,40.01,37.5,37.77,37.77,37.36,37.77,40.71,35.92,37.77,37.77,37.77,42.33,37.77,40.63,40.71,38.41,37.33,37.8,40.65,37.77,37.77,30.26,33.77,37.77,37.38,42.45,37.8,37.77,37.5,47.57,37.92,37.77,40.65,37.77,37.77,40.65,37.26,37.8,33.61,41.85,37.77,40.71,37.56,33.74,37.33,37.87,40.16,37.33,37.35,37.59,43.1,40.65,37.8,37.77,37.8,37.77,37.77,37.8,37.8,39.73,36.97,34.5,40.71,37.8,47.6,37.55,39.95,37.33,37.77,40.71,37.77,37.33,37.77,47.57,37.45,34.07,37.5,37.77,37.87,28.93,41.11,34.05,40.94,37.45,40.74,37.33,37.35,42.41,33.74,40.71,40.71,40.74,37.77,37.45,40.66,37.77,37.77,37.33,37.33,37.54,41.76,37.77,37.77,37.48,37.77,37.33,37.38,37.77,37.38,37.26,37.55,37.35,37.38,40.05,21.3,40.65,39.7,40.71,37.33,37.87,37.52,40.01,37.76,37.54,37.9,40.65,37.35,37.26,37.38,37.56,37.77,37.87,37.56,37.45,37.7,37.77,30.26,37.26,34.18,37.45,37.91,37.36,45.52,38.0,37.56,40.05,37.54,37.38,37.52,37.36,30.08,37.77,42.11,33.74,37.93,34.05,47.68,37.58,37.45,37.77,37.45,42.27,37.26,37.77,40.01,37.33,36.97,37.33,40.94,33.98,37.26,42.32,37.77,37.26,37.13,40.76,37.45,37.44,37.48,37.77,37.77,37.44,37.38,47.67,37.52,34.43,37.77,37.77,37.32,40.71,33.76,37.33,37.77,37.38,40.71,42.25,41.38,40.71,37.77,37.33,37.38,37.77,41.07,34.09,40.74,40.01,36.74,37.8,37.55,40.16,37.77,33.77,39.83,37.36,47.6,40.65,37.77,37.33,37.36,37.9,47.61,34.2,42.35,34.05,41.08,37.77,37.77,40.65,36.97,21.4,41.85,37.8,37.77,37.77,40.77,40.65,37.54,37.54,37.77,37.77,38.1,37.56,37.33,42.85,37.38,37.36,33.88,39.95,39.72,37.7,47.61,37.8,37.56,34.02,40.65,35.22,42.44,47.64,37.77,40.65,37.5,37.77,40.97,37.77,32.71,37.54,40.71,37.45,37.56,39.95,37.77,30.26,37.77,42.33,37.45,40.65,37.22,39.52,37.63,37.33,37.8,33.95,34.05,37.44,37.66,40.65,40.65,37.33,37.44,37.5,37.8,37.77,37.38,40.71,38.89,37.45,37.33,30.26,37.66,37.77,37.38,37.22,34.18,34.2,37.33,35.92,41.85,37.35,37.77,37.76,37.77,37.48,40.77,47.6,37.33,37.38,34.42,40.71,37.77,37.5,40.65,37.82,37.77,38.89,37.0,37.32,37.42,37.38,37.87,37.77,34.2,39.97,45.52,33.66,40.71,38.57,37.77,30.43,37.26,37.48,37.36,37.36,37.36,37.77,41.62,37.13,37.8,37.32,37.77,40.71,37.77,37.66,37.38,47.76,37.77,37.77,38.25,37.87,42.67,33.52,37.77,37.33,47.6,40.71,28.66,37.77,37.66,37.33,37.77,41.78,34.05,34.86,42.38,33.66,37.38,44.98,37.77,33.57,42.25,37.5,37.68,42.04,37.77,37.77,37.44,37.44,37.77,37.13,37.52,37.77,37.8,37.77,37.38,37.48,37.77,37.32,37.77,40.65,37.77,38.98,40.71,43.41,37.61,37.5,37.22,37.87,42.28,40.65,37.08,40.44,37.36,37.38,36.97,37.77,37.33,33.42,37.77,38.88,37.26,37.77,37.48,37.38,37.77,33.97,37.44,37.48,37.77,37.77,42.27,42.38,40.71,40.93,47.6,37.77,41.85,40.71,33.74,40.71,37.77,37.33,41.12,37.32,37.77,41.85,40.71,41.85,37.87,37.77,37.7,40.71,37.38,37.77,37.33,37.52,37.44,42.35,37.77,37.77,40.65,37.63,47.6,37.77,37.33,33.66,36.97,37.33,37.77,37.36,40.65,37.77,37.77,40.71,34.02,40.71,37.33,37.33,37.48,37.38,41.43,38.62,39.29,37.77,37.38,37.77,40.71,37.44,37.97,40.77,37.77,37.36,37.77,37.77,37.77,30.43,37.77,37.77,41.15,42.48,37.45,37.52,45.44,37.87,37.8,40.65,40.91,37.66,36.97,37.38,37.77,37.8,37.35,36.97,37.8,40.71,37.91,40.72,37.32,37.77,37.8,37.46,37.77,37.87,38.98,40.71,37.56,37.8,37.77,40.01,27.49,40.66,37.38,37.56,37.45,37.33,37.33,33.94,33.87,40.71,38.89,47.6,37.93,36.17,37.76,37.94,37.77,40.65,37.45,37.48,39.88,40.65,37.97,37.33,34.23,37.5,33.64,37.36,37.77,37.38,40.93,40.65,36.5,32.94,36.81,37.32,40.74,37.55,37.55,43.03,37.77,37.77,34.05,37.38,37.77,37.77,37.36,37.77,37.8,37.44,41.26,37.77,37.77,37.77,37.37,37.77,37.92,37.77,37.82,40.71,37.44,37.77,37.22,37.36,47.64,37.66,37.77,39.73,40.71,47.6,37.58,42.37,37.33,37.66,37.44,37.77,37.38,47.6,47.76,37.36,37.37,38.89,40.71,34.05,40.65,37.33,37.33,38.75,36.97,33.78,37.56,41.85,47.6,40.65,37.33,40.71,40.71,37.28,40.71,37.48,41.85,37.36,37.68,40.71,40.72,37.32,40.65,47.68,42.35,37.8,37.33,37.63,37.77,37.48,34.05,39.76,40.31,34.05,40.65,37.59,37.77,37.33,37.7,42.61,46.87,40.44,40.65,40.71,34.01,37.77,40.65,37.77,40.65,37.5,37.77,40.71,37.45,37.28,37.59,37.77,37.44,37.36,37.38,37.33,44.38,37.8,38.98,37.77,41.15,37.36,37.33,37.33,37.36,37.77,37.77,27.77,37.36,37.38,37.44,37.77,40.83,37.33,37.33,34.14,34.1,47.6,37.33,37.32,43.23,37.48,37.77,30.26,37.65,37.77,37.77,39.83,37.8,40.71,38.99,37.77,38.88,36.97,37.33,47.6,40.74,37.8,37.32,37.87,37.76,37.05,37.38,37.54,33.88,34.26,37.44,37.54,37.77,37.52,42.37,37.77,37.36,39.99,37.77,40.78,42.37,33.78,33.64,42.41,40.71,30.43,40.11,37.38,37.38,37.44,37.77,36.97,37.36,40.71,37.35,37.77,42.35,37.35,36.43,42.33,40.71,41.99,37.44,37.55,37.38,37.68,37.9,37.87,37.38,37.38,40.85,37.45,33.46,42.38,32.6,34.01,37.36,42.33,42.42,37.8,33.6,40.82,47.6,37.38,40.71,38.8,34.12,37.77,34.15,37.83,40.71,37.54,33.74,38.98,37.28,37.77,37.65,37.33,37.7,37.32,33.74,39.67,37.42,47.6,34.05,40.65,42.34,37.38,37.77,37.45],\"lon\":[-122.41,-122.37,-121.89,-122.26,-121.89,-78.87,-74.05,-121.89,-74.0,-122.29,-122.08,-122.51,-121.95,-83.88,-122.41,-118.13,-122.41,-122.17,-122.41,-122.14,-122.23,-122.41,-74.03,-122.41,-122.41,-122.08,-122.41,-122.41,-122.14,-122.41,-122.03,-122.33,-122.41,-88.13,-80.14,-122.26,-122.03,-122.41,-121.98,-119.55,-122.25,-121.98,-97.74,-121.89,-122.41,-122.41,-122.03,-122.23,-71.42,-121.89,-122.08,-122.25,-122.33,-122.26,-122.41,-122.03,-122.41,-121.97,-122.41,-118.49,-122.27,-122.32,-122.41,-77.03,-122.41,-122.03,-73.95,-122.25,-118.24,-74.0,-121.9,-104.98,-97.74,-71.41,-122.41,-73.95,-122.03,-73.2,-84.29,-121.89,-122.07,-122.41,-84.51,-118.24,-73.89,-121.95,-122.17,-122.48,-122.41,-122.11,-122.23,-118.54,-122.02,-122.08,-111.03,-122.11,-122.08,-104.98,-74.0,-122.27,-73.95,-122.08,-74.0,-122.41,-117.27,-122.41,-122.34,-97.82,-122.41,-121.97,-122.26,-73.86,-122.41,-121.89,-122.26,-76.7,-73.95,-122.18,-122.33,-85.75,-121.97,-118.24,-74.0,-88.1,-122.03,-95.26,-87.65,-96.8,-122.07,-122.41,-118.6,-122.27,-122.14,-122.63,-122.08,-71.0,-122.18,-117.21,-122.41,-118.49,-122.41,-122.08,-122.14,-121.89,-122.03,-118.49,-73.6,-121.07,-122.08,-122.41,-122.23,-122.23,-122.08,-121.95,-95.18,-122.02,-97.74,-74.0,-74.0,-122.03,-122.41,-122.18,-122.03,-122.23,-120.18,-80.1,-75.69,-84.38,-122.41,-121.65,-122.41,-74.03,-122.02,-122.18,-117.71,-71.1,-122.41,-97.74,-118.36,-122.14,-122.41,-122.41,-122.08,-122.41,-117.69,-122.41,-122.23,-122.14,-105.27,-122.25,-122.41,-122.41,-122.03,-122.41,-74.0,-86.86,-122.41,-122.41,-121.97,-83.88,-122.41,-73.6,-74.0,-121.27,-121.89,-122.26,-73.95,-122.41,-122.41,-97.74,-117.94,-122.41,-122.11,-71.14,-122.26,-122.41,-122.25,-122.22,-122.52,-122.41,-73.95,-122.41,-122.41,-73.95,-122.02,-122.26,-117.92,-87.65,-122.41,-74.0,-122.32,-84.38,-121.89,-122.17,-105.1,-121.89,-121.95,-121.88,-76.21,-73.95,-122.26,-122.41,-122.26,-122.41,-122.41,-122.26,-122.26,-104.98,-122.02,-96.96,-74.0,-122.26,-122.33,-122.27,-75.16,-121.89,-122.41,-74.0,-122.41,-121.89,-122.41,-122.22,-122.18,-84.29,-122.25,-122.41,-122.27,-81.94,-74.04,-118.24,-73.95,-122.18,-74.03,-121.89,-121.95,-71.16,-84.38,-74.0,-74.0,-73.94,-122.41,-122.18,-73.48,-122.41,-122.41,-121.89,-121.89,-121.98,-70.08,-122.41,-122.41,-122.23,-122.41,-121.89,-122.08,-122.41,-122.11,-122.02,-122.27,-121.95,-122.08,-105.04,-157.85,-73.95,-105.08,-74.0,-121.89,-122.45,-122.27,-105.27,-122.24,-121.98,-122.06,-73.95,-121.95,-122.02,-122.08,-122.32,-122.41,-122.27,-122.32,-122.18,-122.46,-122.41,-97.74,-122.02,-118.3,-122.18,-122.31,-122.03,-122.67,-121.8,-122.32,-105.04,-121.98,-122.11,-122.27,-122.03,-97.84,-122.41,-73.52,-117.82,-121.69,-118.24,-122.2,-122.36,-122.18,-122.41,-122.18,-83.74,-122.02,-122.41,-105.27,-121.89,-122.02,-121.89,-74.13,-118.45,-122.02,-71.22,-122.41,-122.02,-121.65,-111.89,-122.18,-122.14,-122.23,-122.41,-122.41,-122.14,-122.08,-122.12,-122.27,-119.82,-122.41,-122.41,-87.49,-74.0,-118.18,-121.89,-122.41,-122.11,-74.0,-71.0,-73.08,-74.0,-122.41,-121.89,-122.08,-122.41,-73.54,-118.36,-73.94,-105.27,-119.77,-122.26,-122.27,-105.1,-122.41,-84.29,-105.03,-122.03,-122.33,-73.95,-122.41,-121.89,-122.03,-122.06,-122.19,-84.14,-71.05,-118.24,-74.14,-122.41,-122.41,-73.95,-122.02,-157.73,-87.65,-122.26,-122.41,-122.41,-74.02,-73.95,-121.98,-121.98,-122.41,-122.41,-122.25,-122.32,-121.89,-73.88,-122.11,-122.03,-117.81,-75.16,-121.83,-121.93,-122.19,-122.26,-122.32,-118.39,-73.95,-80.84,-76.49,-122.07,-122.41,-73.95,-122.25,-122.41,-74.11,-122.41,-117.15,-121.98,-74.0,-122.18,-122.32,-75.16,-122.41,-97.74,-122.41,-71.12,-122.18,-73.95,-121.97,-119.81,-122.41,-121.89,-122.26,-84.54,-118.24,-122.14,-121.87,-73.95,-73.95,-121.89,-122.14,-122.25,-122.26,-122.41,-122.08,-74.0,-77.03,-122.18,-121.89,-97.74,-121.87,-122.41,-122.08,-121.97,-118.13,-118.53,-121.89,-86.86,-87.65,-121.95,-122.41,-122.24,-122.41,-122.23,-73.93,-122.33,-121.89,-122.08,-119.69,-74.0,-122.41,-122.25,-73.95,-121.99,-122.41,-77.08,-121.56,-122.03,-121.97,-122.08,-122.27,-122.41,-118.22,-105.13,-122.67,-117.82,-74.0,-81.99,-122.41,-97.62,-122.02,-122.23,-122.03,-122.03,-122.03,-122.41,-88.2,-121.65,-122.26,-122.03,-122.41,-74.0,-122.41,-121.87,-122.11,-122.2,-122.41,-122.41,-85.75,-122.27,-71.08,-86.8,-122.41,-121.89,-122.33,-74.0,-81.2,-122.41,-122.07,-121.89,-122.41,-88.14,-118.24,-85.83,-71.42,-117.82,-122.11,-93.26,-122.41,-117.63,-87.84,-122.25,-121.76,-87.69,-122.41,-122.41,-122.14,-122.14,-122.41,-121.65,-122.27,-122.41,-122.26,-122.41,-122.08,-122.23,-122.41,-122.03,-122.41,-73.95,-122.41,-77.1,-74.0,-93.53,-122.48,-122.25,-121.97,-122.17,-71.24,-73.95,-122.08,-79.99,-122.03,-122.23,-122.02,-122.41,-121.89,-117.61,-122.41,-77.3,-122.02,-122.41,-122.23,-122.11,-122.41,-118.42,-122.14,-122.23,-122.41,-122.41,-89.09,-71.1,-74.0,-73.83,-122.33,-122.41,-87.65,-74.0,-84.38,-74.0,-122.41,-121.89,-73.71,-122.03,-122.41,-87.65,-74.0,-87.65,-122.17,-122.41,-121.93,-74.0,-122.08,-122.41,-121.89,-122.27,-122.14,-71.35,-122.41,-122.41,-73.95,-122.41,-122.33,-122.41,-121.89,-117.82,-121.95,-121.89,-122.41,-122.03,-73.95,-122.41,-122.41,-74.0,-84.61,-74.0,-121.89,-121.89,-122.23,-122.08,-81.38,-90.19,-76.61,-122.41,-122.11,-122.41,-74.0,-122.14,-122.53,-73.93,-122.41,-122.03,-121.97,-122.41,-122.41,-97.62,-122.41,-122.41,-73.76,-83.14,-122.18,-122.27,-122.52,-122.17,-122.26,-73.95,-74.38,-121.87,-122.02,-122.08,-122.41,-122.26,-121.95,-122.02,-122.26,-74.0,-122.31,-74.07,-122.03,-122.41,-122.26,-122.42,-122.41,-122.27,-76.93,-74.0,-122.32,-122.26,-122.41,-105.27,-82.57,-73.55,-122.08,-122.32,-122.18,-121.89,-121.89,-118.08,-117.86,-74.0,-77.08,-122.33,-122.34,-115.13,-122.24,-121.93,-122.41,-73.95,-122.18,-122.23,-83.09,-73.95,-122.53,-121.89,-84.49,-122.25,-117.6,-122.03,-122.41,-122.08,-73.83,-73.95,-121.44,-96.72,-76.27,-122.03,-73.03,-122.27,-122.27,-87.9,-122.41,-122.41,-118.24,-122.08,-122.41,-122.41,-122.03,-122.41,-122.26,-122.14,-95.86,-122.41,-122.41,-122.41,-122.13,-122.41,-122.52,-122.41,-121.99,-74.0,-122.14,-122.41,-121.97,-122.03,-122.07,-122.07,-122.41,-104.98,-74.0,-122.33,-122.36,-83.47,-121.89,-121.87,-122.14,-122.41,-122.11,-122.33,-122.2,-122.03,-122.13,-77.03,-74.0,-118.24,-73.95,-121.89,-121.89,-121.28,-122.02,-117.85,-122.32,-87.65,-122.33,-73.95,-121.89,-74.0,-74.0,-121.94,-74.0,-122.23,-87.65,-122.03,-121.76,-74.0,-74.07,-122.03,-73.95,-122.2,-71.05,-122.26,-121.89,-122.41,-122.41,-122.23,-118.24,-86.15,-74.61,-118.24,-73.95,-122.01,-122.41,-121.89,-121.93,-70.66,-113.99,-79.99,-73.95,-74.0,-118.49,-122.41,-73.95,-122.41,-73.95,-122.25,-122.41,-74.0,-122.18,-121.94,-122.01,-122.41,-122.14,-122.03,-122.11,-121.89,-71.17,-122.26,-77.53,-122.41,-74.19,-122.03,-121.89,-121.89,-122.03,-122.41,-122.41,-82.67,-122.03,-122.08,-122.14,-122.41,-73.03,-121.89,-121.89,-118.14,-117.8,-122.33,-121.89,-122.03,-86.24,-122.23,-122.41,-97.74,-122.4,-122.41,-122.41,-105.03,-122.26,-74.0,-77.02,-122.41,-77.17,-121.95,-121.89,-122.33,-73.94,-122.26,-122.03,-122.17,-122.24,-122.01,-122.08,-121.98,-118.41,-118.78,-122.14,-121.98,-122.41,-122.27,-71.1,-122.41,-122.03,-105.08,-122.41,-74.05,-71.1,-117.85,-117.68,-71.15,-74.0,-97.62,-105.38,-122.11,-122.08,-122.14,-122.41,-121.89,-122.03,-74.0,-121.95,-122.41,-71.35,-121.95,-87.48,-71.2,-74.0,-88.14,-122.14,-122.27,-122.08,-122.39,-122.06,-122.17,-122.23,-122.08,-73.86,-122.18,-117.69,-71.42,-85.48,-118.49,-122.03,-71.12,-71.51,-122.26,-117.74,-72.73,-122.33,-122.11,-74.0,-77.32,-84.0,-122.41,-118.44,-122.12,-74.0,-121.98,-84.38,-77.1,-121.94,-122.41,-122.4,-121.89,-121.93,-122.03,-84.38,-76.09,-122.16,-122.33,-118.24,-73.95,-88.04,-122.08,-122.41,-122.18],\"name\":\"\",\"radius\":10,\"subplot\":\"mapbox\",\"type\":\"densitymapbox\"},{\"colorscale\":[[0.0,\"rgb(255,245,240)\"],[0.125,\"rgb(254,224,210)\"],[0.25,\"rgb(252,187,161)\"],[0.375,\"rgb(252,146,114)\"],[0.5,\"rgb(251,106,74)\"],[0.625,\"rgb(239,59,44)\"],[0.75,\"rgb(203,24,29)\"],[0.875,\"rgb(165,15,21)\"],[1.0,\"rgb(103,0,13)\"]],\"hovertext\":\"company HQ\",\"lat\":[37.38],\"lon\":[-122.08],\"radius\":15,\"type\":\"densitymapbox\"}],                        {\"coloraxis\":{\"colorscale\":[[0.0,\"#440154\"],[0.1111111111111111,\"#482878\"],[0.2222222222222222,\"#3e4989\"],[0.3333333333333333,\"#31688e\"],[0.4444444444444444,\"#26828e\"],[0.5555555555555556,\"#1f9e89\"],[0.6666666666666666,\"#35b779\"],[0.7777777777777778,\"#6ece58\"],[0.8888888888888888,\"#b5de2b\"],[1.0,\"#fde725\"]]},\"legend\":{\"tracegroupgap\":0},\"mapbox\":{\"accesstoken\":\"pk.eyJ1IjoidHJhY3ljaGFybGVzMTA4IiwiYSI6ImNsMjJmdmUzajFmeXcza3BkOXgwOWZoNW4ifQ.bFv6klpNU8XWRbEJ0zk1Dw\",\"center\":{\"lat\":38.19527272727275,\"lon\":-110.09273737373763},\"domain\":{\"x\":[0.0,1.0],\"y\":[0.0,1.0]},\"style\":\"carto-positron\",\"zoom\":3},\"margin\":{\"b\":0,\"l\":0,\"r\":0,\"t\":0},\"template\":{\"data\":{\"bar\":[{\"error_x\":{\"color\":\"#2a3f5f\"},\"error_y\":{\"color\":\"#2a3f5f\"},\"marker\":{\"line\":{\"color\":\"#E5ECF6\",\"width\":0.5},\"pattern\":{\"fillmode\":\"overlay\",\"size\":10,\"solidity\":0.2}},\"type\":\"bar\"}],\"barpolar\":[{\"marker\":{\"line\":{\"color\":\"#E5ECF6\",\"width\":0.5},\"pattern\":{\"fillmode\":\"overlay\",\"size\":10,\"solidity\":0.2}},\"type\":\"barpolar\"}],\"carpet\":[{\"aaxis\":{\"endlinecolor\":\"#2a3f5f\",\"gridcolor\":\"white\",\"linecolor\":\"white\",\"minorgridcolor\":\"white\",\"startlinecolor\":\"#2a3f5f\"},\"baxis\":{\"endlinecolor\":\"#2a3f5f\",\"gridcolor\":\"white\",\"linecolor\":\"white\",\"minorgridcolor\":\"white\",\"startlinecolor\":\"#2a3f5f\"},\"type\":\"carpet\"}],\"choropleth\":[{\"colorbar\":{\"outlinewidth\":0,\"ticks\":\"\"},\"type\":\"choropleth\"}],\"contour\":[{\"colorbar\":{\"outlinewidth\":0,\"ticks\":\"\"},\"colorscale\":[[0.0,\"#0d0887\"],[0.1111111111111111,\"#46039f\"],[0.2222222222222222,\"#7201a8\"],[0.3333333333333333,\"#9c179e\"],[0.4444444444444444,\"#bd3786\"],[0.5555555555555556,\"#d8576b\"],[0.6666666666666666,\"#ed7953\"],[0.7777777777777778,\"#fb9f3a\"],[0.8888888888888888,\"#fdca26\"],[1.0,\"#f0f921\"]],\"type\":\"contour\"}],\"contourcarpet\":[{\"colorbar\":{\"outlinewidth\":0,\"ticks\":\"\"},\"type\":\"contourcarpet\"}],\"heatmap\":[{\"colorbar\":{\"outlinewidth\":0,\"ticks\":\"\"},\"colorscale\":[[0.0,\"#0d0887\"],[0.1111111111111111,\"#46039f\"],[0.2222222222222222,\"#7201a8\"],[0.3333333333333333,\"#9c179e\"],[0.4444444444444444,\"#bd3786\"],[0.5555555555555556,\"#d8576b\"],[0.6666666666666666,\"#ed7953\"],[0.7777777777777778,\"#fb9f3a\"],[0.8888888888888888,\"#fdca26\"],[1.0,\"#f0f921\"]],\"type\":\"heatmap\"}],\"heatmapgl\":[{\"colorbar\":{\"outlinewidth\":0,\"ticks\":\"\"},\"colorscale\":[[0.0,\"#0d0887\"],[0.1111111111111111,\"#46039f\"],[0.2222222222222222,\"#7201a8\"],[0.3333333333333333,\"#9c179e\"],[0.4444444444444444,\"#bd3786\"],[0.5555555555555556,\"#d8576b\"],[0.6666666666666666,\"#ed7953\"],[0.7777777777777778,\"#fb9f3a\"],[0.8888888888888888,\"#fdca26\"],[1.0,\"#f0f921\"]],\"type\":\"heatmapgl\"}],\"histogram\":[{\"marker\":{\"pattern\":{\"fillmode\":\"overlay\",\"size\":10,\"solidity\":0.2}},\"type\":\"histogram\"}],\"histogram2d\":[{\"colorbar\":{\"outlinewidth\":0,\"ticks\":\"\"},\"colorscale\":[[0.0,\"#0d0887\"],[0.1111111111111111,\"#46039f\"],[0.2222222222222222,\"#7201a8\"],[0.3333333333333333,\"#9c179e\"],[0.4444444444444444,\"#bd3786\"],[0.5555555555555556,\"#d8576b\"],[0.6666666666666666,\"#ed7953\"],[0.7777777777777778,\"#fb9f3a\"],[0.8888888888888888,\"#fdca26\"],[1.0,\"#f0f921\"]],\"type\":\"histogram2d\"}],\"histogram2dcontour\":[{\"colorbar\":{\"outlinewidth\":0,\"ticks\":\"\"},\"colorscale\":[[0.0,\"#0d0887\"],[0.1111111111111111,\"#46039f\"],[0.2222222222222222,\"#7201a8\"],[0.3333333333333333,\"#9c179e\"],[0.4444444444444444,\"#bd3786\"],[0.5555555555555556,\"#d8576b\"],[0.6666666666666666,\"#ed7953\"],[0.7777777777777778,\"#fb9f3a\"],[0.8888888888888888,\"#fdca26\"],[1.0,\"#f0f921\"]],\"type\":\"histogram2dcontour\"}],\"mesh3d\":[{\"colorbar\":{\"outlinewidth\":0,\"ticks\":\"\"},\"type\":\"mesh3d\"}],\"parcoords\":[{\"line\":{\"colorbar\":{\"outlinewidth\":0,\"ticks\":\"\"}},\"type\":\"parcoords\"}],\"pie\":[{\"automargin\":true,\"type\":\"pie\"}],\"scatter\":[{\"marker\":{\"colorbar\":{\"outlinewidth\":0,\"ticks\":\"\"}},\"type\":\"scatter\"}],\"scatter3d\":[{\"line\":{\"colorbar\":{\"outlinewidth\":0,\"ticks\":\"\"}},\"marker\":{\"colorbar\":{\"outlinewidth\":0,\"ticks\":\"\"}},\"type\":\"scatter3d\"}],\"scattercarpet\":[{\"marker\":{\"colorbar\":{\"outlinewidth\":0,\"ticks\":\"\"}},\"type\":\"scattercarpet\"}],\"scattergeo\":[{\"marker\":{\"colorbar\":{\"outlinewidth\":0,\"ticks\":\"\"}},\"type\":\"scattergeo\"}],\"scattergl\":[{\"marker\":{\"colorbar\":{\"outlinewidth\":0,\"ticks\":\"\"}},\"type\":\"scattergl\"}],\"scattermapbox\":[{\"marker\":{\"colorbar\":{\"outlinewidth\":0,\"ticks\":\"\"}},\"type\":\"scattermapbox\"}],\"scatterpolar\":[{\"marker\":{\"colorbar\":{\"outlinewidth\":0,\"ticks\":\"\"}},\"type\":\"scatterpolar\"}],\"scatterpolargl\":[{\"marker\":{\"colorbar\":{\"outlinewidth\":0,\"ticks\":\"\"}},\"type\":\"scatterpolargl\"}],\"scatterternary\":[{\"marker\":{\"colorbar\":{\"outlinewidth\":0,\"ticks\":\"\"}},\"type\":\"scatterternary\"}],\"surface\":[{\"colorbar\":{\"outlinewidth\":0,\"ticks\":\"\"},\"colorscale\":[[0.0,\"#0d0887\"],[0.1111111111111111,\"#46039f\"],[0.2222222222222222,\"#7201a8\"],[0.3333333333333333,\"#9c179e\"],[0.4444444444444444,\"#bd3786\"],[0.5555555555555556,\"#d8576b\"],[0.6666666666666666,\"#ed7953\"],[0.7777777777777778,\"#fb9f3a\"],[0.8888888888888888,\"#fdca26\"],[1.0,\"#f0f921\"]],\"type\":\"surface\"}],\"table\":[{\"cells\":{\"fill\":{\"color\":\"#EBF0F8\"},\"line\":{\"color\":\"white\"}},\"header\":{\"fill\":{\"color\":\"#C8D4E3\"},\"line\":{\"color\":\"white\"}},\"type\":\"table\"}]},\"layout\":{\"annotationdefaults\":{\"arrowcolor\":\"#2a3f5f\",\"arrowhead\":0,\"arrowwidth\":1},\"autotypenumbers\":\"strict\",\"coloraxis\":{\"colorbar\":{\"outlinewidth\":0,\"ticks\":\"\"}},\"colorscale\":{\"diverging\":[[0,\"#8e0152\"],[0.1,\"#c51b7d\"],[0.2,\"#de77ae\"],[0.3,\"#f1b6da\"],[0.4,\"#fde0ef\"],[0.5,\"#f7f7f7\"],[0.6,\"#e6f5d0\"],[0.7,\"#b8e186\"],[0.8,\"#7fbc41\"],[0.9,\"#4d9221\"],[1,\"#276419\"]],\"sequential\":[[0.0,\"#0d0887\"],[0.1111111111111111,\"#46039f\"],[0.2222222222222222,\"#7201a8\"],[0.3333333333333333,\"#9c179e\"],[0.4444444444444444,\"#bd3786\"],[0.5555555555555556,\"#d8576b\"],[0.6666666666666666,\"#ed7953\"],[0.7777777777777778,\"#fb9f3a\"],[0.8888888888888888,\"#fdca26\"],[1.0,\"#f0f921\"]],\"sequentialminus\":[[0.0,\"#0d0887\"],[0.1111111111111111,\"#46039f\"],[0.2222222222222222,\"#7201a8\"],[0.3333333333333333,\"#9c179e\"],[0.4444444444444444,\"#bd3786\"],[0.5555555555555556,\"#d8576b\"],[0.6666666666666666,\"#ed7953\"],[0.7777777777777778,\"#fb9f3a\"],[0.8888888888888888,\"#fdca26\"],[1.0,\"#f0f921\"]]},\"colorway\":[\"#636efa\",\"#EF553B\",\"#00cc96\",\"#ab63fa\",\"#FFA15A\",\"#19d3f3\",\"#FF6692\",\"#B6E880\",\"#FF97FF\",\"#FECB52\"],\"font\":{\"color\":\"#2a3f5f\"},\"geo\":{\"bgcolor\":\"white\",\"lakecolor\":\"white\",\"landcolor\":\"#E5ECF6\",\"showlakes\":true,\"showland\":true,\"subunitcolor\":\"white\"},\"hoverlabel\":{\"align\":\"left\"},\"hovermode\":\"closest\",\"mapbox\":{\"style\":\"light\"},\"paper_bgcolor\":\"white\",\"plot_bgcolor\":\"#E5ECF6\",\"polar\":{\"angularaxis\":{\"gridcolor\":\"white\",\"linecolor\":\"white\",\"ticks\":\"\"},\"bgcolor\":\"#E5ECF6\",\"radialaxis\":{\"gridcolor\":\"white\",\"linecolor\":\"white\",\"ticks\":\"\"}},\"scene\":{\"xaxis\":{\"backgroundcolor\":\"#E5ECF6\",\"gridcolor\":\"white\",\"gridwidth\":2,\"linecolor\":\"white\",\"showbackground\":true,\"ticks\":\"\",\"zerolinecolor\":\"white\"},\"yaxis\":{\"backgroundcolor\":\"#E5ECF6\",\"gridcolor\":\"white\",\"gridwidth\":2,\"linecolor\":\"white\",\"showbackground\":true,\"ticks\":\"\",\"zerolinecolor\":\"white\"},\"zaxis\":{\"backgroundcolor\":\"#E5ECF6\",\"gridcolor\":\"white\",\"gridwidth\":2,\"linecolor\":\"white\",\"showbackground\":true,\"ticks\":\"\",\"zerolinecolor\":\"white\"}},\"shapedefaults\":{\"line\":{\"color\":\"#2a3f5f\"}},\"ternary\":{\"aaxis\":{\"gridcolor\":\"white\",\"linecolor\":\"white\",\"ticks\":\"\"},\"baxis\":{\"gridcolor\":\"white\",\"linecolor\":\"white\",\"ticks\":\"\"},\"bgcolor\":\"#E5ECF6\",\"caxis\":{\"gridcolor\":\"white\",\"linecolor\":\"white\",\"ticks\":\"\"}},\"title\":{\"x\":0.05},\"xaxis\":{\"automargin\":true,\"gridcolor\":\"white\",\"linecolor\":\"white\",\"ticks\":\"\",\"title\":{\"standoff\":15},\"zerolinecolor\":\"white\",\"zerolinewidth\":2},\"yaxis\":{\"automargin\":true,\"gridcolor\":\"white\",\"linecolor\":\"white\",\"ticks\":\"\",\"title\":{\"standoff\":15},\"zerolinecolor\":\"white\",\"zerolinewidth\":2}}}},                        {\"responsive\": true}                    ).then(function(){\n",
       "                            \n",
       "var gd = document.getElementById('010b68b0-a343-4474-a880-a3b21ef86815');\n",
       "var x = new MutationObserver(function (mutations, observer) {{\n",
       "        var display = window.getComputedStyle(gd).display;\n",
       "        if (!display || display === 'none') {{\n",
       "            console.log([gd, 'removed!']);\n",
       "            Plotly.purge(gd);\n",
       "            observer.disconnect();\n",
       "        }}\n",
       "}});\n",
       "\n",
       "// Listen for the removal of the full notebook cells\n",
       "var notebookContainer = gd.closest('#notebook-container');\n",
       "if (notebookContainer) {{\n",
       "    x.observe(notebookContainer, {childList: true});\n",
       "}}\n",
       "\n",
       "// Listen for the clearing of the current output cell\n",
       "var outputEl = gd.closest('.output');\n",
       "if (outputEl) {{\n",
       "    x.observe(outputEl, {childList: true});\n",
       "}}\n",
       "\n",
       "                        })                };                });            </script>        </div>"
      ]
     },
     "metadata": {},
     "output_type": "display_data"
    }
   ],
   "source": [
    "map(api_key, \"google\", 1000)"
   ]
  },
  {
   "cell_type": "code",
   "execution_count": 62,
   "id": "04a3809f",
   "metadata": {},
   "outputs": [
    {
     "name": "stdout",
     "output_type": "stream",
     "text": [
      "1197 available records in this search\n",
      "Retrieved 100 records in batch 1\n",
      "Retrieved 100 records in batch 2\n",
      "Retrieved 100 records in batch 3\n",
      "Retrieved 100 records in batch 4\n",
      "Retrieved 100 records in batch 5\n",
      "Retrieved 100 records in batch 6\n",
      "Retrieved 100 records in batch 7\n",
      "Retrieved 100 records in batch 8\n",
      "Retrieved 100 records in batch 9\n",
      "Retrieved 100 records in batch 10\n",
      "Retrieved 100 records in batch 11\n",
      "Retrieved 97 records in batch 12\n",
      "Retrieved 0 records in batch 13\n",
      "Successfully recovered 1197 profiles in 14 batches [110.40964937210083 seconds]\n",
      "status: 404 total: 1197\n",
      "Wrote 1 lines to: 'netflix-1_employees.csv'\n",
      "Wrote 2 lines to: 'netflix-1_employees.csv'\n",
      "Wrote 3 lines to: 'netflix-1_employees.csv'\n",
      "Wrote 4 lines to: 'netflix-1_employees.csv'\n",
      "Wrote 5 lines to: 'netflix-1_employees.csv'\n",
      "Wrote 6 lines to: 'netflix-1_employees.csv'\n",
      "Wrote 7 lines to: 'netflix-1_employees.csv'\n",
      "Wrote 8 lines to: 'netflix-1_employees.csv'\n",
      "Wrote 9 lines to: 'netflix-1_employees.csv'\n",
      "Wrote 10 lines to: 'netflix-1_employees.csv'\n",
      "Wrote 11 lines to: 'netflix-1_employees.csv'\n",
      "Wrote 12 lines to: 'netflix-1_employees.csv'\n",
      "Wrote 13 lines to: 'netflix-1_employees.csv'\n",
      "Wrote 14 lines to: 'netflix-1_employees.csv'\n",
      "Wrote 15 lines to: 'netflix-1_employees.csv'\n",
      "Wrote 16 lines to: 'netflix-1_employees.csv'\n",
      "Wrote 17 lines to: 'netflix-1_employees.csv'\n",
      "Wrote 18 lines to: 'netflix-1_employees.csv'\n",
      "Wrote 19 lines to: 'netflix-1_employees.csv'\n",
      "Wrote 20 lines to: 'netflix-1_employees.csv'\n",
      "Wrote 21 lines to: 'netflix-1_employees.csv'\n",
      "Wrote 22 lines to: 'netflix-1_employees.csv'\n",
      "Wrote 23 lines to: 'netflix-1_employees.csv'\n",
      "Wrote 24 lines to: 'netflix-1_employees.csv'\n",
      "Wrote 25 lines to: 'netflix-1_employees.csv'\n",
      "Wrote 26 lines to: 'netflix-1_employees.csv'\n",
      "Wrote 27 lines to: 'netflix-1_employees.csv'\n",
      "Wrote 28 lines to: 'netflix-1_employees.csv'\n",
      "Wrote 29 lines to: 'netflix-1_employees.csv'\n",
      "Wrote 30 lines to: 'netflix-1_employees.csv'\n",
      "Wrote 31 lines to: 'netflix-1_employees.csv'\n",
      "Wrote 32 lines to: 'netflix-1_employees.csv'\n",
      "Wrote 33 lines to: 'netflix-1_employees.csv'\n",
      "Wrote 34 lines to: 'netflix-1_employees.csv'\n",
      "Wrote 35 lines to: 'netflix-1_employees.csv'\n",
      "Wrote 36 lines to: 'netflix-1_employees.csv'\n",
      "Wrote 37 lines to: 'netflix-1_employees.csv'\n",
      "Wrote 38 lines to: 'netflix-1_employees.csv'\n",
      "Wrote 39 lines to: 'netflix-1_employees.csv'\n",
      "Wrote 40 lines to: 'netflix-1_employees.csv'\n",
      "Wrote 41 lines to: 'netflix-1_employees.csv'\n",
      "Wrote 42 lines to: 'netflix-1_employees.csv'\n",
      "Wrote 43 lines to: 'netflix-1_employees.csv'\n",
      "Wrote 44 lines to: 'netflix-1_employees.csv'\n",
      "Wrote 45 lines to: 'netflix-1_employees.csv'\n",
      "Wrote 46 lines to: 'netflix-1_employees.csv'\n",
      "Wrote 47 lines to: 'netflix-1_employees.csv'\n",
      "Wrote 48 lines to: 'netflix-1_employees.csv'\n",
      "Wrote 49 lines to: 'netflix-1_employees.csv'\n",
      "Wrote 50 lines to: 'netflix-1_employees.csv'\n",
      "Wrote 51 lines to: 'netflix-1_employees.csv'\n",
      "Wrote 52 lines to: 'netflix-1_employees.csv'\n",
      "Wrote 53 lines to: 'netflix-1_employees.csv'\n",
      "Wrote 54 lines to: 'netflix-1_employees.csv'\n",
      "Wrote 55 lines to: 'netflix-1_employees.csv'\n",
      "Wrote 56 lines to: 'netflix-1_employees.csv'\n",
      "Wrote 57 lines to: 'netflix-1_employees.csv'\n",
      "Wrote 58 lines to: 'netflix-1_employees.csv'\n",
      "Wrote 59 lines to: 'netflix-1_employees.csv'\n",
      "Wrote 60 lines to: 'netflix-1_employees.csv'\n",
      "Wrote 61 lines to: 'netflix-1_employees.csv'\n",
      "Wrote 62 lines to: 'netflix-1_employees.csv'\n",
      "Wrote 63 lines to: 'netflix-1_employees.csv'\n",
      "Wrote 64 lines to: 'netflix-1_employees.csv'\n",
      "Wrote 65 lines to: 'netflix-1_employees.csv'\n",
      "Wrote 66 lines to: 'netflix-1_employees.csv'\n",
      "Wrote 67 lines to: 'netflix-1_employees.csv'\n",
      "Wrote 68 lines to: 'netflix-1_employees.csv'\n",
      "Wrote 69 lines to: 'netflix-1_employees.csv'\n",
      "Wrote 70 lines to: 'netflix-1_employees.csv'\n",
      "Wrote 71 lines to: 'netflix-1_employees.csv'\n",
      "Wrote 72 lines to: 'netflix-1_employees.csv'\n",
      "Wrote 73 lines to: 'netflix-1_employees.csv'\n",
      "Wrote 74 lines to: 'netflix-1_employees.csv'\n",
      "Wrote 75 lines to: 'netflix-1_employees.csv'\n",
      "Wrote 76 lines to: 'netflix-1_employees.csv'\n",
      "Wrote 77 lines to: 'netflix-1_employees.csv'\n",
      "Wrote 78 lines to: 'netflix-1_employees.csv'\n",
      "Wrote 79 lines to: 'netflix-1_employees.csv'\n",
      "Wrote 80 lines to: 'netflix-1_employees.csv'\n",
      "Wrote 81 lines to: 'netflix-1_employees.csv'\n",
      "Wrote 82 lines to: 'netflix-1_employees.csv'\n",
      "Wrote 83 lines to: 'netflix-1_employees.csv'\n",
      "Wrote 84 lines to: 'netflix-1_employees.csv'\n",
      "Wrote 85 lines to: 'netflix-1_employees.csv'\n",
      "Wrote 86 lines to: 'netflix-1_employees.csv'\n",
      "Wrote 87 lines to: 'netflix-1_employees.csv'\n",
      "Wrote 88 lines to: 'netflix-1_employees.csv'\n",
      "Wrote 89 lines to: 'netflix-1_employees.csv'\n",
      "Wrote 90 lines to: 'netflix-1_employees.csv'\n",
      "Wrote 91 lines to: 'netflix-1_employees.csv'\n",
      "Wrote 92 lines to: 'netflix-1_employees.csv'\n",
      "Wrote 93 lines to: 'netflix-1_employees.csv'\n",
      "Wrote 94 lines to: 'netflix-1_employees.csv'\n",
      "Wrote 95 lines to: 'netflix-1_employees.csv'\n",
      "Wrote 96 lines to: 'netflix-1_employees.csv'\n",
      "Wrote 97 lines to: 'netflix-1_employees.csv'\n",
      "Wrote 98 lines to: 'netflix-1_employees.csv'\n",
      "Wrote 99 lines to: 'netflix-1_employees.csv'\n",
      "Wrote 100 lines to: 'netflix-1_employees.csv'\n",
      "Wrote 101 lines to: 'netflix-1_employees.csv'\n",
      "Wrote 102 lines to: 'netflix-1_employees.csv'\n",
      "Wrote 103 lines to: 'netflix-1_employees.csv'\n",
      "Wrote 104 lines to: 'netflix-1_employees.csv'\n",
      "Wrote 105 lines to: 'netflix-1_employees.csv'\n",
      "Wrote 106 lines to: 'netflix-1_employees.csv'\n",
      "Wrote 107 lines to: 'netflix-1_employees.csv'\n",
      "Wrote 108 lines to: 'netflix-1_employees.csv'\n",
      "Wrote 109 lines to: 'netflix-1_employees.csv'\n",
      "Wrote 110 lines to: 'netflix-1_employees.csv'\n",
      "Wrote 111 lines to: 'netflix-1_employees.csv'\n",
      "Wrote 112 lines to: 'netflix-1_employees.csv'\n",
      "Wrote 113 lines to: 'netflix-1_employees.csv'\n",
      "Wrote 114 lines to: 'netflix-1_employees.csv'\n",
      "Wrote 115 lines to: 'netflix-1_employees.csv'\n",
      "Wrote 116 lines to: 'netflix-1_employees.csv'\n",
      "Wrote 117 lines to: 'netflix-1_employees.csv'\n",
      "Wrote 118 lines to: 'netflix-1_employees.csv'\n",
      "Wrote 119 lines to: 'netflix-1_employees.csv'\n",
      "Wrote 120 lines to: 'netflix-1_employees.csv'\n",
      "Wrote 121 lines to: 'netflix-1_employees.csv'\n",
      "Wrote 122 lines to: 'netflix-1_employees.csv'\n",
      "Wrote 123 lines to: 'netflix-1_employees.csv'\n",
      "Wrote 124 lines to: 'netflix-1_employees.csv'\n",
      "Wrote 125 lines to: 'netflix-1_employees.csv'\n",
      "Wrote 126 lines to: 'netflix-1_employees.csv'\n",
      "Wrote 127 lines to: 'netflix-1_employees.csv'\n",
      "Wrote 128 lines to: 'netflix-1_employees.csv'\n",
      "Wrote 129 lines to: 'netflix-1_employees.csv'\n",
      "Wrote 130 lines to: 'netflix-1_employees.csv'\n",
      "Wrote 131 lines to: 'netflix-1_employees.csv'\n",
      "Wrote 132 lines to: 'netflix-1_employees.csv'\n",
      "Wrote 133 lines to: 'netflix-1_employees.csv'\n",
      "Wrote 134 lines to: 'netflix-1_employees.csv'\n",
      "Wrote 135 lines to: 'netflix-1_employees.csv'\n",
      "Wrote 136 lines to: 'netflix-1_employees.csv'\n",
      "Wrote 137 lines to: 'netflix-1_employees.csv'\n",
      "Wrote 138 lines to: 'netflix-1_employees.csv'\n",
      "Wrote 139 lines to: 'netflix-1_employees.csv'\n",
      "Wrote 140 lines to: 'netflix-1_employees.csv'\n",
      "Wrote 141 lines to: 'netflix-1_employees.csv'\n",
      "Wrote 142 lines to: 'netflix-1_employees.csv'\n",
      "Wrote 143 lines to: 'netflix-1_employees.csv'\n",
      "Wrote 144 lines to: 'netflix-1_employees.csv'\n",
      "Wrote 145 lines to: 'netflix-1_employees.csv'\n",
      "Wrote 146 lines to: 'netflix-1_employees.csv'\n",
      "Wrote 147 lines to: 'netflix-1_employees.csv'\n",
      "Wrote 148 lines to: 'netflix-1_employees.csv'\n",
      "Wrote 149 lines to: 'netflix-1_employees.csv'\n",
      "Wrote 150 lines to: 'netflix-1_employees.csv'\n",
      "Wrote 151 lines to: 'netflix-1_employees.csv'\n",
      "Wrote 152 lines to: 'netflix-1_employees.csv'\n",
      "Wrote 153 lines to: 'netflix-1_employees.csv'\n",
      "Wrote 154 lines to: 'netflix-1_employees.csv'\n",
      "Wrote 155 lines to: 'netflix-1_employees.csv'\n",
      "Wrote 156 lines to: 'netflix-1_employees.csv'\n",
      "Wrote 157 lines to: 'netflix-1_employees.csv'\n",
      "Wrote 158 lines to: 'netflix-1_employees.csv'\n",
      "Wrote 159 lines to: 'netflix-1_employees.csv'\n",
      "Wrote 160 lines to: 'netflix-1_employees.csv'\n",
      "Wrote 161 lines to: 'netflix-1_employees.csv'\n",
      "Wrote 162 lines to: 'netflix-1_employees.csv'\n",
      "Wrote 163 lines to: 'netflix-1_employees.csv'\n",
      "Wrote 164 lines to: 'netflix-1_employees.csv'\n",
      "Wrote 165 lines to: 'netflix-1_employees.csv'\n",
      "Wrote 166 lines to: 'netflix-1_employees.csv'\n",
      "Wrote 167 lines to: 'netflix-1_employees.csv'\n",
      "Wrote 168 lines to: 'netflix-1_employees.csv'\n",
      "Wrote 169 lines to: 'netflix-1_employees.csv'\n",
      "Wrote 170 lines to: 'netflix-1_employees.csv'\n",
      "Wrote 171 lines to: 'netflix-1_employees.csv'\n",
      "Wrote 172 lines to: 'netflix-1_employees.csv'\n",
      "Wrote 173 lines to: 'netflix-1_employees.csv'\n",
      "Wrote 174 lines to: 'netflix-1_employees.csv'\n",
      "Wrote 175 lines to: 'netflix-1_employees.csv'\n",
      "Wrote 176 lines to: 'netflix-1_employees.csv'\n",
      "Wrote 177 lines to: 'netflix-1_employees.csv'\n",
      "Wrote 178 lines to: 'netflix-1_employees.csv'\n",
      "Wrote 179 lines to: 'netflix-1_employees.csv'\n",
      "Wrote 180 lines to: 'netflix-1_employees.csv'\n",
      "Wrote 181 lines to: 'netflix-1_employees.csv'\n",
      "Wrote 182 lines to: 'netflix-1_employees.csv'\n",
      "Wrote 183 lines to: 'netflix-1_employees.csv'\n",
      "Wrote 184 lines to: 'netflix-1_employees.csv'\n",
      "Wrote 185 lines to: 'netflix-1_employees.csv'\n",
      "Wrote 186 lines to: 'netflix-1_employees.csv'\n",
      "Wrote 187 lines to: 'netflix-1_employees.csv'\n",
      "Wrote 188 lines to: 'netflix-1_employees.csv'\n",
      "Wrote 189 lines to: 'netflix-1_employees.csv'\n",
      "Wrote 190 lines to: 'netflix-1_employees.csv'\n",
      "Wrote 191 lines to: 'netflix-1_employees.csv'\n",
      "Wrote 192 lines to: 'netflix-1_employees.csv'\n",
      "Wrote 193 lines to: 'netflix-1_employees.csv'\n",
      "Wrote 194 lines to: 'netflix-1_employees.csv'\n",
      "Wrote 195 lines to: 'netflix-1_employees.csv'\n",
      "Wrote 196 lines to: 'netflix-1_employees.csv'\n",
      "Wrote 197 lines to: 'netflix-1_employees.csv'\n",
      "Wrote 198 lines to: 'netflix-1_employees.csv'\n",
      "Wrote 199 lines to: 'netflix-1_employees.csv'\n",
      "Wrote 200 lines to: 'netflix-1_employees.csv'\n",
      "Wrote 201 lines to: 'netflix-1_employees.csv'\n",
      "Wrote 202 lines to: 'netflix-1_employees.csv'\n",
      "Wrote 203 lines to: 'netflix-1_employees.csv'\n",
      "Wrote 204 lines to: 'netflix-1_employees.csv'\n",
      "Wrote 205 lines to: 'netflix-1_employees.csv'\n",
      "Wrote 206 lines to: 'netflix-1_employees.csv'\n",
      "Wrote 207 lines to: 'netflix-1_employees.csv'\n",
      "Wrote 208 lines to: 'netflix-1_employees.csv'\n",
      "Wrote 209 lines to: 'netflix-1_employees.csv'\n",
      "Wrote 210 lines to: 'netflix-1_employees.csv'\n",
      "Wrote 211 lines to: 'netflix-1_employees.csv'\n",
      "Wrote 212 lines to: 'netflix-1_employees.csv'\n",
      "Wrote 213 lines to: 'netflix-1_employees.csv'\n",
      "Wrote 214 lines to: 'netflix-1_employees.csv'\n",
      "Wrote 215 lines to: 'netflix-1_employees.csv'\n",
      "Wrote 216 lines to: 'netflix-1_employees.csv'\n",
      "Wrote 217 lines to: 'netflix-1_employees.csv'\n",
      "Wrote 218 lines to: 'netflix-1_employees.csv'\n",
      "Wrote 219 lines to: 'netflix-1_employees.csv'\n",
      "Wrote 220 lines to: 'netflix-1_employees.csv'\n",
      "Wrote 221 lines to: 'netflix-1_employees.csv'\n",
      "Wrote 222 lines to: 'netflix-1_employees.csv'\n",
      "Wrote 223 lines to: 'netflix-1_employees.csv'\n",
      "Wrote 224 lines to: 'netflix-1_employees.csv'\n",
      "Wrote 225 lines to: 'netflix-1_employees.csv'\n",
      "Wrote 226 lines to: 'netflix-1_employees.csv'\n",
      "Wrote 227 lines to: 'netflix-1_employees.csv'\n",
      "Wrote 228 lines to: 'netflix-1_employees.csv'\n",
      "Wrote 229 lines to: 'netflix-1_employees.csv'\n",
      "Wrote 230 lines to: 'netflix-1_employees.csv'\n",
      "Wrote 231 lines to: 'netflix-1_employees.csv'\n",
      "Wrote 232 lines to: 'netflix-1_employees.csv'\n",
      "Wrote 233 lines to: 'netflix-1_employees.csv'\n",
      "Wrote 234 lines to: 'netflix-1_employees.csv'\n",
      "Wrote 235 lines to: 'netflix-1_employees.csv'\n",
      "Wrote 236 lines to: 'netflix-1_employees.csv'\n",
      "Wrote 237 lines to: 'netflix-1_employees.csv'\n",
      "Wrote 238 lines to: 'netflix-1_employees.csv'\n",
      "Wrote 239 lines to: 'netflix-1_employees.csv'\n",
      "Wrote 240 lines to: 'netflix-1_employees.csv'\n",
      "Wrote 241 lines to: 'netflix-1_employees.csv'\n",
      "Wrote 242 lines to: 'netflix-1_employees.csv'\n",
      "Wrote 243 lines to: 'netflix-1_employees.csv'\n",
      "Wrote 244 lines to: 'netflix-1_employees.csv'\n",
      "Wrote 245 lines to: 'netflix-1_employees.csv'\n",
      "Wrote 246 lines to: 'netflix-1_employees.csv'\n",
      "Wrote 247 lines to: 'netflix-1_employees.csv'\n",
      "Wrote 248 lines to: 'netflix-1_employees.csv'\n",
      "Wrote 249 lines to: 'netflix-1_employees.csv'\n",
      "Wrote 250 lines to: 'netflix-1_employees.csv'\n",
      "Wrote 251 lines to: 'netflix-1_employees.csv'\n",
      "Wrote 252 lines to: 'netflix-1_employees.csv'\n",
      "Wrote 253 lines to: 'netflix-1_employees.csv'\n",
      "Wrote 254 lines to: 'netflix-1_employees.csv'\n",
      "Wrote 255 lines to: 'netflix-1_employees.csv'\n",
      "Wrote 256 lines to: 'netflix-1_employees.csv'\n",
      "Wrote 257 lines to: 'netflix-1_employees.csv'\n",
      "Wrote 258 lines to: 'netflix-1_employees.csv'\n",
      "Wrote 259 lines to: 'netflix-1_employees.csv'\n",
      "Wrote 260 lines to: 'netflix-1_employees.csv'\n",
      "Wrote 261 lines to: 'netflix-1_employees.csv'\n",
      "Wrote 262 lines to: 'netflix-1_employees.csv'\n",
      "Wrote 263 lines to: 'netflix-1_employees.csv'\n",
      "Wrote 264 lines to: 'netflix-1_employees.csv'\n",
      "Wrote 265 lines to: 'netflix-1_employees.csv'\n",
      "Wrote 266 lines to: 'netflix-1_employees.csv'\n",
      "Wrote 267 lines to: 'netflix-1_employees.csv'\n",
      "Wrote 268 lines to: 'netflix-1_employees.csv'\n",
      "Wrote 269 lines to: 'netflix-1_employees.csv'\n",
      "Wrote 270 lines to: 'netflix-1_employees.csv'\n",
      "Wrote 271 lines to: 'netflix-1_employees.csv'\n",
      "Wrote 272 lines to: 'netflix-1_employees.csv'\n",
      "Wrote 273 lines to: 'netflix-1_employees.csv'\n",
      "Wrote 274 lines to: 'netflix-1_employees.csv'\n",
      "Wrote 275 lines to: 'netflix-1_employees.csv'\n",
      "Wrote 276 lines to: 'netflix-1_employees.csv'\n",
      "Wrote 277 lines to: 'netflix-1_employees.csv'\n",
      "Wrote 278 lines to: 'netflix-1_employees.csv'\n",
      "Wrote 279 lines to: 'netflix-1_employees.csv'\n",
      "Wrote 280 lines to: 'netflix-1_employees.csv'\n",
      "Wrote 281 lines to: 'netflix-1_employees.csv'\n",
      "Wrote 282 lines to: 'netflix-1_employees.csv'\n",
      "Wrote 283 lines to: 'netflix-1_employees.csv'\n",
      "Wrote 284 lines to: 'netflix-1_employees.csv'\n",
      "Wrote 285 lines to: 'netflix-1_employees.csv'\n",
      "Wrote 286 lines to: 'netflix-1_employees.csv'\n",
      "Wrote 287 lines to: 'netflix-1_employees.csv'\n",
      "Wrote 288 lines to: 'netflix-1_employees.csv'\n",
      "Wrote 289 lines to: 'netflix-1_employees.csv'\n",
      "Wrote 290 lines to: 'netflix-1_employees.csv'\n",
      "Wrote 291 lines to: 'netflix-1_employees.csv'\n",
      "Wrote 292 lines to: 'netflix-1_employees.csv'\n",
      "Wrote 293 lines to: 'netflix-1_employees.csv'\n",
      "Wrote 294 lines to: 'netflix-1_employees.csv'\n",
      "Wrote 295 lines to: 'netflix-1_employees.csv'\n",
      "Wrote 296 lines to: 'netflix-1_employees.csv'\n",
      "Wrote 297 lines to: 'netflix-1_employees.csv'\n",
      "Wrote 298 lines to: 'netflix-1_employees.csv'\n",
      "Wrote 299 lines to: 'netflix-1_employees.csv'\n",
      "Wrote 300 lines to: 'netflix-1_employees.csv'\n",
      "Wrote 301 lines to: 'netflix-1_employees.csv'\n",
      "Wrote 302 lines to: 'netflix-1_employees.csv'\n",
      "Wrote 303 lines to: 'netflix-1_employees.csv'\n",
      "Wrote 304 lines to: 'netflix-1_employees.csv'\n",
      "Wrote 305 lines to: 'netflix-1_employees.csv'\n",
      "Wrote 306 lines to: 'netflix-1_employees.csv'\n",
      "Wrote 307 lines to: 'netflix-1_employees.csv'\n",
      "Wrote 308 lines to: 'netflix-1_employees.csv'\n",
      "Wrote 309 lines to: 'netflix-1_employees.csv'\n",
      "Wrote 310 lines to: 'netflix-1_employees.csv'\n",
      "Wrote 311 lines to: 'netflix-1_employees.csv'\n",
      "Wrote 312 lines to: 'netflix-1_employees.csv'\n",
      "Wrote 313 lines to: 'netflix-1_employees.csv'\n",
      "Wrote 314 lines to: 'netflix-1_employees.csv'\n",
      "Wrote 315 lines to: 'netflix-1_employees.csv'\n",
      "Wrote 316 lines to: 'netflix-1_employees.csv'\n",
      "Wrote 317 lines to: 'netflix-1_employees.csv'\n",
      "Wrote 318 lines to: 'netflix-1_employees.csv'\n",
      "Wrote 319 lines to: 'netflix-1_employees.csv'\n",
      "Wrote 320 lines to: 'netflix-1_employees.csv'\n",
      "Wrote 321 lines to: 'netflix-1_employees.csv'\n",
      "Wrote 322 lines to: 'netflix-1_employees.csv'\n",
      "Wrote 323 lines to: 'netflix-1_employees.csv'\n",
      "Wrote 324 lines to: 'netflix-1_employees.csv'\n",
      "Wrote 325 lines to: 'netflix-1_employees.csv'\n",
      "Wrote 326 lines to: 'netflix-1_employees.csv'\n",
      "Wrote 327 lines to: 'netflix-1_employees.csv'\n",
      "Wrote 328 lines to: 'netflix-1_employees.csv'\n",
      "Wrote 329 lines to: 'netflix-1_employees.csv'\n",
      "Wrote 330 lines to: 'netflix-1_employees.csv'\n",
      "Wrote 331 lines to: 'netflix-1_employees.csv'\n",
      "Wrote 332 lines to: 'netflix-1_employees.csv'\n",
      "Wrote 333 lines to: 'netflix-1_employees.csv'\n",
      "Wrote 334 lines to: 'netflix-1_employees.csv'\n",
      "Wrote 335 lines to: 'netflix-1_employees.csv'\n",
      "Wrote 336 lines to: 'netflix-1_employees.csv'\n",
      "Wrote 337 lines to: 'netflix-1_employees.csv'\n",
      "Wrote 338 lines to: 'netflix-1_employees.csv'\n",
      "Wrote 339 lines to: 'netflix-1_employees.csv'\n",
      "Wrote 340 lines to: 'netflix-1_employees.csv'\n",
      "Wrote 341 lines to: 'netflix-1_employees.csv'\n",
      "Wrote 342 lines to: 'netflix-1_employees.csv'\n",
      "Wrote 343 lines to: 'netflix-1_employees.csv'\n",
      "Wrote 344 lines to: 'netflix-1_employees.csv'\n",
      "Wrote 345 lines to: 'netflix-1_employees.csv'\n",
      "Wrote 346 lines to: 'netflix-1_employees.csv'\n",
      "Wrote 347 lines to: 'netflix-1_employees.csv'\n",
      "Wrote 348 lines to: 'netflix-1_employees.csv'\n",
      "Wrote 349 lines to: 'netflix-1_employees.csv'\n",
      "Wrote 350 lines to: 'netflix-1_employees.csv'\n",
      "Wrote 351 lines to: 'netflix-1_employees.csv'\n",
      "Wrote 352 lines to: 'netflix-1_employees.csv'\n",
      "Wrote 353 lines to: 'netflix-1_employees.csv'\n",
      "Wrote 354 lines to: 'netflix-1_employees.csv'\n",
      "Wrote 355 lines to: 'netflix-1_employees.csv'\n",
      "Wrote 356 lines to: 'netflix-1_employees.csv'\n",
      "Wrote 357 lines to: 'netflix-1_employees.csv'\n",
      "Wrote 358 lines to: 'netflix-1_employees.csv'\n",
      "Wrote 359 lines to: 'netflix-1_employees.csv'\n",
      "Wrote 360 lines to: 'netflix-1_employees.csv'\n",
      "Wrote 361 lines to: 'netflix-1_employees.csv'\n",
      "Wrote 362 lines to: 'netflix-1_employees.csv'\n",
      "Wrote 363 lines to: 'netflix-1_employees.csv'\n",
      "Wrote 364 lines to: 'netflix-1_employees.csv'\n",
      "Wrote 365 lines to: 'netflix-1_employees.csv'\n",
      "Wrote 366 lines to: 'netflix-1_employees.csv'\n",
      "Wrote 367 lines to: 'netflix-1_employees.csv'\n",
      "Wrote 368 lines to: 'netflix-1_employees.csv'\n",
      "Wrote 369 lines to: 'netflix-1_employees.csv'\n",
      "Wrote 370 lines to: 'netflix-1_employees.csv'\n",
      "Wrote 371 lines to: 'netflix-1_employees.csv'\n",
      "Wrote 372 lines to: 'netflix-1_employees.csv'\n",
      "Wrote 373 lines to: 'netflix-1_employees.csv'\n",
      "Wrote 374 lines to: 'netflix-1_employees.csv'\n",
      "Wrote 375 lines to: 'netflix-1_employees.csv'\n",
      "Wrote 376 lines to: 'netflix-1_employees.csv'\n",
      "Wrote 377 lines to: 'netflix-1_employees.csv'\n",
      "Wrote 378 lines to: 'netflix-1_employees.csv'\n",
      "Wrote 379 lines to: 'netflix-1_employees.csv'\n",
      "Wrote 380 lines to: 'netflix-1_employees.csv'\n",
      "Wrote 381 lines to: 'netflix-1_employees.csv'\n",
      "Wrote 382 lines to: 'netflix-1_employees.csv'\n",
      "Wrote 383 lines to: 'netflix-1_employees.csv'\n",
      "Wrote 384 lines to: 'netflix-1_employees.csv'\n",
      "Wrote 385 lines to: 'netflix-1_employees.csv'\n",
      "Wrote 386 lines to: 'netflix-1_employees.csv'\n",
      "Wrote 387 lines to: 'netflix-1_employees.csv'\n",
      "Wrote 388 lines to: 'netflix-1_employees.csv'\n",
      "Wrote 389 lines to: 'netflix-1_employees.csv'\n",
      "Wrote 390 lines to: 'netflix-1_employees.csv'\n",
      "Wrote 391 lines to: 'netflix-1_employees.csv'\n",
      "Wrote 392 lines to: 'netflix-1_employees.csv'\n",
      "Wrote 393 lines to: 'netflix-1_employees.csv'\n",
      "Wrote 394 lines to: 'netflix-1_employees.csv'\n",
      "Wrote 395 lines to: 'netflix-1_employees.csv'\n",
      "Wrote 396 lines to: 'netflix-1_employees.csv'\n",
      "Wrote 397 lines to: 'netflix-1_employees.csv'\n",
      "Wrote 398 lines to: 'netflix-1_employees.csv'\n",
      "Wrote 399 lines to: 'netflix-1_employees.csv'\n",
      "Wrote 400 lines to: 'netflix-1_employees.csv'\n",
      "Wrote 401 lines to: 'netflix-1_employees.csv'\n",
      "Wrote 402 lines to: 'netflix-1_employees.csv'\n",
      "Wrote 403 lines to: 'netflix-1_employees.csv'\n",
      "Wrote 404 lines to: 'netflix-1_employees.csv'\n",
      "Wrote 405 lines to: 'netflix-1_employees.csv'\n",
      "Wrote 406 lines to: 'netflix-1_employees.csv'\n",
      "Wrote 407 lines to: 'netflix-1_employees.csv'\n",
      "Wrote 408 lines to: 'netflix-1_employees.csv'\n",
      "Wrote 409 lines to: 'netflix-1_employees.csv'\n",
      "Wrote 410 lines to: 'netflix-1_employees.csv'\n",
      "Wrote 411 lines to: 'netflix-1_employees.csv'\n",
      "Wrote 412 lines to: 'netflix-1_employees.csv'\n",
      "Wrote 413 lines to: 'netflix-1_employees.csv'\n",
      "Wrote 414 lines to: 'netflix-1_employees.csv'\n",
      "Wrote 415 lines to: 'netflix-1_employees.csv'\n",
      "Wrote 416 lines to: 'netflix-1_employees.csv'\n",
      "Wrote 417 lines to: 'netflix-1_employees.csv'\n",
      "Wrote 418 lines to: 'netflix-1_employees.csv'\n",
      "Wrote 419 lines to: 'netflix-1_employees.csv'\n",
      "Wrote 420 lines to: 'netflix-1_employees.csv'\n",
      "Wrote 421 lines to: 'netflix-1_employees.csv'\n",
      "Wrote 422 lines to: 'netflix-1_employees.csv'\n",
      "Wrote 423 lines to: 'netflix-1_employees.csv'\n",
      "Wrote 424 lines to: 'netflix-1_employees.csv'\n",
      "Wrote 425 lines to: 'netflix-1_employees.csv'\n",
      "Wrote 426 lines to: 'netflix-1_employees.csv'\n",
      "Wrote 427 lines to: 'netflix-1_employees.csv'\n",
      "Wrote 428 lines to: 'netflix-1_employees.csv'\n",
      "Wrote 429 lines to: 'netflix-1_employees.csv'\n",
      "Wrote 430 lines to: 'netflix-1_employees.csv'\n",
      "Wrote 431 lines to: 'netflix-1_employees.csv'\n",
      "Wrote 432 lines to: 'netflix-1_employees.csv'\n",
      "Wrote 433 lines to: 'netflix-1_employees.csv'\n",
      "Wrote 434 lines to: 'netflix-1_employees.csv'\n",
      "Wrote 435 lines to: 'netflix-1_employees.csv'\n",
      "Wrote 436 lines to: 'netflix-1_employees.csv'\n",
      "Wrote 437 lines to: 'netflix-1_employees.csv'\n",
      "Wrote 438 lines to: 'netflix-1_employees.csv'\n",
      "Wrote 439 lines to: 'netflix-1_employees.csv'\n",
      "Wrote 440 lines to: 'netflix-1_employees.csv'\n",
      "Wrote 441 lines to: 'netflix-1_employees.csv'\n",
      "Wrote 442 lines to: 'netflix-1_employees.csv'\n",
      "Wrote 443 lines to: 'netflix-1_employees.csv'\n",
      "Wrote 444 lines to: 'netflix-1_employees.csv'\n",
      "Wrote 445 lines to: 'netflix-1_employees.csv'\n",
      "Wrote 446 lines to: 'netflix-1_employees.csv'\n",
      "Wrote 447 lines to: 'netflix-1_employees.csv'\n",
      "Wrote 448 lines to: 'netflix-1_employees.csv'\n",
      "Wrote 449 lines to: 'netflix-1_employees.csv'\n",
      "Wrote 450 lines to: 'netflix-1_employees.csv'\n",
      "Wrote 451 lines to: 'netflix-1_employees.csv'\n",
      "Wrote 452 lines to: 'netflix-1_employees.csv'\n",
      "Wrote 453 lines to: 'netflix-1_employees.csv'\n",
      "Wrote 454 lines to: 'netflix-1_employees.csv'\n",
      "Wrote 455 lines to: 'netflix-1_employees.csv'\n",
      "Wrote 456 lines to: 'netflix-1_employees.csv'\n",
      "Wrote 457 lines to: 'netflix-1_employees.csv'\n",
      "Wrote 458 lines to: 'netflix-1_employees.csv'\n",
      "Wrote 459 lines to: 'netflix-1_employees.csv'\n",
      "Wrote 460 lines to: 'netflix-1_employees.csv'\n",
      "Wrote 461 lines to: 'netflix-1_employees.csv'\n",
      "Wrote 462 lines to: 'netflix-1_employees.csv'\n",
      "Wrote 463 lines to: 'netflix-1_employees.csv'\n",
      "Wrote 464 lines to: 'netflix-1_employees.csv'\n",
      "Wrote 465 lines to: 'netflix-1_employees.csv'\n",
      "Wrote 466 lines to: 'netflix-1_employees.csv'\n",
      "Wrote 467 lines to: 'netflix-1_employees.csv'\n",
      "Wrote 468 lines to: 'netflix-1_employees.csv'\n",
      "Wrote 469 lines to: 'netflix-1_employees.csv'\n",
      "Wrote 470 lines to: 'netflix-1_employees.csv'\n",
      "Wrote 471 lines to: 'netflix-1_employees.csv'\n",
      "Wrote 472 lines to: 'netflix-1_employees.csv'\n",
      "Wrote 473 lines to: 'netflix-1_employees.csv'\n",
      "Wrote 474 lines to: 'netflix-1_employees.csv'\n",
      "Wrote 475 lines to: 'netflix-1_employees.csv'\n",
      "Wrote 476 lines to: 'netflix-1_employees.csv'\n",
      "Wrote 477 lines to: 'netflix-1_employees.csv'\n",
      "Wrote 478 lines to: 'netflix-1_employees.csv'\n",
      "Wrote 479 lines to: 'netflix-1_employees.csv'\n",
      "Wrote 480 lines to: 'netflix-1_employees.csv'\n",
      "Wrote 481 lines to: 'netflix-1_employees.csv'\n",
      "Wrote 482 lines to: 'netflix-1_employees.csv'\n",
      "Wrote 483 lines to: 'netflix-1_employees.csv'\n",
      "Wrote 484 lines to: 'netflix-1_employees.csv'\n",
      "Wrote 485 lines to: 'netflix-1_employees.csv'\n",
      "Wrote 486 lines to: 'netflix-1_employees.csv'\n",
      "Wrote 487 lines to: 'netflix-1_employees.csv'\n",
      "Wrote 488 lines to: 'netflix-1_employees.csv'\n",
      "Wrote 489 lines to: 'netflix-1_employees.csv'\n",
      "Wrote 490 lines to: 'netflix-1_employees.csv'\n",
      "Wrote 491 lines to: 'netflix-1_employees.csv'\n",
      "Wrote 492 lines to: 'netflix-1_employees.csv'\n",
      "Wrote 493 lines to: 'netflix-1_employees.csv'\n",
      "Wrote 494 lines to: 'netflix-1_employees.csv'\n",
      "Wrote 495 lines to: 'netflix-1_employees.csv'\n",
      "Wrote 496 lines to: 'netflix-1_employees.csv'\n",
      "Wrote 497 lines to: 'netflix-1_employees.csv'\n",
      "Wrote 498 lines to: 'netflix-1_employees.csv'\n",
      "Wrote 499 lines to: 'netflix-1_employees.csv'\n",
      "Wrote 500 lines to: 'netflix-1_employees.csv'\n",
      "Wrote 501 lines to: 'netflix-1_employees.csv'\n",
      "Wrote 502 lines to: 'netflix-1_employees.csv'\n",
      "Wrote 503 lines to: 'netflix-1_employees.csv'\n",
      "Wrote 504 lines to: 'netflix-1_employees.csv'\n",
      "Wrote 505 lines to: 'netflix-1_employees.csv'\n",
      "Wrote 506 lines to: 'netflix-1_employees.csv'\n",
      "Wrote 507 lines to: 'netflix-1_employees.csv'\n",
      "Wrote 508 lines to: 'netflix-1_employees.csv'\n",
      "Wrote 509 lines to: 'netflix-1_employees.csv'\n",
      "Wrote 510 lines to: 'netflix-1_employees.csv'\n",
      "Wrote 511 lines to: 'netflix-1_employees.csv'\n",
      "Wrote 512 lines to: 'netflix-1_employees.csv'\n",
      "Wrote 513 lines to: 'netflix-1_employees.csv'\n",
      "Wrote 514 lines to: 'netflix-1_employees.csv'\n",
      "Wrote 515 lines to: 'netflix-1_employees.csv'\n",
      "Wrote 516 lines to: 'netflix-1_employees.csv'\n",
      "Wrote 517 lines to: 'netflix-1_employees.csv'\n",
      "Wrote 518 lines to: 'netflix-1_employees.csv'\n",
      "Wrote 519 lines to: 'netflix-1_employees.csv'\n",
      "Wrote 520 lines to: 'netflix-1_employees.csv'\n",
      "Wrote 521 lines to: 'netflix-1_employees.csv'\n",
      "Wrote 522 lines to: 'netflix-1_employees.csv'\n",
      "Wrote 523 lines to: 'netflix-1_employees.csv'\n",
      "Wrote 524 lines to: 'netflix-1_employees.csv'\n",
      "Wrote 525 lines to: 'netflix-1_employees.csv'\n",
      "Wrote 526 lines to: 'netflix-1_employees.csv'\n",
      "Wrote 527 lines to: 'netflix-1_employees.csv'\n",
      "Wrote 528 lines to: 'netflix-1_employees.csv'\n",
      "Wrote 529 lines to: 'netflix-1_employees.csv'\n",
      "Wrote 530 lines to: 'netflix-1_employees.csv'\n",
      "Wrote 531 lines to: 'netflix-1_employees.csv'\n",
      "Wrote 532 lines to: 'netflix-1_employees.csv'\n",
      "Wrote 533 lines to: 'netflix-1_employees.csv'\n",
      "Wrote 534 lines to: 'netflix-1_employees.csv'\n",
      "Wrote 535 lines to: 'netflix-1_employees.csv'\n",
      "Wrote 536 lines to: 'netflix-1_employees.csv'\n",
      "Wrote 537 lines to: 'netflix-1_employees.csv'\n",
      "Wrote 538 lines to: 'netflix-1_employees.csv'\n",
      "Wrote 539 lines to: 'netflix-1_employees.csv'\n",
      "Wrote 540 lines to: 'netflix-1_employees.csv'\n",
      "Wrote 541 lines to: 'netflix-1_employees.csv'\n",
      "Wrote 542 lines to: 'netflix-1_employees.csv'\n",
      "Wrote 543 lines to: 'netflix-1_employees.csv'\n",
      "Wrote 544 lines to: 'netflix-1_employees.csv'\n",
      "Wrote 545 lines to: 'netflix-1_employees.csv'\n",
      "Wrote 546 lines to: 'netflix-1_employees.csv'\n",
      "Wrote 547 lines to: 'netflix-1_employees.csv'\n",
      "Wrote 548 lines to: 'netflix-1_employees.csv'\n",
      "Wrote 549 lines to: 'netflix-1_employees.csv'\n",
      "Wrote 550 lines to: 'netflix-1_employees.csv'\n",
      "Wrote 551 lines to: 'netflix-1_employees.csv'\n",
      "Wrote 552 lines to: 'netflix-1_employees.csv'\n",
      "Wrote 553 lines to: 'netflix-1_employees.csv'\n",
      "Wrote 554 lines to: 'netflix-1_employees.csv'\n",
      "Wrote 555 lines to: 'netflix-1_employees.csv'\n",
      "Wrote 556 lines to: 'netflix-1_employees.csv'\n",
      "Wrote 557 lines to: 'netflix-1_employees.csv'\n",
      "Wrote 558 lines to: 'netflix-1_employees.csv'\n",
      "Wrote 559 lines to: 'netflix-1_employees.csv'\n",
      "Wrote 560 lines to: 'netflix-1_employees.csv'\n",
      "Wrote 561 lines to: 'netflix-1_employees.csv'\n",
      "Wrote 562 lines to: 'netflix-1_employees.csv'\n",
      "Wrote 563 lines to: 'netflix-1_employees.csv'\n",
      "Wrote 564 lines to: 'netflix-1_employees.csv'\n",
      "Wrote 565 lines to: 'netflix-1_employees.csv'\n",
      "Wrote 566 lines to: 'netflix-1_employees.csv'\n",
      "Wrote 567 lines to: 'netflix-1_employees.csv'\n",
      "Wrote 568 lines to: 'netflix-1_employees.csv'\n",
      "Wrote 569 lines to: 'netflix-1_employees.csv'\n",
      "Wrote 570 lines to: 'netflix-1_employees.csv'\n",
      "Wrote 571 lines to: 'netflix-1_employees.csv'\n",
      "Wrote 572 lines to: 'netflix-1_employees.csv'\n",
      "Wrote 573 lines to: 'netflix-1_employees.csv'\n",
      "Wrote 574 lines to: 'netflix-1_employees.csv'\n",
      "Wrote 575 lines to: 'netflix-1_employees.csv'\n",
      "Wrote 576 lines to: 'netflix-1_employees.csv'\n",
      "Wrote 577 lines to: 'netflix-1_employees.csv'\n",
      "Wrote 578 lines to: 'netflix-1_employees.csv'\n",
      "Wrote 579 lines to: 'netflix-1_employees.csv'\n",
      "Wrote 580 lines to: 'netflix-1_employees.csv'\n",
      "Wrote 581 lines to: 'netflix-1_employees.csv'\n",
      "Wrote 582 lines to: 'netflix-1_employees.csv'\n",
      "Wrote 583 lines to: 'netflix-1_employees.csv'\n",
      "Wrote 584 lines to: 'netflix-1_employees.csv'\n",
      "Wrote 585 lines to: 'netflix-1_employees.csv'\n",
      "Wrote 586 lines to: 'netflix-1_employees.csv'\n",
      "Wrote 587 lines to: 'netflix-1_employees.csv'\n",
      "Wrote 588 lines to: 'netflix-1_employees.csv'\n",
      "Wrote 589 lines to: 'netflix-1_employees.csv'\n",
      "Wrote 590 lines to: 'netflix-1_employees.csv'\n",
      "Wrote 591 lines to: 'netflix-1_employees.csv'\n",
      "Wrote 592 lines to: 'netflix-1_employees.csv'\n",
      "Wrote 593 lines to: 'netflix-1_employees.csv'\n",
      "Wrote 594 lines to: 'netflix-1_employees.csv'\n",
      "Wrote 595 lines to: 'netflix-1_employees.csv'\n",
      "Wrote 596 lines to: 'netflix-1_employees.csv'\n",
      "Wrote 597 lines to: 'netflix-1_employees.csv'\n",
      "Wrote 598 lines to: 'netflix-1_employees.csv'\n",
      "Wrote 599 lines to: 'netflix-1_employees.csv'\n",
      "Wrote 600 lines to: 'netflix-1_employees.csv'\n",
      "Wrote 601 lines to: 'netflix-1_employees.csv'\n",
      "Wrote 602 lines to: 'netflix-1_employees.csv'\n",
      "Wrote 603 lines to: 'netflix-1_employees.csv'\n",
      "Wrote 604 lines to: 'netflix-1_employees.csv'\n",
      "Wrote 605 lines to: 'netflix-1_employees.csv'\n",
      "Wrote 606 lines to: 'netflix-1_employees.csv'\n",
      "Wrote 607 lines to: 'netflix-1_employees.csv'\n",
      "Wrote 608 lines to: 'netflix-1_employees.csv'\n",
      "Wrote 609 lines to: 'netflix-1_employees.csv'\n",
      "Wrote 610 lines to: 'netflix-1_employees.csv'\n",
      "Wrote 611 lines to: 'netflix-1_employees.csv'\n",
      "Wrote 612 lines to: 'netflix-1_employees.csv'\n",
      "Wrote 613 lines to: 'netflix-1_employees.csv'\n",
      "Wrote 614 lines to: 'netflix-1_employees.csv'\n",
      "Wrote 615 lines to: 'netflix-1_employees.csv'\n",
      "Wrote 616 lines to: 'netflix-1_employees.csv'\n",
      "Wrote 617 lines to: 'netflix-1_employees.csv'\n",
      "Wrote 618 lines to: 'netflix-1_employees.csv'\n",
      "Wrote 619 lines to: 'netflix-1_employees.csv'\n",
      "Wrote 620 lines to: 'netflix-1_employees.csv'\n",
      "Wrote 621 lines to: 'netflix-1_employees.csv'\n",
      "Wrote 622 lines to: 'netflix-1_employees.csv'\n",
      "Wrote 623 lines to: 'netflix-1_employees.csv'\n",
      "Wrote 624 lines to: 'netflix-1_employees.csv'\n",
      "Wrote 625 lines to: 'netflix-1_employees.csv'\n",
      "Wrote 626 lines to: 'netflix-1_employees.csv'\n",
      "Wrote 627 lines to: 'netflix-1_employees.csv'\n",
      "Wrote 628 lines to: 'netflix-1_employees.csv'\n",
      "Wrote 629 lines to: 'netflix-1_employees.csv'\n",
      "Wrote 630 lines to: 'netflix-1_employees.csv'\n",
      "Wrote 631 lines to: 'netflix-1_employees.csv'\n",
      "Wrote 632 lines to: 'netflix-1_employees.csv'\n",
      "Wrote 633 lines to: 'netflix-1_employees.csv'\n",
      "Wrote 634 lines to: 'netflix-1_employees.csv'\n",
      "Wrote 635 lines to: 'netflix-1_employees.csv'\n",
      "Wrote 636 lines to: 'netflix-1_employees.csv'\n",
      "Wrote 637 lines to: 'netflix-1_employees.csv'\n",
      "Wrote 638 lines to: 'netflix-1_employees.csv'\n",
      "Wrote 639 lines to: 'netflix-1_employees.csv'\n",
      "Wrote 640 lines to: 'netflix-1_employees.csv'\n",
      "Wrote 641 lines to: 'netflix-1_employees.csv'\n",
      "Wrote 642 lines to: 'netflix-1_employees.csv'\n",
      "Wrote 643 lines to: 'netflix-1_employees.csv'\n",
      "Wrote 644 lines to: 'netflix-1_employees.csv'\n",
      "Wrote 645 lines to: 'netflix-1_employees.csv'\n",
      "Wrote 646 lines to: 'netflix-1_employees.csv'\n",
      "Wrote 647 lines to: 'netflix-1_employees.csv'\n",
      "Wrote 648 lines to: 'netflix-1_employees.csv'\n",
      "Wrote 649 lines to: 'netflix-1_employees.csv'\n",
      "Wrote 650 lines to: 'netflix-1_employees.csv'\n",
      "Wrote 651 lines to: 'netflix-1_employees.csv'\n",
      "Wrote 652 lines to: 'netflix-1_employees.csv'\n",
      "Wrote 653 lines to: 'netflix-1_employees.csv'\n",
      "Wrote 654 lines to: 'netflix-1_employees.csv'\n",
      "Wrote 655 lines to: 'netflix-1_employees.csv'\n",
      "Wrote 656 lines to: 'netflix-1_employees.csv'\n",
      "Wrote 657 lines to: 'netflix-1_employees.csv'\n",
      "Wrote 658 lines to: 'netflix-1_employees.csv'\n",
      "Wrote 659 lines to: 'netflix-1_employees.csv'\n",
      "Wrote 660 lines to: 'netflix-1_employees.csv'\n",
      "Wrote 661 lines to: 'netflix-1_employees.csv'\n",
      "Wrote 662 lines to: 'netflix-1_employees.csv'\n",
      "Wrote 663 lines to: 'netflix-1_employees.csv'\n",
      "Wrote 664 lines to: 'netflix-1_employees.csv'\n",
      "Wrote 665 lines to: 'netflix-1_employees.csv'\n",
      "Wrote 666 lines to: 'netflix-1_employees.csv'\n",
      "Wrote 667 lines to: 'netflix-1_employees.csv'\n",
      "Wrote 668 lines to: 'netflix-1_employees.csv'\n",
      "Wrote 669 lines to: 'netflix-1_employees.csv'\n",
      "Wrote 670 lines to: 'netflix-1_employees.csv'\n",
      "Wrote 671 lines to: 'netflix-1_employees.csv'\n",
      "Wrote 672 lines to: 'netflix-1_employees.csv'\n",
      "Wrote 673 lines to: 'netflix-1_employees.csv'\n",
      "Wrote 674 lines to: 'netflix-1_employees.csv'\n",
      "Wrote 675 lines to: 'netflix-1_employees.csv'\n",
      "Wrote 676 lines to: 'netflix-1_employees.csv'\n",
      "Wrote 677 lines to: 'netflix-1_employees.csv'\n",
      "Wrote 678 lines to: 'netflix-1_employees.csv'\n",
      "Wrote 679 lines to: 'netflix-1_employees.csv'\n",
      "Wrote 680 lines to: 'netflix-1_employees.csv'\n",
      "Wrote 681 lines to: 'netflix-1_employees.csv'\n",
      "Wrote 682 lines to: 'netflix-1_employees.csv'\n",
      "Wrote 683 lines to: 'netflix-1_employees.csv'\n",
      "Wrote 684 lines to: 'netflix-1_employees.csv'\n",
      "Wrote 685 lines to: 'netflix-1_employees.csv'\n",
      "Wrote 686 lines to: 'netflix-1_employees.csv'\n",
      "Wrote 687 lines to: 'netflix-1_employees.csv'\n",
      "Wrote 688 lines to: 'netflix-1_employees.csv'\n",
      "Wrote 689 lines to: 'netflix-1_employees.csv'\n",
      "Wrote 690 lines to: 'netflix-1_employees.csv'\n",
      "Wrote 691 lines to: 'netflix-1_employees.csv'\n",
      "Wrote 692 lines to: 'netflix-1_employees.csv'\n",
      "Wrote 693 lines to: 'netflix-1_employees.csv'\n",
      "Wrote 694 lines to: 'netflix-1_employees.csv'\n",
      "Wrote 695 lines to: 'netflix-1_employees.csv'\n",
      "Wrote 696 lines to: 'netflix-1_employees.csv'\n",
      "Wrote 697 lines to: 'netflix-1_employees.csv'\n",
      "Wrote 698 lines to: 'netflix-1_employees.csv'\n",
      "Wrote 699 lines to: 'netflix-1_employees.csv'\n",
      "Wrote 700 lines to: 'netflix-1_employees.csv'\n",
      "Wrote 701 lines to: 'netflix-1_employees.csv'\n",
      "Wrote 702 lines to: 'netflix-1_employees.csv'\n",
      "Wrote 703 lines to: 'netflix-1_employees.csv'\n",
      "Wrote 704 lines to: 'netflix-1_employees.csv'\n",
      "Wrote 705 lines to: 'netflix-1_employees.csv'\n",
      "Wrote 706 lines to: 'netflix-1_employees.csv'\n",
      "Wrote 707 lines to: 'netflix-1_employees.csv'\n",
      "Wrote 708 lines to: 'netflix-1_employees.csv'\n",
      "Wrote 709 lines to: 'netflix-1_employees.csv'\n",
      "Wrote 710 lines to: 'netflix-1_employees.csv'\n",
      "Wrote 711 lines to: 'netflix-1_employees.csv'\n",
      "Wrote 712 lines to: 'netflix-1_employees.csv'\n",
      "Wrote 713 lines to: 'netflix-1_employees.csv'\n",
      "Wrote 714 lines to: 'netflix-1_employees.csv'\n",
      "Wrote 715 lines to: 'netflix-1_employees.csv'\n",
      "Wrote 716 lines to: 'netflix-1_employees.csv'\n",
      "Wrote 717 lines to: 'netflix-1_employees.csv'\n",
      "Wrote 718 lines to: 'netflix-1_employees.csv'\n",
      "Wrote 719 lines to: 'netflix-1_employees.csv'\n",
      "Wrote 720 lines to: 'netflix-1_employees.csv'\n",
      "Wrote 721 lines to: 'netflix-1_employees.csv'\n",
      "Wrote 722 lines to: 'netflix-1_employees.csv'\n",
      "Wrote 723 lines to: 'netflix-1_employees.csv'\n",
      "Wrote 724 lines to: 'netflix-1_employees.csv'\n",
      "Wrote 725 lines to: 'netflix-1_employees.csv'\n",
      "Wrote 726 lines to: 'netflix-1_employees.csv'\n",
      "Wrote 727 lines to: 'netflix-1_employees.csv'\n",
      "Wrote 728 lines to: 'netflix-1_employees.csv'\n",
      "Wrote 729 lines to: 'netflix-1_employees.csv'\n",
      "Wrote 730 lines to: 'netflix-1_employees.csv'\n",
      "Wrote 731 lines to: 'netflix-1_employees.csv'\n",
      "Wrote 732 lines to: 'netflix-1_employees.csv'\n",
      "Wrote 733 lines to: 'netflix-1_employees.csv'\n",
      "Wrote 734 lines to: 'netflix-1_employees.csv'\n",
      "Wrote 735 lines to: 'netflix-1_employees.csv'\n",
      "Wrote 736 lines to: 'netflix-1_employees.csv'\n",
      "Wrote 737 lines to: 'netflix-1_employees.csv'\n",
      "Wrote 738 lines to: 'netflix-1_employees.csv'\n",
      "Wrote 739 lines to: 'netflix-1_employees.csv'\n",
      "Wrote 740 lines to: 'netflix-1_employees.csv'\n",
      "Wrote 741 lines to: 'netflix-1_employees.csv'\n",
      "Wrote 742 lines to: 'netflix-1_employees.csv'\n",
      "Wrote 743 lines to: 'netflix-1_employees.csv'\n",
      "Wrote 744 lines to: 'netflix-1_employees.csv'\n",
      "Wrote 745 lines to: 'netflix-1_employees.csv'\n",
      "Wrote 746 lines to: 'netflix-1_employees.csv'\n",
      "Wrote 747 lines to: 'netflix-1_employees.csv'\n",
      "Wrote 748 lines to: 'netflix-1_employees.csv'\n",
      "Wrote 749 lines to: 'netflix-1_employees.csv'\n",
      "Wrote 750 lines to: 'netflix-1_employees.csv'\n",
      "Wrote 751 lines to: 'netflix-1_employees.csv'\n",
      "Wrote 752 lines to: 'netflix-1_employees.csv'\n",
      "Wrote 753 lines to: 'netflix-1_employees.csv'\n",
      "Wrote 754 lines to: 'netflix-1_employees.csv'\n",
      "Wrote 755 lines to: 'netflix-1_employees.csv'\n",
      "Wrote 756 lines to: 'netflix-1_employees.csv'\n",
      "Wrote 757 lines to: 'netflix-1_employees.csv'\n",
      "Wrote 758 lines to: 'netflix-1_employees.csv'\n",
      "Wrote 759 lines to: 'netflix-1_employees.csv'\n",
      "Wrote 760 lines to: 'netflix-1_employees.csv'\n",
      "Wrote 761 lines to: 'netflix-1_employees.csv'\n",
      "Wrote 762 lines to: 'netflix-1_employees.csv'\n",
      "Wrote 763 lines to: 'netflix-1_employees.csv'\n",
      "Wrote 764 lines to: 'netflix-1_employees.csv'\n",
      "Wrote 765 lines to: 'netflix-1_employees.csv'\n",
      "Wrote 766 lines to: 'netflix-1_employees.csv'\n",
      "Wrote 767 lines to: 'netflix-1_employees.csv'\n",
      "Wrote 768 lines to: 'netflix-1_employees.csv'\n",
      "Wrote 769 lines to: 'netflix-1_employees.csv'\n",
      "Wrote 770 lines to: 'netflix-1_employees.csv'\n",
      "Wrote 771 lines to: 'netflix-1_employees.csv'\n",
      "Wrote 772 lines to: 'netflix-1_employees.csv'\n",
      "Wrote 773 lines to: 'netflix-1_employees.csv'\n",
      "Wrote 774 lines to: 'netflix-1_employees.csv'\n",
      "Wrote 775 lines to: 'netflix-1_employees.csv'\n",
      "Wrote 776 lines to: 'netflix-1_employees.csv'\n",
      "Wrote 777 lines to: 'netflix-1_employees.csv'\n",
      "Wrote 778 lines to: 'netflix-1_employees.csv'\n",
      "Wrote 779 lines to: 'netflix-1_employees.csv'\n",
      "Wrote 780 lines to: 'netflix-1_employees.csv'\n",
      "Wrote 781 lines to: 'netflix-1_employees.csv'\n",
      "Wrote 782 lines to: 'netflix-1_employees.csv'\n",
      "Wrote 783 lines to: 'netflix-1_employees.csv'\n",
      "Wrote 784 lines to: 'netflix-1_employees.csv'\n",
      "Wrote 785 lines to: 'netflix-1_employees.csv'\n",
      "Wrote 786 lines to: 'netflix-1_employees.csv'\n",
      "Wrote 787 lines to: 'netflix-1_employees.csv'\n",
      "Wrote 788 lines to: 'netflix-1_employees.csv'\n",
      "Wrote 789 lines to: 'netflix-1_employees.csv'\n",
      "Wrote 790 lines to: 'netflix-1_employees.csv'\n",
      "Wrote 791 lines to: 'netflix-1_employees.csv'\n",
      "Wrote 792 lines to: 'netflix-1_employees.csv'\n",
      "Wrote 793 lines to: 'netflix-1_employees.csv'\n",
      "Wrote 794 lines to: 'netflix-1_employees.csv'\n",
      "Wrote 795 lines to: 'netflix-1_employees.csv'\n",
      "Wrote 796 lines to: 'netflix-1_employees.csv'\n",
      "Wrote 797 lines to: 'netflix-1_employees.csv'\n",
      "Wrote 798 lines to: 'netflix-1_employees.csv'\n",
      "Wrote 799 lines to: 'netflix-1_employees.csv'\n",
      "Wrote 800 lines to: 'netflix-1_employees.csv'\n",
      "Wrote 801 lines to: 'netflix-1_employees.csv'\n",
      "Wrote 802 lines to: 'netflix-1_employees.csv'\n",
      "Wrote 803 lines to: 'netflix-1_employees.csv'\n",
      "Wrote 804 lines to: 'netflix-1_employees.csv'\n",
      "Wrote 805 lines to: 'netflix-1_employees.csv'\n",
      "Wrote 806 lines to: 'netflix-1_employees.csv'\n",
      "Wrote 807 lines to: 'netflix-1_employees.csv'\n",
      "Wrote 808 lines to: 'netflix-1_employees.csv'\n",
      "Wrote 809 lines to: 'netflix-1_employees.csv'\n",
      "Wrote 810 lines to: 'netflix-1_employees.csv'\n",
      "Wrote 811 lines to: 'netflix-1_employees.csv'\n",
      "Wrote 812 lines to: 'netflix-1_employees.csv'\n",
      "Wrote 813 lines to: 'netflix-1_employees.csv'\n",
      "Wrote 814 lines to: 'netflix-1_employees.csv'\n",
      "Wrote 815 lines to: 'netflix-1_employees.csv'\n",
      "Wrote 816 lines to: 'netflix-1_employees.csv'\n",
      "Wrote 817 lines to: 'netflix-1_employees.csv'\n",
      "Wrote 818 lines to: 'netflix-1_employees.csv'\n",
      "Wrote 819 lines to: 'netflix-1_employees.csv'\n",
      "Wrote 820 lines to: 'netflix-1_employees.csv'\n",
      "Wrote 821 lines to: 'netflix-1_employees.csv'\n",
      "Wrote 822 lines to: 'netflix-1_employees.csv'\n",
      "Wrote 823 lines to: 'netflix-1_employees.csv'\n",
      "Wrote 824 lines to: 'netflix-1_employees.csv'\n",
      "Wrote 825 lines to: 'netflix-1_employees.csv'\n",
      "Wrote 826 lines to: 'netflix-1_employees.csv'\n",
      "Wrote 827 lines to: 'netflix-1_employees.csv'\n",
      "Wrote 828 lines to: 'netflix-1_employees.csv'\n",
      "Wrote 829 lines to: 'netflix-1_employees.csv'\n",
      "Wrote 830 lines to: 'netflix-1_employees.csv'\n",
      "Wrote 831 lines to: 'netflix-1_employees.csv'\n",
      "Wrote 832 lines to: 'netflix-1_employees.csv'\n",
      "Wrote 833 lines to: 'netflix-1_employees.csv'\n",
      "Wrote 834 lines to: 'netflix-1_employees.csv'\n",
      "Wrote 835 lines to: 'netflix-1_employees.csv'\n",
      "Wrote 836 lines to: 'netflix-1_employees.csv'\n",
      "Wrote 837 lines to: 'netflix-1_employees.csv'\n",
      "Wrote 838 lines to: 'netflix-1_employees.csv'\n",
      "Wrote 839 lines to: 'netflix-1_employees.csv'\n",
      "Wrote 840 lines to: 'netflix-1_employees.csv'\n",
      "Wrote 841 lines to: 'netflix-1_employees.csv'\n",
      "Wrote 842 lines to: 'netflix-1_employees.csv'\n",
      "Wrote 843 lines to: 'netflix-1_employees.csv'\n",
      "Wrote 844 lines to: 'netflix-1_employees.csv'\n",
      "Wrote 845 lines to: 'netflix-1_employees.csv'\n",
      "Wrote 846 lines to: 'netflix-1_employees.csv'\n",
      "Wrote 847 lines to: 'netflix-1_employees.csv'\n",
      "Wrote 848 lines to: 'netflix-1_employees.csv'\n",
      "Wrote 849 lines to: 'netflix-1_employees.csv'\n",
      "Wrote 850 lines to: 'netflix-1_employees.csv'\n",
      "Wrote 851 lines to: 'netflix-1_employees.csv'\n",
      "Wrote 852 lines to: 'netflix-1_employees.csv'\n",
      "Wrote 853 lines to: 'netflix-1_employees.csv'\n",
      "Wrote 854 lines to: 'netflix-1_employees.csv'\n",
      "Wrote 855 lines to: 'netflix-1_employees.csv'\n",
      "Wrote 856 lines to: 'netflix-1_employees.csv'\n",
      "Wrote 857 lines to: 'netflix-1_employees.csv'\n",
      "Wrote 858 lines to: 'netflix-1_employees.csv'\n",
      "Wrote 859 lines to: 'netflix-1_employees.csv'\n",
      "Wrote 860 lines to: 'netflix-1_employees.csv'\n",
      "Wrote 861 lines to: 'netflix-1_employees.csv'\n",
      "Wrote 862 lines to: 'netflix-1_employees.csv'\n",
      "Wrote 863 lines to: 'netflix-1_employees.csv'\n",
      "Wrote 864 lines to: 'netflix-1_employees.csv'\n",
      "Wrote 865 lines to: 'netflix-1_employees.csv'\n",
      "Wrote 866 lines to: 'netflix-1_employees.csv'\n",
      "Wrote 867 lines to: 'netflix-1_employees.csv'\n",
      "Wrote 868 lines to: 'netflix-1_employees.csv'\n",
      "Wrote 869 lines to: 'netflix-1_employees.csv'\n",
      "Wrote 870 lines to: 'netflix-1_employees.csv'\n",
      "Wrote 871 lines to: 'netflix-1_employees.csv'\n",
      "Wrote 872 lines to: 'netflix-1_employees.csv'\n",
      "Wrote 873 lines to: 'netflix-1_employees.csv'\n",
      "Wrote 874 lines to: 'netflix-1_employees.csv'\n",
      "Wrote 875 lines to: 'netflix-1_employees.csv'\n",
      "Wrote 876 lines to: 'netflix-1_employees.csv'\n",
      "Wrote 877 lines to: 'netflix-1_employees.csv'\n",
      "Wrote 878 lines to: 'netflix-1_employees.csv'\n",
      "Wrote 879 lines to: 'netflix-1_employees.csv'\n",
      "Wrote 880 lines to: 'netflix-1_employees.csv'\n",
      "Wrote 881 lines to: 'netflix-1_employees.csv'\n",
      "Wrote 882 lines to: 'netflix-1_employees.csv'\n",
      "Wrote 883 lines to: 'netflix-1_employees.csv'\n",
      "Wrote 884 lines to: 'netflix-1_employees.csv'\n",
      "Wrote 885 lines to: 'netflix-1_employees.csv'\n",
      "Wrote 886 lines to: 'netflix-1_employees.csv'\n",
      "Wrote 887 lines to: 'netflix-1_employees.csv'\n",
      "Wrote 888 lines to: 'netflix-1_employees.csv'\n",
      "Wrote 889 lines to: 'netflix-1_employees.csv'\n",
      "Wrote 890 lines to: 'netflix-1_employees.csv'\n",
      "Wrote 891 lines to: 'netflix-1_employees.csv'\n",
      "Wrote 892 lines to: 'netflix-1_employees.csv'\n",
      "Wrote 893 lines to: 'netflix-1_employees.csv'\n",
      "Wrote 894 lines to: 'netflix-1_employees.csv'\n",
      "Wrote 895 lines to: 'netflix-1_employees.csv'\n",
      "Wrote 896 lines to: 'netflix-1_employees.csv'\n",
      "Wrote 897 lines to: 'netflix-1_employees.csv'\n",
      "Wrote 898 lines to: 'netflix-1_employees.csv'\n",
      "Wrote 899 lines to: 'netflix-1_employees.csv'\n",
      "Wrote 900 lines to: 'netflix-1_employees.csv'\n",
      "Wrote 901 lines to: 'netflix-1_employees.csv'\n",
      "Wrote 902 lines to: 'netflix-1_employees.csv'\n",
      "Wrote 903 lines to: 'netflix-1_employees.csv'\n",
      "Wrote 904 lines to: 'netflix-1_employees.csv'\n",
      "Wrote 905 lines to: 'netflix-1_employees.csv'\n",
      "Wrote 906 lines to: 'netflix-1_employees.csv'\n",
      "Wrote 907 lines to: 'netflix-1_employees.csv'\n",
      "Wrote 908 lines to: 'netflix-1_employees.csv'\n",
      "Wrote 909 lines to: 'netflix-1_employees.csv'\n",
      "Wrote 910 lines to: 'netflix-1_employees.csv'\n",
      "Wrote 911 lines to: 'netflix-1_employees.csv'\n",
      "Wrote 912 lines to: 'netflix-1_employees.csv'\n",
      "Wrote 913 lines to: 'netflix-1_employees.csv'\n",
      "Wrote 914 lines to: 'netflix-1_employees.csv'\n",
      "Wrote 915 lines to: 'netflix-1_employees.csv'\n",
      "Wrote 916 lines to: 'netflix-1_employees.csv'\n",
      "Wrote 917 lines to: 'netflix-1_employees.csv'\n",
      "Wrote 918 lines to: 'netflix-1_employees.csv'\n",
      "Wrote 919 lines to: 'netflix-1_employees.csv'\n",
      "Wrote 920 lines to: 'netflix-1_employees.csv'\n",
      "Wrote 921 lines to: 'netflix-1_employees.csv'\n",
      "Wrote 922 lines to: 'netflix-1_employees.csv'\n",
      "Wrote 923 lines to: 'netflix-1_employees.csv'\n",
      "Wrote 924 lines to: 'netflix-1_employees.csv'\n",
      "Wrote 925 lines to: 'netflix-1_employees.csv'\n",
      "Wrote 926 lines to: 'netflix-1_employees.csv'\n",
      "Wrote 927 lines to: 'netflix-1_employees.csv'\n",
      "Wrote 928 lines to: 'netflix-1_employees.csv'\n",
      "Wrote 929 lines to: 'netflix-1_employees.csv'\n",
      "Wrote 930 lines to: 'netflix-1_employees.csv'\n",
      "Wrote 931 lines to: 'netflix-1_employees.csv'\n",
      "Wrote 932 lines to: 'netflix-1_employees.csv'\n",
      "Wrote 933 lines to: 'netflix-1_employees.csv'\n",
      "Wrote 934 lines to: 'netflix-1_employees.csv'\n",
      "Wrote 935 lines to: 'netflix-1_employees.csv'\n",
      "Wrote 936 lines to: 'netflix-1_employees.csv'\n",
      "Wrote 937 lines to: 'netflix-1_employees.csv'\n",
      "Wrote 938 lines to: 'netflix-1_employees.csv'\n",
      "Wrote 939 lines to: 'netflix-1_employees.csv'\n",
      "Wrote 940 lines to: 'netflix-1_employees.csv'\n",
      "Wrote 941 lines to: 'netflix-1_employees.csv'\n",
      "Wrote 942 lines to: 'netflix-1_employees.csv'\n",
      "Wrote 943 lines to: 'netflix-1_employees.csv'\n",
      "Wrote 944 lines to: 'netflix-1_employees.csv'\n",
      "Wrote 945 lines to: 'netflix-1_employees.csv'\n",
      "Wrote 946 lines to: 'netflix-1_employees.csv'\n",
      "Wrote 947 lines to: 'netflix-1_employees.csv'\n",
      "Wrote 948 lines to: 'netflix-1_employees.csv'\n",
      "Wrote 949 lines to: 'netflix-1_employees.csv'\n",
      "Wrote 950 lines to: 'netflix-1_employees.csv'\n",
      "Wrote 951 lines to: 'netflix-1_employees.csv'\n",
      "Wrote 952 lines to: 'netflix-1_employees.csv'\n",
      "Wrote 953 lines to: 'netflix-1_employees.csv'\n",
      "Wrote 954 lines to: 'netflix-1_employees.csv'\n",
      "Wrote 955 lines to: 'netflix-1_employees.csv'\n",
      "Wrote 956 lines to: 'netflix-1_employees.csv'\n",
      "Wrote 957 lines to: 'netflix-1_employees.csv'\n",
      "Wrote 958 lines to: 'netflix-1_employees.csv'\n",
      "Wrote 959 lines to: 'netflix-1_employees.csv'\n",
      "Wrote 960 lines to: 'netflix-1_employees.csv'\n",
      "Wrote 961 lines to: 'netflix-1_employees.csv'\n",
      "Wrote 962 lines to: 'netflix-1_employees.csv'\n",
      "Wrote 963 lines to: 'netflix-1_employees.csv'\n",
      "Wrote 964 lines to: 'netflix-1_employees.csv'\n",
      "Wrote 965 lines to: 'netflix-1_employees.csv'\n",
      "Wrote 966 lines to: 'netflix-1_employees.csv'\n",
      "Wrote 967 lines to: 'netflix-1_employees.csv'\n",
      "Wrote 968 lines to: 'netflix-1_employees.csv'\n",
      "Wrote 969 lines to: 'netflix-1_employees.csv'\n",
      "Wrote 970 lines to: 'netflix-1_employees.csv'\n",
      "Wrote 971 lines to: 'netflix-1_employees.csv'\n",
      "Wrote 972 lines to: 'netflix-1_employees.csv'\n",
      "Wrote 973 lines to: 'netflix-1_employees.csv'\n",
      "Wrote 974 lines to: 'netflix-1_employees.csv'\n",
      "Wrote 975 lines to: 'netflix-1_employees.csv'\n",
      "Wrote 976 lines to: 'netflix-1_employees.csv'\n",
      "Wrote 977 lines to: 'netflix-1_employees.csv'\n",
      "Wrote 978 lines to: 'netflix-1_employees.csv'\n",
      "Wrote 979 lines to: 'netflix-1_employees.csv'\n",
      "Wrote 980 lines to: 'netflix-1_employees.csv'\n",
      "Wrote 981 lines to: 'netflix-1_employees.csv'\n",
      "Wrote 982 lines to: 'netflix-1_employees.csv'\n",
      "Wrote 983 lines to: 'netflix-1_employees.csv'\n",
      "Wrote 984 lines to: 'netflix-1_employees.csv'\n",
      "Wrote 985 lines to: 'netflix-1_employees.csv'\n",
      "Wrote 986 lines to: 'netflix-1_employees.csv'\n",
      "Wrote 987 lines to: 'netflix-1_employees.csv'\n",
      "Wrote 988 lines to: 'netflix-1_employees.csv'\n",
      "Wrote 989 lines to: 'netflix-1_employees.csv'\n",
      "Wrote 990 lines to: 'netflix-1_employees.csv'\n",
      "Wrote 991 lines to: 'netflix-1_employees.csv'\n",
      "Wrote 992 lines to: 'netflix-1_employees.csv'\n",
      "Wrote 993 lines to: 'netflix-1_employees.csv'\n",
      "Wrote 994 lines to: 'netflix-1_employees.csv'\n",
      "Wrote 995 lines to: 'netflix-1_employees.csv'\n",
      "Wrote 996 lines to: 'netflix-1_employees.csv'\n",
      "Wrote 997 lines to: 'netflix-1_employees.csv'\n",
      "Wrote 998 lines to: 'netflix-1_employees.csv'\n",
      "Wrote 999 lines to: 'netflix-1_employees.csv'\n",
      "Wrote 1000 lines to: 'netflix-1_employees.csv'\n",
      "Wrote 1001 lines to: 'netflix-1_employees.csv'\n",
      "Wrote 1002 lines to: 'netflix-1_employees.csv'\n",
      "Wrote 1003 lines to: 'netflix-1_employees.csv'\n",
      "Wrote 1004 lines to: 'netflix-1_employees.csv'\n",
      "Wrote 1005 lines to: 'netflix-1_employees.csv'\n",
      "Wrote 1006 lines to: 'netflix-1_employees.csv'\n",
      "Wrote 1007 lines to: 'netflix-1_employees.csv'\n",
      "Wrote 1008 lines to: 'netflix-1_employees.csv'\n",
      "Wrote 1009 lines to: 'netflix-1_employees.csv'\n",
      "Wrote 1010 lines to: 'netflix-1_employees.csv'\n",
      "Wrote 1011 lines to: 'netflix-1_employees.csv'\n",
      "Wrote 1012 lines to: 'netflix-1_employees.csv'\n",
      "Wrote 1013 lines to: 'netflix-1_employees.csv'\n",
      "Wrote 1014 lines to: 'netflix-1_employees.csv'\n",
      "Wrote 1015 lines to: 'netflix-1_employees.csv'\n",
      "Wrote 1016 lines to: 'netflix-1_employees.csv'\n",
      "Wrote 1017 lines to: 'netflix-1_employees.csv'\n",
      "Wrote 1018 lines to: 'netflix-1_employees.csv'\n",
      "Wrote 1019 lines to: 'netflix-1_employees.csv'\n",
      "Wrote 1020 lines to: 'netflix-1_employees.csv'\n",
      "Wrote 1021 lines to: 'netflix-1_employees.csv'\n",
      "Wrote 1022 lines to: 'netflix-1_employees.csv'\n",
      "Wrote 1023 lines to: 'netflix-1_employees.csv'\n",
      "Wrote 1024 lines to: 'netflix-1_employees.csv'\n",
      "Wrote 1025 lines to: 'netflix-1_employees.csv'\n",
      "Wrote 1026 lines to: 'netflix-1_employees.csv'\n",
      "Wrote 1027 lines to: 'netflix-1_employees.csv'\n",
      "Wrote 1028 lines to: 'netflix-1_employees.csv'\n",
      "Wrote 1029 lines to: 'netflix-1_employees.csv'\n",
      "Wrote 1030 lines to: 'netflix-1_employees.csv'\n",
      "Wrote 1031 lines to: 'netflix-1_employees.csv'\n",
      "Wrote 1032 lines to: 'netflix-1_employees.csv'\n",
      "Wrote 1033 lines to: 'netflix-1_employees.csv'\n",
      "Wrote 1034 lines to: 'netflix-1_employees.csv'\n",
      "Wrote 1035 lines to: 'netflix-1_employees.csv'\n",
      "Wrote 1036 lines to: 'netflix-1_employees.csv'\n",
      "Wrote 1037 lines to: 'netflix-1_employees.csv'\n",
      "Wrote 1038 lines to: 'netflix-1_employees.csv'\n",
      "Wrote 1039 lines to: 'netflix-1_employees.csv'\n",
      "Wrote 1040 lines to: 'netflix-1_employees.csv'\n",
      "Wrote 1041 lines to: 'netflix-1_employees.csv'\n",
      "Wrote 1042 lines to: 'netflix-1_employees.csv'\n",
      "Wrote 1043 lines to: 'netflix-1_employees.csv'\n",
      "Wrote 1044 lines to: 'netflix-1_employees.csv'\n",
      "Wrote 1045 lines to: 'netflix-1_employees.csv'\n",
      "Wrote 1046 lines to: 'netflix-1_employees.csv'\n",
      "Wrote 1047 lines to: 'netflix-1_employees.csv'\n",
      "Wrote 1048 lines to: 'netflix-1_employees.csv'\n",
      "Wrote 1049 lines to: 'netflix-1_employees.csv'\n",
      "Wrote 1050 lines to: 'netflix-1_employees.csv'\n",
      "Wrote 1051 lines to: 'netflix-1_employees.csv'\n",
      "Wrote 1052 lines to: 'netflix-1_employees.csv'\n",
      "Wrote 1053 lines to: 'netflix-1_employees.csv'\n",
      "Wrote 1054 lines to: 'netflix-1_employees.csv'\n",
      "Wrote 1055 lines to: 'netflix-1_employees.csv'\n",
      "Wrote 1056 lines to: 'netflix-1_employees.csv'\n",
      "Wrote 1057 lines to: 'netflix-1_employees.csv'\n",
      "Wrote 1058 lines to: 'netflix-1_employees.csv'\n",
      "Wrote 1059 lines to: 'netflix-1_employees.csv'\n",
      "Wrote 1060 lines to: 'netflix-1_employees.csv'\n",
      "Wrote 1061 lines to: 'netflix-1_employees.csv'\n",
      "Wrote 1062 lines to: 'netflix-1_employees.csv'\n",
      "Wrote 1063 lines to: 'netflix-1_employees.csv'\n",
      "Wrote 1064 lines to: 'netflix-1_employees.csv'\n",
      "Wrote 1065 lines to: 'netflix-1_employees.csv'\n",
      "Wrote 1066 lines to: 'netflix-1_employees.csv'\n",
      "Wrote 1067 lines to: 'netflix-1_employees.csv'\n",
      "Wrote 1068 lines to: 'netflix-1_employees.csv'\n",
      "Wrote 1069 lines to: 'netflix-1_employees.csv'\n",
      "Wrote 1070 lines to: 'netflix-1_employees.csv'\n",
      "Wrote 1071 lines to: 'netflix-1_employees.csv'\n",
      "Wrote 1072 lines to: 'netflix-1_employees.csv'\n",
      "Wrote 1073 lines to: 'netflix-1_employees.csv'\n",
      "Wrote 1074 lines to: 'netflix-1_employees.csv'\n",
      "Wrote 1075 lines to: 'netflix-1_employees.csv'\n",
      "Wrote 1076 lines to: 'netflix-1_employees.csv'\n",
      "Wrote 1077 lines to: 'netflix-1_employees.csv'\n",
      "Wrote 1078 lines to: 'netflix-1_employees.csv'\n",
      "Wrote 1079 lines to: 'netflix-1_employees.csv'\n",
      "Wrote 1080 lines to: 'netflix-1_employees.csv'\n",
      "Wrote 1081 lines to: 'netflix-1_employees.csv'\n",
      "Wrote 1082 lines to: 'netflix-1_employees.csv'\n",
      "Wrote 1083 lines to: 'netflix-1_employees.csv'\n",
      "Wrote 1084 lines to: 'netflix-1_employees.csv'\n",
      "Wrote 1085 lines to: 'netflix-1_employees.csv'\n",
      "Wrote 1086 lines to: 'netflix-1_employees.csv'\n",
      "Wrote 1087 lines to: 'netflix-1_employees.csv'\n",
      "Wrote 1088 lines to: 'netflix-1_employees.csv'\n",
      "Wrote 1089 lines to: 'netflix-1_employees.csv'\n",
      "Wrote 1090 lines to: 'netflix-1_employees.csv'\n",
      "Wrote 1091 lines to: 'netflix-1_employees.csv'\n",
      "Wrote 1092 lines to: 'netflix-1_employees.csv'\n",
      "Wrote 1093 lines to: 'netflix-1_employees.csv'\n",
      "Wrote 1094 lines to: 'netflix-1_employees.csv'\n",
      "Wrote 1095 lines to: 'netflix-1_employees.csv'\n",
      "Wrote 1096 lines to: 'netflix-1_employees.csv'\n",
      "Wrote 1097 lines to: 'netflix-1_employees.csv'\n",
      "Wrote 1098 lines to: 'netflix-1_employees.csv'\n",
      "Wrote 1099 lines to: 'netflix-1_employees.csv'\n",
      "Wrote 1100 lines to: 'netflix-1_employees.csv'\n",
      "Wrote 1101 lines to: 'netflix-1_employees.csv'\n",
      "Wrote 1102 lines to: 'netflix-1_employees.csv'\n",
      "Wrote 1103 lines to: 'netflix-1_employees.csv'\n",
      "Wrote 1104 lines to: 'netflix-1_employees.csv'\n",
      "Wrote 1105 lines to: 'netflix-1_employees.csv'\n",
      "Wrote 1106 lines to: 'netflix-1_employees.csv'\n",
      "Wrote 1107 lines to: 'netflix-1_employees.csv'\n",
      "Wrote 1108 lines to: 'netflix-1_employees.csv'\n",
      "Wrote 1109 lines to: 'netflix-1_employees.csv'\n",
      "Wrote 1110 lines to: 'netflix-1_employees.csv'\n",
      "Wrote 1111 lines to: 'netflix-1_employees.csv'\n",
      "Wrote 1112 lines to: 'netflix-1_employees.csv'\n",
      "Wrote 1113 lines to: 'netflix-1_employees.csv'\n",
      "Wrote 1114 lines to: 'netflix-1_employees.csv'\n",
      "Wrote 1115 lines to: 'netflix-1_employees.csv'\n",
      "Wrote 1116 lines to: 'netflix-1_employees.csv'\n",
      "Wrote 1117 lines to: 'netflix-1_employees.csv'\n",
      "Wrote 1118 lines to: 'netflix-1_employees.csv'\n",
      "Wrote 1119 lines to: 'netflix-1_employees.csv'\n",
      "Wrote 1120 lines to: 'netflix-1_employees.csv'\n",
      "Wrote 1121 lines to: 'netflix-1_employees.csv'\n",
      "Wrote 1122 lines to: 'netflix-1_employees.csv'\n",
      "Wrote 1123 lines to: 'netflix-1_employees.csv'\n",
      "Wrote 1124 lines to: 'netflix-1_employees.csv'\n",
      "Wrote 1125 lines to: 'netflix-1_employees.csv'\n",
      "Wrote 1126 lines to: 'netflix-1_employees.csv'\n",
      "Wrote 1127 lines to: 'netflix-1_employees.csv'\n",
      "Wrote 1128 lines to: 'netflix-1_employees.csv'\n",
      "Wrote 1129 lines to: 'netflix-1_employees.csv'\n",
      "Wrote 1130 lines to: 'netflix-1_employees.csv'\n",
      "Wrote 1131 lines to: 'netflix-1_employees.csv'\n",
      "Wrote 1132 lines to: 'netflix-1_employees.csv'\n",
      "Wrote 1133 lines to: 'netflix-1_employees.csv'\n",
      "Wrote 1134 lines to: 'netflix-1_employees.csv'\n",
      "Wrote 1135 lines to: 'netflix-1_employees.csv'\n",
      "Wrote 1136 lines to: 'netflix-1_employees.csv'\n",
      "Wrote 1137 lines to: 'netflix-1_employees.csv'\n",
      "Wrote 1138 lines to: 'netflix-1_employees.csv'\n",
      "Wrote 1139 lines to: 'netflix-1_employees.csv'\n",
      "Wrote 1140 lines to: 'netflix-1_employees.csv'\n",
      "Wrote 1141 lines to: 'netflix-1_employees.csv'\n",
      "Wrote 1142 lines to: 'netflix-1_employees.csv'\n",
      "Wrote 1143 lines to: 'netflix-1_employees.csv'\n",
      "Wrote 1144 lines to: 'netflix-1_employees.csv'\n",
      "Wrote 1145 lines to: 'netflix-1_employees.csv'\n",
      "Wrote 1146 lines to: 'netflix-1_employees.csv'\n",
      "Wrote 1147 lines to: 'netflix-1_employees.csv'\n",
      "Wrote 1148 lines to: 'netflix-1_employees.csv'\n",
      "Wrote 1149 lines to: 'netflix-1_employees.csv'\n",
      "Wrote 1150 lines to: 'netflix-1_employees.csv'\n",
      "Wrote 1151 lines to: 'netflix-1_employees.csv'\n",
      "Wrote 1152 lines to: 'netflix-1_employees.csv'\n",
      "Wrote 1153 lines to: 'netflix-1_employees.csv'\n",
      "Wrote 1154 lines to: 'netflix-1_employees.csv'\n",
      "Wrote 1155 lines to: 'netflix-1_employees.csv'\n",
      "Wrote 1156 lines to: 'netflix-1_employees.csv'\n",
      "Wrote 1157 lines to: 'netflix-1_employees.csv'\n",
      "Wrote 1158 lines to: 'netflix-1_employees.csv'\n",
      "Wrote 1159 lines to: 'netflix-1_employees.csv'\n",
      "Wrote 1160 lines to: 'netflix-1_employees.csv'\n",
      "Wrote 1161 lines to: 'netflix-1_employees.csv'\n",
      "Wrote 1162 lines to: 'netflix-1_employees.csv'\n",
      "Wrote 1163 lines to: 'netflix-1_employees.csv'\n",
      "Wrote 1164 lines to: 'netflix-1_employees.csv'\n",
      "Wrote 1165 lines to: 'netflix-1_employees.csv'\n",
      "Wrote 1166 lines to: 'netflix-1_employees.csv'\n",
      "Wrote 1167 lines to: 'netflix-1_employees.csv'\n",
      "Wrote 1168 lines to: 'netflix-1_employees.csv'\n",
      "Wrote 1169 lines to: 'netflix-1_employees.csv'\n",
      "Wrote 1170 lines to: 'netflix-1_employees.csv'\n",
      "Wrote 1171 lines to: 'netflix-1_employees.csv'\n",
      "Wrote 1172 lines to: 'netflix-1_employees.csv'\n",
      "Wrote 1173 lines to: 'netflix-1_employees.csv'\n",
      "Wrote 1174 lines to: 'netflix-1_employees.csv'\n",
      "Wrote 1175 lines to: 'netflix-1_employees.csv'\n",
      "Wrote 1176 lines to: 'netflix-1_employees.csv'\n",
      "Wrote 1177 lines to: 'netflix-1_employees.csv'\n",
      "Wrote 1178 lines to: 'netflix-1_employees.csv'\n",
      "Wrote 1179 lines to: 'netflix-1_employees.csv'\n",
      "Wrote 1180 lines to: 'netflix-1_employees.csv'\n",
      "Wrote 1181 lines to: 'netflix-1_employees.csv'\n",
      "Wrote 1182 lines to: 'netflix-1_employees.csv'\n",
      "Wrote 1183 lines to: 'netflix-1_employees.csv'\n",
      "Wrote 1184 lines to: 'netflix-1_employees.csv'\n",
      "Wrote 1185 lines to: 'netflix-1_employees.csv'\n",
      "Wrote 1186 lines to: 'netflix-1_employees.csv'\n",
      "Wrote 1187 lines to: 'netflix-1_employees.csv'\n",
      "Wrote 1188 lines to: 'netflix-1_employees.csv'\n",
      "Wrote 1189 lines to: 'netflix-1_employees.csv'\n",
      "Wrote 1190 lines to: 'netflix-1_employees.csv'\n",
      "Wrote 1191 lines to: 'netflix-1_employees.csv'\n",
      "Wrote 1192 lines to: 'netflix-1_employees.csv'\n",
      "Wrote 1193 lines to: 'netflix-1_employees.csv'\n",
      "Wrote 1194 lines to: 'netflix-1_employees.csv'\n",
      "Wrote 1195 lines to: 'netflix-1_employees.csv'\n",
      "Wrote 1196 lines to: 'netflix-1_employees.csv'\n",
      "Wrote 1197 lines to: 'netflix-1_employees.csv'\n"
     ]
    },
    {
     "data": {
      "application/vnd.plotly.v1+json": {
       "config": {
        "plotlyServerURL": "https://plot.ly"
       },
       "data": [
        {
         "coloraxis": "coloraxis",
         "customdata": [
          [
           "senior software engineer",
           "university of washington"
          ],
          [
           "global head of ecommerce",
           "the art institutes"
          ],
          [
           "director, preschool content",
           "new york university"
          ],
          [
           "senior software engineer, video engineering",
           "brooks institute"
          ],
          [
           "support solutions engineer",
           "san jose state university"
          ],
          [
           "senior software engineer",
           "northeastern university"
          ],
          [
           "partnerships",
           "the wharton school"
          ],
          [
           "director of device and content security",
           "michigan technological university"
          ],
          [
           "senior software engineer",
           "loyola university chicago"
          ],
          [
           "product manager, studio innovation",
           "stanford university"
          ],
          [
           "director, product legal",
           "university of california, davis - school of law"
          ],
          [
           "creative content manager, drama and genre series",
           "syracuse university"
          ],
          [
           "technical recruiter",
           "columbia college (sc)"
          ],
          [
           "senior security engineer",
           "depaul university"
          ],
          [
           "senior software engineer - user interface",
           "university of virginia"
          ],
          [
           "senior software engineer",
           "university of new orleans"
          ],
          [
           "senior android developer",
           "texas a&m university"
          ],
          [
           "director, legal and business affairs",
           "university of california, los angeles"
          ],
          [
           "senior security user interface engineer",
           "san jose state university"
          ],
          [
           "director, gaming data science and engineering",
           "queen's university"
          ],
          [
           "senior machine learning scientist",
           "stanford university"
          ],
          [
           "senior software engineer",
           "florida institute of technology"
          ],
          [
           "talent acquisition",
           "uc irvine"
          ],
          [
           "director, series publicity",
           "syracuse university"
          ],
          [
           "senior software engineer",
           "virginia tech"
          ],
          [
           "director, global creative marketing",
           "university of southern california"
          ],
          [
           "product design lead",
           "george mason university"
          ],
          [
           "engineering manager, continuous integration",
           "chatrapati sahuji maharaj kanpur university, kanpur"
          ],
          [
           "director of engineering, access and identity management, product edge services",
           "worcester polytechnic institute"
          ],
          [
           "product design manager, studio xd",
           "rhode island school of design"
          ],
          [
           "senior software engineer",
           "university of california, berkeley"
          ],
          [
           "director of global visual effects resource strategy",
           "pepperdine graziadio business school"
          ],
          [
           "director, marketing - documentary series",
           "emerson college"
          ],
          [
           "senior full stack engineer",
           "university of southern california"
          ],
          [
           "senior software engineer",
           "university of california, santa cruz"
          ],
          [
           "senior software engineer",
           "university of north carolina at chapel hill"
          ],
          [
           "senior software engineer",
           "university of southern california"
          ],
          [
           "vice president, tv product engineering",
           "stanford university"
          ],
          [
           "contingent talent partner",
           "arizona state university"
          ],
          [
           "manager production systems engineering",
           "loyola marymount university"
          ],
          [
           "product design manager",
           "university of massachusetts dartmouth"
          ],
          [
           "senior software engineer",
           "west valley college"
          ],
          [
           "senior software engineer",
           "de anza college"
          ],
          [
           "business development",
           "university of southern california"
          ],
          [
           "senior manager",
           "babson college"
          ],
          [
           "executive assistant",
           "loyola marymount university"
          ],
          [
           "senior software engineer",
           "south dakota school of mines and technology"
          ],
          [
           "senior software engineer",
           "university of miami"
          ],
          [
           "senior software engineer",
           "california state university, monterey bay"
          ],
          [
           "director, data science and engineering",
           "birla institute of technology and science, pilani"
          ],
          [
           "senior software engineer",
           "university of southern california"
          ],
          [
           "manager, national publicity",
           "syracuse university - martin j. whitman school of management"
          ],
          [
           "senior software engineer",
           "the university of texas at dallas"
          ],
          [
           "manager, security operations",
           "university of southern california - marshall school of business"
          ],
          [
           "compensation business partner",
           "brigham young university"
          ],
          [
           "pipeline supervisor, animation",
           "university of pennsylvania"
          ],
          [
           "senior software engineer",
           "university of minnesota"
          ],
          [
           "design leader @netflix",
           "university of maryland"
          ],
          [
           "director of product management",
           "university of california, los angeles"
          ],
          [
           "curation specialist, photo studio",
           "goucher college"
          ],
          [
           "vice president, studio strategy and analysis",
           "the wharton school"
          ],
          [
           "product",
           "santa clara university"
          ],
          [
           "senior software engineer",
           "wayne state university"
          ],
          [
           "director of events, latin america",
           "university of washington"
          ],
          [
           "senior user interface engineer",
           "university of pennsylvania"
          ],
          [
           "senior product researcher",
           "california college of the arts"
          ],
          [
           "senior data scientist",
           "university of wisconsin - madison"
          ],
          [
           "senior software engineer",
           "university of illinois at chicago"
          ],
          [
           "director, talent - hr bp talent",
           "university of arizona"
          ],
          [
           "senior software tools engineer",
           "utah valley university"
          ],
          [
           "senior software engineer",
           "boston university"
          ],
          [
           "manager - feature animation post production",
           "colorado state university"
          ],
          [
           "production finance manager",
           "baruch college"
          ],
          [
           "director, original documentary programming",
           "university of california, berkeley"
          ],
          [
           "senior counsel, music",
           "university of california, los angeles"
          ],
          [
           "technology solutions manager",
           "university of california, los angeles"
          ],
          [
           "senior analytics engineer",
           "princeton university"
          ],
          [
           "head of talent acquisition - uk",
           "pepperdine university"
          ],
          [
           "program food and beverage",
           "university of california, santa cruz"
          ],
          [
           "labor relations coordinator",
           "university of wisconsin - milwaukee"
          ],
          [
           "coordinator, inclusion learning and development",
           "pepperdine university"
          ],
          [
           "leader of growth apac engineering",
           "university of washington"
          ],
          [
           "engineering manager, real time data platform",
           "florida international university"
          ],
          [
           "director of engineering",
           "pg center, kolar"
          ],
          [
           "senior software engineering",
           "new york university"
          ],
          [
           "senior software engineer",
           "cabrillo college"
          ],
          [
           "product reliability engineer",
           "bethel university"
          ],
          [
           "global creative marketing ucan - latam",
           "california state university, fresno"
          ],
          [
           "analyst, corporate card and expense operations - emea",
           "marquette university"
          ],
          [
           "director, studio user interface",
           "university of san diego"
          ],
          [
           "senior vendor buying analyst",
           "portland community college"
          ],
          [
           "project manager, launch operations",
           "uc santa barbara"
          ],
          [
           "data science manager, open connect",
           "university of california, davis"
          ],
          [
           "production manager",
           "california state university, los angeles"
          ],
          [
           "senior software engineer",
           "university of california, los angeles"
          ],
          [
           "vfx manager, ucan series",
           "universidad complutense de madrid"
          ],
          [
           "drivers license: a",
           "university of illinois at urbana - champaign"
          ],
          [
           "senior software engineer",
           "university of delaware"
          ],
          [
           "senior manager, production finance",
           "florida state university"
          ],
          [
           "manager, regional publicity",
           "american university"
          ],
          [
           "senior software engineer",
           "university of california, berkeley"
          ],
          [
           "manager, talent intelligence",
           "university of san francisco"
          ],
          [
           "counsel, netflix original series",
           "american university washington college of law"
          ],
          [
           "engineering manager",
           "university of maryland"
          ],
          [
           "senior manager, content fp and a",
           "university of southern california"
          ],
          [
           "internal audit manager",
           "university of san francisco"
          ],
          [
           "post production executive, studio feature films",
           "temple university"
          ],
          [
           "data product @ netflix",
           "university of california, berkeley"
          ],
          [
           "manager, creative asset operations",
           "university of oregon"
          ],
          [
           "senior network site reliability engineer",
           "alcester - hudson high school"
          ],
          [
           "director, global product research",
           "university of pennsylvania"
          ],
          [
           "researching and recruiting tech talent",
           "university of the pacific"
          ],
          [
           "director, content strategy [ netflix original film",
           "international culinary center"
          ],
          [
           "site reliability engineering manager",
           "university of maryland - university college"
          ],
          [
           "director, human resources business partner",
           "wayne state university"
          ],
          [
           "senior full-stack engineer",
           "university of california, berkeley"
          ],
          [
           "senior software engineer",
           "university of central florida"
          ],
          [
           "senior user interface engineer - tv platforms",
           "stanford university"
          ],
          [
           "technical program manager, information security",
           "brown university"
          ],
          [
           "manager, partner marketing creative",
           "chapman university"
          ],
          [
           "director, post production",
           "pepperdine university"
          ],
          [
           "data engineer",
           "university of southern california"
          ],
          [
           "human resources leader",
           "university of illinois at urbana - champaign"
          ],
          [
           "senior software engineer",
           "carleton university"
          ],
          [
           "manager, global creative marketing",
           "duke university"
          ],
          [
           "director of talent",
           "university of california, davis"
          ],
          [
           "senior software engineer",
           "carnegie mellon university"
          ],
          [
           "line producer, brand and editorial",
           "new york film academy"
          ],
          [
           "senior software engineer",
           "uc san diego"
          ],
          [
           "director of product management",
           "california state university, fullerton"
          ],
          [
           "post production manager - documentary",
           "columbia college chicago"
          ],
          [
           "director of design, interactive experiences",
           "massachusetts college of art and design"
          ],
          [
           "client technology specialist",
           "null"
          ],
          [
           "senior security engineer",
           "victoria university of wellington"
          ],
          [
           "vice president, head of original series, emea",
           "harvard university"
          ],
          [
           "senior user interface engineer",
           "thomas rotherham college"
          ],
          [
           "talent acquisition @ netflix",
           "california polytechnic state university - san luis obispo"
          ],
          [
           "senior software engineer",
           "university of san francisco"
          ],
          [
           "senior software engineer",
           "university of southern california"
          ],
          [
           "senior sdet -- android",
           "university of la verne"
          ],
          [
           "senior software engineer",
           "arizona state university"
          ],
          [
           "head of production technology and operations",
           "university of california, santa cruz"
          ],
          [
           "senior analytics engineer",
           "the collins college of hospitality management at cal poly pomona"
          ],
          [
           "senior program manager, creative asset optimization",
           "uc santa barbara"
          ],
          [
           "brand strategy, research and communications",
           "georgetown university mcdonough school of business"
          ],
          [
           "senior software engineer",
           "university of pennsylvania"
          ],
          [
           "senior product designer",
           "southridge high school"
          ],
          [
           "manager, screen credits",
           "brooks institute"
          ],
          [
           "global director of marketing",
           "hampton university"
          ],
          [
           "photo campaign manager, series",
           "chapman university"
          ],
          [
           "engineering manager, ios user interface",
           "central washington university"
          ],
          [
           "senior software engineer",
           "uc irvine"
          ],
          [
           "manager, animation series",
           "boston university"
          ],
          [
           "tech ops domestic manager",
           "loyola marymount university"
          ],
          [
           "senior software engineer",
           "dartmouth college"
          ],
          [
           "creative production program manager - innovation platforms",
           "wayne state university"
          ],
          [
           "partner marketing creative - latam at netflix",
           "uc irvine"
          ],
          [
           "ucan av manager",
           "ex'pression college for digital arts"
          ],
          [
           "senior analytics and visualization engineer",
           "canisius college"
          ],
          [
           "network architect",
           "sir syed university"
          ],
          [
           "product manager, content platform engineering",
           "savannah college of art and design"
          ],
          [
           "director, productivity engineering",
           "george mason university"
          ],
          [
           "senior user interface engineer",
           "the collins college of hospitality management at cal poly pomona"
          ],
          [
           "director",
           "uc santa barbara"
          ],
          [
           "senior software engineer",
           "university of california, los angeles"
          ],
          [
           "executive assistant, talent - content",
           "university of southern california"
          ],
          [
           "on-site support specialist, los angeles studio, netflix technology",
           "berklee college of music"
          ],
          [
           "vice president, studio product innovation",
           "pomona college"
          ],
          [
           "senior software codesmith",
           "stanford university"
          ],
          [
           "global creative marketing, films",
           "university of virginia"
          ],
          [
           "ea, music creative and production",
           "national university"
          ],
          [
           "av producer",
           "null"
          ],
          [
           "product content innovation, emea",
           "stanford university"
          ],
          [
           "av engineer - events",
           "california state university, long beach"
          ],
          [
           "vice president, netflix original films marketing",
           "macalester college"
          ],
          [
           "senior database solutions engineer",
           "university of vermont"
          ],
          [
           "financial analyst, residuals-animation films and series",
           "the university of tulsa"
          ],
          [
           "payments - senior software engineer",
           "chulalongkorn university"
          ],
          [
           "series campaign manager",
           "virginia commonwealth university"
          ],
          [
           "director and senior counsel - intellectual property",
           "university of arizona"
          ],
          [
           "360 film marketing manager",
           "ruben s ayala high school"
          ],
          [
           "head of still photography - film",
           "university of melbourne"
          ],
          [
           "manager, talent experiences and gifting",
           "university of nebraska at omaha"
          ],
          [
           "producer, studio games",
           "university of central florida"
          ],
          [
           "counsel",
           "university of the pacific - mcgeorge school of law"
          ],
          [
           "writing innovation manager",
           "the university of alabama"
          ],
          [
           "senior software engineer",
           "vellore institute of technology"
          ],
          [
           "senior research engineer",
           "washington state university"
          ],
          [
           "production tax senior analyst",
           "loyola law school, los angeles"
          ],
          [
           "talent team executive assistant",
           "california state university, chico"
          ],
          [
           "principal product designer",
           "rochester institute of technology"
          ],
          [
           "senior software engineer",
           "uc berkeley college of engineering"
          ],
          [
           "product writer and editor, editorial creative",
           "university of california, los angeles"
          ],
          [
           "marketing director",
           "the pennsylvania state university, university"
          ],
          [
           "engineering manager at netflix",
           "mes high school"
          ],
          [
           "director, business and legal affairs, original documentary features",
           "loyola university new orleans"
          ],
          [
           "senior software engineer",
           "rensselaer polytechnic institute"
          ],
          [
           "director - human resources",
           "san jose state university"
          ],
          [
           "assistant editor",
           "brookdale community college"
          ],
          [
           "senior systems engineer",
           "rensselaer polytechnic institute"
          ],
          [
           "business and legal affairs counsel, original studio films",
           "university of pennsylvania"
          ],
          [
           "manager, post production",
           "carthage college"
          ],
          [
           "director product management, innovation",
           "marymount university"
          ],
          [
           "it consultant",
           "tesst college of technology - towson"
          ],
          [
           "senior software engineer",
           "university of california, los angeles"
          ],
          [
           "apac screenings manager",
           "wayne state university"
          ],
          [
           "product metadata manager",
           "null"
          ],
          [
           "tv physical production",
           "tufts university"
          ],
          [
           "awards, animation",
           "university of the pacific"
          ],
          [
           "manager of strategy, planning and analysis",
           "the ohio state university"
          ],
          [
           "project manager, title operations: original films",
           "university of southern california"
          ],
          [
           "project manager",
           "university of nebraska at omaha"
          ],
          [
           "manager, music clearance",
           "university of california, los angeles"
          ],
          [
           "manager, inclusion",
           "saint john's university"
          ],
          [
           "manager, legal operations and tech",
           "woodbury university"
          ],
          [
           "manager, original series production",
           "boston university"
          ],
          [
           "operations specialist, artwork",
           "virginia commonwealth university"
          ],
          [
           "director, production management",
           "arizona state university"
          ],
          [
           "engineering manager",
           "university of california, berkeley"
          ],
          [
           "senior software automation engineer at netflix",
           "university of california, davis"
          ],
          [
           "executive assistant",
           "briar cliff university"
          ],
          [
           "editorial",
           "the johns hopkins university - paul h. nitze school of advanced international studies (sais)"
          ],
          [
           "director of creative development and production | editorial and publishing",
           "pepperdine university"
          ],
          [
           "the gray man",
           "the george washington university"
          ],
          [
           "vice president, engineering",
           "stanford university"
          ],
          [
           "staff writer",
           "boston university"
          ],
          [
           "product designer",
           "ringling college of art and design"
          ],
          [
           "operations manager",
           "williamsville south high school"
          ],
          [
           "senior software engineer",
           "new york university"
          ],
          [
           "post production manager",
           "university of missouri - columbia"
          ],
          [
           "senior software engineer",
           "massachusetts institute of technology"
          ],
          [
           "senior software engineer",
           "stanford university"
          ],
          [
           "director, inclusion strategy - talent and human resources, legal, inclusion initiatives",
           "harvard university"
          ],
          [
           "manager, post production strategy and operations",
           "california state university, northridge"
          ],
          [
           "senior product researcher",
           "sogang university"
          ],
          [
           "senior counsel, labor relations",
           "thomas jefferson school of law"
          ],
          [
           "human resources leader | model",
           "auburn university"
          ],
          [
           "non-fiction public relations",
           "pacific union college"
          ],
          [
           "manager, production finishing",
           "california state university, chico"
          ],
          [
           "brand design lead",
           "parsons school of design - the new school"
          ],
          [
           "recruiting researcher | netflix animated films",
           "the collins college of hospitality management at cal poly pomona"
          ],
          [
           "senior software engineer",
           "ithaca college"
          ],
          [
           "generalist, human resources production",
           "california state university, fullerton"
          ],
          [
           "post production executive, documentaries",
           "baylor university"
          ],
          [
           "director, business and legal affairs, original series",
           "villanova university"
          ],
          [
           "product designer",
           "carnegie mellon university"
          ],
          [
           "'extraction'",
           "vancouver film school"
          ],
          [
           "senior software engineer",
           "carnegie mellon university"
          ],
          [
           "product manager",
           "rensselaer polytechnic institute"
          ],
          [
           "administrative assistant",
           "san jose state university"
          ],
          [
           "engineering manager, studio tech solutions",
           "california state university, long beach"
          ],
          [
           "senior software engineer",
           "university of california, davis"
          ],
          [
           "senior software engineer",
           "massachusetts institute of technology"
          ],
          [
           "senior software engineer",
           "university of michigan"
          ],
          [
           "manager, original documentary series",
           "university of southern california"
          ],
          [
           "executive assistant in original series at netflix",
           "university of southern california"
          ],
          [
           "manager, supplier operations",
           "stevenson university"
          ],
          [
           "executive producer, netflix series",
           "hofstra university"
          ],
          [
           "manager - contingent compensation",
           "steinbeis - hochschule - berlin"
          ],
          [
           "department assistant",
           "california state university, fullerton"
          ],
          [
           "data engineering manager",
           "the university of texas at austin"
          ],
          [
           "business and legal, original family film",
           "boston university"
          ],
          [
           "post production assistant",
           "indiana university bloomington"
          ],
          [
           "vice president and associate general counsel",
           "wellesley college"
          ],
          [
           "recruiter",
           "villanova university"
          ],
          [
           "recruiter, emerging talent",
           "uc san diego"
          ],
          [
           "senior software engineer",
           "rochester institute of technology"
          ],
          [
           "integrated planning manager, korea",
           "new york university"
          ],
          [
           "associate, production finance",
           "mount saint mary's university"
          ],
          [
           "training manager",
           "eastern washington university"
          ],
          [
           "manager",
           "cornell university"
          ],
          [
           "producer for brutus pink",
           "university of california, los angeles"
          ],
          [
           "recruiter",
           "university of oregon"
          ],
          [
           "editor, product experience",
           "stanford continuing studies"
          ],
          [
           "creative coordinator, animated films",
           "university of california, los angeles"
          ],
          [
           "coordinator, casting administration",
           "morehouse college"
          ],
          [
           "senior software engineer",
           "california state university, northridge"
          ],
          [
           "design director",
           "university of california, santa cruz"
          ],
          [
           "senior software engineer",
           "stanford university"
          ],
          [
           "senior software engineer",
           "clemson university"
          ],
          [
           "senior user interface engineer",
           "georgia institute of technology"
          ],
          [
           "operations and support specialist",
           "suny new paltz"
          ],
          [
           "supervisor, client services",
           "graceland university"
          ],
          [
           "manager, studio user interface engineering",
           "university of california, berkeley"
          ],
          [
           "manager, creative resource management",
           "university of southern california"
          ],
          [
           "coordinator, global creative marketing for original films",
           "boston university"
          ],
          [
           "director, content financial planning and analysis",
           "arizona state university"
          ],
          [
           "engineering manager - playback data systems",
           "georgia institute of technology"
          ],
          [
           "senior software engineer - data engineering infrastructure",
           "iowa state university"
          ],
          [
           "director of engineering",
           "vassar college"
          ],
          [
           "senior studio operations finance business partner",
           "university of massachusetts dartmouth"
          ],
          [
           "research and development",
           "harvard business school"
          ],
          [
           "inclusion talent outreach and engagement - content creative",
           "the university of alabama"
          ],
          [
           "project management program lead | design and construction | real estate",
           "woodbury university"
          ],
          [
           "netflix html5 player, senior software engineer",
           "st. john's high school"
          ],
          [
           "actress voiceover and dubbing",
           "uc santa barbara"
          ],
          [
           "senior software engineer",
           "harvey mudd college"
          ],
          [
           "previs artist",
           "trinity college - hartford"
          ],
          [
           "global creative marketing manager, documentary features and series",
           "california state university, northridge"
          ],
          [
           "senior data engineer",
           "university of southern california"
          ],
          [
           "technical recruiter",
           "university of california, santa cruz"
          ],
          [
           "art and print producer - films",
           "california state university, northridge"
          ],
          [
           "senior software engineer",
           "university of southern california"
          ],
          [
           "recruiting researcher",
           "radford university"
          ],
          [
           "senior software engineer",
           "webster university"
          ],
          [
           "talent acquisition",
           "university of idaho"
          ],
          [
           "manager | digital production",
           "simmons university"
          ],
          [
           "operations supervisor ii",
           "columbus state community college"
          ],
          [
           "former otr area manager",
           "lakewood high school"
          ],
          [
           "manager, department assistants",
           "university of southern california"
          ],
          [
           "community and creative experiences specialist",
           "university of california, davis"
          ],
          [
           "design operations lead, xd",
           "university of san diego"
          ],
          [
           "director of product design",
           "the art institutes"
          ],
          [
           "director of engineering",
           "dartmouth college"
          ],
          [
           "director of post production, u.k. and emea",
           "new york university"
          ],
          [
           "director, original series post production",
           "university of tennessee, knoxville"
          ],
          [
           "original film publicity, netflix",
           "the university of georgia"
          ],
          [
           "senior data engineer",
           "university of california, los angeles"
          ],
          [
           "manager of finance",
           "antioch university new england"
          ],
          [
           "global experiences strategy",
           "the wharton school"
          ],
          [
           "senior analytics engineer",
           "university of washington"
          ],
          [
           "localization project manager",
           "pepperdine graziadio business school"
          ],
          [
           "manager - marketing legal",
           "emerson college"
          ],
          [
           "studio production specialist",
           "university of utah"
          ],
          [
           "director, product data science and engineering",
           "uc san diego"
          ],
          [
           "manager, music production",
           "texas a&m university - mays business school"
          ],
          [
           "content operations",
           "northeastern university"
          ],
          [
           "counsel, business and legal affairs",
           "southwestern law school"
          ],
          [
           "talent acquisition",
           "fidm"
          ],
          [
           "program manager, product testing",
           "university of west florida"
          ],
          [
           "global media strategy manager - us",
           "university of miami"
          ],
          [
           "game producer",
           "university of california, berkeley"
          ],
          [
           "director, content acquisition",
           "middlebury college"
          ],
          [
           "administrative assistant",
           "california state university, fullerton"
          ],
          [
           "independent contractor",
           "academy of art university"
          ],
          [
           "global creative marketing",
           "tufts university"
          ],
          [
           "senior user interface engineer at netflix",
           "wichita state university"
          ],
          [
           "senior product designer",
           "henderson state university"
          ],
          [
           "stand in",
           "simi valley high school 09"
          ],
          [
           "head of us brand partnerships, original series",
           "university of maryland"
          ],
          [
           "consumer insights",
           "university of washington"
          ],
          [
           "creative development producer and writer",
           "new york university"
          ],
          [
           "employee services generalist",
           "university of mississippi"
          ],
          [
           "global consumer insights - films",
           "san diego state university"
          ],
          [
           "executive assistant",
           "massasoit community college"
          ],
          [
           "content strategy and analysis, emea",
           "ucla anderson school of management"
          ],
          [
           "senior software engineer",
           "georgia institute of technology"
          ],
          [
           "director, inclusion - content",
           "loyola university chicago"
          ],
          [
           "manager, talent coordinators",
           "creighton university"
          ],
          [
           "vfx operations manager",
           "emerson college"
          ],
          [
           "25+ year industry veteran",
           "university of utah"
          ],
          [
           "senior data engineer",
           "virginia tech"
          ],
          [
           "recruiting researcher",
           "california state university, fullerton"
          ],
          [
           "vfx supervisor",
           "the university of kansas"
          ],
          [
           "product writing manager",
           "university of california, berkeley"
          ],
          [
           "creative talent development",
           "davenport university"
          ],
          [
           "manager, production management",
           "clemson university"
          ],
          [
           "production executive",
           "columbia university in the city of new york"
          ],
          [
           "senior software engineer",
           "university of minnesota duluth"
          ],
          [
           "director, global creative marketing",
           "georgetown university mcdonough school of business"
          ],
          [
           "manager, casting",
           "\"your mom went to college\" - kip"
          ],
          [
           "counsel, business and legal affairs",
           "brown university"
          ],
          [
           "executive producer",
           "nyu tisch art and public policy"
          ],
          [
           "music creative and production",
           "university of southern california"
          ],
          [
           "head of experiences",
           "university of richmond"
          ],
          [
           "senior manager, content strategy and analysis - ucan tv deal analysis",
           "university of st.gallen"
          ],
          [
           "line producer",
           "university of glasgow"
          ],
          [
           "software engineering manager",
           "university of delaware"
          ],
          [
           "financial projects mergers and acquisitions integrations",
           "university of california, santa cruz"
          ],
          [
           "senior analytics engineer",
           "mcgill university"
          ],
          [
           "creative design lead - creative studio",
           "learning tree university"
          ],
          [
           "director, business and legal affairs - rihc",
           "barry university"
          ],
          [
           "director and co-writer",
           "morehouse college"
          ],
          [
           "coordinator, labor relations",
           "miami university"
          ],
          [
           "recruiter, corporate operations",
           "university of oregon"
          ],
          [
           "ratings manager",
           "university of california, santa cruz"
          ],
          [
           "director , business affairs and legal - worldwide studio operations and partnerships",
           "null"
          ],
          [
           "manager, original series drama development",
           "the ohio state university"
          ],
          [
           "production finance associate",
           "emerson college"
          ],
          [
           "vfx manager original films",
           "uc irvine"
          ],
          [
           "senior content accountant",
           "florida state university"
          ],
          [
           "senior copy editor",
           "university of south carolina"
          ],
          [
           "technical recruiting researcher",
           "arizona state university - w. p. carey school of business"
          ],
          [
           "senior manager, sp and a",
           "university of florida"
          ],
          [
           "vice president, original series publicity",
           "university of virginia"
          ],
          [
           "marketing operations",
           "boston university"
          ],
          [
           "infrastructure program manager, creative studio",
           "school of visual arts"
          ],
          [
           "product manager, member experiences",
           "university of pennsylvania"
          ],
          [
           "marketing strategy",
           "the wharton school"
          ],
          [
           "visual effects supervisor",
           "the joe kubert school of cartoon & graphic art"
          ],
          [
           "senior video engineer",
           "university of north florida"
          ],
          [
           "editor",
           "california state university, long beach"
          ],
          [
           "post production",
           "chapman university"
          ],
          [
           "product designer",
           "the art institutes"
          ],
          [
           "engineering manager, media systems",
           "pontifícia universidade católica do rio de janeiro"
          ],
          [
           "vfx production manager - nightbooks",
           "philadelphia university"
          ],
          [
           "counsel, real estate",
           "new york university"
          ],
          [
           "global marketing manager",
           "esade"
          ],
          [
           "global creative marketing manager",
           "new york university"
          ],
          [
           "senior video engineer",
           "rochester institute of technology"
          ],
          [
           "senior content manager, product innovation",
           "university of california, los angeles"
          ],
          [
           "character animator and character designer and story artist",
           "lincoln high school"
          ],
          [
           "vice president of product data science and engineering",
           "stanford university"
          ],
          [
           "client services specialist",
           "don bosco technical institute"
          ],
          [
           "senior software engineer",
           "university of california, los angeles"
          ],
          [
           "head of previsualization",
           "artcenter college of design"
          ],
          [
           "senior software engineer",
           "georgia institute of technology"
          ],
          [
           "channel innovation program manager, growth",
           "university of denver - daniels college of business"
          ],
          [
           "staff writer",
           "university of southern california"
          ],
          [
           "treasury operations analyst",
           "claremont mckenna college"
          ],
          [
           "head of story",
           "california institute of the arts"
          ],
          [
           "manager, production tax planning and incentives",
           "university of florida"
          ],
          [
           "sec reporting and technical accounting senior manager",
           "university of california, berkeley"
          ],
          [
           "mobility and employment tax",
           "university of california, berkeley"
          ],
          [
           "head of kids and family animation publicity",
           "new york university"
          ],
          [
           null,
           "null"
          ],
          [
           "edtior",
           "chapman university"
          ],
          [
           "manager, screen credits",
           "florida state university"
          ],
          [
           "inclusion strategy program manager",
           "bard college"
          ],
          [
           "engineering manager",
           "defense language institute foreign language center"
          ],
          [
           "product designer - growth",
           "port clinton high school"
          ],
          [
           "coordinator, physical production",
           "western washington university"
          ],
          [
           "merchandise brand strategy",
           "vassar college"
          ],
          [
           "software engineer",
           "university of washington"
          ],
          [
           "original series publicity at netflix",
           "parsons school of design - the new school"
          ],
          [
           "story artist on animated feature",
           "savannah college of art and design"
          ],
          [
           "st software engineer",
           "oregon state university"
          ],
          [
           "global head of media strategy",
           "university of north carolina at chapel hill"
          ],
          [
           "program manager, payroll ucan",
           "california state university, fullerton"
          ],
          [
           "animated series production executive",
           "san jose state university"
          ],
          [
           "vice president, consumer insights",
           "suny oneonta"
          ],
          [
           "creative strategist @ netflix",
           "denison university"
          ],
          [
           "technical director",
           "lincoln high school - stockton, ca"
          ],
          [
           "rights analyst",
           "california state university, fullerton"
          ],
          [
           "manager, international original film, emea",
           "new york university"
          ],
          [
           "counsel, business and legal affairs, original independent film",
           "university of california, berkeley"
          ],
          [
           "production coordinator",
           "university of california, los angeles"
          ],
          [
           "vice president, content fp and a",
           "university of notre dame"
          ],
          [
           null,
           "monmouth university"
          ],
          [
           "music composer",
           "syracuse university"
          ],
          [
           "data center deployment engineer",
           "san francisco state university"
          ],
          [
           "production assistant",
           "rhode island school of design"
          ],
          [
           "script, story and editorial",
           "university of miami"
          ],
          [
           "story editor",
           "wesleyan university"
          ],
          [
           "vfx production",
           "australian film television radio school"
          ],
          [
           "creative producer",
           "university of southern california"
          ],
          [
           "engineering manager",
           "the university of texas at arlington"
          ],
          [
           "campaign operations specialist",
           "rollins college"
          ],
          [
           "manager, global content protection",
           "lone peak high school"
          ],
          [
           "vfx - original studio films",
           "unlv lee business school"
          ],
          [
           "manager, original series-netflix",
           "georgetown university"
          ],
          [
           "director, kids and family and ya - content acquisitions and co-commissions",
           "university of southern california"
          ],
          [
           "retakes director",
           "california institute of the arts"
          ],
          [
           "associate producer and vfx producer - extraction 2",
           "university of florida"
          ],
          [
           "production assistant",
           "santa clara university"
          ],
          [
           "director, production management, original independent and family film",
           "columbia university"
          ],
          [
           "categorization and metadata collections, editorial creative",
           "northwestern university"
          ],
          [
           "psychological consultant",
           "university of rochester"
          ],
          [
           "engineering leader",
           "the wharton school"
          ],
          [
           "executive story editor",
           "university of massachusetts boston"
          ],
          [
           "editorial and publishing manager",
           "northwestern university"
          ],
          [
           "visual effects producer",
           "rowan university"
          ],
          [
           "manager, original studio films",
           "university of southern california - marshall school of business"
          ],
          [
           "manager, global creative marketing - documentary",
           "university of california, los angeles"
          ],
          [
           "computer graphic supervisor",
           "otis college of art and design"
          ],
          [
           "senior user interface engineer",
           "rochester institute of technology"
          ],
          [
           "senior software engineer in test",
           "devry technical institute"
          ],
          [
           "manager, editorial operations",
           "university of california, berkeley"
          ],
          [
           "product support operations | netflix",
           "michigan state university"
          ],
          [
           "director, films marketing",
           "fordham university"
          ],
          [
           "partner marketing strategy",
           "new york university"
          ],
          [
           "director, original series-drama",
           "stanford university"
          ],
          [
           "creative marketing",
           "university of pittsburgh"
          ],
          [
           "producer",
           "emerson college"
          ],
          [
           "post production coordinator",
           "uc irvine"
          ],
          [
           "editor",
           "null"
          ],
          [
           "senior software engineer",
           "penn state university"
          ],
          [
           "internal communications editorial manager",
           "university of arkansas"
          ],
          [
           "technical researcher",
           "park university"
          ],
          [
           "picture editor",
           "syracuse university"
          ],
          [
           "coordinator, business and legal affairs, scripted series",
           "arizona state university"
          ],
          [
           "vice president business and legal affairs",
           "null"
          ],
          [
           "art director",
           "artcenter college of design"
          ],
          [
           "assistant production accountant",
           "claremont graduate university"
          ],
          [
           "senior manager, studio fp and a",
           "uc san diego"
          ],
          [
           "manager, physical production, documentaries",
           "depaul university"
          ],
          [
           "director, physical production - original film",
           "university of southern california"
          ],
          [
           "chief marketing officer",
           "liberty high school"
          ],
          [
           "senior tax analyst, production tax planning and incentives",
           "the ohio state university"
          ],
          [
           "senior counsel and director",
           "university of southern california"
          ],
          [
           "script coordinator",
           "university of california, los angeles"
          ],
          [
           "production manager",
           "emerson college"
          ],
          [
           "asset specialist - post production operations",
           "temple university"
          ],
          [
           "senior software engineer, netflix",
           "syracuse university"
          ],
          [
           "animator - wendell and wild",
           "savannah college of art and design"
          ],
          [
           "contract manager",
           "azusa pacific university"
          ],
          [
           "human resources generalist, employee services",
           "california state university, long beach"
          ],
          [
           "creative assistant",
           "tulane university"
          ],
          [
           "program manager, partner operations",
           "cabrini university"
          ],
          [
           "recruiting @ netflix",
           "mills college"
          ],
          [
           "director of original series",
           "northwestern university"
          ],
          [
           "senior ios user interface engineer at netflix",
           "purdue university"
          ],
          [
           "director, content accounting",
           "california state university, northridge"
          ],
          [
           "dubbing title manager",
           "california state university, northridge"
          ],
          [
           "senior software engineer",
           "chhatrapati shahu ji maharaj university"
          ],
          [
           "director, learning and org development",
           "san diego state university"
          ],
          [
           "manager, original series publicity",
           "penn state university"
          ],
          [
           "writer and director",
           "university of california, berkeley"
          ],
          [
           "director, talent acquisition",
           "washington state university"
          ],
          [
           "story producer",
           "emory university"
          ],
          [
           "production finance executive",
           "california state university, long beach"
          ],
          [
           "director and senior counsel",
           "new york university"
          ],
          [
           "technical program manager",
           "santa clara university"
          ],
          [
           "recruiting researcher",
           "gnomon school of visual effects, games + animation"
          ],
          [
           "senior sofware engineer",
           "american university washington college of law"
          ],
          [
           "senior user interface engineer at netflix",
           "pacific university"
          ],
          [
           "background painter",
           "artcenter college of design"
          ],
          [
           "coordinator, physical production",
           "sonoma state university"
          ],
          [
           "project manager, content distribution",
           "university of michigan"
          ],
          [
           "compensation analyst",
           "university of california, davis"
          ],
          [
           "senior user interface engineer",
           "harvey mudd college"
          ],
          [
           "employee services generalist",
           "los gatos high school"
          ],
          [
           "digital producer",
           "california state university, fullerton"
          ],
          [
           "lead background designer",
           "savannah college of art and design"
          ],
          [
           "manager, editorial and publishing - netflix geeked",
           "northeastern university"
          ],
          [
           "senior data platform engineer",
           "university of california, davis"
          ],
          [
           "senior software engineer",
           "montana state university - bozeman"
          ],
          [
           "head of story",
           "princeton university"
          ],
          [
           "manager, content fp and a",
           "la costa canyon high school"
          ],
          [
           "global education manager",
           "new york university"
          ],
          [
           "financial analyst",
           "university of california, berkeley"
          ],
          [
           "producer",
           "the university of texas at austin"
          ],
          [
           "software engineer",
           "null"
          ],
          [
           "manager, global brand design",
           "loyola marymount university"
          ],
          [
           "associate, production finance",
           "university of california, los angeles"
          ],
          [
           "program manager, emerging talent",
           "university of southern california"
          ],
          [
           "character designer",
           "art academy of los angeles"
          ],
          [
           "line producer",
           "griffith university"
          ],
          [
           "manager - shipping and receiving",
           "null"
          ],
          [
           "production supervisor - story and editorial",
           "lewis & clark college"
          ],
          [
           "senior software engineer",
           "bronx high school of science"
          ],
          [
           "senior international tax analyst",
           "grand canyon university"
          ],
          [
           "global creative marketing - original films",
           "university of delaware"
          ],
          [
           "screen credits manager",
           "hamilton college"
          ],
          [
           "photo campaign manager, films",
           "new york university"
          ],
          [
           "executive producer",
           "university of pennsylvania"
          ],
          [
           "production finance associate, original series",
           "new york university"
          ],
          [
           "production accountant",
           "loyola marymount university"
          ],
          [
           "manager, original series publicity at netflix",
           "chapman university"
          ],
          [
           "senior software engineer",
           "stanford university"
          ],
          [
           "leave of absence and accommodations specialist",
           "university of utah - david eccles school of business"
          ],
          [
           "coordinator, film publicity",
           "university of nebraska - lincoln"
          ],
          [
           "events manager",
           "northeastern university"
          ],
          [
           "set dec buyer",
           "blairsville senior high school"
          ],
          [
           "story producer",
           "california state university, northridge"
          ],
          [
           "production manager",
           "biola university"
          ],
          [
           "director, film communications",
           "boston university"
          ],
          [
           "product reliability engineer, cs",
           "foothill college"
          ],
          [
           "senior software engineer",
           "the university of texas at arlington"
          ],
          [
           "series editor",
           "ithaca college"
          ],
          [
           "production assistant",
           "university of rochester"
          ],
          [
           "executive producer",
           "school of visual arts"
          ],
          [
           "senior software engineer",
           "seattle university"
          ],
          [
           "animator",
           "university of california, los angeles"
          ],
          [
           "product brand manager",
           "new york university"
          ],
          [
           "production supervisor",
           "endicott college"
          ],
          [
           "set costumer",
           "north garland high school"
          ],
          [
           "product development",
           "otis college of art and design"
          ],
          [
           "engineering manager - playback licensing team",
           "georgia institute of technology"
          ],
          [
           "senior compositor, netflix animation",
           "loyola marymount university"
          ],
          [
           "counsel",
           "pepperdine law"
          ],
          [
           "talent relations and awards",
           "university of wisconsin - madison"
          ],
          [
           "legal associate",
           "new york university"
          ],
          [
           "director, business and legal affairs, original documentaries and comedy",
           "california polytechnic state university - san luis obispo"
          ],
          [
           "film director",
           "the american film institute"
          ],
          [
           "talent acquisition @ netflix | gaming",
           "san francisco state university"
          ],
          [
           "manager - post production, originals",
           "new york film academy"
          ],
          [
           "production management, original documentary films",
           "northwestern university"
          ],
          [
           "creative development",
           "yale university"
          ],
          [
           "director, tv client platform",
           "university of waterloo"
          ],
          [
           "tech ops animation specialist",
           "california state university - dominguez hills"
          ],
          [
           "guest star",
           "university of wisconsin - eau claire"
          ],
          [
           "engineering manager, security services engineering",
           "saratoga central catholic high school"
          ],
          [
           "director, ucan marketing, editorial",
           "trinity college - hartford"
          ],
          [
           "interaction design prototyper",
           "null"
          ],
          [
           "visual effects producer",
           "university of southern california"
          ],
          [
           "production manager, editorial and publishing",
           "university of la verne"
          ],
          [
           "engineering manager",
           "university of california, berkeley"
          ],
          [
           "associate, music clearance and licensing",
           "mcnally smith college of music"
          ],
          [
           "graphic designer and illustrator",
           "cuesta college"
          ],
          [
           "manager, licensing and consumer products",
           "stagg senior high"
          ],
          [
           "technical operations specialist, animation",
           "western governors university"
          ],
          [
           "coordinator, artist and resource management operations",
           "biola university"
          ],
          [
           "showrunner's assistant",
           "northwestern university"
          ],
          [
           "set production assistant",
           "fashion institute of technology"
          ],
          [
           "supervising producer",
           "state university of new york college at oswego"
          ],
          [
           "head of development operations",
           "university of edinburgh school of philosophy, psychology and language sciences"
          ],
          [
           "head of global audiences, brand and editorial marketing",
           "fordham university"
          ],
          [
           "executive assistant",
           "foothill college"
          ],
          [
           "project manager",
           "salisbury university"
          ],
          [
           "manager, ip scouting, series",
           "university of chicago"
          ],
          [
           "product reliability engineer",
           "portland community college"
          ],
          [
           "manager, nonfiction original series",
           "the catholic university of america"
          ],
          [
           "production assistant",
           "dedham high school"
          ],
          [
           "manager animation publicity",
           "university of southern california"
          ],
          [
           "film editor",
           "texas christian university"
          ],
          [
           "post production coordinator",
           "howard university"
          ],
          [
           "senior systems development engineer",
           "rochester institute of technology"
          ],
          [
           "senior software engineer",
           "stanford university"
          ],
          [
           "manager - legal operations and technology",
           "claremont mckenna college"
          ],
          [
           "engineering manager, content knowledge graph",
           "arizona state university - w. p. carey school of business"
          ],
          [
           "supervising director",
           "minneapolis college of art and design"
          ],
          [
           "counsel, intellectual property",
           "binghamton university"
          ],
          [
           "talent acquisition",
           "california state university, long beach"
          ],
          [
           "senior researcher",
           "university of southern california"
          ],
          [
           "title operations project manager, creative production - nonfiction series",
           "university of california, davis"
          ],
          [
           "media and events strategy, outreach and engagement | animation + content creatives",
           "école supérieure de commerce et de management - escem"
          ],
          [
           "post production coordinator",
           "california state university, northridge"
          ],
          [
           "post production, original independent film",
           "california state university, fullerton"
          ],
          [
           "director, legal",
           "university of california, berkeley"
          ],
          [
           "photo campaign manager - films",
           "university of wisconsin - madison"
          ],
          [
           "dubbing title management",
           "university of california, los angeles"
          ],
          [
           "counsel, business and legal affairs",
           "winston - salem state university"
          ],
          [
           "producer",
           "university of northern colorado"
          ],
          [
           "specialist, series publicity",
           "university of southern california"
          ],
          [
           "executive assistant, data science and engineering at netflix",
           "valdosta state university"
          ],
          [
           "manager, global creative marketing",
           "university of maryland"
          ],
          [
           "technical recruiting researcher",
           "university of san diego"
          ],
          [
           "coordinator, physical production",
           "the university of hong kong"
          ],
          [
           "product designer, studio xd",
           "university of utah"
          ],
          [
           "senior software engineer",
           "university of florida"
          ],
          [
           "workforce scheduling analyst",
           "weber state university"
          ],
          [
           "creative marketing",
           "university of wisconsin - madison"
          ],
          [
           "content acquisition",
           "stanford university"
          ],
          [
           "director of global licensing",
           "yale university"
          ],
          [
           "localization project manager",
           "lynn university"
          ],
          [
           "vice president product innovation",
           "university of pennsylvania"
          ],
          [
           "strategist",
           "university of iowa"
          ],
          [
           "post coordinator - animation, series",
           "san jose state university"
          ],
          [
           "pipeline developer",
           "san jose state university"
          ],
          [
           "senior it auditor",
           "san jose state university"
          ],
          [
           "manager, content accounting - original animation",
           "university of california, riverside"
          ],
          [
           "original dialogue | adr mixer",
           "lebanon valley college"
          ],
          [
           "director of engineering",
           "the university of texas at austin"
          ],
          [
           "creative marketing - animation",
           "artcenter college of design"
          ],
          [
           "senior software engineer",
           "paul r.wharton high school"
          ],
          [
           "senior software engineer",
           "university of california, santa cruz"
          ],
          [
           "production designer",
           "academy of art university"
          ],
          [
           "recruiting researcher",
           "university of california, berkeley"
          ],
          [
           "production accountant",
           "english language institute college of staten island cuny"
          ],
          [
           "talent acquisition",
           "university of california, los angeles"
          ],
          [
           "manager, creative marketing awards",
           "southern methodist university"
          ],
          [
           "photo campaign manager",
           "bard college"
          ],
          [
           "senior software engineer",
           "university of north texas"
          ],
          [
           "producer - documentary series",
           "emerson college"
          ],
          [
           "casting assistant",
           "university of pittsburgh"
          ],
          [
           "key hair stylist",
           "keller graduate school of management of devry university"
          ],
          [
           "senior tax analyst",
           "university of southern california - marshall school of business"
          ],
          [
           "senior analytics engineer",
           "university of california, berkeley"
          ],
          [
           "senior data engineer",
           "university of dayton"
          ],
          [
           "character design",
           "webster university"
          ],
          [
           "av editor at creative studio",
           "university of puerto rico, río piedras"
          ],
          [
           "assistant location manager",
           "south point high school"
          ],
          [
           "senior security software engineer",
           "stanford university"
          ],
          [
           "editor - 'narcos: mexico'",
           "moviola education center"
          ],
          [
           "senior studio solutions engineer",
           "loyola marymount university"
          ],
          [
           "coordinator, physical production",
           "uc santa barbara"
          ],
          [
           "executive assistant to vice president consumer insights",
           "california state university, northridge"
          ],
          [
           "director, consumer insights",
           "boston college"
          ],
          [
           "senior software engineer",
           "the ohio state university"
          ],
          [
           "senior engineering manager",
           "stanford university"
          ],
          [
           "internal video producer",
           "university of massachusetts amherst"
          ],
          [
           "driver",
           "prairie view a&m university"
          ],
          [
           "compensation",
           "university of michigan"
          ],
          [
           "contract administration",
           "emerson college"
          ],
          [
           "pipeline technical director",
           "baker college"
          ],
          [
           "senior software engineer",
           "missouri university of science and technology"
          ],
          [
           "project manager, title operations",
           "full sail university"
          ],
          [
           "senior software engineer",
           "university of california, santa cruz"
          ],
          [
           "manager, documentary features publicity",
           "worthington high school"
          ],
          [
           "product manager, animation technology",
           "boston university"
          ],
          [
           "physical production coordinator",
           "howard university"
          ],
          [
           "senior buyer",
           "university of art, tehran"
          ],
          [
           "staff writer",
           "harvard university"
          ],
          [
           "production executive",
           "null"
          ],
          [
           "product designer",
           "weber state university"
          ],
          [
           "production finance executive",
           "college hill"
          ],
          [
           "grow creative equity manager",
           "new york university"
          ],
          [
           "music creative and production",
           "belmont university"
          ],
          [
           "color supervisor",
           "artcenter college of design"
          ],
          [
           "editorial analyst, metadata research and development",
           "oregon state university"
          ],
          [
           "senior software engineer",
           "visvesvaraya technological university"
          ],
          [
           "animation recruiting researcher",
           "null"
          ],
          [
           "director, content communications",
           "the university of texas at austin"
          ],
          [
           null,
           "antioch high school"
          ],
          [
           "senior art director",
           "rochester institute of technology"
          ],
          [
           "senior technical program manager",
           "uc irvine"
          ],
          [
           "senior software engineer",
           "university of illinois at urbana - champaign"
          ],
          [
           "motion designer + art director | creative studio",
           "uc san diego"
          ],
          [
           "workplace and studio operations | netflix",
           "boston university"
          ],
          [
           "accounting clerk on wheelman",
           "emerson college"
          ],
          [
           "senior software engineer",
           "carnegie mellon university"
          ],
          [
           "director, live action and anime marketing",
           "guilford college"
          ],
          [
           "creative strategist, original films | product creative strategy",
           "university of delaware"
          ],
          [
           "customer service representative",
           "othello high school"
          ],
          [
           "post production management team, independent original films",
           "grapevine high school"
          ],
          [
           "editor",
           "arizona state university"
          ],
          [
           "associate, production finance - original series",
           "uc santa barbara"
          ],
          [
           "in from the cold - editor",
           "the university of new mexico"
          ],
          [
           "associate, content fp and a",
           "california state university, northridge"
          ],
          [
           "production manager",
           "baylor university"
          ],
          [
           "talent acquisition manager",
           "null"
          ],
          [
           "imaging technologist",
           "university of new mexico"
          ],
          [
           "counsel, music",
           "princeton university"
          ],
          [
           "assistant editor",
           "university of arkansas"
          ],
          [
           "director, net zero + nature",
           "university of oregon"
          ],
          [
           "departmental assistant",
           "university of southern california"
          ],
          [
           "manager",
           "california state university, fullerton"
          ],
          [
           "manager, contact engineering",
           "université paul sabatier toulouse iii"
          ],
          [
           "field project manager",
           "chapman university"
          ],
          [
           "systems and storage architect",
           "null"
          ],
          [
           "business affairs, original series",
           "university of wisconsin - madison"
          ],
          [
           "senior software engineer",
           "university of southern california"
          ],
          [
           "director, untitled netflix original film",
           "orange high school"
          ],
          [
           "talent coordinator manager",
           "san francisco state university"
          ],
          [
           "co producer",
           "wittenberg university"
          ],
          [
           "trailer editor - producer",
           "null"
          ],
          [
           "engineering manager, user systems and data, games identity and social",
           "thapar institute of engineering & technology"
          ],
          [
           "senior software engineer in test at netflix",
           "uc irvine"
          ],
          [
           "staff writer",
           "new york university"
          ],
          [
           "script coordinator",
           "university of central florida"
          ],
          [
           "technical director",
           "bournemouth university"
          ],
          [
           "head of publishing",
           "university of oregon"
          ],
          [
           "visual effects co-producer",
           "rowan university"
          ],
          [
           "motion designer",
           "hoover high school"
          ],
          [
           "true story",
           "university of north carolina at chapel hill"
          ],
          [
           "look development artist",
           "ringling college of art and design"
          ],
          [
           "senior technical writer",
           "california polytechnic state university - san luis obispo"
          ],
          [
           "techspecialist at netflix",
           "musicians institute"
          ],
          [
           "original studio film",
           "university of southern california"
          ],
          [
           "director, film publicity",
           "loyola marymount university"
          ],
          [
           "global charter manager",
           "metropolitan state university of denver"
          ],
          [
           "director of marketing - comedy",
           "loyola marymount university"
          ],
          [
           "original documentary publicity at netflix",
           "louisville high school"
          ],
          [
           "director, adult animation",
           "philadelphia central high school"
          ],
          [
           "manager",
           "syracuse university"
          ],
          [
           "script reader",
           "san francisco state university"
          ],
          [
           "senior software engineer",
           "amherst college"
          ],
          [
           "writer's assistant",
           "university of southern california"
          ],
          [
           "solutions architect, people technology",
           "fauquier high school"
          ],
          [
           "director of engineering, mobile platforms",
           "stanford university"
          ],
          [
           "picture editor",
           "the ohio state university"
          ],
          [
           "co producer",
           "university of nevada - las vegas"
          ],
          [
           "story editor",
           "duke university"
          ],
          [
           "actor",
           "british american drama academy"
          ],
          [
           "producer, consultant",
           "northwestern university - kellogg school of management"
          ],
          [
           "assistant vfx editor",
           "academy of art university"
          ],
          [
           "original series post production coordinator",
           "university of la verne"
          ],
          [
           "visual effects producer",
           "california state university, northridge"
          ],
          [
           "director of product research, studio experience",
           "university of california, los angeles"
          ],
          [
           "director - vfx ucan series",
           "new york film academy"
          ],
          [
           "localization program manager",
           "cornell university"
          ],
          [
           "senior software engineer",
           "university of southern california"
          ],
          [
           "matchmove artist",
           "california state university, chico"
          ],
          [
           "post production supervisor",
           "null"
          ],
          [
           "character designer",
           "dartmouth college"
          ],
          [
           "office production assistant",
           "gonzaga university"
          ],
          [
           "story artist",
           "california institute of the arts"
          ],
          [
           "director, business and legal affairs",
           "duke university"
          ],
          [
           "senior user experience researcher",
           "the johns hopkins university"
          ],
          [
           "producer manager",
           "wake forest university"
          ],
          [
           "original animation, preschool",
           "rollins college"
          ],
          [
           "creative studio editor",
           "university of north carolina school of the arts"
          ],
          [
           "media operator",
           "providence college"
          ],
          [
           "senior software engineer - cloud performance and os",
           "university of illinois at chicago"
          ],
          [
           "executive producer - 'haters back off'",
           "northwestern university"
          ],
          [
           "contracts manager",
           "uc san diego"
          ],
          [
           "manager, labor relations",
           "national paralegal college"
          ],
          [
           "director of product design",
           "drake university"
          ],
          [
           "product manager, content engineering",
           "arizona state university"
          ],
          [
           "senior partner engineer",
           "university of california, los angeles"
          ],
          [
           "program management, innovation",
           "the university of texas at austin"
          ],
          [
           "producer",
           "north carolina state university"
          ],
          [
           "mr iglasias",
           "kalani high school"
          ],
          [
           "production coordinator, original studio films",
           "american university"
          ],
          [
           "counsel, business and legal affairs",
           "rutgers university"
          ],
          [
           "financial analyst",
           "university of california, riverside"
          ],
          [
           "supervising producer",
           "university of arizona"
          ],
          [
           "research operations, consumer insights",
           "university of california, davis"
          ],
          [
           "creative pipeline engineer",
           "university of california, berkeley"
          ],
          [
           "director of engineering",
           "california state university - sacramento"
          ],
          [
           "freelance production coordinator",
           "clark atlanta university"
          ],
          [
           "post executive - original series",
           "california state university, chico"
          ],
          [
           "animation production coordinator",
           "california state university, northridge"
          ],
          [
           "production management - original series",
           "savannah state university"
          ],
          [
           "administrative assistant",
           "new york university"
          ],
          [
           "production coordinator",
           "otis college of art and design"
          ],
          [
           "counsel, business and legal affairs, original film",
           "chapman university"
          ],
          [
           "content strategy @ netflix",
           "columbia university in the city of new york"
          ],
          [
           "business legal affairs",
           "university of alabama at birmingham"
          ],
          [
           "post production",
           "arkansas state university"
          ],
          [
           "food critic",
           "butler university"
          ],
          [
           "technical program manager",
           "san jose state university"
          ],
          [
           "senior automation engineer",
           "case western reserve university"
          ],
          [
           "original dialogue and adr mixer",
           "los angeles valley college"
          ],
          [
           "accountant",
           "california state university, fresno"
          ],
          [
           "executive producer",
           "columbia college"
          ],
          [
           "manager, localization production",
           "roma film academy"
          ],
          [
           "administrative assistant",
           "san francisco state university"
          ],
          [
           "senior research scientist",
           "stevens institute of technology"
          ],
          [
           "talent coordinator",
           "null"
          ],
          [
           "franchise marketing and strategy",
           "canisius college"
          ],
          [
           "director, content strategy and analysis - apac",
           "university of tennessee, knoxville"
          ],
          [
           "head of story",
           "sheridan college"
          ],
          [
           "manager, digital marketing emea",
           "trinity business school"
          ],
          [
           "editor",
           "poynton high school"
          ],
          [
           "episodic director",
           "concept design academy"
          ],
          [
           "social video producer, audiences",
           "new york university"
          ],
          [
           "senior data engineer",
           "bellevue university"
          ],
          [
           "screenings",
           "syracuse university"
          ],
          [
           "1st assistant accountant",
           "new york university"
          ],
          [
           "senior software engineer",
           "null"
          ],
          [
           "senior program manager, inclusion recruiting programs",
           "baylor university"
          ],
          [
           "counsel, music business and legal affairs",
           "university of colorado boulder"
          ],
          [
           "scheduling and capacity planning analyst",
           "university of utah"
          ],
          [
           "production supervisor",
           "uc santa barbara"
          ],
          [
           "2nd assistant director",
           "university of illinois at chicago"
          ],
          [
           "product creative strategy producer, originals",
           "universitat autònoma de barcelona"
          ],
          [
           "visual effects producer",
           "fairleigh dickinson university"
          ],
          [
           "director's assistant and central coordinator",
           "university of north texas"
          ],
          [
           "executive producer",
           "arlington high school"
          ],
          [
           "original series publicity",
           "michigan state university"
          ],
          [
           "director - observability engineering",
           "university of mumbai"
          ],
          [
           "assistant, global public policy",
           "university of tennessee, knoxville"
          ],
          [
           "animation studios",
           "university of phoenix"
          ],
          [
           "production designer",
           "concept design academy"
          ],
          [
           "executive assistant to vice president consumer insights",
           "leland high school"
          ],
          [
           "software engineer and architect",
           "indian institute of technology, kharagpur"
          ],
          [
           "awards, crafts",
           "new york university"
          ],
          [
           "original independent film",
           "williams college"
          ],
          [
           "trademark specialist",
           "brown university"
          ],
          [
           "series marketing",
           "university of north texas"
          ],
          [
           "senior software engineer",
           "null"
          ],
          [
           "production manager",
           "penn state university"
          ],
          [
           "netflix animation - assistant editor",
           "california state university, long beach"
          ],
          [
           "performance coach",
           "purchase college, suny"
          ],
          [
           "customer service representative",
           "kearns high school"
          ],
          [
           "editorial creative collections specialist",
           "ucla anderson school of management"
          ],
          [
           "junior accountant",
           "null"
          ],
          [
           "counsel, business and legal affairs, original series",
           "boston college"
          ],
          [
           "freelance narrative designer and writer",
           "wellesley college"
          ],
          [
           "executive assistant",
           "virginia commonwealth university"
          ],
          [
           "full-stack software engineer",
           "walters state community college"
          ],
          [
           "senior security support engineer",
           "uc san diego"
          ],
          [
           "coordinator, original series",
           "pepperdine law"
          ],
          [
           "background designer",
           "utah valley university"
          ],
          [
           "manager, strategy planning and analysis",
           "uc irvine"
          ],
          [
           "associate, strategy, planning and analysis",
           "purdue university"
          ],
          [
           "people analytics partner",
           "stanford university"
          ],
          [
           "director",
           "university of southern california"
          ],
          [
           "solutions architect",
           "the university of texas at austin"
          ],
          [
           "originals publicity",
           "null"
          ],
          [
           "director, music - data, rights and technology",
           "california state university, northridge"
          ],
          [
           "vfx coordinator of indie features",
           "columbus state university"
          ],
          [
           "events @ netflix",
           "connecticut college"
          ],
          [
           null,
           "san jose state university"
          ],
          [
           "producer s assistant",
           "marquette university"
          ],
          [
           "writer and director - jinn",
           "the american film institute"
          ],
          [
           "director, original studio film",
           "university of california, berkeley"
          ],
          [
           "product @ netflix",
           "massachusetts institute of technology"
          ],
          [
           "producer",
           "columbia university in the city of new york"
          ],
          [
           "program manager",
           "florida a&m university"
          ],
          [
           "manager ucan editorial and publishing",
           "auckland university of technology"
          ],
          [
           "writer and producer",
           "university of california, santa cruz"
          ],
          [
           "product platform strategy @ netflix",
           "emory university - goizueta business school"
          ],
          [
           "client technology specialist",
           "null"
          ],
          [
           "senior counsel, business and legal affairs original studio film at netflix",
           "northwestern university"
          ],
          [
           "manager, multi-title brand events",
           "s.i. newhouse school of public communications at syracuse university"
          ],
          [
           "associate editor",
           "fleetwood nautical college"
          ],
          [
           "writer, the ranch",
           "biola university"
          ],
          [
           "vfx composite artist",
           "chapman university"
          ],
          [
           "showrunner s assistant",
           "uc santa barbara"
          ],
          [
           "product support operations manager, devices and technology",
           "null"
          ],
          [
           "line producer",
           "gies college of business - university of illinois urbana - champaign"
          ],
          [
           "director, talent acquisition",
           "university of california, los angeles"
          ],
          [
           "senior data architect",
           "eastern michigan university"
          ],
          [
           "senior software engineer in test",
           "visvesvaraya technological university"
          ],
          [
           "line producer",
           "california state university, northridge"
          ],
          [
           "art director",
           "university of idaho"
          ],
          [
           "senior software engineer",
           "carnegie mellon university"
          ],
          [
           "data science and engineering",
           "caltech"
          ],
          [
           "talent relations and awards",
           "chapman university"
          ],
          [
           "assistant chief pilot- kingair",
           "liberty university"
          ],
          [
           "production designer",
           "null"
          ],
          [
           "creative assistant",
           "university of north carolina at chapel hill"
          ],
          [
           "visual effects producer",
           "kutztown university of pennsylvania"
          ],
          [
           "senior security software engineer, appsec engineering",
           "uc santa barbara"
          ],
          [
           "series credits coordinator",
           "florida state university"
          ],
          [
           "lead character designer",
           "hogwarts school of witchcraft and wizardry"
          ],
          [
           null,
           "emory university school of law"
          ],
          [
           "director, marketing",
           "university of california, santa cruz"
          ],
          [
           "associate producer",
           "emerson college"
          ],
          [
           "publicity, original film, emea",
           "tulane university"
          ],
          [
           "manager, music creative, original animation",
           "university of southern california"
          ],
          [
           "director of product data engineering and analytics",
           "virginia tech"
          ],
          [
           "production designer",
           "artcenter college of design"
          ],
          [
           "story artist",
           "california institute of the arts"
          ],
          [
           "executive assistant, marketing partnerships",
           "sacred heart university"
          ],
          [
           "global product creative editor",
           "cal state university long beach"
          ],
          [
           "trademark specialist",
           "edmonds community college"
          ],
          [
           "netflix feature film",
           "syracuse university"
          ],
          [
           "recruiting researcher",
           "university of southern california"
          ],
          [
           "manager, global benefits",
           "uc san diego"
          ],
          [
           "senior finance business partner",
           "california state university, long beach"
          ],
          [
           "captain b300",
           "boise state university"
          ],
          [
           "color designer | unannounced adult comedy",
           "san jose state university"
          ],
          [
           "executive assistant",
           "uc santa barbara"
          ],
          [
           "senior software engineer",
           "uc irvine"
          ],
          [
           "vfx coordinator",
           "university of southern california"
          ],
          [
           "project manager",
           "university of southern california - marshall school of business"
          ],
          [
           "senior sqa engineer - tv user interface",
           "foothill college"
          ],
          [
           "senior software engineer",
           "florida institute of technology"
          ],
          [
           "producer",
           "university of southern california"
          ],
          [
           "director, payments",
           "brigham young university"
          ],
          [
           "post production supervisor",
           "penn state university"
          ],
          [
           "program manager",
           "california state university - sacramento"
          ],
          [
           "legal associate, business and legal affairs - original animation",
           "loyola marymount university"
          ],
          [
           "associate editor",
           "vancouver film school"
          ],
          [
           "senior engineering recruiter",
           "university of california, berkeley"
          ],
          [
           "senior researcher, consumer insights",
           "dartmouth college"
          ],
          [
           "creative producer",
           "minneapolis community and technical college"
          ],
          [
           "senior sre",
           "university of south alabama"
          ],
          [
           "director, original documentary publicity",
           "nyu wagner graduate school of public service"
          ],
          [
           "administrative assistant",
           "universidad de guadalajara"
          ],
          [
           "co-creator, master of none",
           "harvard university"
          ],
          [
           "set decoration buyer",
           "the university of new mexico"
          ],
          [
           "counsel, trade compliance",
           "university of california, los angeles"
          ],
          [
           "intellectual property rights analyst",
           "university of pennsylvania"
          ],
          [
           "driver",
           "null"
          ],
          [
           "script reader",
           "columbia college chicago"
          ],
          [
           "product creative assistant",
           "uc irvine"
          ],
          [
           "talent acquisition manager",
           "department of sociology, lse"
          ],
          [
           "creative assistant",
           "null"
          ],
          [
           "sales tax manager",
           "santa clara university"
          ],
          [
           "development, available light productions",
           "university of pennsylvania"
          ],
          [
           "manager, events strategies and partnerships",
           "polytechnic high"
          ],
          [
           "program manager, innovation platforms",
           "rochester institute of technology"
          ],
          [
           "director, business and legal affairs, original animation",
           "university of pennsylvania"
          ],
          [
           "project manager, international originals",
           "pearland high school"
          ],
          [
           "senior data scientist",
           "indiana university bloomington"
          ],
          [
           "assistant",
           "st. paul high school"
          ],
          [
           "senior software engineer",
           "null"
          ],
          [
           "script supervisor",
           "marymount california university"
          ],
          [
           "senior software engineer",
           "null"
          ],
          [
           "leadership programs",
           "university of the pacific"
          ],
          [
           "content strategy and analysis, original series",
           "university of california, los angeles"
          ],
          [
           "director and senior counsel, labor relations",
           "davidson college"
          ],
          [
           "customer service lead",
           "arizona western college"
          ],
          [
           "director privacy and security",
           "bates college"
          ],
          [
           "line producer",
           "university of michigan"
          ],
          [
           null,
           "university of southern california"
          ],
          [
           "counsel, consumer products business and legal affairs",
           "boston university"
          ],
          [
           "product creative strategy",
           "university of virginia"
          ],
          [
           "product strategy, planning and analysis",
           "nyu stern school of business"
          ],
          [
           "music editor",
           "american musical and dramatic academy"
          ],
          [
           "director, animation pipeline",
           "university of california, davis"
          ],
          [
           "administrative assistant, tax",
           "stony brook university"
          ],
          [
           "set dresser",
           "arizona state university"
          ],
          [
           null,
           "pasadena city college"
          ],
          [
           "senior software engineer",
           "university of arizona"
          ],
          [
           "product lead",
           "null"
          ],
          [
           "lead assistant cameraman at rhythm and flow",
           "damien high school"
          ],
          [
           "senior datacenter engineer",
           "western governors university"
          ],
          [
           "animation production executive",
           "southern illinois university, carbondale"
          ],
          [
           "dubbing title manager and dubbing producer",
           "université nice sophia antipolis"
          ],
          [
           "senior systems engineer",
           "null"
          ],
          [
           "manager",
           "uc santa barbara"
          ],
          [
           "investigations and research team",
           "southern utah university"
          ],
          [
           "dubbing producer",
           "null"
          ],
          [
           "director, original animation, film",
           "marymount manhattan college"
          ],
          [
           "senior sqa",
           "san jose state university"
          ],
          [
           "media operator",
           "arizona state university"
          ],
          [
           "production coordinator",
           "california state university, northridge"
          ],
          [
           "executive producer",
           "null"
          ],
          [
           "manager, business and legal affairs, original series",
           "university of wisconsin - madison"
          ],
          [
           "senior software engineer",
           "university of science and technology of china"
          ],
          [
           "film editor",
           "null"
          ],
          [
           "office pa",
           "arizona state university"
          ],
          [
           "counsel, original series",
           "southwestern law school"
          ],
          [
           "associate, production finance",
           "glendale community college"
          ],
          [
           "script coordinator",
           "university of southern california"
          ],
          [
           "executive assistant and meeting manager",
           "san jose state university"
          ],
          [
           "synopsis editor, licensed",
           "null"
          ],
          [
           "marketing i north america, au, nz",
           "rajiv gandhi prodoyogiki vishwavidyalaya, bhopal"
          ],
          [
           "previs artist",
           "loyola marymount university"
          ],
          [
           "coordinator, original series",
           "california state university, northridge"
          ],
          [
           "payroll assistant",
           "university of florida"
          ],
          [
           "senior data engineer",
           "florida international university"
          ],
          [
           "director apac partner engagement",
           "westmorland secondary school"
          ],
          [
           "netflix",
           "university of michigan"
          ],
          [
           "sandy wexler",
           "burbank high school"
          ],
          [
           "story artist",
           "san jose state university"
          ],
          [
           "lead character designer",
           "california institute of the arts"
          ],
          [
           null,
           "cal state east bay - college of business & economics"
          ],
          [
           "director, original independent film",
           "california state university, northridge"
          ],
          [
           null,
           "the pennsylvania state university"
          ],
          [
           "global creative lead",
           "cranbrook academy of art"
          ],
          [
           "director, nonfiction series",
           "uc santa barbara"
          ],
          [
           "writers assistant",
           "university of southern california"
          ],
          [
           null,
           "mount saint mary's university"
          ],
          [
           "netflix - original series, manager",
           "harvard university"
          ],
          [
           "product support operations manager",
           "plymouth whitemarsh high school"
          ],
          [
           "senior qa engineer",
           "itmo university"
          ],
          [
           "head of character animation",
           "ringling college of art and design"
          ],
          [
           "ciso",
           "null"
          ],
          [
           "costumer",
           "uc santa barbara"
          ],
          [
           "payroll coordinator",
           "university of california, davis"
          ],
          [
           "senior analytics engineer",
           "howard university"
          ],
          [
           "senior security partner",
           "loyola high school"
          ],
          [
           "talent coordinator",
           "lesley university"
          ],
          [
           "production finance executive",
           "university of california, los angeles"
          ],
          [
           "contract analyst, original independent features",
           "uc san diego"
          ],
          [
           "line producer",
           "california state university, northridge"
          ],
          [
           "corporate pilot",
           "california state university - sacramento"
          ],
          [
           "senior software engineer",
           "the university of british columbia"
          ],
          [
           "user interface engineering manager",
           "null"
          ],
          [
           "manager, original series, visual communications",
           "null"
          ],
          [
           null,
           "null"
          ],
          [
           "human resources business partner director",
           "university of virginia"
          ],
          [
           "director, human resources - platform engineering",
           "hitotsubashi university graduate school of international corporate strategy"
          ],
          [
           "director",
           "null"
          ],
          [
           "content fp and a",
           "university of illinois at urbana - champaign"
          ],
          [
           "workplace services manager",
           "university of rochester"
          ],
          [
           "senior cdn reliability engineer",
           "harvey mudd college"
          ],
          [
           "production supervisor",
           "school of the art institute of chicago"
          ],
          [
           "picture editor",
           "university of southern california"
          ],
          [
           "operations supervisor",
           "null"
          ],
          [
           "assistant editor",
           "null"
          ],
          [
           "global content protection operations",
           "california state university, long beach"
          ],
          [
           "first assistant editor",
           "university of california, berkeley"
          ],
          [
           "picture car coordinator",
           "gordon state college (official)"
          ],
          [
           "originals producer , product creative strategy",
           "syracuse university"
          ],
          [
           "global creative marketing, original films",
           "columbia university in the city of new york"
          ],
          [
           "head writer and supervising producer",
           "new york university"
          ],
          [
           "assistant production accountant",
           "calfornia state university northridge"
          ],
          [
           "technical research analyst",
           "null"
          ],
          [
           "story producer",
           "university of central florida"
          ],
          [
           "production coordinator",
           "california state university, fullerton"
          ],
          [
           null,
           "baldwin–wallace college"
          ],
          [
           "h and s assistant coordinator",
           "loyola marymount university"
          ],
          [
           "administrative assistant",
           "university of phoenix"
          ],
          [
           "production assistant",
           "auburn university college of liberal arts"
          ],
          [
           null,
           "university of san diego"
          ],
          [
           "writer's pa",
           "trinity preparatory school"
          ],
          [
           "curation and taxonomy",
           "university of chicago"
          ],
          [
           "visual development artist",
           "california lutheran university"
          ],
          [
           "domain specialist",
           "null"
          ],
          [
           "visual effects producer",
           "hofstra university"
          ],
          [
           "legal manager, strategic knowledge management",
           "new york university"
          ],
          [
           "senior engineering leader",
           "university of arizona"
          ],
          [
           "operations and support specialist",
           "null"
          ],
          [
           "chauffeur",
           "null"
          ],
          [
           "trailer editor | apac",
           "university of mumbai"
          ],
          [
           "dubbing operations assistant",
           "university of southern california"
          ],
          [
           "software engineer",
           "null"
          ],
          [
           "production management",
           "mountain ridge high school"
          ],
          [
           "staff writer",
           "massachusetts institute of technology"
          ],
          [
           "script clearance analyst",
           "tulane university"
          ],
          [
           "software development engineer",
           "null"
          ],
          [
           "counsel, business and legal affairs, nonfiction",
           "mitchell hamline school of law"
          ],
          [
           "1st assistant editor",
           "pace university"
          ],
          [
           "senior financial analyst",
           "null"
          ],
          [
           "senior software engineer",
           "taganrog state radio technical university"
          ],
          [
           "partner marketing manager, latam",
           "null"
          ],
          [
           "showrunner's assistant",
           "ohio university heritage college of osteopathic medicine"
          ],
          [
           "security operations",
           "coronado high school"
          ],
          [
           "creative dubbing contractor",
           "capital university"
          ],
          [
           "representative",
           "null"
          ],
          [
           "flight coordinator",
           "null"
          ],
          [
           "editor",
           "california institute of the arts"
          ],
          [
           "editor",
           "null"
          ],
          [
           "production accountant - 'social distance'",
           "michigan state university"
          ],
          [
           "logistics specialist",
           "null"
          ],
          [
           "producer",
           "university of southern california"
          ],
          [
           "global marketing and communications executive",
           "null"
          ],
          [
           "contracts administrator",
           "uc san diego"
          ],
          [
           "senior software engineer",
           "university of pennsylvania"
          ],
          [
           "administrative assistant, adult animation",
           "ithaca college"
          ],
          [
           "reader",
           "chapman university"
          ],
          [
           "professional actor",
           "the city university of new york"
          ],
          [
           "line producer",
           "null"
          ],
          [
           "full stack engineer",
           "null"
          ],
          [
           "supervising post producer",
           "heritage university"
          ],
          [
           "projection, exhibition technology, creative technologies",
           "null"
          ],
          [
           "producer",
           "university of minnesota"
          ],
          [
           "story artist",
           "university of california, berkeley"
          ],
          [
           "senior user interface engineer",
           "california state university, long beach"
          ],
          [
           null,
           "university of missouri"
          ],
          [
           "public relations manager, latin america",
           "null"
          ],
          [
           "training specialist",
           "california state university, long beach"
          ],
          [
           "operations supervisor ii",
           "douglas county high school"
          ],
          [
           "co-executive producer",
           "null"
          ],
          [
           null,
           "null"
          ],
          [
           "talent acquisition",
           "columbia university in the city of new york"
          ],
          [
           "counsel",
           "null"
          ],
          [
           "background painter",
           "school of the art institute of chicago"
          ],
          [
           "stunt performer",
           "null"
          ],
          [
           "co-ep",
           "department of sociology, lse"
          ],
          [
           "av producer",
           "conservatory of recording arts and sciences"
          ],
          [
           "driver 3",
           "josefa pastrana high school"
          ],
          [
           "production supervisor",
           "gnomon school of visual effects, games + animation"
          ],
          [
           "tv show creator",
           "ogden - weber applied technology college"
          ],
          [
           "production secretary",
           "dominican college of blauvelt"
          ],
          [
           "corporate communications",
           "university of maryland"
          ],
          [
           "1st assistant director",
           "null"
          ],
          [
           null,
           "null"
          ],
          [
           "executive coordinator",
           "university of florida"
          ],
          [
           "private",
           "national business college"
          ],
          [
           "editorial analyst, korean",
           "seoul national university"
          ],
          [
           "technical research analyst",
           "null"
          ],
          [
           "2nd 2nd assistant director",
           "null"
          ],
          [
           "key grip",
           "null"
          ],
          [
           "senior security partner",
           "the university of western australia"
          ],
          [
           "global payroll functional lead, people technology",
           "the university of texas at el paso"
          ],
          [
           "engineering manager device reliability",
           "null"
          ],
          [
           "production assistant",
           "university of colorado boulder"
          ],
          [
           "customer service",
           "null"
          ],
          [
           "production planning pa",
           "nasm national academy of sports medicine"
          ],
          [
           "finance support - n-tech",
           "null"
          ],
          [
           null,
           "the collins college of hospitality management at cal poly pomona"
          ],
          [
           "famous dude",
           "null"
          ],
          [
           "event coordinator",
           "null"
          ],
          [
           null,
           "sherman oaks center for enriched studies"
          ],
          [
           "printer | scan tech",
           "mcnary high school"
          ],
          [
           "production accountant",
           "null"
          ],
          [
           "assembler",
           "null"
          ],
          [
           "supervisor 1",
           "null"
          ],
          [
           "design creative [creative direction",
           "pont aven school of art"
          ],
          [
           "vice president content strategy and analysis for global television",
           "the catholic university of america, columbus school of law"
          ],
          [
           "director, science and algorithms",
           "null"
          ],
          [
           null,
           "north eugene high school"
          ],
          [
           "csr",
           "null"
          ],
          [
           "customer service agent",
           "herriman high school"
          ],
          [
           "central production coordinator",
           "montana state university - bozeman"
          ],
          [
           null,
           "null"
          ],
          [
           null,
           "null"
          ],
          [
           null,
           "null"
          ],
          [
           "business and legal affairs",
           "null"
          ],
          [
           "client technology specialist",
           "null"
          ],
          [
           "actor",
           "life university"
          ],
          [
           "supervisor",
           "montana technological university"
          ],
          [
           "assistant - netflix originals",
           "null"
          ],
          [
           "customer assistant",
           "null"
          ],
          [
           null,
           "null"
          ],
          [
           "customer service representative",
           "western governors university"
          ],
          [
           "assistant editor",
           "null"
          ],
          [
           null,
           "douglas mckay high school"
          ],
          [
           "slate publicity",
           "null"
          ],
          [
           "writer and producer",
           "new york university"
          ],
          [
           "bojack horseman",
           "father henry carr catholic secondary school"
          ],
          [
           null,
           "null"
          ],
          [
           "set decorating leadman",
           "columbia college hollywood"
          ],
          [
           "tsr",
           "null"
          ],
          [
           null,
           "null"
          ],
          [
           "editorial production assistant",
           "western washington university"
          ],
          [
           "set designer",
           "null"
          ],
          [
           "marketing ops",
           "notre dame high school"
          ],
          [
           "senior software engineer - ios",
           "null"
          ],
          [
           "tsr technical escalations",
           "null"
          ],
          [
           "centralized support specialist",
           "everett community college"
          ],
          [
           "production finance",
           "null"
          ],
          [
           "senior software engineer",
           "null"
          ],
          [
           null,
           "charleston county school of the arts"
          ],
          [
           "customer service representative",
           "laconia high school"
          ],
          [
           "customer service associate",
           "null"
          ],
          [
           null,
           "null"
          ],
          [
           "creative producer",
           "null"
          ],
          [
           null,
           "null"
          ],
          [
           "creative assistant, international originals brazil",
           "new york university"
          ],
          [
           "video editor",
           "null"
          ],
          [
           null,
           "null"
          ],
          [
           "insatiable",
           "null"
          ],
          [
           "viewer",
           "null"
          ],
          [
           null,
           "null"
          ],
          [
           "technical research analysist",
           "null"
          ]
         ],
         "hovertemplate": "lat=%{lat}<br>lon=%{lon}<br>job_title=%{customdata[0]}<br>school=%{customdata[1]}<extra></extra>",
         "lat": [
          37.33,
          34.11,
          40.65,
          34.17,
          37.33,
          37.52,
          30.26,
          37.33,
          37.13,
          37.77,
          37.44,
          34.09,
          36.97,
          37.77,
          37.33,
          37.32,
          37.38,
          37.23,
          37.33,
          37.77,
          34.14,
          41.75,
          34.05,
          34.14,
          37.38,
          34.05,
          37.22,
          37.5,
          36.91,
          34.05,
          37.77,
          37.77,
          34.14,
          33.83,
          37.28,
          34.01,
          40.71,
          37.48,
          34.05,
          34.05,
          37.77,
          37.56,
          37.05,
          37.77,
          34.05,
          37.56,
          37.77,
          37.77,
          37.33,
          37.77,
          34.05,
          42.22,
          37.42,
          33.84,
          40.23,
          33.39,
          37.33,
          37.35,
          34.05,
          34.05,
          34.05,
          37.32,
          37.05,
          47.97,
          37.7,
          37.77,
          37.45,
          37.33,
          37.05,
          37.22,
          37.33,
          34.18,
          40.74,
          34.05,
          34.15,
          34.14,
          39.29,
          34.05,
          34.05,
          34.05,
          34.2,
          47.82,
          37.48,
          37.26,
          37.54,
          37.12,
          36.97,
          34.05,
          41.45,
          40.34,
          37.33,
          34.09,
          37.77,
          34.18,
          34.05,
          40.65,
          45.52,
          37.77,
          34.02,
          34.05,
          37.77,
          37.7,
          34.05,
          40.65,
          33.85,
          34.05,
          34.14,
          34.05,
          40.65,
          37.77,
          37.93,
          37.77,
          40.65,
          33.81,
          34.09,
          37.44,
          37.33,
          36.97,
          37.33,
          34.05,
          34.12,
          33.88,
          34.05,
          37.28,
          34.05,
          37.56,
          37.77,
          33.94,
          37.77,
          33.97,
          34.02,
          37.22,
          34.05,
          37.35,
          34.05,
          37.77,
          37.28,
          37.28,
          37.77,
          37.33,
          39.37,
          34.18,
          34.05,
          37.33,
          37.97,
          37.32,
          37.77,
          34.05,
          40.71,
          33.66,
          37.77,
          37.87,
          34.15,
          40.71,
          37.48,
          37.77,
          34.05,
          37.87,
          47.6,
          37.7,
          37.77,
          37.33,
          34.14,
          34.15,
          34.11,
          34.05,
          34.05,
          37.77,
          37.36,
          34.05,
          34.05,
          25.72,
          37.48,
          34.11,
          34.05,
          33.84,
          34.09,
          37.35,
          38.56,
          34.05,
          34.05,
          34.05,
          34.05,
          37.77,
          34.14,
          40.65,
          37.33,
          37.35,
          34.05,
          37.33,
          40.65,
          37.28,
          34.44,
          34.01,
          37.33,
          34.05,
          37.36,
          37.33,
          34.15,
          36.97,
          34.15,
          41.85,
          37.28,
          38.89,
          37.33,
          42.33,
          37.8,
          34.05,
          41.15,
          37.77,
          34.1,
          34.02,
          34.17,
          34.05,
          34.39,
          34.15,
          34.18,
          34.27,
          37.77,
          37.33,
          34.11,
          40.76,
          40.05,
          34.14,
          37.38,
          34.17,
          42.33,
          33.73,
          47.6,
          34.02,
          37.33,
          37.77,
          34.18,
          34.17,
          40.65,
          34.14,
          34.07,
          34.19,
          34.05,
          34.05,
          34.17,
          37.77,
          34.05,
          34.05,
          34.09,
          37.38,
          34.14,
          37.77,
          37.77,
          37.33,
          34.05,
          37.33,
          37.38,
          37.77,
          34.01,
          37.54,
          34.05,
          34.14,
          34.05,
          34.06,
          37.8,
          34.15,
          34.14,
          37.77,
          34.05,
          37.36,
          37.77,
          40.82,
          34.05,
          34.05,
          42.08,
          34.01,
          34.05,
          37.33,
          34.06,
          34.05,
          37.36,
          37.1,
          37.33,
          37.36,
          37.77,
          25.77,
          34.19,
          37.8,
          37.76,
          34.05,
          34.05,
          37.77,
          37.56,
          34.05,
          34.05,
          40.71,
          34.18,
          34.14,
          37.33,
          34.09,
          34.05,
          34.05,
          34.05,
          34.14,
          37.77,
          34.19,
          37.38,
          34.14,
          37.26,
          47.68,
          34.18,
          39.96,
          41.39,
          34.05,
          34.18,
          37.77,
          37.83,
          37.46,
          40.71,
          34.05,
          40.71,
          37.33,
          34.05,
          34.05,
          34.05,
          34.09,
          33.97,
          43.61,
          37.33,
          34.15,
          34.05,
          37.77,
          34.05,
          40.92,
          34.05,
          34.05,
          34.14,
          34.14,
          37.77,
          40.71,
          37.69,
          37.8,
          34.14,
          34.15,
          34.05,
          34.05,
          36.18,
          34.09,
          34.18,
          34.01,
          34.05,
          34.05,
          34.02,
          34.05,
          37.28,
          34.18,
          33.96,
          34.05,
          36.97,
          34.09,
          34.05,
          37.8,
          44.98,
          34.05,
          34.14,
          34.05,
          40.65,
          33.99,
          34.05,
          34.05,
          37.77,
          39.29,
          37.77,
          37.38,
          34.17,
          34.18,
          40.65,
          33.99,
          37.28,
          37.36,
          34.17,
          34.05,
          40.71,
          34.13,
          34.05,
          40.09,
          35.05,
          41.85,
          34.05,
          34.05,
          34.05,
          37.77,
          34.05,
          34.18,
          37.05,
          34.05,
          34.05,
          41.85,
          40.71,
          34.14,
          34.05,
          34.05,
          40.65,
          37.38,
          37.33,
          45.52,
          37.77,
          34.06,
          37.35,
          34.05,
          40.65,
          40.01,
          40.71,
          33.83,
          38.35,
          34.17,
          37.38,
          37.77,
          34.05,
          40.65,
          34.26,
          30.43,
          41,
          39.21,
          37.77,
          34.17,
          34.05,
          47.6,
          34.22,
          47.6,
          37.22,
          37.77,
          34.05,
          34.25,
          33.83,
          34.17,
          34.05,
          34.05,
          34.05,
          34.05,
          32.71,
          34.18,
          40.74,
          40.73,
          37.33,
          34.05,
          34.17,
          40.65,
          40.56,
          34.05,
          40.71,
          40.71,
          34.05,
          33.94,
          33.99,
          33.88,
          34.18,
          33.84,
          34.05,
          40.71,
          34.14,
          43.15,
          37.77,
          34.05,
          34.05,
          34.05,
          34.05,
          34.14,
          34.05,
          37.47,
          47.6,
          40.73,
          34.05,
          39.95,
          34.05,
          33.98,
          40.65,
          34.05,
          34.05,
          34.14,
          47.32,
          37.77,
          41.16,
          34.05,
          33.98,
          34.05,
          34.14,
          34.05,
          34.05,
          34.18,
          34.18,
          40.71,
          34.05,
          29.95,
          34.05,
          34.17,
          39,
          37.77,
          34.18,
          34.18,
          34.17,
          34.05,
          39.92,
          34.05,
          34.05,
          37.38,
          34.14,
          34.22,
          37.33,
          33.85,
          34.05,
          34.05,
          37.13,
          34.05,
          34.05,
          34.14,
          37.28,
          37.33,
          34.61,
          37.35,
          34.13,
          34.05,
          34.05,
          37.33,
          44.63,
          37.33,
          33.83,
          43.66,
          34.05,
          37.33,
          44.08,
          41.56,
          34.18,
          40.71,
          37.42,
          37.77,
          37.38,
          34.05,
          34.05,
          37.33,
          33.83,
          34.14,
          34.16,
          45.52,
          37.33,
          26.01,
          41,
          34.05,
          34.05,
          34.01,
          34.05,
          34.19,
          34.05,
          37.26,
          40.76,
          40.8,
          34.05,
          40.44,
          34.09,
          34.09,
          40.71,
          37.33,
          33.19,
          34.05,
          42.25,
          34.05,
          37.82,
          45.52,
          40.71,
          34.17,
          32.91,
          33.83,
          35.91,
          34.25,
          34.09,
          41.14,
          34.05,
          34.05,
          34.05,
          37.55,
          34.14,
          40.92,
          34.05,
          39.96,
          34.05,
          43.08,
          47.6,
          41.29,
          37.22,
          34.18,
          34.05,
          37.77,
          33.96,
          35.28,
          37.76,
          34.09,
          34.05,
          34.05,
          40.71,
          34.05,
          37.52,
          34.05,
          37.13,
          34.2,
          34.05,
          37,
          34.05,
          34.05,
          34.05,
          34.17,
          36.17,
          33.98,
          37.44,
          34.05,
          40.65,
          34.18,
          40.65,
          34.17,
          33.98,
          33.79,
          37.02,
          34.18,
          34.05,
          37.69,
          37.77,
          34.05,
          34.05,
          34.14,
          34.16,
          34.17,
          33.99,
          37.93,
          34.39,
          40.71,
          37.22,
          40.52,
          34.05,
          34.05,
          40.71,
          33.74,
          37.22,
          41.6,
          33.11,
          34.18,
          37.33,
          34.09,
          34.05,
          37.33,
          34.01,
          37.33,
          37.22,
          37.77,
          34.01,
          40.71,
          34.01,
          30.5,
          34.05,
          41.51,
          34.05,
          34.05,
          33.54,
          34.06,
          37.97,
          33.6,
          38.62,
          34.05,
          35.26,
          37.45,
          34.09,
          33.86,
          34.05,
          34.17,
          40.65,
          37.77,
          37.94,
          34.05,
          29.99,
          37.38,
          34.05,
          34.14,
          37.77,
          38.62,
          37.22,
          34.09,
          34.05,
          34.18,
          37.33,
          34.05,
          34.05,
          41.22,
          34.1,
          37.26,
          34.18,
          34.14,
          33.88,
          37.44,
          43.07,
          40.71,
          37.45,
          40.65,
          37.33,
          37.33,
          34.05,
          34.05,
          45.42,
          37.22,
          40.71,
          34.05,
          45.52,
          34.17,
          40.71,
          34.18,
          34.05,
          34.05,
          34.05,
          37.33,
          34.05,
          34.05,
          34.18,
          45.7,
          34.17,
          34.17,
          37.36,
          33.74,
          37.33,
          41.85,
          38.67,
          34.14,
          37.77,
          34.05,
          34.15,
          37.54,
          37.33,
          34.05,
          34.14,
          34.01,
          34.16,
          34.17,
          34.26,
          34.18,
          34.14,
          37.33,
          34.15,
          34.09,
          33.86,
          34.44,
          34.05,
          34.05,
          34.18,
          34.05,
          34.05,
          36.97,
          34.05,
          37.33,
          37.38,
          34.15,
          40.71,
          34.05,
          34.05,
          41.95,
          34.18,
          34.05,
          34.05,
          34.14,
          34.18,
          37.52,
          47.76,
          45.52,
          34.05,
          33.88,
          34.17,
          34.18,
          35.6,
          37.77,
          34.01,
          34.09,
          34.05,
          34.18,
          37.28,
          34.13,
          37.33,
          33.64,
          37.38,
          34.14,
          37.42,
          34.05,
          34.05,
          34.14,
          34.09,
          34.05,
          34.06,
          34.05,
          37.33,
          34.01,
          37.22,
          34.05,
          33.96,
          34.19,
          33.81,
          34.05,
          34.09,
          34.14,
          41.76,
          34.05,
          34.18,
          40.65,
          37.42,
          37.38,
          34.38,
          38.67,
          34.14,
          34.07,
          37.58,
          34.02,
          33.86,
          34.14,
          34.05,
          34.15,
          34,
          34.05,
          34.14,
          34.05,
          35,
          34.05,
          40.74,
          37.33,
          37.77,
          33.98,
          40.76,
          34.18,
          41.71,
          37.77,
          34.18,
          34.05,
          40.65,
          42.48,
          37.54,
          40.71,
          33.42,
          34.18,
          37.33,
          37.33,
          33.99,
          34.05,
          34.18,
          34.09,
          37.38,
          34.17,
          34.05,
          40.8,
          40.68,
          34.14,
          34.26,
          34.15,
          34.05,
          40.71,
          36.38,
          33.66,
          34.05,
          34.39,
          34.05,
          33.8,
          37.8,
          34.05,
          32.78,
          34.02,
          34.19,
          34.05,
          34.05,
          37.26,
          40.65,
          34.05,
          33.98,
          37.77,
          34.18,
          42.92,
          34.05,
          34.16,
          40.65,
          37.22,
          34.05,
          33.84,
          34.06,
          34.14,
          34.05,
          34.05,
          37.42,
          33.76,
          34.14,
          37.33,
          37.38,
          34.17,
          34.18,
          37.35,
          34.18,
          34.17,
          43.1,
          34.25,
          34.05,
          33.76,
          34.43,
          34.14,
          34.18,
          34.07,
          34.07,
          34.14,
          33.99,
          34.15,
          37.22,
          34.28,
          34.18,
          34.05,
          34.05,
          34.18,
          34.05,
          34.05,
          37.77,
          33.81,
          34.14,
          34.14,
          34.02,
          33.93,
          34.17,
          34.05,
          37.36,
          37.22,
          34.22,
          37.33,
          40.92,
          38.35,
          34.05,
          34.14,
          38.4,
          34.05,
          44.94,
          37.33,
          34.05,
          37.36,
          37.44,
          35.08,
          37.28,
          34.05,
          39.96,
          34.05,
          34.05,
          34.18,
          34.05,
          37.33,
          40.71,
          33.97,
          34.05,
          40.01,
          40.65,
          37.77,
          33.97,
          37.33,
          33.61,
          37.35,
          37.73,
          40.71,
          34.05,
          45.63,
          37.33,
          34.18,
          34.19,
          34.05,
          34.14,
          34.05,
          34.14,
          41.2,
          37.22,
          34.18,
          34.26,
          37.13,
          40.71,
          34.05,
          37.33,
          34.18,
          34.05,
          37.42,
          33.99,
          40.41,
          34.05,
          40.72,
          37.33,
          34.26,
          34.22,
          34.05,
          43.07,
          37.33,
          34.18,
          34.05,
          34.05,
          34.2,
          34.09,
          37.68,
          40.72,
          34.01,
          34.2,
          34.05,
          34.01,
          34.17,
          37.33,
          34.15,
          34.42,
          34.18,
          34.18,
          37.59,
          34.14,
          34.05,
          34.15,
          33.97,
          34.05,
          34.05,
          34.01,
          37.77,
          37.33,
          27.94,
          37.33,
          34.14,
          34.05,
          40.72,
          34.05,
          40.79,
          34.01,
          34.05,
          34.05,
          37.13,
          37.26,
          37.22,
          33.97,
          34.05,
          37.56,
          37.7,
          30.26,
          37.77,
          40.77,
          47.81,
          34.05,
          34.44,
          41.62,
          34.05,
          34.13,
          34.14,
          33.44,
          34.05,
          40.65,
          26.35,
          34.17,
          40.76,
          34.02,
          34.01,
          34.05,
          47.25,
          34.05,
          32.6,
          33.49,
          34.01,
          34.05,
          34.28,
          40.76,
          34.15,
          33.76,
          37.54,
          29.76,
          40.85,
          34.17,
          34.05,
          37.54,
          34.15,
          34.05,
          34.05,
          37.22,
          34.05,
          40.93,
          34.19,
          34.17,
          37.77,
          34.05,
          31.75,
          34.05,
          45.52,
          34.26,
          34.05,
          34.17,
          34.18,
          34.07,
          34.14,
          34.05,
          34.16,
          37.7,
          40.97,
          33.83,
          40.71,
          34.05,
          37.35,
          34.26,
          34.05,
          34.05,
          34.13,
          37.33,
          34.05,
          37.36,
          33.91,
          44.04,
          34.01,
          34.09,
          40.76,
          34.05,
          34.11,
          19.72,
          34.17,
          34.05,
          28.11,
          34.05,
          41.16,
          34.01,
          34.05,
          34.18,
          35.08,
          34.05,
          37.27,
          37.33,
          40.59,
          44.04,
          34.15,
          33.91,
          37.93,
          37.45,
          34.18,
          45.52,
          40.71,
          34.42,
          34.05,
          33.95,
          37.8,
          34.15,
          44.99,
          34.22,
          37.33,
          33.52,
          34.11,
          34.05,
          37.22,
          34.05,
          39.96,
          40.6,
          45.52,
          37.28,
          37.33,
          40.65,
          34.05,
          34.14,
          29.65,
          46,
          34.09,
          33.8,
          37.5,
          40.69,
          34.18,
          44.94,
          34.05,
          34.05,
          34.14,
          41.13,
          34.15,
          40.59,
          39.73,
          47.48,
          35.08,
          34.15,
          37.33,
          40.69,
          41.06,
          39.73,
          37.35,
          34.05,
          40.76,
          40.76,
          33.38,
          38.96,
          37.8,
          34.05,
          34.15,
          37.33,
          34.09,
          21.3,
          40.66,
          40.76
         ],
         "lon": [
          -121.89,
          -118.15,
          -73.95,
          -118.37,
          -121.89,
          -122.04,
          -97.74,
          -121.89,
          -121.65,
          -122.41,
          -122.14,
          -118.36,
          -122.02,
          -122.41,
          -121.89,
          -122.03,
          -122.08,
          -121.99,
          -121.89,
          -122.41,
          -118.14,
          -86.11,
          -118.24,
          -118.14,
          -122.08,
          -118.24,
          -121.97,
          -122.25,
          -121.75,
          -118.24,
          -122.41,
          -122.41,
          -118.39,
          -118.34,
          -121.94,
          -118.49,
          -74,
          -122.23,
          -118.24,
          -118.24,
          -122.41,
          -122.32,
          -122.01,
          -122.41,
          -118.24,
          -122.32,
          -122.41,
          -122.41,
          -121.89,
          -122.41,
          -118.24,
          -71.52,
          -121.9,
          -118.38,
          -111.65,
          -104.52,
          -121.89,
          -121.95,
          -118.24,
          -118.24,
          -118.24,
          -122.03,
          -122.01,
          -122.2,
          -121.93,
          -122.41,
          -122.18,
          -121.89,
          -122.01,
          -121.97,
          -121.89,
          -118.44,
          -74.03,
          -118.24,
          -118.44,
          -118.14,
          -76.61,
          -118.24,
          -118.24,
          -118.24,
          -118.59,
          -122.31,
          -122.23,
          -122.02,
          -121.98,
          -122.12,
          -122.02,
          -118.24,
          -82.03,
          -76.41,
          -121.89,
          -118.12,
          -122.41,
          -118.3,
          -118.24,
          -73.95,
          -122.67,
          -122.41,
          -118.39,
          -118.24,
          -122.41,
          -122.46,
          -118.24,
          -73.95,
          -118.13,
          -118.24,
          -118.8,
          -118.24,
          -73.95,
          -122.41,
          -121.69,
          -122.41,
          -73.95,
          -84.63,
          -118.36,
          -122.14,
          -121.89,
          -122.02,
          -121.89,
          -118.24,
          -118.1,
          -117.81,
          -118.24,
          -121.94,
          -118.24,
          -122.32,
          -122.41,
          -118.44,
          -122.41,
          -118.03,
          -118.39,
          -121.97,
          -118.24,
          -121.95,
          -118.24,
          -122.41,
          -121.94,
          -121.94,
          -122.41,
          -121.89,
          -104.85,
          -118.3,
          -118.24,
          -121.89,
          -122.53,
          -122.03,
          -122.41,
          -118.24,
          -74,
          -117.99,
          -122.41,
          -122.27,
          -118.44,
          -74,
          -122.23,
          -122.41,
          -118.24,
          -122.27,
          -122.33,
          -121.93,
          -122.41,
          -121.89,
          -118.14,
          -118.5,
          -118.15,
          -118.24,
          -118.24,
          -122.41,
          -122.03,
          -118.24,
          -117.75,
          -80.26,
          -122.23,
          -118.15,
          -118.24,
          -118.38,
          -118.36,
          -121.95,
          -77.32,
          -118.24,
          -118.24,
          -118.24,
          -118.24,
          -122.41,
          -118.39,
          -73.95,
          -121.89,
          -121.95,
          -118.24,
          -121.89,
          -73.95,
          -121.94,
          -119.24,
          -118.49,
          -121.89,
          -118.24,
          -122.03,
          -121.89,
          -118.44,
          -122.02,
          -118.44,
          -87.65,
          -121.94,
          -77.03,
          -121.89,
          -83.04,
          -122.26,
          -118.24,
          -73.76,
          -122.41,
          -117.59,
          -118.39,
          -118.37,
          -118.24,
          -118.54,
          -118.44,
          -118.3,
          -118.54,
          -122.41,
          -121.89,
          -118.15,
          -73.81,
          -105.04,
          -117.99,
          -122.23,
          -118.37,
          -71.12,
          -118.29,
          -122.33,
          -118.39,
          -121.89,
          -122.41,
          -118.13,
          -118.37,
          -73.95,
          -118.14,
          -118.39,
          -118.18,
          -118.24,
          -118.24,
          -118.37,
          -122.41,
          -118.24,
          -118.24,
          -118.36,
          -122.08,
          -118.14,
          -122.41,
          -122.41,
          -121.89,
          -118.24,
          -121.89,
          -122.08,
          -122.41,
          -118.49,
          -121.98,
          -118.24,
          -118.25,
          -118.24,
          -117.65,
          -122.26,
          -118.44,
          -118.8,
          -122.41,
          -118.24,
          -122.03,
          -122.41,
          -74.41,
          -118.24,
          -118.24,
          -73.99,
          -118.49,
          -118.24,
          -121.89,
          -118.02,
          -118.24,
          -122.03,
          -122.1,
          -121.89,
          -122.03,
          -122.41,
          -80.19,
          -118.64,
          -122.26,
          -122.24,
          -118.24,
          -118.24,
          -122.41,
          -122.32,
          -118.24,
          -118.24,
          -74,
          -118.3,
          -118.25,
          -121.89,
          -118.36,
          -118.24,
          -118.24,
          -118.24,
          -118.14,
          -122.41,
          -118.64,
          -122.11,
          -118.25,
          -122.02,
          -122.2,
          -118.44,
          -82.99,
          -81.67,
          -118.24,
          -118.3,
          -122.41,
          -122.28,
          -122.42,
          -74,
          -118.24,
          -74,
          -121.89,
          -118.24,
          -118.24,
          -118.24,
          -118.12,
          -117.9,
          -116.2,
          -121.89,
          -118.44,
          -118.24,
          -122.41,
          -118.24,
          -74.03,
          -118.24,
          -118.24,
          -118.39,
          -118.25,
          -122.41,
          -74,
          -97.33,
          -122.26,
          -118.39,
          -118.44,
          -118.24,
          -118.24,
          -94.12,
          -118.36,
          -118.3,
          -118.49,
          -118.24,
          -118.24,
          -118.39,
          -118.24,
          -121.94,
          -118.3,
          -117.56,
          -118.24,
          -122.02,
          -118.32,
          -118.24,
          -122.26,
          -93.26,
          -118.24,
          -118.25,
          -118.24,
          -73.95,
          -118.46,
          -118.24,
          -118.24,
          -122.41,
          -76.61,
          -122.41,
          -122.08,
          -118.55,
          -118.3,
          -73.95,
          -118.46,
          -121.94,
          -122.03,
          -118.37,
          -118.24,
          -74,
          -118.03,
          -118.24,
          -75.12,
          -78.87,
          -87.65,
          -118.24,
          -118.24,
          -118.24,
          -122.41,
          -118.24,
          -118.13,
          -122.07,
          -118.24,
          -118.24,
          -87.65,
          -74,
          -118.8,
          -118.24,
          -118.24,
          -73.95,
          -122.08,
          -121.89,
          -122.67,
          -122.41,
          -117.65,
          -121.95,
          -118.24,
          -73.95,
          -105.27,
          -74,
          -118.28,
          -104.72,
          -118.37,
          -122.08,
          -122.41,
          -118.24,
          -73.95,
          -118.52,
          -84.28,
          -74.17,
          -76.71,
          -122.41,
          -118.37,
          -118.24,
          -122.33,
          -118.53,
          -122.33,
          -121.97,
          -122.41,
          -118.24,
          -118.28,
          -116.54,
          -118.37,
          -118.24,
          -118.24,
          -118.24,
          -118.24,
          -117.15,
          -118.44,
          -74.03,
          -73.93,
          -121.89,
          -118.24,
          -118.37,
          -73.95,
          -111.92,
          -118.24,
          -74,
          -74,
          -118.24,
          -118.44,
          -118.46,
          -118.41,
          -118.3,
          -118.38,
          -118.24,
          -74,
          -118.25,
          -77.61,
          -122.41,
          -118.24,
          -118.24,
          -118.24,
          -118.24,
          -118.39,
          -118.24,
          -121.12,
          -122.33,
          -73.87,
          -118.24,
          -75.16,
          -118.24,
          -118.45,
          -73.95,
          -118.24,
          -118.24,
          -118.14,
          -122.31,
          -122.41,
          -112.02,
          -118.24,
          -118.45,
          -118.24,
          -118.14,
          -118.24,
          -118.24,
          -118.3,
          -118.44,
          -74,
          -118.24,
          -90.07,
          -118.24,
          -118.37,
          -76.97,
          -122.41,
          -118.3,
          -118.3,
          -118.37,
          -118.24,
          -75.27,
          -118.24,
          -118.24,
          -122.08,
          -118.25,
          -118.53,
          -121.89,
          -118.06,
          -118.24,
          -118.24,
          -121.65,
          -118.24,
          -118.24,
          -118.39,
          -121.94,
          -121.89,
          -120.19,
          -121.95,
          -118.03,
          -118.24,
          -118.24,
          -121.89,
          -124.05,
          -121.89,
          -118.28,
          -70.25,
          -118.24,
          -121.89,
          -103.23,
          -73.6,
          -118.3,
          -74,
          -121.9,
          -122.41,
          -122.08,
          -118.24,
          -118.24,
          -121.89,
          -118.34,
          -118.25,
          -118.6,
          -122.67,
          -121.89,
          -80.14,
          -73.78,
          -118.24,
          -118.24,
          -118.49,
          -118.24,
          -118.64,
          -118.24,
          -122.02,
          -111.89,
          -96.66,
          -118.24,
          -79.99,
          -118.36,
          -118.36,
          -74,
          -121.89,
          -96.61,
          -118.24,
          -71.46,
          -118.24,
          -121.99,
          -122.67,
          -74,
          -118.37,
          -96.63,
          -117.91,
          -82.06,
          -118.28,
          -118.36,
          -73.98,
          -118.24,
          -118.24,
          -118.24,
          -122.27,
          -118.39,
          -73.75,
          -118.24,
          -82.99,
          -118.24,
          -87.88,
          -122.33,
          -70.1,
          -121.97,
          -118.3,
          -118.24,
          -122.41,
          -118.35,
          -120.65,
          -122.24,
          -118.1,
          -118.24,
          -118.24,
          -74,
          -118.24,
          -122.27,
          -118.24,
          -121.65,
          -118.22,
          -118.24,
          -121.56,
          -118.24,
          -118.24,
          -118.24,
          -118.55,
          -115.13,
          -118.45,
          -122.14,
          -118.24,
          -73.95,
          -118.3,
          -73.95,
          -118.37,
          -118.45,
          -118.31,
          -76.34,
          -118.3,
          -118.24,
          -122.08,
          -122.41,
          -118.24,
          -118.24,
          -118.39,
          -118.6,
          -118.37,
          -118.46,
          -122.34,
          -118.54,
          -74,
          -121.97,
          -111.86,
          -118.24,
          -118.24,
          -74,
          -84.38,
          -121.97,
          -93.72,
          -117.08,
          -118.3,
          -121.89,
          -117.43,
          -118.24,
          -121.89,
          -118.49,
          -121.89,
          -121.97,
          -122.41,
          -118.49,
          -74,
          -118.49,
          -97.67,
          -118.24,
          -87.96,
          -118.24,
          -118.24,
          -84.23,
          -118.12,
          -122.03,
          -117.67,
          -90.19,
          -118.24,
          -81.18,
          -122.18,
          -118.12,
          -118.39,
          -118.24,
          -118.37,
          -73.95,
          -122.41,
          -122.05,
          -118.24,
          -95.26,
          -122.08,
          -118.24,
          -118.25,
          -122.41,
          -90.15,
          -121.97,
          -118.36,
          -118.24,
          -118.44,
          -121.89,
          -118.24,
          -118.24,
          -111.97,
          -117.59,
          -122.02,
          -118.3,
          -118.14,
          -118.41,
          -122.14,
          -89.4,
          -74,
          -122.18,
          -73.95,
          -121.89,
          -121.89,
          -118.24,
          -118.24,
          -122.67,
          -121.97,
          -74,
          -118.24,
          -122.67,
          -118.37,
          -74,
          -118.44,
          -118.24,
          -118.24,
          -118.24,
          -121.89,
          -118.24,
          -118.24,
          -118.44,
          -121.52,
          -118.83,
          -118.37,
          -122.03,
          -117.86,
          -121.89,
          -87.65,
          -121.17,
          -118.25,
          -122.41,
          -118.24,
          -118.44,
          -121.98,
          -121.89,
          -118.24,
          -118.25,
          -118.49,
          -118.6,
          -118.37,
          -118.3,
          -118.3,
          -118.25,
          -121.89,
          -118.44,
          -118.36,
          -118.39,
          -118.6,
          -118.24,
          -118.24,
          -118.3,
          -118.24,
          -118.24,
          -121.95,
          -118.24,
          -121.89,
          -122.11,
          -118.44,
          -74,
          -118.24,
          -118.24,
          -70.66,
          -118.3,
          -118.24,
          -118.24,
          -118.14,
          -118.3,
          -122.27,
          -122.2,
          -122.67,
          -118.24,
          -118.41,
          -118.37,
          -118.3,
          -82.55,
          -122.41,
          -118.49,
          -118.36,
          -118.24,
          -118.3,
          -121.94,
          -118.77,
          -121.89,
          -117.91,
          -122.11,
          -118.25,
          -121.9,
          -118.24,
          -118.24,
          -118.25,
          -118.36,
          -118.24,
          -118.12,
          -118.24,
          -121.89,
          -118.49,
          -121.97,
          -118.24,
          -118.35,
          -118.64,
          -84.63,
          -118.24,
          -118.1,
          -118.14,
          -72.74,
          -118.24,
          -118.13,
          -73.95,
          -121.9,
          -122.08,
          -118.53,
          -121.22,
          -118.25,
          -118.39,
          -122.36,
          -118.39,
          -118.39,
          -118.39,
          -118.24,
          -118.44,
          -118.8,
          -118.24,
          -118.14,
          -118.24,
          -80.94,
          -118.24,
          -73.9,
          -121.89,
          -122.41,
          -118.45,
          -111.89,
          -118.3,
          -87.75,
          -122.41,
          -118.3,
          -118.24,
          -73.95,
          -83.37,
          -121.98,
          -74,
          -111.82,
          -118.3,
          -121.89,
          -121.89,
          -118.45,
          -118.24,
          -118.3,
          -118.36,
          -122.08,
          -118.37,
          -118.24,
          -74.01,
          -111.87,
          -118.14,
          -118.78,
          -118.44,
          -118.24,
          -74,
          -86.44,
          -117.82,
          -118.24,
          -118.54,
          -118.24,
          -117.99,
          -122.26,
          -118.24,
          -96.8,
          -118.39,
          -118.64,
          -118.24,
          -118.24,
          -122.02,
          -73.95,
          -118.24,
          -118.35,
          -122.41,
          -118.13,
          -83.63,
          -118.24,
          -118.6,
          -73.95,
          -121.97,
          -118.24,
          -118.38,
          -117.65,
          -118.14,
          -118.24,
          -118.24,
          -121.9,
          -118.18,
          -118.39,
          -121.89,
          -122.08,
          -118.83,
          -118.3,
          -121.95,
          -118.13,
          -118.37,
          -76.21,
          -118.28,
          -118.24,
          -118.18,
          -119.82,
          -118.39,
          -118.3,
          -84.29,
          -118.39,
          -118.39,
          -118.46,
          -118.63,
          -121.97,
          -118.88,
          -118.3,
          -118.24,
          -118.24,
          -118.3,
          -118.24,
          -118.24,
          -122.41,
          -118.03,
          -118.14,
          -118.25,
          -118.39,
          -117.94,
          -118.37,
          -118.24,
          -122.03,
          -121.97,
          -118.23,
          -121.89,
          -74.27,
          -121.98,
          -118.24,
          -118.25,
          -121.37,
          -118.24,
          -93.09,
          -121.89,
          -118.24,
          -122.03,
          -122.14,
          -106.65,
          -121.94,
          -118.24,
          -82.99,
          -118.24,
          -118.24,
          -118.44,
          -118.24,
          -121.89,
          -74,
          -118.42,
          -118.24,
          -75.3,
          -73.95,
          -122.41,
          -118.03,
          -121.89,
          -114.59,
          -121.95,
          -121.42,
          -74,
          -118.24,
          -122.66,
          -121.89,
          -118.13,
          -118.64,
          -118.24,
          -118.8,
          -118.24,
          -118.25,
          -73.57,
          -121.97,
          -83.92,
          -118.3,
          -121.65,
          -74,
          -117.18,
          -121.89,
          -118.44,
          -118.24,
          -121.9,
          -118.46,
          -111.75,
          -118.24,
          -73.51,
          -121.89,
          -118.42,
          -118.53,
          -118.24,
          -89.4,
          -121.89,
          -118.3,
          -118.24,
          -118.24,
          -118.22,
          -118.36,
          -121.76,
          -74.07,
          -118.49,
          -118.59,
          -118.24,
          -118.49,
          -118.55,
          -121.89,
          -118.44,
          -118.47,
          -118.3,
          -118.3,
          -122.01,
          -118.39,
          -118.24,
          -118.44,
          -118.42,
          -118.24,
          -118.24,
          -118.49,
          -122.41,
          -121.89,
          -82.45,
          -121.89,
          -118.39,
          -118.24,
          -74.07,
          -118.24,
          -77.86,
          -118.49,
          -118.24,
          -118.24,
          -121.65,
          -122.02,
          -121.97,
          -118.03,
          -118.24,
          -122.32,
          -121.93,
          -97.74,
          -122.41,
          -73.93,
          -122.37,
          -118.24,
          -118.6,
          -88.2,
          -118.24,
          -117.9,
          -117.99,
          -84.14,
          -118.24,
          -73.95,
          -80.08,
          -118.37,
          -111.89,
          -118.39,
          -117.68,
          -118.24,
          -122.75,
          -118.24,
          -85.48,
          -117.14,
          -118.49,
          -118.24,
          -118.88,
          -111.89,
          -118.5,
          -118.18,
          -121.98,
          -95.36,
          -73.86,
          -118.37,
          -118.24,
          -121.98,
          -118.44,
          -118.24,
          -118.24,
          -121.97,
          -118.24,
          -73.89,
          -118.64,
          -118.83,
          -122.41,
          -118.24,
          -106.48,
          -118.24,
          -122.98,
          -118.78,
          -118.24,
          -118.37,
          -118.3,
          -118.39,
          -118.14,
          -118.24,
          -118.6,
          -121.93,
          -74.11,
          -118.34,
          -74,
          -118.24,
          -121.95,
          -118.78,
          -118.24,
          -118.24,
          -118.03,
          -121.89,
          -118.24,
          -122.03,
          -118.35,
          -123.02,
          -118.49,
          -118.36,
          -73.81,
          -118.24,
          -118.15,
          -155.09,
          -118.37,
          -118.24,
          -81.61,
          -118.24,
          -112.02,
          -118.49,
          -118.24,
          -118.3,
          -106.65,
          -118.24,
          -79.94,
          -121.89,
          -111.88,
          -88.48,
          -118.63,
          -118.41,
          -121.69,
          -122.18,
          -118.13,
          -122.67,
          -74,
          -118.47,
          -117.75,
          -84.54,
          -122.26,
          -118.44,
          -123.02,
          -77.94,
          -121.89,
          -86.8,
          -118.15,
          -118.24,
          -121.97,
          -118.24,
          -82.99,
          -111.93,
          -122.67,
          -121.94,
          -121.89,
          -73.95,
          -118.24,
          -117.99,
          -82.32,
          -112.53,
          -118.36,
          -118.16,
          -122.25,
          -112,
          -118.3,
          -123.03,
          -118.24,
          -118.24,
          -118.25,
          -112.05,
          -118.44,
          -111.88,
          -104.98,
          -122.21,
          -106.65,
          -118.44,
          -121.89,
          -112,
          -111.97,
          -104.98,
          -121.95,
          -118.24,
          -111.89,
          -111.89,
          -84.79,
          -94.61,
          -122.26,
          -118.24,
          -118.44,
          -121.89,
          -118.36,
          -157.85,
          -111.93,
          -111.89
         ],
         "name": "",
         "radius": 10,
         "subplot": "mapbox",
         "type": "densitymapbox"
        },
        {
         "colorscale": [
          [
           0,
           "rgb(255,245,240)"
          ],
          [
           0.125,
           "rgb(254,224,210)"
          ],
          [
           0.25,
           "rgb(252,187,161)"
          ],
          [
           0.375,
           "rgb(252,146,114)"
          ],
          [
           0.5,
           "rgb(251,106,74)"
          ],
          [
           0.625,
           "rgb(239,59,44)"
          ],
          [
           0.75,
           "rgb(203,24,29)"
          ],
          [
           0.875,
           "rgb(165,15,21)"
          ],
          [
           1,
           "rgb(103,0,13)"
          ]
         ],
         "hovertext": "company HQ",
         "lat": [
          37.22
         ],
         "lon": [
          -121.97
         ],
         "radius": 15,
         "type": "densitymapbox"
        }
       ],
       "layout": {
        "coloraxis": {
         "colorscale": [
          [
           0,
           "#440154"
          ],
          [
           0.1111111111111111,
           "#482878"
          ],
          [
           0.2222222222222222,
           "#3e4989"
          ],
          [
           0.3333333333333333,
           "#31688e"
          ],
          [
           0.4444444444444444,
           "#26828e"
          ],
          [
           0.5555555555555556,
           "#1f9e89"
          ],
          [
           0.6666666666666666,
           "#35b779"
          ],
          [
           0.7777777777777778,
           "#6ece58"
          ],
          [
           0.8888888888888888,
           "#b5de2b"
          ],
          [
           1,
           "#fde725"
          ]
         ]
        },
        "legend": {
         "tracegroupgap": 0
        },
        "mapbox": {
         "accesstoken": "pk.eyJ1IjoidHJhY3ljaGFybGVzMTA4IiwiYSI6ImNsMjJmdmUzajFmeXcza3BkOXgwOWZoNW4ifQ.bFv6klpNU8XWRbEJ0zk1Dw",
         "center": {
          "lat": 36.159358649789105,
          "lon": -113.44789029535926
         },
         "domain": {
          "x": [
           0,
           1
          ],
          "y": [
           0,
           1
          ]
         },
         "style": "carto-positron",
         "zoom": 3
        },
        "margin": {
         "b": 0,
         "l": 0,
         "r": 0,
         "t": 0
        },
        "template": {
         "data": {
          "bar": [
           {
            "error_x": {
             "color": "#2a3f5f"
            },
            "error_y": {
             "color": "#2a3f5f"
            },
            "marker": {
             "line": {
              "color": "#E5ECF6",
              "width": 0.5
             },
             "pattern": {
              "fillmode": "overlay",
              "size": 10,
              "solidity": 0.2
             }
            },
            "type": "bar"
           }
          ],
          "barpolar": [
           {
            "marker": {
             "line": {
              "color": "#E5ECF6",
              "width": 0.5
             },
             "pattern": {
              "fillmode": "overlay",
              "size": 10,
              "solidity": 0.2
             }
            },
            "type": "barpolar"
           }
          ],
          "carpet": [
           {
            "aaxis": {
             "endlinecolor": "#2a3f5f",
             "gridcolor": "white",
             "linecolor": "white",
             "minorgridcolor": "white",
             "startlinecolor": "#2a3f5f"
            },
            "baxis": {
             "endlinecolor": "#2a3f5f",
             "gridcolor": "white",
             "linecolor": "white",
             "minorgridcolor": "white",
             "startlinecolor": "#2a3f5f"
            },
            "type": "carpet"
           }
          ],
          "choropleth": [
           {
            "colorbar": {
             "outlinewidth": 0,
             "ticks": ""
            },
            "type": "choropleth"
           }
          ],
          "contour": [
           {
            "colorbar": {
             "outlinewidth": 0,
             "ticks": ""
            },
            "colorscale": [
             [
              0,
              "#0d0887"
             ],
             [
              0.1111111111111111,
              "#46039f"
             ],
             [
              0.2222222222222222,
              "#7201a8"
             ],
             [
              0.3333333333333333,
              "#9c179e"
             ],
             [
              0.4444444444444444,
              "#bd3786"
             ],
             [
              0.5555555555555556,
              "#d8576b"
             ],
             [
              0.6666666666666666,
              "#ed7953"
             ],
             [
              0.7777777777777778,
              "#fb9f3a"
             ],
             [
              0.8888888888888888,
              "#fdca26"
             ],
             [
              1,
              "#f0f921"
             ]
            ],
            "type": "contour"
           }
          ],
          "contourcarpet": [
           {
            "colorbar": {
             "outlinewidth": 0,
             "ticks": ""
            },
            "type": "contourcarpet"
           }
          ],
          "heatmap": [
           {
            "colorbar": {
             "outlinewidth": 0,
             "ticks": ""
            },
            "colorscale": [
             [
              0,
              "#0d0887"
             ],
             [
              0.1111111111111111,
              "#46039f"
             ],
             [
              0.2222222222222222,
              "#7201a8"
             ],
             [
              0.3333333333333333,
              "#9c179e"
             ],
             [
              0.4444444444444444,
              "#bd3786"
             ],
             [
              0.5555555555555556,
              "#d8576b"
             ],
             [
              0.6666666666666666,
              "#ed7953"
             ],
             [
              0.7777777777777778,
              "#fb9f3a"
             ],
             [
              0.8888888888888888,
              "#fdca26"
             ],
             [
              1,
              "#f0f921"
             ]
            ],
            "type": "heatmap"
           }
          ],
          "heatmapgl": [
           {
            "colorbar": {
             "outlinewidth": 0,
             "ticks": ""
            },
            "colorscale": [
             [
              0,
              "#0d0887"
             ],
             [
              0.1111111111111111,
              "#46039f"
             ],
             [
              0.2222222222222222,
              "#7201a8"
             ],
             [
              0.3333333333333333,
              "#9c179e"
             ],
             [
              0.4444444444444444,
              "#bd3786"
             ],
             [
              0.5555555555555556,
              "#d8576b"
             ],
             [
              0.6666666666666666,
              "#ed7953"
             ],
             [
              0.7777777777777778,
              "#fb9f3a"
             ],
             [
              0.8888888888888888,
              "#fdca26"
             ],
             [
              1,
              "#f0f921"
             ]
            ],
            "type": "heatmapgl"
           }
          ],
          "histogram": [
           {
            "marker": {
             "pattern": {
              "fillmode": "overlay",
              "size": 10,
              "solidity": 0.2
             }
            },
            "type": "histogram"
           }
          ],
          "histogram2d": [
           {
            "colorbar": {
             "outlinewidth": 0,
             "ticks": ""
            },
            "colorscale": [
             [
              0,
              "#0d0887"
             ],
             [
              0.1111111111111111,
              "#46039f"
             ],
             [
              0.2222222222222222,
              "#7201a8"
             ],
             [
              0.3333333333333333,
              "#9c179e"
             ],
             [
              0.4444444444444444,
              "#bd3786"
             ],
             [
              0.5555555555555556,
              "#d8576b"
             ],
             [
              0.6666666666666666,
              "#ed7953"
             ],
             [
              0.7777777777777778,
              "#fb9f3a"
             ],
             [
              0.8888888888888888,
              "#fdca26"
             ],
             [
              1,
              "#f0f921"
             ]
            ],
            "type": "histogram2d"
           }
          ],
          "histogram2dcontour": [
           {
            "colorbar": {
             "outlinewidth": 0,
             "ticks": ""
            },
            "colorscale": [
             [
              0,
              "#0d0887"
             ],
             [
              0.1111111111111111,
              "#46039f"
             ],
             [
              0.2222222222222222,
              "#7201a8"
             ],
             [
              0.3333333333333333,
              "#9c179e"
             ],
             [
              0.4444444444444444,
              "#bd3786"
             ],
             [
              0.5555555555555556,
              "#d8576b"
             ],
             [
              0.6666666666666666,
              "#ed7953"
             ],
             [
              0.7777777777777778,
              "#fb9f3a"
             ],
             [
              0.8888888888888888,
              "#fdca26"
             ],
             [
              1,
              "#f0f921"
             ]
            ],
            "type": "histogram2dcontour"
           }
          ],
          "mesh3d": [
           {
            "colorbar": {
             "outlinewidth": 0,
             "ticks": ""
            },
            "type": "mesh3d"
           }
          ],
          "parcoords": [
           {
            "line": {
             "colorbar": {
              "outlinewidth": 0,
              "ticks": ""
             }
            },
            "type": "parcoords"
           }
          ],
          "pie": [
           {
            "automargin": true,
            "type": "pie"
           }
          ],
          "scatter": [
           {
            "marker": {
             "colorbar": {
              "outlinewidth": 0,
              "ticks": ""
             }
            },
            "type": "scatter"
           }
          ],
          "scatter3d": [
           {
            "line": {
             "colorbar": {
              "outlinewidth": 0,
              "ticks": ""
             }
            },
            "marker": {
             "colorbar": {
              "outlinewidth": 0,
              "ticks": ""
             }
            },
            "type": "scatter3d"
           }
          ],
          "scattercarpet": [
           {
            "marker": {
             "colorbar": {
              "outlinewidth": 0,
              "ticks": ""
             }
            },
            "type": "scattercarpet"
           }
          ],
          "scattergeo": [
           {
            "marker": {
             "colorbar": {
              "outlinewidth": 0,
              "ticks": ""
             }
            },
            "type": "scattergeo"
           }
          ],
          "scattergl": [
           {
            "marker": {
             "colorbar": {
              "outlinewidth": 0,
              "ticks": ""
             }
            },
            "type": "scattergl"
           }
          ],
          "scattermapbox": [
           {
            "marker": {
             "colorbar": {
              "outlinewidth": 0,
              "ticks": ""
             }
            },
            "type": "scattermapbox"
           }
          ],
          "scatterpolar": [
           {
            "marker": {
             "colorbar": {
              "outlinewidth": 0,
              "ticks": ""
             }
            },
            "type": "scatterpolar"
           }
          ],
          "scatterpolargl": [
           {
            "marker": {
             "colorbar": {
              "outlinewidth": 0,
              "ticks": ""
             }
            },
            "type": "scatterpolargl"
           }
          ],
          "scatterternary": [
           {
            "marker": {
             "colorbar": {
              "outlinewidth": 0,
              "ticks": ""
             }
            },
            "type": "scatterternary"
           }
          ],
          "surface": [
           {
            "colorbar": {
             "outlinewidth": 0,
             "ticks": ""
            },
            "colorscale": [
             [
              0,
              "#0d0887"
             ],
             [
              0.1111111111111111,
              "#46039f"
             ],
             [
              0.2222222222222222,
              "#7201a8"
             ],
             [
              0.3333333333333333,
              "#9c179e"
             ],
             [
              0.4444444444444444,
              "#bd3786"
             ],
             [
              0.5555555555555556,
              "#d8576b"
             ],
             [
              0.6666666666666666,
              "#ed7953"
             ],
             [
              0.7777777777777778,
              "#fb9f3a"
             ],
             [
              0.8888888888888888,
              "#fdca26"
             ],
             [
              1,
              "#f0f921"
             ]
            ],
            "type": "surface"
           }
          ],
          "table": [
           {
            "cells": {
             "fill": {
              "color": "#EBF0F8"
             },
             "line": {
              "color": "white"
             }
            },
            "header": {
             "fill": {
              "color": "#C8D4E3"
             },
             "line": {
              "color": "white"
             }
            },
            "type": "table"
           }
          ]
         },
         "layout": {
          "annotationdefaults": {
           "arrowcolor": "#2a3f5f",
           "arrowhead": 0,
           "arrowwidth": 1
          },
          "autotypenumbers": "strict",
          "coloraxis": {
           "colorbar": {
            "outlinewidth": 0,
            "ticks": ""
           }
          },
          "colorscale": {
           "diverging": [
            [
             0,
             "#8e0152"
            ],
            [
             0.1,
             "#c51b7d"
            ],
            [
             0.2,
             "#de77ae"
            ],
            [
             0.3,
             "#f1b6da"
            ],
            [
             0.4,
             "#fde0ef"
            ],
            [
             0.5,
             "#f7f7f7"
            ],
            [
             0.6,
             "#e6f5d0"
            ],
            [
             0.7,
             "#b8e186"
            ],
            [
             0.8,
             "#7fbc41"
            ],
            [
             0.9,
             "#4d9221"
            ],
            [
             1,
             "#276419"
            ]
           ],
           "sequential": [
            [
             0,
             "#0d0887"
            ],
            [
             0.1111111111111111,
             "#46039f"
            ],
            [
             0.2222222222222222,
             "#7201a8"
            ],
            [
             0.3333333333333333,
             "#9c179e"
            ],
            [
             0.4444444444444444,
             "#bd3786"
            ],
            [
             0.5555555555555556,
             "#d8576b"
            ],
            [
             0.6666666666666666,
             "#ed7953"
            ],
            [
             0.7777777777777778,
             "#fb9f3a"
            ],
            [
             0.8888888888888888,
             "#fdca26"
            ],
            [
             1,
             "#f0f921"
            ]
           ],
           "sequentialminus": [
            [
             0,
             "#0d0887"
            ],
            [
             0.1111111111111111,
             "#46039f"
            ],
            [
             0.2222222222222222,
             "#7201a8"
            ],
            [
             0.3333333333333333,
             "#9c179e"
            ],
            [
             0.4444444444444444,
             "#bd3786"
            ],
            [
             0.5555555555555556,
             "#d8576b"
            ],
            [
             0.6666666666666666,
             "#ed7953"
            ],
            [
             0.7777777777777778,
             "#fb9f3a"
            ],
            [
             0.8888888888888888,
             "#fdca26"
            ],
            [
             1,
             "#f0f921"
            ]
           ]
          },
          "colorway": [
           "#636efa",
           "#EF553B",
           "#00cc96",
           "#ab63fa",
           "#FFA15A",
           "#19d3f3",
           "#FF6692",
           "#B6E880",
           "#FF97FF",
           "#FECB52"
          ],
          "font": {
           "color": "#2a3f5f"
          },
          "geo": {
           "bgcolor": "white",
           "lakecolor": "white",
           "landcolor": "#E5ECF6",
           "showlakes": true,
           "showland": true,
           "subunitcolor": "white"
          },
          "hoverlabel": {
           "align": "left"
          },
          "hovermode": "closest",
          "mapbox": {
           "style": "light"
          },
          "paper_bgcolor": "white",
          "plot_bgcolor": "#E5ECF6",
          "polar": {
           "angularaxis": {
            "gridcolor": "white",
            "linecolor": "white",
            "ticks": ""
           },
           "bgcolor": "#E5ECF6",
           "radialaxis": {
            "gridcolor": "white",
            "linecolor": "white",
            "ticks": ""
           }
          },
          "scene": {
           "xaxis": {
            "backgroundcolor": "#E5ECF6",
            "gridcolor": "white",
            "gridwidth": 2,
            "linecolor": "white",
            "showbackground": true,
            "ticks": "",
            "zerolinecolor": "white"
           },
           "yaxis": {
            "backgroundcolor": "#E5ECF6",
            "gridcolor": "white",
            "gridwidth": 2,
            "linecolor": "white",
            "showbackground": true,
            "ticks": "",
            "zerolinecolor": "white"
           },
           "zaxis": {
            "backgroundcolor": "#E5ECF6",
            "gridcolor": "white",
            "gridwidth": 2,
            "linecolor": "white",
            "showbackground": true,
            "ticks": "",
            "zerolinecolor": "white"
           }
          },
          "shapedefaults": {
           "line": {
            "color": "#2a3f5f"
           }
          },
          "ternary": {
           "aaxis": {
            "gridcolor": "white",
            "linecolor": "white",
            "ticks": ""
           },
           "baxis": {
            "gridcolor": "white",
            "linecolor": "white",
            "ticks": ""
           },
           "bgcolor": "#E5ECF6",
           "caxis": {
            "gridcolor": "white",
            "linecolor": "white",
            "ticks": ""
           }
          },
          "title": {
           "x": 0.05
          },
          "xaxis": {
           "automargin": true,
           "gridcolor": "white",
           "linecolor": "white",
           "ticks": "",
           "title": {
            "standoff": 15
           },
           "zerolinecolor": "white",
           "zerolinewidth": 2
          },
          "yaxis": {
           "automargin": true,
           "gridcolor": "white",
           "linecolor": "white",
           "ticks": "",
           "title": {
            "standoff": 15
           },
           "zerolinecolor": "white",
           "zerolinewidth": 2
          }
         }
        }
       }
      },
      "text/html": [
       "<div>                            <div id=\"19c92107-4b91-45f6-a647-1eb9564e8608\" class=\"plotly-graph-div\" style=\"height:525px; width:100%;\"></div>            <script type=\"text/javascript\">                require([\"plotly\"], function(Plotly) {                    window.PLOTLYENV=window.PLOTLYENV || {};                                    if (document.getElementById(\"19c92107-4b91-45f6-a647-1eb9564e8608\")) {                    Plotly.newPlot(                        \"19c92107-4b91-45f6-a647-1eb9564e8608\",                        [{\"coloraxis\":\"coloraxis\",\"customdata\":[[\"senior software engineer\",\"university of washington\"],[\"global head of ecommerce\",\"the art institutes\"],[\"director, preschool content\",\"new york university\"],[\"senior software engineer, video engineering\",\"brooks institute\"],[\"support solutions engineer\",\"san jose state university\"],[\"senior software engineer\",\"northeastern university\"],[\"partnerships\",\"the wharton school\"],[\"director of device and content security\",\"michigan technological university\"],[\"senior software engineer\",\"loyola university chicago\"],[\"product manager, studio innovation\",\"stanford university\"],[\"director, product legal\",\"university of california, davis - school of law\"],[\"creative content manager, drama and genre series\",\"syracuse university\"],[\"technical recruiter\",\"columbia college (sc)\"],[\"senior security engineer\",\"depaul university\"],[\"senior software engineer - user interface\",\"university of virginia\"],[\"senior software engineer\",\"university of new orleans\"],[\"senior android developer\",\"texas a&m university\"],[\"director, legal and business affairs\",\"university of california, los angeles\"],[\"senior security user interface engineer\",\"san jose state university\"],[\"director, gaming data science and engineering\",\"queen's university\"],[\"senior machine learning scientist\",\"stanford university\"],[\"senior software engineer\",\"florida institute of technology\"],[\"talent acquisition\",\"uc irvine\"],[\"director, series publicity\",\"syracuse university\"],[\"senior software engineer\",\"virginia tech\"],[\"director, global creative marketing\",\"university of southern california\"],[\"product design lead\",\"george mason university\"],[\"engineering manager, continuous integration\",\"chatrapati sahuji maharaj kanpur university, kanpur\"],[\"director of engineering, access and identity management, product edge services\",\"worcester polytechnic institute\"],[\"product design manager, studio xd\",\"rhode island school of design\"],[\"senior software engineer\",\"university of california, berkeley\"],[\"director of global visual effects resource strategy\",\"pepperdine graziadio business school\"],[\"director, marketing - documentary series\",\"emerson college\"],[\"senior full stack engineer\",\"university of southern california\"],[\"senior software engineer\",\"university of california, santa cruz\"],[\"senior software engineer\",\"university of north carolina at chapel hill\"],[\"senior software engineer\",\"university of southern california\"],[\"vice president, tv product engineering\",\"stanford university\"],[\"contingent talent partner\",\"arizona state university\"],[\"manager production systems engineering\",\"loyola marymount university\"],[\"product design manager\",\"university of massachusetts dartmouth\"],[\"senior software engineer\",\"west valley college\"],[\"senior software engineer\",\"de anza college\"],[\"business development\",\"university of southern california\"],[\"senior manager\",\"babson college\"],[\"executive assistant\",\"loyola marymount university\"],[\"senior software engineer\",\"south dakota school of mines and technology\"],[\"senior software engineer\",\"university of miami\"],[\"senior software engineer\",\"california state university, monterey bay\"],[\"director, data science and engineering\",\"birla institute of technology and science, pilani\"],[\"senior software engineer\",\"university of southern california\"],[\"manager, national publicity\",\"syracuse university - martin j. whitman school of management\"],[\"senior software engineer\",\"the university of texas at dallas\"],[\"manager, security operations\",\"university of southern california - marshall school of business\"],[\"compensation business partner\",\"brigham young university\"],[\"pipeline supervisor, animation\",\"university of pennsylvania\"],[\"senior software engineer\",\"university of minnesota\"],[\"design leader @netflix\",\"university of maryland\"],[\"director of product management\",\"university of california, los angeles\"],[\"curation specialist, photo studio\",\"goucher college\"],[\"vice president, studio strategy and analysis\",\"the wharton school\"],[\"product\",\"santa clara university\"],[\"senior software engineer\",\"wayne state university\"],[\"director of events, latin america\",\"university of washington\"],[\"senior user interface engineer\",\"university of pennsylvania\"],[\"senior product researcher\",\"california college of the arts\"],[\"senior data scientist\",\"university of wisconsin - madison\"],[\"senior software engineer\",\"university of illinois at chicago\"],[\"director, talent - hr bp talent\",\"university of arizona\"],[\"senior software tools engineer\",\"utah valley university\"],[\"senior software engineer\",\"boston university\"],[\"manager - feature animation post production\",\"colorado state university\"],[\"production finance manager\",\"baruch college\"],[\"director, original documentary programming\",\"university of california, berkeley\"],[\"senior counsel, music\",\"university of california, los angeles\"],[\"technology solutions manager\",\"university of california, los angeles\"],[\"senior analytics engineer\",\"princeton university\"],[\"head of talent acquisition - uk\",\"pepperdine university\"],[\"program food and beverage\",\"university of california, santa cruz\"],[\"labor relations coordinator\",\"university of wisconsin - milwaukee\"],[\"coordinator, inclusion learning and development\",\"pepperdine university\"],[\"leader of growth apac engineering\",\"university of washington\"],[\"engineering manager, real time data platform\",\"florida international university\"],[\"director of engineering\",\"pg center, kolar\"],[\"senior software engineering\",\"new york university\"],[\"senior software engineer\",\"cabrillo college\"],[\"product reliability engineer\",\"bethel university\"],[\"global creative marketing ucan - latam\",\"california state university, fresno\"],[\"analyst, corporate card and expense operations - emea\",\"marquette university\"],[\"director, studio user interface\",\"university of san diego\"],[\"senior vendor buying analyst\",\"portland community college\"],[\"project manager, launch operations\",\"uc santa barbara\"],[\"data science manager, open connect\",\"university of california, davis\"],[\"production manager\",\"california state university, los angeles\"],[\"senior software engineer\",\"university of california, los angeles\"],[\"vfx manager, ucan series\",\"universidad complutense de madrid\"],[\"drivers license: a\",\"university of illinois at urbana - champaign\"],[\"senior software engineer\",\"university of delaware\"],[\"senior manager, production finance\",\"florida state university\"],[\"manager, regional publicity\",\"american university\"],[\"senior software engineer\",\"university of california, berkeley\"],[\"manager, talent intelligence\",\"university of san francisco\"],[\"counsel, netflix original series\",\"american university washington college of law\"],[\"engineering manager\",\"university of maryland\"],[\"senior manager, content fp and a\",\"university of southern california\"],[\"internal audit manager\",\"university of san francisco\"],[\"post production executive, studio feature films\",\"temple university\"],[\"data product @ netflix\",\"university of california, berkeley\"],[\"manager, creative asset operations\",\"university of oregon\"],[\"senior network site reliability engineer\",\"alcester - hudson high school\"],[\"director, global product research\",\"university of pennsylvania\"],[\"researching and recruiting tech talent\",\"university of the pacific\"],[\"director, content strategy [ netflix original film\",\"international culinary center\"],[\"site reliability engineering manager\",\"university of maryland - university college\"],[\"director, human resources business partner\",\"wayne state university\"],[\"senior full-stack engineer\",\"university of california, berkeley\"],[\"senior software engineer\",\"university of central florida\"],[\"senior user interface engineer - tv platforms\",\"stanford university\"],[\"technical program manager, information security\",\"brown university\"],[\"manager, partner marketing creative\",\"chapman university\"],[\"director, post production\",\"pepperdine university\"],[\"data engineer\",\"university of southern california\"],[\"human resources leader\",\"university of illinois at urbana - champaign\"],[\"senior software engineer\",\"carleton university\"],[\"manager, global creative marketing\",\"duke university\"],[\"director of talent\",\"university of california, davis\"],[\"senior software engineer\",\"carnegie mellon university\"],[\"line producer, brand and editorial\",\"new york film academy\"],[\"senior software engineer\",\"uc san diego\"],[\"director of product management\",\"california state university, fullerton\"],[\"post production manager - documentary\",\"columbia college chicago\"],[\"director of design, interactive experiences\",\"massachusetts college of art and design\"],[\"client technology specialist\",\"null\"],[\"senior security engineer\",\"victoria university of wellington\"],[\"vice president, head of original series, emea\",\"harvard university\"],[\"senior user interface engineer\",\"thomas rotherham college\"],[\"talent acquisition @ netflix\",\"california polytechnic state university - san luis obispo\"],[\"senior software engineer\",\"university of san francisco\"],[\"senior software engineer\",\"university of southern california\"],[\"senior sdet -- android\",\"university of la verne\"],[\"senior software engineer\",\"arizona state university\"],[\"head of production technology and operations\",\"university of california, santa cruz\"],[\"senior analytics engineer\",\"the collins college of hospitality management at cal poly pomona\"],[\"senior program manager, creative asset optimization\",\"uc santa barbara\"],[\"brand strategy, research and communications\",\"georgetown university mcdonough school of business\"],[\"senior software engineer\",\"university of pennsylvania\"],[\"senior product designer\",\"southridge high school\"],[\"manager, screen credits\",\"brooks institute\"],[\"global director of marketing\",\"hampton university\"],[\"photo campaign manager, series\",\"chapman university\"],[\"engineering manager, ios user interface\",\"central washington university\"],[\"senior software engineer\",\"uc irvine\"],[\"manager, animation series\",\"boston university\"],[\"tech ops domestic manager\",\"loyola marymount university\"],[\"senior software engineer\",\"dartmouth college\"],[\"creative production program manager - innovation platforms\",\"wayne state university\"],[\"partner marketing creative - latam at netflix\",\"uc irvine\"],[\"ucan av manager\",\"ex'pression college for digital arts\"],[\"senior analytics and visualization engineer\",\"canisius college\"],[\"network architect\",\"sir syed university\"],[\"product manager, content platform engineering\",\"savannah college of art and design\"],[\"director, productivity engineering\",\"george mason university\"],[\"senior user interface engineer\",\"the collins college of hospitality management at cal poly pomona\"],[\"director\",\"uc santa barbara\"],[\"senior software engineer\",\"university of california, los angeles\"],[\"executive assistant, talent - content\",\"university of southern california\"],[\"on-site support specialist, los angeles studio, netflix technology\",\"berklee college of music\"],[\"vice president, studio product innovation\",\"pomona college\"],[\"senior software codesmith\",\"stanford university\"],[\"global creative marketing, films\",\"university of virginia\"],[\"ea, music creative and production\",\"national university\"],[\"av producer\",\"null\"],[\"product content innovation, emea\",\"stanford university\"],[\"av engineer - events\",\"california state university, long beach\"],[\"vice president, netflix original films marketing\",\"macalester college\"],[\"senior database solutions engineer\",\"university of vermont\"],[\"financial analyst, residuals-animation films and series\",\"the university of tulsa\"],[\"payments - senior software engineer\",\"chulalongkorn university\"],[\"series campaign manager\",\"virginia commonwealth university\"],[\"director and senior counsel - intellectual property\",\"university of arizona\"],[\"360 film marketing manager\",\"ruben s ayala high school\"],[\"head of still photography - film\",\"university of melbourne\"],[\"manager, talent experiences and gifting\",\"university of nebraska at omaha\"],[\"producer, studio games\",\"university of central florida\"],[\"counsel\",\"university of the pacific - mcgeorge school of law\"],[\"writing innovation manager\",\"the university of alabama\"],[\"senior software engineer\",\"vellore institute of technology\"],[\"senior research engineer\",\"washington state university\"],[\"production tax senior analyst\",\"loyola law school, los angeles\"],[\"talent team executive assistant\",\"california state university, chico\"],[\"principal product designer\",\"rochester institute of technology\"],[\"senior software engineer\",\"uc berkeley college of engineering\"],[\"product writer and editor, editorial creative\",\"university of california, los angeles\"],[\"marketing director\",\"the pennsylvania state university, university\"],[\"engineering manager at netflix\",\"mes high school\"],[\"director, business and legal affairs, original documentary features\",\"loyola university new orleans\"],[\"senior software engineer\",\"rensselaer polytechnic institute\"],[\"director - human resources\",\"san jose state university\"],[\"assistant editor\",\"brookdale community college\"],[\"senior systems engineer\",\"rensselaer polytechnic institute\"],[\"business and legal affairs counsel, original studio films\",\"university of pennsylvania\"],[\"manager, post production\",\"carthage college\"],[\"director product management, innovation\",\"marymount university\"],[\"it consultant\",\"tesst college of technology - towson\"],[\"senior software engineer\",\"university of california, los angeles\"],[\"apac screenings manager\",\"wayne state university\"],[\"product metadata manager\",\"null\"],[\"tv physical production\",\"tufts university\"],[\"awards, animation\",\"university of the pacific\"],[\"manager of strategy, planning and analysis\",\"the ohio state university\"],[\"project manager, title operations: original films\",\"university of southern california\"],[\"project manager\",\"university of nebraska at omaha\"],[\"manager, music clearance\",\"university of california, los angeles\"],[\"manager, inclusion\",\"saint john's university\"],[\"manager, legal operations and tech\",\"woodbury university\"],[\"manager, original series production\",\"boston university\"],[\"operations specialist, artwork\",\"virginia commonwealth university\"],[\"director, production management\",\"arizona state university\"],[\"engineering manager\",\"university of california, berkeley\"],[\"senior software automation engineer at netflix\",\"university of california, davis\"],[\"executive assistant\",\"briar cliff university\"],[\"editorial\",\"the johns hopkins university - paul h. nitze school of advanced international studies (sais)\"],[\"director of creative development and production | editorial and publishing\",\"pepperdine university\"],[\"the gray man\",\"the george washington university\"],[\"vice president, engineering\",\"stanford university\"],[\"staff writer\",\"boston university\"],[\"product designer\",\"ringling college of art and design\"],[\"operations manager\",\"williamsville south high school\"],[\"senior software engineer\",\"new york university\"],[\"post production manager\",\"university of missouri - columbia\"],[\"senior software engineer\",\"massachusetts institute of technology\"],[\"senior software engineer\",\"stanford university\"],[\"director, inclusion strategy - talent and human resources, legal, inclusion initiatives\",\"harvard university\"],[\"manager, post production strategy and operations\",\"california state university, northridge\"],[\"senior product researcher\",\"sogang university\"],[\"senior counsel, labor relations\",\"thomas jefferson school of law\"],[\"human resources leader | model\",\"auburn university\"],[\"non-fiction public relations\",\"pacific union college\"],[\"manager, production finishing\",\"california state university, chico\"],[\"brand design lead\",\"parsons school of design - the new school\"],[\"recruiting researcher | netflix animated films\",\"the collins college of hospitality management at cal poly pomona\"],[\"senior software engineer\",\"ithaca college\"],[\"generalist, human resources production\",\"california state university, fullerton\"],[\"post production executive, documentaries\",\"baylor university\"],[\"director, business and legal affairs, original series\",\"villanova university\"],[\"product designer\",\"carnegie mellon university\"],[\"'extraction'\",\"vancouver film school\"],[\"senior software engineer\",\"carnegie mellon university\"],[\"product manager\",\"rensselaer polytechnic institute\"],[\"administrative assistant\",\"san jose state university\"],[\"engineering manager, studio tech solutions\",\"california state university, long beach\"],[\"senior software engineer\",\"university of california, davis\"],[\"senior software engineer\",\"massachusetts institute of technology\"],[\"senior software engineer\",\"university of michigan\"],[\"manager, original documentary series\",\"university of southern california\"],[\"executive assistant in original series at netflix\",\"university of southern california\"],[\"manager, supplier operations\",\"stevenson university\"],[\"executive producer, netflix series\",\"hofstra university\"],[\"manager - contingent compensation\",\"steinbeis - hochschule - berlin\"],[\"department assistant\",\"california state university, fullerton\"],[\"data engineering manager\",\"the university of texas at austin\"],[\"business and legal, original family film\",\"boston university\"],[\"post production assistant\",\"indiana university bloomington\"],[\"vice president and associate general counsel\",\"wellesley college\"],[\"recruiter\",\"villanova university\"],[\"recruiter, emerging talent\",\"uc san diego\"],[\"senior software engineer\",\"rochester institute of technology\"],[\"integrated planning manager, korea\",\"new york university\"],[\"associate, production finance\",\"mount saint mary's university\"],[\"training manager\",\"eastern washington university\"],[\"manager\",\"cornell university\"],[\"producer for brutus pink\",\"university of california, los angeles\"],[\"recruiter\",\"university of oregon\"],[\"editor, product experience\",\"stanford continuing studies\"],[\"creative coordinator, animated films\",\"university of california, los angeles\"],[\"coordinator, casting administration\",\"morehouse college\"],[\"senior software engineer\",\"california state university, northridge\"],[\"design director\",\"university of california, santa cruz\"],[\"senior software engineer\",\"stanford university\"],[\"senior software engineer\",\"clemson university\"],[\"senior user interface engineer\",\"georgia institute of technology\"],[\"operations and support specialist\",\"suny new paltz\"],[\"supervisor, client services\",\"graceland university\"],[\"manager, studio user interface engineering\",\"university of california, berkeley\"],[\"manager, creative resource management\",\"university of southern california\"],[\"coordinator, global creative marketing for original films\",\"boston university\"],[\"director, content financial planning and analysis\",\"arizona state university\"],[\"engineering manager - playback data systems\",\"georgia institute of technology\"],[\"senior software engineer - data engineering infrastructure\",\"iowa state university\"],[\"director of engineering\",\"vassar college\"],[\"senior studio operations finance business partner\",\"university of massachusetts dartmouth\"],[\"research and development\",\"harvard business school\"],[\"inclusion talent outreach and engagement - content creative\",\"the university of alabama\"],[\"project management program lead | design and construction | real estate\",\"woodbury university\"],[\"netflix html5 player, senior software engineer\",\"st. john's high school\"],[\"actress voiceover and dubbing\",\"uc santa barbara\"],[\"senior software engineer\",\"harvey mudd college\"],[\"previs artist\",\"trinity college - hartford\"],[\"global creative marketing manager, documentary features and series\",\"california state university, northridge\"],[\"senior data engineer\",\"university of southern california\"],[\"technical recruiter\",\"university of california, santa cruz\"],[\"art and print producer - films\",\"california state university, northridge\"],[\"senior software engineer\",\"university of southern california\"],[\"recruiting researcher\",\"radford university\"],[\"senior software engineer\",\"webster university\"],[\"talent acquisition\",\"university of idaho\"],[\"manager | digital production\",\"simmons university\"],[\"operations supervisor ii\",\"columbus state community college\"],[\"former otr area manager\",\"lakewood high school\"],[\"manager, department assistants\",\"university of southern california\"],[\"community and creative experiences specialist\",\"university of california, davis\"],[\"design operations lead, xd\",\"university of san diego\"],[\"director of product design\",\"the art institutes\"],[\"director of engineering\",\"dartmouth college\"],[\"director of post production, u.k. and emea\",\"new york university\"],[\"director, original series post production\",\"university of tennessee, knoxville\"],[\"original film publicity, netflix\",\"the university of georgia\"],[\"senior data engineer\",\"university of california, los angeles\"],[\"manager of finance\",\"antioch university new england\"],[\"global experiences strategy\",\"the wharton school\"],[\"senior analytics engineer\",\"university of washington\"],[\"localization project manager\",\"pepperdine graziadio business school\"],[\"manager - marketing legal\",\"emerson college\"],[\"studio production specialist\",\"university of utah\"],[\"director, product data science and engineering\",\"uc san diego\"],[\"manager, music production\",\"texas a&m university - mays business school\"],[\"content operations\",\"northeastern university\"],[\"counsel, business and legal affairs\",\"southwestern law school\"],[\"talent acquisition\",\"fidm\"],[\"program manager, product testing\",\"university of west florida\"],[\"global media strategy manager - us\",\"university of miami\"],[\"game producer\",\"university of california, berkeley\"],[\"director, content acquisition\",\"middlebury college\"],[\"administrative assistant\",\"california state university, fullerton\"],[\"independent contractor\",\"academy of art university\"],[\"global creative marketing\",\"tufts university\"],[\"senior user interface engineer at netflix\",\"wichita state university\"],[\"senior product designer\",\"henderson state university\"],[\"stand in\",\"simi valley high school 09\"],[\"head of us brand partnerships, original series\",\"university of maryland\"],[\"consumer insights\",\"university of washington\"],[\"creative development producer and writer\",\"new york university\"],[\"employee services generalist\",\"university of mississippi\"],[\"global consumer insights - films\",\"san diego state university\"],[\"executive assistant\",\"massasoit community college\"],[\"content strategy and analysis, emea\",\"ucla anderson school of management\"],[\"senior software engineer\",\"georgia institute of technology\"],[\"director, inclusion - content\",\"loyola university chicago\"],[\"manager, talent coordinators\",\"creighton university\"],[\"vfx operations manager\",\"emerson college\"],[\"25+ year industry veteran\",\"university of utah\"],[\"senior data engineer\",\"virginia tech\"],[\"recruiting researcher\",\"california state university, fullerton\"],[\"vfx supervisor\",\"the university of kansas\"],[\"product writing manager\",\"university of california, berkeley\"],[\"creative talent development\",\"davenport university\"],[\"manager, production management\",\"clemson university\"],[\"production executive\",\"columbia university in the city of new york\"],[\"senior software engineer\",\"university of minnesota duluth\"],[\"director, global creative marketing\",\"georgetown university mcdonough school of business\"],[\"manager, casting\",\"\\\"your mom went to college\\\" - kip\"],[\"counsel, business and legal affairs\",\"brown university\"],[\"executive producer\",\"nyu tisch art and public policy\"],[\"music creative and production\",\"university of southern california\"],[\"head of experiences\",\"university of richmond\"],[\"senior manager, content strategy and analysis - ucan tv deal analysis\",\"university of st.gallen\"],[\"line producer\",\"university of glasgow\"],[\"software engineering manager\",\"university of delaware\"],[\"financial projects mergers and acquisitions integrations\",\"university of california, santa cruz\"],[\"senior analytics engineer\",\"mcgill university\"],[\"creative design lead - creative studio\",\"learning tree university\"],[\"director, business and legal affairs - rihc\",\"barry university\"],[\"director and co-writer\",\"morehouse college\"],[\"coordinator, labor relations\",\"miami university\"],[\"recruiter, corporate operations\",\"university of oregon\"],[\"ratings manager\",\"university of california, santa cruz\"],[\"director , business affairs and legal - worldwide studio operations and partnerships\",\"null\"],[\"manager, original series drama development\",\"the ohio state university\"],[\"production finance associate\",\"emerson college\"],[\"vfx manager original films\",\"uc irvine\"],[\"senior content accountant\",\"florida state university\"],[\"senior copy editor\",\"university of south carolina\"],[\"technical recruiting researcher\",\"arizona state university - w. p. carey school of business\"],[\"senior manager, sp and a\",\"university of florida\"],[\"vice president, original series publicity\",\"university of virginia\"],[\"marketing operations\",\"boston university\"],[\"infrastructure program manager, creative studio\",\"school of visual arts\"],[\"product manager, member experiences\",\"university of pennsylvania\"],[\"marketing strategy\",\"the wharton school\"],[\"visual effects supervisor\",\"the joe kubert school of cartoon & graphic art\"],[\"senior video engineer\",\"university of north florida\"],[\"editor\",\"california state university, long beach\"],[\"post production\",\"chapman university\"],[\"product designer\",\"the art institutes\"],[\"engineering manager, media systems\",\"pontif\\u00edcia universidade cat\\u00f3lica do rio de janeiro\"],[\"vfx production manager - nightbooks\",\"philadelphia university\"],[\"counsel, real estate\",\"new york university\"],[\"global marketing manager\",\"esade\"],[\"global creative marketing manager\",\"new york university\"],[\"senior video engineer\",\"rochester institute of technology\"],[\"senior content manager, product innovation\",\"university of california, los angeles\"],[\"character animator and character designer and story artist\",\"lincoln high school\"],[\"vice president of product data science and engineering\",\"stanford university\"],[\"client services specialist\",\"don bosco technical institute\"],[\"senior software engineer\",\"university of california, los angeles\"],[\"head of previsualization\",\"artcenter college of design\"],[\"senior software engineer\",\"georgia institute of technology\"],[\"channel innovation program manager, growth\",\"university of denver - daniels college of business\"],[\"staff writer\",\"university of southern california\"],[\"treasury operations analyst\",\"claremont mckenna college\"],[\"head of story\",\"california institute of the arts\"],[\"manager, production tax planning and incentives\",\"university of florida\"],[\"sec reporting and technical accounting senior manager\",\"university of california, berkeley\"],[\"mobility and employment tax\",\"university of california, berkeley\"],[\"head of kids and family animation publicity\",\"new york university\"],[null,\"null\"],[\"edtior\",\"chapman university\"],[\"manager, screen credits\",\"florida state university\"],[\"inclusion strategy program manager\",\"bard college\"],[\"engineering manager\",\"defense language institute foreign language center\"],[\"product designer - growth\",\"port clinton high school\"],[\"coordinator, physical production\",\"western washington university\"],[\"merchandise brand strategy\",\"vassar college\"],[\"software engineer\",\"university of washington\"],[\"original series publicity at netflix\",\"parsons school of design - the new school\"],[\"story artist on animated feature\",\"savannah college of art and design\"],[\"st software engineer\",\"oregon state university\"],[\"global head of media strategy\",\"university of north carolina at chapel hill\"],[\"program manager, payroll ucan\",\"california state university, fullerton\"],[\"animated series production executive\",\"san jose state university\"],[\"vice president, consumer insights\",\"suny oneonta\"],[\"creative strategist @ netflix\",\"denison university\"],[\"technical director\",\"lincoln high school - stockton, ca\"],[\"rights analyst\",\"california state university, fullerton\"],[\"manager, international original film, emea\",\"new york university\"],[\"counsel, business and legal affairs, original independent film\",\"university of california, berkeley\"],[\"production coordinator\",\"university of california, los angeles\"],[\"vice president, content fp and a\",\"university of notre dame\"],[null,\"monmouth university\"],[\"music composer\",\"syracuse university\"],[\"data center deployment engineer\",\"san francisco state university\"],[\"production assistant\",\"rhode island school of design\"],[\"script, story and editorial\",\"university of miami\"],[\"story editor\",\"wesleyan university\"],[\"vfx production\",\"australian film television radio school\"],[\"creative producer\",\"university of southern california\"],[\"engineering manager\",\"the university of texas at arlington\"],[\"campaign operations specialist\",\"rollins college\"],[\"manager, global content protection\",\"lone peak high school\"],[\"vfx - original studio films\",\"unlv lee business school\"],[\"manager, original series-netflix\",\"georgetown university\"],[\"director, kids and family and ya - content acquisitions and co-commissions\",\"university of southern california\"],[\"retakes director\",\"california institute of the arts\"],[\"associate producer and vfx producer - extraction 2\",\"university of florida\"],[\"production assistant\",\"santa clara university\"],[\"director, production management, original independent and family film\",\"columbia university\"],[\"categorization and metadata collections, editorial creative\",\"northwestern university\"],[\"psychological consultant\",\"university of rochester\"],[\"engineering leader\",\"the wharton school\"],[\"executive story editor\",\"university of massachusetts boston\"],[\"editorial and publishing manager\",\"northwestern university\"],[\"visual effects producer\",\"rowan university\"],[\"manager, original studio films\",\"university of southern california - marshall school of business\"],[\"manager, global creative marketing - documentary\",\"university of california, los angeles\"],[\"computer graphic supervisor\",\"otis college of art and design\"],[\"senior user interface engineer\",\"rochester institute of technology\"],[\"senior software engineer in test\",\"devry technical institute\"],[\"manager, editorial operations\",\"university of california, berkeley\"],[\"product support operations | netflix\",\"michigan state university\"],[\"director, films marketing\",\"fordham university\"],[\"partner marketing strategy\",\"new york university\"],[\"director, original series-drama\",\"stanford university\"],[\"creative marketing\",\"university of pittsburgh\"],[\"producer\",\"emerson college\"],[\"post production coordinator\",\"uc irvine\"],[\"editor\",\"null\"],[\"senior software engineer\",\"penn state university\"],[\"internal communications editorial manager\",\"university of arkansas\"],[\"technical researcher\",\"park university\"],[\"picture editor\",\"syracuse university\"],[\"coordinator, business and legal affairs, scripted series\",\"arizona state university\"],[\"vice president business and legal affairs\",\"null\"],[\"art director\",\"artcenter college of design\"],[\"assistant production accountant\",\"claremont graduate university\"],[\"senior manager, studio fp and a\",\"uc san diego\"],[\"manager, physical production, documentaries\",\"depaul university\"],[\"director, physical production - original film\",\"university of southern california\"],[\"chief marketing officer\",\"liberty high school\"],[\"senior tax analyst, production tax planning and incentives\",\"the ohio state university\"],[\"senior counsel and director\",\"university of southern california\"],[\"script coordinator\",\"university of california, los angeles\"],[\"production manager\",\"emerson college\"],[\"asset specialist - post production operations\",\"temple university\"],[\"senior software engineer, netflix\",\"syracuse university\"],[\"animator - wendell and wild\",\"savannah college of art and design\"],[\"contract manager\",\"azusa pacific university\"],[\"human resources generalist, employee services\",\"california state university, long beach\"],[\"creative assistant\",\"tulane university\"],[\"program manager, partner operations\",\"cabrini university\"],[\"recruiting @ netflix\",\"mills college\"],[\"director of original series\",\"northwestern university\"],[\"senior ios user interface engineer at netflix\",\"purdue university\"],[\"director, content accounting\",\"california state university, northridge\"],[\"dubbing title manager\",\"california state university, northridge\"],[\"senior software engineer\",\"chhatrapati shahu ji maharaj university\"],[\"director, learning and org development\",\"san diego state university\"],[\"manager, original series publicity\",\"penn state university\"],[\"writer and director\",\"university of california, berkeley\"],[\"director, talent acquisition\",\"washington state university\"],[\"story producer\",\"emory university\"],[\"production finance executive\",\"california state university, long beach\"],[\"director and senior counsel\",\"new york university\"],[\"technical program manager\",\"santa clara university\"],[\"recruiting researcher\",\"gnomon school of visual effects, games + animation\"],[\"senior sofware engineer\",\"american university washington college of law\"],[\"senior user interface engineer at netflix\",\"pacific university\"],[\"background painter\",\"artcenter college of design\"],[\"coordinator, physical production\",\"sonoma state university\"],[\"project manager, content distribution\",\"university of michigan\"],[\"compensation analyst\",\"university of california, davis\"],[\"senior user interface engineer\",\"harvey mudd college\"],[\"employee services generalist\",\"los gatos high school\"],[\"digital producer\",\"california state university, fullerton\"],[\"lead background designer\",\"savannah college of art and design\"],[\"manager, editorial and publishing - netflix geeked\",\"northeastern university\"],[\"senior data platform engineer\",\"university of california, davis\"],[\"senior software engineer\",\"montana state university - bozeman\"],[\"head of story\",\"princeton university\"],[\"manager, content fp and a\",\"la costa canyon high school\"],[\"global education manager\",\"new york university\"],[\"financial analyst\",\"university of california, berkeley\"],[\"producer\",\"the university of texas at austin\"],[\"software engineer\",\"null\"],[\"manager, global brand design\",\"loyola marymount university\"],[\"associate, production finance\",\"university of california, los angeles\"],[\"program manager, emerging talent\",\"university of southern california\"],[\"character designer\",\"art academy of los angeles\"],[\"line producer\",\"griffith university\"],[\"manager - shipping and receiving\",\"null\"],[\"production supervisor - story and editorial\",\"lewis & clark college\"],[\"senior software engineer\",\"bronx high school of science\"],[\"senior international tax analyst\",\"grand canyon university\"],[\"global creative marketing - original films\",\"university of delaware\"],[\"screen credits manager\",\"hamilton college\"],[\"photo campaign manager, films\",\"new york university\"],[\"executive producer\",\"university of pennsylvania\"],[\"production finance associate, original series\",\"new york university\"],[\"production accountant\",\"loyola marymount university\"],[\"manager, original series publicity at netflix\",\"chapman university\"],[\"senior software engineer\",\"stanford university\"],[\"leave of absence and accommodations specialist\",\"university of utah - david eccles school of business\"],[\"coordinator, film publicity\",\"university of nebraska - lincoln\"],[\"events manager\",\"northeastern university\"],[\"set dec buyer\",\"blairsville senior high school\"],[\"story producer\",\"california state university, northridge\"],[\"production manager\",\"biola university\"],[\"director, film communications\",\"boston university\"],[\"product reliability engineer, cs\",\"foothill college\"],[\"senior software engineer\",\"the university of texas at arlington\"],[\"series editor\",\"ithaca college\"],[\"production assistant\",\"university of rochester\"],[\"executive producer\",\"school of visual arts\"],[\"senior software engineer\",\"seattle university\"],[\"animator\",\"university of california, los angeles\"],[\"product brand manager\",\"new york university\"],[\"production supervisor\",\"endicott college\"],[\"set costumer\",\"north garland high school\"],[\"product development\",\"otis college of art and design\"],[\"engineering manager - playback licensing team\",\"georgia institute of technology\"],[\"senior compositor, netflix animation\",\"loyola marymount university\"],[\"counsel\",\"pepperdine law\"],[\"talent relations and awards\",\"university of wisconsin - madison\"],[\"legal associate\",\"new york university\"],[\"director, business and legal affairs, original documentaries and comedy\",\"california polytechnic state university - san luis obispo\"],[\"film director\",\"the american film institute\"],[\"talent acquisition @ netflix | gaming\",\"san francisco state university\"],[\"manager - post production, originals\",\"new york film academy\"],[\"production management, original documentary films\",\"northwestern university\"],[\"creative development\",\"yale university\"],[\"director, tv client platform\",\"university of waterloo\"],[\"tech ops animation specialist\",\"california state university - dominguez hills\"],[\"guest star\",\"university of wisconsin - eau claire\"],[\"engineering manager, security services engineering\",\"saratoga central catholic high school\"],[\"director, ucan marketing, editorial\",\"trinity college - hartford\"],[\"interaction design prototyper\",\"null\"],[\"visual effects producer\",\"university of southern california\"],[\"production manager, editorial and publishing\",\"university of la verne\"],[\"engineering manager\",\"university of california, berkeley\"],[\"associate, music clearance and licensing\",\"mcnally smith college of music\"],[\"graphic designer and illustrator\",\"cuesta college\"],[\"manager, licensing and consumer products\",\"stagg senior high\"],[\"technical operations specialist, animation\",\"western governors university\"],[\"coordinator, artist and resource management operations\",\"biola university\"],[\"showrunner's assistant\",\"northwestern university\"],[\"set production assistant\",\"fashion institute of technology\"],[\"supervising producer\",\"state university of new york college at oswego\"],[\"head of development operations\",\"university of edinburgh school of philosophy, psychology and language sciences\"],[\"head of global audiences, brand and editorial marketing\",\"fordham university\"],[\"executive assistant\",\"foothill college\"],[\"project manager\",\"salisbury university\"],[\"manager, ip scouting, series\",\"university of chicago\"],[\"product reliability engineer\",\"portland community college\"],[\"manager, nonfiction original series\",\"the catholic university of america\"],[\"production assistant\",\"dedham high school\"],[\"manager animation publicity\",\"university of southern california\"],[\"film editor\",\"texas christian university\"],[\"post production coordinator\",\"howard university\"],[\"senior systems development engineer\",\"rochester institute of technology\"],[\"senior software engineer\",\"stanford university\"],[\"manager - legal operations and technology\",\"claremont mckenna college\"],[\"engineering manager, content knowledge graph\",\"arizona state university - w. p. carey school of business\"],[\"supervising director\",\"minneapolis college of art and design\"],[\"counsel, intellectual property\",\"binghamton university\"],[\"talent acquisition\",\"california state university, long beach\"],[\"senior researcher\",\"university of southern california\"],[\"title operations project manager, creative production - nonfiction series\",\"university of california, davis\"],[\"media and events strategy, outreach and engagement | animation + content creatives\",\"\\u00e9cole sup\\u00e9rieure de commerce et de management - escem\"],[\"post production coordinator\",\"california state university, northridge\"],[\"post production, original independent film\",\"california state university, fullerton\"],[\"director, legal\",\"university of california, berkeley\"],[\"photo campaign manager - films\",\"university of wisconsin - madison\"],[\"dubbing title management\",\"university of california, los angeles\"],[\"counsel, business and legal affairs\",\"winston - salem state university\"],[\"producer\",\"university of northern colorado\"],[\"specialist, series publicity\",\"university of southern california\"],[\"executive assistant, data science and engineering at netflix\",\"valdosta state university\"],[\"manager, global creative marketing\",\"university of maryland\"],[\"technical recruiting researcher\",\"university of san diego\"],[\"coordinator, physical production\",\"the university of hong kong\"],[\"product designer, studio xd\",\"university of utah\"],[\"senior software engineer\",\"university of florida\"],[\"workforce scheduling analyst\",\"weber state university\"],[\"creative marketing\",\"university of wisconsin - madison\"],[\"content acquisition\",\"stanford university\"],[\"director of global licensing\",\"yale university\"],[\"localization project manager\",\"lynn university\"],[\"vice president product innovation\",\"university of pennsylvania\"],[\"strategist\",\"university of iowa\"],[\"post coordinator - animation, series\",\"san jose state university\"],[\"pipeline developer\",\"san jose state university\"],[\"senior it auditor\",\"san jose state university\"],[\"manager, content accounting - original animation\",\"university of california, riverside\"],[\"original dialogue | adr mixer\",\"lebanon valley college\"],[\"director of engineering\",\"the university of texas at austin\"],[\"creative marketing - animation\",\"artcenter college of design\"],[\"senior software engineer\",\"paul r.wharton high school\"],[\"senior software engineer\",\"university of california, santa cruz\"],[\"production designer\",\"academy of art university\"],[\"recruiting researcher\",\"university of california, berkeley\"],[\"production accountant\",\"english language institute college of staten island cuny\"],[\"talent acquisition\",\"university of california, los angeles\"],[\"manager, creative marketing awards\",\"southern methodist university\"],[\"photo campaign manager\",\"bard college\"],[\"senior software engineer\",\"university of north texas\"],[\"producer - documentary series\",\"emerson college\"],[\"casting assistant\",\"university of pittsburgh\"],[\"key hair stylist\",\"keller graduate school of management of devry university\"],[\"senior tax analyst\",\"university of southern california - marshall school of business\"],[\"senior analytics engineer\",\"university of california, berkeley\"],[\"senior data engineer\",\"university of dayton\"],[\"character design\",\"webster university\"],[\"av editor at creative studio\",\"university of puerto rico, r\\u00edo piedras\"],[\"assistant location manager\",\"south point high school\"],[\"senior security software engineer\",\"stanford university\"],[\"editor - 'narcos: mexico'\",\"moviola education center\"],[\"senior studio solutions engineer\",\"loyola marymount university\"],[\"coordinator, physical production\",\"uc santa barbara\"],[\"executive assistant to vice president consumer insights\",\"california state university, northridge\"],[\"director, consumer insights\",\"boston college\"],[\"senior software engineer\",\"the ohio state university\"],[\"senior engineering manager\",\"stanford university\"],[\"internal video producer\",\"university of massachusetts amherst\"],[\"driver\",\"prairie view a&m university\"],[\"compensation\",\"university of michigan\"],[\"contract administration\",\"emerson college\"],[\"pipeline technical director\",\"baker college\"],[\"senior software engineer\",\"missouri university of science and technology\"],[\"project manager, title operations\",\"full sail university\"],[\"senior software engineer\",\"university of california, santa cruz\"],[\"manager, documentary features publicity\",\"worthington high school\"],[\"product manager, animation technology\",\"boston university\"],[\"physical production coordinator\",\"howard university\"],[\"senior buyer\",\"university of art, tehran\"],[\"staff writer\",\"harvard university\"],[\"production executive\",\"null\"],[\"product designer\",\"weber state university\"],[\"production finance executive\",\"college hill\"],[\"grow creative equity manager\",\"new york university\"],[\"music creative and production\",\"belmont university\"],[\"color supervisor\",\"artcenter college of design\"],[\"editorial analyst, metadata research and development\",\"oregon state university\"],[\"senior software engineer\",\"visvesvaraya technological university\"],[\"animation recruiting researcher\",\"null\"],[\"director, content communications\",\"the university of texas at austin\"],[null,\"antioch high school\"],[\"senior art director\",\"rochester institute of technology\"],[\"senior technical program manager\",\"uc irvine\"],[\"senior software engineer\",\"university of illinois at urbana - champaign\"],[\"motion designer + art director | creative studio\",\"uc san diego\"],[\"workplace and studio operations | netflix\",\"boston university\"],[\"accounting clerk on wheelman\",\"emerson college\"],[\"senior software engineer\",\"carnegie mellon university\"],[\"director, live action and anime marketing\",\"guilford college\"],[\"creative strategist, original films | product creative strategy\",\"university of delaware\"],[\"customer service representative\",\"othello high school\"],[\"post production management team, independent original films\",\"grapevine high school\"],[\"editor\",\"arizona state university\"],[\"associate, production finance - original series\",\"uc santa barbara\"],[\"in from the cold - editor\",\"the university of new mexico\"],[\"associate, content fp and a\",\"california state university, northridge\"],[\"production manager\",\"baylor university\"],[\"talent acquisition manager\",\"null\"],[\"imaging technologist\",\"university of new mexico\"],[\"counsel, music\",\"princeton university\"],[\"assistant editor\",\"university of arkansas\"],[\"director, net zero + nature\",\"university of oregon\"],[\"departmental assistant\",\"university of southern california\"],[\"manager\",\"california state university, fullerton\"],[\"manager, contact engineering\",\"universit\\u00e9 paul sabatier toulouse iii\"],[\"field project manager\",\"chapman university\"],[\"systems and storage architect\",\"null\"],[\"business affairs, original series\",\"university of wisconsin - madison\"],[\"senior software engineer\",\"university of southern california\"],[\"director, untitled netflix original film\",\"orange high school\"],[\"talent coordinator manager\",\"san francisco state university\"],[\"co producer\",\"wittenberg university\"],[\"trailer editor - producer\",\"null\"],[\"engineering manager, user systems and data, games identity and social\",\"thapar institute of engineering & technology\"],[\"senior software engineer in test at netflix\",\"uc irvine\"],[\"staff writer\",\"new york university\"],[\"script coordinator\",\"university of central florida\"],[\"technical director\",\"bournemouth university\"],[\"head of publishing\",\"university of oregon\"],[\"visual effects co-producer\",\"rowan university\"],[\"motion designer\",\"hoover high school\"],[\"true story\",\"university of north carolina at chapel hill\"],[\"look development artist\",\"ringling college of art and design\"],[\"senior technical writer\",\"california polytechnic state university - san luis obispo\"],[\"techspecialist at netflix\",\"musicians institute\"],[\"original studio film\",\"university of southern california\"],[\"director, film publicity\",\"loyola marymount university\"],[\"global charter manager\",\"metropolitan state university of denver\"],[\"director of marketing - comedy\",\"loyola marymount university\"],[\"original documentary publicity at netflix\",\"louisville high school\"],[\"director, adult animation\",\"philadelphia central high school\"],[\"manager\",\"syracuse university\"],[\"script reader\",\"san francisco state university\"],[\"senior software engineer\",\"amherst college\"],[\"writer's assistant\",\"university of southern california\"],[\"solutions architect, people technology\",\"fauquier high school\"],[\"director of engineering, mobile platforms\",\"stanford university\"],[\"picture editor\",\"the ohio state university\"],[\"co producer\",\"university of nevada - las vegas\"],[\"story editor\",\"duke university\"],[\"actor\",\"british american drama academy\"],[\"producer, consultant\",\"northwestern university - kellogg school of management\"],[\"assistant vfx editor\",\"academy of art university\"],[\"original series post production coordinator\",\"university of la verne\"],[\"visual effects producer\",\"california state university, northridge\"],[\"director of product research, studio experience\",\"university of california, los angeles\"],[\"director - vfx ucan series\",\"new york film academy\"],[\"localization program manager\",\"cornell university\"],[\"senior software engineer\",\"university of southern california\"],[\"matchmove artist\",\"california state university, chico\"],[\"post production supervisor\",\"null\"],[\"character designer\",\"dartmouth college\"],[\"office production assistant\",\"gonzaga university\"],[\"story artist\",\"california institute of the arts\"],[\"director, business and legal affairs\",\"duke university\"],[\"senior user experience researcher\",\"the johns hopkins university\"],[\"producer manager\",\"wake forest university\"],[\"original animation, preschool\",\"rollins college\"],[\"creative studio editor\",\"university of north carolina school of the arts\"],[\"media operator\",\"providence college\"],[\"senior software engineer - cloud performance and os\",\"university of illinois at chicago\"],[\"executive producer - 'haters back off'\",\"northwestern university\"],[\"contracts manager\",\"uc san diego\"],[\"manager, labor relations\",\"national paralegal college\"],[\"director of product design\",\"drake university\"],[\"product manager, content engineering\",\"arizona state university\"],[\"senior partner engineer\",\"university of california, los angeles\"],[\"program management, innovation\",\"the university of texas at austin\"],[\"producer\",\"north carolina state university\"],[\"mr iglasias\",\"kalani high school\"],[\"production coordinator, original studio films\",\"american university\"],[\"counsel, business and legal affairs\",\"rutgers university\"],[\"financial analyst\",\"university of california, riverside\"],[\"supervising producer\",\"university of arizona\"],[\"research operations, consumer insights\",\"university of california, davis\"],[\"creative pipeline engineer\",\"university of california, berkeley\"],[\"director of engineering\",\"california state university - sacramento\"],[\"freelance production coordinator\",\"clark atlanta university\"],[\"post executive - original series\",\"california state university, chico\"],[\"animation production coordinator\",\"california state university, northridge\"],[\"production management - original series\",\"savannah state university\"],[\"administrative assistant\",\"new york university\"],[\"production coordinator\",\"otis college of art and design\"],[\"counsel, business and legal affairs, original film\",\"chapman university\"],[\"content strategy @ netflix\",\"columbia university in the city of new york\"],[\"business legal affairs\",\"university of alabama at birmingham\"],[\"post production\",\"arkansas state university\"],[\"food critic\",\"butler university\"],[\"technical program manager\",\"san jose state university\"],[\"senior automation engineer\",\"case western reserve university\"],[\"original dialogue and adr mixer\",\"los angeles valley college\"],[\"accountant\",\"california state university, fresno\"],[\"executive producer\",\"columbia college\"],[\"manager, localization production\",\"roma film academy\"],[\"administrative assistant\",\"san francisco state university\"],[\"senior research scientist\",\"stevens institute of technology\"],[\"talent coordinator\",\"null\"],[\"franchise marketing and strategy\",\"canisius college\"],[\"director, content strategy and analysis - apac\",\"university of tennessee, knoxville\"],[\"head of story\",\"sheridan college\"],[\"manager, digital marketing emea\",\"trinity business school\"],[\"editor\",\"poynton high school\"],[\"episodic director\",\"concept design academy\"],[\"social video producer, audiences\",\"new york university\"],[\"senior data engineer\",\"bellevue university\"],[\"screenings\",\"syracuse university\"],[\"1st assistant accountant\",\"new york university\"],[\"senior software engineer\",\"null\"],[\"senior program manager, inclusion recruiting programs\",\"baylor university\"],[\"counsel, music business and legal affairs\",\"university of colorado boulder\"],[\"scheduling and capacity planning analyst\",\"university of utah\"],[\"production supervisor\",\"uc santa barbara\"],[\"2nd assistant director\",\"university of illinois at chicago\"],[\"product creative strategy producer, originals\",\"universitat aut\\u00f2noma de barcelona\"],[\"visual effects producer\",\"fairleigh dickinson university\"],[\"director's assistant and central coordinator\",\"university of north texas\"],[\"executive producer\",\"arlington high school\"],[\"original series publicity\",\"michigan state university\"],[\"director - observability engineering\",\"university of mumbai\"],[\"assistant, global public policy\",\"university of tennessee, knoxville\"],[\"animation studios\",\"university of phoenix\"],[\"production designer\",\"concept design academy\"],[\"executive assistant to vice president consumer insights\",\"leland high school\"],[\"software engineer and architect\",\"indian institute of technology, kharagpur\"],[\"awards, crafts\",\"new york university\"],[\"original independent film\",\"williams college\"],[\"trademark specialist\",\"brown university\"],[\"series marketing\",\"university of north texas\"],[\"senior software engineer\",\"null\"],[\"production manager\",\"penn state university\"],[\"netflix animation - assistant editor\",\"california state university, long beach\"],[\"performance coach\",\"purchase college, suny\"],[\"customer service representative\",\"kearns high school\"],[\"editorial creative collections specialist\",\"ucla anderson school of management\"],[\"junior accountant\",\"null\"],[\"counsel, business and legal affairs, original series\",\"boston college\"],[\"freelance narrative designer and writer\",\"wellesley college\"],[\"executive assistant\",\"virginia commonwealth university\"],[\"full-stack software engineer\",\"walters state community college\"],[\"senior security support engineer\",\"uc san diego\"],[\"coordinator, original series\",\"pepperdine law\"],[\"background designer\",\"utah valley university\"],[\"manager, strategy planning and analysis\",\"uc irvine\"],[\"associate, strategy, planning and analysis\",\"purdue university\"],[\"people analytics partner\",\"stanford university\"],[\"director\",\"university of southern california\"],[\"solutions architect\",\"the university of texas at austin\"],[\"originals publicity\",\"null\"],[\"director, music - data, rights and technology\",\"california state university, northridge\"],[\"vfx coordinator of indie features\",\"columbus state university\"],[\"events @ netflix\",\"connecticut college\"],[null,\"san jose state university\"],[\"producer s assistant\",\"marquette university\"],[\"writer and director - jinn\",\"the american film institute\"],[\"director, original studio film\",\"university of california, berkeley\"],[\"product @ netflix\",\"massachusetts institute of technology\"],[\"producer\",\"columbia university in the city of new york\"],[\"program manager\",\"florida a&m university\"],[\"manager ucan editorial and publishing\",\"auckland university of technology\"],[\"writer and producer\",\"university of california, santa cruz\"],[\"product platform strategy @ netflix\",\"emory university - goizueta business school\"],[\"client technology specialist\",\"null\"],[\"senior counsel, business and legal affairs original studio film at netflix\",\"northwestern university\"],[\"manager, multi-title brand events\",\"s.i. newhouse school of public communications at syracuse university\"],[\"associate editor\",\"fleetwood nautical college\"],[\"writer, the ranch\",\"biola university\"],[\"vfx composite artist\",\"chapman university\"],[\"showrunner s assistant\",\"uc santa barbara\"],[\"product support operations manager, devices and technology\",\"null\"],[\"line producer\",\"gies college of business - university of illinois urbana - champaign\"],[\"director, talent acquisition\",\"university of california, los angeles\"],[\"senior data architect\",\"eastern michigan university\"],[\"senior software engineer in test\",\"visvesvaraya technological university\"],[\"line producer\",\"california state university, northridge\"],[\"art director\",\"university of idaho\"],[\"senior software engineer\",\"carnegie mellon university\"],[\"data science and engineering\",\"caltech\"],[\"talent relations and awards\",\"chapman university\"],[\"assistant chief pilot- kingair\",\"liberty university\"],[\"production designer\",\"null\"],[\"creative assistant\",\"university of north carolina at chapel hill\"],[\"visual effects producer\",\"kutztown university of pennsylvania\"],[\"senior security software engineer, appsec engineering\",\"uc santa barbara\"],[\"series credits coordinator\",\"florida state university\"],[\"lead character designer\",\"hogwarts school of witchcraft and wizardry\"],[null,\"emory university school of law\"],[\"director, marketing\",\"university of california, santa cruz\"],[\"associate producer\",\"emerson college\"],[\"publicity, original film, emea\",\"tulane university\"],[\"manager, music creative, original animation\",\"university of southern california\"],[\"director of product data engineering and analytics\",\"virginia tech\"],[\"production designer\",\"artcenter college of design\"],[\"story artist\",\"california institute of the arts\"],[\"executive assistant, marketing partnerships\",\"sacred heart university\"],[\"global product creative editor\",\"cal state university long beach\"],[\"trademark specialist\",\"edmonds community college\"],[\"netflix feature film\",\"syracuse university\"],[\"recruiting researcher\",\"university of southern california\"],[\"manager, global benefits\",\"uc san diego\"],[\"senior finance business partner\",\"california state university, long beach\"],[\"captain b300\",\"boise state university\"],[\"color designer | unannounced adult comedy\",\"san jose state university\"],[\"executive assistant\",\"uc santa barbara\"],[\"senior software engineer\",\"uc irvine\"],[\"vfx coordinator\",\"university of southern california\"],[\"project manager\",\"university of southern california - marshall school of business\"],[\"senior sqa engineer - tv user interface\",\"foothill college\"],[\"senior software engineer\",\"florida institute of technology\"],[\"producer\",\"university of southern california\"],[\"director, payments\",\"brigham young university\"],[\"post production supervisor\",\"penn state university\"],[\"program manager\",\"california state university - sacramento\"],[\"legal associate, business and legal affairs - original animation\",\"loyola marymount university\"],[\"associate editor\",\"vancouver film school\"],[\"senior engineering recruiter\",\"university of california, berkeley\"],[\"senior researcher, consumer insights\",\"dartmouth college\"],[\"creative producer\",\"minneapolis community and technical college\"],[\"senior sre\",\"university of south alabama\"],[\"director, original documentary publicity\",\"nyu wagner graduate school of public service\"],[\"administrative assistant\",\"universidad de guadalajara\"],[\"co-creator, master of none\",\"harvard university\"],[\"set decoration buyer\",\"the university of new mexico\"],[\"counsel, trade compliance\",\"university of california, los angeles\"],[\"intellectual property rights analyst\",\"university of pennsylvania\"],[\"driver\",\"null\"],[\"script reader\",\"columbia college chicago\"],[\"product creative assistant\",\"uc irvine\"],[\"talent acquisition manager\",\"department of sociology, lse\"],[\"creative assistant\",\"null\"],[\"sales tax manager\",\"santa clara university\"],[\"development, available light productions\",\"university of pennsylvania\"],[\"manager, events strategies and partnerships\",\"polytechnic high\"],[\"program manager, innovation platforms\",\"rochester institute of technology\"],[\"director, business and legal affairs, original animation\",\"university of pennsylvania\"],[\"project manager, international originals\",\"pearland high school\"],[\"senior data scientist\",\"indiana university bloomington\"],[\"assistant\",\"st. paul high school\"],[\"senior software engineer\",\"null\"],[\"script supervisor\",\"marymount california university\"],[\"senior software engineer\",\"null\"],[\"leadership programs\",\"university of the pacific\"],[\"content strategy and analysis, original series\",\"university of california, los angeles\"],[\"director and senior counsel, labor relations\",\"davidson college\"],[\"customer service lead\",\"arizona western college\"],[\"director privacy and security\",\"bates college\"],[\"line producer\",\"university of michigan\"],[null,\"university of southern california\"],[\"counsel, consumer products business and legal affairs\",\"boston university\"],[\"product creative strategy\",\"university of virginia\"],[\"product strategy, planning and analysis\",\"nyu stern school of business\"],[\"music editor\",\"american musical and dramatic academy\"],[\"director, animation pipeline\",\"university of california, davis\"],[\"administrative assistant, tax\",\"stony brook university\"],[\"set dresser\",\"arizona state university\"],[null,\"pasadena city college\"],[\"senior software engineer\",\"university of arizona\"],[\"product lead\",\"null\"],[\"lead assistant cameraman at rhythm and flow\",\"damien high school\"],[\"senior datacenter engineer\",\"western governors university\"],[\"animation production executive\",\"southern illinois university, carbondale\"],[\"dubbing title manager and dubbing producer\",\"universit\\u00e9 nice sophia antipolis\"],[\"senior systems engineer\",\"null\"],[\"manager\",\"uc santa barbara\"],[\"investigations and research team\",\"southern utah university\"],[\"dubbing producer\",\"null\"],[\"director, original animation, film\",\"marymount manhattan college\"],[\"senior sqa\",\"san jose state university\"],[\"media operator\",\"arizona state university\"],[\"production coordinator\",\"california state university, northridge\"],[\"executive producer\",\"null\"],[\"manager, business and legal affairs, original series\",\"university of wisconsin - madison\"],[\"senior software engineer\",\"university of science and technology of china\"],[\"film editor\",\"null\"],[\"office pa\",\"arizona state university\"],[\"counsel, original series\",\"southwestern law school\"],[\"associate, production finance\",\"glendale community college\"],[\"script coordinator\",\"university of southern california\"],[\"executive assistant and meeting manager\",\"san jose state university\"],[\"synopsis editor, licensed\",\"null\"],[\"marketing i north america, au, nz\",\"rajiv gandhi prodoyogiki vishwavidyalaya, bhopal\"],[\"previs artist\",\"loyola marymount university\"],[\"coordinator, original series\",\"california state university, northridge\"],[\"payroll assistant\",\"university of florida\"],[\"senior data engineer\",\"florida international university\"],[\"director apac partner engagement\",\"westmorland secondary school\"],[\"netflix\",\"university of michigan\"],[\"sandy wexler\",\"burbank high school\"],[\"story artist\",\"san jose state university\"],[\"lead character designer\",\"california institute of the arts\"],[null,\"cal state east bay - college of business & economics\"],[\"director, original independent film\",\"california state university, northridge\"],[null,\"the pennsylvania state university\"],[\"global creative lead\",\"cranbrook academy of art\"],[\"director, nonfiction series\",\"uc santa barbara\"],[\"writers assistant\",\"university of southern california\"],[null,\"mount saint mary's university\"],[\"netflix - original series, manager\",\"harvard university\"],[\"product support operations manager\",\"plymouth whitemarsh high school\"],[\"senior qa engineer\",\"itmo university\"],[\"head of character animation\",\"ringling college of art and design\"],[\"ciso\",\"null\"],[\"costumer\",\"uc santa barbara\"],[\"payroll coordinator\",\"university of california, davis\"],[\"senior analytics engineer\",\"howard university\"],[\"senior security partner\",\"loyola high school\"],[\"talent coordinator\",\"lesley university\"],[\"production finance executive\",\"university of california, los angeles\"],[\"contract analyst, original independent features\",\"uc san diego\"],[\"line producer\",\"california state university, northridge\"],[\"corporate pilot\",\"california state university - sacramento\"],[\"senior software engineer\",\"the university of british columbia\"],[\"user interface engineering manager\",\"null\"],[\"manager, original series, visual communications\",\"null\"],[null,\"null\"],[\"human resources business partner director\",\"university of virginia\"],[\"director, human resources - platform engineering\",\"hitotsubashi university graduate school of international corporate strategy\"],[\"director\",\"null\"],[\"content fp and a\",\"university of illinois at urbana - champaign\"],[\"workplace services manager\",\"university of rochester\"],[\"senior cdn reliability engineer\",\"harvey mudd college\"],[\"production supervisor\",\"school of the art institute of chicago\"],[\"picture editor\",\"university of southern california\"],[\"operations supervisor\",\"null\"],[\"assistant editor\",\"null\"],[\"global content protection operations\",\"california state university, long beach\"],[\"first assistant editor\",\"university of california, berkeley\"],[\"picture car coordinator\",\"gordon state college (official)\"],[\"originals producer , product creative strategy\",\"syracuse university\"],[\"global creative marketing, original films\",\"columbia university in the city of new york\"],[\"head writer and supervising producer\",\"new york university\"],[\"assistant production accountant\",\"calfornia state university northridge\"],[\"technical research analyst\",\"null\"],[\"story producer\",\"university of central florida\"],[\"production coordinator\",\"california state university, fullerton\"],[null,\"baldwin\\u2013wallace college\"],[\"h and s assistant coordinator\",\"loyola marymount university\"],[\"administrative assistant\",\"university of phoenix\"],[\"production assistant\",\"auburn university college of liberal arts\"],[null,\"university of san diego\"],[\"writer's pa\",\"trinity preparatory school\"],[\"curation and taxonomy\",\"university of chicago\"],[\"visual development artist\",\"california lutheran university\"],[\"domain specialist\",\"null\"],[\"visual effects producer\",\"hofstra university\"],[\"legal manager, strategic knowledge management\",\"new york university\"],[\"senior engineering leader\",\"university of arizona\"],[\"operations and support specialist\",\"null\"],[\"chauffeur\",\"null\"],[\"trailer editor | apac\",\"university of mumbai\"],[\"dubbing operations assistant\",\"university of southern california\"],[\"software engineer\",\"null\"],[\"production management\",\"mountain ridge high school\"],[\"staff writer\",\"massachusetts institute of technology\"],[\"script clearance analyst\",\"tulane university\"],[\"software development engineer\",\"null\"],[\"counsel, business and legal affairs, nonfiction\",\"mitchell hamline school of law\"],[\"1st assistant editor\",\"pace university\"],[\"senior financial analyst\",\"null\"],[\"senior software engineer\",\"taganrog state radio technical university\"],[\"partner marketing manager, latam\",\"null\"],[\"showrunner's assistant\",\"ohio university heritage college of osteopathic medicine\"],[\"security operations\",\"coronado high school\"],[\"creative dubbing contractor\",\"capital university\"],[\"representative\",\"null\"],[\"flight coordinator\",\"null\"],[\"editor\",\"california institute of the arts\"],[\"editor\",\"null\"],[\"production accountant - 'social distance'\",\"michigan state university\"],[\"logistics specialist\",\"null\"],[\"producer\",\"university of southern california\"],[\"global marketing and communications executive\",\"null\"],[\"contracts administrator\",\"uc san diego\"],[\"senior software engineer\",\"university of pennsylvania\"],[\"administrative assistant, adult animation\",\"ithaca college\"],[\"reader\",\"chapman university\"],[\"professional actor\",\"the city university of new york\"],[\"line producer\",\"null\"],[\"full stack engineer\",\"null\"],[\"supervising post producer\",\"heritage university\"],[\"projection, exhibition technology, creative technologies\",\"null\"],[\"producer\",\"university of minnesota\"],[\"story artist\",\"university of california, berkeley\"],[\"senior user interface engineer\",\"california state university, long beach\"],[null,\"university of missouri\"],[\"public relations manager, latin america\",\"null\"],[\"training specialist\",\"california state university, long beach\"],[\"operations supervisor ii\",\"douglas county high school\"],[\"co-executive producer\",\"null\"],[null,\"null\"],[\"talent acquisition\",\"columbia university in the city of new york\"],[\"counsel\",\"null\"],[\"background painter\",\"school of the art institute of chicago\"],[\"stunt performer\",\"null\"],[\"co-ep\",\"department of sociology, lse\"],[\"av producer\",\"conservatory of recording arts and sciences\"],[\"driver 3\",\"josefa pastrana high school\"],[\"production supervisor\",\"gnomon school of visual effects, games + animation\"],[\"tv show creator\",\"ogden - weber applied technology college\"],[\"production secretary\",\"dominican college of blauvelt\"],[\"corporate communications\",\"university of maryland\"],[\"1st assistant director\",\"null\"],[null,\"null\"],[\"executive coordinator\",\"university of florida\"],[\"private\",\"national business college\"],[\"editorial analyst, korean\",\"seoul national university\"],[\"technical research analyst\",\"null\"],[\"2nd 2nd assistant director\",\"null\"],[\"key grip\",\"null\"],[\"senior security partner\",\"the university of western australia\"],[\"global payroll functional lead, people technology\",\"the university of texas at el paso\"],[\"engineering manager device reliability\",\"null\"],[\"production assistant\",\"university of colorado boulder\"],[\"customer service\",\"null\"],[\"production planning pa\",\"nasm national academy of sports medicine\"],[\"finance support - n-tech\",\"null\"],[null,\"the collins college of hospitality management at cal poly pomona\"],[\"famous dude\",\"null\"],[\"event coordinator\",\"null\"],[null,\"sherman oaks center for enriched studies\"],[\"printer | scan tech\",\"mcnary high school\"],[\"production accountant\",\"null\"],[\"assembler\",\"null\"],[\"supervisor 1\",\"null\"],[\"design creative [creative direction\",\"pont aven school of art\"],[\"vice president content strategy and analysis for global television\",\"the catholic university of america, columbus school of law\"],[\"director, science and algorithms\",\"null\"],[null,\"north eugene high school\"],[\"csr\",\"null\"],[\"customer service agent\",\"herriman high school\"],[\"central production coordinator\",\"montana state university - bozeman\"],[null,\"null\"],[null,\"null\"],[null,\"null\"],[\"business and legal affairs\",\"null\"],[\"client technology specialist\",\"null\"],[\"actor\",\"life university\"],[\"supervisor\",\"montana technological university\"],[\"assistant - netflix originals\",\"null\"],[\"customer assistant\",\"null\"],[null,\"null\"],[\"customer service representative\",\"western governors university\"],[\"assistant editor\",\"null\"],[null,\"douglas mckay high school\"],[\"slate publicity\",\"null\"],[\"writer and producer\",\"new york university\"],[\"bojack horseman\",\"father henry carr catholic secondary school\"],[null,\"null\"],[\"set decorating leadman\",\"columbia college hollywood\"],[\"tsr\",\"null\"],[null,\"null\"],[\"editorial production assistant\",\"western washington university\"],[\"set designer\",\"null\"],[\"marketing ops\",\"notre dame high school\"],[\"senior software engineer - ios\",\"null\"],[\"tsr technical escalations\",\"null\"],[\"centralized support specialist\",\"everett community college\"],[\"production finance\",\"null\"],[\"senior software engineer\",\"null\"],[null,\"charleston county school of the arts\"],[\"customer service representative\",\"laconia high school\"],[\"customer service associate\",\"null\"],[null,\"null\"],[\"creative producer\",\"null\"],[null,\"null\"],[\"creative assistant, international originals brazil\",\"new york university\"],[\"video editor\",\"null\"],[null,\"null\"],[\"insatiable\",\"null\"],[\"viewer\",\"null\"],[null,\"null\"],[\"technical research analysist\",\"null\"]],\"hovertemplate\":\"lat=%{lat}<br>lon=%{lon}<br>job_title=%{customdata[0]}<br>school=%{customdata[1]}<extra></extra>\",\"lat\":[37.33,34.11,40.65,34.17,37.33,37.52,30.26,37.33,37.13,37.77,37.44,34.09,36.97,37.77,37.33,37.32,37.38,37.23,37.33,37.77,34.14,41.75,34.05,34.14,37.38,34.05,37.22,37.5,36.91,34.05,37.77,37.77,34.14,33.83,37.28,34.01,40.71,37.48,34.05,34.05,37.77,37.56,37.05,37.77,34.05,37.56,37.77,37.77,37.33,37.77,34.05,42.22,37.42,33.84,40.23,33.39,37.33,37.35,34.05,34.05,34.05,37.32,37.05,47.97,37.7,37.77,37.45,37.33,37.05,37.22,37.33,34.18,40.74,34.05,34.15,34.14,39.29,34.05,34.05,34.05,34.2,47.82,37.48,37.26,37.54,37.12,36.97,34.05,41.45,40.34,37.33,34.09,37.77,34.18,34.05,40.65,45.52,37.77,34.02,34.05,37.77,37.7,34.05,40.65,33.85,34.05,34.14,34.05,40.65,37.77,37.93,37.77,40.65,33.81,34.09,37.44,37.33,36.97,37.33,34.05,34.12,33.88,34.05,37.28,34.05,37.56,37.77,33.94,37.77,33.97,34.02,37.22,34.05,37.35,34.05,37.77,37.28,37.28,37.77,37.33,39.37,34.18,34.05,37.33,37.97,37.32,37.77,34.05,40.71,33.66,37.77,37.87,34.15,40.71,37.48,37.77,34.05,37.87,47.6,37.7,37.77,37.33,34.14,34.15,34.11,34.05,34.05,37.77,37.36,34.05,34.05,25.72,37.48,34.11,34.05,33.84,34.09,37.35,38.56,34.05,34.05,34.05,34.05,37.77,34.14,40.65,37.33,37.35,34.05,37.33,40.65,37.28,34.44,34.01,37.33,34.05,37.36,37.33,34.15,36.97,34.15,41.85,37.28,38.89,37.33,42.33,37.8,34.05,41.15,37.77,34.1,34.02,34.17,34.05,34.39,34.15,34.18,34.27,37.77,37.33,34.11,40.76,40.05,34.14,37.38,34.17,42.33,33.73,47.6,34.02,37.33,37.77,34.18,34.17,40.65,34.14,34.07,34.19,34.05,34.05,34.17,37.77,34.05,34.05,34.09,37.38,34.14,37.77,37.77,37.33,34.05,37.33,37.38,37.77,34.01,37.54,34.05,34.14,34.05,34.06,37.8,34.15,34.14,37.77,34.05,37.36,37.77,40.82,34.05,34.05,42.08,34.01,34.05,37.33,34.06,34.05,37.36,37.1,37.33,37.36,37.77,25.77,34.19,37.8,37.76,34.05,34.05,37.77,37.56,34.05,34.05,40.71,34.18,34.14,37.33,34.09,34.05,34.05,34.05,34.14,37.77,34.19,37.38,34.14,37.26,47.68,34.18,39.96,41.39,34.05,34.18,37.77,37.83,37.46,40.71,34.05,40.71,37.33,34.05,34.05,34.05,34.09,33.97,43.61,37.33,34.15,34.05,37.77,34.05,40.92,34.05,34.05,34.14,34.14,37.77,40.71,37.69,37.8,34.14,34.15,34.05,34.05,36.18,34.09,34.18,34.01,34.05,34.05,34.02,34.05,37.28,34.18,33.96,34.05,36.97,34.09,34.05,37.8,44.98,34.05,34.14,34.05,40.65,33.99,34.05,34.05,37.77,39.29,37.77,37.38,34.17,34.18,40.65,33.99,37.28,37.36,34.17,34.05,40.71,34.13,34.05,40.09,35.05,41.85,34.05,34.05,34.05,37.77,34.05,34.18,37.05,34.05,34.05,41.85,40.71,34.14,34.05,34.05,40.65,37.38,37.33,45.52,37.77,34.06,37.35,34.05,40.65,40.01,40.71,33.83,38.35,34.17,37.38,37.77,34.05,40.65,34.26,30.43,41.0,39.21,37.77,34.17,34.05,47.6,34.22,47.6,37.22,37.77,34.05,34.25,33.83,34.17,34.05,34.05,34.05,34.05,32.71,34.18,40.74,40.73,37.33,34.05,34.17,40.65,40.56,34.05,40.71,40.71,34.05,33.94,33.99,33.88,34.18,33.84,34.05,40.71,34.14,43.15,37.77,34.05,34.05,34.05,34.05,34.14,34.05,37.47,47.6,40.73,34.05,39.95,34.05,33.98,40.65,34.05,34.05,34.14,47.32,37.77,41.16,34.05,33.98,34.05,34.14,34.05,34.05,34.18,34.18,40.71,34.05,29.95,34.05,34.17,39.0,37.77,34.18,34.18,34.17,34.05,39.92,34.05,34.05,37.38,34.14,34.22,37.33,33.85,34.05,34.05,37.13,34.05,34.05,34.14,37.28,37.33,34.61,37.35,34.13,34.05,34.05,37.33,44.63,37.33,33.83,43.66,34.05,37.33,44.08,41.56,34.18,40.71,37.42,37.77,37.38,34.05,34.05,37.33,33.83,34.14,34.16,45.52,37.33,26.01,41.0,34.05,34.05,34.01,34.05,34.19,34.05,37.26,40.76,40.8,34.05,40.44,34.09,34.09,40.71,37.33,33.19,34.05,42.25,34.05,37.82,45.52,40.71,34.17,32.91,33.83,35.91,34.25,34.09,41.14,34.05,34.05,34.05,37.55,34.14,40.92,34.05,39.96,34.05,43.08,47.6,41.29,37.22,34.18,34.05,37.77,33.96,35.28,37.76,34.09,34.05,34.05,40.71,34.05,37.52,34.05,37.13,34.2,34.05,37.0,34.05,34.05,34.05,34.17,36.17,33.98,37.44,34.05,40.65,34.18,40.65,34.17,33.98,33.79,37.02,34.18,34.05,37.69,37.77,34.05,34.05,34.14,34.16,34.17,33.99,37.93,34.39,40.71,37.22,40.52,34.05,34.05,40.71,33.74,37.22,41.6,33.11,34.18,37.33,34.09,34.05,37.33,34.01,37.33,37.22,37.77,34.01,40.71,34.01,30.5,34.05,41.51,34.05,34.05,33.54,34.06,37.97,33.6,38.62,34.05,35.26,37.45,34.09,33.86,34.05,34.17,40.65,37.77,37.94,34.05,29.99,37.38,34.05,34.14,37.77,38.62,37.22,34.09,34.05,34.18,37.33,34.05,34.05,41.22,34.1,37.26,34.18,34.14,33.88,37.44,43.07,40.71,37.45,40.65,37.33,37.33,34.05,34.05,45.42,37.22,40.71,34.05,45.52,34.17,40.71,34.18,34.05,34.05,34.05,37.33,34.05,34.05,34.18,45.7,34.17,34.17,37.36,33.74,37.33,41.85,38.67,34.14,37.77,34.05,34.15,37.54,37.33,34.05,34.14,34.01,34.16,34.17,34.26,34.18,34.14,37.33,34.15,34.09,33.86,34.44,34.05,34.05,34.18,34.05,34.05,36.97,34.05,37.33,37.38,34.15,40.71,34.05,34.05,41.95,34.18,34.05,34.05,34.14,34.18,37.52,47.76,45.52,34.05,33.88,34.17,34.18,35.6,37.77,34.01,34.09,34.05,34.18,37.28,34.13,37.33,33.64,37.38,34.14,37.42,34.05,34.05,34.14,34.09,34.05,34.06,34.05,37.33,34.01,37.22,34.05,33.96,34.19,33.81,34.05,34.09,34.14,41.76,34.05,34.18,40.65,37.42,37.38,34.38,38.67,34.14,34.07,37.58,34.02,33.86,34.14,34.05,34.15,34.0,34.05,34.14,34.05,35.0,34.05,40.74,37.33,37.77,33.98,40.76,34.18,41.71,37.77,34.18,34.05,40.65,42.48,37.54,40.71,33.42,34.18,37.33,37.33,33.99,34.05,34.18,34.09,37.38,34.17,34.05,40.8,40.68,34.14,34.26,34.15,34.05,40.71,36.38,33.66,34.05,34.39,34.05,33.8,37.8,34.05,32.78,34.02,34.19,34.05,34.05,37.26,40.65,34.05,33.98,37.77,34.18,42.92,34.05,34.16,40.65,37.22,34.05,33.84,34.06,34.14,34.05,34.05,37.42,33.76,34.14,37.33,37.38,34.17,34.18,37.35,34.18,34.17,43.1,34.25,34.05,33.76,34.43,34.14,34.18,34.07,34.07,34.14,33.99,34.15,37.22,34.28,34.18,34.05,34.05,34.18,34.05,34.05,37.77,33.81,34.14,34.14,34.02,33.93,34.17,34.05,37.36,37.22,34.22,37.33,40.92,38.35,34.05,34.14,38.4,34.05,44.94,37.33,34.05,37.36,37.44,35.08,37.28,34.05,39.96,34.05,34.05,34.18,34.05,37.33,40.71,33.97,34.05,40.01,40.65,37.77,33.97,37.33,33.61,37.35,37.73,40.71,34.05,45.63,37.33,34.18,34.19,34.05,34.14,34.05,34.14,41.2,37.22,34.18,34.26,37.13,40.71,34.05,37.33,34.18,34.05,37.42,33.99,40.41,34.05,40.72,37.33,34.26,34.22,34.05,43.07,37.33,34.18,34.05,34.05,34.2,34.09,37.68,40.72,34.01,34.2,34.05,34.01,34.17,37.33,34.15,34.42,34.18,34.18,37.59,34.14,34.05,34.15,33.97,34.05,34.05,34.01,37.77,37.33,27.94,37.33,34.14,34.05,40.72,34.05,40.79,34.01,34.05,34.05,37.13,37.26,37.22,33.97,34.05,37.56,37.7,30.26,37.77,40.77,47.81,34.05,34.44,41.62,34.05,34.13,34.14,33.44,34.05,40.65,26.35,34.17,40.76,34.02,34.01,34.05,47.25,34.05,32.6,33.49,34.01,34.05,34.28,40.76,34.15,33.76,37.54,29.76,40.85,34.17,34.05,37.54,34.15,34.05,34.05,37.22,34.05,40.93,34.19,34.17,37.77,34.05,31.75,34.05,45.52,34.26,34.05,34.17,34.18,34.07,34.14,34.05,34.16,37.7,40.97,33.83,40.71,34.05,37.35,34.26,34.05,34.05,34.13,37.33,34.05,37.36,33.91,44.04,34.01,34.09,40.76,34.05,34.11,19.72,34.17,34.05,28.11,34.05,41.16,34.01,34.05,34.18,35.08,34.05,37.27,37.33,40.59,44.04,34.15,33.91,37.93,37.45,34.18,45.52,40.71,34.42,34.05,33.95,37.8,34.15,44.99,34.22,37.33,33.52,34.11,34.05,37.22,34.05,39.96,40.6,45.52,37.28,37.33,40.65,34.05,34.14,29.65,46.0,34.09,33.8,37.5,40.69,34.18,44.94,34.05,34.05,34.14,41.13,34.15,40.59,39.73,47.48,35.08,34.15,37.33,40.69,41.06,39.73,37.35,34.05,40.76,40.76,33.38,38.96,37.8,34.05,34.15,37.33,34.09,21.3,40.66,40.76],\"lon\":[-121.89,-118.15,-73.95,-118.37,-121.89,-122.04,-97.74,-121.89,-121.65,-122.41,-122.14,-118.36,-122.02,-122.41,-121.89,-122.03,-122.08,-121.99,-121.89,-122.41,-118.14,-86.11,-118.24,-118.14,-122.08,-118.24,-121.97,-122.25,-121.75,-118.24,-122.41,-122.41,-118.39,-118.34,-121.94,-118.49,-74.0,-122.23,-118.24,-118.24,-122.41,-122.32,-122.01,-122.41,-118.24,-122.32,-122.41,-122.41,-121.89,-122.41,-118.24,-71.52,-121.9,-118.38,-111.65,-104.52,-121.89,-121.95,-118.24,-118.24,-118.24,-122.03,-122.01,-122.2,-121.93,-122.41,-122.18,-121.89,-122.01,-121.97,-121.89,-118.44,-74.03,-118.24,-118.44,-118.14,-76.61,-118.24,-118.24,-118.24,-118.59,-122.31,-122.23,-122.02,-121.98,-122.12,-122.02,-118.24,-82.03,-76.41,-121.89,-118.12,-122.41,-118.3,-118.24,-73.95,-122.67,-122.41,-118.39,-118.24,-122.41,-122.46,-118.24,-73.95,-118.13,-118.24,-118.8,-118.24,-73.95,-122.41,-121.69,-122.41,-73.95,-84.63,-118.36,-122.14,-121.89,-122.02,-121.89,-118.24,-118.1,-117.81,-118.24,-121.94,-118.24,-122.32,-122.41,-118.44,-122.41,-118.03,-118.39,-121.97,-118.24,-121.95,-118.24,-122.41,-121.94,-121.94,-122.41,-121.89,-104.85,-118.3,-118.24,-121.89,-122.53,-122.03,-122.41,-118.24,-74.0,-117.99,-122.41,-122.27,-118.44,-74.0,-122.23,-122.41,-118.24,-122.27,-122.33,-121.93,-122.41,-121.89,-118.14,-118.5,-118.15,-118.24,-118.24,-122.41,-122.03,-118.24,-117.75,-80.26,-122.23,-118.15,-118.24,-118.38,-118.36,-121.95,-77.32,-118.24,-118.24,-118.24,-118.24,-122.41,-118.39,-73.95,-121.89,-121.95,-118.24,-121.89,-73.95,-121.94,-119.24,-118.49,-121.89,-118.24,-122.03,-121.89,-118.44,-122.02,-118.44,-87.65,-121.94,-77.03,-121.89,-83.04,-122.26,-118.24,-73.76,-122.41,-117.59,-118.39,-118.37,-118.24,-118.54,-118.44,-118.3,-118.54,-122.41,-121.89,-118.15,-73.81,-105.04,-117.99,-122.23,-118.37,-71.12,-118.29,-122.33,-118.39,-121.89,-122.41,-118.13,-118.37,-73.95,-118.14,-118.39,-118.18,-118.24,-118.24,-118.37,-122.41,-118.24,-118.24,-118.36,-122.08,-118.14,-122.41,-122.41,-121.89,-118.24,-121.89,-122.08,-122.41,-118.49,-121.98,-118.24,-118.25,-118.24,-117.65,-122.26,-118.44,-118.8,-122.41,-118.24,-122.03,-122.41,-74.41,-118.24,-118.24,-73.99,-118.49,-118.24,-121.89,-118.02,-118.24,-122.03,-122.1,-121.89,-122.03,-122.41,-80.19,-118.64,-122.26,-122.24,-118.24,-118.24,-122.41,-122.32,-118.24,-118.24,-74.0,-118.3,-118.25,-121.89,-118.36,-118.24,-118.24,-118.24,-118.14,-122.41,-118.64,-122.11,-118.25,-122.02,-122.2,-118.44,-82.99,-81.67,-118.24,-118.3,-122.41,-122.28,-122.42,-74.0,-118.24,-74.0,-121.89,-118.24,-118.24,-118.24,-118.12,-117.9,-116.2,-121.89,-118.44,-118.24,-122.41,-118.24,-74.03,-118.24,-118.24,-118.39,-118.25,-122.41,-74.0,-97.33,-122.26,-118.39,-118.44,-118.24,-118.24,-94.12,-118.36,-118.3,-118.49,-118.24,-118.24,-118.39,-118.24,-121.94,-118.3,-117.56,-118.24,-122.02,-118.32,-118.24,-122.26,-93.26,-118.24,-118.25,-118.24,-73.95,-118.46,-118.24,-118.24,-122.41,-76.61,-122.41,-122.08,-118.55,-118.3,-73.95,-118.46,-121.94,-122.03,-118.37,-118.24,-74.0,-118.03,-118.24,-75.12,-78.87,-87.65,-118.24,-118.24,-118.24,-122.41,-118.24,-118.13,-122.07,-118.24,-118.24,-87.65,-74.0,-118.8,-118.24,-118.24,-73.95,-122.08,-121.89,-122.67,-122.41,-117.65,-121.95,-118.24,-73.95,-105.27,-74.0,-118.28,-104.72,-118.37,-122.08,-122.41,-118.24,-73.95,-118.52,-84.28,-74.17,-76.71,-122.41,-118.37,-118.24,-122.33,-118.53,-122.33,-121.97,-122.41,-118.24,-118.28,-116.54,-118.37,-118.24,-118.24,-118.24,-118.24,-117.15,-118.44,-74.03,-73.93,-121.89,-118.24,-118.37,-73.95,-111.92,-118.24,-74.0,-74.0,-118.24,-118.44,-118.46,-118.41,-118.3,-118.38,-118.24,-74.0,-118.25,-77.61,-122.41,-118.24,-118.24,-118.24,-118.24,-118.39,-118.24,-121.12,-122.33,-73.87,-118.24,-75.16,-118.24,-118.45,-73.95,-118.24,-118.24,-118.14,-122.31,-122.41,-112.02,-118.24,-118.45,-118.24,-118.14,-118.24,-118.24,-118.3,-118.44,-74.0,-118.24,-90.07,-118.24,-118.37,-76.97,-122.41,-118.3,-118.3,-118.37,-118.24,-75.27,-118.24,-118.24,-122.08,-118.25,-118.53,-121.89,-118.06,-118.24,-118.24,-121.65,-118.24,-118.24,-118.39,-121.94,-121.89,-120.19,-121.95,-118.03,-118.24,-118.24,-121.89,-124.05,-121.89,-118.28,-70.25,-118.24,-121.89,-103.23,-73.6,-118.3,-74.0,-121.9,-122.41,-122.08,-118.24,-118.24,-121.89,-118.34,-118.25,-118.6,-122.67,-121.89,-80.14,-73.78,-118.24,-118.24,-118.49,-118.24,-118.64,-118.24,-122.02,-111.89,-96.66,-118.24,-79.99,-118.36,-118.36,-74.0,-121.89,-96.61,-118.24,-71.46,-118.24,-121.99,-122.67,-74.0,-118.37,-96.63,-117.91,-82.06,-118.28,-118.36,-73.98,-118.24,-118.24,-118.24,-122.27,-118.39,-73.75,-118.24,-82.99,-118.24,-87.88,-122.33,-70.1,-121.97,-118.3,-118.24,-122.41,-118.35,-120.65,-122.24,-118.1,-118.24,-118.24,-74.0,-118.24,-122.27,-118.24,-121.65,-118.22,-118.24,-121.56,-118.24,-118.24,-118.24,-118.55,-115.13,-118.45,-122.14,-118.24,-73.95,-118.3,-73.95,-118.37,-118.45,-118.31,-76.34,-118.3,-118.24,-122.08,-122.41,-118.24,-118.24,-118.39,-118.6,-118.37,-118.46,-122.34,-118.54,-74.0,-121.97,-111.86,-118.24,-118.24,-74.0,-84.38,-121.97,-93.72,-117.08,-118.3,-121.89,-117.43,-118.24,-121.89,-118.49,-121.89,-121.97,-122.41,-118.49,-74.0,-118.49,-97.67,-118.24,-87.96,-118.24,-118.24,-84.23,-118.12,-122.03,-117.67,-90.19,-118.24,-81.18,-122.18,-118.12,-118.39,-118.24,-118.37,-73.95,-122.41,-122.05,-118.24,-95.26,-122.08,-118.24,-118.25,-122.41,-90.15,-121.97,-118.36,-118.24,-118.44,-121.89,-118.24,-118.24,-111.97,-117.59,-122.02,-118.3,-118.14,-118.41,-122.14,-89.4,-74.0,-122.18,-73.95,-121.89,-121.89,-118.24,-118.24,-122.67,-121.97,-74.0,-118.24,-122.67,-118.37,-74.0,-118.44,-118.24,-118.24,-118.24,-121.89,-118.24,-118.24,-118.44,-121.52,-118.83,-118.37,-122.03,-117.86,-121.89,-87.65,-121.17,-118.25,-122.41,-118.24,-118.44,-121.98,-121.89,-118.24,-118.25,-118.49,-118.6,-118.37,-118.3,-118.3,-118.25,-121.89,-118.44,-118.36,-118.39,-118.6,-118.24,-118.24,-118.3,-118.24,-118.24,-121.95,-118.24,-121.89,-122.11,-118.44,-74.0,-118.24,-118.24,-70.66,-118.3,-118.24,-118.24,-118.14,-118.3,-122.27,-122.2,-122.67,-118.24,-118.41,-118.37,-118.3,-82.55,-122.41,-118.49,-118.36,-118.24,-118.3,-121.94,-118.77,-121.89,-117.91,-122.11,-118.25,-121.9,-118.24,-118.24,-118.25,-118.36,-118.24,-118.12,-118.24,-121.89,-118.49,-121.97,-118.24,-118.35,-118.64,-84.63,-118.24,-118.1,-118.14,-72.74,-118.24,-118.13,-73.95,-121.9,-122.08,-118.53,-121.22,-118.25,-118.39,-122.36,-118.39,-118.39,-118.39,-118.24,-118.44,-118.8,-118.24,-118.14,-118.24,-80.94,-118.24,-73.9,-121.89,-122.41,-118.45,-111.89,-118.3,-87.75,-122.41,-118.3,-118.24,-73.95,-83.37,-121.98,-74.0,-111.82,-118.3,-121.89,-121.89,-118.45,-118.24,-118.3,-118.36,-122.08,-118.37,-118.24,-74.01,-111.87,-118.14,-118.78,-118.44,-118.24,-74.0,-86.44,-117.82,-118.24,-118.54,-118.24,-117.99,-122.26,-118.24,-96.8,-118.39,-118.64,-118.24,-118.24,-122.02,-73.95,-118.24,-118.35,-122.41,-118.13,-83.63,-118.24,-118.6,-73.95,-121.97,-118.24,-118.38,-117.65,-118.14,-118.24,-118.24,-121.9,-118.18,-118.39,-121.89,-122.08,-118.83,-118.3,-121.95,-118.13,-118.37,-76.21,-118.28,-118.24,-118.18,-119.82,-118.39,-118.3,-84.29,-118.39,-118.39,-118.46,-118.63,-121.97,-118.88,-118.3,-118.24,-118.24,-118.3,-118.24,-118.24,-122.41,-118.03,-118.14,-118.25,-118.39,-117.94,-118.37,-118.24,-122.03,-121.97,-118.23,-121.89,-74.27,-121.98,-118.24,-118.25,-121.37,-118.24,-93.09,-121.89,-118.24,-122.03,-122.14,-106.65,-121.94,-118.24,-82.99,-118.24,-118.24,-118.44,-118.24,-121.89,-74.0,-118.42,-118.24,-75.3,-73.95,-122.41,-118.03,-121.89,-114.59,-121.95,-121.42,-74.0,-118.24,-122.66,-121.89,-118.13,-118.64,-118.24,-118.8,-118.24,-118.25,-73.57,-121.97,-83.92,-118.3,-121.65,-74.0,-117.18,-121.89,-118.44,-118.24,-121.9,-118.46,-111.75,-118.24,-73.51,-121.89,-118.42,-118.53,-118.24,-89.4,-121.89,-118.3,-118.24,-118.24,-118.22,-118.36,-121.76,-74.07,-118.49,-118.59,-118.24,-118.49,-118.55,-121.89,-118.44,-118.47,-118.3,-118.3,-122.01,-118.39,-118.24,-118.44,-118.42,-118.24,-118.24,-118.49,-122.41,-121.89,-82.45,-121.89,-118.39,-118.24,-74.07,-118.24,-77.86,-118.49,-118.24,-118.24,-121.65,-122.02,-121.97,-118.03,-118.24,-122.32,-121.93,-97.74,-122.41,-73.93,-122.37,-118.24,-118.6,-88.2,-118.24,-117.9,-117.99,-84.14,-118.24,-73.95,-80.08,-118.37,-111.89,-118.39,-117.68,-118.24,-122.75,-118.24,-85.48,-117.14,-118.49,-118.24,-118.88,-111.89,-118.5,-118.18,-121.98,-95.36,-73.86,-118.37,-118.24,-121.98,-118.44,-118.24,-118.24,-121.97,-118.24,-73.89,-118.64,-118.83,-122.41,-118.24,-106.48,-118.24,-122.98,-118.78,-118.24,-118.37,-118.3,-118.39,-118.14,-118.24,-118.6,-121.93,-74.11,-118.34,-74.0,-118.24,-121.95,-118.78,-118.24,-118.24,-118.03,-121.89,-118.24,-122.03,-118.35,-123.02,-118.49,-118.36,-73.81,-118.24,-118.15,-155.09,-118.37,-118.24,-81.61,-118.24,-112.02,-118.49,-118.24,-118.3,-106.65,-118.24,-79.94,-121.89,-111.88,-88.48,-118.63,-118.41,-121.69,-122.18,-118.13,-122.67,-74.0,-118.47,-117.75,-84.54,-122.26,-118.44,-123.02,-77.94,-121.89,-86.8,-118.15,-118.24,-121.97,-118.24,-82.99,-111.93,-122.67,-121.94,-121.89,-73.95,-118.24,-117.99,-82.32,-112.53,-118.36,-118.16,-122.25,-112.0,-118.3,-123.03,-118.24,-118.24,-118.25,-112.05,-118.44,-111.88,-104.98,-122.21,-106.65,-118.44,-121.89,-112.0,-111.97,-104.98,-121.95,-118.24,-111.89,-111.89,-84.79,-94.61,-122.26,-118.24,-118.44,-121.89,-118.36,-157.85,-111.93,-111.89],\"name\":\"\",\"radius\":10,\"subplot\":\"mapbox\",\"type\":\"densitymapbox\"},{\"colorscale\":[[0.0,\"rgb(255,245,240)\"],[0.125,\"rgb(254,224,210)\"],[0.25,\"rgb(252,187,161)\"],[0.375,\"rgb(252,146,114)\"],[0.5,\"rgb(251,106,74)\"],[0.625,\"rgb(239,59,44)\"],[0.75,\"rgb(203,24,29)\"],[0.875,\"rgb(165,15,21)\"],[1.0,\"rgb(103,0,13)\"]],\"hovertext\":\"company HQ\",\"lat\":[37.22],\"lon\":[-121.97],\"radius\":15,\"type\":\"densitymapbox\"}],                        {\"coloraxis\":{\"colorscale\":[[0.0,\"#440154\"],[0.1111111111111111,\"#482878\"],[0.2222222222222222,\"#3e4989\"],[0.3333333333333333,\"#31688e\"],[0.4444444444444444,\"#26828e\"],[0.5555555555555556,\"#1f9e89\"],[0.6666666666666666,\"#35b779\"],[0.7777777777777778,\"#6ece58\"],[0.8888888888888888,\"#b5de2b\"],[1.0,\"#fde725\"]]},\"legend\":{\"tracegroupgap\":0},\"mapbox\":{\"accesstoken\":\"pk.eyJ1IjoidHJhY3ljaGFybGVzMTA4IiwiYSI6ImNsMjJmdmUzajFmeXcza3BkOXgwOWZoNW4ifQ.bFv6klpNU8XWRbEJ0zk1Dw\",\"center\":{\"lat\":36.159358649789105,\"lon\":-113.44789029535926},\"domain\":{\"x\":[0.0,1.0],\"y\":[0.0,1.0]},\"style\":\"carto-positron\",\"zoom\":3},\"margin\":{\"b\":0,\"l\":0,\"r\":0,\"t\":0},\"template\":{\"data\":{\"bar\":[{\"error_x\":{\"color\":\"#2a3f5f\"},\"error_y\":{\"color\":\"#2a3f5f\"},\"marker\":{\"line\":{\"color\":\"#E5ECF6\",\"width\":0.5},\"pattern\":{\"fillmode\":\"overlay\",\"size\":10,\"solidity\":0.2}},\"type\":\"bar\"}],\"barpolar\":[{\"marker\":{\"line\":{\"color\":\"#E5ECF6\",\"width\":0.5},\"pattern\":{\"fillmode\":\"overlay\",\"size\":10,\"solidity\":0.2}},\"type\":\"barpolar\"}],\"carpet\":[{\"aaxis\":{\"endlinecolor\":\"#2a3f5f\",\"gridcolor\":\"white\",\"linecolor\":\"white\",\"minorgridcolor\":\"white\",\"startlinecolor\":\"#2a3f5f\"},\"baxis\":{\"endlinecolor\":\"#2a3f5f\",\"gridcolor\":\"white\",\"linecolor\":\"white\",\"minorgridcolor\":\"white\",\"startlinecolor\":\"#2a3f5f\"},\"type\":\"carpet\"}],\"choropleth\":[{\"colorbar\":{\"outlinewidth\":0,\"ticks\":\"\"},\"type\":\"choropleth\"}],\"contour\":[{\"colorbar\":{\"outlinewidth\":0,\"ticks\":\"\"},\"colorscale\":[[0.0,\"#0d0887\"],[0.1111111111111111,\"#46039f\"],[0.2222222222222222,\"#7201a8\"],[0.3333333333333333,\"#9c179e\"],[0.4444444444444444,\"#bd3786\"],[0.5555555555555556,\"#d8576b\"],[0.6666666666666666,\"#ed7953\"],[0.7777777777777778,\"#fb9f3a\"],[0.8888888888888888,\"#fdca26\"],[1.0,\"#f0f921\"]],\"type\":\"contour\"}],\"contourcarpet\":[{\"colorbar\":{\"outlinewidth\":0,\"ticks\":\"\"},\"type\":\"contourcarpet\"}],\"heatmap\":[{\"colorbar\":{\"outlinewidth\":0,\"ticks\":\"\"},\"colorscale\":[[0.0,\"#0d0887\"],[0.1111111111111111,\"#46039f\"],[0.2222222222222222,\"#7201a8\"],[0.3333333333333333,\"#9c179e\"],[0.4444444444444444,\"#bd3786\"],[0.5555555555555556,\"#d8576b\"],[0.6666666666666666,\"#ed7953\"],[0.7777777777777778,\"#fb9f3a\"],[0.8888888888888888,\"#fdca26\"],[1.0,\"#f0f921\"]],\"type\":\"heatmap\"}],\"heatmapgl\":[{\"colorbar\":{\"outlinewidth\":0,\"ticks\":\"\"},\"colorscale\":[[0.0,\"#0d0887\"],[0.1111111111111111,\"#46039f\"],[0.2222222222222222,\"#7201a8\"],[0.3333333333333333,\"#9c179e\"],[0.4444444444444444,\"#bd3786\"],[0.5555555555555556,\"#d8576b\"],[0.6666666666666666,\"#ed7953\"],[0.7777777777777778,\"#fb9f3a\"],[0.8888888888888888,\"#fdca26\"],[1.0,\"#f0f921\"]],\"type\":\"heatmapgl\"}],\"histogram\":[{\"marker\":{\"pattern\":{\"fillmode\":\"overlay\",\"size\":10,\"solidity\":0.2}},\"type\":\"histogram\"}],\"histogram2d\":[{\"colorbar\":{\"outlinewidth\":0,\"ticks\":\"\"},\"colorscale\":[[0.0,\"#0d0887\"],[0.1111111111111111,\"#46039f\"],[0.2222222222222222,\"#7201a8\"],[0.3333333333333333,\"#9c179e\"],[0.4444444444444444,\"#bd3786\"],[0.5555555555555556,\"#d8576b\"],[0.6666666666666666,\"#ed7953\"],[0.7777777777777778,\"#fb9f3a\"],[0.8888888888888888,\"#fdca26\"],[1.0,\"#f0f921\"]],\"type\":\"histogram2d\"}],\"histogram2dcontour\":[{\"colorbar\":{\"outlinewidth\":0,\"ticks\":\"\"},\"colorscale\":[[0.0,\"#0d0887\"],[0.1111111111111111,\"#46039f\"],[0.2222222222222222,\"#7201a8\"],[0.3333333333333333,\"#9c179e\"],[0.4444444444444444,\"#bd3786\"],[0.5555555555555556,\"#d8576b\"],[0.6666666666666666,\"#ed7953\"],[0.7777777777777778,\"#fb9f3a\"],[0.8888888888888888,\"#fdca26\"],[1.0,\"#f0f921\"]],\"type\":\"histogram2dcontour\"}],\"mesh3d\":[{\"colorbar\":{\"outlinewidth\":0,\"ticks\":\"\"},\"type\":\"mesh3d\"}],\"parcoords\":[{\"line\":{\"colorbar\":{\"outlinewidth\":0,\"ticks\":\"\"}},\"type\":\"parcoords\"}],\"pie\":[{\"automargin\":true,\"type\":\"pie\"}],\"scatter\":[{\"marker\":{\"colorbar\":{\"outlinewidth\":0,\"ticks\":\"\"}},\"type\":\"scatter\"}],\"scatter3d\":[{\"line\":{\"colorbar\":{\"outlinewidth\":0,\"ticks\":\"\"}},\"marker\":{\"colorbar\":{\"outlinewidth\":0,\"ticks\":\"\"}},\"type\":\"scatter3d\"}],\"scattercarpet\":[{\"marker\":{\"colorbar\":{\"outlinewidth\":0,\"ticks\":\"\"}},\"type\":\"scattercarpet\"}],\"scattergeo\":[{\"marker\":{\"colorbar\":{\"outlinewidth\":0,\"ticks\":\"\"}},\"type\":\"scattergeo\"}],\"scattergl\":[{\"marker\":{\"colorbar\":{\"outlinewidth\":0,\"ticks\":\"\"}},\"type\":\"scattergl\"}],\"scattermapbox\":[{\"marker\":{\"colorbar\":{\"outlinewidth\":0,\"ticks\":\"\"}},\"type\":\"scattermapbox\"}],\"scatterpolar\":[{\"marker\":{\"colorbar\":{\"outlinewidth\":0,\"ticks\":\"\"}},\"type\":\"scatterpolar\"}],\"scatterpolargl\":[{\"marker\":{\"colorbar\":{\"outlinewidth\":0,\"ticks\":\"\"}},\"type\":\"scatterpolargl\"}],\"scatterternary\":[{\"marker\":{\"colorbar\":{\"outlinewidth\":0,\"ticks\":\"\"}},\"type\":\"scatterternary\"}],\"surface\":[{\"colorbar\":{\"outlinewidth\":0,\"ticks\":\"\"},\"colorscale\":[[0.0,\"#0d0887\"],[0.1111111111111111,\"#46039f\"],[0.2222222222222222,\"#7201a8\"],[0.3333333333333333,\"#9c179e\"],[0.4444444444444444,\"#bd3786\"],[0.5555555555555556,\"#d8576b\"],[0.6666666666666666,\"#ed7953\"],[0.7777777777777778,\"#fb9f3a\"],[0.8888888888888888,\"#fdca26\"],[1.0,\"#f0f921\"]],\"type\":\"surface\"}],\"table\":[{\"cells\":{\"fill\":{\"color\":\"#EBF0F8\"},\"line\":{\"color\":\"white\"}},\"header\":{\"fill\":{\"color\":\"#C8D4E3\"},\"line\":{\"color\":\"white\"}},\"type\":\"table\"}]},\"layout\":{\"annotationdefaults\":{\"arrowcolor\":\"#2a3f5f\",\"arrowhead\":0,\"arrowwidth\":1},\"autotypenumbers\":\"strict\",\"coloraxis\":{\"colorbar\":{\"outlinewidth\":0,\"ticks\":\"\"}},\"colorscale\":{\"diverging\":[[0,\"#8e0152\"],[0.1,\"#c51b7d\"],[0.2,\"#de77ae\"],[0.3,\"#f1b6da\"],[0.4,\"#fde0ef\"],[0.5,\"#f7f7f7\"],[0.6,\"#e6f5d0\"],[0.7,\"#b8e186\"],[0.8,\"#7fbc41\"],[0.9,\"#4d9221\"],[1,\"#276419\"]],\"sequential\":[[0.0,\"#0d0887\"],[0.1111111111111111,\"#46039f\"],[0.2222222222222222,\"#7201a8\"],[0.3333333333333333,\"#9c179e\"],[0.4444444444444444,\"#bd3786\"],[0.5555555555555556,\"#d8576b\"],[0.6666666666666666,\"#ed7953\"],[0.7777777777777778,\"#fb9f3a\"],[0.8888888888888888,\"#fdca26\"],[1.0,\"#f0f921\"]],\"sequentialminus\":[[0.0,\"#0d0887\"],[0.1111111111111111,\"#46039f\"],[0.2222222222222222,\"#7201a8\"],[0.3333333333333333,\"#9c179e\"],[0.4444444444444444,\"#bd3786\"],[0.5555555555555556,\"#d8576b\"],[0.6666666666666666,\"#ed7953\"],[0.7777777777777778,\"#fb9f3a\"],[0.8888888888888888,\"#fdca26\"],[1.0,\"#f0f921\"]]},\"colorway\":[\"#636efa\",\"#EF553B\",\"#00cc96\",\"#ab63fa\",\"#FFA15A\",\"#19d3f3\",\"#FF6692\",\"#B6E880\",\"#FF97FF\",\"#FECB52\"],\"font\":{\"color\":\"#2a3f5f\"},\"geo\":{\"bgcolor\":\"white\",\"lakecolor\":\"white\",\"landcolor\":\"#E5ECF6\",\"showlakes\":true,\"showland\":true,\"subunitcolor\":\"white\"},\"hoverlabel\":{\"align\":\"left\"},\"hovermode\":\"closest\",\"mapbox\":{\"style\":\"light\"},\"paper_bgcolor\":\"white\",\"plot_bgcolor\":\"#E5ECF6\",\"polar\":{\"angularaxis\":{\"gridcolor\":\"white\",\"linecolor\":\"white\",\"ticks\":\"\"},\"bgcolor\":\"#E5ECF6\",\"radialaxis\":{\"gridcolor\":\"white\",\"linecolor\":\"white\",\"ticks\":\"\"}},\"scene\":{\"xaxis\":{\"backgroundcolor\":\"#E5ECF6\",\"gridcolor\":\"white\",\"gridwidth\":2,\"linecolor\":\"white\",\"showbackground\":true,\"ticks\":\"\",\"zerolinecolor\":\"white\"},\"yaxis\":{\"backgroundcolor\":\"#E5ECF6\",\"gridcolor\":\"white\",\"gridwidth\":2,\"linecolor\":\"white\",\"showbackground\":true,\"ticks\":\"\",\"zerolinecolor\":\"white\"},\"zaxis\":{\"backgroundcolor\":\"#E5ECF6\",\"gridcolor\":\"white\",\"gridwidth\":2,\"linecolor\":\"white\",\"showbackground\":true,\"ticks\":\"\",\"zerolinecolor\":\"white\"}},\"shapedefaults\":{\"line\":{\"color\":\"#2a3f5f\"}},\"ternary\":{\"aaxis\":{\"gridcolor\":\"white\",\"linecolor\":\"white\",\"ticks\":\"\"},\"baxis\":{\"gridcolor\":\"white\",\"linecolor\":\"white\",\"ticks\":\"\"},\"bgcolor\":\"#E5ECF6\",\"caxis\":{\"gridcolor\":\"white\",\"linecolor\":\"white\",\"ticks\":\"\"}},\"title\":{\"x\":0.05},\"xaxis\":{\"automargin\":true,\"gridcolor\":\"white\",\"linecolor\":\"white\",\"ticks\":\"\",\"title\":{\"standoff\":15},\"zerolinecolor\":\"white\",\"zerolinewidth\":2},\"yaxis\":{\"automargin\":true,\"gridcolor\":\"white\",\"linecolor\":\"white\",\"ticks\":\"\",\"title\":{\"standoff\":15},\"zerolinecolor\":\"white\",\"zerolinewidth\":2}}}},                        {\"responsive\": true}                    ).then(function(){\n",
       "                            \n",
       "var gd = document.getElementById('19c92107-4b91-45f6-a647-1eb9564e8608');\n",
       "var x = new MutationObserver(function (mutations, observer) {{\n",
       "        var display = window.getComputedStyle(gd).display;\n",
       "        if (!display || display === 'none') {{\n",
       "            console.log([gd, 'removed!']);\n",
       "            Plotly.purge(gd);\n",
       "            observer.disconnect();\n",
       "        }}\n",
       "}});\n",
       "\n",
       "// Listen for the removal of the full notebook cells\n",
       "var notebookContainer = gd.closest('#notebook-container');\n",
       "if (notebookContainer) {{\n",
       "    x.observe(notebookContainer, {childList: true});\n",
       "}}\n",
       "\n",
       "// Listen for the clearing of the current output cell\n",
       "var outputEl = gd.closest('.output');\n",
       "if (outputEl) {{\n",
       "    x.observe(outputEl, {childList: true});\n",
       "}}\n",
       "\n",
       "                        })                };                });            </script>        </div>"
      ]
     },
     "metadata": {},
     "output_type": "display_data"
    }
   ],
   "source": [
    "map(api_key, \"netflix\", -1)"
   ]
  }
 ],
 "metadata": {
  "kernelspec": {
   "display_name": "Python 3 (ipykernel)",
   "language": "python",
   "name": "python3"
  },
  "language_info": {
   "codemirror_mode": {
    "name": "ipython",
    "version": 3
   },
   "file_extension": ".py",
   "mimetype": "text/x-python",
   "name": "python",
   "nbconvert_exporter": "python",
   "pygments_lexer": "ipython3",
   "version": "3.8.12"
  }
 },
 "nbformat": 4,
 "nbformat_minor": 5
}
