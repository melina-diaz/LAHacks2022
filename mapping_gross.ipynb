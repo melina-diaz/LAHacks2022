{
 "cells": [
  {
   "cell_type": "code",
   "execution_count": 49,
   "id": "4193dceb",
   "metadata": {},
   "outputs": [],
   "source": [
    "import pandas as pd\n",
    "import requests\n",
    "import io\n",
    "    \n",
    "# Downloading the csv file from your GitHub account\n",
    "\n",
    "url = 'https://raw.githubusercontent.com/melina-diaz/LAHacks2022/main/gross.csv?token=GHSAT0AAAAAABRP3TSUASSTLBCI6NWXWCLAYS3LNVQ' # Make sure the url is the raw version of the file on GitHub\n",
    "download = requests.get(url).content\n",
    "\n",
    "# Reading the downloaded content and turning it into a pandas dataframe\n",
    "\n",
    "df = pd.read_csv(io.StringIO(download.decode('utf-8')))"
   ]
  },
  {
   "cell_type": "code",
   "execution_count": 50,
   "id": "d1f3ae2b",
   "metadata": {},
   "outputs": [
    {
     "data": {
      "text/html": [
       "<div>\n",
       "<style scoped>\n",
       "    .dataframe tbody tr th:only-of-type {\n",
       "        vertical-align: middle;\n",
       "    }\n",
       "\n",
       "    .dataframe tbody tr th {\n",
       "        vertical-align: top;\n",
       "    }\n",
       "\n",
       "    .dataframe thead th {\n",
       "        text-align: right;\n",
       "    }\n",
       "</style>\n",
       "<table border=\"1\" class=\"dataframe\">\n",
       "  <thead>\n",
       "    <tr style=\"text-align: right;\">\n",
       "      <th></th>\n",
       "      <th>id</th>\n",
       "      <th>full_name</th>\n",
       "      <th>first_name</th>\n",
       "      <th>middle_initial</th>\n",
       "      <th>middle_name</th>\n",
       "      <th>last_initial</th>\n",
       "      <th>last_name</th>\n",
       "      <th>gender</th>\n",
       "      <th>birth_year</th>\n",
       "      <th>birth_date</th>\n",
       "      <th>...</th>\n",
       "      <th>interests</th>\n",
       "      <th>skills</th>\n",
       "      <th>location_names</th>\n",
       "      <th>regions</th>\n",
       "      <th>countries</th>\n",
       "      <th>street_addresses</th>\n",
       "      <th>experience</th>\n",
       "      <th>education</th>\n",
       "      <th>profiles</th>\n",
       "      <th>version_status</th>\n",
       "    </tr>\n",
       "  </thead>\n",
       "  <tbody>\n",
       "    <tr>\n",
       "      <th>0</th>\n",
       "      <td>WFb9l15wV489FiyyHxtmvw_0000</td>\n",
       "      <td>krystal herring</td>\n",
       "      <td>krystal</td>\n",
       "      <td>l</td>\n",
       "      <td>NaN</td>\n",
       "      <td>h</td>\n",
       "      <td>herring</td>\n",
       "      <td>female</td>\n",
       "      <td>1986.0</td>\n",
       "      <td>NaN</td>\n",
       "      <td>...</td>\n",
       "      <td>['human rights', 'animal welfare', 'children',...</td>\n",
       "      <td>['social media marketing', 'video games', 'soc...</td>\n",
       "      <td>['san francisco, california, united states', '...</td>\n",
       "      <td>['california, united states']</td>\n",
       "      <td>['united states']</td>\n",
       "      <td>[{'name': 'escondido, california, united state...</td>\n",
       "      <td>[{'company': {'name': 'twitch', 'size': '1001-...</td>\n",
       "      <td>[{'school': {'name': 'orange glen high school'...</td>\n",
       "      <td>[{'network': 'linkedin', 'id': '111128962', 'u...</td>\n",
       "      <td>{'status': 'updated', 'contains': [], 'previou...</td>\n",
       "    </tr>\n",
       "    <tr>\n",
       "      <th>1</th>\n",
       "      <td>Wq6pma-6TEFyPoTLvjolrA_0000</td>\n",
       "      <td>nick tejeda</td>\n",
       "      <td>nick</td>\n",
       "      <td>s</td>\n",
       "      <td>NaN</td>\n",
       "      <td>t</td>\n",
       "      <td>tejeda</td>\n",
       "      <td>male</td>\n",
       "      <td>1989.0</td>\n",
       "      <td>1989-07-19</td>\n",
       "      <td>...</td>\n",
       "      <td>['social services', 'children', 'environment',...</td>\n",
       "      <td>['digital marketing', 'broadcast', 'advertisin...</td>\n",
       "      <td>['agoura, california, united states', 'chicago...</td>\n",
       "      <td>['california, united states', 'illinois, unite...</td>\n",
       "      <td>['united states']</td>\n",
       "      <td>[{'name': 'brooklyn, new york, united states',...</td>\n",
       "      <td>[{'company': {'name': 'twitch', 'size': '1001-...</td>\n",
       "      <td>[{'school': {'name': 'university of michigan',...</td>\n",
       "      <td>[{'network': 'linkedin', 'id': '102294665', 'u...</td>\n",
       "      <td>{'status': 'updated', 'contains': [], 'previou...</td>\n",
       "    </tr>\n",
       "    <tr>\n",
       "      <th>2</th>\n",
       "      <td>FSFdTHHzx55cb8Nw5jNc5A_0000</td>\n",
       "      <td>keith thornhill</td>\n",
       "      <td>keith</td>\n",
       "      <td>NaN</td>\n",
       "      <td>NaN</td>\n",
       "      <td>t</td>\n",
       "      <td>thornhill</td>\n",
       "      <td>male</td>\n",
       "      <td>1982.0</td>\n",
       "      <td>NaN</td>\n",
       "      <td>...</td>\n",
       "      <td>['reef aquariums', 'video games']</td>\n",
       "      <td>['distributed systems', 'php', 'python', 'ruby...</td>\n",
       "      <td>['houston, texas, united states', 'baton rouge...</td>\n",
       "      <td>['california, united states', 'louisiana, unit...</td>\n",
       "      <td>['united states']</td>\n",
       "      <td>[{'name': 'san francisco, california, united s...</td>\n",
       "      <td>[{'company': {'name': 'louisiana department of...</td>\n",
       "      <td>[{'school': {'name': 'woodlawn high school', '...</td>\n",
       "      <td>[{'network': 'linkedin', 'id': '11395029', 'ur...</td>\n",
       "      <td>{'status': 'updated', 'contains': [], 'previou...</td>\n",
       "    </tr>\n",
       "    <tr>\n",
       "      <th>3</th>\n",
       "      <td>gBvNBvKpjndT0Rv9CrR8gw_0000</td>\n",
       "      <td>drew harry</td>\n",
       "      <td>drew</td>\n",
       "      <td>e</td>\n",
       "      <td>NaN</td>\n",
       "      <td>h</td>\n",
       "      <td>harry</td>\n",
       "      <td>male</td>\n",
       "      <td>1983.0</td>\n",
       "      <td>NaN</td>\n",
       "      <td>...</td>\n",
       "      <td>['teamwork', 'design', 'entrepreneurship', 're...</td>\n",
       "      <td>['software engineering', 'human computer inter...</td>\n",
       "      <td>['rumford, rhode island, united states', 'some...</td>\n",
       "      <td>['california, united states', 'rhode island, u...</td>\n",
       "      <td>['united states']</td>\n",
       "      <td>[{'name': 'san francisco, california, united s...</td>\n",
       "      <td>[{'company': {'name': 'mit media lab', 'size':...</td>\n",
       "      <td>[{'school': {'name': 'massachusetts institute ...</td>\n",
       "      <td>[{'network': 'linkedin', 'id': '127727505', 'u...</td>\n",
       "      <td>{'status': 'updated', 'contains': [], 'previou...</td>\n",
       "    </tr>\n",
       "    <tr>\n",
       "      <th>4</th>\n",
       "      <td>rLKL4Bh5HtLOOgAtFpDIIw_0000</td>\n",
       "      <td>josh zeidel</td>\n",
       "      <td>josh</td>\n",
       "      <td>d</td>\n",
       "      <td>NaN</td>\n",
       "      <td>z</td>\n",
       "      <td>zeidel</td>\n",
       "      <td>male</td>\n",
       "      <td>1987.0</td>\n",
       "      <td>NaN</td>\n",
       "      <td>...</td>\n",
       "      <td>['i play guitar', 'ad operations and optimizat...</td>\n",
       "      <td>['google analytics', 'microsoft office', 'sale...</td>\n",
       "      <td>['san francisco, california, united states', '...</td>\n",
       "      <td>['maryland, united states', 'california, unite...</td>\n",
       "      <td>['united states']</td>\n",
       "      <td>[{'name': 'oakland, california, united states'...</td>\n",
       "      <td>[{'company': {'name': 'la spina italian restau...</td>\n",
       "      <td>[{'school': {'name': 'phillips exeter academy'...</td>\n",
       "      <td>[{'network': 'linkedin', 'id': '69536387', 'ur...</td>\n",
       "      <td>{'status': 'updated', 'contains': [], 'previou...</td>\n",
       "    </tr>\n",
       "    <tr>\n",
       "      <th>...</th>\n",
       "      <td>...</td>\n",
       "      <td>...</td>\n",
       "      <td>...</td>\n",
       "      <td>...</td>\n",
       "      <td>...</td>\n",
       "      <td>...</td>\n",
       "      <td>...</td>\n",
       "      <td>...</td>\n",
       "      <td>...</td>\n",
       "      <td>...</td>\n",
       "      <td>...</td>\n",
       "      <td>...</td>\n",
       "      <td>...</td>\n",
       "      <td>...</td>\n",
       "      <td>...</td>\n",
       "      <td>...</td>\n",
       "      <td>...</td>\n",
       "      <td>...</td>\n",
       "      <td>...</td>\n",
       "      <td>...</td>\n",
       "      <td>...</td>\n",
       "    </tr>\n",
       "    <tr>\n",
       "      <th>145</th>\n",
       "      <td>3SrYWhzDhtXsNh3CwgcJGg_0000</td>\n",
       "      <td>max lasser</td>\n",
       "      <td>max</td>\n",
       "      <td>h</td>\n",
       "      <td>NaN</td>\n",
       "      <td>l</td>\n",
       "      <td>lasser</td>\n",
       "      <td>male</td>\n",
       "      <td>1991.0</td>\n",
       "      <td>1991-07-18</td>\n",
       "      <td>...</td>\n",
       "      <td>['arts and culture']</td>\n",
       "      <td>['writing', 'e sports', 'community content', '...</td>\n",
       "      <td>['columbia, south carolina, united states', 'l...</td>\n",
       "      <td>['california, united states', 'south carolina,...</td>\n",
       "      <td>['united states']</td>\n",
       "      <td>[{'name': 'los angeles, california, united sta...</td>\n",
       "      <td>[{'company': {'name': 'cashmere agency', 'size...</td>\n",
       "      <td>[{'school': {'name': 'eastside high school', '...</td>\n",
       "      <td>[{'network': 'linkedin', 'id': '105702965', 'u...</td>\n",
       "      <td>{'status': 'updated', 'contains': [], 'previou...</td>\n",
       "    </tr>\n",
       "    <tr>\n",
       "      <th>146</th>\n",
       "      <td>O-sP4OlCL3JDB87VADMeDQ_0000</td>\n",
       "      <td>brianna blowers</td>\n",
       "      <td>brianna</td>\n",
       "      <td>k</td>\n",
       "      <td>NaN</td>\n",
       "      <td>b</td>\n",
       "      <td>blowers</td>\n",
       "      <td>male</td>\n",
       "      <td>1956.0</td>\n",
       "      <td>1956-08-10</td>\n",
       "      <td>...</td>\n",
       "      <td>['photoshop', 'cooking', 'social media', 'tech...</td>\n",
       "      <td>['social media', 'customer service', 'facebook...</td>\n",
       "      <td>['houston, texas, united states', 'san marcos,...</td>\n",
       "      <td>['texas, united states']</td>\n",
       "      <td>['united states']</td>\n",
       "      <td>[{'name': 'rosharon, texas, united states', 'l...</td>\n",
       "      <td>[{'company': {'name': 'twitch', 'size': '1001-...</td>\n",
       "      <td>[{'school': {'name': 'kingston high school (ne...</td>\n",
       "      <td>[{'network': 'linkedin', 'id': '169692420', 'u...</td>\n",
       "      <td>{'status': 'unchanged', 'contains': [], 'previ...</td>\n",
       "    </tr>\n",
       "    <tr>\n",
       "      <th>147</th>\n",
       "      <td>7b3RWkfITpUKclbywqOWWg_0000</td>\n",
       "      <td>annette scott</td>\n",
       "      <td>annette</td>\n",
       "      <td>a</td>\n",
       "      <td>NaN</td>\n",
       "      <td>s</td>\n",
       "      <td>scott</td>\n",
       "      <td>female</td>\n",
       "      <td>1987.0</td>\n",
       "      <td>1987-03-15</td>\n",
       "      <td>...</td>\n",
       "      <td>['exercise', 'sweepstakes', 'home improvement'...</td>\n",
       "      <td>['market research', 'social media', 'marketing...</td>\n",
       "      <td>['san diego, california, united states', 'hobo...</td>\n",
       "      <td>['florida, united states', 'wisconsin, united ...</td>\n",
       "      <td>['united states']</td>\n",
       "      <td>[{'name': 'boonsboro, maryland, united states'...</td>\n",
       "      <td>[{'company': {'name': 'twitch', 'size': '1001-...</td>\n",
       "      <td>[{'school': {'name': 'centennial high school',...</td>\n",
       "      <td>[{'network': 'linkedin', 'id': '91229051', 'ur...</td>\n",
       "      <td>{'status': 'unchanged', 'contains': [], 'previ...</td>\n",
       "    </tr>\n",
       "    <tr>\n",
       "      <th>148</th>\n",
       "      <td>2mCC00-cFQcyf3w8BI4NBg_0000</td>\n",
       "      <td>sherman tovar</td>\n",
       "      <td>sherman</td>\n",
       "      <td>r</td>\n",
       "      <td>NaN</td>\n",
       "      <td>t</td>\n",
       "      <td>tovar</td>\n",
       "      <td>male</td>\n",
       "      <td>1985.0</td>\n",
       "      <td>NaN</td>\n",
       "      <td>...</td>\n",
       "      <td>['social services', 'economic empowerment', 'c...</td>\n",
       "      <td>['customer service', 'video games', 'video gam...</td>\n",
       "      <td>['alpharetta, georgia, united states', 'el pas...</td>\n",
       "      <td>['virginia, united states', 'georgia, united s...</td>\n",
       "      <td>['united states']</td>\n",
       "      <td>[{'name': 'el paso, texas, united states', 'lo...</td>\n",
       "      <td>[{'company': {'name': 'perfumes4u', 'size': No...</td>\n",
       "      <td>[{'school': {'name': 'father yermo high school...</td>\n",
       "      <td>[{'network': 'linkedin', 'id': '242577943', 'u...</td>\n",
       "      <td>{'status': 'updated', 'contains': [], 'previou...</td>\n",
       "    </tr>\n",
       "    <tr>\n",
       "      <th>149</th>\n",
       "      <td>TdB-GyZ2nVSQXToHXy507A_0000</td>\n",
       "      <td>daniel conlin</td>\n",
       "      <td>daniel</td>\n",
       "      <td>a</td>\n",
       "      <td>NaN</td>\n",
       "      <td>c</td>\n",
       "      <td>conlin</td>\n",
       "      <td>male</td>\n",
       "      <td>1994.0</td>\n",
       "      <td>1994-07-18</td>\n",
       "      <td>...</td>\n",
       "      <td>['sharpie philippines', 'two sues casting and ...</td>\n",
       "      <td>['microsoft office', 'powerpoint', 'customer s...</td>\n",
       "      <td>['ilion, new york, united states', 'black rive...</td>\n",
       "      <td>['new york, united states']</td>\n",
       "      <td>['united states']</td>\n",
       "      <td>[{'name': 'black river, new york, united state...</td>\n",
       "      <td>[{'company': {'name': 'all american real estat...</td>\n",
       "      <td>[{'school': {'name': 'carthage senior high sch...</td>\n",
       "      <td>[{'network': 'linkedin', 'id': '296979695', 'u...</td>\n",
       "      <td>{'status': 'unchanged', 'contains': [], 'previ...</td>\n",
       "    </tr>\n",
       "  </tbody>\n",
       "</table>\n",
       "<p>150 rows × 73 columns</p>\n",
       "</div>"
      ],
      "text/plain": [
       "                              id        full_name first_name middle_initial  \\\n",
       "0    WFb9l15wV489FiyyHxtmvw_0000  krystal herring    krystal              l   \n",
       "1    Wq6pma-6TEFyPoTLvjolrA_0000      nick tejeda       nick              s   \n",
       "2    FSFdTHHzx55cb8Nw5jNc5A_0000  keith thornhill      keith            NaN   \n",
       "3    gBvNBvKpjndT0Rv9CrR8gw_0000       drew harry       drew              e   \n",
       "4    rLKL4Bh5HtLOOgAtFpDIIw_0000      josh zeidel       josh              d   \n",
       "..                           ...              ...        ...            ...   \n",
       "145  3SrYWhzDhtXsNh3CwgcJGg_0000       max lasser        max              h   \n",
       "146  O-sP4OlCL3JDB87VADMeDQ_0000  brianna blowers    brianna              k   \n",
       "147  7b3RWkfITpUKclbywqOWWg_0000    annette scott    annette              a   \n",
       "148  2mCC00-cFQcyf3w8BI4NBg_0000    sherman tovar    sherman              r   \n",
       "149  TdB-GyZ2nVSQXToHXy507A_0000    daniel conlin     daniel              a   \n",
       "\n",
       "    middle_name last_initial  last_name  gender  birth_year  birth_date  ...  \\\n",
       "0           NaN            h    herring  female      1986.0         NaN  ...   \n",
       "1           NaN            t     tejeda    male      1989.0  1989-07-19  ...   \n",
       "2           NaN            t  thornhill    male      1982.0         NaN  ...   \n",
       "3           NaN            h      harry    male      1983.0         NaN  ...   \n",
       "4           NaN            z     zeidel    male      1987.0         NaN  ...   \n",
       "..          ...          ...        ...     ...         ...         ...  ...   \n",
       "145         NaN            l     lasser    male      1991.0  1991-07-18  ...   \n",
       "146         NaN            b    blowers    male      1956.0  1956-08-10  ...   \n",
       "147         NaN            s      scott  female      1987.0  1987-03-15  ...   \n",
       "148         NaN            t      tovar    male      1985.0         NaN  ...   \n",
       "149         NaN            c     conlin    male      1994.0  1994-07-18  ...   \n",
       "\n",
       "                                             interests  \\\n",
       "0    ['human rights', 'animal welfare', 'children',...   \n",
       "1    ['social services', 'children', 'environment',...   \n",
       "2                    ['reef aquariums', 'video games']   \n",
       "3    ['teamwork', 'design', 'entrepreneurship', 're...   \n",
       "4    ['i play guitar', 'ad operations and optimizat...   \n",
       "..                                                 ...   \n",
       "145                               ['arts and culture']   \n",
       "146  ['photoshop', 'cooking', 'social media', 'tech...   \n",
       "147  ['exercise', 'sweepstakes', 'home improvement'...   \n",
       "148  ['social services', 'economic empowerment', 'c...   \n",
       "149  ['sharpie philippines', 'two sues casting and ...   \n",
       "\n",
       "                                                skills  \\\n",
       "0    ['social media marketing', 'video games', 'soc...   \n",
       "1    ['digital marketing', 'broadcast', 'advertisin...   \n",
       "2    ['distributed systems', 'php', 'python', 'ruby...   \n",
       "3    ['software engineering', 'human computer inter...   \n",
       "4    ['google analytics', 'microsoft office', 'sale...   \n",
       "..                                                 ...   \n",
       "145  ['writing', 'e sports', 'community content', '...   \n",
       "146  ['social media', 'customer service', 'facebook...   \n",
       "147  ['market research', 'social media', 'marketing...   \n",
       "148  ['customer service', 'video games', 'video gam...   \n",
       "149  ['microsoft office', 'powerpoint', 'customer s...   \n",
       "\n",
       "                                        location_names  \\\n",
       "0    ['san francisco, california, united states', '...   \n",
       "1    ['agoura, california, united states', 'chicago...   \n",
       "2    ['houston, texas, united states', 'baton rouge...   \n",
       "3    ['rumford, rhode island, united states', 'some...   \n",
       "4    ['san francisco, california, united states', '...   \n",
       "..                                                 ...   \n",
       "145  ['columbia, south carolina, united states', 'l...   \n",
       "146  ['houston, texas, united states', 'san marcos,...   \n",
       "147  ['san diego, california, united states', 'hobo...   \n",
       "148  ['alpharetta, georgia, united states', 'el pas...   \n",
       "149  ['ilion, new york, united states', 'black rive...   \n",
       "\n",
       "                                               regions          countries  \\\n",
       "0                        ['california, united states']  ['united states']   \n",
       "1    ['california, united states', 'illinois, unite...  ['united states']   \n",
       "2    ['california, united states', 'louisiana, unit...  ['united states']   \n",
       "3    ['california, united states', 'rhode island, u...  ['united states']   \n",
       "4    ['maryland, united states', 'california, unite...  ['united states']   \n",
       "..                                                 ...                ...   \n",
       "145  ['california, united states', 'south carolina,...  ['united states']   \n",
       "146                           ['texas, united states']  ['united states']   \n",
       "147  ['florida, united states', 'wisconsin, united ...  ['united states']   \n",
       "148  ['virginia, united states', 'georgia, united s...  ['united states']   \n",
       "149                        ['new york, united states']  ['united states']   \n",
       "\n",
       "                                      street_addresses  \\\n",
       "0    [{'name': 'escondido, california, united state...   \n",
       "1    [{'name': 'brooklyn, new york, united states',...   \n",
       "2    [{'name': 'san francisco, california, united s...   \n",
       "3    [{'name': 'san francisco, california, united s...   \n",
       "4    [{'name': 'oakland, california, united states'...   \n",
       "..                                                 ...   \n",
       "145  [{'name': 'los angeles, california, united sta...   \n",
       "146  [{'name': 'rosharon, texas, united states', 'l...   \n",
       "147  [{'name': 'boonsboro, maryland, united states'...   \n",
       "148  [{'name': 'el paso, texas, united states', 'lo...   \n",
       "149  [{'name': 'black river, new york, united state...   \n",
       "\n",
       "                                            experience  \\\n",
       "0    [{'company': {'name': 'twitch', 'size': '1001-...   \n",
       "1    [{'company': {'name': 'twitch', 'size': '1001-...   \n",
       "2    [{'company': {'name': 'louisiana department of...   \n",
       "3    [{'company': {'name': 'mit media lab', 'size':...   \n",
       "4    [{'company': {'name': 'la spina italian restau...   \n",
       "..                                                 ...   \n",
       "145  [{'company': {'name': 'cashmere agency', 'size...   \n",
       "146  [{'company': {'name': 'twitch', 'size': '1001-...   \n",
       "147  [{'company': {'name': 'twitch', 'size': '1001-...   \n",
       "148  [{'company': {'name': 'perfumes4u', 'size': No...   \n",
       "149  [{'company': {'name': 'all american real estat...   \n",
       "\n",
       "                                             education  \\\n",
       "0    [{'school': {'name': 'orange glen high school'...   \n",
       "1    [{'school': {'name': 'university of michigan',...   \n",
       "2    [{'school': {'name': 'woodlawn high school', '...   \n",
       "3    [{'school': {'name': 'massachusetts institute ...   \n",
       "4    [{'school': {'name': 'phillips exeter academy'...   \n",
       "..                                                 ...   \n",
       "145  [{'school': {'name': 'eastside high school', '...   \n",
       "146  [{'school': {'name': 'kingston high school (ne...   \n",
       "147  [{'school': {'name': 'centennial high school',...   \n",
       "148  [{'school': {'name': 'father yermo high school...   \n",
       "149  [{'school': {'name': 'carthage senior high sch...   \n",
       "\n",
       "                                              profiles  \\\n",
       "0    [{'network': 'linkedin', 'id': '111128962', 'u...   \n",
       "1    [{'network': 'linkedin', 'id': '102294665', 'u...   \n",
       "2    [{'network': 'linkedin', 'id': '11395029', 'ur...   \n",
       "3    [{'network': 'linkedin', 'id': '127727505', 'u...   \n",
       "4    [{'network': 'linkedin', 'id': '69536387', 'ur...   \n",
       "..                                                 ...   \n",
       "145  [{'network': 'linkedin', 'id': '105702965', 'u...   \n",
       "146  [{'network': 'linkedin', 'id': '169692420', 'u...   \n",
       "147  [{'network': 'linkedin', 'id': '91229051', 'ur...   \n",
       "148  [{'network': 'linkedin', 'id': '242577943', 'u...   \n",
       "149  [{'network': 'linkedin', 'id': '296979695', 'u...   \n",
       "\n",
       "                                        version_status  \n",
       "0    {'status': 'updated', 'contains': [], 'previou...  \n",
       "1    {'status': 'updated', 'contains': [], 'previou...  \n",
       "2    {'status': 'updated', 'contains': [], 'previou...  \n",
       "3    {'status': 'updated', 'contains': [], 'previou...  \n",
       "4    {'status': 'updated', 'contains': [], 'previou...  \n",
       "..                                                 ...  \n",
       "145  {'status': 'updated', 'contains': [], 'previou...  \n",
       "146  {'status': 'unchanged', 'contains': [], 'previ...  \n",
       "147  {'status': 'unchanged', 'contains': [], 'previ...  \n",
       "148  {'status': 'updated', 'contains': [], 'previou...  \n",
       "149  {'status': 'unchanged', 'contains': [], 'previ...  \n",
       "\n",
       "[150 rows x 73 columns]"
      ]
     },
     "execution_count": 50,
     "metadata": {},
     "output_type": "execute_result"
    }
   ],
   "source": [
    "df"
   ]
  },
  {
   "cell_type": "code",
   "execution_count": 51,
   "id": "bb4850c1",
   "metadata": {},
   "outputs": [
    {
     "data": {
      "text/plain": [
       "Index(['id', 'full_name', 'first_name', 'middle_initial', 'middle_name',\n",
       "       'last_initial', 'last_name', 'gender', 'birth_year', 'birth_date',\n",
       "       'linkedin_url', 'linkedin_username', 'linkedin_id', 'facebook_url',\n",
       "       'facebook_username', 'facebook_id', 'twitter_url', 'twitter_username',\n",
       "       'github_url', 'github_username', 'work_email', 'personal_emails',\n",
       "       'mobile_phone', 'industry', 'job_title', 'job_title_role',\n",
       "       'job_title_sub_role', 'job_title_levels', 'job_company_id',\n",
       "       'job_company_name', 'job_company_website', 'job_company_size',\n",
       "       'job_company_founded', 'job_company_industry',\n",
       "       'job_company_linkedin_url', 'job_company_linkedin_id',\n",
       "       'job_company_facebook_url', 'job_company_twitter_url',\n",
       "       'job_company_location_name', 'job_company_location_locality',\n",
       "       'job_company_location_metro', 'job_company_location_region',\n",
       "       'job_company_location_geo', 'job_company_location_street_address',\n",
       "       'job_company_location_address_line_2',\n",
       "       'job_company_location_postal_code', 'job_company_location_country',\n",
       "       'job_company_location_continent', 'job_last_updated', 'job_start_date',\n",
       "       'location_name', 'location_locality', 'location_metro',\n",
       "       'location_region', 'location_country', 'location_continent',\n",
       "       'location_street_address', 'location_address_line_2',\n",
       "       'location_postal_code', 'location_geo', 'location_last_updated',\n",
       "       'phone_numbers', 'emails', 'interests', 'skills', 'location_names',\n",
       "       'regions', 'countries', 'street_addresses', 'experience', 'education',\n",
       "       'profiles', 'version_status'],\n",
       "      dtype='object')"
      ]
     },
     "execution_count": 51,
     "metadata": {},
     "output_type": "execute_result"
    }
   ],
   "source": [
    "df.columns"
   ]
  },
  {
   "cell_type": "code",
   "execution_count": 52,
   "id": "626ebedb",
   "metadata": {},
   "outputs": [
    {
     "data": {
      "text/plain": [
       "0      33.11,-117.08\n",
       "1       40.65,-73.95\n",
       "2      37.77,-122.41\n",
       "3      37.77,-122.41\n",
       "4      37.80,-122.26\n",
       "           ...      \n",
       "145    34.05,-118.24\n",
       "146     29.35,-95.46\n",
       "147     25.77,-80.19\n",
       "148    31.75,-106.48\n",
       "149     44.01,-75.79\n",
       "Name: location_geo, Length: 150, dtype: object"
      ]
     },
     "execution_count": 52,
     "metadata": {},
     "output_type": "execute_result"
    }
   ],
   "source": [
    "df['location_geo']"
   ]
  },
  {
   "cell_type": "code",
   "execution_count": 53,
   "id": "f5b13e44",
   "metadata": {},
   "outputs": [],
   "source": [
    "df['lat'] = df['location_geo'].apply(lambda s: float(s.split(',')[0]))\n",
    "df['lon'] = df['location_geo'].apply(lambda s: float(s.split(',')[1]))"
   ]
  },
  {
   "cell_type": "code",
   "execution_count": 54,
   "id": "22a6bbc5",
   "metadata": {},
   "outputs": [],
   "source": [
    "df = df[['first_name', 'lat', 'lon']]"
   ]
  },
  {
   "cell_type": "code",
   "execution_count": 55,
   "id": "8748e55f",
   "metadata": {},
   "outputs": [
    {
     "data": {
      "text/html": [
       "<div>\n",
       "<style scoped>\n",
       "    .dataframe tbody tr th:only-of-type {\n",
       "        vertical-align: middle;\n",
       "    }\n",
       "\n",
       "    .dataframe tbody tr th {\n",
       "        vertical-align: top;\n",
       "    }\n",
       "\n",
       "    .dataframe thead th {\n",
       "        text-align: right;\n",
       "    }\n",
       "</style>\n",
       "<table border=\"1\" class=\"dataframe\">\n",
       "  <thead>\n",
       "    <tr style=\"text-align: right;\">\n",
       "      <th></th>\n",
       "      <th>first_name</th>\n",
       "      <th>lat</th>\n",
       "      <th>lon</th>\n",
       "    </tr>\n",
       "  </thead>\n",
       "  <tbody>\n",
       "    <tr>\n",
       "      <th>0</th>\n",
       "      <td>krystal</td>\n",
       "      <td>33.11</td>\n",
       "      <td>-117.08</td>\n",
       "    </tr>\n",
       "    <tr>\n",
       "      <th>1</th>\n",
       "      <td>nick</td>\n",
       "      <td>40.65</td>\n",
       "      <td>-73.95</td>\n",
       "    </tr>\n",
       "    <tr>\n",
       "      <th>2</th>\n",
       "      <td>keith</td>\n",
       "      <td>37.77</td>\n",
       "      <td>-122.41</td>\n",
       "    </tr>\n",
       "    <tr>\n",
       "      <th>3</th>\n",
       "      <td>drew</td>\n",
       "      <td>37.77</td>\n",
       "      <td>-122.41</td>\n",
       "    </tr>\n",
       "    <tr>\n",
       "      <th>4</th>\n",
       "      <td>josh</td>\n",
       "      <td>37.80</td>\n",
       "      <td>-122.26</td>\n",
       "    </tr>\n",
       "    <tr>\n",
       "      <th>...</th>\n",
       "      <td>...</td>\n",
       "      <td>...</td>\n",
       "      <td>...</td>\n",
       "    </tr>\n",
       "    <tr>\n",
       "      <th>145</th>\n",
       "      <td>max</td>\n",
       "      <td>34.05</td>\n",
       "      <td>-118.24</td>\n",
       "    </tr>\n",
       "    <tr>\n",
       "      <th>146</th>\n",
       "      <td>brianna</td>\n",
       "      <td>29.35</td>\n",
       "      <td>-95.46</td>\n",
       "    </tr>\n",
       "    <tr>\n",
       "      <th>147</th>\n",
       "      <td>annette</td>\n",
       "      <td>25.77</td>\n",
       "      <td>-80.19</td>\n",
       "    </tr>\n",
       "    <tr>\n",
       "      <th>148</th>\n",
       "      <td>sherman</td>\n",
       "      <td>31.75</td>\n",
       "      <td>-106.48</td>\n",
       "    </tr>\n",
       "    <tr>\n",
       "      <th>149</th>\n",
       "      <td>daniel</td>\n",
       "      <td>44.01</td>\n",
       "      <td>-75.79</td>\n",
       "    </tr>\n",
       "  </tbody>\n",
       "</table>\n",
       "<p>150 rows × 3 columns</p>\n",
       "</div>"
      ],
      "text/plain": [
       "    first_name    lat     lon\n",
       "0      krystal  33.11 -117.08\n",
       "1         nick  40.65  -73.95\n",
       "2        keith  37.77 -122.41\n",
       "3         drew  37.77 -122.41\n",
       "4         josh  37.80 -122.26\n",
       "..         ...    ...     ...\n",
       "145        max  34.05 -118.24\n",
       "146    brianna  29.35  -95.46\n",
       "147    annette  25.77  -80.19\n",
       "148    sherman  31.75 -106.48\n",
       "149     daniel  44.01  -75.79\n",
       "\n",
       "[150 rows x 3 columns]"
      ]
     },
     "execution_count": 55,
     "metadata": {},
     "output_type": "execute_result"
    }
   ],
   "source": [
    "df"
   ]
  },
  {
   "cell_type": "code",
   "execution_count": 56,
   "id": "ad6e13a2",
   "metadata": {},
   "outputs": [],
   "source": [
    "import plotly.express as px"
   ]
  },
  {
   "cell_type": "code",
   "execution_count": 57,
   "id": "5716cc75",
   "metadata": {},
   "outputs": [],
   "source": [
    "# used Mapbox for map with streets\n",
    "token_name = 'pk.eyJ1IjoidHJhY3ljaGFybGVzMTA4IiwiYSI6ImNsMjJmdmUzajFmeXcza3BkOXgwOWZoNW4ifQ.bFv6klpNU8XWRbEJ0zk1Dw'\n",
    "px.set_mapbox_access_token(token_name)"
   ]
  },
  {
   "cell_type": "code",
   "execution_count": 58,
   "id": "edb3c5fe",
   "metadata": {
    "scrolled": true
   },
   "outputs": [
    {
     "data": {
      "application/vnd.plotly.v1+json": {
       "config": {
        "plotlyServerURL": "https://plot.ly"
       },
       "data": [
        {
         "hovertemplate": "lat=%{lat}<br>lon=%{lon}<extra></extra>",
         "lat": [
          33.11,
          40.65,
          37.77,
          37.77,
          37.8,
          37.8,
          31.05,
          37.85,
          33.66,
          37.8,
          39.61,
          33.64,
          37.72,
          37.77,
          37.56,
          37.77,
          42.1,
          37.77,
          37.77,
          37.77,
          47.6,
          37.35,
          30.26,
          38.75,
          37.36,
          37.8,
          35.31,
          37.77,
          37.77,
          37.77,
          37.87,
          40.65,
          34.09,
          45.07,
          41.25,
          34.07,
          39.32,
          37.93,
          37.8,
          37.77,
          41.29,
          34.09,
          34.05,
          37.38,
          37.56,
          40.72,
          47.6,
          37.77,
          28.66,
          33.66,
          37.77,
          37.77,
          37.77,
          41.25,
          39.2,
          37.77,
          37.77,
          40.71,
          37.77,
          37.87,
          37.32,
          33.66,
          42.01,
          40.71,
          37.77,
          37.77,
          30.57,
          37.77,
          47.6,
          40.37,
          44.22,
          40.74,
          41.85,
          47.6,
          41.44,
          33.88,
          37.87,
          33.61,
          37.77,
          37.77,
          37.44,
          37.38,
          33.6,
          37.88,
          37.36,
          48.11,
          40.85,
          40.76,
          37.77,
          28.16,
          40.73,
          40.71,
          33.66,
          42.88,
          37.76,
          33.98,
          35.99,
          40.65,
          37.77,
          33.11,
          37.77,
          33.74,
          37.58,
          37.8,
          40.65,
          39.95,
          36.17,
          37.33,
          40.64,
          37.52,
          34.73,
          37.8,
          37.77,
          28.53,
          30.26,
          34.05,
          37.83,
          37.8,
          37.77,
          29.88,
          28.53,
          37.38,
          34.61,
          34.02,
          38.28,
          37.77,
          37.77,
          33.41,
          37.59,
          37.7,
          37.8,
          37.97,
          37.77,
          31.93,
          37.33,
          37.77,
          47.63,
          40.71,
          40.71,
          34.22,
          45.52,
          32.79,
          34.05,
          30.54,
          37.55,
          34.05,
          29.35,
          25.77,
          31.75,
          44.01
         ],
         "legendgroup": "",
         "lon": [
          -117.08,
          -73.95,
          -122.41,
          -122.41,
          -122.26,
          -122.26,
          -97.46,
          -122.48,
          -117.82,
          -122.26,
          -105.01,
          -117.6,
          -122.15,
          -122.41,
          -122.32,
          -122.41,
          -86.48,
          -122.41,
          -122.41,
          -122.41,
          -122.33,
          -121.95,
          -97.74,
          -121.28,
          -122.03,
          -122.26,
          -120.83,
          -122.41,
          -122.41,
          -122.41,
          -122.27,
          -73.95,
          -118.36,
          -93.14,
          -95.94,
          -84.29,
          -120.18,
          -122.34,
          -122.26,
          -122.41,
          -89.03,
          -118.36,
          -118.24,
          -122.08,
          -122.32,
          -74.07,
          -122.33,
          -122.41,
          -81.2,
          -117.82,
          -122.41,
          -122.41,
          -122.41,
          -95.93,
          -85.92,
          -122.41,
          -122.41,
          -74,
          -122.41,
          -122.27,
          -122.03,
          -117.82,
          -87.84,
          -74,
          -122.41,
          -122.41,
          -97.85,
          -122.41,
          -122.33,
          -75.29,
          -88.47,
          -73.94,
          -87.65,
          -122.33,
          -74.42,
          -118.3,
          -122.27,
          -117.71,
          -122.41,
          -122.41,
          -122.14,
          -122.08,
          -117.67,
          -122.11,
          -122.03,
          -122.75,
          -73.97,
          -111.89,
          -122.41,
          -81.6,
          -74.17,
          -74,
          -117.82,
          -78.87,
          -122.24,
          -118.45,
          -78.89,
          -73.95,
          -122.41,
          -117.08,
          -122.41,
          -117.86,
          -122.36,
          -122.26,
          -73.95,
          -75.16,
          -115.13,
          -121.89,
          -73.67,
          -122.27,
          -86.58,
          -122.26,
          -122.41,
          -81.37,
          -97.74,
          -118.24,
          -122.12,
          -122.26,
          -122.41,
          -97.94,
          -81.37,
          -122.08,
          -120.07,
          -84.36,
          -85.82,
          -122.41,
          -122.41,
          -111.9,
          -122.38,
          -122.46,
          -122.26,
          -122.03,
          -122.41,
          -81.3,
          -121.89,
          -122.41,
          -122.21,
          -74,
          -74,
          -118.53,
          -122.67,
          -116.96,
          -118.24,
          -97.54,
          -77.46,
          -118.24,
          -95.46,
          -80.19,
          -106.48,
          -75.79
         ],
         "marker": {
          "color": "#636efa"
         },
         "mode": "markers",
         "name": "",
         "showlegend": false,
         "subplot": "mapbox",
         "type": "scattermapbox"
        }
       ],
       "layout": {
        "legend": {
         "tracegroupgap": 0
        },
        "mapbox": {
         "accesstoken": "pk.eyJ1IjoidHJhY3ljaGFybGVzMTA4IiwiYSI6ImNsMjJmdmUzajFmeXcza3BkOXgwOWZoNW4ifQ.bFv6klpNU8XWRbEJ0zk1Dw",
         "center": {
          "lat": 37.44953333333337,
          "lon": -108.89119999999997
         },
         "domain": {
          "x": [
           0,
           1
          ],
          "y": [
           0,
           1
          ]
         },
         "zoom": 8
        },
        "margin": {
         "t": 60
        },
        "template": {
         "data": {
          "bar": [
           {
            "error_x": {
             "color": "#2a3f5f"
            },
            "error_y": {
             "color": "#2a3f5f"
            },
            "marker": {
             "line": {
              "color": "#E5ECF6",
              "width": 0.5
             },
             "pattern": {
              "fillmode": "overlay",
              "size": 10,
              "solidity": 0.2
             }
            },
            "type": "bar"
           }
          ],
          "barpolar": [
           {
            "marker": {
             "line": {
              "color": "#E5ECF6",
              "width": 0.5
             },
             "pattern": {
              "fillmode": "overlay",
              "size": 10,
              "solidity": 0.2
             }
            },
            "type": "barpolar"
           }
          ],
          "carpet": [
           {
            "aaxis": {
             "endlinecolor": "#2a3f5f",
             "gridcolor": "white",
             "linecolor": "white",
             "minorgridcolor": "white",
             "startlinecolor": "#2a3f5f"
            },
            "baxis": {
             "endlinecolor": "#2a3f5f",
             "gridcolor": "white",
             "linecolor": "white",
             "minorgridcolor": "white",
             "startlinecolor": "#2a3f5f"
            },
            "type": "carpet"
           }
          ],
          "choropleth": [
           {
            "colorbar": {
             "outlinewidth": 0,
             "ticks": ""
            },
            "type": "choropleth"
           }
          ],
          "contour": [
           {
            "colorbar": {
             "outlinewidth": 0,
             "ticks": ""
            },
            "colorscale": [
             [
              0,
              "#0d0887"
             ],
             [
              0.1111111111111111,
              "#46039f"
             ],
             [
              0.2222222222222222,
              "#7201a8"
             ],
             [
              0.3333333333333333,
              "#9c179e"
             ],
             [
              0.4444444444444444,
              "#bd3786"
             ],
             [
              0.5555555555555556,
              "#d8576b"
             ],
             [
              0.6666666666666666,
              "#ed7953"
             ],
             [
              0.7777777777777778,
              "#fb9f3a"
             ],
             [
              0.8888888888888888,
              "#fdca26"
             ],
             [
              1,
              "#f0f921"
             ]
            ],
            "type": "contour"
           }
          ],
          "contourcarpet": [
           {
            "colorbar": {
             "outlinewidth": 0,
             "ticks": ""
            },
            "type": "contourcarpet"
           }
          ],
          "heatmap": [
           {
            "colorbar": {
             "outlinewidth": 0,
             "ticks": ""
            },
            "colorscale": [
             [
              0,
              "#0d0887"
             ],
             [
              0.1111111111111111,
              "#46039f"
             ],
             [
              0.2222222222222222,
              "#7201a8"
             ],
             [
              0.3333333333333333,
              "#9c179e"
             ],
             [
              0.4444444444444444,
              "#bd3786"
             ],
             [
              0.5555555555555556,
              "#d8576b"
             ],
             [
              0.6666666666666666,
              "#ed7953"
             ],
             [
              0.7777777777777778,
              "#fb9f3a"
             ],
             [
              0.8888888888888888,
              "#fdca26"
             ],
             [
              1,
              "#f0f921"
             ]
            ],
            "type": "heatmap"
           }
          ],
          "heatmapgl": [
           {
            "colorbar": {
             "outlinewidth": 0,
             "ticks": ""
            },
            "colorscale": [
             [
              0,
              "#0d0887"
             ],
             [
              0.1111111111111111,
              "#46039f"
             ],
             [
              0.2222222222222222,
              "#7201a8"
             ],
             [
              0.3333333333333333,
              "#9c179e"
             ],
             [
              0.4444444444444444,
              "#bd3786"
             ],
             [
              0.5555555555555556,
              "#d8576b"
             ],
             [
              0.6666666666666666,
              "#ed7953"
             ],
             [
              0.7777777777777778,
              "#fb9f3a"
             ],
             [
              0.8888888888888888,
              "#fdca26"
             ],
             [
              1,
              "#f0f921"
             ]
            ],
            "type": "heatmapgl"
           }
          ],
          "histogram": [
           {
            "marker": {
             "pattern": {
              "fillmode": "overlay",
              "size": 10,
              "solidity": 0.2
             }
            },
            "type": "histogram"
           }
          ],
          "histogram2d": [
           {
            "colorbar": {
             "outlinewidth": 0,
             "ticks": ""
            },
            "colorscale": [
             [
              0,
              "#0d0887"
             ],
             [
              0.1111111111111111,
              "#46039f"
             ],
             [
              0.2222222222222222,
              "#7201a8"
             ],
             [
              0.3333333333333333,
              "#9c179e"
             ],
             [
              0.4444444444444444,
              "#bd3786"
             ],
             [
              0.5555555555555556,
              "#d8576b"
             ],
             [
              0.6666666666666666,
              "#ed7953"
             ],
             [
              0.7777777777777778,
              "#fb9f3a"
             ],
             [
              0.8888888888888888,
              "#fdca26"
             ],
             [
              1,
              "#f0f921"
             ]
            ],
            "type": "histogram2d"
           }
          ],
          "histogram2dcontour": [
           {
            "colorbar": {
             "outlinewidth": 0,
             "ticks": ""
            },
            "colorscale": [
             [
              0,
              "#0d0887"
             ],
             [
              0.1111111111111111,
              "#46039f"
             ],
             [
              0.2222222222222222,
              "#7201a8"
             ],
             [
              0.3333333333333333,
              "#9c179e"
             ],
             [
              0.4444444444444444,
              "#bd3786"
             ],
             [
              0.5555555555555556,
              "#d8576b"
             ],
             [
              0.6666666666666666,
              "#ed7953"
             ],
             [
              0.7777777777777778,
              "#fb9f3a"
             ],
             [
              0.8888888888888888,
              "#fdca26"
             ],
             [
              1,
              "#f0f921"
             ]
            ],
            "type": "histogram2dcontour"
           }
          ],
          "mesh3d": [
           {
            "colorbar": {
             "outlinewidth": 0,
             "ticks": ""
            },
            "type": "mesh3d"
           }
          ],
          "parcoords": [
           {
            "line": {
             "colorbar": {
              "outlinewidth": 0,
              "ticks": ""
             }
            },
            "type": "parcoords"
           }
          ],
          "pie": [
           {
            "automargin": true,
            "type": "pie"
           }
          ],
          "scatter": [
           {
            "marker": {
             "colorbar": {
              "outlinewidth": 0,
              "ticks": ""
             }
            },
            "type": "scatter"
           }
          ],
          "scatter3d": [
           {
            "line": {
             "colorbar": {
              "outlinewidth": 0,
              "ticks": ""
             }
            },
            "marker": {
             "colorbar": {
              "outlinewidth": 0,
              "ticks": ""
             }
            },
            "type": "scatter3d"
           }
          ],
          "scattercarpet": [
           {
            "marker": {
             "colorbar": {
              "outlinewidth": 0,
              "ticks": ""
             }
            },
            "type": "scattercarpet"
           }
          ],
          "scattergeo": [
           {
            "marker": {
             "colorbar": {
              "outlinewidth": 0,
              "ticks": ""
             }
            },
            "type": "scattergeo"
           }
          ],
          "scattergl": [
           {
            "marker": {
             "colorbar": {
              "outlinewidth": 0,
              "ticks": ""
             }
            },
            "type": "scattergl"
           }
          ],
          "scattermapbox": [
           {
            "marker": {
             "colorbar": {
              "outlinewidth": 0,
              "ticks": ""
             }
            },
            "type": "scattermapbox"
           }
          ],
          "scatterpolar": [
           {
            "marker": {
             "colorbar": {
              "outlinewidth": 0,
              "ticks": ""
             }
            },
            "type": "scatterpolar"
           }
          ],
          "scatterpolargl": [
           {
            "marker": {
             "colorbar": {
              "outlinewidth": 0,
              "ticks": ""
             }
            },
            "type": "scatterpolargl"
           }
          ],
          "scatterternary": [
           {
            "marker": {
             "colorbar": {
              "outlinewidth": 0,
              "ticks": ""
             }
            },
            "type": "scatterternary"
           }
          ],
          "surface": [
           {
            "colorbar": {
             "outlinewidth": 0,
             "ticks": ""
            },
            "colorscale": [
             [
              0,
              "#0d0887"
             ],
             [
              0.1111111111111111,
              "#46039f"
             ],
             [
              0.2222222222222222,
              "#7201a8"
             ],
             [
              0.3333333333333333,
              "#9c179e"
             ],
             [
              0.4444444444444444,
              "#bd3786"
             ],
             [
              0.5555555555555556,
              "#d8576b"
             ],
             [
              0.6666666666666666,
              "#ed7953"
             ],
             [
              0.7777777777777778,
              "#fb9f3a"
             ],
             [
              0.8888888888888888,
              "#fdca26"
             ],
             [
              1,
              "#f0f921"
             ]
            ],
            "type": "surface"
           }
          ],
          "table": [
           {
            "cells": {
             "fill": {
              "color": "#EBF0F8"
             },
             "line": {
              "color": "white"
             }
            },
            "header": {
             "fill": {
              "color": "#C8D4E3"
             },
             "line": {
              "color": "white"
             }
            },
            "type": "table"
           }
          ]
         },
         "layout": {
          "annotationdefaults": {
           "arrowcolor": "#2a3f5f",
           "arrowhead": 0,
           "arrowwidth": 1
          },
          "autotypenumbers": "strict",
          "coloraxis": {
           "colorbar": {
            "outlinewidth": 0,
            "ticks": ""
           }
          },
          "colorscale": {
           "diverging": [
            [
             0,
             "#8e0152"
            ],
            [
             0.1,
             "#c51b7d"
            ],
            [
             0.2,
             "#de77ae"
            ],
            [
             0.3,
             "#f1b6da"
            ],
            [
             0.4,
             "#fde0ef"
            ],
            [
             0.5,
             "#f7f7f7"
            ],
            [
             0.6,
             "#e6f5d0"
            ],
            [
             0.7,
             "#b8e186"
            ],
            [
             0.8,
             "#7fbc41"
            ],
            [
             0.9,
             "#4d9221"
            ],
            [
             1,
             "#276419"
            ]
           ],
           "sequential": [
            [
             0,
             "#0d0887"
            ],
            [
             0.1111111111111111,
             "#46039f"
            ],
            [
             0.2222222222222222,
             "#7201a8"
            ],
            [
             0.3333333333333333,
             "#9c179e"
            ],
            [
             0.4444444444444444,
             "#bd3786"
            ],
            [
             0.5555555555555556,
             "#d8576b"
            ],
            [
             0.6666666666666666,
             "#ed7953"
            ],
            [
             0.7777777777777778,
             "#fb9f3a"
            ],
            [
             0.8888888888888888,
             "#fdca26"
            ],
            [
             1,
             "#f0f921"
            ]
           ],
           "sequentialminus": [
            [
             0,
             "#0d0887"
            ],
            [
             0.1111111111111111,
             "#46039f"
            ],
            [
             0.2222222222222222,
             "#7201a8"
            ],
            [
             0.3333333333333333,
             "#9c179e"
            ],
            [
             0.4444444444444444,
             "#bd3786"
            ],
            [
             0.5555555555555556,
             "#d8576b"
            ],
            [
             0.6666666666666666,
             "#ed7953"
            ],
            [
             0.7777777777777778,
             "#fb9f3a"
            ],
            [
             0.8888888888888888,
             "#fdca26"
            ],
            [
             1,
             "#f0f921"
            ]
           ]
          },
          "colorway": [
           "#636efa",
           "#EF553B",
           "#00cc96",
           "#ab63fa",
           "#FFA15A",
           "#19d3f3",
           "#FF6692",
           "#B6E880",
           "#FF97FF",
           "#FECB52"
          ],
          "font": {
           "color": "#2a3f5f"
          },
          "geo": {
           "bgcolor": "white",
           "lakecolor": "white",
           "landcolor": "#E5ECF6",
           "showlakes": true,
           "showland": true,
           "subunitcolor": "white"
          },
          "hoverlabel": {
           "align": "left"
          },
          "hovermode": "closest",
          "mapbox": {
           "style": "light"
          },
          "paper_bgcolor": "white",
          "plot_bgcolor": "#E5ECF6",
          "polar": {
           "angularaxis": {
            "gridcolor": "white",
            "linecolor": "white",
            "ticks": ""
           },
           "bgcolor": "#E5ECF6",
           "radialaxis": {
            "gridcolor": "white",
            "linecolor": "white",
            "ticks": ""
           }
          },
          "scene": {
           "xaxis": {
            "backgroundcolor": "#E5ECF6",
            "gridcolor": "white",
            "gridwidth": 2,
            "linecolor": "white",
            "showbackground": true,
            "ticks": "",
            "zerolinecolor": "white"
           },
           "yaxis": {
            "backgroundcolor": "#E5ECF6",
            "gridcolor": "white",
            "gridwidth": 2,
            "linecolor": "white",
            "showbackground": true,
            "ticks": "",
            "zerolinecolor": "white"
           },
           "zaxis": {
            "backgroundcolor": "#E5ECF6",
            "gridcolor": "white",
            "gridwidth": 2,
            "linecolor": "white",
            "showbackground": true,
            "ticks": "",
            "zerolinecolor": "white"
           }
          },
          "shapedefaults": {
           "line": {
            "color": "#2a3f5f"
           }
          },
          "ternary": {
           "aaxis": {
            "gridcolor": "white",
            "linecolor": "white",
            "ticks": ""
           },
           "baxis": {
            "gridcolor": "white",
            "linecolor": "white",
            "ticks": ""
           },
           "bgcolor": "#E5ECF6",
           "caxis": {
            "gridcolor": "white",
            "linecolor": "white",
            "ticks": ""
           }
          },
          "title": {
           "x": 0.05
          },
          "xaxis": {
           "automargin": true,
           "gridcolor": "white",
           "linecolor": "white",
           "ticks": "",
           "title": {
            "standoff": 15
           },
           "zerolinecolor": "white",
           "zerolinewidth": 2
          },
          "yaxis": {
           "automargin": true,
           "gridcolor": "white",
           "linecolor": "white",
           "ticks": "",
           "title": {
            "standoff": 15
           },
           "zerolinecolor": "white",
           "zerolinewidth": 2
          }
         }
        }
       }
      },
      "text/html": [
       "<div>                            <div id=\"6bffcae0-0682-420b-9735-80967346d684\" class=\"plotly-graph-div\" style=\"height:525px; width:100%;\"></div>            <script type=\"text/javascript\">                require([\"plotly\"], function(Plotly) {                    window.PLOTLYENV=window.PLOTLYENV || {};                                    if (document.getElementById(\"6bffcae0-0682-420b-9735-80967346d684\")) {                    Plotly.newPlot(                        \"6bffcae0-0682-420b-9735-80967346d684\",                        [{\"hovertemplate\":\"lat=%{lat}<br>lon=%{lon}<extra></extra>\",\"lat\":[33.11,40.65,37.77,37.77,37.8,37.8,31.05,37.85,33.66,37.8,39.61,33.64,37.72,37.77,37.56,37.77,42.1,37.77,37.77,37.77,47.6,37.35,30.26,38.75,37.36,37.8,35.31,37.77,37.77,37.77,37.87,40.65,34.09,45.07,41.25,34.07,39.32,37.93,37.8,37.77,41.29,34.09,34.05,37.38,37.56,40.72,47.6,37.77,28.66,33.66,37.77,37.77,37.77,41.25,39.2,37.77,37.77,40.71,37.77,37.87,37.32,33.66,42.01,40.71,37.77,37.77,30.57,37.77,47.6,40.37,44.22,40.74,41.85,47.6,41.44,33.88,37.87,33.61,37.77,37.77,37.44,37.38,33.6,37.88,37.36,48.11,40.85,40.76,37.77,28.16,40.73,40.71,33.66,42.88,37.76,33.98,35.99,40.65,37.77,33.11,37.77,33.74,37.58,37.8,40.65,39.95,36.17,37.33,40.64,37.52,34.73,37.8,37.77,28.53,30.26,34.05,37.83,37.8,37.77,29.88,28.53,37.38,34.61,34.02,38.28,37.77,37.77,33.41,37.59,37.7,37.8,37.97,37.77,31.93,37.33,37.77,47.63,40.71,40.71,34.22,45.52,32.79,34.05,30.54,37.55,34.05,29.35,25.77,31.75,44.01],\"legendgroup\":\"\",\"lon\":[-117.08,-73.95,-122.41,-122.41,-122.26,-122.26,-97.46,-122.48,-117.82,-122.26,-105.01,-117.6,-122.15,-122.41,-122.32,-122.41,-86.48,-122.41,-122.41,-122.41,-122.33,-121.95,-97.74,-121.28,-122.03,-122.26,-120.83,-122.41,-122.41,-122.41,-122.27,-73.95,-118.36,-93.14,-95.94,-84.29,-120.18,-122.34,-122.26,-122.41,-89.03,-118.36,-118.24,-122.08,-122.32,-74.07,-122.33,-122.41,-81.2,-117.82,-122.41,-122.41,-122.41,-95.93,-85.92,-122.41,-122.41,-74.0,-122.41,-122.27,-122.03,-117.82,-87.84,-74.0,-122.41,-122.41,-97.85,-122.41,-122.33,-75.29,-88.47,-73.94,-87.65,-122.33,-74.42,-118.3,-122.27,-117.71,-122.41,-122.41,-122.14,-122.08,-117.67,-122.11,-122.03,-122.75,-73.97,-111.89,-122.41,-81.6,-74.17,-74.0,-117.82,-78.87,-122.24,-118.45,-78.89,-73.95,-122.41,-117.08,-122.41,-117.86,-122.36,-122.26,-73.95,-75.16,-115.13,-121.89,-73.67,-122.27,-86.58,-122.26,-122.41,-81.37,-97.74,-118.24,-122.12,-122.26,-122.41,-97.94,-81.37,-122.08,-120.07,-84.36,-85.82,-122.41,-122.41,-111.9,-122.38,-122.46,-122.26,-122.03,-122.41,-81.3,-121.89,-122.41,-122.21,-74.0,-74.0,-118.53,-122.67,-116.96,-118.24,-97.54,-77.46,-118.24,-95.46,-80.19,-106.48,-75.79],\"marker\":{\"color\":\"#636efa\"},\"mode\":\"markers\",\"name\":\"\",\"showlegend\":false,\"subplot\":\"mapbox\",\"type\":\"scattermapbox\"}],                        {\"legend\":{\"tracegroupgap\":0},\"mapbox\":{\"accesstoken\":\"pk.eyJ1IjoidHJhY3ljaGFybGVzMTA4IiwiYSI6ImNsMjJmdmUzajFmeXcza3BkOXgwOWZoNW4ifQ.bFv6klpNU8XWRbEJ0zk1Dw\",\"center\":{\"lat\":37.44953333333337,\"lon\":-108.89119999999997},\"domain\":{\"x\":[0.0,1.0],\"y\":[0.0,1.0]},\"zoom\":8},\"margin\":{\"t\":60},\"template\":{\"data\":{\"bar\":[{\"error_x\":{\"color\":\"#2a3f5f\"},\"error_y\":{\"color\":\"#2a3f5f\"},\"marker\":{\"line\":{\"color\":\"#E5ECF6\",\"width\":0.5},\"pattern\":{\"fillmode\":\"overlay\",\"size\":10,\"solidity\":0.2}},\"type\":\"bar\"}],\"barpolar\":[{\"marker\":{\"line\":{\"color\":\"#E5ECF6\",\"width\":0.5},\"pattern\":{\"fillmode\":\"overlay\",\"size\":10,\"solidity\":0.2}},\"type\":\"barpolar\"}],\"carpet\":[{\"aaxis\":{\"endlinecolor\":\"#2a3f5f\",\"gridcolor\":\"white\",\"linecolor\":\"white\",\"minorgridcolor\":\"white\",\"startlinecolor\":\"#2a3f5f\"},\"baxis\":{\"endlinecolor\":\"#2a3f5f\",\"gridcolor\":\"white\",\"linecolor\":\"white\",\"minorgridcolor\":\"white\",\"startlinecolor\":\"#2a3f5f\"},\"type\":\"carpet\"}],\"choropleth\":[{\"colorbar\":{\"outlinewidth\":0,\"ticks\":\"\"},\"type\":\"choropleth\"}],\"contour\":[{\"colorbar\":{\"outlinewidth\":0,\"ticks\":\"\"},\"colorscale\":[[0.0,\"#0d0887\"],[0.1111111111111111,\"#46039f\"],[0.2222222222222222,\"#7201a8\"],[0.3333333333333333,\"#9c179e\"],[0.4444444444444444,\"#bd3786\"],[0.5555555555555556,\"#d8576b\"],[0.6666666666666666,\"#ed7953\"],[0.7777777777777778,\"#fb9f3a\"],[0.8888888888888888,\"#fdca26\"],[1.0,\"#f0f921\"]],\"type\":\"contour\"}],\"contourcarpet\":[{\"colorbar\":{\"outlinewidth\":0,\"ticks\":\"\"},\"type\":\"contourcarpet\"}],\"heatmap\":[{\"colorbar\":{\"outlinewidth\":0,\"ticks\":\"\"},\"colorscale\":[[0.0,\"#0d0887\"],[0.1111111111111111,\"#46039f\"],[0.2222222222222222,\"#7201a8\"],[0.3333333333333333,\"#9c179e\"],[0.4444444444444444,\"#bd3786\"],[0.5555555555555556,\"#d8576b\"],[0.6666666666666666,\"#ed7953\"],[0.7777777777777778,\"#fb9f3a\"],[0.8888888888888888,\"#fdca26\"],[1.0,\"#f0f921\"]],\"type\":\"heatmap\"}],\"heatmapgl\":[{\"colorbar\":{\"outlinewidth\":0,\"ticks\":\"\"},\"colorscale\":[[0.0,\"#0d0887\"],[0.1111111111111111,\"#46039f\"],[0.2222222222222222,\"#7201a8\"],[0.3333333333333333,\"#9c179e\"],[0.4444444444444444,\"#bd3786\"],[0.5555555555555556,\"#d8576b\"],[0.6666666666666666,\"#ed7953\"],[0.7777777777777778,\"#fb9f3a\"],[0.8888888888888888,\"#fdca26\"],[1.0,\"#f0f921\"]],\"type\":\"heatmapgl\"}],\"histogram\":[{\"marker\":{\"pattern\":{\"fillmode\":\"overlay\",\"size\":10,\"solidity\":0.2}},\"type\":\"histogram\"}],\"histogram2d\":[{\"colorbar\":{\"outlinewidth\":0,\"ticks\":\"\"},\"colorscale\":[[0.0,\"#0d0887\"],[0.1111111111111111,\"#46039f\"],[0.2222222222222222,\"#7201a8\"],[0.3333333333333333,\"#9c179e\"],[0.4444444444444444,\"#bd3786\"],[0.5555555555555556,\"#d8576b\"],[0.6666666666666666,\"#ed7953\"],[0.7777777777777778,\"#fb9f3a\"],[0.8888888888888888,\"#fdca26\"],[1.0,\"#f0f921\"]],\"type\":\"histogram2d\"}],\"histogram2dcontour\":[{\"colorbar\":{\"outlinewidth\":0,\"ticks\":\"\"},\"colorscale\":[[0.0,\"#0d0887\"],[0.1111111111111111,\"#46039f\"],[0.2222222222222222,\"#7201a8\"],[0.3333333333333333,\"#9c179e\"],[0.4444444444444444,\"#bd3786\"],[0.5555555555555556,\"#d8576b\"],[0.6666666666666666,\"#ed7953\"],[0.7777777777777778,\"#fb9f3a\"],[0.8888888888888888,\"#fdca26\"],[1.0,\"#f0f921\"]],\"type\":\"histogram2dcontour\"}],\"mesh3d\":[{\"colorbar\":{\"outlinewidth\":0,\"ticks\":\"\"},\"type\":\"mesh3d\"}],\"parcoords\":[{\"line\":{\"colorbar\":{\"outlinewidth\":0,\"ticks\":\"\"}},\"type\":\"parcoords\"}],\"pie\":[{\"automargin\":true,\"type\":\"pie\"}],\"scatter\":[{\"marker\":{\"colorbar\":{\"outlinewidth\":0,\"ticks\":\"\"}},\"type\":\"scatter\"}],\"scatter3d\":[{\"line\":{\"colorbar\":{\"outlinewidth\":0,\"ticks\":\"\"}},\"marker\":{\"colorbar\":{\"outlinewidth\":0,\"ticks\":\"\"}},\"type\":\"scatter3d\"}],\"scattercarpet\":[{\"marker\":{\"colorbar\":{\"outlinewidth\":0,\"ticks\":\"\"}},\"type\":\"scattercarpet\"}],\"scattergeo\":[{\"marker\":{\"colorbar\":{\"outlinewidth\":0,\"ticks\":\"\"}},\"type\":\"scattergeo\"}],\"scattergl\":[{\"marker\":{\"colorbar\":{\"outlinewidth\":0,\"ticks\":\"\"}},\"type\":\"scattergl\"}],\"scattermapbox\":[{\"marker\":{\"colorbar\":{\"outlinewidth\":0,\"ticks\":\"\"}},\"type\":\"scattermapbox\"}],\"scatterpolar\":[{\"marker\":{\"colorbar\":{\"outlinewidth\":0,\"ticks\":\"\"}},\"type\":\"scatterpolar\"}],\"scatterpolargl\":[{\"marker\":{\"colorbar\":{\"outlinewidth\":0,\"ticks\":\"\"}},\"type\":\"scatterpolargl\"}],\"scatterternary\":[{\"marker\":{\"colorbar\":{\"outlinewidth\":0,\"ticks\":\"\"}},\"type\":\"scatterternary\"}],\"surface\":[{\"colorbar\":{\"outlinewidth\":0,\"ticks\":\"\"},\"colorscale\":[[0.0,\"#0d0887\"],[0.1111111111111111,\"#46039f\"],[0.2222222222222222,\"#7201a8\"],[0.3333333333333333,\"#9c179e\"],[0.4444444444444444,\"#bd3786\"],[0.5555555555555556,\"#d8576b\"],[0.6666666666666666,\"#ed7953\"],[0.7777777777777778,\"#fb9f3a\"],[0.8888888888888888,\"#fdca26\"],[1.0,\"#f0f921\"]],\"type\":\"surface\"}],\"table\":[{\"cells\":{\"fill\":{\"color\":\"#EBF0F8\"},\"line\":{\"color\":\"white\"}},\"header\":{\"fill\":{\"color\":\"#C8D4E3\"},\"line\":{\"color\":\"white\"}},\"type\":\"table\"}]},\"layout\":{\"annotationdefaults\":{\"arrowcolor\":\"#2a3f5f\",\"arrowhead\":0,\"arrowwidth\":1},\"autotypenumbers\":\"strict\",\"coloraxis\":{\"colorbar\":{\"outlinewidth\":0,\"ticks\":\"\"}},\"colorscale\":{\"diverging\":[[0,\"#8e0152\"],[0.1,\"#c51b7d\"],[0.2,\"#de77ae\"],[0.3,\"#f1b6da\"],[0.4,\"#fde0ef\"],[0.5,\"#f7f7f7\"],[0.6,\"#e6f5d0\"],[0.7,\"#b8e186\"],[0.8,\"#7fbc41\"],[0.9,\"#4d9221\"],[1,\"#276419\"]],\"sequential\":[[0.0,\"#0d0887\"],[0.1111111111111111,\"#46039f\"],[0.2222222222222222,\"#7201a8\"],[0.3333333333333333,\"#9c179e\"],[0.4444444444444444,\"#bd3786\"],[0.5555555555555556,\"#d8576b\"],[0.6666666666666666,\"#ed7953\"],[0.7777777777777778,\"#fb9f3a\"],[0.8888888888888888,\"#fdca26\"],[1.0,\"#f0f921\"]],\"sequentialminus\":[[0.0,\"#0d0887\"],[0.1111111111111111,\"#46039f\"],[0.2222222222222222,\"#7201a8\"],[0.3333333333333333,\"#9c179e\"],[0.4444444444444444,\"#bd3786\"],[0.5555555555555556,\"#d8576b\"],[0.6666666666666666,\"#ed7953\"],[0.7777777777777778,\"#fb9f3a\"],[0.8888888888888888,\"#fdca26\"],[1.0,\"#f0f921\"]]},\"colorway\":[\"#636efa\",\"#EF553B\",\"#00cc96\",\"#ab63fa\",\"#FFA15A\",\"#19d3f3\",\"#FF6692\",\"#B6E880\",\"#FF97FF\",\"#FECB52\"],\"font\":{\"color\":\"#2a3f5f\"},\"geo\":{\"bgcolor\":\"white\",\"lakecolor\":\"white\",\"landcolor\":\"#E5ECF6\",\"showlakes\":true,\"showland\":true,\"subunitcolor\":\"white\"},\"hoverlabel\":{\"align\":\"left\"},\"hovermode\":\"closest\",\"mapbox\":{\"style\":\"light\"},\"paper_bgcolor\":\"white\",\"plot_bgcolor\":\"#E5ECF6\",\"polar\":{\"angularaxis\":{\"gridcolor\":\"white\",\"linecolor\":\"white\",\"ticks\":\"\"},\"bgcolor\":\"#E5ECF6\",\"radialaxis\":{\"gridcolor\":\"white\",\"linecolor\":\"white\",\"ticks\":\"\"}},\"scene\":{\"xaxis\":{\"backgroundcolor\":\"#E5ECF6\",\"gridcolor\":\"white\",\"gridwidth\":2,\"linecolor\":\"white\",\"showbackground\":true,\"ticks\":\"\",\"zerolinecolor\":\"white\"},\"yaxis\":{\"backgroundcolor\":\"#E5ECF6\",\"gridcolor\":\"white\",\"gridwidth\":2,\"linecolor\":\"white\",\"showbackground\":true,\"ticks\":\"\",\"zerolinecolor\":\"white\"},\"zaxis\":{\"backgroundcolor\":\"#E5ECF6\",\"gridcolor\":\"white\",\"gridwidth\":2,\"linecolor\":\"white\",\"showbackground\":true,\"ticks\":\"\",\"zerolinecolor\":\"white\"}},\"shapedefaults\":{\"line\":{\"color\":\"#2a3f5f\"}},\"ternary\":{\"aaxis\":{\"gridcolor\":\"white\",\"linecolor\":\"white\",\"ticks\":\"\"},\"baxis\":{\"gridcolor\":\"white\",\"linecolor\":\"white\",\"ticks\":\"\"},\"bgcolor\":\"#E5ECF6\",\"caxis\":{\"gridcolor\":\"white\",\"linecolor\":\"white\",\"ticks\":\"\"}},\"title\":{\"x\":0.05},\"xaxis\":{\"automargin\":true,\"gridcolor\":\"white\",\"linecolor\":\"white\",\"ticks\":\"\",\"title\":{\"standoff\":15},\"zerolinecolor\":\"white\",\"zerolinewidth\":2},\"yaxis\":{\"automargin\":true,\"gridcolor\":\"white\",\"linecolor\":\"white\",\"ticks\":\"\",\"title\":{\"standoff\":15},\"zerolinecolor\":\"white\",\"zerolinewidth\":2}}}},                        {\"responsive\": true}                    ).then(function(){\n",
       "                            \n",
       "var gd = document.getElementById('6bffcae0-0682-420b-9735-80967346d684');\n",
       "var x = new MutationObserver(function (mutations, observer) {{\n",
       "        var display = window.getComputedStyle(gd).display;\n",
       "        if (!display || display === 'none') {{\n",
       "            console.log([gd, 'removed!']);\n",
       "            Plotly.purge(gd);\n",
       "            observer.disconnect();\n",
       "        }}\n",
       "}});\n",
       "\n",
       "// Listen for the removal of the full notebook cells\n",
       "var notebookContainer = gd.closest('#notebook-container');\n",
       "if (notebookContainer) {{\n",
       "    x.observe(notebookContainer, {childList: true});\n",
       "}}\n",
       "\n",
       "// Listen for the clearing of the current output cell\n",
       "var outputEl = gd.closest('.output');\n",
       "if (outputEl) {{\n",
       "    x.observe(outputEl, {childList: true});\n",
       "}}\n",
       "\n",
       "                        })                };                });            </script>        </div>"
      ]
     },
     "metadata": {},
     "output_type": "display_data"
    }
   ],
   "source": [
    "fig = px.scatter_mapbox(df, lat = 'lat', lon = 'lon')\n",
    "fig.show()"
   ]
  }
 ],
 "metadata": {
  "kernelspec": {
   "display_name": "Python 3 (ipykernel)",
   "language": "python",
   "name": "python3"
  },
  "language_info": {
   "codemirror_mode": {
    "name": "ipython",
    "version": 3
   },
   "file_extension": ".py",
   "mimetype": "text/x-python",
   "name": "python",
   "nbconvert_exporter": "python",
   "pygments_lexer": "ipython3",
   "version": "3.8.12"
  }
 },
 "nbformat": 4,
 "nbformat_minor": 5
}
