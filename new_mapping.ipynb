{
 "cells": [
  {
   "cell_type": "code",
   "execution_count": 1,
   "id": "fddcc9a0",
   "metadata": {},
   "outputs": [],
   "source": [
    "import requests, json, time, csv\n",
    "from plotly.io import write_html\n",
    "import plotly.express as px\n",
    "import pandas as pd\n",
    "import numpy as np"
   ]
  },
  {
   "cell_type": "code",
   "execution_count": 65,
   "id": "8ea643c1",
   "metadata": {},
   "outputs": [],
   "source": [
    "import pandas as pd\n",
    "import shapely.geometry\n",
    "import math\n",
    "import json\n",
    "import plotly.express as px\n",
    "import svgpath2mpl\n",
    "import requests\n",
    "import numpy as np"
   ]
  },
  {
   "cell_type": "code",
   "execution_count": 67,
   "id": "25df7106",
   "metadata": {},
   "outputs": [
    {
     "ename": "ModuleNotFoundError",
     "evalue": "No module named 'geopandas'",
     "output_type": "error",
     "traceback": [
      "\u001b[1;31m---------------------------------------------------------------------------\u001b[0m",
      "\u001b[1;31mModuleNotFoundError\u001b[0m                       Traceback (most recent call last)",
      "\u001b[1;32m~\\AppData\\Local\\Temp/ipykernel_1884/3841419929.py\u001b[0m in \u001b[0;36m<module>\u001b[1;34m\u001b[0m\n\u001b[1;32m----> 1\u001b[1;33m \u001b[1;32mimport\u001b[0m \u001b[0mgeopandas\u001b[0m \u001b[1;32mas\u001b[0m \u001b[0mgpd\u001b[0m\u001b[1;33m\u001b[0m\u001b[1;33m\u001b[0m\u001b[0m\n\u001b[0m",
      "\u001b[1;31mModuleNotFoundError\u001b[0m: No module named 'geopandas'"
     ]
    }
   ],
   "source": [
    "import geopandas as gpd"
   ]
  },
  {
   "cell_type": "code",
   "execution_count": 64,
   "id": "dc53efc6",
   "metadata": {},
   "outputs": [
    {
     "name": "stdout",
     "output_type": "stream",
     "text": [
      "Collecting svgpath2mpl\n",
      "  Downloading svgpath2mpl-1.0.0-py2.py3-none-any.whl (7.8 kB)\n",
      "Requirement already satisfied: numpy in c:\\users\\tracy\\anaconda3\\lib\\site-packages (from svgpath2mpl) (1.20.3)\n",
      "Requirement already satisfied: matplotlib in c:\\users\\tracy\\anaconda3\\lib\\site-packages (from svgpath2mpl) (3.4.3)\n",
      "Requirement already satisfied: pyparsing>=2.2.1 in c:\\users\\tracy\\anaconda3\\lib\\site-packages (from matplotlib->svgpath2mpl) (3.0.4)\n",
      "Requirement already satisfied: pillow>=6.2.0 in c:\\users\\tracy\\anaconda3\\lib\\site-packages (from matplotlib->svgpath2mpl) (8.4.0)\n",
      "Requirement already satisfied: cycler>=0.10 in c:\\users\\tracy\\anaconda3\\lib\\site-packages (from matplotlib->svgpath2mpl) (0.11.0)\n",
      "Requirement already satisfied: kiwisolver>=1.0.1 in c:\\users\\tracy\\anaconda3\\lib\\site-packages (from matplotlib->svgpath2mpl) (1.3.1)\n",
      "Requirement already satisfied: python-dateutil>=2.7 in c:\\users\\tracy\\anaconda3\\lib\\site-packages (from matplotlib->svgpath2mpl) (2.8.2)\n",
      "Requirement already satisfied: six>=1.5 in c:\\users\\tracy\\anaconda3\\lib\\site-packages (from python-dateutil>=2.7->matplotlib->svgpath2mpl) (1.16.0)\n",
      "Installing collected packages: svgpath2mpl\n",
      "Successfully installed svgpath2mpl-1.0.0\n"
     ]
    }
   ],
   "source": [
    "!pip install svgpath2mpl"
   ]
  },
  {
   "cell_type": "code",
   "execution_count": 54,
   "id": "6cf46b4f",
   "metadata": {},
   "outputs": [
    {
     "name": "stdout",
     "output_type": "stream",
     "text": [
      "Collecting geopandas\n",
      "  Downloading geopandas-0.10.2-py2.py3-none-any.whl (1.0 MB)\n",
      "Collecting fiona>=1.8\n",
      "  Downloading Fiona-1.8.21.tar.gz (1.0 MB)\n",
      "  Downloading Fiona-1.8.20.tar.gz (1.3 MB)\n",
      "  Downloading Fiona-1.8.19.tar.gz (1.3 MB)\n",
      "  Downloading Fiona-1.8.18.tar.gz (1.3 MB)\n",
      "  Downloading Fiona-1.8.17.tar.gz (1.3 MB)\n",
      "  Downloading Fiona-1.8.16.tar.gz (1.3 MB)\n",
      "  Downloading Fiona-1.8.15.tar.gz (1.3 MB)\n",
      "  Downloading Fiona-1.8.14.tar.gz (1.3 MB)\n",
      "  Downloading Fiona-1.8.13.post1.tar.gz (1.2 MB)\n",
      "  Downloading Fiona-1.8.13.tar.gz (1.2 MB)\n",
      "  Downloading Fiona-1.8.12.tar.gz (1.2 MB)\n",
      "  Downloading Fiona-1.8.11.tar.gz (1.2 MB)\n",
      "  Downloading Fiona-1.8.10.tar.gz (1.2 MB)\n",
      "  Downloading Fiona-1.8.9.post2.tar.gz (1.2 MB)\n",
      "  Downloading Fiona-1.8.9.post1.tar.gz (1.2 MB)\n",
      "  Downloading Fiona-1.8.9.tar.gz (1.2 MB)\n",
      "  Downloading Fiona-1.8.8.tar.gz (1.7 MB)\n",
      "  Downloading Fiona-1.8.7.tar.gz (1.7 MB)\n",
      "  Downloading Fiona-1.8.6.tar.gz (1.7 MB)\n",
      "  Downloading Fiona-1.8.5.tar.gz (1.7 MB)\n",
      "  Downloading Fiona-1.8.4.tar.gz (1.1 MB)\n",
      "  Downloading Fiona-1.8.3.tar.gz (1.1 MB)\n",
      "  Downloading Fiona-1.8.2.tar.gz (1.2 MB)\n",
      "  Downloading Fiona-1.8.1.tar.gz (1.1 MB)\n",
      "  Downloading Fiona-1.8.0.tar.gz (1.4 MB)\n",
      "Collecting geopandas\n",
      "  Downloading geopandas-0.10.1-py2.py3-none-any.whl (1.0 MB)\n",
      "  Downloading geopandas-0.10.0-py2.py3-none-any.whl (1.0 MB)\n",
      "  Downloading geopandas-0.9.0-py2.py3-none-any.whl (994 kB)\n",
      "Requirement already satisfied: pandas>=0.24.0 in c:\\users\\tracy\\anaconda3\\lib\\site-packages (from geopandas) (1.3.4)\n",
      "  Downloading geopandas-0.8.2-py2.py3-none-any.whl (962 kB)\n",
      "Collecting pyproj>=2.2.0\n",
      "  Downloading pyproj-3.3.0-cp38-cp38-win_amd64.whl (6.3 MB)\n",
      "Collecting shapely\n",
      "  Downloading Shapely-1.8.1.post1-cp38-cp38-win_amd64.whl (1.3 MB)\n",
      "Collecting fiona\n",
      "  Downloading Fiona-1.7.13.tar.gz (731 kB)\n",
      "Requirement already satisfied: pytz>=2017.3 in c:\\users\\tracy\\anaconda3\\lib\\site-packages (from pandas>=0.24.0->geopandas) (2021.3)\n",
      "Requirement already satisfied: python-dateutil>=2.7.3 in c:\\users\\tracy\\anaconda3\\lib\\site-packages (from pandas>=0.24.0->geopandas) (2.8.2)\n",
      "Requirement already satisfied: numpy>=1.17.3 in c:\\users\\tracy\\anaconda3\\lib\\site-packages (from pandas>=0.24.0->geopandas) (1.20.3)\n",
      "Requirement already satisfied: certifi in c:\\users\\tracy\\anaconda3\\lib\\site-packages (from pyproj>=2.2.0->geopandas) (2021.10.8)\n",
      "Requirement already satisfied: six>=1.5 in c:\\users\\tracy\\anaconda3\\lib\\site-packages (from python-dateutil>=2.7.3->pandas>=0.24.0->geopandas) (1.16.0)\n",
      "Collecting cligj>=0.4\n",
      "  Downloading cligj-0.7.2-py3-none-any.whl (7.1 kB)\n",
      "Collecting click-plugins\n",
      "  Downloading click_plugins-1.1.1-py2.py3-none-any.whl (7.5 kB)\n",
      "Collecting munch\n",
      "  Downloading munch-2.5.0-py2.py3-none-any.whl (10 kB)\n",
      "Requirement already satisfied: click>=4.0 in c:\\users\\tracy\\anaconda3\\lib\\site-packages (from cligj>=0.4->fiona->geopandas) (8.0.3)\n",
      "Requirement already satisfied: colorama in c:\\users\\tracy\\anaconda3\\lib\\site-packages (from click>=4.0->cligj>=0.4->fiona->geopandas) (0.4.4)\n",
      "Building wheels for collected packages: fiona\n",
      "  Building wheel for fiona (setup.py): started\n",
      "  Building wheel for fiona (setup.py): finished with status 'error'\n",
      "  Running setup.py clean for fiona\n",
      "Failed to build fiona\n",
      "Installing collected packages: munch, cligj, click-plugins, shapely, pyproj, fiona, geopandas\n",
      "    Running setup.py install for fiona: started\n",
      "    Running setup.py install for fiona: finished with status 'error'\n"
     ]
    },
    {
     "name": "stderr",
     "output_type": "stream",
     "text": [
      "    ERROR: Command errored out with exit status 1:\n",
      "     command: 'C:\\Users\\tracy\\anaconda3\\python.exe' -c 'import io, os, sys, setuptools, tokenize; sys.argv[0] = '\"'\"'C:\\\\Users\\\\tracy\\\\AppData\\\\Local\\\\Temp\\\\pip-install-8z3393ze\\\\fiona_0dd47e7ca7ad46f3963cdfb97dc6f42c\\\\setup.py'\"'\"'; __file__='\"'\"'C:\\\\Users\\\\tracy\\\\AppData\\\\Local\\\\Temp\\\\pip-install-8z3393ze\\\\fiona_0dd47e7ca7ad46f3963cdfb97dc6f42c\\\\setup.py'\"'\"';f = getattr(tokenize, '\"'\"'open'\"'\"', open)(__file__) if os.path.exists(__file__) else io.StringIO('\"'\"'from setuptools import setup; setup()'\"'\"');code = f.read().replace('\"'\"'\\r\\n'\"'\"', '\"'\"'\\n'\"'\"');f.close();exec(compile(code, __file__, '\"'\"'exec'\"'\"'))' egg_info --egg-base 'C:\\Users\\tracy\\AppData\\Local\\Temp\\pip-pip-egg-info-b9wa931a'\n",
      "         cwd: C:\\Users\\tracy\\AppData\\Local\\Temp\\pip-install-8z3393ze\\fiona_0dd47e7ca7ad46f3963cdfb97dc6f42c\\\n",
      "    Complete output (1 lines):\n",
      "    A GDAL API version must be specified. Provide a path to gdal-config using a GDAL_CONFIG environment variable or use a GDAL_VERSION environment variable.\n",
      "    ----------------------------------------\n",
      "WARNING: Discarding https://files.pythonhosted.org/packages/67/5c/4e028e84a1f0cb3f8a994217cf2366360ca984dfc1433f6171de527d0dca/Fiona-1.8.21.tar.gz#sha256=3a0edca2a7a070db405d71187214a43d2333a57b4097544a3fcc282066a58bfc (from https://pypi.org/simple/fiona/). Command errored out with exit status 1: python setup.py egg_info Check the logs for full command output.\n",
      "    ERROR: Command errored out with exit status 1:\n",
      "     command: 'C:\\Users\\tracy\\anaconda3\\python.exe' -c 'import io, os, sys, setuptools, tokenize; sys.argv[0] = '\"'\"'C:\\\\Users\\\\tracy\\\\AppData\\\\Local\\\\Temp\\\\pip-install-8z3393ze\\\\fiona_645d811d113144ffbe830d1a97ce9598\\\\setup.py'\"'\"'; __file__='\"'\"'C:\\\\Users\\\\tracy\\\\AppData\\\\Local\\\\Temp\\\\pip-install-8z3393ze\\\\fiona_645d811d113144ffbe830d1a97ce9598\\\\setup.py'\"'\"';f = getattr(tokenize, '\"'\"'open'\"'\"', open)(__file__) if os.path.exists(__file__) else io.StringIO('\"'\"'from setuptools import setup; setup()'\"'\"');code = f.read().replace('\"'\"'\\r\\n'\"'\"', '\"'\"'\\n'\"'\"');f.close();exec(compile(code, __file__, '\"'\"'exec'\"'\"'))' egg_info --egg-base 'C:\\Users\\tracy\\AppData\\Local\\Temp\\pip-pip-egg-info-bz3or0it'\n",
      "         cwd: C:\\Users\\tracy\\AppData\\Local\\Temp\\pip-install-8z3393ze\\fiona_645d811d113144ffbe830d1a97ce9598\\\n",
      "    Complete output (1 lines):\n",
      "    A GDAL API version must be specified. Provide a path to gdal-config using a GDAL_CONFIG environment variable or use a GDAL_VERSION environment variable.\n",
      "    ----------------------------------------\n",
      "WARNING: Discarding https://files.pythonhosted.org/packages/ec/f7/093890341a7e8fbfcdfa04caf4dfb588ebab32c13ceaa6a3819da79ea106/Fiona-1.8.20.tar.gz#sha256=a70502d2857b82f749c09cb0dea3726787747933a2a1599b5ab787d74e3c143b (from https://pypi.org/simple/fiona/). Command errored out with exit status 1: python setup.py egg_info Check the logs for full command output.\n",
      "    ERROR: Command errored out with exit status 1:\n",
      "     command: 'C:\\Users\\tracy\\anaconda3\\python.exe' -c 'import io, os, sys, setuptools, tokenize; sys.argv[0] = '\"'\"'C:\\\\Users\\\\tracy\\\\AppData\\\\Local\\\\Temp\\\\pip-install-8z3393ze\\\\fiona_2c34313bcd09422cbee66de774b5c401\\\\setup.py'\"'\"'; __file__='\"'\"'C:\\\\Users\\\\tracy\\\\AppData\\\\Local\\\\Temp\\\\pip-install-8z3393ze\\\\fiona_2c34313bcd09422cbee66de774b5c401\\\\setup.py'\"'\"';f = getattr(tokenize, '\"'\"'open'\"'\"', open)(__file__) if os.path.exists(__file__) else io.StringIO('\"'\"'from setuptools import setup; setup()'\"'\"');code = f.read().replace('\"'\"'\\r\\n'\"'\"', '\"'\"'\\n'\"'\"');f.close();exec(compile(code, __file__, '\"'\"'exec'\"'\"'))' egg_info --egg-base 'C:\\Users\\tracy\\AppData\\Local\\Temp\\pip-pip-egg-info-7fip1zq2'\n",
      "         cwd: C:\\Users\\tracy\\AppData\\Local\\Temp\\pip-install-8z3393ze\\fiona_2c34313bcd09422cbee66de774b5c401\\\n",
      "    Complete output (1 lines):\n",
      "    A GDAL API version must be specified. Provide a path to gdal-config using a GDAL_CONFIG environment variable or use a GDAL_VERSION environment variable.\n",
      "    ----------------------------------------\n",
      "WARNING: Discarding https://files.pythonhosted.org/packages/a0/d9/6042aeb073d11341f7726de0586ff71c13117c34959dcf07bd4ee6d4b93e/Fiona-1.8.19.tar.gz#sha256=b9059e0b29c2e9e6b817e53f941e77e1aca7075f986005d38db307067b60458f (from https://pypi.org/simple/fiona/). Command errored out with exit status 1: python setup.py egg_info Check the logs for full command output.\n",
      "    ERROR: Command errored out with exit status 1:\n",
      "     command: 'C:\\Users\\tracy\\anaconda3\\python.exe' -c 'import io, os, sys, setuptools, tokenize; sys.argv[0] = '\"'\"'C:\\\\Users\\\\tracy\\\\AppData\\\\Local\\\\Temp\\\\pip-install-8z3393ze\\\\fiona_28d444e0f3a74d2a886221c963dde081\\\\setup.py'\"'\"'; __file__='\"'\"'C:\\\\Users\\\\tracy\\\\AppData\\\\Local\\\\Temp\\\\pip-install-8z3393ze\\\\fiona_28d444e0f3a74d2a886221c963dde081\\\\setup.py'\"'\"';f = getattr(tokenize, '\"'\"'open'\"'\"', open)(__file__) if os.path.exists(__file__) else io.StringIO('\"'\"'from setuptools import setup; setup()'\"'\"');code = f.read().replace('\"'\"'\\r\\n'\"'\"', '\"'\"'\\n'\"'\"');f.close();exec(compile(code, __file__, '\"'\"'exec'\"'\"'))' egg_info --egg-base 'C:\\Users\\tracy\\AppData\\Local\\Temp\\pip-pip-egg-info-q3hfeg4i'\n",
      "         cwd: C:\\Users\\tracy\\AppData\\Local\\Temp\\pip-install-8z3393ze\\fiona_28d444e0f3a74d2a886221c963dde081\\\n",
      "    Complete output (1 lines):\n",
      "    A GDAL API version must be specified. Provide a path to gdal-config using a GDAL_CONFIG environment variable or use a GDAL_VERSION environment variable.\n",
      "    ----------------------------------------\n",
      "WARNING: Discarding https://files.pythonhosted.org/packages/9f/e8/401cdaa58d862a25c4b3365acf7d2bd7ac77191e3dc9acdcdac0eff20ff0/Fiona-1.8.18.tar.gz#sha256=b732ece0ff8886a29c439723a3e1fc382718804bb057519d537a81308854967a (from https://pypi.org/simple/fiona/). Command errored out with exit status 1: python setup.py egg_info Check the logs for full command output.\n",
      "    ERROR: Command errored out with exit status 1:\n",
      "     command: 'C:\\Users\\tracy\\anaconda3\\python.exe' -c 'import io, os, sys, setuptools, tokenize; sys.argv[0] = '\"'\"'C:\\\\Users\\\\tracy\\\\AppData\\\\Local\\\\Temp\\\\pip-install-8z3393ze\\\\fiona_9d3c03108386425ea8363a3699137baa\\\\setup.py'\"'\"'; __file__='\"'\"'C:\\\\Users\\\\tracy\\\\AppData\\\\Local\\\\Temp\\\\pip-install-8z3393ze\\\\fiona_9d3c03108386425ea8363a3699137baa\\\\setup.py'\"'\"';f = getattr(tokenize, '\"'\"'open'\"'\"', open)(__file__) if os.path.exists(__file__) else io.StringIO('\"'\"'from setuptools import setup; setup()'\"'\"');code = f.read().replace('\"'\"'\\r\\n'\"'\"', '\"'\"'\\n'\"'\"');f.close();exec(compile(code, __file__, '\"'\"'exec'\"'\"'))' egg_info --egg-base 'C:\\Users\\tracy\\AppData\\Local\\Temp\\pip-pip-egg-info-1i3v1bpx'\n",
      "         cwd: C:\\Users\\tracy\\AppData\\Local\\Temp\\pip-install-8z3393ze\\fiona_9d3c03108386425ea8363a3699137baa\\\n",
      "    Complete output (1 lines):\n",
      "    A GDAL API version must be specified. Provide a path to gdal-config using a GDAL_CONFIG environment variable or use a GDAL_VERSION environment variable.\n",
      "    ----------------------------------------\n",
      "WARNING: Discarding https://files.pythonhosted.org/packages/88/62/69347ba2c41b526e1953c4cb66d51170b2869808863c03af202ba0121670/Fiona-1.8.17.tar.gz#sha256=716201c21246587f374785bec6d6a20a984fe1f6c2b0e83bf15127eb8f724d0c (from https://pypi.org/simple/fiona/). Command errored out with exit status 1: python setup.py egg_info Check the logs for full command output.\n",
      "    ERROR: Command errored out with exit status 1:\n",
      "     command: 'C:\\Users\\tracy\\anaconda3\\python.exe' -c 'import io, os, sys, setuptools, tokenize; sys.argv[0] = '\"'\"'C:\\\\Users\\\\tracy\\\\AppData\\\\Local\\\\Temp\\\\pip-install-8z3393ze\\\\fiona_5cd8402b543c4d1eb5cfcc378db53c78\\\\setup.py'\"'\"'; __file__='\"'\"'C:\\\\Users\\\\tracy\\\\AppData\\\\Local\\\\Temp\\\\pip-install-8z3393ze\\\\fiona_5cd8402b543c4d1eb5cfcc378db53c78\\\\setup.py'\"'\"';f = getattr(tokenize, '\"'\"'open'\"'\"', open)(__file__) if os.path.exists(__file__) else io.StringIO('\"'\"'from setuptools import setup; setup()'\"'\"');code = f.read().replace('\"'\"'\\r\\n'\"'\"', '\"'\"'\\n'\"'\"');f.close();exec(compile(code, __file__, '\"'\"'exec'\"'\"'))' egg_info --egg-base 'C:\\Users\\tracy\\AppData\\Local\\Temp\\pip-pip-egg-info-9vrpp1rt'\n",
      "         cwd: C:\\Users\\tracy\\AppData\\Local\\Temp\\pip-install-8z3393ze\\fiona_5cd8402b543c4d1eb5cfcc378db53c78\\\n",
      "    Complete output (1 lines):\n",
      "    A GDAL API version must be specified. Provide a path to gdal-config using a GDAL_CONFIG environment variable or use a GDAL_VERSION environment variable.\n",
      "    ----------------------------------------\n",
      "WARNING: Discarding https://files.pythonhosted.org/packages/1e/60/dfc6115a11338d8aa96cacd8c60635223d9c97d61d556c90acc5dfd663fa/Fiona-1.8.16.tar.gz#sha256=fd6dfb65959becc916e9f6928618bfd59c16cdbc413ece0fbac61489cd11255f (from https://pypi.org/simple/fiona/). Command errored out with exit status 1: python setup.py egg_info Check the logs for full command output.\n",
      "    ERROR: Command errored out with exit status 1:\n",
      "     command: 'C:\\Users\\tracy\\anaconda3\\python.exe' -c 'import io, os, sys, setuptools, tokenize; sys.argv[0] = '\"'\"'C:\\\\Users\\\\tracy\\\\AppData\\\\Local\\\\Temp\\\\pip-install-8z3393ze\\\\fiona_b91bb3fadbe9498d9206c49d38ab0928\\\\setup.py'\"'\"'; __file__='\"'\"'C:\\\\Users\\\\tracy\\\\AppData\\\\Local\\\\Temp\\\\pip-install-8z3393ze\\\\fiona_b91bb3fadbe9498d9206c49d38ab0928\\\\setup.py'\"'\"';f = getattr(tokenize, '\"'\"'open'\"'\"', open)(__file__) if os.path.exists(__file__) else io.StringIO('\"'\"'from setuptools import setup; setup()'\"'\"');code = f.read().replace('\"'\"'\\r\\n'\"'\"', '\"'\"'\\n'\"'\"');f.close();exec(compile(code, __file__, '\"'\"'exec'\"'\"'))' egg_info --egg-base 'C:\\Users\\tracy\\AppData\\Local\\Temp\\pip-pip-egg-info-3ltmlwae'\n",
      "         cwd: C:\\Users\\tracy\\AppData\\Local\\Temp\\pip-install-8z3393ze\\fiona_b91bb3fadbe9498d9206c49d38ab0928\\\n",
      "    Complete output (1 lines):\n",
      "    A GDAL API version must be specified. Provide a path to gdal-config using a GDAL_CONFIG environment variable or use a GDAL_VERSION environment variable.\n",
      "    ----------------------------------------\n",
      "WARNING: Discarding https://files.pythonhosted.org/packages/55/2f/17450ec2c8fcc720a8a3e4d9a383499508475c7cfb90f7eca9fb585ac598/Fiona-1.8.15.tar.gz#sha256=3b1c9b5c834fae2fe947cfaea176db890bc6750d1a6ba9f54d969c19ffcd191e (from https://pypi.org/simple/fiona/). Command errored out with exit status 1: python setup.py egg_info Check the logs for full command output.\n",
      "    ERROR: Command errored out with exit status 1:\n",
      "     command: 'C:\\Users\\tracy\\anaconda3\\python.exe' -c 'import io, os, sys, setuptools, tokenize; sys.argv[0] = '\"'\"'C:\\\\Users\\\\tracy\\\\AppData\\\\Local\\\\Temp\\\\pip-install-8z3393ze\\\\fiona_b9156b6f40dc47e9a857a58bf9ec8550\\\\setup.py'\"'\"'; __file__='\"'\"'C:\\\\Users\\\\tracy\\\\AppData\\\\Local\\\\Temp\\\\pip-install-8z3393ze\\\\fiona_b9156b6f40dc47e9a857a58bf9ec8550\\\\setup.py'\"'\"';f = getattr(tokenize, '\"'\"'open'\"'\"', open)(__file__) if os.path.exists(__file__) else io.StringIO('\"'\"'from setuptools import setup; setup()'\"'\"');code = f.read().replace('\"'\"'\\r\\n'\"'\"', '\"'\"'\\n'\"'\"');f.close();exec(compile(code, __file__, '\"'\"'exec'\"'\"'))' egg_info --egg-base 'C:\\Users\\tracy\\AppData\\Local\\Temp\\pip-pip-egg-info-p3i770dg'\n",
      "         cwd: C:\\Users\\tracy\\AppData\\Local\\Temp\\pip-install-8z3393ze\\fiona_b9156b6f40dc47e9a857a58bf9ec8550\\\n",
      "    Complete output (1 lines):\n",
      "    A GDAL API version must be specified. Provide a path to gdal-config using a GDAL_CONFIG environment variable or use a GDAL_VERSION environment variable.\n",
      "    ----------------------------------------\n",
      "WARNING: Discarding https://files.pythonhosted.org/packages/5c/fd/5ec54f2d9b3d5dd23dd443fad5630d6b872e2664814c68b856c47e0d65af/Fiona-1.8.14.tar.gz#sha256=6eac038206c89d2cf5f99ea38b81cc228dc21eac5f47870a9a32d453b0007f4d (from https://pypi.org/simple/fiona/). Command errored out with exit status 1: python setup.py egg_info Check the logs for full command output.\n",
      "    ERROR: Command errored out with exit status 1:\n",
      "     command: 'C:\\Users\\tracy\\anaconda3\\python.exe' -c 'import io, os, sys, setuptools, tokenize; sys.argv[0] = '\"'\"'C:\\\\Users\\\\tracy\\\\AppData\\\\Local\\\\Temp\\\\pip-install-8z3393ze\\\\fiona_548c889733a14ffd86e2c84c8d17b28c\\\\setup.py'\"'\"'; __file__='\"'\"'C:\\\\Users\\\\tracy\\\\AppData\\\\Local\\\\Temp\\\\pip-install-8z3393ze\\\\fiona_548c889733a14ffd86e2c84c8d17b28c\\\\setup.py'\"'\"';f = getattr(tokenize, '\"'\"'open'\"'\"', open)(__file__) if os.path.exists(__file__) else io.StringIO('\"'\"'from setuptools import setup; setup()'\"'\"');code = f.read().replace('\"'\"'\\r\\n'\"'\"', '\"'\"'\\n'\"'\"');f.close();exec(compile(code, __file__, '\"'\"'exec'\"'\"'))' egg_info --egg-base 'C:\\Users\\tracy\\AppData\\Local\\Temp\\pip-pip-egg-info-0ap0edsr'\n",
      "         cwd: C:\\Users\\tracy\\AppData\\Local\\Temp\\pip-install-8z3393ze\\fiona_548c889733a14ffd86e2c84c8d17b28c\\\n",
      "    Complete output (1 lines):\n",
      "    A GDAL API version must be specified. Provide a path to gdal-config using a GDAL_CONFIG environment variable or use a GDAL_VERSION environment variable.\n",
      "    ----------------------------------------\n",
      "WARNING: Discarding https://files.pythonhosted.org/packages/6d/42/f4a7cac53b28fa70e9a93d0e89a24d33e14826dad6644b699362ad84dde0/Fiona-1.8.13.post1.tar.gz#sha256=1a432bf9fd56f089256c010da009c90d4a795c531a848132c965052185336600 (from https://pypi.org/simple/fiona/). Command errored out with exit status 1: python setup.py egg_info Check the logs for full command output.\n",
      "    ERROR: Command errored out with exit status 1:\n",
      "     command: 'C:\\Users\\tracy\\anaconda3\\python.exe' -c 'import io, os, sys, setuptools, tokenize; sys.argv[0] = '\"'\"'C:\\\\Users\\\\tracy\\\\AppData\\\\Local\\\\Temp\\\\pip-install-8z3393ze\\\\fiona_c4c3ce9efd974bd08707a11ddb3d9f51\\\\setup.py'\"'\"'; __file__='\"'\"'C:\\\\Users\\\\tracy\\\\AppData\\\\Local\\\\Temp\\\\pip-install-8z3393ze\\\\fiona_c4c3ce9efd974bd08707a11ddb3d9f51\\\\setup.py'\"'\"';f = getattr(tokenize, '\"'\"'open'\"'\"', open)(__file__) if os.path.exists(__file__) else io.StringIO('\"'\"'from setuptools import setup; setup()'\"'\"');code = f.read().replace('\"'\"'\\r\\n'\"'\"', '\"'\"'\\n'\"'\"');f.close();exec(compile(code, __file__, '\"'\"'exec'\"'\"'))' egg_info --egg-base 'C:\\Users\\tracy\\AppData\\Local\\Temp\\pip-pip-egg-info-nrm_vq05'\n",
      "         cwd: C:\\Users\\tracy\\AppData\\Local\\Temp\\pip-install-8z3393ze\\fiona_c4c3ce9efd974bd08707a11ddb3d9f51\\\n",
      "    Complete output (1 lines):\n",
      "    A GDAL API version must be specified. Provide a path to gdal-config using a GDAL_CONFIG environment variable or use a GDAL_VERSION environment variable.\n",
      "    ----------------------------------------\n",
      "WARNING: Discarding https://files.pythonhosted.org/packages/be/04/31d0a6f03943b1684f32c9b861be40c1fd282468fa6bd54ddf4a774e6b0f/Fiona-1.8.13.tar.gz#sha256=5ec34898c8b983a723fb4e949dd3e0ed7e691c303e51f6bfd61e52ac9ac813ae (from https://pypi.org/simple/fiona/). Command errored out with exit status 1: python setup.py egg_info Check the logs for full command output.\n",
      "    ERROR: Command errored out with exit status 1:\n",
      "     command: 'C:\\Users\\tracy\\anaconda3\\python.exe' -c 'import io, os, sys, setuptools, tokenize; sys.argv[0] = '\"'\"'C:\\\\Users\\\\tracy\\\\AppData\\\\Local\\\\Temp\\\\pip-install-8z3393ze\\\\fiona_294839b04b8b41fda7390672a73c2c10\\\\setup.py'\"'\"'; __file__='\"'\"'C:\\\\Users\\\\tracy\\\\AppData\\\\Local\\\\Temp\\\\pip-install-8z3393ze\\\\fiona_294839b04b8b41fda7390672a73c2c10\\\\setup.py'\"'\"';f = getattr(tokenize, '\"'\"'open'\"'\"', open)(__file__) if os.path.exists(__file__) else io.StringIO('\"'\"'from setuptools import setup; setup()'\"'\"');code = f.read().replace('\"'\"'\\r\\n'\"'\"', '\"'\"'\\n'\"'\"');f.close();exec(compile(code, __file__, '\"'\"'exec'\"'\"'))' egg_info --egg-base 'C:\\Users\\tracy\\AppData\\Local\\Temp\\pip-pip-egg-info-zi625y2_'\n",
      "         cwd: C:\\Users\\tracy\\AppData\\Local\\Temp\\pip-install-8z3393ze\\fiona_294839b04b8b41fda7390672a73c2c10\\\n",
      "    Complete output (1 lines):\n",
      "    A GDAL API version must be specified. Provide a path to gdal-config using a GDAL_CONFIG environment variable or use a GDAL_VERSION environment variable.\n",
      "    ----------------------------------------\n",
      "WARNING: Discarding https://files.pythonhosted.org/packages/97/d8/feab39987296437fbdc3029fb39752a14355d217d73b93471010b8dd63a3/Fiona-1.8.12.tar.gz#sha256=c9266ddf6ae2a64fcea20014ddf27f800ac07584f2fdb09c2a02f3b3a52e371c (from https://pypi.org/simple/fiona/). Command errored out with exit status 1: python setup.py egg_info Check the logs for full command output.\n",
      "    ERROR: Command errored out with exit status 1:\n",
      "     command: 'C:\\Users\\tracy\\anaconda3\\python.exe' -c 'import io, os, sys, setuptools, tokenize; sys.argv[0] = '\"'\"'C:\\\\Users\\\\tracy\\\\AppData\\\\Local\\\\Temp\\\\pip-install-8z3393ze\\\\fiona_845a1820835244879e8423776ba792a0\\\\setup.py'\"'\"'; __file__='\"'\"'C:\\\\Users\\\\tracy\\\\AppData\\\\Local\\\\Temp\\\\pip-install-8z3393ze\\\\fiona_845a1820835244879e8423776ba792a0\\\\setup.py'\"'\"';f = getattr(tokenize, '\"'\"'open'\"'\"', open)(__file__) if os.path.exists(__file__) else io.StringIO('\"'\"'from setuptools import setup; setup()'\"'\"');code = f.read().replace('\"'\"'\\r\\n'\"'\"', '\"'\"'\\n'\"'\"');f.close();exec(compile(code, __file__, '\"'\"'exec'\"'\"'))' egg_info --egg-base 'C:\\Users\\tracy\\AppData\\Local\\Temp\\pip-pip-egg-info-c2b4ckew'\n",
      "         cwd: C:\\Users\\tracy\\AppData\\Local\\Temp\\pip-install-8z3393ze\\fiona_845a1820835244879e8423776ba792a0\\\n",
      "    Complete output (1 lines):\n",
      "    A GDAL API version must be specified. Provide a path to gdal-config using a GDAL_CONFIG environment variable or use a GDAL_VERSION environment variable.\n",
      "    ----------------------------------------\n",
      "WARNING: Discarding https://files.pythonhosted.org/packages/9d/f4/0a0ddc6174c4a93679b5f1dd3535e7ef8989828e6d5f86112de681f8c87b/Fiona-1.8.11.tar.gz#sha256=1e7ca9e051f5bffa1c43c70d573da9ca223fc076b84fa73380614fc02b9eb7f6 (from https://pypi.org/simple/fiona/). Command errored out with exit status 1: python setup.py egg_info Check the logs for full command output.\n",
      "    ERROR: Command errored out with exit status 1:\n",
      "     command: 'C:\\Users\\tracy\\anaconda3\\python.exe' -c 'import io, os, sys, setuptools, tokenize; sys.argv[0] = '\"'\"'C:\\\\Users\\\\tracy\\\\AppData\\\\Local\\\\Temp\\\\pip-install-8z3393ze\\\\fiona_796eca2dd8fd4851a999334223df4c49\\\\setup.py'\"'\"'; __file__='\"'\"'C:\\\\Users\\\\tracy\\\\AppData\\\\Local\\\\Temp\\\\pip-install-8z3393ze\\\\fiona_796eca2dd8fd4851a999334223df4c49\\\\setup.py'\"'\"';f = getattr(tokenize, '\"'\"'open'\"'\"', open)(__file__) if os.path.exists(__file__) else io.StringIO('\"'\"'from setuptools import setup; setup()'\"'\"');code = f.read().replace('\"'\"'\\r\\n'\"'\"', '\"'\"'\\n'\"'\"');f.close();exec(compile(code, __file__, '\"'\"'exec'\"'\"'))' egg_info --egg-base 'C:\\Users\\tracy\\AppData\\Local\\Temp\\pip-pip-egg-info-3ya8avna'\n",
      "         cwd: C:\\Users\\tracy\\AppData\\Local\\Temp\\pip-install-8z3393ze\\fiona_796eca2dd8fd4851a999334223df4c49\\\n",
      "    Complete output (1 lines):\n",
      "    A GDAL API version must be specified. Provide a path to gdal-config using a GDAL_CONFIG environment variable or use a GDAL_VERSION environment variable.\n",
      "    ----------------------------------------\n",
      "WARNING: Discarding https://files.pythonhosted.org/packages/13/73/f80b491ed8559326fab202a6d6333a3cd6e8be1e9d782bc6c0d03d476457/Fiona-1.8.10.tar.gz#sha256=ff562eb2f3960e21f8c7f050ddd7f47a763869ea14afc2234a40df72666c6a2c (from https://pypi.org/simple/fiona/). Command errored out with exit status 1: python setup.py egg_info Check the logs for full command output.\n",
      "    ERROR: Command errored out with exit status 1:\n",
      "     command: 'C:\\Users\\tracy\\anaconda3\\python.exe' -c 'import io, os, sys, setuptools, tokenize; sys.argv[0] = '\"'\"'C:\\\\Users\\\\tracy\\\\AppData\\\\Local\\\\Temp\\\\pip-install-8z3393ze\\\\fiona_77bcd04dfb6f45deb138279bd58fc588\\\\setup.py'\"'\"'; __file__='\"'\"'C:\\\\Users\\\\tracy\\\\AppData\\\\Local\\\\Temp\\\\pip-install-8z3393ze\\\\fiona_77bcd04dfb6f45deb138279bd58fc588\\\\setup.py'\"'\"';f = getattr(tokenize, '\"'\"'open'\"'\"', open)(__file__) if os.path.exists(__file__) else io.StringIO('\"'\"'from setuptools import setup; setup()'\"'\"');code = f.read().replace('\"'\"'\\r\\n'\"'\"', '\"'\"'\\n'\"'\"');f.close();exec(compile(code, __file__, '\"'\"'exec'\"'\"'))' egg_info --egg-base 'C:\\Users\\tracy\\AppData\\Local\\Temp\\pip-pip-egg-info-ly7m88oa'\n",
      "         cwd: C:\\Users\\tracy\\AppData\\Local\\Temp\\pip-install-8z3393ze\\fiona_77bcd04dfb6f45deb138279bd58fc588\\\n",
      "    Complete output (1 lines):\n",
      "    A GDAL API version must be specified. Provide a path to gdal-config using a GDAL_CONFIG environment variable or use a GDAL_VERSION environment variable.\n",
      "    ----------------------------------------\n",
      "WARNING: Discarding https://files.pythonhosted.org/packages/9b/52/45e75507660ce0e86176d0f59b659560f687e2c7e9ebf82a10e7dcd2d3b7/Fiona-1.8.9.post2.tar.gz#sha256=210fb038b579fab38f35ddbdd31b9725f4d5099b3edfd4b87c983e5d47b79983 (from https://pypi.org/simple/fiona/). Command errored out with exit status 1: python setup.py egg_info Check the logs for full command output.\n",
      "    ERROR: Command errored out with exit status 1:\n",
      "     command: 'C:\\Users\\tracy\\anaconda3\\python.exe' -c 'import io, os, sys, setuptools, tokenize; sys.argv[0] = '\"'\"'C:\\\\Users\\\\tracy\\\\AppData\\\\Local\\\\Temp\\\\pip-install-8z3393ze\\\\fiona_291e4ce7aed942a7bbe70fedccaac467\\\\setup.py'\"'\"'; __file__='\"'\"'C:\\\\Users\\\\tracy\\\\AppData\\\\Local\\\\Temp\\\\pip-install-8z3393ze\\\\fiona_291e4ce7aed942a7bbe70fedccaac467\\\\setup.py'\"'\"';f = getattr(tokenize, '\"'\"'open'\"'\"', open)(__file__) if os.path.exists(__file__) else io.StringIO('\"'\"'from setuptools import setup; setup()'\"'\"');code = f.read().replace('\"'\"'\\r\\n'\"'\"', '\"'\"'\\n'\"'\"');f.close();exec(compile(code, __file__, '\"'\"'exec'\"'\"'))' egg_info --egg-base 'C:\\Users\\tracy\\AppData\\Local\\Temp\\pip-pip-egg-info-mo2ku8ee'\n",
      "         cwd: C:\\Users\\tracy\\AppData\\Local\\Temp\\pip-install-8z3393ze\\fiona_291e4ce7aed942a7bbe70fedccaac467\\\n",
      "    Complete output (1 lines):\n",
      "    A GDAL API version must be specified. Provide a path to gdal-config using a GDAL_CONFIG environment variable or use a GDAL_VERSION environment variable.\n",
      "    ----------------------------------------\n",
      "WARNING: Discarding https://files.pythonhosted.org/packages/0e/a4/d9dd7399be809d3990f5000fb6ae43189ea26ae88be1bed3a4c9ddc1becc/Fiona-1.8.9.post1.tar.gz#sha256=d5e0ea0b8addffe9cba4cb59e2bd495b015230e7a1b1597974f5048211930199 (from https://pypi.org/simple/fiona/). Command errored out with exit status 1: python setup.py egg_info Check the logs for full command output.\n",
      "    ERROR: Command errored out with exit status 1:\n",
      "     command: 'C:\\Users\\tracy\\anaconda3\\python.exe' -c 'import io, os, sys, setuptools, tokenize; sys.argv[0] = '\"'\"'C:\\\\Users\\\\tracy\\\\AppData\\\\Local\\\\Temp\\\\pip-install-8z3393ze\\\\fiona_ce6166fbb42345c384080e9510ed6f6a\\\\setup.py'\"'\"'; __file__='\"'\"'C:\\\\Users\\\\tracy\\\\AppData\\\\Local\\\\Temp\\\\pip-install-8z3393ze\\\\fiona_ce6166fbb42345c384080e9510ed6f6a\\\\setup.py'\"'\"';f = getattr(tokenize, '\"'\"'open'\"'\"', open)(__file__) if os.path.exists(__file__) else io.StringIO('\"'\"'from setuptools import setup; setup()'\"'\"');code = f.read().replace('\"'\"'\\r\\n'\"'\"', '\"'\"'\\n'\"'\"');f.close();exec(compile(code, __file__, '\"'\"'exec'\"'\"'))' egg_info --egg-base 'C:\\Users\\tracy\\AppData\\Local\\Temp\\pip-pip-egg-info-yhdjt7zh'\n",
      "         cwd: C:\\Users\\tracy\\AppData\\Local\\Temp\\pip-install-8z3393ze\\fiona_ce6166fbb42345c384080e9510ed6f6a\\\n",
      "    Complete output (1 lines):\n",
      "    A GDAL API version must be specified. Provide a path to gdal-config using a GDAL_CONFIG environment variable or use a GDAL_VERSION environment variable.\n",
      "    ----------------------------------------\n",
      "WARNING: Discarding https://files.pythonhosted.org/packages/ad/92/dcbd8c54d697c22f299b5af63b6df3acfbd06c6d72e249614c05be99337c/Fiona-1.8.9.tar.gz#sha256=4dd6e2f5327c1174143c7c8594a75d373bc72f2c9a2a6daee312c3186a128add (from https://pypi.org/simple/fiona/). Command errored out with exit status 1: python setup.py egg_info Check the logs for full command output.\n",
      "    ERROR: Command errored out with exit status 1:\n",
      "     command: 'C:\\Users\\tracy\\anaconda3\\python.exe' -c 'import io, os, sys, setuptools, tokenize; sys.argv[0] = '\"'\"'C:\\\\Users\\\\tracy\\\\AppData\\\\Local\\\\Temp\\\\pip-install-8z3393ze\\\\fiona_0421cd41ec514d47a378c81f35132e12\\\\setup.py'\"'\"'; __file__='\"'\"'C:\\\\Users\\\\tracy\\\\AppData\\\\Local\\\\Temp\\\\pip-install-8z3393ze\\\\fiona_0421cd41ec514d47a378c81f35132e12\\\\setup.py'\"'\"';f = getattr(tokenize, '\"'\"'open'\"'\"', open)(__file__) if os.path.exists(__file__) else io.StringIO('\"'\"'from setuptools import setup; setup()'\"'\"');code = f.read().replace('\"'\"'\\r\\n'\"'\"', '\"'\"'\\n'\"'\"');f.close();exec(compile(code, __file__, '\"'\"'exec'\"'\"'))' egg_info --egg-base 'C:\\Users\\tracy\\AppData\\Local\\Temp\\pip-pip-egg-info-rqo8j0l_'\n",
      "         cwd: C:\\Users\\tracy\\AppData\\Local\\Temp\\pip-install-8z3393ze\\fiona_0421cd41ec514d47a378c81f35132e12\\\n",
      "    Complete output (1 lines):\n",
      "    A GDAL API version must be specified. Provide a path to gdal-config using a GDAL_CONFIG environment variable or use a GDAL_VERSION environment variable.\n",
      "    ----------------------------------------\n",
      "WARNING: Discarding https://files.pythonhosted.org/packages/94/7f/e288db1ad63d759d494c30caae34f865e0c6927588c490705e91b7134193/Fiona-1.8.8.tar.gz#sha256=711c3be73203b37812992089445a1e4e9d3d6b64e667389f7b15406e15a91e83 (from https://pypi.org/simple/fiona/). Command errored out with exit status 1: python setup.py egg_info Check the logs for full command output.\n",
      "    ERROR: Command errored out with exit status 1:\n",
      "     command: 'C:\\Users\\tracy\\anaconda3\\python.exe' -c 'import io, os, sys, setuptools, tokenize; sys.argv[0] = '\"'\"'C:\\\\Users\\\\tracy\\\\AppData\\\\Local\\\\Temp\\\\pip-install-8z3393ze\\\\fiona_be72e4e666f544ebb8540311d8792a23\\\\setup.py'\"'\"'; __file__='\"'\"'C:\\\\Users\\\\tracy\\\\AppData\\\\Local\\\\Temp\\\\pip-install-8z3393ze\\\\fiona_be72e4e666f544ebb8540311d8792a23\\\\setup.py'\"'\"';f = getattr(tokenize, '\"'\"'open'\"'\"', open)(__file__) if os.path.exists(__file__) else io.StringIO('\"'\"'from setuptools import setup; setup()'\"'\"');code = f.read().replace('\"'\"'\\r\\n'\"'\"', '\"'\"'\\n'\"'\"');f.close();exec(compile(code, __file__, '\"'\"'exec'\"'\"'))' egg_info --egg-base 'C:\\Users\\tracy\\AppData\\Local\\Temp\\pip-pip-egg-info-jezebkcm'\n",
      "         cwd: C:\\Users\\tracy\\AppData\\Local\\Temp\\pip-install-8z3393ze\\fiona_be72e4e666f544ebb8540311d8792a23\\\n",
      "    Complete output (1 lines):\n",
      "    A GDAL API version must be specified. Provide a path to gdal-config using a GDAL_CONFIG environment variable or use a GDAL_VERSION environment variable.\n",
      "    ----------------------------------------\n",
      "WARNING: Discarding https://files.pythonhosted.org/packages/78/62/daafd070aebefa639df247705b97f13f7cfad43895581b5cae41bd886709/Fiona-1.8.7.tar.gz#sha256=a55a23615bad3e142d4e4cda97bb5de83c778a80049222e9dffae93c13b5cf93 (from https://pypi.org/simple/fiona/). Command errored out with exit status 1: python setup.py egg_info Check the logs for full command output.\n",
      "    ERROR: Command errored out with exit status 1:\n",
      "     command: 'C:\\Users\\tracy\\anaconda3\\python.exe' -c 'import io, os, sys, setuptools, tokenize; sys.argv[0] = '\"'\"'C:\\\\Users\\\\tracy\\\\AppData\\\\Local\\\\Temp\\\\pip-install-8z3393ze\\\\fiona_71dd6ff8f6ce44a28f1c0327b9ddc860\\\\setup.py'\"'\"'; __file__='\"'\"'C:\\\\Users\\\\tracy\\\\AppData\\\\Local\\\\Temp\\\\pip-install-8z3393ze\\\\fiona_71dd6ff8f6ce44a28f1c0327b9ddc860\\\\setup.py'\"'\"';f = getattr(tokenize, '\"'\"'open'\"'\"', open)(__file__) if os.path.exists(__file__) else io.StringIO('\"'\"'from setuptools import setup; setup()'\"'\"');code = f.read().replace('\"'\"'\\r\\n'\"'\"', '\"'\"'\\n'\"'\"');f.close();exec(compile(code, __file__, '\"'\"'exec'\"'\"'))' egg_info --egg-base 'C:\\Users\\tracy\\AppData\\Local\\Temp\\pip-pip-egg-info-eivwzzxk'\n",
      "         cwd: C:\\Users\\tracy\\AppData\\Local\\Temp\\pip-install-8z3393ze\\fiona_71dd6ff8f6ce44a28f1c0327b9ddc860\\\n",
      "    Complete output (1 lines):\n",
      "    A GDAL API version must be specified. Provide a path to gdal-config using a GDAL_CONFIG environment variable or use a GDAL_VERSION environment variable.\n",
      "    ----------------------------------------\n",
      "WARNING: Discarding https://files.pythonhosted.org/packages/41/9d/63696e7b1de42aad294d4781199a408bec593d8fdb80a2b4a788c911a33b/Fiona-1.8.6.tar.gz#sha256=fa31dfe8855b9cd0b128b47a4df558f1b8eda90d2181bff1dd9854e5556efb3e (from https://pypi.org/simple/fiona/). Command errored out with exit status 1: python setup.py egg_info Check the logs for full command output.\n",
      "    ERROR: Command errored out with exit status 1:\n",
      "     command: 'C:\\Users\\tracy\\anaconda3\\python.exe' -c 'import io, os, sys, setuptools, tokenize; sys.argv[0] = '\"'\"'C:\\\\Users\\\\tracy\\\\AppData\\\\Local\\\\Temp\\\\pip-install-8z3393ze\\\\fiona_a1735cc596394813a87b60de7b70a69f\\\\setup.py'\"'\"'; __file__='\"'\"'C:\\\\Users\\\\tracy\\\\AppData\\\\Local\\\\Temp\\\\pip-install-8z3393ze\\\\fiona_a1735cc596394813a87b60de7b70a69f\\\\setup.py'\"'\"';f = getattr(tokenize, '\"'\"'open'\"'\"', open)(__file__) if os.path.exists(__file__) else io.StringIO('\"'\"'from setuptools import setup; setup()'\"'\"');code = f.read().replace('\"'\"'\\r\\n'\"'\"', '\"'\"'\\n'\"'\"');f.close();exec(compile(code, __file__, '\"'\"'exec'\"'\"'))' egg_info --egg-base 'C:\\Users\\tracy\\AppData\\Local\\Temp\\pip-pip-egg-info-e3xh36wc'\n",
      "         cwd: C:\\Users\\tracy\\AppData\\Local\\Temp\\pip-install-8z3393ze\\fiona_a1735cc596394813a87b60de7b70a69f\\\n",
      "    Complete output (1 lines):\n",
      "    A GDAL API version must be specified. Provide a path to gdal-config using a GDAL_CONFIG environment variable or use a GDAL_VERSION environment variable.\n",
      "    ----------------------------------------\n",
      "WARNING: Discarding https://files.pythonhosted.org/packages/7b/af/1c2c83c4a8363a4ce9fea817b1910b5e071bed012e18257faa2a0ab3cfe7/Fiona-1.8.5.tar.gz#sha256=4f5cc2d449edbbf693c83e24cdada72de7c41297383d16fcc92387eb445e9d35 (from https://pypi.org/simple/fiona/). Command errored out with exit status 1: python setup.py egg_info Check the logs for full command output.\n",
      "    ERROR: Command errored out with exit status 1:\n",
      "     command: 'C:\\Users\\tracy\\anaconda3\\python.exe' -c 'import io, os, sys, setuptools, tokenize; sys.argv[0] = '\"'\"'C:\\\\Users\\\\tracy\\\\AppData\\\\Local\\\\Temp\\\\pip-install-8z3393ze\\\\fiona_b2f311e6baa247759a825e948cc52c64\\\\setup.py'\"'\"'; __file__='\"'\"'C:\\\\Users\\\\tracy\\\\AppData\\\\Local\\\\Temp\\\\pip-install-8z3393ze\\\\fiona_b2f311e6baa247759a825e948cc52c64\\\\setup.py'\"'\"';f = getattr(tokenize, '\"'\"'open'\"'\"', open)(__file__) if os.path.exists(__file__) else io.StringIO('\"'\"'from setuptools import setup; setup()'\"'\"');code = f.read().replace('\"'\"'\\r\\n'\"'\"', '\"'\"'\\n'\"'\"');f.close();exec(compile(code, __file__, '\"'\"'exec'\"'\"'))' egg_info --egg-base 'C:\\Users\\tracy\\AppData\\Local\\Temp\\pip-pip-egg-info-cyvs_pt4'\n",
      "         cwd: C:\\Users\\tracy\\AppData\\Local\\Temp\\pip-install-8z3393ze\\fiona_b2f311e6baa247759a825e948cc52c64\\\n",
      "    Complete output (1 lines):\n",
      "    A GDAL API version must be specified. Provide a path to gdal-config using a GDAL_CONFIG environment variable or use a GDAL_VERSION environment variable.\n",
      "    ----------------------------------------\n",
      "WARNING: Discarding https://files.pythonhosted.org/packages/3a/16/84960540e9fce61d767fd2f0f1d95f4c63e99ab5d8fddc308e8b51b059b8/Fiona-1.8.4.tar.gz#sha256=aec9ab2e3513c9503ec123b1a8573bee55fc6a66e2ac07088c3376bf6738a424 (from https://pypi.org/simple/fiona/). Command errored out with exit status 1: python setup.py egg_info Check the logs for full command output.\n",
      "    ERROR: Command errored out with exit status 1:\n",
      "     command: 'C:\\Users\\tracy\\anaconda3\\python.exe' -c 'import io, os, sys, setuptools, tokenize; sys.argv[0] = '\"'\"'C:\\\\Users\\\\tracy\\\\AppData\\\\Local\\\\Temp\\\\pip-install-8z3393ze\\\\fiona_57179db103b94a3e905d2a8b3e547d19\\\\setup.py'\"'\"'; __file__='\"'\"'C:\\\\Users\\\\tracy\\\\AppData\\\\Local\\\\Temp\\\\pip-install-8z3393ze\\\\fiona_57179db103b94a3e905d2a8b3e547d19\\\\setup.py'\"'\"';f = getattr(tokenize, '\"'\"'open'\"'\"', open)(__file__) if os.path.exists(__file__) else io.StringIO('\"'\"'from setuptools import setup; setup()'\"'\"');code = f.read().replace('\"'\"'\\r\\n'\"'\"', '\"'\"'\\n'\"'\"');f.close();exec(compile(code, __file__, '\"'\"'exec'\"'\"'))' egg_info --egg-base 'C:\\Users\\tracy\\AppData\\Local\\Temp\\pip-pip-egg-info-i51n_y_b'\n",
      "         cwd: C:\\Users\\tracy\\AppData\\Local\\Temp\\pip-install-8z3393ze\\fiona_57179db103b94a3e905d2a8b3e547d19\\\n",
      "    Complete output (1 lines):\n",
      "    A GDAL API version must be specified. Provide a path to gdal-config using a GDAL_CONFIG environment variable or use a GDAL_VERSION environment variable.\n",
      "    ----------------------------------------\n",
      "WARNING: Discarding https://files.pythonhosted.org/packages/46/d1/fcdb32513a03abfde0d97fd9782ce0f8cc0540fa6c6ce783e87b94064964/Fiona-1.8.3.tar.gz#sha256=3e831100a23c3b6cd32b98baf0c9e2119d909b44a5cf4533d3625f61dcf2d2b1 (from https://pypi.org/simple/fiona/). Command errored out with exit status 1: python setup.py egg_info Check the logs for full command output.\n",
      "    ERROR: Command errored out with exit status 1:\n",
      "     command: 'C:\\Users\\tracy\\anaconda3\\python.exe' -c 'import io, os, sys, setuptools, tokenize; sys.argv[0] = '\"'\"'C:\\\\Users\\\\tracy\\\\AppData\\\\Local\\\\Temp\\\\pip-install-8z3393ze\\\\fiona_d6888546c7934e59b66b9d175ca41020\\\\setup.py'\"'\"'; __file__='\"'\"'C:\\\\Users\\\\tracy\\\\AppData\\\\Local\\\\Temp\\\\pip-install-8z3393ze\\\\fiona_d6888546c7934e59b66b9d175ca41020\\\\setup.py'\"'\"';f = getattr(tokenize, '\"'\"'open'\"'\"', open)(__file__) if os.path.exists(__file__) else io.StringIO('\"'\"'from setuptools import setup; setup()'\"'\"');code = f.read().replace('\"'\"'\\r\\n'\"'\"', '\"'\"'\\n'\"'\"');f.close();exec(compile(code, __file__, '\"'\"'exec'\"'\"'))' egg_info --egg-base 'C:\\Users\\tracy\\AppData\\Local\\Temp\\pip-pip-egg-info-lhdtajis'\n",
      "         cwd: C:\\Users\\tracy\\AppData\\Local\\Temp\\pip-install-8z3393ze\\fiona_d6888546c7934e59b66b9d175ca41020\\\n",
      "    Complete output (1 lines):\n",
      "    A GDAL API version must be specified. Provide a path to gdal-config using a GDAL_CONFIG environment variable or use a GDAL_VERSION environment variable.\n",
      "    ----------------------------------------\n",
      "WARNING: Discarding https://files.pythonhosted.org/packages/25/50/0466d5d83e1859c5ca38351ee932d64cc5635f9d4dad522879e58f4b0018/Fiona-1.8.2.tar.gz#sha256=4c6419b7ac29136708029f6a44b4ccd458735a4d241016c7b1bab41685c08d8f (from https://pypi.org/simple/fiona/). Command errored out with exit status 1: python setup.py egg_info Check the logs for full command output.\n",
      "    ERROR: Command errored out with exit status 1:\n",
      "     command: 'C:\\Users\\tracy\\anaconda3\\python.exe' -c 'import io, os, sys, setuptools, tokenize; sys.argv[0] = '\"'\"'C:\\\\Users\\\\tracy\\\\AppData\\\\Local\\\\Temp\\\\pip-install-8z3393ze\\\\fiona_8452701f4dd849a089c9af09f7803f87\\\\setup.py'\"'\"'; __file__='\"'\"'C:\\\\Users\\\\tracy\\\\AppData\\\\Local\\\\Temp\\\\pip-install-8z3393ze\\\\fiona_8452701f4dd849a089c9af09f7803f87\\\\setup.py'\"'\"';f = getattr(tokenize, '\"'\"'open'\"'\"', open)(__file__) if os.path.exists(__file__) else io.StringIO('\"'\"'from setuptools import setup; setup()'\"'\"');code = f.read().replace('\"'\"'\\r\\n'\"'\"', '\"'\"'\\n'\"'\"');f.close();exec(compile(code, __file__, '\"'\"'exec'\"'\"'))' egg_info --egg-base 'C:\\Users\\tracy\\AppData\\Local\\Temp\\pip-pip-egg-info-7gd28pwd'\n",
      "         cwd: C:\\Users\\tracy\\AppData\\Local\\Temp\\pip-install-8z3393ze\\fiona_8452701f4dd849a089c9af09f7803f87\\\n",
      "    Complete output (1 lines):\n",
      "    A GDAL API version must be specified. Provide a path to gdal-config using a GDAL_CONFIG environment variable or use a GDAL_VERSION environment variable.\n",
      "    ----------------------------------------\n",
      "WARNING: Discarding https://files.pythonhosted.org/packages/3e/5f/0c6704efeea2ff3fba7f54cc6ec38070157f21bc1cffa7bdfa7c9f6b8f7a/Fiona-1.8.1.tar.gz#sha256=4c34bb4c5cd788aaf14e5484c3b7de407b1a8a7c7b2d29bbb2e8b37931e83b8d (from https://pypi.org/simple/fiona/). Command errored out with exit status 1: python setup.py egg_info Check the logs for full command output.\n",
      "    ERROR: Command errored out with exit status 1:\n",
      "     command: 'C:\\Users\\tracy\\anaconda3\\python.exe' -c 'import io, os, sys, setuptools, tokenize; sys.argv[0] = '\"'\"'C:\\\\Users\\\\tracy\\\\AppData\\\\Local\\\\Temp\\\\pip-install-8z3393ze\\\\fiona_f1c5a5d5da9943e1a2aee885cdb51e6a\\\\setup.py'\"'\"'; __file__='\"'\"'C:\\\\Users\\\\tracy\\\\AppData\\\\Local\\\\Temp\\\\pip-install-8z3393ze\\\\fiona_f1c5a5d5da9943e1a2aee885cdb51e6a\\\\setup.py'\"'\"';f = getattr(tokenize, '\"'\"'open'\"'\"', open)(__file__) if os.path.exists(__file__) else io.StringIO('\"'\"'from setuptools import setup; setup()'\"'\"');code = f.read().replace('\"'\"'\\r\\n'\"'\"', '\"'\"'\\n'\"'\"');f.close();exec(compile(code, __file__, '\"'\"'exec'\"'\"'))' egg_info --egg-base 'C:\\Users\\tracy\\AppData\\Local\\Temp\\pip-pip-egg-info-gpp9xg02'\n",
      "         cwd: C:\\Users\\tracy\\AppData\\Local\\Temp\\pip-install-8z3393ze\\fiona_f1c5a5d5da9943e1a2aee885cdb51e6a\\\n",
      "    Complete output (1 lines):\n",
      "    A GDAL API version must be specified. Provide a path to gdal-config using a GDAL_CONFIG environment variable or use a GDAL_VERSION environment variable.\n",
      "    ----------------------------------------\n",
      "WARNING: Discarding https://files.pythonhosted.org/packages/2a/bd/c1efc2680f338e5941121c776d6323af6b9698ac739e22ba523cee348a7f/Fiona-1.8.0.tar.gz#sha256=20141a9ece06daa7bb4333fba640c2fe39a49f8aca5492d1da8595d41e91844a (from https://pypi.org/simple/fiona/). Command errored out with exit status 1: python setup.py egg_info Check the logs for full command output.\n",
      "  ERROR: Command errored out with exit status 1:\n",
      "   command: 'C:\\Users\\tracy\\anaconda3\\python.exe' -u -c 'import io, os, sys, setuptools, tokenize; sys.argv[0] = '\"'\"'C:\\\\Users\\\\tracy\\\\AppData\\\\Local\\\\Temp\\\\pip-install-8z3393ze\\\\fiona_717c03cf3169454db42c2965962c5989\\\\setup.py'\"'\"'; __file__='\"'\"'C:\\\\Users\\\\tracy\\\\AppData\\\\Local\\\\Temp\\\\pip-install-8z3393ze\\\\fiona_717c03cf3169454db42c2965962c5989\\\\setup.py'\"'\"';f = getattr(tokenize, '\"'\"'open'\"'\"', open)(__file__) if os.path.exists(__file__) else io.StringIO('\"'\"'from setuptools import setup; setup()'\"'\"');code = f.read().replace('\"'\"'\\r\\n'\"'\"', '\"'\"'\\n'\"'\"');f.close();exec(compile(code, __file__, '\"'\"'exec'\"'\"'))' bdist_wheel -d 'C:\\Users\\tracy\\AppData\\Local\\Temp\\pip-wheel-5q600v5v'\n",
      "       cwd: C:\\Users\\tracy\\AppData\\Local\\Temp\\pip-install-8z3393ze\\fiona_717c03cf3169454db42c2965962c5989\\\n",
      "  Complete output (48 lines):\n",
      "  C:\\Users\\tracy\\anaconda3\\lib\\distutils\\dist.py:274: UserWarning: Unknown distribution option: 'metadata_version'\n",
      "    warnings.warn(msg)\n",
      "  C:\\Users\\tracy\\anaconda3\\lib\\distutils\\dist.py:274: UserWarning: Unknown distribution option: 'requires_python'\n",
      "    warnings.warn(msg)\n",
      "  C:\\Users\\tracy\\anaconda3\\lib\\distutils\\dist.py:274: UserWarning: Unknown distribution option: 'requires_external'\n",
      "    warnings.warn(msg)\n",
      "  running bdist_wheel\n",
      "  running build\n",
      "  running build_py\n",
      "  creating build\n",
      "  creating build\\lib.win-amd64-3.8\n",
      "  creating build\\lib.win-amd64-3.8\\fiona\n",
      "  copying .\\fiona\\collection.py -> build\\lib.win-amd64-3.8\\fiona\n",
      "  copying .\\fiona\\compat.py -> build\\lib.win-amd64-3.8\\fiona\n",
      "  copying .\\fiona\\crs.py -> build\\lib.win-amd64-3.8\\fiona\n",
      "  copying .\\fiona\\drvsupport.py -> build\\lib.win-amd64-3.8\\fiona\n",
      "  copying .\\fiona\\errors.py -> build\\lib.win-amd64-3.8\\fiona\n",
      "  copying .\\fiona\\inspector.py -> build\\lib.win-amd64-3.8\\fiona\n",
      "  copying .\\fiona\\rfc3339.py -> build\\lib.win-amd64-3.8\\fiona\n",
      "  copying .\\fiona\\tool.py -> build\\lib.win-amd64-3.8\\fiona\n",
      "  copying .\\fiona\\transform.py -> build\\lib.win-amd64-3.8\\fiona\n",
      "  copying .\\fiona\\__init__.py -> build\\lib.win-amd64-3.8\\fiona\n",
      "  creating build\\lib.win-amd64-3.8\\fiona\\fio\n",
      "  copying .\\fiona\\fio\\bounds.py -> build\\lib.win-amd64-3.8\\fiona\\fio\n",
      "  copying .\\fiona\\fio\\calc.py -> build\\lib.win-amd64-3.8\\fiona\\fio\n",
      "  copying .\\fiona\\fio\\cat.py -> build\\lib.win-amd64-3.8\\fiona\\fio\n",
      "  copying .\\fiona\\fio\\collect.py -> build\\lib.win-amd64-3.8\\fiona\\fio\n",
      "  copying .\\fiona\\fio\\distrib.py -> build\\lib.win-amd64-3.8\\fiona\\fio\n",
      "  copying .\\fiona\\fio\\dump.py -> build\\lib.win-amd64-3.8\\fiona\\fio\n",
      "  copying .\\fiona\\fio\\env.py -> build\\lib.win-amd64-3.8\\fiona\\fio\n",
      "  copying .\\fiona\\fio\\filter.py -> build\\lib.win-amd64-3.8\\fiona\\fio\n",
      "  copying .\\fiona\\fio\\helpers.py -> build\\lib.win-amd64-3.8\\fiona\\fio\n",
      "  copying .\\fiona\\fio\\info.py -> build\\lib.win-amd64-3.8\\fiona\\fio\n",
      "  copying .\\fiona\\fio\\insp.py -> build\\lib.win-amd64-3.8\\fiona\\fio\n",
      "  copying .\\fiona\\fio\\load.py -> build\\lib.win-amd64-3.8\\fiona\\fio\n",
      "  copying .\\fiona\\fio\\ls.py -> build\\lib.win-amd64-3.8\\fiona\\fio\n",
      "  copying .\\fiona\\fio\\main.py -> build\\lib.win-amd64-3.8\\fiona\\fio\n",
      "  copying .\\fiona\\fio\\options.py -> build\\lib.win-amd64-3.8\\fiona\\fio\n",
      "  copying .\\fiona\\fio\\__init__.py -> build\\lib.win-amd64-3.8\\fiona\\fio\n",
      "  running build_ext\n",
      "  building 'fiona._transform' extension\n",
      "  creating build\\temp.win-amd64-3.8\n",
      "  creating build\\temp.win-amd64-3.8\\Release\n",
      "  creating build\\temp.win-amd64-3.8\\Release\\fiona\n",
      "  C:\\Program Files (x86)\\Microsoft Visual Studio\\2019\\Community\\VC\\Tools\\MSVC\\14.29.30133\\bin\\HostX86\\x64\\cl.exe /c /nologo /Ox /W3 /GL /DNDEBUG /MD -IC:\\Users\\tracy\\anaconda3\\include -IC:\\Users\\tracy\\anaconda3\\include \"-IC:\\Program Files (x86)\\Microsoft Visual Studio\\2019\\Community\\VC\\Tools\\MSVC\\14.29.30133\\ATLMFC\\include\" \"-IC:\\Program Files (x86)\\Microsoft Visual Studio\\2019\\Community\\VC\\Tools\\MSVC\\14.29.30133\\include\" \"-IC:\\Program Files (x86)\\Windows Kits\\NETFXSDK\\4.8\\include\\um\" \"-IC:\\Program Files (x86)\\Windows Kits\\10\\include\\10.0.19041.0\\ucrt\" \"-IC:\\Program Files (x86)\\Windows Kits\\10\\include\\10.0.19041.0\\shared\" \"-IC:\\Program Files (x86)\\Windows Kits\\10\\include\\10.0.19041.0\\um\" \"-IC:\\Program Files (x86)\\Windows Kits\\10\\include\\10.0.19041.0\\winrt\" \"-IC:\\Program Files (x86)\\Windows Kits\\10\\include\\10.0.19041.0\\cppwinrt\" /EHsc /Tpfiona/_transform.cpp /Fobuild\\temp.win-amd64-3.8\\Release\\fiona/_transform.obj\n",
      "  _transform.cpp\n",
      "  fiona/_transform.cpp(606): fatal error C1083: Cannot open include file: 'cpl_conv.h': No such file or directory\n",
      "  error: command 'C:\\\\Program Files (x86)\\\\Microsoft Visual Studio\\\\2019\\\\Community\\\\VC\\\\Tools\\\\MSVC\\\\14.29.30133\\\\bin\\\\HostX86\\\\x64\\\\cl.exe' failed with exit status 2\n",
      "  ----------------------------------------\n",
      "  ERROR: Failed building wheel for fiona\n",
      "    ERROR: Command errored out with exit status 1:\n",
      "     command: 'C:\\Users\\tracy\\anaconda3\\python.exe' -u -c 'import io, os, sys, setuptools, tokenize; sys.argv[0] = '\"'\"'C:\\\\Users\\\\tracy\\\\AppData\\\\Local\\\\Temp\\\\pip-install-8z3393ze\\\\fiona_717c03cf3169454db42c2965962c5989\\\\setup.py'\"'\"'; __file__='\"'\"'C:\\\\Users\\\\tracy\\\\AppData\\\\Local\\\\Temp\\\\pip-install-8z3393ze\\\\fiona_717c03cf3169454db42c2965962c5989\\\\setup.py'\"'\"';f = getattr(tokenize, '\"'\"'open'\"'\"', open)(__file__) if os.path.exists(__file__) else io.StringIO('\"'\"'from setuptools import setup; setup()'\"'\"');code = f.read().replace('\"'\"'\\r\\n'\"'\"', '\"'\"'\\n'\"'\"');f.close();exec(compile(code, __file__, '\"'\"'exec'\"'\"'))' install --record 'C:\\Users\\tracy\\AppData\\Local\\Temp\\pip-record-43iypmc9\\install-record.txt' --single-version-externally-managed --compile --install-headers 'C:\\Users\\tracy\\anaconda3\\Include\\fiona'\n",
      "         cwd: C:\\Users\\tracy\\AppData\\Local\\Temp\\pip-install-8z3393ze\\fiona_717c03cf3169454db42c2965962c5989\\\n",
      "    Complete output (18 lines):\n",
      "    C:\\Users\\tracy\\anaconda3\\lib\\distutils\\dist.py:274: UserWarning: Unknown distribution option: 'metadata_version'\n",
      "      warnings.warn(msg)\n",
      "    C:\\Users\\tracy\\anaconda3\\lib\\distutils\\dist.py:274: UserWarning: Unknown distribution option: 'requires_python'\n",
      "      warnings.warn(msg)\n",
      "    C:\\Users\\tracy\\anaconda3\\lib\\distutils\\dist.py:274: UserWarning: Unknown distribution option: 'requires_external'\n",
      "      warnings.warn(msg)\n",
      "    running install\n",
      "    running build\n",
      "    running build_py\n",
      "    running build_ext\n",
      "    building 'fiona._transform' extension\n",
      "    creating build\\temp.win-amd64-3.8\n",
      "    creating build\\temp.win-amd64-3.8\\Release\n",
      "    creating build\\temp.win-amd64-3.8\\Release\\fiona\n",
      "    C:\\Program Files (x86)\\Microsoft Visual Studio\\2019\\Community\\VC\\Tools\\MSVC\\14.29.30133\\bin\\HostX86\\x64\\cl.exe /c /nologo /Ox /W3 /GL /DNDEBUG /MD -IC:\\Users\\tracy\\anaconda3\\include -IC:\\Users\\tracy\\anaconda3\\include \"-IC:\\Program Files (x86)\\Microsoft Visual Studio\\2019\\Community\\VC\\Tools\\MSVC\\14.29.30133\\ATLMFC\\include\" \"-IC:\\Program Files (x86)\\Microsoft Visual Studio\\2019\\Community\\VC\\Tools\\MSVC\\14.29.30133\\include\" \"-IC:\\Program Files (x86)\\Windows Kits\\NETFXSDK\\4.8\\include\\um\" \"-IC:\\Program Files (x86)\\Windows Kits\\10\\include\\10.0.19041.0\\ucrt\" \"-IC:\\Program Files (x86)\\Windows Kits\\10\\include\\10.0.19041.0\\shared\" \"-IC:\\Program Files (x86)\\Windows Kits\\10\\include\\10.0.19041.0\\um\" \"-IC:\\Program Files (x86)\\Windows Kits\\10\\include\\10.0.19041.0\\winrt\" \"-IC:\\Program Files (x86)\\Windows Kits\\10\\include\\10.0.19041.0\\cppwinrt\" /EHsc /Tpfiona/_transform.cpp /Fobuild\\temp.win-amd64-3.8\\Release\\fiona/_transform.obj\n",
      "    _transform.cpp\n",
      "    fiona/_transform.cpp(606): fatal error C1083: Cannot open include file: 'cpl_conv.h': No such file or directory\n",
      "    error: command 'C:\\\\Program Files (x86)\\\\Microsoft Visual Studio\\\\2019\\\\Community\\\\VC\\\\Tools\\\\MSVC\\\\14.29.30133\\\\bin\\\\HostX86\\\\x64\\\\cl.exe' failed with exit status 2\n",
      "    ----------------------------------------\n",
      "ERROR: Command errored out with exit status 1: 'C:\\Users\\tracy\\anaconda3\\python.exe' -u -c 'import io, os, sys, setuptools, tokenize; sys.argv[0] = '\"'\"'C:\\\\Users\\\\tracy\\\\AppData\\\\Local\\\\Temp\\\\pip-install-8z3393ze\\\\fiona_717c03cf3169454db42c2965962c5989\\\\setup.py'\"'\"'; __file__='\"'\"'C:\\\\Users\\\\tracy\\\\AppData\\\\Local\\\\Temp\\\\pip-install-8z3393ze\\\\fiona_717c03cf3169454db42c2965962c5989\\\\setup.py'\"'\"';f = getattr(tokenize, '\"'\"'open'\"'\"', open)(__file__) if os.path.exists(__file__) else io.StringIO('\"'\"'from setuptools import setup; setup()'\"'\"');code = f.read().replace('\"'\"'\\r\\n'\"'\"', '\"'\"'\\n'\"'\"');f.close();exec(compile(code, __file__, '\"'\"'exec'\"'\"'))' install --record 'C:\\Users\\tracy\\AppData\\Local\\Temp\\pip-record-43iypmc9\\install-record.txt' --single-version-externally-managed --compile --install-headers 'C:\\Users\\tracy\\anaconda3\\Include\\fiona' Check the logs for full command output.\n"
     ]
    },
    {
     "ename": "ModuleNotFoundError",
     "evalue": "No module named 'geopandas'",
     "output_type": "error",
     "traceback": [
      "\u001b[1;31m---------------------------------------------------------------------------\u001b[0m",
      "\u001b[1;31mModuleNotFoundError\u001b[0m                       Traceback (most recent call last)",
      "\u001b[1;32m~\\AppData\\Local\\Temp/ipykernel_1884/976489221.py\u001b[0m in \u001b[0;36m<module>\u001b[1;34m\u001b[0m\n\u001b[0;32m      1\u001b[0m \u001b[0mget_ipython\u001b[0m\u001b[1;33m(\u001b[0m\u001b[1;33m)\u001b[0m\u001b[1;33m.\u001b[0m\u001b[0msystem\u001b[0m\u001b[1;33m(\u001b[0m\u001b[1;34m'pip install geopandas'\u001b[0m\u001b[1;33m)\u001b[0m\u001b[1;33m\u001b[0m\u001b[1;33m\u001b[0m\u001b[0m\n\u001b[1;32m----> 2\u001b[1;33m \u001b[1;32mimport\u001b[0m \u001b[0mgeopandas\u001b[0m \u001b[1;32mas\u001b[0m \u001b[0mgpd\u001b[0m\u001b[1;33m\u001b[0m\u001b[1;33m\u001b[0m\u001b[0m\n\u001b[0m\u001b[0;32m      3\u001b[0m \u001b[1;32mimport\u001b[0m \u001b[0mpandas\u001b[0m \u001b[1;32mas\u001b[0m \u001b[0mpd\u001b[0m\u001b[1;33m\u001b[0m\u001b[1;33m\u001b[0m\u001b[0m\n\u001b[0;32m      4\u001b[0m \u001b[1;32mimport\u001b[0m \u001b[0mshapely\u001b[0m\u001b[1;33m.\u001b[0m\u001b[0mgeometry\u001b[0m\u001b[1;33m\u001b[0m\u001b[1;33m\u001b[0m\u001b[0m\n\u001b[0;32m      5\u001b[0m \u001b[1;32mimport\u001b[0m \u001b[0mmath\u001b[0m\u001b[1;33m\u001b[0m\u001b[1;33m\u001b[0m\u001b[0m\n",
      "\u001b[1;31mModuleNotFoundError\u001b[0m: No module named 'geopandas'"
     ]
    }
   ],
   "source": [
    "!pip install geopandas\n"
   ]
  },
  {
   "cell_type": "code",
   "execution_count": 110,
   "id": "b55f7fbc",
   "metadata": {},
   "outputs": [],
   "source": [
    "def map(API_KEY, company_name, size):\n",
    "    \"\"\"\n",
    "    Purpose:\n",
    "    Calls API with API_KEY to return size amount of employees from company of company_name.\n",
    "    \n",
    "    Return: \n",
    "    CSV file named \"{company_name}{size}_employee.csv\" if a file of that name doesn't already exist. This is so costly\n",
    "    calls aren't repeated if we already have the dataset for them\n",
    "    A plotly plot of the addresses of employees from company_name and the company HQ address.\n",
    "    \n",
    "    Parameters: \n",
    "    API_KEY is the string of your API key with PDL\n",
    "    company_name is a string of the company's name\n",
    "    size is an int of how many employees you want retrieved max. If you want all available employees, use -1\"\"\"\n",
    "    \n",
    "    #basic test cases\n",
    "    if type(company_name) != str:\n",
    "        raise TypeError\n",
    "    if type(size) != int:\n",
    "        raise TypeError\n",
    "    if type(API_KEY) != str:\n",
    "        raise TypeError   \n",
    "    if len(API_KEY) < 5:\n",
    "        raise ValueError\n",
    "        \n",
    "    csv_filename = company_name + str(size) + \"_employees.csv\"\n",
    "    try:\n",
    "        df = pd.read_csv(csv_filename)\n",
    "    except (FileNotFoundError):\n",
    "        #the following is code from PDL's Query Builder https://www.peopledatalabs.com/main/query-builder\n",
    "        MAX_NUM_RECORDS = size\n",
    "\n",
    "    # NO CHANGES NEEDED BELOW HERE\n",
    "        PDL_URL = \"https://api.peopledatalabs.com/v5/person/search\"\n",
    "        request_header = {\n",
    "            \"Content-Type\": \"application/json\",\n",
    "            \"X-api-key\": API_KEY\n",
    "        }\n",
    "\n",
    "        ES_QUERY = {\n",
    "            \"query\": {\n",
    "                \"bool\": {\n",
    "                    \"must\": [\n",
    "                        {\n",
    "                            \"term\": {\n",
    "                                \"job_company_name\": company_name\n",
    "                            }\n",
    "                        }\n",
    "                    ]\n",
    "                }\n",
    "            }\n",
    "        }\n",
    "\n",
    "        num_records_to_request = 100\n",
    "        params = {\n",
    "            \"dataset\": \"street_address\",\n",
    "            \"query\": json.dumps(ES_QUERY),\n",
    "            \"size\": num_records_to_request,\n",
    "            \"pretty\": True\n",
    "        }\n",
    "    \n",
    "    # Pull all results in multiple batches\n",
    "        batch = 1\n",
    "        all_records = []\n",
    "        start_time = time.time()\n",
    "        while batch == 1 or params[\"scroll_token\"]:\n",
    "            if MAX_NUM_RECORDS != -1:\n",
    "                # Update num_records_to_request\n",
    "                # Compute the number of records left to pull\n",
    "                num_records_to_request = MAX_NUM_RECORDS - len(all_records)\n",
    "                # Clamp this number between 0 and 100\n",
    "                num_records_to_request = max(0, min(num_records_to_request, 100))\n",
    "\n",
    "            if num_records_to_request == 0:\n",
    "                break\n",
    "\n",
    "            params[\"size\"] = num_records_to_request\n",
    "            response = requests.get(PDL_URL, headers=request_header, params=params).json()\n",
    "\n",
    "            if batch == 1:\n",
    "                print(f\"{response['total']} available records in this search\")\n",
    "\n",
    "            all_records.extend(response.get(\"data\", []))\n",
    "            params[\"scroll_token\"] = response.get(\"scroll_token\")\n",
    "            print(f\"Retrieved {len(response.get('data', []))} records in batch {batch}\")\n",
    "            batch += 1\n",
    "\n",
    "            if params[\"scroll_token\"]:\n",
    "                time.sleep(6)   # avoid hitting rate limit thresholds\n",
    "    \n",
    "        end_time = time.time()\n",
    "        runtime = end_time - start_time\n",
    "\n",
    "        print(f\"Successfully recovered {len(all_records)} profiles in \"\n",
    "              f\"{batch} batches [{runtime} seconds]\")\n",
    "        print(\"status:\",response[\"status\"], \"total:\",response[\"total\"])\n",
    "        #there should be a test case to check status and run an error if not 200\n",
    "\n",
    "        def save_profiles_to_csv(profiles, filename, fields=[], delim=\",\"):\n",
    "            \"\"\"Save profiles to csv (utility function)\"\"\"\n",
    "\n",
    "            # Define header fields\n",
    "            if fields == [] and len(profiles) > 0:\n",
    "                fields = profiles[0].keys()\n",
    "\n",
    "            with open(filename, \"w\", encoding=\"utf-8\") as csvfile:\n",
    "                # Write csv file\n",
    "                writer = csv.writer(csvfile, delimiter=delim)\n",
    "\n",
    "                # Write Header:\n",
    "                writer.writerow(fields)\n",
    "\n",
    "                count = 0\n",
    "                for profile in profiles:\n",
    "                    # Write Body:\n",
    "                    writer.writerow([profile[field] for field in fields])\n",
    "                    count += 1\n",
    "                    print(f\"Wrote {count} lines to: '{filename}'\")\n",
    "\n",
    "                \n",
    "       # Use utility function to save profiles to csv\n",
    "        csv_header_fields = ['job_company_location_geo', 'job_company_location_street_address',\n",
    "                                 'job_company_location_address_line_2',\n",
    "                                 'location_street_address', 'location_address_line_2', 'location_geo', 'job_title']#, 'education'['school']['name']]\n",
    "        save_profiles_to_csv(all_records, csv_filename, csv_header_fields)\n",
    "    \n",
    "    df = pd.read_csv(csv_filename)\n",
    "    df = df[df['location_geo'].notnull()]\n",
    "    df['lat'] = df['location_geo'].apply(lambda s: float(s.split(',')[0]))\n",
    "    df['lon'] = df['location_geo'].apply(lambda s: float(s.split(',')[1]))\n",
    "    company_lat=float(df[\"job_company_location_geo\"][0].split(',')[0])\n",
    "    company_lon=float(df[\"job_company_location_geo\"][0].split(',')[1])\n",
    "    company=pd.DataFrame(np.array([[company_lat, company_lon]]), columns=['lat', 'lon'])\n",
    "    # used Mapbox for map with streets\n",
    "    token_name = 'pk.eyJ1IjoidHJhY3ljaGFybGVzMTA4IiwiYSI6ImNsMjJmdmUzajFmeXcza3BkOXgwOWZoNW4ifQ.bFv6klpNU8XWRbEJ0zk1Dw'\n",
    "    px.set_mapbox_access_token(token_name)\n",
    "    fig = px.density_mapbox(df, lat = 'lat', lon = 'lon', zoom=3, mapbox_style='carto-positron', radius = 10, hover_data=['job_title'], color_continuous_scale = 'viridis')\n",
    "    fig.add_densitymapbox(lat = [company_lat], lon = [company_lon], colorscale = 'Reds', radius = 15, hovertext = 'company HQ')  \n",
    "\n",
    "    fig.update_layout(margin={\"r\":0, \"t\":0, \"l\":0, \"b\":0})\n",
    "    fig.show()\n",
    "    write_html(fig, company_name + '_employees.html')"
   ]
  },
  {
   "cell_type": "code",
   "execution_count": 112,
   "id": "8ea74daa",
   "metadata": {},
   "outputs": [
    {
     "name": "stdout",
     "output_type": "stream",
     "text": [
      "401 available records in this search\n",
      "Retrieved 100 records in batch 1\n",
      "Retrieved 100 records in batch 2\n",
      "Retrieved 100 records in batch 3\n",
      "Retrieved 100 records in batch 4\n",
      "Retrieved 1 records in batch 5\n",
      "Retrieved 0 records in batch 6\n",
      "Successfully recovered 401 profiles in 7 batches [40.98560619354248 seconds]\n",
      "status: 404 total: 401\n",
      "Wrote 1 lines to: 'twitch-1_employees.csv'\n",
      "Wrote 2 lines to: 'twitch-1_employees.csv'\n",
      "Wrote 3 lines to: 'twitch-1_employees.csv'\n",
      "Wrote 4 lines to: 'twitch-1_employees.csv'\n",
      "Wrote 5 lines to: 'twitch-1_employees.csv'\n",
      "Wrote 6 lines to: 'twitch-1_employees.csv'\n",
      "Wrote 7 lines to: 'twitch-1_employees.csv'\n",
      "Wrote 8 lines to: 'twitch-1_employees.csv'\n",
      "Wrote 9 lines to: 'twitch-1_employees.csv'\n",
      "Wrote 10 lines to: 'twitch-1_employees.csv'\n",
      "Wrote 11 lines to: 'twitch-1_employees.csv'\n",
      "Wrote 12 lines to: 'twitch-1_employees.csv'\n",
      "Wrote 13 lines to: 'twitch-1_employees.csv'\n",
      "Wrote 14 lines to: 'twitch-1_employees.csv'\n",
      "Wrote 15 lines to: 'twitch-1_employees.csv'\n",
      "Wrote 16 lines to: 'twitch-1_employees.csv'\n",
      "Wrote 17 lines to: 'twitch-1_employees.csv'\n",
      "Wrote 18 lines to: 'twitch-1_employees.csv'\n",
      "Wrote 19 lines to: 'twitch-1_employees.csv'\n",
      "Wrote 20 lines to: 'twitch-1_employees.csv'\n",
      "Wrote 21 lines to: 'twitch-1_employees.csv'\n",
      "Wrote 22 lines to: 'twitch-1_employees.csv'\n",
      "Wrote 23 lines to: 'twitch-1_employees.csv'\n",
      "Wrote 24 lines to: 'twitch-1_employees.csv'\n",
      "Wrote 25 lines to: 'twitch-1_employees.csv'\n",
      "Wrote 26 lines to: 'twitch-1_employees.csv'\n",
      "Wrote 27 lines to: 'twitch-1_employees.csv'\n",
      "Wrote 28 lines to: 'twitch-1_employees.csv'\n",
      "Wrote 29 lines to: 'twitch-1_employees.csv'\n",
      "Wrote 30 lines to: 'twitch-1_employees.csv'\n",
      "Wrote 31 lines to: 'twitch-1_employees.csv'\n",
      "Wrote 32 lines to: 'twitch-1_employees.csv'\n",
      "Wrote 33 lines to: 'twitch-1_employees.csv'\n",
      "Wrote 34 lines to: 'twitch-1_employees.csv'\n",
      "Wrote 35 lines to: 'twitch-1_employees.csv'\n",
      "Wrote 36 lines to: 'twitch-1_employees.csv'\n",
      "Wrote 37 lines to: 'twitch-1_employees.csv'\n",
      "Wrote 38 lines to: 'twitch-1_employees.csv'\n",
      "Wrote 39 lines to: 'twitch-1_employees.csv'\n",
      "Wrote 40 lines to: 'twitch-1_employees.csv'\n",
      "Wrote 41 lines to: 'twitch-1_employees.csv'\n",
      "Wrote 42 lines to: 'twitch-1_employees.csv'\n",
      "Wrote 43 lines to: 'twitch-1_employees.csv'\n",
      "Wrote 44 lines to: 'twitch-1_employees.csv'\n",
      "Wrote 45 lines to: 'twitch-1_employees.csv'\n",
      "Wrote 46 lines to: 'twitch-1_employees.csv'\n",
      "Wrote 47 lines to: 'twitch-1_employees.csv'\n",
      "Wrote 48 lines to: 'twitch-1_employees.csv'\n",
      "Wrote 49 lines to: 'twitch-1_employees.csv'\n",
      "Wrote 50 lines to: 'twitch-1_employees.csv'\n",
      "Wrote 51 lines to: 'twitch-1_employees.csv'\n",
      "Wrote 52 lines to: 'twitch-1_employees.csv'\n",
      "Wrote 53 lines to: 'twitch-1_employees.csv'\n",
      "Wrote 54 lines to: 'twitch-1_employees.csv'\n",
      "Wrote 55 lines to: 'twitch-1_employees.csv'\n",
      "Wrote 56 lines to: 'twitch-1_employees.csv'\n",
      "Wrote 57 lines to: 'twitch-1_employees.csv'\n",
      "Wrote 58 lines to: 'twitch-1_employees.csv'\n",
      "Wrote 59 lines to: 'twitch-1_employees.csv'\n",
      "Wrote 60 lines to: 'twitch-1_employees.csv'\n",
      "Wrote 61 lines to: 'twitch-1_employees.csv'\n",
      "Wrote 62 lines to: 'twitch-1_employees.csv'\n",
      "Wrote 63 lines to: 'twitch-1_employees.csv'\n",
      "Wrote 64 lines to: 'twitch-1_employees.csv'\n",
      "Wrote 65 lines to: 'twitch-1_employees.csv'\n",
      "Wrote 66 lines to: 'twitch-1_employees.csv'\n",
      "Wrote 67 lines to: 'twitch-1_employees.csv'\n",
      "Wrote 68 lines to: 'twitch-1_employees.csv'\n",
      "Wrote 69 lines to: 'twitch-1_employees.csv'\n",
      "Wrote 70 lines to: 'twitch-1_employees.csv'\n",
      "Wrote 71 lines to: 'twitch-1_employees.csv'\n",
      "Wrote 72 lines to: 'twitch-1_employees.csv'\n",
      "Wrote 73 lines to: 'twitch-1_employees.csv'\n",
      "Wrote 74 lines to: 'twitch-1_employees.csv'\n",
      "Wrote 75 lines to: 'twitch-1_employees.csv'\n",
      "Wrote 76 lines to: 'twitch-1_employees.csv'\n",
      "Wrote 77 lines to: 'twitch-1_employees.csv'\n",
      "Wrote 78 lines to: 'twitch-1_employees.csv'\n",
      "Wrote 79 lines to: 'twitch-1_employees.csv'\n",
      "Wrote 80 lines to: 'twitch-1_employees.csv'\n",
      "Wrote 81 lines to: 'twitch-1_employees.csv'\n",
      "Wrote 82 lines to: 'twitch-1_employees.csv'\n",
      "Wrote 83 lines to: 'twitch-1_employees.csv'\n",
      "Wrote 84 lines to: 'twitch-1_employees.csv'\n",
      "Wrote 85 lines to: 'twitch-1_employees.csv'\n",
      "Wrote 86 lines to: 'twitch-1_employees.csv'\n",
      "Wrote 87 lines to: 'twitch-1_employees.csv'\n",
      "Wrote 88 lines to: 'twitch-1_employees.csv'\n",
      "Wrote 89 lines to: 'twitch-1_employees.csv'\n",
      "Wrote 90 lines to: 'twitch-1_employees.csv'\n",
      "Wrote 91 lines to: 'twitch-1_employees.csv'\n",
      "Wrote 92 lines to: 'twitch-1_employees.csv'\n",
      "Wrote 93 lines to: 'twitch-1_employees.csv'\n",
      "Wrote 94 lines to: 'twitch-1_employees.csv'\n",
      "Wrote 95 lines to: 'twitch-1_employees.csv'\n",
      "Wrote 96 lines to: 'twitch-1_employees.csv'\n",
      "Wrote 97 lines to: 'twitch-1_employees.csv'\n",
      "Wrote 98 lines to: 'twitch-1_employees.csv'\n",
      "Wrote 99 lines to: 'twitch-1_employees.csv'\n",
      "Wrote 100 lines to: 'twitch-1_employees.csv'\n",
      "Wrote 101 lines to: 'twitch-1_employees.csv'\n",
      "Wrote 102 lines to: 'twitch-1_employees.csv'\n",
      "Wrote 103 lines to: 'twitch-1_employees.csv'\n",
      "Wrote 104 lines to: 'twitch-1_employees.csv'\n",
      "Wrote 105 lines to: 'twitch-1_employees.csv'\n",
      "Wrote 106 lines to: 'twitch-1_employees.csv'\n",
      "Wrote 107 lines to: 'twitch-1_employees.csv'\n",
      "Wrote 108 lines to: 'twitch-1_employees.csv'\n",
      "Wrote 109 lines to: 'twitch-1_employees.csv'\n",
      "Wrote 110 lines to: 'twitch-1_employees.csv'\n",
      "Wrote 111 lines to: 'twitch-1_employees.csv'\n",
      "Wrote 112 lines to: 'twitch-1_employees.csv'\n",
      "Wrote 113 lines to: 'twitch-1_employees.csv'\n",
      "Wrote 114 lines to: 'twitch-1_employees.csv'\n",
      "Wrote 115 lines to: 'twitch-1_employees.csv'\n",
      "Wrote 116 lines to: 'twitch-1_employees.csv'\n",
      "Wrote 117 lines to: 'twitch-1_employees.csv'\n",
      "Wrote 118 lines to: 'twitch-1_employees.csv'\n",
      "Wrote 119 lines to: 'twitch-1_employees.csv'\n",
      "Wrote 120 lines to: 'twitch-1_employees.csv'\n",
      "Wrote 121 lines to: 'twitch-1_employees.csv'\n",
      "Wrote 122 lines to: 'twitch-1_employees.csv'\n",
      "Wrote 123 lines to: 'twitch-1_employees.csv'\n",
      "Wrote 124 lines to: 'twitch-1_employees.csv'\n",
      "Wrote 125 lines to: 'twitch-1_employees.csv'\n",
      "Wrote 126 lines to: 'twitch-1_employees.csv'\n",
      "Wrote 127 lines to: 'twitch-1_employees.csv'\n",
      "Wrote 128 lines to: 'twitch-1_employees.csv'\n",
      "Wrote 129 lines to: 'twitch-1_employees.csv'\n",
      "Wrote 130 lines to: 'twitch-1_employees.csv'\n",
      "Wrote 131 lines to: 'twitch-1_employees.csv'\n",
      "Wrote 132 lines to: 'twitch-1_employees.csv'\n",
      "Wrote 133 lines to: 'twitch-1_employees.csv'\n",
      "Wrote 134 lines to: 'twitch-1_employees.csv'\n",
      "Wrote 135 lines to: 'twitch-1_employees.csv'\n",
      "Wrote 136 lines to: 'twitch-1_employees.csv'\n",
      "Wrote 137 lines to: 'twitch-1_employees.csv'\n",
      "Wrote 138 lines to: 'twitch-1_employees.csv'\n",
      "Wrote 139 lines to: 'twitch-1_employees.csv'\n",
      "Wrote 140 lines to: 'twitch-1_employees.csv'\n",
      "Wrote 141 lines to: 'twitch-1_employees.csv'\n",
      "Wrote 142 lines to: 'twitch-1_employees.csv'\n",
      "Wrote 143 lines to: 'twitch-1_employees.csv'\n",
      "Wrote 144 lines to: 'twitch-1_employees.csv'\n",
      "Wrote 145 lines to: 'twitch-1_employees.csv'\n",
      "Wrote 146 lines to: 'twitch-1_employees.csv'\n",
      "Wrote 147 lines to: 'twitch-1_employees.csv'\n",
      "Wrote 148 lines to: 'twitch-1_employees.csv'\n",
      "Wrote 149 lines to: 'twitch-1_employees.csv'\n",
      "Wrote 150 lines to: 'twitch-1_employees.csv'\n",
      "Wrote 151 lines to: 'twitch-1_employees.csv'\n",
      "Wrote 152 lines to: 'twitch-1_employees.csv'\n",
      "Wrote 153 lines to: 'twitch-1_employees.csv'\n",
      "Wrote 154 lines to: 'twitch-1_employees.csv'\n",
      "Wrote 155 lines to: 'twitch-1_employees.csv'\n",
      "Wrote 156 lines to: 'twitch-1_employees.csv'\n",
      "Wrote 157 lines to: 'twitch-1_employees.csv'\n",
      "Wrote 158 lines to: 'twitch-1_employees.csv'\n",
      "Wrote 159 lines to: 'twitch-1_employees.csv'\n",
      "Wrote 160 lines to: 'twitch-1_employees.csv'\n",
      "Wrote 161 lines to: 'twitch-1_employees.csv'\n",
      "Wrote 162 lines to: 'twitch-1_employees.csv'\n",
      "Wrote 163 lines to: 'twitch-1_employees.csv'\n",
      "Wrote 164 lines to: 'twitch-1_employees.csv'\n",
      "Wrote 165 lines to: 'twitch-1_employees.csv'\n",
      "Wrote 166 lines to: 'twitch-1_employees.csv'\n",
      "Wrote 167 lines to: 'twitch-1_employees.csv'\n",
      "Wrote 168 lines to: 'twitch-1_employees.csv'\n",
      "Wrote 169 lines to: 'twitch-1_employees.csv'\n",
      "Wrote 170 lines to: 'twitch-1_employees.csv'\n",
      "Wrote 171 lines to: 'twitch-1_employees.csv'\n",
      "Wrote 172 lines to: 'twitch-1_employees.csv'\n",
      "Wrote 173 lines to: 'twitch-1_employees.csv'\n",
      "Wrote 174 lines to: 'twitch-1_employees.csv'\n",
      "Wrote 175 lines to: 'twitch-1_employees.csv'\n",
      "Wrote 176 lines to: 'twitch-1_employees.csv'\n",
      "Wrote 177 lines to: 'twitch-1_employees.csv'\n",
      "Wrote 178 lines to: 'twitch-1_employees.csv'\n",
      "Wrote 179 lines to: 'twitch-1_employees.csv'\n",
      "Wrote 180 lines to: 'twitch-1_employees.csv'\n",
      "Wrote 181 lines to: 'twitch-1_employees.csv'\n",
      "Wrote 182 lines to: 'twitch-1_employees.csv'\n",
      "Wrote 183 lines to: 'twitch-1_employees.csv'\n",
      "Wrote 184 lines to: 'twitch-1_employees.csv'\n",
      "Wrote 185 lines to: 'twitch-1_employees.csv'\n",
      "Wrote 186 lines to: 'twitch-1_employees.csv'\n",
      "Wrote 187 lines to: 'twitch-1_employees.csv'\n",
      "Wrote 188 lines to: 'twitch-1_employees.csv'\n",
      "Wrote 189 lines to: 'twitch-1_employees.csv'\n",
      "Wrote 190 lines to: 'twitch-1_employees.csv'\n",
      "Wrote 191 lines to: 'twitch-1_employees.csv'\n",
      "Wrote 192 lines to: 'twitch-1_employees.csv'\n",
      "Wrote 193 lines to: 'twitch-1_employees.csv'\n",
      "Wrote 194 lines to: 'twitch-1_employees.csv'\n",
      "Wrote 195 lines to: 'twitch-1_employees.csv'\n",
      "Wrote 196 lines to: 'twitch-1_employees.csv'\n",
      "Wrote 197 lines to: 'twitch-1_employees.csv'\n",
      "Wrote 198 lines to: 'twitch-1_employees.csv'\n",
      "Wrote 199 lines to: 'twitch-1_employees.csv'\n",
      "Wrote 200 lines to: 'twitch-1_employees.csv'\n",
      "Wrote 201 lines to: 'twitch-1_employees.csv'\n",
      "Wrote 202 lines to: 'twitch-1_employees.csv'\n",
      "Wrote 203 lines to: 'twitch-1_employees.csv'\n",
      "Wrote 204 lines to: 'twitch-1_employees.csv'\n",
      "Wrote 205 lines to: 'twitch-1_employees.csv'\n",
      "Wrote 206 lines to: 'twitch-1_employees.csv'\n",
      "Wrote 207 lines to: 'twitch-1_employees.csv'\n",
      "Wrote 208 lines to: 'twitch-1_employees.csv'\n",
      "Wrote 209 lines to: 'twitch-1_employees.csv'\n",
      "Wrote 210 lines to: 'twitch-1_employees.csv'\n",
      "Wrote 211 lines to: 'twitch-1_employees.csv'\n",
      "Wrote 212 lines to: 'twitch-1_employees.csv'\n",
      "Wrote 213 lines to: 'twitch-1_employees.csv'\n",
      "Wrote 214 lines to: 'twitch-1_employees.csv'\n",
      "Wrote 215 lines to: 'twitch-1_employees.csv'\n",
      "Wrote 216 lines to: 'twitch-1_employees.csv'\n",
      "Wrote 217 lines to: 'twitch-1_employees.csv'\n",
      "Wrote 218 lines to: 'twitch-1_employees.csv'\n",
      "Wrote 219 lines to: 'twitch-1_employees.csv'\n",
      "Wrote 220 lines to: 'twitch-1_employees.csv'\n",
      "Wrote 221 lines to: 'twitch-1_employees.csv'\n",
      "Wrote 222 lines to: 'twitch-1_employees.csv'\n",
      "Wrote 223 lines to: 'twitch-1_employees.csv'\n",
      "Wrote 224 lines to: 'twitch-1_employees.csv'\n",
      "Wrote 225 lines to: 'twitch-1_employees.csv'\n",
      "Wrote 226 lines to: 'twitch-1_employees.csv'\n",
      "Wrote 227 lines to: 'twitch-1_employees.csv'\n",
      "Wrote 228 lines to: 'twitch-1_employees.csv'\n",
      "Wrote 229 lines to: 'twitch-1_employees.csv'\n",
      "Wrote 230 lines to: 'twitch-1_employees.csv'\n",
      "Wrote 231 lines to: 'twitch-1_employees.csv'\n",
      "Wrote 232 lines to: 'twitch-1_employees.csv'\n",
      "Wrote 233 lines to: 'twitch-1_employees.csv'\n",
      "Wrote 234 lines to: 'twitch-1_employees.csv'\n",
      "Wrote 235 lines to: 'twitch-1_employees.csv'\n",
      "Wrote 236 lines to: 'twitch-1_employees.csv'\n",
      "Wrote 237 lines to: 'twitch-1_employees.csv'\n",
      "Wrote 238 lines to: 'twitch-1_employees.csv'\n",
      "Wrote 239 lines to: 'twitch-1_employees.csv'\n",
      "Wrote 240 lines to: 'twitch-1_employees.csv'\n",
      "Wrote 241 lines to: 'twitch-1_employees.csv'\n",
      "Wrote 242 lines to: 'twitch-1_employees.csv'\n",
      "Wrote 243 lines to: 'twitch-1_employees.csv'\n",
      "Wrote 244 lines to: 'twitch-1_employees.csv'\n",
      "Wrote 245 lines to: 'twitch-1_employees.csv'\n",
      "Wrote 246 lines to: 'twitch-1_employees.csv'\n",
      "Wrote 247 lines to: 'twitch-1_employees.csv'\n",
      "Wrote 248 lines to: 'twitch-1_employees.csv'\n",
      "Wrote 249 lines to: 'twitch-1_employees.csv'\n",
      "Wrote 250 lines to: 'twitch-1_employees.csv'\n",
      "Wrote 251 lines to: 'twitch-1_employees.csv'\n",
      "Wrote 252 lines to: 'twitch-1_employees.csv'\n",
      "Wrote 253 lines to: 'twitch-1_employees.csv'\n",
      "Wrote 254 lines to: 'twitch-1_employees.csv'\n",
      "Wrote 255 lines to: 'twitch-1_employees.csv'\n",
      "Wrote 256 lines to: 'twitch-1_employees.csv'\n",
      "Wrote 257 lines to: 'twitch-1_employees.csv'\n",
      "Wrote 258 lines to: 'twitch-1_employees.csv'\n",
      "Wrote 259 lines to: 'twitch-1_employees.csv'\n",
      "Wrote 260 lines to: 'twitch-1_employees.csv'\n",
      "Wrote 261 lines to: 'twitch-1_employees.csv'\n",
      "Wrote 262 lines to: 'twitch-1_employees.csv'\n",
      "Wrote 263 lines to: 'twitch-1_employees.csv'\n",
      "Wrote 264 lines to: 'twitch-1_employees.csv'\n",
      "Wrote 265 lines to: 'twitch-1_employees.csv'\n",
      "Wrote 266 lines to: 'twitch-1_employees.csv'\n",
      "Wrote 267 lines to: 'twitch-1_employees.csv'\n",
      "Wrote 268 lines to: 'twitch-1_employees.csv'\n",
      "Wrote 269 lines to: 'twitch-1_employees.csv'\n",
      "Wrote 270 lines to: 'twitch-1_employees.csv'\n",
      "Wrote 271 lines to: 'twitch-1_employees.csv'\n",
      "Wrote 272 lines to: 'twitch-1_employees.csv'\n",
      "Wrote 273 lines to: 'twitch-1_employees.csv'\n",
      "Wrote 274 lines to: 'twitch-1_employees.csv'\n",
      "Wrote 275 lines to: 'twitch-1_employees.csv'\n",
      "Wrote 276 lines to: 'twitch-1_employees.csv'\n",
      "Wrote 277 lines to: 'twitch-1_employees.csv'\n",
      "Wrote 278 lines to: 'twitch-1_employees.csv'\n",
      "Wrote 279 lines to: 'twitch-1_employees.csv'\n",
      "Wrote 280 lines to: 'twitch-1_employees.csv'\n",
      "Wrote 281 lines to: 'twitch-1_employees.csv'\n",
      "Wrote 282 lines to: 'twitch-1_employees.csv'\n",
      "Wrote 283 lines to: 'twitch-1_employees.csv'\n",
      "Wrote 284 lines to: 'twitch-1_employees.csv'\n",
      "Wrote 285 lines to: 'twitch-1_employees.csv'\n",
      "Wrote 286 lines to: 'twitch-1_employees.csv'\n",
      "Wrote 287 lines to: 'twitch-1_employees.csv'\n",
      "Wrote 288 lines to: 'twitch-1_employees.csv'\n",
      "Wrote 289 lines to: 'twitch-1_employees.csv'\n",
      "Wrote 290 lines to: 'twitch-1_employees.csv'\n",
      "Wrote 291 lines to: 'twitch-1_employees.csv'\n",
      "Wrote 292 lines to: 'twitch-1_employees.csv'\n",
      "Wrote 293 lines to: 'twitch-1_employees.csv'\n",
      "Wrote 294 lines to: 'twitch-1_employees.csv'\n",
      "Wrote 295 lines to: 'twitch-1_employees.csv'\n",
      "Wrote 296 lines to: 'twitch-1_employees.csv'\n",
      "Wrote 297 lines to: 'twitch-1_employees.csv'\n",
      "Wrote 298 lines to: 'twitch-1_employees.csv'\n",
      "Wrote 299 lines to: 'twitch-1_employees.csv'\n",
      "Wrote 300 lines to: 'twitch-1_employees.csv'\n",
      "Wrote 301 lines to: 'twitch-1_employees.csv'\n",
      "Wrote 302 lines to: 'twitch-1_employees.csv'\n",
      "Wrote 303 lines to: 'twitch-1_employees.csv'\n",
      "Wrote 304 lines to: 'twitch-1_employees.csv'\n",
      "Wrote 305 lines to: 'twitch-1_employees.csv'\n",
      "Wrote 306 lines to: 'twitch-1_employees.csv'\n",
      "Wrote 307 lines to: 'twitch-1_employees.csv'\n",
      "Wrote 308 lines to: 'twitch-1_employees.csv'\n",
      "Wrote 309 lines to: 'twitch-1_employees.csv'\n",
      "Wrote 310 lines to: 'twitch-1_employees.csv'\n",
      "Wrote 311 lines to: 'twitch-1_employees.csv'\n",
      "Wrote 312 lines to: 'twitch-1_employees.csv'\n",
      "Wrote 313 lines to: 'twitch-1_employees.csv'\n",
      "Wrote 314 lines to: 'twitch-1_employees.csv'\n",
      "Wrote 315 lines to: 'twitch-1_employees.csv'\n",
      "Wrote 316 lines to: 'twitch-1_employees.csv'\n",
      "Wrote 317 lines to: 'twitch-1_employees.csv'\n",
      "Wrote 318 lines to: 'twitch-1_employees.csv'\n",
      "Wrote 319 lines to: 'twitch-1_employees.csv'\n",
      "Wrote 320 lines to: 'twitch-1_employees.csv'\n",
      "Wrote 321 lines to: 'twitch-1_employees.csv'\n",
      "Wrote 322 lines to: 'twitch-1_employees.csv'\n",
      "Wrote 323 lines to: 'twitch-1_employees.csv'\n",
      "Wrote 324 lines to: 'twitch-1_employees.csv'\n",
      "Wrote 325 lines to: 'twitch-1_employees.csv'\n",
      "Wrote 326 lines to: 'twitch-1_employees.csv'\n",
      "Wrote 327 lines to: 'twitch-1_employees.csv'\n",
      "Wrote 328 lines to: 'twitch-1_employees.csv'\n",
      "Wrote 329 lines to: 'twitch-1_employees.csv'\n",
      "Wrote 330 lines to: 'twitch-1_employees.csv'\n",
      "Wrote 331 lines to: 'twitch-1_employees.csv'\n",
      "Wrote 332 lines to: 'twitch-1_employees.csv'\n",
      "Wrote 333 lines to: 'twitch-1_employees.csv'\n",
      "Wrote 334 lines to: 'twitch-1_employees.csv'\n",
      "Wrote 335 lines to: 'twitch-1_employees.csv'\n",
      "Wrote 336 lines to: 'twitch-1_employees.csv'\n",
      "Wrote 337 lines to: 'twitch-1_employees.csv'\n",
      "Wrote 338 lines to: 'twitch-1_employees.csv'\n",
      "Wrote 339 lines to: 'twitch-1_employees.csv'\n",
      "Wrote 340 lines to: 'twitch-1_employees.csv'\n",
      "Wrote 341 lines to: 'twitch-1_employees.csv'\n",
      "Wrote 342 lines to: 'twitch-1_employees.csv'\n",
      "Wrote 343 lines to: 'twitch-1_employees.csv'\n",
      "Wrote 344 lines to: 'twitch-1_employees.csv'\n",
      "Wrote 345 lines to: 'twitch-1_employees.csv'\n",
      "Wrote 346 lines to: 'twitch-1_employees.csv'\n",
      "Wrote 347 lines to: 'twitch-1_employees.csv'\n",
      "Wrote 348 lines to: 'twitch-1_employees.csv'\n",
      "Wrote 349 lines to: 'twitch-1_employees.csv'\n",
      "Wrote 350 lines to: 'twitch-1_employees.csv'\n",
      "Wrote 351 lines to: 'twitch-1_employees.csv'\n",
      "Wrote 352 lines to: 'twitch-1_employees.csv'\n",
      "Wrote 353 lines to: 'twitch-1_employees.csv'\n",
      "Wrote 354 lines to: 'twitch-1_employees.csv'\n",
      "Wrote 355 lines to: 'twitch-1_employees.csv'\n",
      "Wrote 356 lines to: 'twitch-1_employees.csv'\n",
      "Wrote 357 lines to: 'twitch-1_employees.csv'\n",
      "Wrote 358 lines to: 'twitch-1_employees.csv'\n",
      "Wrote 359 lines to: 'twitch-1_employees.csv'\n",
      "Wrote 360 lines to: 'twitch-1_employees.csv'\n",
      "Wrote 361 lines to: 'twitch-1_employees.csv'\n",
      "Wrote 362 lines to: 'twitch-1_employees.csv'\n",
      "Wrote 363 lines to: 'twitch-1_employees.csv'\n",
      "Wrote 364 lines to: 'twitch-1_employees.csv'\n",
      "Wrote 365 lines to: 'twitch-1_employees.csv'\n",
      "Wrote 366 lines to: 'twitch-1_employees.csv'\n",
      "Wrote 367 lines to: 'twitch-1_employees.csv'\n",
      "Wrote 368 lines to: 'twitch-1_employees.csv'\n",
      "Wrote 369 lines to: 'twitch-1_employees.csv'\n",
      "Wrote 370 lines to: 'twitch-1_employees.csv'\n",
      "Wrote 371 lines to: 'twitch-1_employees.csv'\n",
      "Wrote 372 lines to: 'twitch-1_employees.csv'\n",
      "Wrote 373 lines to: 'twitch-1_employees.csv'\n",
      "Wrote 374 lines to: 'twitch-1_employees.csv'\n",
      "Wrote 375 lines to: 'twitch-1_employees.csv'\n",
      "Wrote 376 lines to: 'twitch-1_employees.csv'\n",
      "Wrote 377 lines to: 'twitch-1_employees.csv'\n",
      "Wrote 378 lines to: 'twitch-1_employees.csv'\n",
      "Wrote 379 lines to: 'twitch-1_employees.csv'\n",
      "Wrote 380 lines to: 'twitch-1_employees.csv'\n",
      "Wrote 381 lines to: 'twitch-1_employees.csv'\n",
      "Wrote 382 lines to: 'twitch-1_employees.csv'\n",
      "Wrote 383 lines to: 'twitch-1_employees.csv'\n",
      "Wrote 384 lines to: 'twitch-1_employees.csv'\n",
      "Wrote 385 lines to: 'twitch-1_employees.csv'\n",
      "Wrote 386 lines to: 'twitch-1_employees.csv'\n",
      "Wrote 387 lines to: 'twitch-1_employees.csv'\n",
      "Wrote 388 lines to: 'twitch-1_employees.csv'\n",
      "Wrote 389 lines to: 'twitch-1_employees.csv'\n",
      "Wrote 390 lines to: 'twitch-1_employees.csv'\n",
      "Wrote 391 lines to: 'twitch-1_employees.csv'\n",
      "Wrote 392 lines to: 'twitch-1_employees.csv'\n",
      "Wrote 393 lines to: 'twitch-1_employees.csv'\n",
      "Wrote 394 lines to: 'twitch-1_employees.csv'\n",
      "Wrote 395 lines to: 'twitch-1_employees.csv'\n",
      "Wrote 396 lines to: 'twitch-1_employees.csv'\n",
      "Wrote 397 lines to: 'twitch-1_employees.csv'\n",
      "Wrote 398 lines to: 'twitch-1_employees.csv'\n",
      "Wrote 399 lines to: 'twitch-1_employees.csv'\n",
      "Wrote 400 lines to: 'twitch-1_employees.csv'\n",
      "Wrote 401 lines to: 'twitch-1_employees.csv'\n"
     ]
    },
    {
     "data": {
      "application/vnd.plotly.v1+json": {
       "config": {
        "plotlyServerURL": "https://plot.ly"
       },
       "data": [
        {
         "coloraxis": "coloraxis",
         "customdata": [
          [
           "event director"
          ],
          [
           "sales development manager"
          ],
          [
           "principal software engineer"
          ],
          [
           "vice president, research and data"
          ],
          [
           "technical operations lead, adops"
          ],
          [
           "birds"
          ],
          [
           "partner"
          ],
          [
           "director of localization"
          ],
          [
           "lead automation engineer"
          ],
          [
           "program manager, ad products"
          ],
          [
           "senior network capacity engineer"
          ],
          [
           "director of engineering, browser clients"
          ],
          [
           "lead web platform engineer"
          ],
          [
           "head of commerce machine learning"
          ],
          [
           "senior software engineer"
          ],
          [
           "engineering manager @ twitch"
          ],
          [
           "senior engineering manager"
          ],
          [
           "senior vice president, revenue"
          ],
          [
           "creative director"
          ],
          [
           "director, advanced media services"
          ],
          [
           "senior program manager - monetization strategy and operations"
          ],
          [
           "campaign manager"
          ],
          [
           "senior devops engineer"
          ],
          [
           "qa analyst"
          ],
          [
           "senior technical program manager"
          ],
          [
           "senior director, global head of strategic programs and culture"
          ],
          [
           "lead software engineer"
          ],
          [
           "vice president of communications @ twitch"
          ],
          [
           "vice president, strategy and analytics"
          ],
          [
           "senior manager, early career talent"
          ],
          [
           "senior applied scientist"
          ],
          [
           "salesforce administrator"
          ],
          [
           "director business strategy"
          ],
          [
           "independent affiliate"
          ],
          [
           "senior software engineer"
          ],
          [
           "senior product manager, technical"
          ],
          [
           "president twitch interactive, leading product, engineering and go to market functions"
          ],
          [
           "software engineering manager"
          ],
          [
           "director of technical program management"
          ],
          [
           "senior people business partner"
          ],
          [
           "senior software engineer"
          ],
          [
           "senior label relations lead"
          ],
          [
           "head of music product marketing"
          ],
          [
           "recruiting manager"
          ],
          [
           "senior software engineer"
          ],
          [
           "developer advocacy lead"
          ],
          [
           "senior manager"
          ],
          [
           "engineering manager"
          ],
          [
           "broadcast production manager"
          ],
          [
           "senior software development engineer"
          ],
          [
           "senior data scientist, analytics"
          ],
          [
           "director, original content business operations"
          ],
          [
           "ios engineer"
          ],
          [
           "director of creator development"
          ],
          [
           "full time streamer"
          ],
          [
           "software engineer"
          ],
          [
           "software engineer"
          ],
          [
           "product marketing manager, creators"
          ],
          [
           "senior analyst"
          ],
          [
           "director, client strategy"
          ],
          [
           "software engineering manager"
          ],
          [
           "backend software engineer"
          ],
          [
           "director - client strategy"
          ],
          [
           "production lead - u.s."
          ],
          [
           "director and leader, developer hub and insights"
          ],
          [
           "senior strategy and operations manager"
          ],
          [
           "partnership associate"
          ],
          [
           "senior manager of audience insights manager"
          ],
          [
           "user experience designer"
          ],
          [
           "independent affiliate"
          ],
          [
           "twitch content creator"
          ],
          [
           "global manager of analytics and insights"
          ],
          [
           "director, client strategy"
          ],
          [
           "senior software development engineer"
          ],
          [
           "senior business development manager, alliances and corporate development"
          ],
          [
           "software engineer"
          ],
          [
           "head of music licensing and label relations"
          ],
          [
           "senior director of engineering, creator tools"
          ],
          [
           "executive coach | operator | advisor"
          ],
          [
           "senior release manager"
          ],
          [
           "senior data scientist, ad product"
          ],
          [
           "video devops engineer"
          ],
          [
           "senior systems developer"
          ],
          [
           "head of operations for content, bd and partnerships"
          ],
          [
           "director of tpm and pmo at twitch's video platform and interactive video service"
          ],
          [
           "senior product manager"
          ],
          [
           "head of esports and content production, executive producer twitch rivals"
          ],
          [
           "technical program manager"
          ],
          [
           "senior accounting manager"
          ],
          [
           "twitch partner"
          ],
          [
           "head of dei marketing"
          ],
          [
           "strategy and revenue operations"
          ],
          [
           "front end developer"
          ],
          [
           "platform engineer"
          ],
          [
           "esports production operations manager"
          ],
          [
           "senior software engineer"
          ],
          [
           "security engineer"
          ],
          [
           "principal software engineer"
          ],
          [
           "software engineer"
          ],
          [
           "senior technical program manager"
          ],
          [
           "program manager"
          ],
          [
           "information security engineer"
          ],
          [
           "salesforce technical architect"
          ],
          [
           "product marketing and community strategy"
          ],
          [
           "director, client strategy"
          ],
          [
           "twitch affiliate streamer"
          ],
          [
           "esports competition manager"
          ],
          [
           "senior director of advertising finance"
          ],
          [
           "manager, client success east"
          ],
          [
           "senior client strategist"
          ],
          [
           "web developer"
          ],
          [
           "senior technical program manager"
          ],
          [
           "tpm"
          ],
          [
           "affiliated entertainer"
          ],
          [
           "information technology consultant"
          ],
          [
           "senior director, content programming"
          ],
          [
           "ios engineer"
          ],
          [
           "senior software engineer, aws interactive video service"
          ],
          [
           "principal product manager - machine learning"
          ],
          [
           "director of engineering, infrastructure and tools"
          ],
          [
           "partnered streamer"
          ],
          [
           "data science manager"
          ],
          [
           "artist"
          ],
          [
           "twitch partner"
          ],
          [
           "content creator"
          ],
          [
           "growth product"
          ],
          [
           "senior quantitative researcher"
          ],
          [
           "senior software engineer"
          ],
          [
           "engineering manager"
          ],
          [
           "client success manager"
          ],
          [
           "vice president, head of finance, strategy and corporate development"
          ],
          [
           "legal operations manager"
          ],
          [
           "visual designer"
          ],
          [
           "entertainer and content creator"
          ],
          [
           "senior security engineer"
          ],
          [
           "senior technical program manager"
          ],
          [
           "manager, executive recruiter"
          ],
          [
           "director, client strategy"
          ],
          [
           "director - client strategy"
          ],
          [
           "director, content acquisition"
          ],
          [
           "streamer"
          ],
          [
           "content creator"
          ],
          [
           "director, client strategy"
          ],
          [
           "twitch affiliate streamer"
          ],
          [
           "broadcaster"
          ],
          [
           "creative strategist"
          ],
          [
           "streamer"
          ],
          [
           "senior partner marketing manager"
          ],
          [
           "content creator and affiliate"
          ],
          [
           "twitch affiliate"
          ],
          [
           "affiliate"
          ],
          [
           "influencer relations manager"
          ],
          [
           "design manager"
          ],
          [
           "senior client success manager"
          ],
          [
           "twitch streamer"
          ],
          [
           "director, client strategy"
          ],
          [
           "artist account manager"
          ],
          [
           "technical writer"
          ],
          [
           "software engineer"
          ],
          [
           "software engineer ii"
          ],
          [
           "senior technical pm and platform product manager"
          ],
          [
           "software engineer"
          ],
          [
           "content creator"
          ],
          [
           "software development engineer"
          ],
          [
           "senior production manager-events"
          ],
          [
           "director of community data"
          ],
          [
           "software development manager"
          ],
          [
           "engineering manager"
          ],
          [
           "affiliate streamer"
          ],
          [
           "senior program manager, new product operations"
          ],
          [
           "software engineer"
          ],
          [
           "program activation manager"
          ],
          [
           "producer and production manager"
          ],
          [
           "streamer and content creator"
          ],
          [
           "senior network provisioner"
          ],
          [
           "broadcaster"
          ],
          [
           "marketing campaign manager, sports"
          ],
          [
           "content creator"
          ],
          [
           "systems engineer"
          ],
          [
           "software engineer"
          ],
          [
           "software engineer"
          ],
          [
           "affiliate broadcaster"
          ],
          [
           "head of music and sports marketing"
          ],
          [
           "director, content acquisition"
          ],
          [
           "safety specialist"
          ],
          [
           "senior user experience researcher"
          ],
          [
           "head of strategic partnerships"
          ],
          [
           "software development engineer"
          ],
          [
           "freelance creative director"
          ],
          [
           "senior social strategist"
          ],
          [
           "talent management program manager"
          ],
          [
           "director, strategic partnerships"
          ],
          [
           "full stack engineer"
          ],
          [
           "embedded producer"
          ],
          [
           "content creator"
          ],
          [
           "streamer"
          ],
          [
           "game content creator - twitch streamer"
          ],
          [
           "freelance esports and gaming broadcaster for the greater houston area"
          ],
          [
           "software engineer"
          ],
          [
           "content creator"
          ],
          [
           "senior vice president, growth initiatives"
          ],
          [
           "director, aws ivs and twitch-video"
          ],
          [
           "twitch affiliate and community builder"
          ],
          [
           "twitch affiliate"
          ],
          [
           "principal pmm @ twitch"
          ],
          [
           "self employed"
          ],
          [
           "japan controller"
          ],
          [
           "software"
          ],
          [
           "pirate stream queen, affiliate"
          ],
          [
           "freelance streamer"
          ],
          [
           "software development engineer"
          ],
          [
           "business operations specialist, global infrastructure"
          ],
          [
           "partner"
          ],
          [
           "twitch affiliate"
          ],
          [
           "affiliate"
          ],
          [
           "finance manager"
          ],
          [
           "twitch afilliate"
          ],
          [
           "human resources business systems analyst and program lead"
          ],
          [
           "business development manager, alliances"
          ],
          [
           "senior operations manager"
          ],
          [
           "senior software engineer technical lead - twitch studio"
          ],
          [
           "streamer"
          ],
          [
           "engineer"
          ],
          [
           "designer"
          ],
          [
           "director, client strategy"
          ],
          [
           "broadcaster"
          ],
          [
           "content creator"
          ],
          [
           "application engineer"
          ],
          [
           "software engineer"
          ],
          [
           "streamer"
          ],
          [
           "vice president, monetization"
          ],
          [
           "broadcaster"
          ],
          [
           "entertainer"
          ],
          [
           null
          ],
          [
           "technical program manager"
          ],
          [
           "entertainer"
          ],
          [
           "brand manager"
          ],
          [
           "affiliate"
          ],
          [
           "customer experience - spanish"
          ],
          [
           "engineering manager"
          ],
          [
           "affiliate broadcaster"
          ],
          [
           "affiliate"
          ],
          [
           "senior application security engineer"
          ],
          [
           "contract administrator"
          ],
          [
           "broadcaster and affiliate"
          ],
          [
           "software engineer"
          ],
          [
           "affiliate"
          ],
          [
           "partnerships, content acquisition and development"
          ],
          [
           "manager of network engineering"
          ],
          [
           "broadcaster"
          ],
          [
           "technical capacity planner"
          ],
          [
           "twitch moderator"
          ],
          [
           "affiliate"
          ],
          [
           "full time streamer"
          ],
          [
           "broadcaster"
          ],
          [
           "streamer"
          ],
          [
           "twitch affiliate"
          ],
          [
           "streamer"
          ],
          [
           null
          ],
          [
           "content creator"
          ],
          [
           "affiliate"
          ],
          [
           "partner"
          ],
          [
           "affiliate"
          ],
          [
           "new media content creator"
          ],
          [
           "streamer"
          ],
          [
           "streamer"
          ],
          [
           "affiliate"
          ],
          [
           "broadcaster"
          ],
          [
           "affiliate"
          ],
          [
           "part time streamer"
          ],
          [
           "twitch streamer"
          ],
          [
           "steamer"
          ],
          [
           "affiliate"
          ],
          [
           "partner"
          ],
          [
           "content creator"
          ],
          [
           "affiliate"
          ],
          [
           "broadcaster"
          ],
          [
           "streamer"
          ],
          [
           "twitch.tv and rizzomf"
          ],
          [
           "software engineer"
          ],
          [
           "streamer"
          ],
          [
           "partnerships manager"
          ],
          [
           "affiliate"
          ],
          [
           "affiliate"
          ],
          [
           "digital artist"
          ],
          [
           "entertainer"
          ],
          [
           "streamer"
          ],
          [
           "partner"
          ],
          [
           "streamer"
          ],
          [
           null
          ],
          [
           "streamer"
          ],
          [
           "livestreamer"
          ],
          [
           "affiliate"
          ],
          [
           "affiliate"
          ],
          [
           "partner"
          ],
          [
           "broadcaster"
          ],
          [
           "affiliate"
          ],
          [
           "affliate streamer"
          ],
          [
           "streamer"
          ],
          [
           "content producer and presenter"
          ],
          [
           "affiliate"
          ],
          [
           "affiliate"
          ],
          [
           "affiliate"
          ],
          [
           "affiliate"
          ],
          [
           "steamer"
          ],
          [
           "twitch streamer"
          ],
          [
           "affiliate"
          ],
          [
           "content creator"
          ],
          [
           "partner"
          ],
          [
           "affiliate"
          ],
          [
           "streamer"
          ],
          [
           null
          ],
          [
           "broadcaster"
          ],
          [
           "streamer"
          ],
          [
           "live streamer"
          ],
          [
           "streamer and gamer"
          ],
          [
           "affiliate"
          ],
          [
           "partnered streamer"
          ],
          [
           "pro streamer"
          ],
          [
           "affiliate"
          ],
          [
           "affiliate streamer"
          ],
          [
           "broadcaster"
          ],
          [
           "guitar god"
          ],
          [
           "associate, pricing and yield management"
          ],
          [
           "streamer"
          ],
          [
           "entertainer"
          ],
          [
           "broadcaster"
          ],
          [
           "affiliate"
          ],
          [
           "broadcaster"
          ],
          [
           "affiliate"
          ],
          [
           "front desk associate"
          ],
          [
           "affiliate"
          ],
          [
           "partner"
          ],
          [
           "steamer"
          ],
          [
           "streamer"
          ],
          [
           "streamer"
          ],
          [
           "affiliate"
          ],
          [
           "affiliate"
          ],
          [
           "streamer"
          ],
          [
           "speed runner"
          ],
          [
           "affiliate"
          ],
          [
           "gamer"
          ],
          [
           "steamer"
          ],
          [
           "live-streamer and content creator"
          ],
          [
           null
          ],
          [
           "affiliate"
          ],
          [
           null
          ],
          [
           "mod"
          ],
          [
           null
          ],
          [
           "partnered streamer"
          ],
          [
           "entertainer"
          ],
          [
           "affiliate"
          ],
          [
           "steamer"
          ],
          [
           "steamer"
          ],
          [
           "steamer content creator"
          ],
          [
           "affiliate"
          ],
          [
           "affiliate"
          ],
          [
           "steamer"
          ],
          [
           "steamer"
          ],
          [
           "steamer"
          ],
          [
           null
          ],
          [
           "affiliate"
          ],
          [
           "affiliate"
          ],
          [
           "partner"
          ],
          [
           "streamer"
          ],
          [
           "affiliate"
          ],
          [
           "steamer"
          ],
          [
           "partnered streamer"
          ],
          [
           "steamer"
          ],
          [
           "broadcaster"
          ],
          [
           "streamer"
          ],
          [
           "streamer"
          ],
          [
           "streamer"
          ],
          [
           "affiliate"
          ],
          [
           "affiliate"
          ],
          [
           "steamer"
          ],
          [
           "streamer"
          ],
          [
           null
          ],
          [
           "affiliate"
          ],
          [
           null
          ],
          [
           "steamer"
          ],
          [
           "twitch affiliate"
          ],
          [
           "affiliate content creator"
          ],
          [
           "affiliated streamer"
          ],
          [
           "affiliate"
          ],
          [
           "affiliate"
          ],
          [
           "affiliate"
          ],
          [
           "broadcaster"
          ],
          [
           null
          ],
          [
           "partner"
          ],
          [
           "steamer"
          ],
          [
           "affiliate"
          ],
          [
           "affiliate"
          ],
          [
           "streamer"
          ],
          [
           "streamer"
          ],
          [
           "broadcaster"
          ],
          [
           "twitch affiliate, streamer"
          ],
          [
           "content creator"
          ],
          [
           null
          ]
         ],
         "hovertemplate": "lat=%{lat}<br>lon=%{lon}<br>job_title=%{customdata[0]}<extra></extra>",
         "lat": [
          33.11,
          40.65,
          37.77,
          37.77,
          37.8,
          37.8,
          31.05,
          37.85,
          33.66,
          37.8,
          39.61,
          33.64,
          37.72,
          37.77,
          37.56,
          37.77,
          42.1,
          37.77,
          37.77,
          37.77,
          47.6,
          37.35,
          30.26,
          38.75,
          37.36,
          37.8,
          35.31,
          37.77,
          37.77,
          37.77,
          37.87,
          40.65,
          34.09,
          45.07,
          41.25,
          34.07,
          39.32,
          37.93,
          37.8,
          37.77,
          41.29,
          34.09,
          34.05,
          37.38,
          37.56,
          40.72,
          47.6,
          37.77,
          28.66,
          33.66,
          37.77,
          37.77,
          37.77,
          41.25,
          39.2,
          37.77,
          37.77,
          40.71,
          37.77,
          37.87,
          37.32,
          33.66,
          42.01,
          40.71,
          37.77,
          37.77,
          30.57,
          37.77,
          47.6,
          40.37,
          44.22,
          40.74,
          41.85,
          47.6,
          41.44,
          33.88,
          37.87,
          33.61,
          37.77,
          37.77,
          37.44,
          37.38,
          33.6,
          37.88,
          37.36,
          48.11,
          40.85,
          40.76,
          37.77,
          28.16,
          40.73,
          40.71,
          33.66,
          42.88,
          37.76,
          33.98,
          35.99,
          40.65,
          37.77,
          33.11,
          37.77,
          33.74,
          37.58,
          37.8,
          40.65,
          39.95,
          36.17,
          37.33,
          40.64,
          37.52,
          34.73,
          37.8,
          37.77,
          28.53,
          30.26,
          34.05,
          37.83,
          37.8,
          37.77,
          29.88,
          28.53,
          37.38,
          34.61,
          34.02,
          38.28,
          37.77,
          37.77,
          33.41,
          37.59,
          37.7,
          37.8,
          37.97,
          37.77,
          31.93,
          37.33,
          37.77,
          47.63,
          40.71,
          40.71,
          34.22,
          45.52,
          32.79,
          34.05,
          30.54,
          37.55,
          34.05,
          29.35,
          25.77,
          31.75,
          44.01,
          32.46,
          34.02,
          37.83,
          34.05,
          28.3,
          42.37,
          39.32,
          37.87,
          47.61,
          37.68,
          37.45,
          33.66,
          27.33,
          47.6,
          37.77,
          37.7,
          38.1,
          33.97,
          37.97,
          34.04,
          33.85,
          40.71,
          44.92,
          43.08,
          32.71,
          26.25,
          37.77,
          41.6,
          37.9,
          47.6,
          37.77,
          33.78,
          30.26,
          34.05,
          47.65,
          37.77,
          37.77,
          30.57,
          31.75,
          37.83,
          37.77,
          40.56,
          38.23,
          34.05,
          29.02,
          30.38,
          36.85,
          36.52,
          37.87,
          42.48,
          33.44,
          37.35,
          43.1,
          39.76,
          37.61,
          33.35,
          39.96,
          37.7,
          34.74,
          42.37,
          37.91,
          37.63,
          33.66,
          33.44,
          41.45,
          37.77,
          41.49,
          37.77,
          34.05,
          34.01,
          37.9,
          42.82,
          47.6,
          37.77,
          34.05,
          26.79,
          43.61,
          37.33,
          47.6,
          25.85,
          40.19,
          41.05,
          44.06,
          34.33,
          33.66,
          33.91,
          40.44,
          29.76,
          37.77,
          37.8,
          33.61,
          39.52,
          39.41,
          37.66,
          41.56,
          34.19,
          44.98,
          30.45,
          37.77,
          33.44,
          37.38,
          40.85,
          32.72,
          33.99,
          40.71,
          38.5,
          40.74,
          41.96,
          37.33,
          39.9,
          41.58,
          33.95,
          32.95,
          36.11,
          30.43,
          39.44,
          40.33,
          42,
          33.01,
          35.24,
          38.25,
          35.82,
          42.98,
          35.84,
          28.67,
          47.03,
          30.22,
          40.63,
          41.36,
          37.77,
          42.52,
          38.58,
          36,
          26.7,
          47.64,
          43.03,
          41.48,
          40.29,
          41.73,
          28.53,
          42.06,
          41.69,
          42.61,
          31.18,
          28.75,
          36.17,
          32.22,
          29.51,
          45.52,
          38.84,
          29.42,
          39.95,
          40.4,
          31.75,
          38.28,
          33.66,
          33.75,
          36.6,
          40.76,
          33.74,
          34.27,
          35.88,
          41.78,
          37.97,
          40.58,
          28.02,
          29.61,
          39.72,
          39.65,
          40.69,
          39.71,
          26.23,
          41.9,
          40.85,
          33.55,
          39.77,
          40.04,
          29.42,
          36.17,
          46.66,
          31.08,
          38.04,
          30.64,
          40.03,
          36.74,
          30.27,
          33.3,
          40.56,
          43.96,
          36.15,
          38.32,
          27.94,
          43.01,
          40.03,
          42.29,
          47.25,
          42.2,
          41.43,
          33.95,
          44.6,
          32.54,
          40,
          38.33,
          39.81,
          39.76,
          42.41,
          38.66,
          28.9,
          39.33,
          36.52,
          41.34,
          39.48,
          44.82,
          28.8,
          36.03,
          30.28,
          40.25,
          29.76,
          34.95,
          30.33,
          39.95,
          32.72,
          28.53,
          35.05,
          39.61,
          29.98,
          42.4,
          38.83,
          43.12,
          37.8,
          29.76,
          36.17,
          33.9,
          27.63,
          40.75,
          36.19,
          44.98,
          36.94,
          45.01,
          37.55,
          40.11,
          40.25,
          37.21,
          32.52,
          39.16,
          38.96,
          41.34,
          39.36,
          44.94
         ],
         "lon": [
          -117.08,
          -73.95,
          -122.41,
          -122.41,
          -122.26,
          -122.26,
          -97.46,
          -122.48,
          -117.82,
          -122.26,
          -105.01,
          -117.6,
          -122.15,
          -122.41,
          -122.32,
          -122.41,
          -86.48,
          -122.41,
          -122.41,
          -122.41,
          -122.33,
          -121.95,
          -97.74,
          -121.28,
          -122.03,
          -122.26,
          -120.83,
          -122.41,
          -122.41,
          -122.41,
          -122.27,
          -73.95,
          -118.36,
          -93.14,
          -95.94,
          -84.29,
          -120.18,
          -122.34,
          -122.26,
          -122.41,
          -89.03,
          -118.36,
          -118.24,
          -122.08,
          -122.32,
          -74.07,
          -122.33,
          -122.41,
          -81.2,
          -117.82,
          -122.41,
          -122.41,
          -122.41,
          -95.93,
          -85.92,
          -122.41,
          -122.41,
          -74,
          -122.41,
          -122.27,
          -122.03,
          -117.82,
          -87.84,
          -74,
          -122.41,
          -122.41,
          -97.85,
          -122.41,
          -122.33,
          -75.29,
          -88.47,
          -73.94,
          -87.65,
          -122.33,
          -74.42,
          -118.3,
          -122.27,
          -117.71,
          -122.41,
          -122.41,
          -122.14,
          -122.08,
          -117.67,
          -122.11,
          -122.03,
          -122.75,
          -73.97,
          -111.89,
          -122.41,
          -81.6,
          -74.17,
          -74,
          -117.82,
          -78.87,
          -122.24,
          -118.45,
          -78.89,
          -73.95,
          -122.41,
          -117.08,
          -122.41,
          -117.86,
          -122.36,
          -122.26,
          -73.95,
          -75.16,
          -115.13,
          -121.89,
          -73.67,
          -122.27,
          -86.58,
          -122.26,
          -122.41,
          -81.37,
          -97.74,
          -118.24,
          -122.12,
          -122.26,
          -122.41,
          -97.94,
          -81.37,
          -122.08,
          -120.07,
          -84.36,
          -85.82,
          -122.41,
          -122.41,
          -111.9,
          -122.38,
          -122.46,
          -122.26,
          -122.03,
          -122.41,
          -81.3,
          -121.89,
          -122.41,
          -122.21,
          -74,
          -74,
          -118.53,
          -122.67,
          -116.96,
          -118.24,
          -97.54,
          -77.46,
          -118.24,
          -95.46,
          -80.19,
          -106.48,
          -75.79,
          -84.98,
          -118.39,
          -122.28,
          -118.24,
          -81.41,
          -71.06,
          -76.87,
          -122.27,
          -122.19,
          -122.39,
          -122.18,
          -117.82,
          -82.53,
          -122.33,
          -122.41,
          -122.46,
          -122.56,
          -118.42,
          -87.55,
          -118.52,
          -118.06,
          -74,
          -93.46,
          -77.19,
          -117.15,
          -80.17,
          -122.41,
          -93.6,
          -122.54,
          -122.33,
          -122.41,
          -117.85,
          -97.74,
          -118.24,
          -117.42,
          -122.41,
          -122.41,
          -97.85,
          -106.48,
          -122.28,
          -121.97,
          -74.13,
          -122.63,
          -118.24,
          -81.3,
          -95.69,
          -75.97,
          -87.35,
          -122.27,
          -83.1,
          -112.07,
          -121.95,
          -76.21,
          -86.15,
          -122.48,
          -111.78,
          -82.99,
          -121.93,
          -87.66,
          -87.9,
          -122.31,
          -122.41,
          -117.99,
          -112.07,
          -83.48,
          -122.41,
          -81.69,
          -122.41,
          -118.24,
          -118.49,
          -122.06,
          -73.96,
          -122.33,
          -122.41,
          -118.24,
          -80.06,
          -116.2,
          -121.89,
          -122.33,
          -80.27,
          -85.38,
          -73.53,
          -70.39,
          -82.38,
          -117.82,
          -117.9,
          -79.99,
          -95.36,
          -122.41,
          -122.26,
          -112.32,
          -119.81,
          -77.41,
          -122.07,
          -72.65,
          -119.17,
          -93.26,
          -91.15,
          -121.97,
          -112.07,
          -122.08,
          -73.86,
          -97.32,
          -117.51,
          -74,
          -90.62,
          -73.9,
          -71.67,
          -121.89,
          -75.28,
          -71.92,
          -117.39,
          -117.26,
          -80.07,
          -84.28,
          -75.71,
          -75.92,
          -91.64,
          -80.17,
          -78.35,
          -85.75,
          -78.82,
          -70.94,
          -86.39,
          -81.32,
          -122.82,
          -93.21,
          -80.24,
          -82.1,
          -122.41,
          -70.92,
          -121.49,
          -104.7,
          -80.23,
          -117.59,
          -87.9,
          -73.21,
          -111.69,
          -111.83,
          -81.37,
          -87.93,
          -88.06,
          -71.23,
          -94.78,
          -81.31,
          -115.13,
          -110.92,
          -98.31,
          -122.67,
          -77.42,
          -98.49,
          -75.16,
          -82.81,
          -106.48,
          -85.82,
          -117.58,
          -118,
          -83.71,
          -111.89,
          -116.97,
          -119.29,
          -84.5,
          -88.14,
          -122.56,
          -105.08,
          -81.73,
          -95.53,
          -104.83,
          -75.32,
          -89.58,
          -82.59,
          -80.12,
          12.48,
          -73.15,
          -117.21,
          -74.86,
          -86,
          -98.49,
          -115.13,
          -122.96,
          -97.65,
          -122.15,
          -91.15,
          -75.55,
          -119.77,
          -89.78,
          -111.84,
          -77.39,
          -91.25,
          -95.99,
          -85.47,
          -82.45,
          -83.68,
          -83.15,
          -85.58,
          -122.44,
          -85.58,
          -71.5,
          -118.21,
          -73,
          -97.32,
          -76.84,
          -87.34,
          -74.98,
          -86.15,
          -88.07,
          -90.57,
          -81.26,
          -82.98,
          -87.35,
          -72.13,
          -80.14,
          -89.59,
          -97,
          -114.98,
          -82.12,
          -103.79,
          -95.36,
          -120.43,
          -81.65,
          -75.16,
          -97.32,
          -81.37,
          -78.87,
          -105.01,
          -90.15,
          -71.01,
          -104.82,
          -123.41,
          -122.26,
          -95.36,
          -115.13,
          -80.87,
          -80.39,
          -75.26,
          -115.11,
          -93.26,
          -82.46,
          -93.45,
          -77.46,
          -76.71,
          -75.46,
          -93.29,
          -93.75,
          -119.76,
          -76.87,
          -72.03,
          -76.45,
          -123.03
         ],
         "name": "",
         "radius": 10,
         "subplot": "mapbox",
         "type": "densitymapbox"
        },
        {
         "colorscale": [
          [
           0,
           "rgb(255,245,240)"
          ],
          [
           0.125,
           "rgb(254,224,210)"
          ],
          [
           0.25,
           "rgb(252,187,161)"
          ],
          [
           0.375,
           "rgb(252,146,114)"
          ],
          [
           0.5,
           "rgb(251,106,74)"
          ],
          [
           0.625,
           "rgb(239,59,44)"
          ],
          [
           0.75,
           "rgb(203,24,29)"
          ],
          [
           0.875,
           "rgb(165,15,21)"
          ],
          [
           1,
           "rgb(103,0,13)"
          ]
         ],
         "hovertext": "company HQ",
         "lat": [
          37.77
         ],
         "lon": [
          -122.41
         ],
         "radius": 15,
         "type": "densitymapbox"
        }
       ],
       "layout": {
        "coloraxis": {
         "colorscale": [
          [
           0,
           "#440154"
          ],
          [
           0.1111111111111111,
           "#482878"
          ],
          [
           0.2222222222222222,
           "#3e4989"
          ],
          [
           0.3333333333333333,
           "#31688e"
          ],
          [
           0.4444444444444444,
           "#26828e"
          ],
          [
           0.5555555555555556,
           "#1f9e89"
          ],
          [
           0.6666666666666666,
           "#35b779"
          ],
          [
           0.7777777777777778,
           "#6ece58"
          ],
          [
           0.8888888888888888,
           "#b5de2b"
          ],
          [
           1,
           "#fde725"
          ]
         ]
        },
        "legend": {
         "tracegroupgap": 0
        },
        "mapbox": {
         "accesstoken": "pk.eyJ1IjoidHJhY3ljaGFybGVzMTA4IiwiYSI6ImNsMjJmdmUzajFmeXcza3BkOXgwOWZoNW4ifQ.bFv6klpNU8XWRbEJ0zk1Dw",
         "center": {
          "lat": 37.36245614035092,
          "lon": -101.76691729323312
         },
         "domain": {
          "x": [
           0,
           1
          ],
          "y": [
           0,
           1
          ]
         },
         "style": "carto-positron",
         "zoom": 3
        },
        "margin": {
         "t": 60
        },
        "template": {
         "data": {
          "bar": [
           {
            "error_x": {
             "color": "#2a3f5f"
            },
            "error_y": {
             "color": "#2a3f5f"
            },
            "marker": {
             "line": {
              "color": "#E5ECF6",
              "width": 0.5
             },
             "pattern": {
              "fillmode": "overlay",
              "size": 10,
              "solidity": 0.2
             }
            },
            "type": "bar"
           }
          ],
          "barpolar": [
           {
            "marker": {
             "line": {
              "color": "#E5ECF6",
              "width": 0.5
             },
             "pattern": {
              "fillmode": "overlay",
              "size": 10,
              "solidity": 0.2
             }
            },
            "type": "barpolar"
           }
          ],
          "carpet": [
           {
            "aaxis": {
             "endlinecolor": "#2a3f5f",
             "gridcolor": "white",
             "linecolor": "white",
             "minorgridcolor": "white",
             "startlinecolor": "#2a3f5f"
            },
            "baxis": {
             "endlinecolor": "#2a3f5f",
             "gridcolor": "white",
             "linecolor": "white",
             "minorgridcolor": "white",
             "startlinecolor": "#2a3f5f"
            },
            "type": "carpet"
           }
          ],
          "choropleth": [
           {
            "colorbar": {
             "outlinewidth": 0,
             "ticks": ""
            },
            "type": "choropleth"
           }
          ],
          "contour": [
           {
            "colorbar": {
             "outlinewidth": 0,
             "ticks": ""
            },
            "colorscale": [
             [
              0,
              "#0d0887"
             ],
             [
              0.1111111111111111,
              "#46039f"
             ],
             [
              0.2222222222222222,
              "#7201a8"
             ],
             [
              0.3333333333333333,
              "#9c179e"
             ],
             [
              0.4444444444444444,
              "#bd3786"
             ],
             [
              0.5555555555555556,
              "#d8576b"
             ],
             [
              0.6666666666666666,
              "#ed7953"
             ],
             [
              0.7777777777777778,
              "#fb9f3a"
             ],
             [
              0.8888888888888888,
              "#fdca26"
             ],
             [
              1,
              "#f0f921"
             ]
            ],
            "type": "contour"
           }
          ],
          "contourcarpet": [
           {
            "colorbar": {
             "outlinewidth": 0,
             "ticks": ""
            },
            "type": "contourcarpet"
           }
          ],
          "heatmap": [
           {
            "colorbar": {
             "outlinewidth": 0,
             "ticks": ""
            },
            "colorscale": [
             [
              0,
              "#0d0887"
             ],
             [
              0.1111111111111111,
              "#46039f"
             ],
             [
              0.2222222222222222,
              "#7201a8"
             ],
             [
              0.3333333333333333,
              "#9c179e"
             ],
             [
              0.4444444444444444,
              "#bd3786"
             ],
             [
              0.5555555555555556,
              "#d8576b"
             ],
             [
              0.6666666666666666,
              "#ed7953"
             ],
             [
              0.7777777777777778,
              "#fb9f3a"
             ],
             [
              0.8888888888888888,
              "#fdca26"
             ],
             [
              1,
              "#f0f921"
             ]
            ],
            "type": "heatmap"
           }
          ],
          "heatmapgl": [
           {
            "colorbar": {
             "outlinewidth": 0,
             "ticks": ""
            },
            "colorscale": [
             [
              0,
              "#0d0887"
             ],
             [
              0.1111111111111111,
              "#46039f"
             ],
             [
              0.2222222222222222,
              "#7201a8"
             ],
             [
              0.3333333333333333,
              "#9c179e"
             ],
             [
              0.4444444444444444,
              "#bd3786"
             ],
             [
              0.5555555555555556,
              "#d8576b"
             ],
             [
              0.6666666666666666,
              "#ed7953"
             ],
             [
              0.7777777777777778,
              "#fb9f3a"
             ],
             [
              0.8888888888888888,
              "#fdca26"
             ],
             [
              1,
              "#f0f921"
             ]
            ],
            "type": "heatmapgl"
           }
          ],
          "histogram": [
           {
            "marker": {
             "pattern": {
              "fillmode": "overlay",
              "size": 10,
              "solidity": 0.2
             }
            },
            "type": "histogram"
           }
          ],
          "histogram2d": [
           {
            "colorbar": {
             "outlinewidth": 0,
             "ticks": ""
            },
            "colorscale": [
             [
              0,
              "#0d0887"
             ],
             [
              0.1111111111111111,
              "#46039f"
             ],
             [
              0.2222222222222222,
              "#7201a8"
             ],
             [
              0.3333333333333333,
              "#9c179e"
             ],
             [
              0.4444444444444444,
              "#bd3786"
             ],
             [
              0.5555555555555556,
              "#d8576b"
             ],
             [
              0.6666666666666666,
              "#ed7953"
             ],
             [
              0.7777777777777778,
              "#fb9f3a"
             ],
             [
              0.8888888888888888,
              "#fdca26"
             ],
             [
              1,
              "#f0f921"
             ]
            ],
            "type": "histogram2d"
           }
          ],
          "histogram2dcontour": [
           {
            "colorbar": {
             "outlinewidth": 0,
             "ticks": ""
            },
            "colorscale": [
             [
              0,
              "#0d0887"
             ],
             [
              0.1111111111111111,
              "#46039f"
             ],
             [
              0.2222222222222222,
              "#7201a8"
             ],
             [
              0.3333333333333333,
              "#9c179e"
             ],
             [
              0.4444444444444444,
              "#bd3786"
             ],
             [
              0.5555555555555556,
              "#d8576b"
             ],
             [
              0.6666666666666666,
              "#ed7953"
             ],
             [
              0.7777777777777778,
              "#fb9f3a"
             ],
             [
              0.8888888888888888,
              "#fdca26"
             ],
             [
              1,
              "#f0f921"
             ]
            ],
            "type": "histogram2dcontour"
           }
          ],
          "mesh3d": [
           {
            "colorbar": {
             "outlinewidth": 0,
             "ticks": ""
            },
            "type": "mesh3d"
           }
          ],
          "parcoords": [
           {
            "line": {
             "colorbar": {
              "outlinewidth": 0,
              "ticks": ""
             }
            },
            "type": "parcoords"
           }
          ],
          "pie": [
           {
            "automargin": true,
            "type": "pie"
           }
          ],
          "scatter": [
           {
            "marker": {
             "colorbar": {
              "outlinewidth": 0,
              "ticks": ""
             }
            },
            "type": "scatter"
           }
          ],
          "scatter3d": [
           {
            "line": {
             "colorbar": {
              "outlinewidth": 0,
              "ticks": ""
             }
            },
            "marker": {
             "colorbar": {
              "outlinewidth": 0,
              "ticks": ""
             }
            },
            "type": "scatter3d"
           }
          ],
          "scattercarpet": [
           {
            "marker": {
             "colorbar": {
              "outlinewidth": 0,
              "ticks": ""
             }
            },
            "type": "scattercarpet"
           }
          ],
          "scattergeo": [
           {
            "marker": {
             "colorbar": {
              "outlinewidth": 0,
              "ticks": ""
             }
            },
            "type": "scattergeo"
           }
          ],
          "scattergl": [
           {
            "marker": {
             "colorbar": {
              "outlinewidth": 0,
              "ticks": ""
             }
            },
            "type": "scattergl"
           }
          ],
          "scattermapbox": [
           {
            "marker": {
             "colorbar": {
              "outlinewidth": 0,
              "ticks": ""
             }
            },
            "type": "scattermapbox"
           }
          ],
          "scatterpolar": [
           {
            "marker": {
             "colorbar": {
              "outlinewidth": 0,
              "ticks": ""
             }
            },
            "type": "scatterpolar"
           }
          ],
          "scatterpolargl": [
           {
            "marker": {
             "colorbar": {
              "outlinewidth": 0,
              "ticks": ""
             }
            },
            "type": "scatterpolargl"
           }
          ],
          "scatterternary": [
           {
            "marker": {
             "colorbar": {
              "outlinewidth": 0,
              "ticks": ""
             }
            },
            "type": "scatterternary"
           }
          ],
          "surface": [
           {
            "colorbar": {
             "outlinewidth": 0,
             "ticks": ""
            },
            "colorscale": [
             [
              0,
              "#0d0887"
             ],
             [
              0.1111111111111111,
              "#46039f"
             ],
             [
              0.2222222222222222,
              "#7201a8"
             ],
             [
              0.3333333333333333,
              "#9c179e"
             ],
             [
              0.4444444444444444,
              "#bd3786"
             ],
             [
              0.5555555555555556,
              "#d8576b"
             ],
             [
              0.6666666666666666,
              "#ed7953"
             ],
             [
              0.7777777777777778,
              "#fb9f3a"
             ],
             [
              0.8888888888888888,
              "#fdca26"
             ],
             [
              1,
              "#f0f921"
             ]
            ],
            "type": "surface"
           }
          ],
          "table": [
           {
            "cells": {
             "fill": {
              "color": "#EBF0F8"
             },
             "line": {
              "color": "white"
             }
            },
            "header": {
             "fill": {
              "color": "#C8D4E3"
             },
             "line": {
              "color": "white"
             }
            },
            "type": "table"
           }
          ]
         },
         "layout": {
          "annotationdefaults": {
           "arrowcolor": "#2a3f5f",
           "arrowhead": 0,
           "arrowwidth": 1
          },
          "autotypenumbers": "strict",
          "coloraxis": {
           "colorbar": {
            "outlinewidth": 0,
            "ticks": ""
           }
          },
          "colorscale": {
           "diverging": [
            [
             0,
             "#8e0152"
            ],
            [
             0.1,
             "#c51b7d"
            ],
            [
             0.2,
             "#de77ae"
            ],
            [
             0.3,
             "#f1b6da"
            ],
            [
             0.4,
             "#fde0ef"
            ],
            [
             0.5,
             "#f7f7f7"
            ],
            [
             0.6,
             "#e6f5d0"
            ],
            [
             0.7,
             "#b8e186"
            ],
            [
             0.8,
             "#7fbc41"
            ],
            [
             0.9,
             "#4d9221"
            ],
            [
             1,
             "#276419"
            ]
           ],
           "sequential": [
            [
             0,
             "#0d0887"
            ],
            [
             0.1111111111111111,
             "#46039f"
            ],
            [
             0.2222222222222222,
             "#7201a8"
            ],
            [
             0.3333333333333333,
             "#9c179e"
            ],
            [
             0.4444444444444444,
             "#bd3786"
            ],
            [
             0.5555555555555556,
             "#d8576b"
            ],
            [
             0.6666666666666666,
             "#ed7953"
            ],
            [
             0.7777777777777778,
             "#fb9f3a"
            ],
            [
             0.8888888888888888,
             "#fdca26"
            ],
            [
             1,
             "#f0f921"
            ]
           ],
           "sequentialminus": [
            [
             0,
             "#0d0887"
            ],
            [
             0.1111111111111111,
             "#46039f"
            ],
            [
             0.2222222222222222,
             "#7201a8"
            ],
            [
             0.3333333333333333,
             "#9c179e"
            ],
            [
             0.4444444444444444,
             "#bd3786"
            ],
            [
             0.5555555555555556,
             "#d8576b"
            ],
            [
             0.6666666666666666,
             "#ed7953"
            ],
            [
             0.7777777777777778,
             "#fb9f3a"
            ],
            [
             0.8888888888888888,
             "#fdca26"
            ],
            [
             1,
             "#f0f921"
            ]
           ]
          },
          "colorway": [
           "#636efa",
           "#EF553B",
           "#00cc96",
           "#ab63fa",
           "#FFA15A",
           "#19d3f3",
           "#FF6692",
           "#B6E880",
           "#FF97FF",
           "#FECB52"
          ],
          "font": {
           "color": "#2a3f5f"
          },
          "geo": {
           "bgcolor": "white",
           "lakecolor": "white",
           "landcolor": "#E5ECF6",
           "showlakes": true,
           "showland": true,
           "subunitcolor": "white"
          },
          "hoverlabel": {
           "align": "left"
          },
          "hovermode": "closest",
          "mapbox": {
           "style": "light"
          },
          "paper_bgcolor": "white",
          "plot_bgcolor": "#E5ECF6",
          "polar": {
           "angularaxis": {
            "gridcolor": "white",
            "linecolor": "white",
            "ticks": ""
           },
           "bgcolor": "#E5ECF6",
           "radialaxis": {
            "gridcolor": "white",
            "linecolor": "white",
            "ticks": ""
           }
          },
          "scene": {
           "xaxis": {
            "backgroundcolor": "#E5ECF6",
            "gridcolor": "white",
            "gridwidth": 2,
            "linecolor": "white",
            "showbackground": true,
            "ticks": "",
            "zerolinecolor": "white"
           },
           "yaxis": {
            "backgroundcolor": "#E5ECF6",
            "gridcolor": "white",
            "gridwidth": 2,
            "linecolor": "white",
            "showbackground": true,
            "ticks": "",
            "zerolinecolor": "white"
           },
           "zaxis": {
            "backgroundcolor": "#E5ECF6",
            "gridcolor": "white",
            "gridwidth": 2,
            "linecolor": "white",
            "showbackground": true,
            "ticks": "",
            "zerolinecolor": "white"
           }
          },
          "shapedefaults": {
           "line": {
            "color": "#2a3f5f"
           }
          },
          "ternary": {
           "aaxis": {
            "gridcolor": "white",
            "linecolor": "white",
            "ticks": ""
           },
           "baxis": {
            "gridcolor": "white",
            "linecolor": "white",
            "ticks": ""
           },
           "bgcolor": "#E5ECF6",
           "caxis": {
            "gridcolor": "white",
            "linecolor": "white",
            "ticks": ""
           }
          },
          "title": {
           "x": 0.05
          },
          "xaxis": {
           "automargin": true,
           "gridcolor": "white",
           "linecolor": "white",
           "ticks": "",
           "title": {
            "standoff": 15
           },
           "zerolinecolor": "white",
           "zerolinewidth": 2
          },
          "yaxis": {
           "automargin": true,
           "gridcolor": "white",
           "linecolor": "white",
           "ticks": "",
           "title": {
            "standoff": 15
           },
           "zerolinecolor": "white",
           "zerolinewidth": 2
          }
         }
        }
       }
      },
      "text/html": [
       "<div>                            <div id=\"fedced7f-bd3d-4f7d-aad9-3ce9e6f7d18a\" class=\"plotly-graph-div\" style=\"height:525px; width:100%;\"></div>            <script type=\"text/javascript\">                require([\"plotly\"], function(Plotly) {                    window.PLOTLYENV=window.PLOTLYENV || {};                                    if (document.getElementById(\"fedced7f-bd3d-4f7d-aad9-3ce9e6f7d18a\")) {                    Plotly.newPlot(                        \"fedced7f-bd3d-4f7d-aad9-3ce9e6f7d18a\",                        [{\"coloraxis\":\"coloraxis\",\"customdata\":[[\"event director\"],[\"sales development manager\"],[\"principal software engineer\"],[\"vice president, research and data\"],[\"technical operations lead, adops\"],[\"birds\"],[\"partner\"],[\"director of localization\"],[\"lead automation engineer\"],[\"program manager, ad products\"],[\"senior network capacity engineer\"],[\"director of engineering, browser clients\"],[\"lead web platform engineer\"],[\"head of commerce machine learning\"],[\"senior software engineer\"],[\"engineering manager @ twitch\"],[\"senior engineering manager\"],[\"senior vice president, revenue\"],[\"creative director\"],[\"director, advanced media services\"],[\"senior program manager - monetization strategy and operations\"],[\"campaign manager\"],[\"senior devops engineer\"],[\"qa analyst\"],[\"senior technical program manager\"],[\"senior director, global head of strategic programs and culture\"],[\"lead software engineer\"],[\"vice president of communications @ twitch\"],[\"vice president, strategy and analytics\"],[\"senior manager, early career talent\"],[\"senior applied scientist\"],[\"salesforce administrator\"],[\"director business strategy\"],[\"independent affiliate\"],[\"senior software engineer\"],[\"senior product manager, technical\"],[\"president twitch interactive, leading product, engineering and go to market functions\"],[\"software engineering manager\"],[\"director of technical program management\"],[\"senior people business partner\"],[\"senior software engineer\"],[\"senior label relations lead\"],[\"head of music product marketing\"],[\"recruiting manager\"],[\"senior software engineer\"],[\"developer advocacy lead\"],[\"senior manager\"],[\"engineering manager\"],[\"broadcast production manager\"],[\"senior software development engineer\"],[\"senior data scientist, analytics\"],[\"director, original content business operations\"],[\"ios engineer\"],[\"director of creator development\"],[\"full time streamer\"],[\"software engineer\"],[\"software engineer\"],[\"product marketing manager, creators\"],[\"senior analyst\"],[\"director, client strategy\"],[\"software engineering manager\"],[\"backend software engineer\"],[\"director - client strategy\"],[\"production lead - u.s.\"],[\"director and leader, developer hub and insights\"],[\"senior strategy and operations manager\"],[\"partnership associate\"],[\"senior manager of audience insights manager\"],[\"user experience designer\"],[\"independent affiliate\"],[\"twitch content creator\"],[\"global manager of analytics and insights\"],[\"director, client strategy\"],[\"senior software development engineer\"],[\"senior business development manager, alliances and corporate development\"],[\"software engineer\"],[\"head of music licensing and label relations\"],[\"senior director of engineering, creator tools\"],[\"executive coach | operator | advisor\"],[\"senior release manager\"],[\"senior data scientist, ad product\"],[\"video devops engineer\"],[\"senior systems developer\"],[\"head of operations for content, bd and partnerships\"],[\"director of tpm and pmo at twitch's video platform and interactive video service\"],[\"senior product manager\"],[\"head of esports and content production, executive producer twitch rivals\"],[\"technical program manager\"],[\"senior accounting manager\"],[\"twitch partner\"],[\"head of dei marketing\"],[\"strategy and revenue operations\"],[\"front end developer\"],[\"platform engineer\"],[\"esports production operations manager\"],[\"senior software engineer\"],[\"security engineer\"],[\"principal software engineer\"],[\"software engineer\"],[\"senior technical program manager\"],[\"program manager\"],[\"information security engineer\"],[\"salesforce technical architect\"],[\"product marketing and community strategy\"],[\"director, client strategy\"],[\"twitch affiliate streamer\"],[\"esports competition manager\"],[\"senior director of advertising finance\"],[\"manager, client success east\"],[\"senior client strategist\"],[\"web developer\"],[\"senior technical program manager\"],[\"tpm\"],[\"affiliated entertainer\"],[\"information technology consultant\"],[\"senior director, content programming\"],[\"ios engineer\"],[\"senior software engineer, aws interactive video service\"],[\"principal product manager - machine learning\"],[\"director of engineering, infrastructure and tools\"],[\"partnered streamer\"],[\"data science manager\"],[\"artist\"],[\"twitch partner\"],[\"content creator\"],[\"growth product\"],[\"senior quantitative researcher\"],[\"senior software engineer\"],[\"engineering manager\"],[\"client success manager\"],[\"vice president, head of finance, strategy and corporate development\"],[\"legal operations manager\"],[\"visual designer\"],[\"entertainer and content creator\"],[\"senior security engineer\"],[\"senior technical program manager\"],[\"manager, executive recruiter\"],[\"director, client strategy\"],[\"director - client strategy\"],[\"director, content acquisition\"],[\"streamer\"],[\"content creator\"],[\"director, client strategy\"],[\"twitch affiliate streamer\"],[\"broadcaster\"],[\"creative strategist\"],[\"streamer\"],[\"senior partner marketing manager\"],[\"content creator and affiliate\"],[\"twitch affiliate\"],[\"affiliate\"],[\"influencer relations manager\"],[\"design manager\"],[\"senior client success manager\"],[\"twitch streamer\"],[\"director, client strategy\"],[\"artist account manager\"],[\"technical writer\"],[\"software engineer\"],[\"software engineer ii\"],[\"senior technical pm and platform product manager\"],[\"software engineer\"],[\"content creator\"],[\"software development engineer\"],[\"senior production manager-events\"],[\"director of community data\"],[\"software development manager\"],[\"engineering manager\"],[\"affiliate streamer\"],[\"senior program manager, new product operations\"],[\"software engineer\"],[\"program activation manager\"],[\"producer and production manager\"],[\"streamer and content creator\"],[\"senior network provisioner\"],[\"broadcaster\"],[\"marketing campaign manager, sports\"],[\"content creator\"],[\"systems engineer\"],[\"software engineer\"],[\"software engineer\"],[\"affiliate broadcaster\"],[\"head of music and sports marketing\"],[\"director, content acquisition\"],[\"safety specialist\"],[\"senior user experience researcher\"],[\"head of strategic partnerships\"],[\"software development engineer\"],[\"freelance creative director\"],[\"senior social strategist\"],[\"talent management program manager\"],[\"director, strategic partnerships\"],[\"full stack engineer\"],[\"embedded producer\"],[\"content creator\"],[\"streamer\"],[\"game content creator - twitch streamer\"],[\"freelance esports and gaming broadcaster for the greater houston area\"],[\"software engineer\"],[\"content creator\"],[\"senior vice president, growth initiatives\"],[\"director, aws ivs and twitch-video\"],[\"twitch affiliate and community builder\"],[\"twitch affiliate\"],[\"principal pmm @ twitch\"],[\"self employed\"],[\"japan controller\"],[\"software\"],[\"pirate stream queen, affiliate\"],[\"freelance streamer\"],[\"software development engineer\"],[\"business operations specialist, global infrastructure\"],[\"partner\"],[\"twitch affiliate\"],[\"affiliate\"],[\"finance manager\"],[\"twitch afilliate\"],[\"human resources business systems analyst and program lead\"],[\"business development manager, alliances\"],[\"senior operations manager\"],[\"senior software engineer technical lead - twitch studio\"],[\"streamer\"],[\"engineer\"],[\"designer\"],[\"director, client strategy\"],[\"broadcaster\"],[\"content creator\"],[\"application engineer\"],[\"software engineer\"],[\"streamer\"],[\"vice president, monetization\"],[\"broadcaster\"],[\"entertainer\"],[null],[\"technical program manager\"],[\"entertainer\"],[\"brand manager\"],[\"affiliate\"],[\"customer experience - spanish\"],[\"engineering manager\"],[\"affiliate broadcaster\"],[\"affiliate\"],[\"senior application security engineer\"],[\"contract administrator\"],[\"broadcaster and affiliate\"],[\"software engineer\"],[\"affiliate\"],[\"partnerships, content acquisition and development\"],[\"manager of network engineering\"],[\"broadcaster\"],[\"technical capacity planner\"],[\"twitch moderator\"],[\"affiliate\"],[\"full time streamer\"],[\"broadcaster\"],[\"streamer\"],[\"twitch affiliate\"],[\"streamer\"],[null],[\"content creator\"],[\"affiliate\"],[\"partner\"],[\"affiliate\"],[\"new media content creator\"],[\"streamer\"],[\"streamer\"],[\"affiliate\"],[\"broadcaster\"],[\"affiliate\"],[\"part time streamer\"],[\"twitch streamer\"],[\"steamer\"],[\"affiliate\"],[\"partner\"],[\"content creator\"],[\"affiliate\"],[\"broadcaster\"],[\"streamer\"],[\"twitch.tv and rizzomf\"],[\"software engineer\"],[\"streamer\"],[\"partnerships manager\"],[\"affiliate\"],[\"affiliate\"],[\"digital artist\"],[\"entertainer\"],[\"streamer\"],[\"partner\"],[\"streamer\"],[null],[\"streamer\"],[\"livestreamer\"],[\"affiliate\"],[\"affiliate\"],[\"partner\"],[\"broadcaster\"],[\"affiliate\"],[\"affliate streamer\"],[\"streamer\"],[\"content producer and presenter\"],[\"affiliate\"],[\"affiliate\"],[\"affiliate\"],[\"affiliate\"],[\"steamer\"],[\"twitch streamer\"],[\"affiliate\"],[\"content creator\"],[\"partner\"],[\"affiliate\"],[\"streamer\"],[null],[\"broadcaster\"],[\"streamer\"],[\"live streamer\"],[\"streamer and gamer\"],[\"affiliate\"],[\"partnered streamer\"],[\"pro streamer\"],[\"affiliate\"],[\"affiliate streamer\"],[\"broadcaster\"],[\"guitar god\"],[\"associate, pricing and yield management\"],[\"streamer\"],[\"entertainer\"],[\"broadcaster\"],[\"affiliate\"],[\"broadcaster\"],[\"affiliate\"],[\"front desk associate\"],[\"affiliate\"],[\"partner\"],[\"steamer\"],[\"streamer\"],[\"streamer\"],[\"affiliate\"],[\"affiliate\"],[\"streamer\"],[\"speed runner\"],[\"affiliate\"],[\"gamer\"],[\"steamer\"],[\"live-streamer and content creator\"],[null],[\"affiliate\"],[null],[\"mod\"],[null],[\"partnered streamer\"],[\"entertainer\"],[\"affiliate\"],[\"steamer\"],[\"steamer\"],[\"steamer content creator\"],[\"affiliate\"],[\"affiliate\"],[\"steamer\"],[\"steamer\"],[\"steamer\"],[null],[\"affiliate\"],[\"affiliate\"],[\"partner\"],[\"streamer\"],[\"affiliate\"],[\"steamer\"],[\"partnered streamer\"],[\"steamer\"],[\"broadcaster\"],[\"streamer\"],[\"streamer\"],[\"streamer\"],[\"affiliate\"],[\"affiliate\"],[\"steamer\"],[\"streamer\"],[null],[\"affiliate\"],[null],[\"steamer\"],[\"twitch affiliate\"],[\"affiliate content creator\"],[\"affiliated streamer\"],[\"affiliate\"],[\"affiliate\"],[\"affiliate\"],[\"broadcaster\"],[null],[\"partner\"],[\"steamer\"],[\"affiliate\"],[\"affiliate\"],[\"streamer\"],[\"streamer\"],[\"broadcaster\"],[\"twitch affiliate, streamer\"],[\"content creator\"],[null]],\"hovertemplate\":\"lat=%{lat}<br>lon=%{lon}<br>job_title=%{customdata[0]}<extra></extra>\",\"lat\":[33.11,40.65,37.77,37.77,37.8,37.8,31.05,37.85,33.66,37.8,39.61,33.64,37.72,37.77,37.56,37.77,42.1,37.77,37.77,37.77,47.6,37.35,30.26,38.75,37.36,37.8,35.31,37.77,37.77,37.77,37.87,40.65,34.09,45.07,41.25,34.07,39.32,37.93,37.8,37.77,41.29,34.09,34.05,37.38,37.56,40.72,47.6,37.77,28.66,33.66,37.77,37.77,37.77,41.25,39.2,37.77,37.77,40.71,37.77,37.87,37.32,33.66,42.01,40.71,37.77,37.77,30.57,37.77,47.6,40.37,44.22,40.74,41.85,47.6,41.44,33.88,37.87,33.61,37.77,37.77,37.44,37.38,33.6,37.88,37.36,48.11,40.85,40.76,37.77,28.16,40.73,40.71,33.66,42.88,37.76,33.98,35.99,40.65,37.77,33.11,37.77,33.74,37.58,37.8,40.65,39.95,36.17,37.33,40.64,37.52,34.73,37.8,37.77,28.53,30.26,34.05,37.83,37.8,37.77,29.88,28.53,37.38,34.61,34.02,38.28,37.77,37.77,33.41,37.59,37.7,37.8,37.97,37.77,31.93,37.33,37.77,47.63,40.71,40.71,34.22,45.52,32.79,34.05,30.54,37.55,34.05,29.35,25.77,31.75,44.01,32.46,34.02,37.83,34.05,28.3,42.37,39.32,37.87,47.61,37.68,37.45,33.66,27.33,47.6,37.77,37.7,38.1,33.97,37.97,34.04,33.85,40.71,44.92,43.08,32.71,26.25,37.77,41.6,37.9,47.6,37.77,33.78,30.26,34.05,47.65,37.77,37.77,30.57,31.75,37.83,37.77,40.56,38.23,34.05,29.02,30.38,36.85,36.52,37.87,42.48,33.44,37.35,43.1,39.76,37.61,33.35,39.96,37.7,34.74,42.37,37.91,37.63,33.66,33.44,41.45,37.77,41.49,37.77,34.05,34.01,37.9,42.82,47.6,37.77,34.05,26.79,43.61,37.33,47.6,25.85,40.19,41.05,44.06,34.33,33.66,33.91,40.44,29.76,37.77,37.8,33.61,39.52,39.41,37.66,41.56,34.19,44.98,30.45,37.77,33.44,37.38,40.85,32.72,33.99,40.71,38.5,40.74,41.96,37.33,39.9,41.58,33.95,32.95,36.11,30.43,39.44,40.33,42.0,33.01,35.24,38.25,35.82,42.98,35.84,28.67,47.03,30.22,40.63,41.36,37.77,42.52,38.58,36.0,26.7,47.64,43.03,41.48,40.29,41.73,28.53,42.06,41.69,42.61,31.18,28.75,36.17,32.22,29.51,45.52,38.84,29.42,39.95,40.4,31.75,38.28,33.66,33.75,36.6,40.76,33.74,34.27,35.88,41.78,37.97,40.58,28.02,29.61,39.72,39.65,40.69,39.71,26.23,41.9,40.85,33.55,39.77,40.04,29.42,36.17,46.66,31.08,38.04,30.64,40.03,36.74,30.27,33.3,40.56,43.96,36.15,38.32,27.94,43.01,40.03,42.29,47.25,42.2,41.43,33.95,44.6,32.54,40.0,38.33,39.81,39.76,42.41,38.66,28.9,39.33,36.52,41.34,39.48,44.82,28.8,36.03,30.28,40.25,29.76,34.95,30.33,39.95,32.72,28.53,35.05,39.61,29.98,42.4,38.83,43.12,37.8,29.76,36.17,33.9,27.63,40.75,36.19,44.98,36.94,45.01,37.55,40.11,40.25,37.21,32.52,39.16,38.96,41.34,39.36,44.94],\"lon\":[-117.08,-73.95,-122.41,-122.41,-122.26,-122.26,-97.46,-122.48,-117.82,-122.26,-105.01,-117.6,-122.15,-122.41,-122.32,-122.41,-86.48,-122.41,-122.41,-122.41,-122.33,-121.95,-97.74,-121.28,-122.03,-122.26,-120.83,-122.41,-122.41,-122.41,-122.27,-73.95,-118.36,-93.14,-95.94,-84.29,-120.18,-122.34,-122.26,-122.41,-89.03,-118.36,-118.24,-122.08,-122.32,-74.07,-122.33,-122.41,-81.2,-117.82,-122.41,-122.41,-122.41,-95.93,-85.92,-122.41,-122.41,-74.0,-122.41,-122.27,-122.03,-117.82,-87.84,-74.0,-122.41,-122.41,-97.85,-122.41,-122.33,-75.29,-88.47,-73.94,-87.65,-122.33,-74.42,-118.3,-122.27,-117.71,-122.41,-122.41,-122.14,-122.08,-117.67,-122.11,-122.03,-122.75,-73.97,-111.89,-122.41,-81.6,-74.17,-74.0,-117.82,-78.87,-122.24,-118.45,-78.89,-73.95,-122.41,-117.08,-122.41,-117.86,-122.36,-122.26,-73.95,-75.16,-115.13,-121.89,-73.67,-122.27,-86.58,-122.26,-122.41,-81.37,-97.74,-118.24,-122.12,-122.26,-122.41,-97.94,-81.37,-122.08,-120.07,-84.36,-85.82,-122.41,-122.41,-111.9,-122.38,-122.46,-122.26,-122.03,-122.41,-81.3,-121.89,-122.41,-122.21,-74.0,-74.0,-118.53,-122.67,-116.96,-118.24,-97.54,-77.46,-118.24,-95.46,-80.19,-106.48,-75.79,-84.98,-118.39,-122.28,-118.24,-81.41,-71.06,-76.87,-122.27,-122.19,-122.39,-122.18,-117.82,-82.53,-122.33,-122.41,-122.46,-122.56,-118.42,-87.55,-118.52,-118.06,-74.0,-93.46,-77.19,-117.15,-80.17,-122.41,-93.6,-122.54,-122.33,-122.41,-117.85,-97.74,-118.24,-117.42,-122.41,-122.41,-97.85,-106.48,-122.28,-121.97,-74.13,-122.63,-118.24,-81.3,-95.69,-75.97,-87.35,-122.27,-83.1,-112.07,-121.95,-76.21,-86.15,-122.48,-111.78,-82.99,-121.93,-87.66,-87.9,-122.31,-122.41,-117.99,-112.07,-83.48,-122.41,-81.69,-122.41,-118.24,-118.49,-122.06,-73.96,-122.33,-122.41,-118.24,-80.06,-116.2,-121.89,-122.33,-80.27,-85.38,-73.53,-70.39,-82.38,-117.82,-117.9,-79.99,-95.36,-122.41,-122.26,-112.32,-119.81,-77.41,-122.07,-72.65,-119.17,-93.26,-91.15,-121.97,-112.07,-122.08,-73.86,-97.32,-117.51,-74.0,-90.62,-73.9,-71.67,-121.89,-75.28,-71.92,-117.39,-117.26,-80.07,-84.28,-75.71,-75.92,-91.64,-80.17,-78.35,-85.75,-78.82,-70.94,-86.39,-81.32,-122.82,-93.21,-80.24,-82.1,-122.41,-70.92,-121.49,-104.7,-80.23,-117.59,-87.9,-73.21,-111.69,-111.83,-81.37,-87.93,-88.06,-71.23,-94.78,-81.31,-115.13,-110.92,-98.31,-122.67,-77.42,-98.49,-75.16,-82.81,-106.48,-85.82,-117.58,-118.0,-83.71,-111.89,-116.97,-119.29,-84.5,-88.14,-122.56,-105.08,-81.73,-95.53,-104.83,-75.32,-89.58,-82.59,-80.12,12.48,-73.15,-117.21,-74.86,-86.0,-98.49,-115.13,-122.96,-97.65,-122.15,-91.15,-75.55,-119.77,-89.78,-111.84,-77.39,-91.25,-95.99,-85.47,-82.45,-83.68,-83.15,-85.58,-122.44,-85.58,-71.5,-118.21,-73.0,-97.32,-76.84,-87.34,-74.98,-86.15,-88.07,-90.57,-81.26,-82.98,-87.35,-72.13,-80.14,-89.59,-97.0,-114.98,-82.12,-103.79,-95.36,-120.43,-81.65,-75.16,-97.32,-81.37,-78.87,-105.01,-90.15,-71.01,-104.82,-123.41,-122.26,-95.36,-115.13,-80.87,-80.39,-75.26,-115.11,-93.26,-82.46,-93.45,-77.46,-76.71,-75.46,-93.29,-93.75,-119.76,-76.87,-72.03,-76.45,-123.03],\"name\":\"\",\"radius\":10,\"subplot\":\"mapbox\",\"type\":\"densitymapbox\"},{\"colorscale\":[[0.0,\"rgb(255,245,240)\"],[0.125,\"rgb(254,224,210)\"],[0.25,\"rgb(252,187,161)\"],[0.375,\"rgb(252,146,114)\"],[0.5,\"rgb(251,106,74)\"],[0.625,\"rgb(239,59,44)\"],[0.75,\"rgb(203,24,29)\"],[0.875,\"rgb(165,15,21)\"],[1.0,\"rgb(103,0,13)\"]],\"hovertext\":\"company HQ\",\"lat\":[37.77],\"lon\":[-122.41],\"radius\":15,\"type\":\"densitymapbox\"}],                        {\"coloraxis\":{\"colorscale\":[[0.0,\"#440154\"],[0.1111111111111111,\"#482878\"],[0.2222222222222222,\"#3e4989\"],[0.3333333333333333,\"#31688e\"],[0.4444444444444444,\"#26828e\"],[0.5555555555555556,\"#1f9e89\"],[0.6666666666666666,\"#35b779\"],[0.7777777777777778,\"#6ece58\"],[0.8888888888888888,\"#b5de2b\"],[1.0,\"#fde725\"]]},\"legend\":{\"tracegroupgap\":0},\"mapbox\":{\"accesstoken\":\"pk.eyJ1IjoidHJhY3ljaGFybGVzMTA4IiwiYSI6ImNsMjJmdmUzajFmeXcza3BkOXgwOWZoNW4ifQ.bFv6klpNU8XWRbEJ0zk1Dw\",\"center\":{\"lat\":37.36245614035092,\"lon\":-101.76691729323312},\"domain\":{\"x\":[0.0,1.0],\"y\":[0.0,1.0]},\"style\":\"carto-positron\",\"zoom\":3},\"margin\":{\"t\":60},\"template\":{\"data\":{\"bar\":[{\"error_x\":{\"color\":\"#2a3f5f\"},\"error_y\":{\"color\":\"#2a3f5f\"},\"marker\":{\"line\":{\"color\":\"#E5ECF6\",\"width\":0.5},\"pattern\":{\"fillmode\":\"overlay\",\"size\":10,\"solidity\":0.2}},\"type\":\"bar\"}],\"barpolar\":[{\"marker\":{\"line\":{\"color\":\"#E5ECF6\",\"width\":0.5},\"pattern\":{\"fillmode\":\"overlay\",\"size\":10,\"solidity\":0.2}},\"type\":\"barpolar\"}],\"carpet\":[{\"aaxis\":{\"endlinecolor\":\"#2a3f5f\",\"gridcolor\":\"white\",\"linecolor\":\"white\",\"minorgridcolor\":\"white\",\"startlinecolor\":\"#2a3f5f\"},\"baxis\":{\"endlinecolor\":\"#2a3f5f\",\"gridcolor\":\"white\",\"linecolor\":\"white\",\"minorgridcolor\":\"white\",\"startlinecolor\":\"#2a3f5f\"},\"type\":\"carpet\"}],\"choropleth\":[{\"colorbar\":{\"outlinewidth\":0,\"ticks\":\"\"},\"type\":\"choropleth\"}],\"contour\":[{\"colorbar\":{\"outlinewidth\":0,\"ticks\":\"\"},\"colorscale\":[[0.0,\"#0d0887\"],[0.1111111111111111,\"#46039f\"],[0.2222222222222222,\"#7201a8\"],[0.3333333333333333,\"#9c179e\"],[0.4444444444444444,\"#bd3786\"],[0.5555555555555556,\"#d8576b\"],[0.6666666666666666,\"#ed7953\"],[0.7777777777777778,\"#fb9f3a\"],[0.8888888888888888,\"#fdca26\"],[1.0,\"#f0f921\"]],\"type\":\"contour\"}],\"contourcarpet\":[{\"colorbar\":{\"outlinewidth\":0,\"ticks\":\"\"},\"type\":\"contourcarpet\"}],\"heatmap\":[{\"colorbar\":{\"outlinewidth\":0,\"ticks\":\"\"},\"colorscale\":[[0.0,\"#0d0887\"],[0.1111111111111111,\"#46039f\"],[0.2222222222222222,\"#7201a8\"],[0.3333333333333333,\"#9c179e\"],[0.4444444444444444,\"#bd3786\"],[0.5555555555555556,\"#d8576b\"],[0.6666666666666666,\"#ed7953\"],[0.7777777777777778,\"#fb9f3a\"],[0.8888888888888888,\"#fdca26\"],[1.0,\"#f0f921\"]],\"type\":\"heatmap\"}],\"heatmapgl\":[{\"colorbar\":{\"outlinewidth\":0,\"ticks\":\"\"},\"colorscale\":[[0.0,\"#0d0887\"],[0.1111111111111111,\"#46039f\"],[0.2222222222222222,\"#7201a8\"],[0.3333333333333333,\"#9c179e\"],[0.4444444444444444,\"#bd3786\"],[0.5555555555555556,\"#d8576b\"],[0.6666666666666666,\"#ed7953\"],[0.7777777777777778,\"#fb9f3a\"],[0.8888888888888888,\"#fdca26\"],[1.0,\"#f0f921\"]],\"type\":\"heatmapgl\"}],\"histogram\":[{\"marker\":{\"pattern\":{\"fillmode\":\"overlay\",\"size\":10,\"solidity\":0.2}},\"type\":\"histogram\"}],\"histogram2d\":[{\"colorbar\":{\"outlinewidth\":0,\"ticks\":\"\"},\"colorscale\":[[0.0,\"#0d0887\"],[0.1111111111111111,\"#46039f\"],[0.2222222222222222,\"#7201a8\"],[0.3333333333333333,\"#9c179e\"],[0.4444444444444444,\"#bd3786\"],[0.5555555555555556,\"#d8576b\"],[0.6666666666666666,\"#ed7953\"],[0.7777777777777778,\"#fb9f3a\"],[0.8888888888888888,\"#fdca26\"],[1.0,\"#f0f921\"]],\"type\":\"histogram2d\"}],\"histogram2dcontour\":[{\"colorbar\":{\"outlinewidth\":0,\"ticks\":\"\"},\"colorscale\":[[0.0,\"#0d0887\"],[0.1111111111111111,\"#46039f\"],[0.2222222222222222,\"#7201a8\"],[0.3333333333333333,\"#9c179e\"],[0.4444444444444444,\"#bd3786\"],[0.5555555555555556,\"#d8576b\"],[0.6666666666666666,\"#ed7953\"],[0.7777777777777778,\"#fb9f3a\"],[0.8888888888888888,\"#fdca26\"],[1.0,\"#f0f921\"]],\"type\":\"histogram2dcontour\"}],\"mesh3d\":[{\"colorbar\":{\"outlinewidth\":0,\"ticks\":\"\"},\"type\":\"mesh3d\"}],\"parcoords\":[{\"line\":{\"colorbar\":{\"outlinewidth\":0,\"ticks\":\"\"}},\"type\":\"parcoords\"}],\"pie\":[{\"automargin\":true,\"type\":\"pie\"}],\"scatter\":[{\"marker\":{\"colorbar\":{\"outlinewidth\":0,\"ticks\":\"\"}},\"type\":\"scatter\"}],\"scatter3d\":[{\"line\":{\"colorbar\":{\"outlinewidth\":0,\"ticks\":\"\"}},\"marker\":{\"colorbar\":{\"outlinewidth\":0,\"ticks\":\"\"}},\"type\":\"scatter3d\"}],\"scattercarpet\":[{\"marker\":{\"colorbar\":{\"outlinewidth\":0,\"ticks\":\"\"}},\"type\":\"scattercarpet\"}],\"scattergeo\":[{\"marker\":{\"colorbar\":{\"outlinewidth\":0,\"ticks\":\"\"}},\"type\":\"scattergeo\"}],\"scattergl\":[{\"marker\":{\"colorbar\":{\"outlinewidth\":0,\"ticks\":\"\"}},\"type\":\"scattergl\"}],\"scattermapbox\":[{\"marker\":{\"colorbar\":{\"outlinewidth\":0,\"ticks\":\"\"}},\"type\":\"scattermapbox\"}],\"scatterpolar\":[{\"marker\":{\"colorbar\":{\"outlinewidth\":0,\"ticks\":\"\"}},\"type\":\"scatterpolar\"}],\"scatterpolargl\":[{\"marker\":{\"colorbar\":{\"outlinewidth\":0,\"ticks\":\"\"}},\"type\":\"scatterpolargl\"}],\"scatterternary\":[{\"marker\":{\"colorbar\":{\"outlinewidth\":0,\"ticks\":\"\"}},\"type\":\"scatterternary\"}],\"surface\":[{\"colorbar\":{\"outlinewidth\":0,\"ticks\":\"\"},\"colorscale\":[[0.0,\"#0d0887\"],[0.1111111111111111,\"#46039f\"],[0.2222222222222222,\"#7201a8\"],[0.3333333333333333,\"#9c179e\"],[0.4444444444444444,\"#bd3786\"],[0.5555555555555556,\"#d8576b\"],[0.6666666666666666,\"#ed7953\"],[0.7777777777777778,\"#fb9f3a\"],[0.8888888888888888,\"#fdca26\"],[1.0,\"#f0f921\"]],\"type\":\"surface\"}],\"table\":[{\"cells\":{\"fill\":{\"color\":\"#EBF0F8\"},\"line\":{\"color\":\"white\"}},\"header\":{\"fill\":{\"color\":\"#C8D4E3\"},\"line\":{\"color\":\"white\"}},\"type\":\"table\"}]},\"layout\":{\"annotationdefaults\":{\"arrowcolor\":\"#2a3f5f\",\"arrowhead\":0,\"arrowwidth\":1},\"autotypenumbers\":\"strict\",\"coloraxis\":{\"colorbar\":{\"outlinewidth\":0,\"ticks\":\"\"}},\"colorscale\":{\"diverging\":[[0,\"#8e0152\"],[0.1,\"#c51b7d\"],[0.2,\"#de77ae\"],[0.3,\"#f1b6da\"],[0.4,\"#fde0ef\"],[0.5,\"#f7f7f7\"],[0.6,\"#e6f5d0\"],[0.7,\"#b8e186\"],[0.8,\"#7fbc41\"],[0.9,\"#4d9221\"],[1,\"#276419\"]],\"sequential\":[[0.0,\"#0d0887\"],[0.1111111111111111,\"#46039f\"],[0.2222222222222222,\"#7201a8\"],[0.3333333333333333,\"#9c179e\"],[0.4444444444444444,\"#bd3786\"],[0.5555555555555556,\"#d8576b\"],[0.6666666666666666,\"#ed7953\"],[0.7777777777777778,\"#fb9f3a\"],[0.8888888888888888,\"#fdca26\"],[1.0,\"#f0f921\"]],\"sequentialminus\":[[0.0,\"#0d0887\"],[0.1111111111111111,\"#46039f\"],[0.2222222222222222,\"#7201a8\"],[0.3333333333333333,\"#9c179e\"],[0.4444444444444444,\"#bd3786\"],[0.5555555555555556,\"#d8576b\"],[0.6666666666666666,\"#ed7953\"],[0.7777777777777778,\"#fb9f3a\"],[0.8888888888888888,\"#fdca26\"],[1.0,\"#f0f921\"]]},\"colorway\":[\"#636efa\",\"#EF553B\",\"#00cc96\",\"#ab63fa\",\"#FFA15A\",\"#19d3f3\",\"#FF6692\",\"#B6E880\",\"#FF97FF\",\"#FECB52\"],\"font\":{\"color\":\"#2a3f5f\"},\"geo\":{\"bgcolor\":\"white\",\"lakecolor\":\"white\",\"landcolor\":\"#E5ECF6\",\"showlakes\":true,\"showland\":true,\"subunitcolor\":\"white\"},\"hoverlabel\":{\"align\":\"left\"},\"hovermode\":\"closest\",\"mapbox\":{\"style\":\"light\"},\"paper_bgcolor\":\"white\",\"plot_bgcolor\":\"#E5ECF6\",\"polar\":{\"angularaxis\":{\"gridcolor\":\"white\",\"linecolor\":\"white\",\"ticks\":\"\"},\"bgcolor\":\"#E5ECF6\",\"radialaxis\":{\"gridcolor\":\"white\",\"linecolor\":\"white\",\"ticks\":\"\"}},\"scene\":{\"xaxis\":{\"backgroundcolor\":\"#E5ECF6\",\"gridcolor\":\"white\",\"gridwidth\":2,\"linecolor\":\"white\",\"showbackground\":true,\"ticks\":\"\",\"zerolinecolor\":\"white\"},\"yaxis\":{\"backgroundcolor\":\"#E5ECF6\",\"gridcolor\":\"white\",\"gridwidth\":2,\"linecolor\":\"white\",\"showbackground\":true,\"ticks\":\"\",\"zerolinecolor\":\"white\"},\"zaxis\":{\"backgroundcolor\":\"#E5ECF6\",\"gridcolor\":\"white\",\"gridwidth\":2,\"linecolor\":\"white\",\"showbackground\":true,\"ticks\":\"\",\"zerolinecolor\":\"white\"}},\"shapedefaults\":{\"line\":{\"color\":\"#2a3f5f\"}},\"ternary\":{\"aaxis\":{\"gridcolor\":\"white\",\"linecolor\":\"white\",\"ticks\":\"\"},\"baxis\":{\"gridcolor\":\"white\",\"linecolor\":\"white\",\"ticks\":\"\"},\"bgcolor\":\"#E5ECF6\",\"caxis\":{\"gridcolor\":\"white\",\"linecolor\":\"white\",\"ticks\":\"\"}},\"title\":{\"x\":0.05},\"xaxis\":{\"automargin\":true,\"gridcolor\":\"white\",\"linecolor\":\"white\",\"ticks\":\"\",\"title\":{\"standoff\":15},\"zerolinecolor\":\"white\",\"zerolinewidth\":2},\"yaxis\":{\"automargin\":true,\"gridcolor\":\"white\",\"linecolor\":\"white\",\"ticks\":\"\",\"title\":{\"standoff\":15},\"zerolinecolor\":\"white\",\"zerolinewidth\":2}}}},                        {\"responsive\": true}                    ).then(function(){\n",
       "                            \n",
       "var gd = document.getElementById('fedced7f-bd3d-4f7d-aad9-3ce9e6f7d18a');\n",
       "var x = new MutationObserver(function (mutations, observer) {{\n",
       "        var display = window.getComputedStyle(gd).display;\n",
       "        if (!display || display === 'none') {{\n",
       "            console.log([gd, 'removed!']);\n",
       "            Plotly.purge(gd);\n",
       "            observer.disconnect();\n",
       "        }}\n",
       "}});\n",
       "\n",
       "// Listen for the removal of the full notebook cells\n",
       "var notebookContainer = gd.closest('#notebook-container');\n",
       "if (notebookContainer) {{\n",
       "    x.observe(notebookContainer, {childList: true});\n",
       "}}\n",
       "\n",
       "// Listen for the clearing of the current output cell\n",
       "var outputEl = gd.closest('.output');\n",
       "if (outputEl) {{\n",
       "    x.observe(outputEl, {childList: true});\n",
       "}}\n",
       "\n",
       "                        })                };                });            </script>        </div>"
      ]
     },
     "metadata": {},
     "output_type": "display_data"
    }
   ],
   "source": [
    "map(\"a79cd2fea39460c9c8f8c66673d30a34a79c59654050e441b63268dcf28186c3\", \"twitch\", -1)"
   ]
  },
  {
   "cell_type": "code",
   "execution_count": null,
   "id": "1fbdde92",
   "metadata": {},
   "outputs": [],
   "source": []
  }
 ],
 "metadata": {
  "kernelspec": {
   "display_name": "Python 3 (ipykernel)",
   "language": "python",
   "name": "python3"
  },
  "language_info": {
   "codemirror_mode": {
    "name": "ipython",
    "version": 3
   },
   "file_extension": ".py",
   "mimetype": "text/x-python",
   "name": "python",
   "nbconvert_exporter": "python",
   "pygments_lexer": "ipython3",
   "version": "3.8.12"
  }
 },
 "nbformat": 4,
 "nbformat_minor": 5
}
